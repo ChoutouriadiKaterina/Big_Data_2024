{
 "cells": [
  {
   "cell_type": "code",
   "execution_count": 58,
   "metadata": {},
   "outputs": [],
   "source": [
    "#import the necessary libraries\n",
    "import pandas as pd\n",
    "import numpy as np\n",
    "import matplotlib.pyplot as plt\n",
    "from scipy.stats import zscore\n",
    "import statistics\n",
    "import seaborn as sns\n",
    "import random\n",
    "import numpy.linalg as la\n",
    "from sklearn.model_selection import train_test_split\n",
    "import plotly.express as px\n",
    "import matplotlib\n",
    "import matplotlib.pyplot as plt\n",
    "from sklearn.metrics.pairwise import cosine_similarity\n",
    "from scipy import sparse\n",
    "from scipy.sparse import csr_matrix"
   ]
  },
  {
   "cell_type": "code",
   "execution_count": 59,
   "metadata": {},
   "outputs": [],
   "source": [
    "### Q1: Understanding the data-Exploration (Exploratory data analysis)"
   ]
  },
  {
   "cell_type": "code",
   "execution_count": 60,
   "metadata": {},
   "outputs": [],
   "source": [
    "#Ensures that any random values generated using the random method will be consistent every time the script runs\n",
    "#https://docs.python.org/3/library/random.html\n",
    "random.seed(42)\n",
    "np.random.seed(42)"
   ]
  },
  {
   "cell_type": "code",
   "execution_count": 61,
   "metadata": {},
   "outputs": [],
   "source": [
    "# Step 1: Load the MovieLens 100k dataset\n",
    "# Load data and label data as dataframe in ways that the user can make sense. Each file was investigated to find the separator\n",
    "#and the labels for the columns\n",
    "ratings = pd.read_csv('/workspaces/Big_Data_2024/ml-100k/u.data', sep='\\t', names=['user_id', 'item_id', 'rating', 'timestamp'])\n",
    "users = pd.read_csv('/workspaces/Big_Data_2024/ml-100k/u.user', sep='|', names=['user_id', 'age', 'gender', 'occupation', 'zip_code'])\n",
    "movies = pd.read_csv('/workspaces/Big_Data_2024/ml-100k/u.item', sep='|', encoding='latin-1', names=['movie_id', 'movie_title', 'release_date', 'video_release_date', 'IMDb_URL'] + [f'genre_{i}' for i in range(19)])\n",
    "occupation= pd.read_csv('/workspaces/Big_Data_2024/ml-100k/u.occupation', sep='|', names=['occupation_name'])\n",
    "infos= pd.read_csv('/workspaces/Big_Data_2024/ml-100k/u.info', sep='|', names=['number', 'info'])\n",
    "genre= pd.read_csv('/workspaces/Big_Data_2024/ml-100k/u.genre', sep='|', names=['movie_type', 'type_id'])\n",
    "test = pd.read_csv('/workspaces/Big_Data_2024/ml-100k/u1.test', sep='\\t', names=['user_id', 'item_id', 'rating', 'timestamp'])\n",
    "training = pd.read_csv('/workspaces/Big_Data_2024/ml-100k/u1.base', sep='\\t', names=['user_id', 'item_id', 'rating', 'timestamp'])"
   ]
  },
  {
   "cell_type": "code",
   "execution_count": 62,
   "metadata": {},
   "outputs": [
    {
     "name": "stdout",
     "output_type": "stream",
     "text": [
      "The datatype per column for movies is:\n",
      "<class 'pandas.core.frame.DataFrame'>\n",
      "RangeIndex: 1682 entries, 0 to 1681\n",
      "Data columns (total 24 columns):\n",
      " #   Column              Non-Null Count  Dtype  \n",
      "---  ------              --------------  -----  \n",
      " 0   movie_id            1682 non-null   int64  \n",
      " 1   movie_title         1682 non-null   object \n",
      " 2   release_date        1681 non-null   object \n",
      " 3   video_release_date  0 non-null      float64\n",
      " 4   IMDb_URL            1679 non-null   object \n",
      " 5   genre_0             1682 non-null   int64  \n",
      " 6   genre_1             1682 non-null   int64  \n",
      " 7   genre_2             1682 non-null   int64  \n",
      " 8   genre_3             1682 non-null   int64  \n",
      " 9   genre_4             1682 non-null   int64  \n",
      " 10  genre_5             1682 non-null   int64  \n",
      " 11  genre_6             1682 non-null   int64  \n",
      " 12  genre_7             1682 non-null   int64  \n",
      " 13  genre_8             1682 non-null   int64  \n",
      " 14  genre_9             1682 non-null   int64  \n",
      " 15  genre_10            1682 non-null   int64  \n",
      " 16  genre_11            1682 non-null   int64  \n",
      " 17  genre_12            1682 non-null   int64  \n",
      " 18  genre_13            1682 non-null   int64  \n",
      " 19  genre_14            1682 non-null   int64  \n",
      " 20  genre_15            1682 non-null   int64  \n",
      " 21  genre_16            1682 non-null   int64  \n",
      " 22  genre_17            1682 non-null   int64  \n",
      " 23  genre_18            1682 non-null   int64  \n",
      "dtypes: float64(1), int64(20), object(3)\n",
      "memory usage: 315.5+ KB\n",
      "\n",
      "The datatype per column for users is:\n",
      "<class 'pandas.core.frame.DataFrame'>\n",
      "RangeIndex: 943 entries, 0 to 942\n",
      "Data columns (total 5 columns):\n",
      " #   Column      Non-Null Count  Dtype \n",
      "---  ------      --------------  ----- \n",
      " 0   user_id     943 non-null    int64 \n",
      " 1   age         943 non-null    int64 \n",
      " 2   gender      943 non-null    object\n",
      " 3   occupation  943 non-null    object\n",
      " 4   zip_code    943 non-null    object\n",
      "dtypes: int64(2), object(3)\n",
      "memory usage: 37.0+ KB\n",
      "\n",
      "The datatype per column for ratings is:\n",
      "<class 'pandas.core.frame.DataFrame'>\n",
      "RangeIndex: 100000 entries, 0 to 99999\n",
      "Data columns (total 4 columns):\n",
      " #   Column     Non-Null Count   Dtype\n",
      "---  ------     --------------   -----\n",
      " 0   user_id    100000 non-null  int64\n",
      " 1   item_id    100000 non-null  int64\n",
      " 2   rating     100000 non-null  int64\n",
      " 3   timestamp  100000 non-null  int64\n",
      "dtypes: int64(4)\n",
      "memory usage: 3.1 MB\n"
     ]
    }
   ],
   "source": [
    "# Check if the datatypes are correct (we wanted to check if the dataset is consistent). \n",
    "# We chose not to proceed with casting/converting columns into a different type in this step.\n",
    "print(\"The datatype per column for movies is:\") \n",
    "movies.info() # e.g. release_date is type object and not date-type\n",
    "print()\n",
    "print(\"The datatype per column for users is:\") \n",
    "users.info()\n",
    "print()\n",
    "print(\"The datatype per column for ratings is:\") \n",
    "ratings.info()"
   ]
  },
  {
   "cell_type": "code",
   "execution_count": 63,
   "metadata": {},
   "outputs": [
    {
     "name": "stdout",
     "output_type": "stream",
     "text": [
      "There are 1686 zero values in movies which it's expected since the column video_release_date has no values.\n",
      "There are 0 zero values in users.\n",
      "There are 0 zero values in ratings.\n"
     ]
    }
   ],
   "source": [
    "# Check for NaN values in the key-data of our dataset.\n",
    "print(\"There are %s zero values in movies which it's expected since the column video_release_date has no values.\" %(movies.isnull().sum().sum()))\n",
    "print(\"There are %s zero values in users.\" %(users.isnull().sum().sum()))\n",
    "print(\"There are %s zero values in ratings.\" %(ratings.isnull().sum().sum()))\n",
    "\n",
    "# We also printed nulls per column as follows (the same result as the previous query but we were intesting to print the NaN values per column).\n",
    "#movies.isnull().sum()\n",
    "#users.isnull().sum()\n",
    "#ratings.isnull().sum() "
   ]
  },
  {
   "cell_type": "code",
   "execution_count": 64,
   "metadata": {},
   "outputs": [
    {
     "name": "stdout",
     "output_type": "stream",
     "text": [
      "There are 0 zero values in ratings.\n",
      "There are 0 zero values in users.\n",
      "There are 0 zero values in movies.\n"
     ]
    }
   ],
   "source": [
    "# Check for duplicates.\n",
    "print(\"There are %s zero values in ratings.\" %(ratings.duplicated().sum()))\n",
    "print(\"There are %s zero values in users.\" % (users.duplicated().sum()))\n",
    "print(\"There are %s zero values in movies.\" % (movies.duplicated().sum()))"
   ]
  },
  {
   "cell_type": "code",
   "execution_count": 65,
   "metadata": {},
   "outputs": [
    {
     "name": "stdout",
     "output_type": "stream",
     "text": [
      "There are 1664 unique movie titles and 18 duplicated titles.\n",
      "Each movie is rated with: [1, 2, 3, 4, 5] value. There is no zero rating.\n"
     ]
    }
   ],
   "source": [
    "# Check unique values for some key-fields.\n",
    "print(\"There are %s unique movie titles and %d duplicated titles.\" %(movies['movie_title'].nunique(), movies['movie_title'].duplicated().sum()))\n",
    "print(\"Each movie is rated with: %s value. There is no zero rating.\" % sorted(map(int, ratings['rating'].unique())))"
   ]
  },
  {
   "cell_type": "code",
   "execution_count": 66,
   "metadata": {},
   "outputs": [
    {
     "name": "stdout",
     "output_type": "stream",
     "text": [
      "Number of ratigs: 100000\n",
      "Number of unique movie_id's: 1682\n",
      "Number of unique users: 943\n",
      "Average number of ratings per user: 106.04\n",
      "Average number of ratings per movie: 59.45\n"
     ]
    }
   ],
   "source": [
    "# How many ratings are in the dataset.\n",
    "n_ratings = len(ratings)\n",
    "#How many movies are in the dataset.\n",
    "n_movies = ratings['item_id'].nunique()\n",
    "#How many users are in the dataset.\n",
    "n_users = ratings['user_id'].nunique()\n",
    "\n",
    "print(\"Number of ratigs: %s\" %(n_ratings))\n",
    "print(\"Number of unique movie_id's: %s\" %(n_movies))\n",
    "print(\"Number of unique users: %s\" %(n_users))\n",
    "print(\"Average number of ratings per user: %s\" %(round(n_ratings/n_users, 2)))\n",
    "print(\"Average number of ratings per movie: %s\" %(round(n_ratings/n_movies, 2)))"
   ]
  },
  {
   "cell_type": "code",
   "execution_count": 67,
   "metadata": {},
   "outputs": [
    {
     "data": {
      "text/plain": [
       "array(['genre_8', 'genre_5', 'genre_1', 'genre_16', 'genre_14', 'genre_2'],\n",
       "      dtype=object)"
      ]
     },
     "execution_count": 67,
     "metadata": {},
     "output_type": "execute_result"
    }
   ],
   "source": [
    "# Let's see the top 6 genres by the total number of movies\n",
    "top6_genre = (movies.iloc[:, 6:-1] # get the genre columns only\n",
    "              .sum() # sum them up\n",
    "              .sort_values(ascending=False) # sort descending\n",
    "              .head(6) # get the first 6\n",
    "              .index.values # get the genre names\n",
    "              )\n",
    "    \n",
    "top6_genre"
   ]
  },
  {
   "cell_type": "code",
   "execution_count": 68,
   "metadata": {},
   "outputs": [
    {
     "data": {
      "image/png": "[encoded data removed]",
      "text/plain": [
       "<Figure size 640x480 with 1 Axes>"
      ]
     },
     "metadata": {},
     "output_type": "display_data"
    }
   ],
   "source": [
    "#Step 2\n",
    "# Basic Descriptive Statistics\n",
    "# Plot number of movies seen by each user\n",
    "user_movie_counts = ratings['user_id'].value_counts().head(25)\n",
    "# head(25) to plot the top 25, because the chart was too crowded, this shows us the top users\n",
    "plt.figure()\n",
    "user_movie_counts.plot(kind='bar')\n",
    "plt.xlabel('User ID')\n",
    "plt.ylabel('Number of Movies Rated')\n",
    "plt.title('Number of Movies Rated by Each User')\n",
    "plt.show()"
   ]
  },
  {
   "cell_type": "code",
   "execution_count": 69,
   "metadata": {},
   "outputs": [
    {
     "data": {
      "image/png": "[encoded data removed]",
      "text/plain": [
       "<Figure size 640x480 with 1 Axes>"
      ]
     },
     "metadata": {},
     "output_type": "display_data"
    }
   ],
   "source": [
    "# Plot the frequency of each rating\n",
    "rating_counts = ratings['rating'].value_counts().sort_index()\n",
    "plt.figure()\n",
    "rating_counts.plot(kind='bar')\n",
    "plt.xlabel('Rating')\n",
    "plt.ylabel('Frequency')\n",
    "plt.title('Frequency of Each Rating')\n",
    "plt.show()"
   ]
  },
  {
   "cell_type": "code",
   "execution_count": 70,
   "metadata": {},
   "outputs": [
    {
     "data": {
      "image/png": "[encoded data removed]",
      "text/plain": [
       "<Figure size 640x480 with 1 Axes>"
      ]
     },
     "metadata": {},
     "output_type": "display_data"
    }
   ],
   "source": [
    "#Να το κάνουμε λίγο πιο όμορφο?(Άξονας x)\n",
    "#Let's check the distribution of movie ratings.\n",
    "sns.countplot(x='rating', data=ratings)\n",
    "plt.title('Distribution of Movie Ratings', fontsize = 14)\n",
    "plt.show()"
   ]
  },
  {
   "cell_type": "code",
   "execution_count": 71,
   "metadata": {},
   "outputs": [
    {
     "name": "stdout",
     "output_type": "stream",
     "text": [
      "            Statistic  Movies Rated by User\n",
      "0                Mean                 106.0\n",
      "1              Median                  65.0\n",
      "2        Top Quartile                 148.0\n",
      "3  Standard Deviation                 100.9\n",
      "4             Minimum                 737.0\n",
      "5             Maximum                  20.0\n",
      "The percentage of users that have rated less than or equal to 257 movies is: 90.67%\n"
     ]
    }
   ],
   "source": [
    "#More descriptive statistics of the data sets, to understand the spread of the data further and make an informed decision\n",
    "#on the outliers\n",
    "\n",
    "# Mean, median, and standard deviation of movies seen by each user\n",
    "#count of the number of time each unique user id appears in column \n",
    "user_movie_counts = ratings['user_id'].value_counts()\n",
    "#statistics of the user movie counts\n",
    "mean_movies_rated = user_movie_counts.mean()\n",
    "median_movies_rated = user_movie_counts.median()\n",
    "std_movies_rated = user_movie_counts.std()\n",
    "Q3_movies_rated = user_movie_counts.quantile(0.75)\n",
    "# Largest (maximum) number of movies rated by a user\n",
    "max_movies_rated = user_movie_counts.max()\n",
    "# Smallest (minimum) number of movies rated by a user\n",
    "min_movies_rated = user_movie_counts.min()\n",
    "\n",
    "# Creating a summary table to visualize the results\n",
    "summary_table = pd.DataFrame({\n",
    "    'Statistic': ['Mean', 'Median', 'Top Quartile','Standard Deviation', 'Minimum', 'Maximum'],\n",
    "    'Movies Rated by User': [mean_movies_rated, median_movies_rated, Q3_movies_rated, std_movies_rated, max_movies_rated, min_movies_rated]\n",
    "})\n",
    "\n",
    "# Display the table\n",
    "print(summary_table.round(1))\n",
    "\n",
    "from scipy.stats import percentileofscore\n",
    "#We want to see what percentage of the values are above 1.5 standard deviations of the mean which is 106 + 151.35. round to nearest whole number\n",
    "value = 257\n",
    "# Calculate the percentile of this value within the distribution of movie counts\n",
    "percentile = percentileofscore(user_movie_counts, value, kind='rank')\n",
    "\n",
    "#####change the print syntax to be simpler\n",
    "print(f\"The percentage of users that have rated less than or equal to 257 movies is: {percentile.round(2)}%\")"
   ]
  },
  {
   "cell_type": "code",
   "execution_count": 72,
   "metadata": {},
   "outputs": [
    {
     "name": "stdout",
     "output_type": "stream",
     "text": [
      "Mean global rating: 3.53\n",
      "Mean rating per user: rating    3.59\n",
      "dtype: float64\n"
     ]
    }
   ],
   "source": [
    "#Να προσθέσουμε λίγο κείμενο?\n",
    "#Μean global rating.\n",
    "print(\"Mean global rating: %s\" %(round(ratings['rating'].mean(), 2)))\n",
    "#Mean rating per user.\n",
    "mean_rating = ratings.groupby('user_id')[['rating']].mean()\n",
    "print(\"Mean rating per user: %s\" %(round(mean_rating.mean(), 2)))"
   ]
  },
  {
   "cell_type": "code",
   "execution_count": 73,
   "metadata": {},
   "outputs": [
    {
     "name": "stdout",
     "output_type": "stream",
     "text": [
      "            Statistic  Ratings Received for Each Movie\n",
      "0                Mean                             59.5\n",
      "1              Median                             27.0\n",
      "2        Top Quartile                             80.0\n",
      "3  Standard Deviation                             80.4\n",
      "4             Minimum                            583.0\n",
      "5             Maximum                              1.0\n",
      "The percentage of movies that have been rated less than or equal to 180 times is: 91.8%\n"
     ]
    }
   ],
   "source": [
    "#More descriptive statistics of the data sets, to understand the spread of the data further and make an informed decision\n",
    "#on the outliers\n",
    "\n",
    "# Mean, median, and standard deviation of ratings recieved for each movie\n",
    "#count of the number of time each movie (item) appears in column \n",
    "movie_rating_counts = ratings['item_id'].value_counts()\n",
    "#statistics of the movie ratings counts\n",
    "mean_ratings_received = movie_rating_counts.mean()\n",
    "median_ratings_received = movie_rating_counts.median()\n",
    "std_ratings_received = movie_rating_counts.std()\n",
    "Q3_ratings_received = movie_rating_counts.quantile(0.75)\n",
    "# Largest (maximum) number of ratings for a movie\n",
    "max_ratings_received = movie_rating_counts.max()\n",
    "# Smallest (minimum) number of ratings for a movie\n",
    "min_ratings_received = movie_rating_counts.min()\n",
    "\n",
    "# Creating a summary table to visualize the results\n",
    "summary_table2 = pd.DataFrame({\n",
    "    'Statistic': ['Mean', 'Median', 'Top Quartile','Standard Deviation', 'Minimum', 'Maximum'],\n",
    "    'Ratings Received for Each Movie': [mean_ratings_received, median_ratings_received, Q3_ratings_received, std_ratings_received, max_ratings_received, min_ratings_received]\n",
    "})\n",
    "\n",
    "# Display the table\n",
    "print(summary_table2.round(1))\n",
    "\n",
    "#We want to see what percentage of the values are above 1.5 standard deviations of the mean which is 59.5 + 120.6. round to nearest whole number\n",
    "value = 180\n",
    "# Calculate the percentile of this value within the distribution of movie rating counts\n",
    "percentile2 = percentileofscore(movie_rating_counts, value, kind='rank')\n",
    "\n",
    "#####change the print syntax to be simpler\n",
    "print(f\"The percentage of movies that have been rated less than or equal to 180 times is: {percentile2.round(2)}%\")\n",
    "\n",
    "# we decide to do 1.5 standard deviations for this dataset as well"
   ]
  },
  {
   "cell_type": "code",
   "execution_count": 74,
   "metadata": {},
   "outputs": [
    {
     "data": {
      "text/plain": [
       "movie_title\n",
       "Star Wars (1977)                 583\n",
       "Contact (1997)                   509\n",
       "Fargo (1996)                     508\n",
       "Return of the Jedi (1983)        507\n",
       "Liar Liar (1997)                 485\n",
       "English Patient, The (1996)      481\n",
       "Scream (1996)                    478\n",
       "Toy Story (1995)                 452\n",
       "Air Force One (1997)             431\n",
       "Independence Day (ID4) (1996)    429\n",
       "Name: count, dtype: int64"
      ]
     },
     "execution_count": 74,
     "metadata": {},
     "output_type": "execute_result"
    }
   ],
   "source": [
    "#Ας παίξουμε λίγο\n",
    "#Let's find the most frequently rated movies. In order to to that we need to merge ratings with movies.\n",
    "# Let's create a common dataset. The common key between ratings and movies is the 'items_id' and ‘movie_id’ column respectively.\n",
    "# First we have to rename the column.\n",
    "ratings1 = ratings.copy()\n",
    "##\n",
    "#data.drop(['timestamp', 'video_release_date', 'IMDb_URL'], axis = 1, inplace = True)\n",
    "ratings1.rename(columns={'item_id': 'movie_id'}, inplace=True)\n",
    "# Then we combined them.\n",
    "data = pd.merge(ratings1, movies, on = 'movie_id')\n",
    "# In order to have a 'cleaner' view of our data we dropped some columns.\n",
    "data.drop(['timestamp', 'video_release_date', 'IMDb_URL'], axis = 1, inplace = True)\n",
    "\n",
    "#Most rated movies\n",
    "data['movie_title'].value_counts()[0:10]"
   ]
  },
  {
   "cell_type": "code",
   "execution_count": 75,
   "metadata": {},
   "outputs": [
    {
     "data": {
      "text/html": [
       "<div>\n",
       "<style scoped>\n",
       "    .dataframe tbody tr th:only-of-type {\n",
       "        vertical-align: middle;\n",
       "    }\n",
       "\n",
       "    .dataframe tbody tr th {\n",
       "        vertical-align: top;\n",
       "    }\n",
       "\n",
       "    .dataframe thead th {\n",
       "        text-align: right;\n",
       "    }\n",
       "</style>\n",
       "<table border=\"1\" class=\"dataframe\">\n",
       "  <thead>\n",
       "    <tr style=\"text-align: right;\">\n",
       "      <th></th>\n",
       "      <th>user_id</th>\n",
       "      <th>item_id</th>\n",
       "      <th>rating</th>\n",
       "      <th>timestamp</th>\n",
       "    </tr>\n",
       "  </thead>\n",
       "  <tbody>\n",
       "    <tr>\n",
       "      <th>6519</th>\n",
       "      <td>13</td>\n",
       "      <td>814</td>\n",
       "      <td>5</td>\n",
       "      <td>886302261</td>\n",
       "    </tr>\n",
       "  </tbody>\n",
       "</table>\n",
       "</div>"
      ],
      "text/plain": [
       "      user_id  item_id  rating  timestamp\n",
       "6519       13      814       5  886302261"
      ]
     },
     "execution_count": 75,
     "metadata": {},
     "output_type": "execute_result"
    }
   ],
   "source": [
    "#Let's find the highest rated movie\n",
    "mean_rating = ratings.groupby('item_id')[['rating']].mean()\n",
    "highest_rated = mean_rating['rating'].idxmax()\n",
    "ratings[ratings['item_id'] == highest_rated]"
   ]
  },
  {
   "cell_type": "code",
   "execution_count": 76,
   "metadata": {},
   "outputs": [
    {
     "data": {
      "text/html": [
       "<div>\n",
       "<style scoped>\n",
       "    .dataframe tbody tr th:only-of-type {\n",
       "        vertical-align: middle;\n",
       "    }\n",
       "\n",
       "    .dataframe tbody tr th {\n",
       "        vertical-align: top;\n",
       "    }\n",
       "\n",
       "    .dataframe thead th {\n",
       "        text-align: right;\n",
       "    }\n",
       "</style>\n",
       "<table border=\"1\" class=\"dataframe\">\n",
       "  <thead>\n",
       "    <tr style=\"text-align: right;\">\n",
       "      <th></th>\n",
       "      <th>movie_id</th>\n",
       "      <th>rating</th>\n",
       "      <th>rating_count</th>\n",
       "    </tr>\n",
       "  </thead>\n",
       "  <tbody>\n",
       "    <tr>\n",
       "      <th>813</th>\n",
       "      <td>814</td>\n",
       "      <td>5.000</td>\n",
       "      <td>1682</td>\n",
       "    </tr>\n",
       "    <tr>\n",
       "      <th>1121</th>\n",
       "      <td>1122</td>\n",
       "      <td>5.000</td>\n",
       "      <td>1682</td>\n",
       "    </tr>\n",
       "    <tr>\n",
       "      <th>1188</th>\n",
       "      <td>1189</td>\n",
       "      <td>5.000</td>\n",
       "      <td>1682</td>\n",
       "    </tr>\n",
       "    <tr>\n",
       "      <th>1200</th>\n",
       "      <td>1201</td>\n",
       "      <td>5.000</td>\n",
       "      <td>1682</td>\n",
       "    </tr>\n",
       "    <tr>\n",
       "      <th>1292</th>\n",
       "      <td>1293</td>\n",
       "      <td>5.000</td>\n",
       "      <td>1682</td>\n",
       "    </tr>\n",
       "    <tr>\n",
       "      <th>1466</th>\n",
       "      <td>1467</td>\n",
       "      <td>5.000</td>\n",
       "      <td>1682</td>\n",
       "    </tr>\n",
       "    <tr>\n",
       "      <th>1499</th>\n",
       "      <td>1500</td>\n",
       "      <td>5.000</td>\n",
       "      <td>1682</td>\n",
       "    </tr>\n",
       "    <tr>\n",
       "      <th>1598</th>\n",
       "      <td>1599</td>\n",
       "      <td>5.000</td>\n",
       "      <td>1682</td>\n",
       "    </tr>\n",
       "    <tr>\n",
       "      <th>1535</th>\n",
       "      <td>1536</td>\n",
       "      <td>5.000</td>\n",
       "      <td>1682</td>\n",
       "    </tr>\n",
       "    <tr>\n",
       "      <th>1652</th>\n",
       "      <td>1653</td>\n",
       "      <td>5.000</td>\n",
       "      <td>1682</td>\n",
       "    </tr>\n",
       "    <tr>\n",
       "      <th>1448</th>\n",
       "      <td>1449</td>\n",
       "      <td>4.625</td>\n",
       "      <td>1682</td>\n",
       "    </tr>\n",
       "  </tbody>\n",
       "</table>\n",
       "</div>"
      ],
      "text/plain": [
       "      movie_id  rating  rating_count\n",
       "813        814   5.000          1682\n",
       "1121      1122   5.000          1682\n",
       "1188      1189   5.000          1682\n",
       "1200      1201   5.000          1682\n",
       "1292      1293   5.000          1682\n",
       "1466      1467   5.000          1682\n",
       "1499      1500   5.000          1682\n",
       "1598      1599   5.000          1682\n",
       "1535      1536   5.000          1682\n",
       "1652      1653   5.000          1682\n",
       "1448      1449   4.625          1682"
      ]
     },
     "execution_count": 76,
     "metadata": {},
     "output_type": "execute_result"
    }
   ],
   "source": [
    "#Let's make a dataframe with only movies data\n",
    "movies_data = data.copy()\n",
    "#datetype=object to date-type.\n",
    "movies_data['release_date'] = pd.to_datetime(movies_data['release_date'])\n",
    "#remove genre columns\n",
    "# In order to have a 'cleaner' view of our data we dropped some columns.\n",
    "movies_data.drop(['genre_0',  'genre_1','genre_2','genre_3','genre_4','genre_5','genre_6','genre_7','genre_8','genre_9','genre_10', 'genre_11','genre_12','genre_13','genre_14','genre_15','genre_16','genre_17','genre_18', 'user_id'],\n",
    "          axis = 1, inplace = True)\n",
    "\n",
    "#Let's find mean rating per movie.\n",
    "mean_rating_per_movie = movies_data.groupby('movie_id').agg({'rating': 'mean'}).reset_index()\n",
    "mean_rating_per_movie['rating_count'] = mean_rating_per_movie['rating'].count()\n",
    "#Top ratest movies\n",
    "top_ratest_movies = mean_rating_per_movie[mean_rating_per_movie.rating > 4.5].sort_values(by='rating',ascending=False)\n",
    "top_ratest_movies"
   ]
  },
  {
   "cell_type": "code",
   "execution_count": 77,
   "metadata": {},
   "outputs": [
    {
     "name": "stdout",
     "output_type": "stream",
     "text": [
      "Average number of ratings for a given movie: 59.45\n",
      "Average rating for a given movie: 3.08\n"
     ]
    }
   ],
   "source": [
    "#Statistics extras?\n",
    "# Tutorial: https://www.youtube.com/watch?v=XfAe-HLysOM&t=1685s\n",
    "movies_stats = ratings1.groupby('movie_id')['rating'].agg(['count', 'mean'])\n",
    "#Let's find Bayesian average to check the highest rated movies based on ratings and the ratings number.\n",
    "C = movies_stats['count'].mean()\n",
    "m = movies_stats['mean'].mean()\n",
    "\n",
    "print(\"Average number of ratings for a given movie: %s\" %(round(C,2)))\n",
    "print(\"Average rating for a given movie: %s\" %(round(m,2)))\n",
    "\n",
    "def bayesian_average(ratings):\n",
    "    bayesian_average = (C+m+ratings.sum())/(C+ratings.count())\n",
    "    return round(bayesian_average,2)"
   ]
  },
  {
   "cell_type": "code",
   "execution_count": 78,
   "metadata": {},
   "outputs": [
    {
     "data": {
      "text/html": [
       "<div>\n",
       "<style scoped>\n",
       "    .dataframe tbody tr th:only-of-type {\n",
       "        vertical-align: middle;\n",
       "    }\n",
       "\n",
       "    .dataframe tbody tr th {\n",
       "        vertical-align: top;\n",
       "    }\n",
       "\n",
       "    .dataframe thead th {\n",
       "        text-align: right;\n",
       "    }\n",
       "</style>\n",
       "<table border=\"1\" class=\"dataframe\">\n",
       "  <thead>\n",
       "    <tr style=\"text-align: right;\">\n",
       "      <th></th>\n",
       "      <th>movie_id</th>\n",
       "      <th>count</th>\n",
       "      <th>mean</th>\n",
       "      <th>bayesian_avg</th>\n",
       "      <th>movie_title</th>\n",
       "    </tr>\n",
       "  </thead>\n",
       "  <tbody>\n",
       "    <tr>\n",
       "      <th>49</th>\n",
       "      <td>50</td>\n",
       "      <td>583</td>\n",
       "      <td>4.358491</td>\n",
       "      <td>4.05</td>\n",
       "      <td>Star Wars (1977)</td>\n",
       "    </tr>\n",
       "    <tr>\n",
       "      <th>317</th>\n",
       "      <td>318</td>\n",
       "      <td>298</td>\n",
       "      <td>4.466443</td>\n",
       "      <td>3.90</td>\n",
       "      <td>Schindler's List (1993)</td>\n",
       "    </tr>\n",
       "    <tr>\n",
       "      <th>126</th>\n",
       "      <td>127</td>\n",
       "      <td>413</td>\n",
       "      <td>4.283293</td>\n",
       "      <td>3.88</td>\n",
       "      <td>Godfather, The (1972)</td>\n",
       "    </tr>\n",
       "    <tr>\n",
       "      <th>173</th>\n",
       "      <td>174</td>\n",
       "      <td>420</td>\n",
       "      <td>4.252381</td>\n",
       "      <td>3.86</td>\n",
       "      <td>Raiders of the Lost Ark (1981)</td>\n",
       "    </tr>\n",
       "    <tr>\n",
       "      <th>97</th>\n",
       "      <td>98</td>\n",
       "      <td>390</td>\n",
       "      <td>4.289744</td>\n",
       "      <td>3.86</td>\n",
       "      <td>Silence of the Lambs, The (1991)</td>\n",
       "    </tr>\n",
       "    <tr>\n",
       "      <th>63</th>\n",
       "      <td>64</td>\n",
       "      <td>283</td>\n",
       "      <td>4.445230</td>\n",
       "      <td>3.86</td>\n",
       "      <td>Shawshank Redemption, The (1994)</td>\n",
       "    </tr>\n",
       "    <tr>\n",
       "      <th>99</th>\n",
       "      <td>100</td>\n",
       "      <td>508</td>\n",
       "      <td>4.155512</td>\n",
       "      <td>3.83</td>\n",
       "      <td>Fargo (1996)</td>\n",
       "    </tr>\n",
       "    <tr>\n",
       "      <th>482</th>\n",
       "      <td>483</td>\n",
       "      <td>243</td>\n",
       "      <td>4.456790</td>\n",
       "      <td>3.79</td>\n",
       "      <td>Casablanca (1942)</td>\n",
       "    </tr>\n",
       "    <tr>\n",
       "      <th>11</th>\n",
       "      <td>12</td>\n",
       "      <td>267</td>\n",
       "      <td>4.385768</td>\n",
       "      <td>3.78</td>\n",
       "      <td>Usual Suspects, The (1995)</td>\n",
       "    </tr>\n",
       "    <tr>\n",
       "      <th>312</th>\n",
       "      <td>313</td>\n",
       "      <td>350</td>\n",
       "      <td>4.245714</td>\n",
       "      <td>3.78</td>\n",
       "      <td>Titanic (1997)</td>\n",
       "    </tr>\n",
       "  </tbody>\n",
       "</table>\n",
       "</div>"
      ],
      "text/plain": [
       "     movie_id  count      mean  bayesian_avg                       movie_title\n",
       "49         50    583  4.358491          4.05                  Star Wars (1977)\n",
       "317       318    298  4.466443          3.90           Schindler's List (1993)\n",
       "126       127    413  4.283293          3.88             Godfather, The (1972)\n",
       "173       174    420  4.252381          3.86    Raiders of the Lost Ark (1981)\n",
       "97         98    390  4.289744          3.86  Silence of the Lambs, The (1991)\n",
       "63         64    283  4.445230          3.86  Shawshank Redemption, The (1994)\n",
       "99        100    508  4.155512          3.83                      Fargo (1996)\n",
       "482       483    243  4.456790          3.79                 Casablanca (1942)\n",
       "11         12    267  4.385768          3.78        Usual Suspects, The (1995)\n",
       "312       313    350  4.245714          3.78                    Titanic (1997)"
      ]
     },
     "execution_count": 78,
     "metadata": {},
     "output_type": "execute_result"
    }
   ],
   "source": [
    "bayesian_average_ratings = ratings1.groupby('movie_id')['rating'].agg(bayesian_average).reset_index()\n",
    "bayesian_average_ratings.columns = ['movie_id', 'bayesian_avg']\n",
    "movies_stats = movies_stats.merge(bayesian_average_ratings, on = 'movie_id')\n",
    "\n",
    "# So Based on the bayesian average the top 10 rated movies are:\n",
    "movies_stats = movies_stats.merge(movies[['movie_id','movie_title']])\n",
    "movies_stats.sort_values('bayesian_avg', ascending= False).head(10)"
   ]
  },
  {
   "cell_type": "code",
   "execution_count": 79,
   "metadata": {},
   "outputs": [],
   "source": [
    "# Outlier Detection for Users and Movies with a 1.5 Standard Deviation Threshold\n",
    "# choosing 1.5 for the outlier threshold because ~91% of users are concentrated below 1.5 standard deviation of the mean.\n",
    "\n",
    "#We have user_movie_counts as data of how many movies each user has rated\n",
    "# Step 1: Calculate the number of ratings each movie has received\n",
    "movie_rating_counts = ratings['item_id'].value_counts()\n",
    "\n",
    "# Step 3: Calculate z-scores for user and movie counts to detect outliers\n",
    "user_movie_counts_zscore = zscore(user_movie_counts)\n",
    "movie_rating_counts_zscore = zscore(movie_rating_counts)\n",
    "\n",
    "# Step 4: Set a threshold of 1.5 standard deviations for detecting outliers\n",
    "outlier_user_indices = user_movie_counts[user_movie_counts_zscore > 1.5].index\n",
    "outlier_movie_indices = movie_rating_counts[movie_rating_counts_zscore > 1.5].index\n",
    "\n",
    "# Outlier users: those who have rated more than 1.5 standard deviations above the mean aka more than ~257 movies or a movie with more than ~180\n",
    "outlier_users = user_movie_counts[user_movie_counts_zscore > 1.5]\n",
    "#print(\"Outlier users based on number of ratings (Threshold = 1.5 SD):\")\n",
    "#print(outlier_users)\n",
    "\n",
    "# Outlier movies: those that have received more than 1.5 standard deviations above the mean\n",
    "outlier_movies = movie_rating_counts[movie_rating_counts_zscore > 1.5]\n",
    "#print(\"\\nOutlier movies based on number of ratings (Threshold = 1.5 SD):\")\n",
    "#print(outlier_movies)\n",
    "\n",
    "#####or Z smaller than -1.5"
   ]
  },
  {
   "cell_type": "code",
   "execution_count": 80,
   "metadata": {},
   "outputs": [],
   "source": [
    "# Check numerical columns\n",
    "num_cols = movies_stats.describe(exclude='object') #check numerical columns only\n",
    "col_names = num_cols.columns # we are using these numerical columns for visualizing our boxplot"
   ]
  },
  {
   "cell_type": "code",
   "execution_count": 81,
   "metadata": {},
   "outputs": [
    {
     "data": {
      "image/png": "[encoded data removed]",
      "text/plain": [
       "<Figure size 1000x700 with 4 Axes>"
      ]
     },
     "metadata": {},
     "output_type": "display_data"
    }
   ],
   "source": [
    "# Let's plot the outliers for movies_stats\n",
    "# Boxplot for the first 6 values taking into cnsideration movies_stats\n",
    "fig = plt.figure(figsize=(10,7))\n",
    "\n",
    "for i in range(4): #for 4 columns\n",
    "    fig.tight_layout()\n",
    "    \n",
    "    grid_col = \"32{}\".format(i+1)\n",
    "    \n",
    "    ax = fig.add_subplot(int(grid_col))\n",
    "    \n",
    "    sns.boxplot(data=movies_stats, x=col_names[i], ax=ax)\n",
    "    \n",
    "plt.show()"
   ]
  },
  {
   "cell_type": "code",
   "execution_count": 82,
   "metadata": {},
   "outputs": [
    {
     "data": {
      "image/png": "[encoded data removed]",
      "text/plain": [
       "<Figure size 640x480 with 1 Axes>"
      ]
     },
     "metadata": {},
     "output_type": "display_data"
    }
   ],
   "source": [
    "# boxplot for movies_stats\n",
    "np.random.seed(1234)\n",
    "\n",
    "plots = pd.DataFrame(np.random.randn(10, 3),\n",
    "\n",
    "                  columns=['count', 'mean', 'bayesian_avg'])\n",
    "\n",
    "boxplot = movies_stats.boxplot(column=['count', 'mean', 'bayesian_avg']) "
   ]
  },
  {
   "cell_type": "code",
   "execution_count": 83,
   "metadata": {},
   "outputs": [
    {
     "data": {
      "application/vnd.plotly.v1+json": {
       "config": {
        "plotlyServerURL": "https://plot.ly"
       },
       "data": [
        {
         "alignmentgroup": "True",
         "box": {
          "visible": true
         },
         "customdata": [
          [
           1,
           452,
           3.8783185840707963,
           "Toy Story (1995)"
          ],
          [
           2,
           131,
           3.2061068702290076,
           "GoldenEye (1995)"
          ],
          [
           3,
           90,
           3.033333333333333,
           "Four Rooms (1995)"
          ],
          [
           4,
           209,
           3.550239234449761,
           "Get Shorty (1995)"
          ],
          [
           5,
           86,
           3.302325581395349,
           "Copycat (1995)"
          ],
          [
           6,
           26,
           3.576923076923077,
           "Shanghai Triad (Yao a yao yao dao waipo qiao) (1995)"
          ],
          [
           7,
           392,
           3.798469387755102,
           "Twelve Monkeys (1995)"
          ],
          [
           8,
           219,
           3.9954337899543377,
           "Babe (1995)"
          ],
          [
           9,
           299,
           3.8963210702341136,
           "Dead Man Walking (1995)"
          ],
          [
           10,
           89,
           3.831460674157303,
           "Richard III (1995)"
          ],
          [
           11,
           236,
           3.847457627118644,
           "Seven (Se7en) (1995)"
          ],
          [
           12,
           267,
           4.385767790262173,
           "Usual Suspects, The (1995)"
          ],
          [
           13,
           184,
           3.4184782608695654,
           "Mighty Aphrodite (1995)"
          ],
          [
           14,
           183,
           3.9672131147540983,
           "Postino, Il (1994)"
          ],
          [
           15,
           293,
           3.7781569965870307,
           "Mr. Holland's Opus (1995)"
          ],
          [
           16,
           39,
           3.2051282051282053,
           "French Twist (Gazon maudit) (1995)"
          ],
          [
           17,
           92,
           3.119565217391304,
           "From Dusk Till Dawn (1996)"
          ],
          [
           18,
           10,
           2.8,
           "White Balloon, The (1995)"
          ],
          [
           19,
           69,
           3.9565217391304346,
           "Antonia's Line (1995)"
          ],
          [
           20,
           72,
           3.4166666666666665,
           "Angels and Insects (1995)"
          ],
          [
           21,
           84,
           2.761904761904762,
           "Muppet Treasure Island (1996)"
          ],
          [
           22,
           297,
           4.151515151515151,
           "Braveheart (1995)"
          ],
          [
           23,
           182,
           4.1208791208791204,
           "Taxi Driver (1976)"
          ],
          [
           24,
           174,
           3.4482758620689653,
           "Rumble in the Bronx (1995)"
          ],
          [
           25,
           293,
           3.4436860068259385,
           "Birdcage, The (1996)"
          ],
          [
           26,
           73,
           3.452054794520548,
           "Brothers McMullen, The (1995)"
          ],
          [
           27,
           57,
           3.1052631578947367,
           "Bad Boys (1995)"
          ],
          [
           28,
           276,
           3.931159420289855,
           "Apollo 13 (1995)"
          ],
          [
           29,
           114,
           2.6666666666666665,
           "Batman Forever (1995)"
          ],
          [
           30,
           37,
           3.945945945945946,
           "Belle de jour (1967)"
          ],
          [
           31,
           154,
           3.6298701298701297,
           "Crimson Tide (1995)"
          ],
          [
           32,
           81,
           3.7901234567901234,
           "Crumb (1994)"
          ],
          [
           33,
           97,
           3.4536082474226806,
           "Desperado (1995)"
          ],
          [
           34,
           7,
           2.7142857142857144,
           "Doom Generation, The (1995)"
          ],
          [
           35,
           11,
           2.1818181818181817,
           "Free Willy 2: The Adventure Home (1995)"
          ],
          [
           36,
           13,
           2.1538461538461537,
           "Mad Love (1995)"
          ],
          [
           37,
           8,
           2.25,
           "Nadja (1994)"
          ],
          [
           38,
           120,
           3.0083333333333333,
           "Net, The (1995)"
          ],
          [
           39,
           87,
           3.264367816091954,
           "Strange Days (1995)"
          ],
          [
           40,
           57,
           2.8947368421052633,
           "To Wong Foo, Thanks for Everything! Julie Newmar (1995)"
          ],
          [
           41,
           37,
           3.081081081081081,
           "Billy Madison (1995)"
          ],
          [
           42,
           148,
           3.804054054054054,
           "Clerks (1994)"
          ],
          [
           43,
           40,
           3,
           "Disclosure (1994)"
          ],
          [
           44,
           79,
           3.3417721518987342,
           "Dolores Claiborne (1994)"
          ],
          [
           45,
           80,
           4.05,
           "Eat Drink Man Woman (1994)"
          ],
          [
           46,
           27,
           3.5555555555555554,
           "Exotica (1994)"
          ],
          [
           47,
           133,
           3.601503759398496,
           "Ed Wood (1994)"
          ],
          [
           48,
           117,
           4.094017094017094,
           "Hoop Dreams (1994)"
          ],
          [
           49,
           81,
           3.3209876543209877,
           "I.Q. (1994)"
          ],
          [
           50,
           583,
           4.3584905660377355,
           "Star Wars (1977)"
          ],
          [
           51,
           81,
           3.45679012345679,
           "Legends of the Fall (1994)"
          ],
          [
           52,
           91,
           3.769230769230769,
           "Madness of King George, The (1994)"
          ],
          [
           53,
           128,
           2.953125,
           "Natural Born Killers (1994)"
          ],
          [
           54,
           104,
           3.2403846153846154,
           "Outbreak (1995)"
          ],
          [
           55,
           149,
           3.704697986577181,
           "Professional, The (1994)"
          ],
          [
           56,
           394,
           4.060913705583756,
           "Pulp Fiction (1994)"
          ],
          [
           57,
           40,
           4,
           "Priest (1994)"
          ],
          [
           58,
           175,
           3.645714285714286,
           "Quiz Show (1994)"
          ],
          [
           59,
           83,
           4.0602409638554215,
           "Three Colors: Red (1994)"
          ],
          [
           60,
           64,
           4.015625,
           "Three Colors: Blue (1993)"
          ],
          [
           61,
           59,
           3.864406779661017,
           "Three Colors: White (1994)"
          ],
          [
           62,
           127,
           3.141732283464567,
           "Stargate (1994)"
          ],
          [
           63,
           82,
           3.097560975609756,
           "Santa Clause, The (1994)"
          ],
          [
           64,
           283,
           4.445229681978798,
           "Shawshank Redemption, The (1994)"
          ],
          [
           65,
           115,
           3.5391304347826087,
           "What's Eating Gilbert Grape (1993)"
          ],
          [
           66,
           162,
           3.549382716049383,
           "While You Were Sleeping (1995)"
          ],
          [
           67,
           103,
           3.0485436893203883,
           "Ace Ventura: Pet Detective (1994)"
          ],
          [
           68,
           134,
           3.417910447761194,
           "Crow, The (1994)"
          ],
          [
           69,
           321,
           3.853582554517134,
           "Forrest Gump (1994)"
          ],
          [
           70,
           251,
           3.6613545816733066,
           "Four Weddings and a Funeral (1994)"
          ],
          [
           71,
           220,
           3.7818181818181817,
           "Lion King, The (1994)"
          ],
          [
           72,
           129,
           3.193798449612403,
           "Mask, The (1994)"
          ],
          [
           73,
           128,
           3.46875,
           "Maverick (1994)"
          ],
          [
           74,
           7,
           3,
           "Faster Pussycat! Kill! Kill! (1965)"
          ],
          [
           75,
           5,
           3,
           "Brother Minister: The Assassination of Malcolm X (1994)"
          ],
          [
           76,
           54,
           3.4074074074074074,
           "Carlito's Way (1993)"
          ],
          [
           77,
           151,
           3.2781456953642385,
           "Firm, The (1993)"
          ],
          [
           78,
           33,
           2.4545454545454546,
           "Free Willy (1993)"
          ],
          [
           79,
           336,
           4.044642857142857,
           "Fugitive, The (1993)"
          ],
          [
           80,
           68,
           2.764705882352941,
           "Hot Shots! Part Deux (1993)"
          ],
          [
           81,
           110,
           3.5545454545454547,
           "Hudsucker Proxy, The (1994)"
          ],
          [
           82,
           261,
           3.7203065134099615,
           "Jurassic Park (1993)"
          ],
          [
           83,
           176,
           4.0625,
           "Much Ado About Nothing (1993)"
          ],
          [
           84,
           18,
           3,
           "Robert A. Heinlein's The Puppet Masters (1994)"
          ],
          [
           85,
           58,
           3.0344827586206895,
           "Ref, The (1994)"
          ],
          [
           86,
           150,
           3.94,
           "Remains of the Day, The (1993)"
          ],
          [
           87,
           138,
           3.9057971014492754,
           "Searching for Bobby Fischer (1993)"
          ],
          [
           88,
           213,
           3.539906103286385,
           "Sleepless in Seattle (1993)"
          ],
          [
           89,
           275,
           4.138181818181818,
           "Blade Runner (1982)"
          ],
          [
           90,
           95,
           3.0526315789473686,
           "So I Married an Axe Murderer (1993)"
          ],
          [
           91,
           143,
           3.5874125874125875,
           "Nightmare Before Christmas, The (1993)"
          ],
          [
           92,
           104,
           3.6153846153846154,
           "True Romance (1993)"
          ],
          [
           93,
           112,
           3.7232142857142856,
           "Welcome to the Dollhouse (1995)"
          ],
          [
           94,
           137,
           3.0875912408759123,
           "Home Alone (1990)"
          ],
          [
           95,
           219,
           3.8127853881278537,
           "Aladdin (1992)"
          ],
          [
           96,
           295,
           4.0067796610169495,
           "Terminator 2: Judgment Day (1991)"
          ],
          [
           97,
           256,
           3.79296875,
           "Dances with Wolves (1990)"
          ],
          [
           98,
           390,
           4.28974358974359,
           "Silence of the Lambs, The (1991)"
          ],
          [
           99,
           172,
           3.7093023255813953,
           "Snow White and the Seven Dwarfs (1937)"
          ],
          [
           100,
           508,
           4.155511811023622,
           "Fargo (1996)"
          ],
          [
           101,
           73,
           3.26027397260274,
           "Heavy Metal (1981)"
          ],
          [
           102,
           54,
           3.1296296296296298,
           "Aristocats, The (1970)"
          ],
          [
           103,
           15,
           1.8666666666666667,
           "All Dogs Go to Heaven 2 (1996)"
          ],
          [
           104,
           5,
           1.4,
           "Theodore Rex (1995)"
          ],
          [
           105,
           74,
           2.5675675675675675,
           "Sgt. Bilko (1996)"
          ],
          [
           106,
           71,
           2.887323943661972,
           "Diabolique (1996)"
          ],
          [
           107,
           42,
           3.5,
           "Moll Flanders (1996)"
          ],
          [
           108,
           65,
           3.076923076923077,
           "Kids in the Hall: Brain Candy (1996)"
          ],
          [
           109,
           130,
           3.4307692307692306,
           "Mystery Science Theater 3000: The Movie (1996)"
          ],
          [
           110,
           31,
           2.5161290322580645,
           "Operation Dumbo Drop (1995)"
          ],
          [
           111,
           272,
           3.485294117647059,
           "Truth About Cats & Dogs, The (1996)"
          ],
          [
           112,
           20,
           2.45,
           "Flipper (1996)"
          ],
          [
           113,
           9,
           4.111111111111111,
           "Horseman on the Roof, The (Hussard sur le toit, Le) (1995)"
          ],
          [
           114,
           67,
           4.447761194029851,
           "Wallace & Gromit: The Best of Aardman Animation (1996)"
          ],
          [
           115,
           15,
           3.7333333333333334,
           "Haunted World of Edward D. Wood Jr., The (1995)"
          ],
          [
           116,
           125,
           3.824,
           "Cold Comfort Farm (1995)"
          ],
          [
           117,
           378,
           3.693121693121693,
           "Rock, The (1996)"
          ],
          [
           118,
           293,
           3.2150170648464163,
           "Twister (1996)"
          ],
          [
           119,
           4,
           4.5,
           "Maya Lin: A Strong Clear Vision (1994)"
          ],
          [
           120,
           67,
           2.2388059701492535,
           "Striptease (1996)"
          ],
          [
           121,
           429,
           3.438228438228438,
           "Independence Day (ID4) (1996)"
          ],
          [
           122,
           106,
           2.339622641509434,
           "Cable Guy, The (1996)"
          ],
          [
           123,
           115,
           3.234782608695652,
           "Frighteners, The (1996)"
          ],
          [
           124,
           187,
           4.053475935828877,
           "Lone Star (1996)"
          ],
          [
           125,
           244,
           3.557377049180328,
           "Phenomenon (1996)"
          ],
          [
           126,
           97,
           3.804123711340206,
           "Spitfire Grill, The (1996)"
          ],
          [
           127,
           413,
           4.283292978208232,
           "Godfather, The (1972)"
          ],
          [
           128,
           65,
           3.5384615384615383,
           "Supercop (1992)"
          ],
          [
           129,
           129,
           3.8217054263565893,
           "Bound (1996)"
          ],
          [
           130,
           23,
           2.260869565217391,
           "Kansas City (1996)"
          ],
          [
           131,
           95,
           3.7263157894736842,
           "Breakfast at Tiffany's (1961)"
          ],
          [
           132,
           246,
           4.0772357723577235,
           "Wizard of Oz, The (1939)"
          ],
          [
           133,
           171,
           3.871345029239766,
           "Gone with the Wind (1939)"
          ],
          [
           134,
           198,
           4.292929292929293,
           "Citizen Kane (1941)"
          ],
          [
           135,
           259,
           3.969111969111969,
           "2001: A Space Odyssey (1968)"
          ],
          [
           136,
           105,
           4.123809523809523,
           "Mr. Smith Goes to Washington (1939)"
          ],
          [
           137,
           171,
           3.9005847953216373,
           "Big Night (1996)"
          ],
          [
           138,
           19,
           2.5789473684210527,
           "D3: The Mighty Ducks (1996)"
          ],
          [
           139,
           50,
           2.78,
           "Love Bug, The (1969)"
          ],
          [
           140,
           61,
           3.2131147540983607,
           "Homeward Bound: The Incredible Journey (1993)"
          ],
          [
           141,
           72,
           3.5,
           "20,000 Leagues Under the Sea (1954)"
          ],
          [
           142,
           57,
           3.0701754385964914,
           "Bedknobs and Broomsticks (1971)"
          ],
          [
           143,
           222,
           3.765765765765766,
           "Sound of Music, The (1965)"
          ],
          [
           144,
           243,
           3.8724279835390947,
           "Die Hard (1988)"
          ],
          [
           145,
           65,
           2.4461538461538463,
           "Lawnmower Man, The (1992)"
          ],
          [
           146,
           10,
           2.5,
           "Unhook the Stars (1996)"
          ],
          [
           147,
           185,
           3.4702702702702704,
           "Long Kiss Goodnight, The (1996)"
          ],
          [
           148,
           128,
           3.203125,
           "Ghost and the Darkness, The (1996)"
          ],
          [
           149,
           23,
           3,
           "Jude (1996)"
          ],
          [
           150,
           157,
           3.828025477707006,
           "Swingers (1996)"
          ],
          [
           151,
           326,
           3.6319018404907975,
           "Willy Wonka and the Chocolate Factory (1971)"
          ],
          [
           152,
           82,
           3.6341463414634148,
           "Sleeper (1973)"
          ],
          [
           153,
           247,
           3.785425101214575,
           "Fish Called Wanda, A (1988)"
          ],
          [
           154,
           174,
           3.7471264367816093,
           "Monty Python's Life of Brian (1979)"
          ],
          [
           155,
           98,
           3.1020408163265305,
           "Dirty Dancing (1987)"
          ],
          [
           156,
           148,
           3.9864864864864864,
           "Reservoir Dogs (1992)"
          ],
          [
           157,
           127,
           3.6929133858267718,
           "Platoon (1986)"
          ],
          [
           158,
           60,
           2.6166666666666667,
           "Weekend at Bernie's (1989)"
          ],
          [
           159,
           101,
           3.227722772277228,
           "Basic Instinct (1992)"
          ],
          [
           160,
           69,
           3.463768115942029,
           "Glengarry Glen Ross (1992)"
          ],
          [
           161,
           220,
           3.481818181818182,
           "Top Gun (1986)"
          ],
          [
           162,
           106,
           3.556603773584906,
           "On Golden Pond (1981)"
          ],
          [
           163,
           92,
           3.5543478260869565,
           "Return of the Pink Panther, The (1974)"
          ],
          [
           164,
           151,
           3.589403973509934,
           "Abyss, The (1989)"
          ],
          [
           165,
           64,
           4.109375,
           "Jean de Florette (1986)"
          ],
          [
           166,
           58,
           4.120689655172414,
           "Manon of the Spring (Manon des sources) (1986)"
          ],
          [
           167,
           67,
           2.955223880597015,
           "Private Benjamin (1980)"
          ],
          [
           168,
           316,
           4.0664556962025316,
           "Monty Python and the Holy Grail (1974)"
          ],
          [
           169,
           118,
           4.466101694915254,
           "Wrong Trousers, The (1993)"
          ],
          [
           170,
           121,
           4.1735537190082646,
           "Cinema Paradiso (1988)"
          ],
          [
           171,
           65,
           3.876923076923077,
           "Delicatessen (1991)"
          ],
          [
           172,
           367,
           4.204359673024523,
           "Empire Strikes Back, The (1980)"
          ],
          [
           173,
           324,
           4.172839506172839,
           "Princess Bride, The (1987)"
          ],
          [
           174,
           420,
           4.252380952380952,
           "Raiders of the Lost Ark (1981)"
          ],
          [
           175,
           208,
           3.8173076923076925,
           "Brazil (1985)"
          ],
          [
           176,
           284,
           3.9471830985915495,
           "Aliens (1986)"
          ],
          [
           177,
           137,
           3.8613138686131387,
           "Good, The Bad and The Ugly, The (1966)"
          ],
          [
           178,
           125,
           4.344,
           "12 Angry Men (1957)"
          ],
          [
           179,
           221,
           3.909502262443439,
           "Clockwork Orange, A (1971)"
          ],
          [
           180,
           221,
           4.04524886877828,
           "Apocalypse Now (1979)"
          ],
          [
           181,
           507,
           4.007889546351085,
           "Return of the Jedi (1983)"
          ],
          [
           182,
           226,
           3.9513274336283186,
           "GoodFellas (1990)"
          ],
          [
           183,
           291,
           4.034364261168385,
           "Alien (1979)"
          ],
          [
           184,
           116,
           3.4310344827586206,
           "Army of Darkness (1993)"
          ],
          [
           185,
           239,
           4.100418410041841,
           "Psycho (1960)"
          ],
          [
           186,
           251,
           3.8366533864541834,
           "Blues Brothers, The (1980)"
          ],
          [
           187,
           209,
           4.186602870813397,
           "Godfather: Part II, The (1974)"
          ],
          [
           188,
           170,
           3.6823529411764704,
           "Full Metal Jacket (1987)"
          ],
          [
           189,
           66,
           4.106060606060606,
           "Grand Day Out, A (1992)"
          ],
          [
           190,
           124,
           4.137096774193548,
           "Henry V (1989)"
          ],
          [
           191,
           276,
           4.163043478260869,
           "Amadeus (1984)"
          ],
          [
           192,
           116,
           4.120689655172414,
           "Raging Bull (1980)"
          ],
          [
           193,
           157,
           3.917197452229299,
           "Right Stuff, The (1983)"
          ],
          [
           194,
           241,
           4.058091286307054,
           "Sting, The (1973)"
          ],
          [
           195,
           301,
           3.9335548172757475,
           "Terminator, The (1984)"
          ],
          [
           196,
           251,
           3.9163346613545817,
           "Dead Poets Society (1989)"
          ],
          [
           197,
           239,
           4.104602510460251,
           "Graduate, The (1967)"
          ],
          [
           198,
           127,
           4.0078740157480315,
           "Nikita (La Femme Nikita) (1990)"
          ],
          [
           199,
           165,
           4.175757575757576,
           "Bridge on the River Kwai, The (1957)"
          ],
          [
           200,
           206,
           3.825242718446602,
           "Shining, The (1980)"
          ],
          [
           201,
           89,
           3.5168539325842696,
           "Evil Dead II (1987)"
          ],
          [
           202,
           280,
           3.7642857142857142,
           "Groundhog Day (1993)"
          ],
          [
           203,
           182,
           3.868131868131868,
           "Unforgiven (1992)"
          ],
          [
           204,
           350,
           3.834285714285714,
           "Back to the Future (1985)"
          ],
          [
           205,
           136,
           3.9926470588235294,
           "Patton (1970)"
          ],
          [
           206,
           50,
           3.38,
           "Akira (1988)"
          ],
          [
           207,
           66,
           3.8181818181818183,
           "Cyrano de Bergerac (1990)"
          ],
          [
           208,
           200,
           3.945,
           "Young Frankenstein (1974)"
          ],
          [
           209,
           191,
           3.905759162303665,
           "This Is Spinal Tap (1984)"
          ],
          [
           210,
           331,
           3.930513595166163,
           "Indiana Jones and the Last Crusade (1989)"
          ],
          [
           211,
           206,
           3.912621359223301,
           "M*A*S*H (1970)"
          ],
          [
           212,
           92,
           3.4565217391304346,
           "Unbearable Lightness of Being, The (1988)"
          ],
          [
           213,
           134,
           3.985074626865672,
           "Room with a View, A (1986)"
          ],
          [
           214,
           114,
           3.3508771929824563,
           "Pink Floyd - The Wall (1982)"
          ],
          [
           215,
           212,
           3.69811320754717,
           "Field of Dreams (1989)"
          ],
          [
           216,
           290,
           3.910344827586207,
           "When Harry Met Sally... (1989)"
          ],
          [
           217,
           120,
           3.158333333333333,
           "Bram Stoker's Dracula (1992)"
          ],
          [
           218,
           171,
           3.456140350877193,
           "Cape Fear (1991)"
          ],
          [
           219,
           111,
           3.171171171171171,
           "Nightmare on Elm Street, A (1984)"
          ],
          [
           220,
           66,
           3.3636363636363638,
           "Mirror Has Two Faces, The (1996)"
          ],
          [
           221,
           74,
           3.72972972972973,
           "Breaking the Waves (1996)"
          ],
          [
           222,
           365,
           3.66027397260274,
           "Star Trek: First Contact (1996)"
          ],
          [
           223,
           136,
           4.198529411764706,
           "Sling Blade (1996)"
          ],
          [
           224,
           44,
           3.7045454545454546,
           "Ridicule (1996)"
          ],
          [
           225,
           109,
           2.908256880733945,
           "101 Dalmatians (1996)"
          ],
          [
           226,
           166,
           3.355421686746988,
           "Die Hard 2 (1990)"
          ],
          [
           227,
           161,
           3.279503105590062,
           "Star Trek VI: The Undiscovered Country (1991)"
          ],
          [
           228,
           244,
           3.8155737704918034,
           "Star Trek: The Wrath of Khan (1982)"
          ],
          [
           229,
           171,
           3.111111111111111,
           "Star Trek III: The Search for Spock (1984)"
          ],
          [
           230,
           199,
           3.4472361809045227,
           "Star Trek IV: The Voyage Home (1986)"
          ],
          [
           231,
           142,
           2.683098591549296,
           "Batman Returns (1992)"
          ],
          [
           232,
           101,
           3.207920792079208,
           "Young Guns (1988)"
          ],
          [
           233,
           124,
           3.2903225806451615,
           "Under Siege (1992)"
          ],
          [
           234,
           280,
           3.775,
           "Jaws (1975)"
          ],
          [
           235,
           217,
           2.847926267281106,
           "Mars Attacks! (1996)"
          ],
          [
           236,
           45,
           3.6222222222222222,
           "Citizen Ruth (1996)"
          ],
          [
           237,
           384,
           3.7109375,
           "Jerry Maguire (1996)"
          ],
          [
           238,
           256,
           3.875,
           "Raising Arizona (1987)"
          ],
          [
           239,
           150,
           3.513333333333333,
           "Sneakers (1992)"
          ],
          [
           240,
           156,
           2.7884615384615383,
           "Beavis and Butt-head Do America (1996)"
          ],
          [
           241,
           128,
           3.546875,
           "Last of the Mohicans, The (1992)"
          ],
          [
           242,
           117,
           3.9914529914529915,
           "Kolya (1996)"
          ],
          [
           243,
           132,
           2.4393939393939394,
           "Jungle2Jungle (1997)"
          ],
          [
           244,
           48,
           3.1666666666666665,
           "Smilla's Sense of Snow (1997)"
          ],
          [
           245,
           240,
           3.1083333333333334,
           "Devil's Own, The (1997)"
          ],
          [
           246,
           124,
           3.935483870967742,
           "Chasing Amy (1997)"
          ],
          [
           247,
           5,
           1.8,
           "Turbo: A Power Rangers Movie (1997)"
          ],
          [
           248,
           160,
           3.675,
           "Grosse Pointe Blank (1997)"
          ],
          [
           249,
           130,
           3.246153846153846,
           "Austin Powers: International Man of Mystery (1997)"
          ],
          [
           250,
           197,
           3.4771573604060912,
           "Fifth Element, The (1997)"
          ],
          [
           251,
           46,
           4.260869565217392,
           "Shall We Dance? (1996)"
          ],
          [
           252,
           158,
           2.9430379746835444,
           "Lost World: Jurassic Park, The (1997)"
          ],
          [
           253,
           26,
           3.6923076923076925,
           "Pillow Book, The (1995)"
          ],
          [
           254,
           62,
           2.4516129032258065,
           "Batman & Robin (1997)"
          ],
          [
           255,
           172,
           3.36046511627907,
           "My Best Friend's Wedding (1997)"
          ],
          [
           256,
           16,
           3.5625,
           "When the Cats Away (Chacun cherche son chat) (1996)"
          ],
          [
           257,
           303,
           3.745874587458746,
           "Men in Black (1997)"
          ],
          [
           258,
           509,
           3.8035363457760316,
           "Contact (1997)"
          ],
          [
           259,
           162,
           2.685185185185185,
           "George of the Jungle (1997)"
          ],
          [
           260,
           127,
           2.574803149606299,
           "Event Horizon (1997)"
          ],
          [
           261,
           43,
           2.558139534883721,
           "Air Bud (1997)"
          ],
          [
           262,
           66,
           3.712121212121212,
           "In the Company of Men (1997)"
          ],
          [
           263,
           19,
           2.1578947368421053,
           "Steel (1997)"
          ],
          [
           264,
           101,
           2.742574257425743,
           "Mimic (1997)"
          ],
          [
           265,
           227,
           3.8634361233480177,
           "Hunt for Red October, The (1990)"
          ],
          [
           266,
           35,
           2.7142857142857144,
           "Kull the Conqueror (1997)"
          ],
          [
           267,
           9,
           3.4444444444444446,
           "unknown"
          ],
          [
           268,
           255,
           3.792156862745098,
           "Chasing Amy (1997)"
          ],
          [
           269,
           315,
           3.926984126984127,
           "Full Monty, The (1997)"
          ],
          [
           270,
           136,
           3.5955882352941178,
           "Gattaca (1997)"
          ],
          [
           271,
           211,
           3.2322274881516586,
           "Starship Troopers (1997)"
          ],
          [
           272,
           198,
           4.262626262626263,
           "Good Will Hunting (1997)"
          ],
          [
           273,
           223,
           3.569506726457399,
           "Heat (1995)"
          ],
          [
           274,
           190,
           3.5,
           "Sabrina (1995)"
          ],
          [
           275,
           268,
           4.0111940298507465,
           "Sense and Sensibility (1995)"
          ],
          [
           276,
           298,
           3.697986577181208,
           "Leaving Las Vegas (1995)"
          ],
          [
           277,
           71,
           3.464788732394366,
           "Restoration (1995)"
          ],
          [
           278,
           60,
           3.2333333333333334,
           "Bed of Roses (1996)"
          ],
          [
           279,
           28,
           3.2857142857142856,
           "Once Upon a Time... When We Were Colored (1995)"
          ],
          [
           280,
           85,
           3.1882352941176473,
           "Up Close and Personal (1996)"
          ],
          [
           281,
           146,
           3.143835616438356,
           "River Wild, The (1994)"
          ],
          [
           282,
           232,
           3.685344827586207,
           "Time to Kill, A (1996)"
          ],
          [
           283,
           177,
           3.7175141242937855,
           "Emma (1996)"
          ],
          [
           284,
           193,
           3.160621761658031,
           "Tin Cup (1996)"
          ],
          [
           285,
           162,
           4.265432098765432,
           "Secrets & Lies (1996)"
          ],
          [
           286,
           481,
           3.656964656964657,
           "English Patient, The (1996)"
          ],
          [
           287,
           78,
           3.58974358974359,
           "Marvin's Room (1996)"
          ],
          [
           288,
           478,
           3.4414225941422596,
           "Scream (1996)"
          ],
          [
           289,
           259,
           2.9806949806949805,
           "Evita (1996)"
          ],
          [
           290,
           96,
           3.1145833333333335,
           "Fierce Creatures (1997)"
          ],
          [
           291,
           127,
           3.37007874015748,
           "Absolute Power (1997)"
          ],
          [
           292,
           114,
           3.6666666666666665,
           "Rosewood (1997)"
          ],
          [
           293,
           147,
           3.802721088435374,
           "Donnie Brasco (1997)"
          ],
          [
           294,
           485,
           3.156701030927835,
           "Liar Liar (1997)"
          ],
          [
           295,
           77,
           3.4025974025974026,
           "Breakdown (1997)"
          ],
          [
           296,
           6,
           3.3333333333333335,
           "Promesse, La (1996)"
          ],
          [
           297,
           50,
           3.96,
           "Ulee's Gold (1997)"
          ],
          [
           298,
           194,
           3.768041237113402,
           "Face/Off (1997)"
          ],
          [
           299,
           73,
           2.9315068493150687,
           "Hoodlum (1997)"
          ],
          [
           300,
           431,
           3.6310904872389793,
           "Air Force One (1997)"
          ],
          [
           301,
           230,
           3.3043478260869565,
           "In & Out (1997)"
          ],
          [
           302,
           297,
           4.161616161616162,
           "L.A. Confidential (1997)"
          ],
          [
           303,
           134,
           3.6865671641791047,
           "Ulee's Gold (1997)"
          ],
          [
           304,
           149,
           3.5369127516778525,
           "Fly Away Home (1996)"
          ],
          [
           305,
           87,
           3.6436781609195403,
           "Ice Storm, The (1997)"
          ],
          [
           306,
           96,
           3.9479166666666665,
           "Mrs. Brown (Her Majesty, Mrs. Brown) (1997)"
          ],
          [
           307,
           188,
           3.515957446808511,
           "Devil's Advocate, The (1997)"
          ],
          [
           308,
           30,
           2.966666666666667,
           "FairyTale: A True Story (1997)"
          ],
          [
           309,
           28,
           2.857142857142857,
           "Deceiver (1997)"
          ],
          [
           310,
           145,
           3.6,
           "Rainmaker, The (1997)"
          ],
          [
           311,
           75,
           3.68,
           "Wings of the Dove, The (1997)"
          ],
          [
           312,
           80,
           3.1625,
           "Midnight in the Garden of Good and Evil (1997)"
          ],
          [
           313,
           350,
           4.2457142857142856,
           "Titanic (1997)"
          ],
          [
           314,
           5,
           1,
           "3 Ninjas: High Noon At Mega Mountain (1998)"
          ],
          [
           315,
           160,
           4.1,
           "Apt Pupil (1998)"
          ],
          [
           316,
           112,
           4.196428571428571,
           "As Good As It Gets (1997)"
          ],
          [
           317,
           102,
           3.911764705882353,
           "In the Name of the Father (1993)"
          ],
          [
           318,
           298,
           4.466442953020135,
           "Schindler's List (1993)"
          ],
          [
           319,
           168,
           3.2738095238095237,
           "Everyone Says I Love You (1996)"
          ],
          [
           320,
           20,
           4.05,
           "Paradise Lost: The Child Murders at Robin Hood Hills (1996)"
          ],
          [
           321,
           169,
           3.1301775147928996,
           "Mother (1996)"
          ],
          [
           322,
           218,
           3.0871559633027523,
           "Murder at 1600 (1997)"
          ],
          [
           323,
           240,
           2.933333333333333,
           "Dante's Peak (1997)"
          ],
          [
           324,
           125,
           3.136,
           "Lost Highway (1997)"
          ],
          [
           325,
           128,
           2.546875,
           "Crash (1996)"
          ],
          [
           326,
           175,
           3.36,
           "G.I. Jane (1997)"
          ],
          [
           327,
           175,
           3.3771428571428572,
           "Cop Land (1997)"
          ],
          [
           328,
           295,
           3.4237288135593222,
           "Conspiracy Theory (1997)"
          ],
          [
           329,
           45,
           3.3333333333333335,
           "Desperate Measures (1998)"
          ],
          [
           330,
           41,
           3.024390243902439,
           "187 (1997)"
          ],
          [
           331,
           113,
           3.5398230088495577,
           "Edge, The (1997)"
          ],
          [
           332,
           143,
           3.4615384615384617,
           "Kiss the Girls (1997)"
          ],
          [
           333,
           251,
           3.593625498007968,
           "Game, The (1997)"
          ],
          [
           334,
           64,
           3.359375,
           "U Turn (1997)"
          ],
          [
           335,
           21,
           2.761904761904762,
           "How to Be a Player (1997)"
          ],
          [
           336,
           43,
           2.627906976744186,
           "Playing God (1997)"
          ],
          [
           337,
           18,
           3,
           "House of Yes, The (1997)"
          ],
          [
           338,
           91,
           2.659340659340659,
           "Bean (1997)"
          ],
          [
           339,
           47,
           3.25531914893617,
           "Mad City (1997)"
          ],
          [
           340,
           189,
           3.5873015873015874,
           "Boogie Nights (1997)"
          ],
          [
           341,
           11,
           3.090909090909091,
           "Critical Care (1997)"
          ],
          [
           342,
           52,
           2.923076923076923,
           "Man Who Knew Too Little, The (1997)"
          ],
          [
           343,
           124,
           3.096774193548387,
           "Alien: Resurrection (1997)"
          ],
          [
           344,
           55,
           3.6545454545454548,
           "Apostle, The (1997)"
          ],
          [
           345,
           65,
           3.4,
           "Deconstructing Harry (1997)"
          ],
          [
           346,
           126,
           3.642857142857143,
           "Jackie Brown (1997)"
          ],
          [
           347,
           137,
           3.510948905109489,
           "Wag the Dog (1997)"
          ],
          [
           348,
           27,
           3.2962962962962963,
           "Desperate Measures (1998)"
          ],
          [
           349,
           31,
           2.903225806451613,
           "Hard Rain (1998)"
          ],
          [
           350,
           41,
           3.1463414634146343,
           "Fallen (1998)"
          ],
          [
           351,
           20,
           2.7,
           "Prophecy II, The (1998)"
          ],
          [
           352,
           26,
           2.1153846153846154,
           "Spice World (1997)"
          ],
          [
           353,
           14,
           2.4285714285714284,
           "Deep Rising (1998)"
          ],
          [
           354,
           72,
           3.486111111111111,
           "Wedding Singer, The (1998)"
          ],
          [
           355,
           41,
           2.926829268292683,
           "Sphere (1998)"
          ],
          [
           356,
           97,
           3.381443298969072,
           "Client, The (1994)"
          ],
          [
           357,
           264,
           4.291666666666667,
           "One Flew Over the Cuckoo's Nest (1975)"
          ],
          [
           358,
           143,
           2.6153846153846154,
           "Spawn (1997)"
          ],
          [
           359,
           18,
           3.5,
           "Assignment, The (1997)"
          ],
          [
           360,
           10,
           3.2,
           "Wonderland (1997)"
          ],
          [
           361,
           10,
           3.5,
           "Incognito (1997)"
          ],
          [
           362,
           28,
           2.8214285714285716,
           "Blues Brothers 2000 (1998)"
          ],
          [
           363,
           47,
           2.723404255319149,
           "Sudden Death (1995)"
          ],
          [
           364,
           37,
           2.675675675675676,
           "Ace Ventura: When Nature Calls (1995)"
          ],
          [
           365,
           48,
           3.2083333333333335,
           "Powder (1995)"
          ],
          [
           366,
           47,
           3.3404255319148937,
           "Dangerous Minds (1995)"
          ],
          [
           367,
           170,
           3.458823529411765,
           "Clueless (1995)"
          ],
          [
           368,
           31,
           1.903225806451613,
           "Bio-Dome (1996)"
          ],
          [
           369,
           55,
           2.6363636363636362,
           "Black Sheep (1996)"
          ],
          [
           370,
           39,
           2.8205128205128207,
           "Mary Reilly (1996)"
          ],
          [
           371,
           67,
           3.1641791044776117,
           "Bridges of Madison County, The (1995)"
          ],
          [
           372,
           34,
           3.5294117647058822,
           "Jeffrey (1995)"
          ],
          [
           373,
           39,
           2.8974358974358974,
           "Judge Dredd (1995)"
          ],
          [
           374,
           11,
           2.272727272727273,
           "Mighty Morphin Power Rangers: The Movie (1995)"
          ],
          [
           375,
           23,
           1.9565217391304348,
           "Showgirls (1995)"
          ],
          [
           376,
           24,
           2.8333333333333335,
           "Houseguest (1994)"
          ],
          [
           377,
           13,
           2.1538461538461537,
           "Heavyweights (1994)"
          ],
          [
           378,
           101,
           3.722772277227723,
           "Miracle on 34th Street (1994)"
          ],
          [
           379,
           43,
           2.9767441860465116,
           "Tales From the Crypt Presents: Demon Knight (1995)"
          ],
          [
           380,
           116,
           3.336206896551724,
           "Star Trek: Generations (1994)"
          ],
          [
           381,
           100,
           3.55,
           "Muriel's Wedding (1994)"
          ],
          [
           382,
           111,
           3.5945945945945947,
           "Adventures of Priscilla, Queen of the Desert, The (1994)"
          ],
          [
           383,
           31,
           2.064516129032258,
           "Flintstones, The (1994)"
          ],
          [
           384,
           69,
           2.782608695652174,
           "Naked Gun 33 1/3: The Final Insult (1994)"
          ],
          [
           385,
           208,
           3.5625,
           "True Lies (1994)"
          ],
          [
           386,
           87,
           2.8160919540229883,
           "Addams Family Values (1993)"
          ],
          [
           387,
           65,
           3.3846153846153846,
           "Age of Innocence, The (1993)"
          ],
          [
           388,
           28,
           2.392857142857143,
           "Beverly Hills Cop III (1994)"
          ],
          [
           389,
           27,
           3.4444444444444446,
           "Black Beauty (1994)"
          ],
          [
           390,
           10,
           3.2,
           "Fear of a Black Hat (1993)"
          ],
          [
           391,
           59,
           2.7457627118644066,
           "Last Action Hero (1993)"
          ],
          [
           392,
           68,
           3.5441176470588234,
           "Man Without a Face, The (1993)"
          ],
          [
           393,
           192,
           3.4114583333333335,
           "Mrs. Doubtfire (1993)"
          ],
          [
           394,
           12,
           3.3333333333333335,
           "Radioland Murders (1994)"
          ],
          [
           395,
           56,
           2.5892857142857144,
           "Robin Hood: Men in Tights (1993)"
          ],
          [
           396,
           54,
           2.814814814814815,
           "Serial Mom (1994)"
          ],
          [
           397,
           12,
           2.5833333333333335,
           "Striking Distance (1993)"
          ],
          [
           398,
           26,
           2.076923076923077,
           "Super Mario Bros. (1993)"
          ],
          [
           399,
           89,
           3.303370786516854,
           "Three Musketeers, The (1993)"
          ],
          [
           400,
           18,
           2.7222222222222223,
           "Little Rascals, The (1994)"
          ],
          [
           401,
           76,
           2.8026315789473686,
           "Brady Bunch Movie, The (1995)"
          ],
          [
           402,
           170,
           3.4647058823529413,
           "Ghost (1990)"
          ],
          [
           403,
           201,
           3.427860696517413,
           "Batman (1989)"
          ],
          [
           404,
           101,
           3.6732673267326734,
           "Pinocchio (1940)"
          ],
          [
           405,
           344,
           3.313953488372093,
           "Mission: Impossible (1996)"
          ],
          [
           406,
           49,
           2.4489795918367347,
           "Thinner (1996)"
          ],
          [
           407,
           43,
           2.511627906976744,
           "Spy Hard (1996)"
          ],
          [
           408,
           112,
           4.491071428571429,
           "Close Shave, A (1995)"
          ],
          [
           409,
           70,
           3.142857142857143,
           "Jack (1996)"
          ],
          [
           410,
           162,
           3.1296296296296298,
           "Kingpin (1996)"
          ],
          [
           411,
           163,
           2.914110429447853,
           "Nutty Professor, The (1996)"
          ],
          [
           412,
           93,
           2.3978494623655915,
           "Very Brady Sequel, A (1996)"
          ],
          [
           413,
           55,
           2.6363636363636362,
           "Tales from the Crypt Presents: Bordello of Blood (1996)"
          ],
          [
           414,
           62,
           3.532258064516129,
           "My Favorite Year (1982)"
          ],
          [
           415,
           25,
           2.84,
           "Apple Dumpling Gang, The (1975)"
          ],
          [
           416,
           64,
           3.484375,
           "Old Yeller (1957)"
          ],
          [
           417,
           73,
           3.095890410958904,
           "Parent Trap, The (1961)"
          ],
          [
           418,
           129,
           3.5813953488372094,
           "Cinderella (1950)"
          ],
          [
           419,
           178,
           3.7247191011235956,
           "Mary Poppins (1964)"
          ],
          [
           420,
           81,
           3.6666666666666665,
           "Alice in Wonderland (1951)"
          ],
          [
           421,
           106,
           3.5943396226415096,
           "William Shakespeare's Romeo and Juliet (1996)"
          ],
          [
           422,
           26,
           2.8461538461538463,
           "Aladdin and the King of Thieves (1996)"
          ],
          [
           423,
           300,
           3.8333333333333335,
           "E.T. the Extra-Terrestrial (1982)"
          ],
          [
           424,
           19,
           1.3157894736842106,
           "Children of the Corn: The Gathering (1996)"
          ],
          [
           425,
           85,
           3.7411764705882353,
           "Bob Roberts (1992)"
          ],
          [
           426,
           32,
           2.84375,
           "Transformers: The Movie, The (1986)"
          ],
          [
           427,
           219,
           4.292237442922374,
           "To Kill a Mockingbird (1962)"
          ],
          [
           428,
           121,
           3.8181818181818183,
           "Harold and Maude (1971)"
          ],
          [
           429,
           97,
           3.9381443298969074,
           "Day the Earth Stood Still, The (1951)"
          ],
          [
           430,
           93,
           4,
           "Duck Soup (1933)"
          ],
          [
           431,
           153,
           3.5359477124183005,
           "Highlander (1986)"
          ],
          [
           432,
           174,
           3.7701149425287355,
           "Fantasia (1940)"
          ],
          [
           433,
           171,
           3.690058479532164,
           "Heathers (1989)"
          ],
          [
           434,
           67,
           3.8358208955223883,
           "Forbidden Planet (1956)"
          ],
          [
           435,
           216,
           3.949074074074074,
           "Butch Cassidy and the Sundance Kid (1969)"
          ],
          [
           436,
           99,
           3.5353535353535355,
           "American Werewolf in London, An (1981)"
          ],
          [
           437,
           5,
           1,
           "Amityville 1992: It's About Time (1992)"
          ],
          [
           438,
           6,
           1.1666666666666667,
           "Amityville 3-D (1983)"
          ],
          [
           439,
           5,
           1,
           "Amityville: A New Generation (1993)"
          ],
          [
           440,
           14,
           1.6428571428571428,
           "Amityville II: The Possession (1982)"
          ],
          [
           441,
           53,
           2.5660377358490565,
           "Amityville Horror, The (1979)"
          ],
          [
           442,
           4,
           1.25,
           "Amityville Curse, The (1990)"
          ],
          [
           443,
           162,
           3.808641975308642,
           "Birds, The (1963)"
          ],
          [
           444,
           46,
           2.717391304347826,
           "Blob, The (1958)"
          ],
          [
           445,
           22,
           3.5,
           "Body Snatcher, The (1945)"
          ],
          [
           446,
           9,
           2.4444444444444446,
           "Burnt Offerings (1976)"
          ],
          [
           447,
           121,
           3.5041322314049586,
           "Carrie (1976)"
          ],
          [
           448,
           85,
           3.388235294117647,
           "Omen, The (1976)"
          ],
          [
           449,
           117,
           3.034188034188034,
           "Star Trek: The Motion Picture (1979)"
          ],
          [
           450,
           63,
           2.3968253968253967,
           "Star Trek V: The Final Frontier (1989)"
          ],
          [
           451,
           170,
           3.347058823529412,
           "Grease (1978)"
          ],
          [
           452,
           66,
           2.6666666666666665,
           "Jaws 2 (1978)"
          ],
          [
           453,
           16,
           1.9375,
           "Jaws 3-D (1983)"
          ],
          [
           454,
           16,
           2.875,
           "Bastard Out of Carolina (1996)"
          ],
          [
           455,
           145,
           3.2551724137931033,
           "Jackie Chan's First Strike (1996)"
          ],
          [
           456,
           48,
           2.3125,
           "Beverly Hills Ninja (1997)"
          ],
          [
           457,
           27,
           1.7407407407407407,
           "Free Willy 3: The Rescue (1997)"
          ],
          [
           458,
           90,
           3.1222222222222222,
           "Nixon (1995)"
          ],
          [
           459,
           24,
           3.75,
           "Cry, the Beloved Country (1995)"
          ],
          [
           460,
           28,
           3,
           "Crossing Guard, The (1995)"
          ],
          [
           461,
           74,
           3.6216216216216215,
           "Smoke (1995)"
          ],
          [
           462,
           148,
           3.804054054054054,
           "Like Water For Chocolate (Como agua para chocolate) (1992)"
          ],
          [
           463,
           71,
           3.859154929577465,
           "Secret of Roan Inish, The (1994)"
          ],
          [
           464,
           27,
           3.5925925925925926,
           "Vanya on 42nd Street (1994)"
          ],
          [
           465,
           85,
           3.5647058823529414,
           "Jungle Book, The (1994)"
          ],
          [
           466,
           52,
           3.5961538461538463,
           "Red Rock West (1992)"
          ],
          [
           467,
           48,
           3.7916666666666665,
           "Bronx Tale, A (1993)"
          ],
          [
           468,
           64,
           3.3125,
           "Rudy (1993)"
          ],
          [
           469,
           67,
           3.7761194029850746,
           "Short Cuts (1993)"
          ],
          [
           470,
           108,
           3.6666666666666665,
           "Tombstone (1993)"
          ],
          [
           471,
           221,
           3.6108597285067874,
           "Courage Under Fire (1996)"
          ],
          [
           472,
           158,
           3.0822784810126582,
           "Dragonheart (1996)"
          ],
          [
           473,
           126,
           3.126984126984127,
           "James and the Giant Peach (1996)"
          ],
          [
           474,
           194,
           4.252577319587629,
           "Dr. Strangelove or: How I Learned to Stop Worrying and Love the Bomb (1963)"
          ],
          [
           475,
           250,
           3.884,
           "Trainspotting (1996)"
          ],
          [
           476,
           160,
           3.01875,
           "First Wives Club, The (1996)"
          ],
          [
           477,
           95,
           3.210526315789474,
           "Matilda (1996)"
          ],
          [
           478,
           104,
           4.115384615384615,
           "Philadelphia Story, The (1940)"
          ],
          [
           479,
           179,
           4.251396648044692,
           "Vertigo (1958)"
          ],
          [
           480,
           179,
           4.284916201117318,
           "North by Northwest (1959)"
          ],
          [
           481,
           63,
           3.9365079365079363,
           "Apartment, The (1960)"
          ],
          [
           482,
           128,
           3.984375,
           "Some Like It Hot (1959)"
          ],
          [
           483,
           243,
           4.45679012345679,
           "Casablanca (1942)"
          ],
          [
           484,
           138,
           4.2101449275362315,
           "Maltese Falcon, The (1941)"
          ],
          [
           485,
           125,
           3.816,
           "My Fair Lady (1964)"
          ],
          [
           486,
           64,
           3.796875,
           "Sabrina (1954)"
          ],
          [
           487,
           68,
           4.102941176470588,
           "Roman Holiday (1953)"
          ],
          [
           488,
           65,
           4.2,
           "Sunset Blvd. (1950)"
          ],
          [
           489,
           52,
           4.115384615384615,
           "Notorious (1946)"
          ],
          [
           490,
           50,
           4.02,
           "To Catch a Thief (1955)"
          ],
          [
           491,
           67,
           3.791044776119403,
           "Adventures of Robin Hood, The (1938)"
          ],
          [
           492,
           59,
           3.864406779661017,
           "East of Eden (1955)"
          ],
          [
           493,
           60,
           4.15,
           "Thin Man, The (1934)"
          ],
          [
           494,
           56,
           4,
           "His Girl Friday (1940)"
          ],
          [
           495,
           59,
           3.6610169491525424,
           "Around the World in 80 Days (1956)"
          ],
          [
           496,
           231,
           4.121212121212121,
           "It's a Wonderful Life (1946)"
          ],
          [
           497,
           68,
           3.838235294117647,
           "Bringing Up Baby (1938)"
          ],
          [
           498,
           152,
           4.184210526315789,
           "African Queen, The (1951)"
          ],
          [
           499,
           62,
           3.9516129032258065,
           "Cat on a Hot Tin Roof (1958)"
          ],
          [
           500,
           31,
           3.903225806451613,
           "Fly Away Home (1996)"
          ],
          [
           501,
           123,
           3.4959349593495936,
           "Dumbo (1941)"
          ],
          [
           502,
           57,
           3.7017543859649122,
           "Bananas (1971)"
          ],
          [
           503,
           39,
           3.641025641025641,
           "Candidate, The (1972)"
          ],
          [
           504,
           122,
           3.819672131147541,
           "Bonnie and Clyde (1967)"
          ],
          [
           505,
           68,
           4,
           "Dial M for Murder (1954)"
          ],
          [
           506,
           90,
           3.8555555555555556,
           "Rebel Without a Cause (1955)"
          ],
          [
           507,
           98,
           3.816326530612245,
           "Streetcar Named Desire, A (1951)"
          ],
          [
           508,
           215,
           3.5953488372093023,
           "People vs. Larry Flynt, The (1996)"
          ],
          [
           509,
           121,
           3.8512396694214877,
           "My Left Foot (1989)"
          ],
          [
           510,
           121,
           3.9421487603305785,
           "Magnificent Seven, The (1954)"
          ],
          [
           511,
           173,
           4.23121387283237,
           "Lawrence of Arabia (1962)"
          ],
          [
           512,
           57,
           4,
           "Wings of Desire (1987)"
          ],
          [
           513,
           72,
           4.333333333333333,
           "Third Man, The (1949)"
          ],
          [
           514,
           180,
           3.911111111111111,
           "Annie Hall (1977)"
          ],
          [
           515,
           201,
           4.203980099502488,
           "Boot, Das (1981)"
          ],
          [
           516,
           63,
           3.9682539682539684,
           "Local Hero (1983)"
          ],
          [
           517,
           91,
           3.769230769230769,
           "Manhattan (1979)"
          ],
          [
           518,
           89,
           3.651685393258427,
           "Miller's Crossing (1990)"
          ],
          [
           519,
           80,
           4.1,
           "Treasure of the Sierra Madre, The (1948)"
          ],
          [
           520,
           124,
           4.104838709677419,
           "Great Escape, The (1963)"
          ],
          [
           521,
           120,
           3.8333333333333335,
           "Deer Hunter, The (1978)"
          ],
          [
           522,
           35,
           3.7714285714285714,
           "Down by Law (1986)"
          ],
          [
           523,
           164,
           3.9939024390243905,
           "Cool Hand Luke (1967)"
          ],
          [
           524,
           46,
           4.021739130434782,
           "Great Dictator, The (1940)"
          ],
          [
           525,
           73,
           4.027397260273973,
           "Big Sleep, The (1946)"
          ],
          [
           526,
           124,
           3.8306451612903225,
           "Ben-Hur (1959)"
          ],
          [
           527,
           195,
           4.02051282051282,
           "Gandhi (1982)"
          ],
          [
           528,
           121,
           4.132231404958677,
           "Killing Fields, The (1984)"
          ],
          [
           529,
           93,
           3.978494623655914,
           "My Life as a Dog (Mitt liv som hund) (1985)"
          ],
          [
           530,
           80,
           4.025,
           "Man Who Would Be King, The (1975)"
          ],
          [
           531,
           129,
           3.9224806201550386,
           "Shine (1996)"
          ],
          [
           532,
           22,
           3.3181818181818183,
           "Kama Sutra: A Tale of Love (1996)"
          ],
          [
           533,
           15,
           3.6666666666666665,
           "Daytrippers, The (1996)"
          ],
          [
           534,
           13,
           3.3076923076923075,
           "Traveller (1997)"
          ],
          [
           535,
           54,
           3.1666666666666665,
           "Addicted to Love (1997)"
          ],
          [
           536,
           10,
           3.3,
           "Ponette (1996)"
          ],
          [
           537,
           30,
           3.6333333333333333,
           "My Own Private Idaho (1991)"
          ],
          [
           538,
           66,
           3.4242424242424243,
           "Anastasia (1997)"
          ],
          [
           539,
           44,
           2.477272727272727,
           "Mouse Hunt (1997)"
          ],
          [
           540,
           43,
           2.511627906976744,
           "Money Train (1995)"
          ],
          [
           541,
           49,
           2.877551020408163,
           "Mortal Kombat (1995)"
          ],
          [
           542,
           51,
           2.5294117647058822,
           "Pocahontas (1995)"
          ],
          [
           543,
           21,
           3.619047619047619,
           "Misérables, Les (1995)"
          ],
          [
           544,
           71,
           3.1549295774647885,
           "Things to Do in Denver when You're Dead (1995)"
          ],
          [
           545,
           12,
           1.8333333333333333,
           "Vampire in Brooklyn (1995)"
          ],
          [
           546,
           254,
           3.031496062992126,
           "Broken Arrow (1996)"
          ],
          [
           547,
           41,
           3.341463414634146,
           "Young Poisoner's Handbook, The (1995)"
          ],
          [
           548,
           12,
           2.1666666666666665,
           "NeverEnding Story III, The (1994)"
          ],
          [
           549,
           92,
           3.5652173913043477,
           "Rob Roy (1995)"
          ],
          [
           550,
           151,
           3.2847682119205297,
           "Die Hard: With a Vengeance (1995)"
          ],
          [
           551,
           24,
           2.4166666666666665,
           "Lord of Illusions (1995)"
          ],
          [
           552,
           45,
           2.8666666666666667,
           "Species (1995)"
          ],
          [
           553,
           63,
           3.2857142857142856,
           "Walk in the Clouds, A (1995)"
          ],
          [
           554,
           102,
           2.803921568627451,
           "Waterworld (1995)"
          ],
          [
           555,
           10,
           2,
           "White Man's Burden (1995)"
          ],
          [
           556,
           12,
           2.5,
           "Wild Bill (1995)"
          ],
          [
           557,
           17,
           3.1176470588235294,
           "Farinelli: il castrato (1994)"
          ],
          [
           558,
           70,
           3.6714285714285713,
           "Heavenly Creatures (1994)"
          ],
          [
           559,
           137,
           3.1824817518248176,
           "Interview with the Vampire (1994)"
          ],
          [
           560,
           22,
           2.727272727272727,
           "Kid in King Arthur's Court, A (1995)"
          ],
          [
           561,
           59,
           3.0677966101694913,
           "Mary Shelley's Frankenstein (1994)"
          ],
          [
           562,
           48,
           3.2083333333333335,
           "Quick and the Dead, The (1995)"
          ],
          [
           563,
           29,
           2.413793103448276,
           "Stephen King's The Langoliers (1995)"
          ],
          [
           564,
           27,
           2.037037037037037,
           "Tales from the Hood (1995)"
          ],
          [
           565,
           22,
           2.6818181818181817,
           "Village of the Damned (1995)"
          ],
          [
           566,
           179,
           3.569832402234637,
           "Clear and Present Danger (1994)"
          ],
          [
           567,
           35,
           2.8,
           "Wes Craven's New Nightmare (1994)"
          ],
          [
           568,
           230,
           3.6478260869565218,
           "Speed (1994)"
          ],
          [
           569,
           67,
           2.701492537313433,
           "Wolf (1994)"
          ],
          [
           570,
           50,
           3.1,
           "Wyatt Earp (1994)"
          ],
          [
           571,
           28,
           2.5,
           "Another Stakeout (1993)"
          ],
          [
           572,
           29,
           2.7586206896551726,
           "Blown Away (1994)"
          ],
          [
           573,
           33,
           2.9393939393939394,
           "Body Snatchers (1993)"
          ],
          [
           574,
           15,
           2.2,
           "Boxing Helena (1993)"
          ],
          [
           575,
           44,
           2.5454545454545454,
           "City Slickers II: The Legend of Curly's Gold (1994)"
          ],
          [
           576,
           93,
           3.021505376344086,
           "Cliffhanger (1993)"
          ],
          [
           577,
           41,
           2.2195121951219514,
           "Coneheads (1993)"
          ],
          [
           578,
           92,
           3.152173913043478,
           "Demolition Man (1993)"
          ],
          [
           579,
           19,
           2.6315789473684212,
           "Fatal Instinct (1993)"
          ],
          [
           580,
           32,
           3.375,
           "Englishman Who Went Up a Hill, But Came Down a Mountain, The (1995)"
          ],
          [
           581,
           59,
           3.2203389830508473,
           "Kalifornia (1993)"
          ],
          [
           582,
           168,
           3.6011904761904763,
           "Piano, The (1993)"
          ],
          [
           583,
           37,
           3,
           "Romeo Is Bleeding (1993)"
          ],
          [
           584,
           79,
           3.5443037974683542,
           "Secret Garden, The (1993)"
          ],
          [
           585,
           39,
           2.4871794871794872,
           "Son in Law (1993)"
          ],
          [
           586,
           34,
           2.676470588235294,
           "Terminal Velocity (1994)"
          ],
          [
           587,
           14,
           3.5714285714285716,
           "Hour of the Pig, The (1993)"
          ],
          [
           588,
           202,
           3.792079207920792,
           "Beauty and the Beast (1991)"
          ],
          [
           589,
           43,
           4.023255813953488,
           "Wild Bunch, The (1969)"
          ],
          [
           590,
           18,
           2,
           "Hellraiser: Bloodline (1996)"
          ],
          [
           591,
           178,
           3.601123595505618,
           "Primal Fear (1996)"
          ],
          [
           592,
           9,
           3.3333333333333335,
           "True Crime (1995)"
          ],
          [
           593,
           12,
           3.1666666666666665,
           "Stalingrad (1993)"
          ],
          [
           594,
           5,
           2.4,
           "Heavy (1995)"
          ],
          [
           595,
           64,
           3.09375,
           "Fan, The (1996)"
          ],
          [
           596,
           127,
           3.377952755905512,
           "Hunchback of Notre Dame, The (1996)"
          ],
          [
           597,
           206,
           3.150485436893204,
           "Eraser (1996)"
          ],
          [
           598,
           4,
           2.25,
           "Big Squeeze, The (1996)"
          ],
          [
           599,
           1,
           1,
           "Police Story 4: Project S (Chao ji ji hua) (1993)"
          ],
          [
           600,
           2,
           3,
           "Daniel Defoe's Robinson Crusoe (1996)"
          ],
          [
           601,
           20,
           4,
           "For Whom the Bell Tolls (1943)"
          ],
          [
           602,
           50,
           3.7,
           "American in Paris, An (1951)"
          ],
          [
           603,
           209,
           4.3875598086124405,
           "Rear Window (1954)"
          ],
          [
           604,
           81,
           4.012345679012346,
           "It Happened One Night (1934)"
          ],
          [
           605,
           31,
           3.3548387096774195,
           "Meet Me in St. Louis (1944)"
          ],
          [
           606,
           66,
           4.045454545454546,
           "All About Eve (1950)"
          ],
          [
           607,
           66,
           3.9696969696969697,
           "Rebecca (1940)"
          ],
          [
           608,
           30,
           3.933333333333333,
           "Spellbound (1945)"
          ],
          [
           609,
           60,
           3.5833333333333335,
           "Father of the Bride (1950)"
          ],
          [
           610,
           41,
           3.658536585365854,
           "Gigi (1958)"
          ],
          [
           611,
           40,
           4.1,
           "Laura (1944)"
          ],
          [
           612,
           34,
           3.9411764705882355,
           "Lost Horizon (1937)"
          ],
          [
           613,
           27,
           4.037037037037037,
           "My Man Godfrey (1936)"
          ],
          [
           614,
           51,
           3.7450980392156863,
           "Giant (1956)"
          ],
          [
           615,
           59,
           4.0508474576271185,
           "39 Steps, The (1935)"
          ],
          [
           616,
           64,
           3.421875,
           "Night of the Living Dead (1968)"
          ],
          [
           617,
           18,
           3.7777777777777777,
           "Blue Angel, The (Blaue Engel, Der) (1930)"
          ],
          [
           618,
           18,
           3.611111111111111,
           "Picnic (1955)"
          ],
          [
           619,
           64,
           3.171875,
           "Extreme Measures (1996)"
          ],
          [
           620,
           43,
           3.0930232558139537,
           "Chamber, The (1996)"
          ],
          [
           621,
           11,
           2.909090909090909,
           "Davy Crockett, King of the Wild Frontier (1955)"
          ],
          [
           622,
           39,
           3.358974358974359,
           "Swiss Family Robinson (1960)"
          ],
          [
           623,
           39,
           2.923076923076923,
           "Angels in the Outfield (1994)"
          ],
          [
           624,
           22,
           3.272727272727273,
           "Three Caballeros, The (1945)"
          ],
          [
           625,
           82,
           3.3292682926829267,
           "Sword in the Stone, The (1963)"
          ],
          [
           626,
           4,
           3.25,
           "So Dear to My Heart (1949)"
          ],
          [
           627,
           75,
           3.2266666666666666,
           "Robin Hood: Prince of Thieves (1991)"
          ],
          [
           628,
           169,
           3.514792899408284,
           "Sleepers (1996)"
          ],
          [
           629,
           77,
           3.3376623376623376,
           "Victor/Victoria (1982)"
          ],
          [
           630,
           31,
           3.2903225806451615,
           "Great Race, The (1965)"
          ],
          [
           631,
           119,
           3.6218487394957983,
           "Crying Game, The (1992)"
          ],
          [
           632,
           58,
           3.896551724137931,
           "Sophie's Choice (1982)"
          ],
          [
           633,
           69,
           4.057971014492754,
           "Christmas Carol, A (1938)"
          ],
          [
           634,
           24,
           3.75,
           "Microcosmos: Le peuple de l'herbe (1996)"
          ],
          [
           635,
           23,
           2.739130434782609,
           "Fog, The (1980)"
          ],
          [
           636,
           91,
           3.241758241758242,
           "Escape from New York (1981)"
          ],
          [
           637,
           38,
           3.026315789473684,
           "Howling, The (1981)"
          ],
          [
           638,
           44,
           3.772727272727273,
           "Return of Martin Guerre, The (Retour de Martin Guerre, Le) (1982)"
          ],
          [
           639,
           40,
           3.7,
           "Tin Drum, The (Blechtrommel, Die) (1979)"
          ],
          [
           640,
           82,
           3.024390243902439,
           "Cook the Thief His Wife & Her Lover, The (1989)"
          ],
          [
           641,
           33,
           4.212121212121212,
           "Paths of Glory (1957)"
          ],
          [
           642,
           89,
           3.4831460674157304,
           "Grifters, The (1990)"
          ],
          [
           643,
           4,
           3,
           "The Innocent (1994)"
          ],
          [
           644,
           35,
           3.7714285714285714,
           "Thin Blue Line, The (1988)"
          ],
          [
           645,
           27,
           3.814814814814815,
           "Paris Is Burning (1990)"
          ],
          [
           646,
           38,
           3.8684210526315788,
           "Once Upon a Time in the West (1969)"
          ],
          [
           647,
           70,
           4.1,
           "Ran (1985)"
          ],
          [
           648,
           67,
           4.029850746268656,
           "Quiet Man, The (1952)"
          ],
          [
           649,
           50,
           3.4,
           "Once Upon a Time in America (1984)"
          ],
          [
           650,
           72,
           3.5416666666666665,
           "Seventh Seal, The (Sjunde inseglet, Det) (1957)"
          ],
          [
           651,
           171,
           4.076023391812866,
           "Glory (1989)"
          ],
          [
           652,
           90,
           3.888888888888889,
           "Rosencrantz and Guildenstern Are Dead (1990)"
          ],
          [
           653,
           34,
           3.911764705882353,
           "Touch of Evil (1958)"
          ],
          [
           654,
           147,
           4.136054421768708,
           "Chinatown (1974)"
          ],
          [
           655,
           227,
           3.881057268722467,
           "Stand by Me (1986)"
          ],
          [
           656,
           44,
           4,
           "M (1931)"
          ],
          [
           657,
           131,
           4.259541984732825,
           "Manchurian Candidate, The (1962)"
          ],
          [
           658,
           79,
           3.4177215189873418,
           "Pump Up the Volume (1990)"
          ],
          [
           659,
           115,
           4.078260869565217,
           "Arsenic and Old Lace (1944)"
          ],
          [
           660,
           153,
           3.764705882352941,
           "Fried Green Tomatoes (1991)"
          ],
          [
           661,
           88,
           4.1022727272727275,
           "High Noon (1952)"
          ],
          [
           662,
           82,
           3.426829268292683,
           "Somewhere in Time (1980)"
          ],
          [
           663,
           116,
           3.9051724137931036,
           "Being There (1979)"
          ],
          [
           664,
           46,
           3.5434782608695654,
           "Paris, Texas (1984)"
          ],
          [
           665,
           100,
           2.83,
           "Alien 3 (1992)"
          ],
          [
           666,
           5,
           2.4,
           "Blood For Dracula (Andy Warhol's Dracula) (1974)"
          ],
          [
           667,
           12,
           2.1666666666666665,
           "Audrey Rose (1977)"
          ],
          [
           668,
           6,
           2.1666666666666665,
           "Blood Beach (1981)"
          ],
          [
           669,
           13,
           1.6153846153846154,
           "Body Parts (1991)"
          ],
          [
           670,
           36,
           3,
           "Body Snatchers (1993)"
          ],
          [
           671,
           46,
           3.608695652173913,
           "Bride of Frankenstein (1935)"
          ],
          [
           672,
           65,
           2.723076923076923,
           "Candyman (1992)"
          ],
          [
           673,
           86,
           3.5232558139534884,
           "Cape Fear (1962)"
          ],
          [
           674,
           48,
           2.8958333333333335,
           "Cat People (1982)"
          ],
          [
           675,
           54,
           3.5555555555555554,
           "Nosferatu (Nosferatu, eine Symphonie des Grauens) (1922)"
          ],
          [
           676,
           77,
           3.3376623376623376,
           "Crucible, The (1996)"
          ],
          [
           677,
           1,
           3,
           "Fire on the Mountain (1996)"
          ],
          [
           678,
           219,
           2.808219178082192,
           "Volcano (1997)"
          ],
          [
           679,
           107,
           3.046728971962617,
           "Conan the Barbarian (1981)"
          ],
          [
           680,
           34,
           2.5588235294117645,
           "Kull the Conqueror (1997)"
          ],
          [
           681,
           27,
           2.4444444444444446,
           "Wishmaster (1997)"
          ],
          [
           682,
           100,
           3.06,
           "I Know What You Did Last Summer (1997)"
          ],
          [
           683,
           49,
           2.4081632653061225,
           "Rocket Man (1997)"
          ],
          [
           684,
           169,
           3.7928994082840237,
           "In the Line of Fire (1993)"
          ],
          [
           685,
           157,
           3.356687898089172,
           "Executive Decision (1996)"
          ],
          [
           686,
           50,
           3.68,
           "Perfect World, A (1993)"
          ],
          [
           687,
           69,
           2.1884057971014492,
           "McHale's Navy (1997)"
          ],
          [
           688,
           44,
           1.8409090909090908,
           "Leave It to Beaver (1997)"
          ],
          [
           689,
           87,
           3.1494252873563218,
           "Jackal, The (1997)"
          ],
          [
           690,
           155,
           3.458064516129032,
           "Seven Years in Tibet (1997)"
          ],
          [
           691,
           16,
           3.5,
           "Dark City (1998)"
          ],
          [
           692,
           164,
           3.6280487804878048,
           "American President, The (1995)"
          ],
          [
           693,
           91,
           3.6483516483516483,
           "Casino (1995)"
          ],
          [
           694,
           44,
           4.045454545454546,
           "Persuasion (1995)"
          ],
          [
           695,
           13,
           2.923076923076923,
           "Kicking and Screaming (1995)"
          ],
          [
           696,
           79,
           3.1392405063291138,
           "City Hall (1996)"
          ],
          [
           697,
           40,
           3.425,
           "Basketball Diaries, The (1995)"
          ],
          [
           698,
           10,
           3,
           "Browning Version, The (1994)"
          ],
          [
           699,
           102,
           3.676470588235294,
           "Little Women (1994)"
          ],
          [
           700,
           15,
           2.6,
           "Miami Rhapsody (1995)"
          ],
          [
           701,
           10,
           4,
           "Wonderful, Horrible Life of Leni Riefenstahl, The (1993)"
          ],
          [
           702,
           53,
           3.018867924528302,
           "Barcelona (1994)"
          ],
          [
           703,
           19,
           3.5789473684210527,
           "Widows' Peak (1994)"
          ],
          [
           704,
           24,
           3.0416666666666665,
           "House of the Spirits, The (1993)"
          ],
          [
           705,
           137,
           3.9927007299270074,
           "Singin' in the Rain (1952)"
          ],
          [
           706,
           6,
           2.6666666666666665,
           "Bad Moon (1996)"
          ],
          [
           707,
           70,
           3.9285714285714284,
           "Enchanted April (1991)"
          ],
          [
           708,
           101,
           3.4752475247524752,
           "Sex, Lies, and Videotape (1989)"
          ],
          [
           709,
           104,
           4.028846153846154,
           "Strictly Ballroom (1992)"
          ],
          [
           710,
           79,
           3.569620253164557,
           "Better Off Dead... (1985)"
          ],
          [
           711,
           1,
           4,
           "Substance of Fire, The (1996)"
          ],
          [
           712,
           51,
           3.0784313725490198,
           "Tin Men (1987)"
          ],
          [
           713,
           72,
           3.611111111111111,
           "Othello (1995)"
          ],
          [
           714,
           13,
           3.230769230769231,
           "Carrington (1995)"
          ],
          [
           715,
           87,
           3.2758620689655173,
           "To Die For (1995)"
          ],
          [
           716,
           58,
           3.1551724137931036,
           "Home for the Holidays (1995)"
          ],
          [
           717,
           82,
           2.817073170731707,
           "Juror, The (1996)"
          ],
          [
           718,
           16,
           3.6875,
           "In the Bleak Midwinter (1995)"
          ],
          [
           719,
           29,
           2.413793103448276,
           "Canadian Bacon (1994)"
          ],
          [
           720,
           86,
           3.0232558139534884,
           "First Knight (1995)"
          ],
          [
           721,
           54,
           3.4444444444444446,
           "Mallrats (1995)"
          ],
          [
           722,
           58,
           2.9310344827586206,
           "Nine Months (1995)"
          ],
          [
           723,
           34,
           3.1470588235294117,
           "Boys on the Side (1995)"
          ],
          [
           724,
           76,
           3.486842105263158,
           "Circle of Friends (1995)"
          ],
          [
           725,
           16,
           2.75,
           "Exit to Eden (1994)"
          ],
          [
           726,
           14,
           2.4285714285714284,
           "Fluke (1995)"
          ],
          [
           727,
           63,
           3.4603174603174605,
           "Immortal Beloved (1994)"
          ],
          [
           728,
           45,
           3.022222222222222,
           "Junior (1994)"
          ],
          [
           729,
           81,
           3.4814814814814814,
           "Nell (1994)"
          ],
          [
           730,
           24,
           3.5,
           "Queen Margot (Reine Margot, La) (1994)"
          ],
          [
           731,
           39,
           3.1538461538461537,
           "Corrina, Corrina (1994)"
          ],
          [
           732,
           180,
           3.65,
           "Dave (1993)"
          ],
          [
           733,
           15,
           3.2,
           "Go Fish (1994)"
          ],
          [
           734,
           27,
           2.5185185185185186,
           "Made in America (1993)"
          ],
          [
           735,
           137,
           3.854014598540146,
           "Philadelphia (1993)"
          ],
          [
           736,
           78,
           3.9358974358974357,
           "Shadowlands (1993)"
          ],
          [
           737,
           59,
           2.983050847457627,
           "Sirens (1994)"
          ],
          [
           738,
           31,
           2.838709677419355,
           "Threesome (1994)"
          ],
          [
           739,
           164,
           3.323170731707317,
           "Pretty Woman (1990)"
          ],
          [
           740,
           63,
           3.4761904761904763,
           "Jane Eyre (1996)"
          ],
          [
           741,
           58,
           3.4482758620689653,
           "Last Supper, The (1995)"
          ],
          [
           742,
           267,
           3.644194756554307,
           "Ransom (1996)"
          ],
          [
           743,
           39,
           1.9487179487179487,
           "Crow: City of Angels, The (1996)"
          ],
          [
           744,
           92,
           3.4565217391304346,
           "Michael Collins (1996)"
          ],
          [
           745,
           16,
           3.875,
           "Ruling Class, The (1972)"
          ],
          [
           746,
           119,
           3.6638655462184873,
           "Real Genius (1985)"
          ],
          [
           747,
           102,
           3.4607843137254903,
           "Benny & Joon (1993)"
          ],
          [
           748,
           316,
           3.1234177215189876,
           "Saint, The (1997)"
          ],
          [
           749,
           51,
           3.176470588235294,
           "MatchMaker, The (1997)"
          ],
          [
           750,
           124,
           3.8548387096774195,
           "Amistad (1997)"
          ],
          [
           751,
           180,
           3.4277777777777776,
           "Tomorrow Never Dies (1997)"
          ],
          [
           752,
           39,
           3.3076923076923075,
           "Replacement Killers, The (1998)"
          ],
          [
           753,
           24,
           3.7083333333333335,
           "Burnt By the Sun (1994)"
          ],
          [
           754,
           57,
           3.3859649122807016,
           "Red Corner (1997)"
          ],
          [
           755,
           96,
           3.3125,
           "Jumanji (1995)"
          ],
          [
           756,
           128,
           2.8984375,
           "Father of the Bride Part II (1995)"
          ],
          [
           757,
           4,
           2.75,
           "Across the Sea of Time (1995)"
          ],
          [
           758,
           21,
           1.7142857142857142,
           "Lawnmower Man 2: Beyond Cyberspace (1996)"
          ],
          [
           759,
           11,
           2.1818181818181817,
           "Fair Game (1995)"
          ],
          [
           760,
           46,
           2.652173913043478,
           "Screamers (1995)"
          ],
          [
           761,
           44,
           3.0454545454545454,
           "Nick of Time (1995)"
          ],
          [
           762,
           115,
           3.391304347826087,
           "Beautiful Girls (1996)"
          ],
          [
           763,
           149,
           3.389261744966443,
           "Happy Gilmore (1996)"
          ],
          [
           764,
           29,
           2.7586206896551726,
           "If Lucy Fell (1996)"
          ],
          [
           765,
           32,
           2.8125,
           "Boomerang (1992)"
          ],
          [
           766,
           9,
           3.111111111111111,
           "Man of the Year (1995)"
          ],
          [
           767,
           11,
           2.1818181818181817,
           "Addiction, The (1995)"
          ],
          [
           768,
           52,
           3.076923076923077,
           "Casper (1995)"
          ],
          [
           769,
           42,
           2.4523809523809526,
           "Congo (1995)"
          ],
          [
           770,
           57,
           3.3859649122807016,
           "Devil in a Blue Dress (1995)"
          ],
          [
           771,
           41,
           2.6341463414634148,
           "Johnny Mnemonic (1995)"
          ],
          [
           772,
           49,
           3.061224489795918,
           "Kids (1995)"
          ],
          [
           773,
           17,
           2.9411764705882355,
           "Mute Witness (1994)"
          ],
          [
           774,
           32,
           2.9375,
           "Prophecy, The (1995)"
          ],
          [
           775,
           26,
           2.769230769230769,
           "Something to Talk About (1995)"
          ],
          [
           776,
           9,
           3.2222222222222223,
           "Three Wishes (1995)"
          ],
          [
           777,
           4,
           1.25,
           "Castle Freak (1995)"
          ],
          [
           778,
           76,
           3.5526315789473686,
           "Don Juan DeMarco (1995)"
          ],
          [
           779,
           31,
           2.5483870967741935,
           "Drop Zone (1994)"
          ],
          [
           780,
           69,
           3,
           "Dumb & Dumber (1994)"
          ],
          [
           781,
           84,
           3.3333333333333335,
           "French Kiss (1995)"
          ],
          [
           782,
           10,
           2.6,
           "Little Odessa (1994)"
          ],
          [
           783,
           37,
           2.72972972972973,
           "Milk Money (1994)"
          ],
          [
           784,
           2,
           1,
           "Beyond Bedlam (1993)"
          ],
          [
           785,
           39,
           3.1538461538461537,
           "Only You (1994)"
          ],
          [
           786,
           14,
           2.642857142857143,
           "Perez Family, The (1995)"
          ],
          [
           787,
           13,
           3.230769230769231,
           "Roommates (1995)"
          ],
          [
           788,
           3,
           1.6666666666666667,
           "Relative Fear (1994)"
          ],
          [
           789,
           47,
           3.574468085106383,
           "Swimming with Sharks (1995)"
          ],
          [
           790,
           66,
           2.909090909090909,
           "Tommy Boy (1995)"
          ],
          [
           791,
           10,
           2.5,
           "Baby-Sitters Club, The (1995)"
          ],
          [
           792,
           86,
           3.7209302325581395,
           "Bullets Over Broadway (1994)"
          ],
          [
           793,
           10,
           3.5,
           "Crooklyn (1994)"
          ],
          [
           794,
           46,
           3.652173913043478,
           "It Could Happen to You (1994)"
          ],
          [
           795,
           21,
           2.4285714285714284,
           "Richie Rich (1994)"
          ],
          [
           796,
           36,
           3.0833333333333335,
           "Speechless (1994)"
          ],
          [
           797,
           31,
           3.096774193548387,
           "Timecop (1994)"
          ],
          [
           798,
           9,
           2.2222222222222223,
           "Bad Company (1995)"
          ],
          [
           799,
           5,
           3.2,
           "Boys Life (1995)"
          ],
          [
           800,
           26,
           2.8846153846153846,
           "In the Mouth of Madness (1995)"
          ],
          [
           801,
           16,
           2.8125,
           "Air Up There, The (1994)"
          ],
          [
           802,
           40,
           2.7,
           "Hard Target (1993)"
          ],
          [
           803,
           9,
           2.5555555555555554,
           "Heaven & Earth (1993)"
          ],
          [
           804,
           8,
           2.875,
           "Jimmy Hollywood (1994)"
          ],
          [
           805,
           27,
           3.6296296296296298,
           "Manhattan Murder Mystery (1993)"
          ],
          [
           806,
           50,
           3.46,
           "Menace II Society (1993)"
          ],
          [
           807,
           9,
           2.7777777777777777,
           "Poetic Justice (1993)"
          ],
          [
           808,
           31,
           2.838709677419355,
           "Program, The (1993)"
          ],
          [
           809,
           43,
           2.9069767441860463,
           "Rising Sun (1993)"
          ],
          [
           810,
           45,
           2.888888888888889,
           "Shadow, The (1994)"
          ],
          [
           811,
           18,
           3.9444444444444446,
           "Thirty-Two Short Films About Glenn Gould (1993)"
          ],
          [
           812,
           18,
           3.111111111111111,
           "Andre (1994)"
          ],
          [
           813,
           56,
           3.892857142857143,
           "Celluloid Closet, The (1995)"
          ],
          [
           814,
           1,
           5,
           "Great Day in Harlem, A (1994)"
          ],
          [
           815,
           112,
           3.232142857142857,
           "One Fine Day (1996)"
          ],
          [
           816,
           21,
           2.4285714285714284,
           "Candyman: Farewell to the Flesh (1995)"
          ],
          [
           817,
           3,
           2.6666666666666665,
           "Frisk (1995)"
          ],
          [
           818,
           25,
           2.76,
           "Girl 6 (1996)"
          ],
          [
           819,
           40,
           2.7,
           "Eddie (1996)"
          ],
          [
           820,
           93,
           2.774193548387097,
           "Space Jam (1996)"
          ],
          [
           821,
           22,
           3.0454545454545454,
           "Mrs. Winterbourne (1996)"
          ],
          [
           822,
           4,
           3,
           "Faces (1968)"
          ],
          [
           823,
           82,
           2.8780487804878048,
           "Mulholland Falls (1996)"
          ],
          [
           824,
           49,
           2.7551020408163267,
           "Great White Hype, The (1996)"
          ],
          [
           825,
           83,
           3.036144578313253,
           "Arrival, The (1996)"
          ],
          [
           826,
           80,
           2.575,
           "Phantom, The (1996)"
          ],
          [
           827,
           57,
           2.7719298245614037,
           "Daylight (1996)"
          ],
          [
           828,
           13,
           2.6923076923076925,
           "Alaska (1996)"
          ],
          [
           829,
           34,
           2.6470588235294117,
           "Fled (1996)"
          ],
          [
           830,
           1,
           1,
           "Power 98 (1995)"
          ],
          [
           831,
           91,
           2.4615384615384617,
           "Escape from L.A. (1996)"
          ],
          [
           832,
           22,
           2.5454545454545454,
           "Bogus (1996)"
          ],
          [
           833,
           49,
           3.204081632653061,
           "Bulletproof (1996)"
          ],
          [
           834,
           25,
           2.2,
           "Halloween: The Curse of Michael Myers (1995)"
          ],
          [
           835,
           15,
           3.8666666666666667,
           "Gay Divorcee, The (1934)"
          ],
          [
           836,
           26,
           3.769230769230769,
           "Ninotchka (1939)"
          ],
          [
           837,
           25,
           3.92,
           "Meet John Doe (1941)"
          ],
          [
           838,
           4,
           2.75,
           "In the Line of Duty 2 (1987)"
          ],
          [
           839,
           4,
           2.5,
           "Loch Ness (1995)"
          ],
          [
           840,
           53,
           2.660377358490566,
           "Last Man Standing (1996)"
          ],
          [
           841,
           48,
           2.75,
           "Glimmer Man, The (1996)"
          ],
          [
           842,
           27,
           3.1481481481481484,
           "Pollyanna (1960)"
          ],
          [
           843,
           30,
           3,
           "Shaggy Dog, The (1959)"
          ],
          [
           844,
           42,
           3.357142857142857,
           "Freeway (1996)"
          ],
          [
           845,
           176,
           3.465909090909091,
           "That Thing You Do! (1996)"
          ],
          [
           846,
           44,
           3.0681818181818183,
           "To Gillian on Her 37th Birthday (1996)"
          ],
          [
           847,
           55,
           3.727272727272727,
           "Looking for Richard (1996)"
          ],
          [
           848,
           9,
           3.5555555555555554,
           "Murder, My Sweet (1944)"
          ],
          [
           849,
           53,
           2.7169811320754715,
           "Days of Thunder (1990)"
          ],
          [
           850,
           4,
           4,
           "Perfect Candidate, A (1996)"
          ],
          [
           851,
           4,
           3.75,
           "Two or Three Things I Know About Her (1966)"
          ],
          [
           852,
           1,
           1,
           "Bloody Child, The (1996)"
          ],
          [
           853,
           14,
           3.857142857142857,
           "Braindead (1992)"
          ],
          [
           854,
           16,
           3.375,
           "Bad Taste (1987)"
          ],
          [
           855,
           66,
           3.727272727272727,
           "Diva (1981)"
          ],
          [
           856,
           36,
           3.8333333333333335,
           "Night on Earth (1991)"
          ],
          [
           857,
           1,
           3,
           "Paris Was a Woman (1995)"
          ],
          [
           858,
           3,
           1,
           "Amityville: Dollhouse (1996)"
          ],
          [
           859,
           15,
           2.6666666666666665,
           "April Fool's Day (1986)"
          ],
          [
           860,
           16,
           2.25,
           "Believers, The (1987)"
          ],
          [
           861,
           3,
           2.3333333333333335,
           "Nosferatu a Venezia (1986)"
          ],
          [
           862,
           18,
           2.111111111111111,
           "Jingle All the Way (1996)"
          ],
          [
           863,
           24,
           3.9166666666666665,
           "Garden of Finzi-Contini, The (Giardino dei Finzi-Contini, Il) (1970)"
          ],
          [
           864,
           86,
           3.1627906976744184,
           "My Fellow Americans (1996)"
          ],
          [
           865,
           21,
           3.4761904761904763,
           "Ice Storm, The (1997)"
          ],
          [
           866,
           119,
           3.319327731092437,
           "Michael (1996)"
          ],
          [
           867,
           6,
           4,
           "Whole Wide World, The (1996)"
          ],
          [
           868,
           5,
           3.8,
           "Hearts and Minds (1996)"
          ],
          [
           869,
           24,
           3,
           "Fools Rush In (1997)"
          ],
          [
           870,
           9,
           2.7777777777777777,
           "Touch (1997)"
          ],
          [
           871,
           75,
           2.4,
           "Vegas Vacation (1997)"
          ],
          [
           872,
           42,
           3.0952380952380953,
           "Love Jones (1997)"
          ],
          [
           873,
           81,
           2.962962962962963,
           "Picture Perfect (1997)"
          ],
          [
           874,
           39,
           3.2564102564102564,
           "Career Girls (1997)"
          ],
          [
           875,
           53,
           2.7358490566037736,
           "She's So Lovely (1997)"
          ],
          [
           876,
           47,
           2.702127659574468,
           "Money Talks (1997)"
          ],
          [
           877,
           52,
           2.5384615384615383,
           "Excess Baggage (1997)"
          ],
          [
           878,
           33,
           2.515151515151515,
           "That Darn Cat! (1997)"
          ],
          [
           879,
           136,
           3.2720588235294117,
           "Peacemaker, The (1997)"
          ],
          [
           880,
           59,
           3.169491525423729,
           "Soul Food (1997)"
          ],
          [
           881,
           45,
           2.933333333333333,
           "Money Talks (1997)"
          ],
          [
           882,
           34,
           3.2941176470588234,
           "Washington Square (1997)"
          ],
          [
           883,
           13,
           3.230769230769231,
           "Telling Lies in America (1997)"
          ],
          [
           884,
           7,
           3.2857142857142856,
           "Year of the Horse (1997)"
          ],
          [
           885,
           13,
           2.230769230769231,
           "Phantoms (1998)"
          ],
          [
           886,
           53,
           3.0754716981132075,
           "Life Less Ordinary, A (1997)"
          ],
          [
           887,
           64,
           3.609375,
           "Eve's Bayou (1997)"
          ],
          [
           888,
           15,
           3.466666666666667,
           "One Night Stand (1997)"
          ],
          [
           889,
           13,
           3.3846153846153846,
           "Tango Lesson, The (1997)"
          ],
          [
           890,
           43,
           1.9534883720930232,
           "Mortal Kombat: Annihilation (1997)"
          ],
          [
           891,
           6,
           2.6666666666666665,
           "Bent (1997)"
          ],
          [
           892,
           53,
           2.7547169811320753,
           "Flubber (1997)"
          ],
          [
           893,
           14,
           2.4285714285714284,
           "For Richer or Poorer (1997)"
          ],
          [
           894,
           19,
           1.894736842105263,
           "Home Alone 3 (1997)"
          ],
          [
           895,
           106,
           3.2169811320754715,
           "Scream 2 (1997)"
          ],
          [
           896,
           44,
           3.772727272727273,
           "Sweet Hereafter, The (1997)"
          ],
          [
           897,
           2,
           1.5,
           "Time Tracers (1995)"
          ],
          [
           898,
           58,
           3.2241379310344827,
           "Postman, The (1997)"
          ],
          [
           899,
           9,
           3.4444444444444446,
           "Winter Guest, The (1997)"
          ],
          [
           900,
           42,
           3.6904761904761907,
           "Kundun (1997)"
          ],
          [
           901,
           12,
           1.9166666666666667,
           "Mr. Magoo (1997)"
          ],
          [
           902,
           42,
           3.8333333333333335,
           "Big Lebowski, The (1998)"
          ],
          [
           903,
           18,
           3.111111111111111,
           "Afterglow (1997)"
          ],
          [
           904,
           20,
           3.45,
           "Ma vie en rose (My Life in Pink) (1997)"
          ],
          [
           905,
           27,
           3.2222222222222223,
           "Great Expectations (1998)"
          ],
          [
           906,
           21,
           3.1904761904761907,
           "Oscar & Lucinda (1997)"
          ],
          [
           907,
           2,
           2,
           "Vermin (1998)"
          ],
          [
           908,
           20,
           2.5,
           "Half Baked (1998)"
          ],
          [
           909,
           13,
           3.769230769230769,
           "Dangerous Beauty (1998)"
          ],
          [
           910,
           4,
           2,
           "Nil By Mouth (1997)"
          ],
          [
           911,
           4,
           2.5,
           "Twilight (1998)"
          ],
          [
           912,
           9,
           3,
           "U.S. Marshalls (1998)"
          ],
          [
           913,
           2,
           2.5,
           "Love and Death on Long Island (1997)"
          ],
          [
           914,
           11,
           2.727272727272727,
           "Wild Things (1998)"
          ],
          [
           915,
           13,
           3.923076923076923,
           "Primary Colors (1998)"
          ],
          [
           916,
           18,
           3.1666666666666665,
           "Lost in Space (1998)"
          ],
          [
           917,
           7,
           3.4285714285714284,
           "Mercury Rising (1998)"
          ],
          [
           918,
           8,
           3,
           "City of Angels (1998)"
          ],
          [
           919,
           96,
           3.7916666666666665,
           "City of Lost Children, The (1995)"
          ],
          [
           920,
           5,
           2.2,
           "Two Bits (1995)"
          ],
          [
           921,
           46,
           3.9782608695652173,
           "Farewell My Concubine (1993)"
          ],
          [
           922,
           34,
           3.823529411764706,
           "Dead Man (1995)"
          ],
          [
           923,
           58,
           4.155172413793103,
           "Raise the Red Lantern (1991)"
          ],
          [
           924,
           85,
           3.4,
           "White Squall (1996)"
          ],
          [
           925,
           34,
           3.323529411764706,
           "Unforgettable (1996)"
          ],
          [
           926,
           101,
           2.702970297029703,
           "Down Periscope (1996)"
          ],
          [
           927,
           6,
           3.1666666666666665,
           "Flower of My Secret, The (Flor de mi secreto, La) (1995)"
          ],
          [
           928,
           104,
           3.1153846153846154,
           "Craft, The (1996)"
          ],
          [
           929,
           40,
           2.7,
           "Harriet the Spy (1996)"
          ],
          [
           930,
           80,
           2.7,
           "Chain Reaction (1996)"
          ],
          [
           931,
           57,
           2.1578947368421053,
           "Island of Dr. Moreau, The (1996)"
          ],
          [
           932,
           40,
           2.925,
           "First Kid (1996)"
          ],
          [
           933,
           21,
           2.4285714285714284,
           "Funeral, The (1996)"
          ],
          [
           934,
           68,
           2.926470588235294,
           "Preacher's Wife, The (1996)"
          ],
          [
           935,
           7,
           3.2857142857142856,
           "Paradise Road (1997)"
          ],
          [
           936,
           32,
           3.9375,
           "Brassed Off (1996)"
          ],
          [
           937,
           37,
           3.4054054054054053,
           "Thousand Acres, A (1997)"
          ],
          [
           938,
           25,
           2.88,
           "Smile Like Yours, A (1997)"
          ],
          [
           939,
           60,
           3.6,
           "Murder in the First (1995)"
          ],
          [
           940,
           32,
           2.34375,
           "Airheads (1994)"
          ],
          [
           941,
           46,
           3.0652173913043477,
           "With Honors (1994)"
          ],
          [
           942,
           45,
           3.488888888888889,
           "What's Love Got to Do with It (1993)"
          ],
          [
           943,
           40,
           3.475,
           "Killing Zoe (1994)"
          ],
          [
           944,
           43,
           3,
           "Renaissance Man (1994)"
          ],
          [
           945,
           40,
           3.925,
           "Charade (1963)"
          ],
          [
           946,
           61,
           3.1475409836065573,
           "Fox and the Hound, The (1981)"
          ],
          [
           947,
           17,
           3.235294117647059,
           "Big Blue, The (Grand bleu, Le) (1988)"
          ],
          [
           948,
           48,
           2.1666666666666665,
           "Booty Call (1997)"
          ],
          [
           949,
           71,
           3.3380281690140845,
           "How to Make an American Quilt (1995)"
          ],
          [
           950,
           30,
           2.9,
           "Georgia (1995)"
          ],
          [
           951,
           39,
           2.8205128205128207,
           "Indian in the Cupboard, The (1995)"
          ],
          [
           952,
           45,
           3.1777777777777776,
           "Blue in the Face (1995)"
          ],
          [
           953,
           22,
           3.3181818181818183,
           "Unstrung Heroes (1995)"
          ],
          [
           954,
           11,
           3.5454545454545454,
           "Unzipped (1995)"
          ],
          [
           955,
           49,
           3.4081632653061225,
           "Before Sunrise (1995)"
          ],
          [
           956,
           46,
           3.608695652173913,
           "Nobody's Fool (1994)"
          ],
          [
           957,
           2,
           2,
           "Pushing Hands (1992)"
          ],
          [
           958,
           14,
           3.7857142857142856,
           "To Live (Huozhe) (1994)"
          ],
          [
           959,
           64,
           3.46875,
           "Dazed and Confused (1993)"
          ],
          [
           960,
           25,
           3.24,
           "Naked (1993)"
          ],
          [
           961,
           34,
           3.6176470588235294,
           "Orlando (1993)"
          ],
          [
           962,
           23,
           3.130434782608696,
           "Ruby in Paradise (1993)"
          ],
          [
           963,
           41,
           4.2926829268292686,
           "Some Folks Call It a Sling Blade (1993)"
          ],
          [
           964,
           9,
           3.3333333333333335,
           "Month by the Lake, A (1995)"
          ],
          [
           965,
           21,
           3.6666666666666665,
           "Funny Face (1957)"
          ],
          [
           966,
           26,
           4.1923076923076925,
           "Affair to Remember, An (1957)"
          ],
          [
           967,
           12,
           3.1666666666666665,
           "Little Lord Fauntleroy (1936)"
          ],
          [
           968,
           18,
           3.7222222222222223,
           "Inspector General, The (1949)"
          ],
          [
           969,
           75,
           3.8,
           "Winnie the Pooh and the Blustery Day (1968)"
          ],
          [
           970,
           8,
           3.25,
           "Hear My Song (1991)"
          ],
          [
           971,
           34,
           3.676470588235294,
           "Mediterraneo (1991)"
          ],
          [
           972,
           28,
           3.1785714285714284,
           "Passion Fish (1992)"
          ],
          [
           973,
           4,
           3.5,
           "Grateful Dead (1995)"
          ],
          [
           974,
           32,
           3.03125,
           "Eye for an Eye (1996)"
          ],
          [
           975,
           44,
           3.159090909090909,
           "Fear (1996)"
          ],
          [
           976,
           12,
           1.8333333333333333,
           "Solo (1996)"
          ],
          [
           977,
           49,
           2.693877551020408,
           "Substitute, The (1996)"
          ],
          [
           978,
           27,
           2.5185185185185186,
           "Heaven's Prisoners (1996)"
          ],
          [
           979,
           35,
           3.2,
           "Trigger Effect, The (1996)"
          ],
          [
           980,
           22,
           3.1818181818181817,
           "Mother Night (1996)"
          ],
          [
           981,
           8,
           1.75,
           "Dangerous Ground (1997)"
          ],
          [
           982,
           20,
           2.8,
           "Maximum Risk (1996)"
          ],
          [
           983,
           15,
           2.4,
           "Rich Man's Wife, The (1996)"
          ],
          [
           984,
           44,
           2.8636363636363638,
           "Shadow Conspiracy (1997)"
          ],
          [
           985,
           22,
           2.8636363636363638,
           "Blood & Wine (1997)"
          ],
          [
           986,
           23,
           2.5652173913043477,
           "Turbulence (1997)"
          ],
          [
           987,
           4,
           2.5,
           "Underworld (1997)"
          ],
          [
           988,
           86,
           2.313953488372093,
           "Beautician and the Beast, The (1997)"
          ],
          [
           989,
           32,
           2.84375,
           "Cats Don't Dance (1997)"
          ],
          [
           990,
           33,
           3.090909090909091,
           "Anna Karenina (1997)"
          ],
          [
           991,
           25,
           2.24,
           "Keys to Tulsa (1997)"
          ],
          [
           992,
           4,
           3,
           "Head Above Water (1996)"
          ],
          [
           993,
           66,
           3.515151515151515,
           "Hercules (1997)"
          ],
          [
           994,
           7,
           2.2857142857142856,
           "Last Time I Committed Suicide, The (1997)"
          ],
          [
           995,
           31,
           3.161290322580645,
           "Kiss Me, Guido (1997)"
          ],
          [
           996,
           14,
           2.5,
           "Big Green, The (1995)"
          ],
          [
           997,
           16,
           2.125,
           "Stuart Saves His Family (1995)"
          ],
          [
           998,
           16,
           2.5625,
           "Cabin Boy (1994)"
          ],
          [
           999,
           10,
           2.8,
           "Clean Slate (1994)"
          ],
          [
           1000,
           10,
           3,
           "Lightning Jack (1994)"
          ],
          [
           1001,
           17,
           2,
           "Stupids, The (1996)"
          ],
          [
           1002,
           8,
           1.875,
           "Pest, The (1997)"
          ],
          [
           1003,
           8,
           2.25,
           "That Darn Cat! (1997)"
          ],
          [
           1004,
           9,
           3.111111111111111,
           "Geronimo: An American Legend (1993)"
          ],
          [
           1005,
           22,
           3.6818181818181817,
           "Double vie de Véronique, La (Double Life of Veronique, The) (1991)"
          ],
          [
           1006,
           23,
           2.8260869565217392,
           "Until the End of the World (Bis ans Ende der Welt) (1991)"
          ],
          [
           1007,
           47,
           4.127659574468085,
           "Waiting for Guffman (1996)"
          ],
          [
           1008,
           37,
           3.3783783783783785,
           "I Shot Andy Warhol (1996)"
          ],
          [
           1009,
           64,
           3.375,
           "Stealing Beauty (1996)"
          ],
          [
           1010,
           44,
           3.25,
           "Basquiat (1996)"
          ],
          [
           1011,
           93,
           3.225806451612903,
           "2 Days in the Valley (1996)"
          ],
          [
           1012,
           100,
           3.53,
           "Private Parts (1997)"
          ],
          [
           1013,
           38,
           2.289473684210526,
           "Anaconda (1997)"
          ],
          [
           1014,
           98,
           3.061224489795918,
           "Romy and Michele's High School Reunion (1997)"
          ],
          [
           1015,
           12,
           2.8333333333333335,
           "Shiloh (1997)"
          ],
          [
           1016,
           137,
           3.45985401459854,
           "Con Air (1997)"
          ],
          [
           1017,
           50,
           3.24,
           "Trees Lounge (1996)"
          ],
          [
           1018,
           32,
           3.1875,
           "Tie Me Up! Tie Me Down! (1990)"
          ],
          [
           1019,
           31,
           3.967741935483871,
           "Die xue shuang xiong (Killer, The) (1989)"
          ],
          [
           1020,
           35,
           3.8857142857142857,
           "Gaslight (1944)"
          ],
          [
           1021,
           38,
           3.8157894736842106,
           "8 1/2 (1963)"
          ],
          [
           1022,
           32,
           3.4375,
           "Fast, Cheap & Out of Control (1997)"
          ],
          [
           1023,
           31,
           2.5806451612903225,
           "Fathers' Day (1997)"
          ],
          [
           1024,
           15,
           3.6,
           "Mrs. Dalloway (1997)"
          ],
          [
           1025,
           44,
           2.9318181818181817,
           "Fire Down Below (1997)"
          ],
          [
           1026,
           4,
           2.5,
           "Lay of the Land, The (1997)"
          ],
          [
           1027,
           3,
           2.6666666666666665,
           "Shooter, The (1995)"
          ],
          [
           1028,
           148,
           3.0405405405405403,
           "Grumpier Old Men (1995)"
          ],
          [
           1029,
           14,
           2,
           "Jury Duty (1995)"
          ],
          [
           1030,
           20,
           2.25,
           "Beverly Hillbillies, The (1993)"
          ],
          [
           1031,
           7,
           2.2857142857142856,
           "Lassie (1994)"
          ],
          [
           1032,
           16,
           2.875,
           "Little Big League (1994)"
          ],
          [
           1033,
           32,
           2.78125,
           "Homeward Bound II: Lost in San Francisco (1996)"
          ],
          [
           1034,
           27,
           2.5185185185185186,
           "Quest, The (1996)"
          ],
          [
           1035,
           68,
           3.161764705882353,
           "Cool Runnings (1993)"
          ],
          [
           1036,
           24,
           2.75,
           "Drop Dead Fred (1991)"
          ],
          [
           1037,
           24,
           2,
           "Grease 2 (1982)"
          ],
          [
           1038,
           17,
           2.823529411764706,
           "Switchback (1997)"
          ],
          [
           1039,
           90,
           4.011111111111111,
           "Hamlet (1996)"
          ],
          [
           1040,
           25,
           2.6,
           "Two if by Sea (1996)"
          ],
          [
           1041,
           62,
           3.193548387096774,
           "Forget Paris (1995)"
          ],
          [
           1042,
           28,
           3.142857142857143,
           "Just Cause (1995)"
          ],
          [
           1043,
           8,
           3,
           "Rent-a-Kid (1995)"
          ],
          [
           1044,
           40,
           3.225,
           "Paper, The (1994)"
          ],
          [
           1045,
           25,
           3.24,
           "Fearless (1993)"
          ],
          [
           1046,
           46,
           3.1739130434782608,
           "Malice (1993)"
          ],
          [
           1047,
           134,
           2.8358208955223883,
           "Multiplicity (1996)"
          ],
          [
           1048,
           73,
           3.0136986301369864,
           "She's the One (1996)"
          ],
          [
           1049,
           25,
           2.52,
           "House Arrest (1996)"
          ],
          [
           1050,
           43,
           3.6511627906976742,
           "Ghost and Mrs. Muir, The (1947)"
          ],
          [
           1051,
           41,
           3.2439024390243905,
           "Associate, The (1996)"
          ],
          [
           1052,
           25,
           2.28,
           "Dracula: Dead and Loving It (1995)"
          ],
          [
           1053,
           24,
           3.4583333333333335,
           "Now and Then (1995)"
          ],
          [
           1054,
           23,
           2.3043478260869565,
           "Mr. Wrong (1996)"
          ],
          [
           1055,
           10,
           3.2,
           "Simple Twist of Fate, A (1994)"
          ],
          [
           1056,
           10,
           3.2,
           "Cronos (1992)"
          ],
          [
           1057,
           22,
           2.3181818181818183,
           "Pallbearer, The (1996)"
          ],
          [
           1058,
           15,
           3.2666666666666666,
           "War, The (1994)"
          ],
          [
           1059,
           35,
           2.7714285714285714,
           "Don't Be a Menace to South Central While Drinking Your Juice in the Hood (1996)"
          ],
          [
           1060,
           39,
           3.051282051282051,
           "Adventures of Pinocchio, The (1996)"
          ],
          [
           1061,
           29,
           2.9310344827586206,
           "Evening Star, The (1996)"
          ],
          [
           1062,
           12,
           3.75,
           "Four Days in September (1997)"
          ],
          [
           1063,
           41,
           3.658536585365854,
           "Little Princess, A (1995)"
          ],
          [
           1064,
           4,
           4.25,
           "Crossfire (1947)"
          ],
          [
           1065,
           53,
           3.490566037735849,
           "Koyaanisqatsi (1983)"
          ],
          [
           1066,
           16,
           3,
           "Balto (1995)"
          ],
          [
           1067,
           44,
           3.4545454545454546,
           "Bottle Rocket (1996)"
          ],
          [
           1068,
           12,
           3.1666666666666665,
           "Star Maker, The (Uomo delle stelle, L') (1995)"
          ],
          [
           1069,
           18,
           3.1666666666666665,
           "Amateur (1994)"
          ],
          [
           1070,
           27,
           3.740740740740741,
           "Living in Oblivion (1995)"
          ],
          [
           1071,
           16,
           2.875,
           "Party Girl (1995)"
          ],
          [
           1072,
           7,
           2.4285714285714284,
           "Pyromaniac's Love Story, A (1995)"
          ],
          [
           1073,
           66,
           3.8181818181818183,
           "Shallow Grave (1994)"
          ],
          [
           1074,
           77,
           2.961038961038961,
           "Reality Bites (1994)"
          ],
          [
           1075,
           7,
           3.4285714285714284,
           "Man of No Importance, A (1994)"
          ],
          [
           1076,
           12,
           2.25,
           "Pagemaster, The (1994)"
          ],
          [
           1077,
           8,
           3.125,
           "Love and a .45 (1994)"
          ],
          [
           1078,
           22,
           2.772727272727273,
           "Oliver & Company (1988)"
          ],
          [
           1079,
           45,
           2.2444444444444445,
           "Joe's Apartment (1996)"
          ],
          [
           1080,
           2,
           4,
           "Celestial Clockwork (1994)"
          ],
          [
           1081,
           8,
           2.75,
           "Curdled (1996)"
          ],
          [
           1082,
           8,
           2.625,
           "Female Perversions (1996)"
          ],
          [
           1083,
           6,
           2.5,
           "Albino Alligator (1996)"
          ],
          [
           1084,
           21,
           3.857142857142857,
           "Anne Frank Remembered (1995)"
          ],
          [
           1085,
           11,
           3,
           "Carried Away (1996)"
          ],
          [
           1086,
           21,
           3.2857142857142856,
           "It's My Party (1995)"
          ],
          [
           1087,
           10,
           1.7,
           "Bloodsport 2 (1995)"
          ],
          [
           1088,
           13,
           2.230769230769231,
           "Double Team (1997)"
          ],
          [
           1089,
           38,
           2.1315789473684212,
           "Speed 2: Cruise Control (1997)"
          ],
          [
           1090,
           37,
           2.4054054054054053,
           "Sliver (1993)"
          ],
          [
           1091,
           43,
           2.7209302325581395,
           "Pete's Dragon (1977)"
          ],
          [
           1092,
           12,
           2.5,
           "Dear God (1996)"
          ],
          [
           1093,
           23,
           3.0869565217391304,
           "Live Nude Girls (1995)"
          ],
          [
           1094,
           12,
           2.4166666666666665,
           "Thin Line Between Love and Hate, A (1996)"
          ],
          [
           1095,
           29,
           2.6206896551724137,
           "High School High (1996)"
          ],
          [
           1096,
           3,
           2.6666666666666665,
           "Commandments (1997)"
          ],
          [
           1097,
           18,
           3.5,
           "Hate (Haine, La) (1995)"
          ],
          [
           1098,
           42,
           3.6904761904761907,
           "Flirting With Disaster (1996)"
          ],
          [
           1099,
           13,
           3.4615384615384617,
           "Red Firecracker, Green Firecracker (1994)"
          ],
          [
           1100,
           8,
           2.625,
           "What Happened Was... (1994)"
          ],
          [
           1101,
           74,
           3.77027027027027,
           "Six Degrees of Separation (1993)"
          ],
          [
           1102,
           7,
           2.4285714285714284,
           "Two Much (1996)"
          ],
          [
           1103,
           19,
           3.789473684210526,
           "Trust (1990)"
          ],
          [
           1104,
           4,
           3,
           "C'est arrivé près de chez vous (1992)"
          ],
          [
           1105,
           18,
           2.8333333333333335,
           "Firestorm (1998)"
          ],
          [
           1106,
           4,
           3,
           "Newton Boys, The (1998)"
          ],
          [
           1107,
           18,
           3.0555555555555554,
           "Beyond Rangoon (1995)"
          ],
          [
           1108,
           5,
           2.4,
           "Feast of July (1995)"
          ],
          [
           1109,
           28,
           3.4285714285714284,
           "Death and the Maiden (1994)"
          ],
          [
           1110,
           41,
           2.8536585365853657,
           "Tank Girl (1995)"
          ],
          [
           1111,
           7,
           3.4285714285714284,
           "Double Happiness (1994)"
          ],
          [
           1112,
           15,
           2.8,
           "Cobb (1994)"
          ],
          [
           1113,
           22,
           3.272727272727273,
           "Mrs. Parker and the Vicious Circle (1994)"
          ],
          [
           1114,
           10,
           3.3,
           "Faithful (1996)"
          ],
          [
           1115,
           29,
           3.413793103448276,
           "Twelfth Night (1996)"
          ],
          [
           1116,
           13,
           3.6153846153846154,
           "Mark of Zorro, The (1940)"
          ],
          [
           1117,
           19,
           3.1052631578947367,
           "Surviving Picasso (1996)"
          ],
          [
           1118,
           47,
           3.25531914893617,
           "Up in Smoke (1978)"
          ],
          [
           1119,
           59,
           3.6610169491525424,
           "Some Kind of Wonderful (1987)"
          ],
          [
           1120,
           17,
           3,
           "I'm Not Rappaport (1996)"
          ],
          [
           1121,
           21,
           3.761904761904762,
           "Umbrellas of Cherbourg, The (Parapluies de Cherbourg, Les) (1964)"
          ],
          [
           1122,
           1,
           5,
           "They Made Me a Criminal (1939)"
          ],
          [
           1123,
           3,
           3.6666666666666665,
           "Last Time I Saw Paris, The (1954)"
          ],
          [
           1124,
           12,
           3.8333333333333335,
           "Farewell to Arms, A (1932)"
          ],
          [
           1125,
           4,
           4.25,
           "Innocents, The (1961)"
          ],
          [
           1126,
           32,
           3.34375,
           "Old Man and the Sea, The (1958)"
          ],
          [
           1127,
           11,
           2.909090909090909,
           "Truman Show, The (1998)"
          ],
          [
           1128,
           13,
           2.6923076923076925,
           "Heidi Fleiss: Hollywood Madam (1995) "
          ],
          [
           1129,
           28,
           3.5714285714285716,
           "Chungking Express (1994)"
          ],
          [
           1130,
           1,
           4,
           "Jupiter's Wife (1994)"
          ],
          [
           1131,
           13,
           4,
           "Safe (1995)"
          ],
          [
           1132,
           32,
           2.625,
           "Feeling Minnesota (1996)"
          ],
          [
           1133,
           30,
           2.966666666666667,
           "Escape to Witch Mountain (1975)"
          ],
          [
           1134,
           38,
           3.3157894736842106,
           "Get on the Bus (1996)"
          ],
          [
           1135,
           46,
           2.9782608695652173,
           "Doors, The (1991)"
          ],
          [
           1136,
           29,
           3.4827586206896552,
           "Ghosts of Mississippi (1996)"
          ],
          [
           1137,
           29,
           3.9655172413793105,
           "Beautiful Thing (1996)"
          ],
          [
           1138,
           5,
           3.4,
           "Best Men (1997)"
          ],
          [
           1139,
           33,
           2.606060606060606,
           "Hackers (1995)"
          ],
          [
           1140,
           17,
           2.2941176470588234,
           "Road to Wellville, The (1994)"
          ],
          [
           1141,
           9,
           3.3333333333333335,
           "War Room, The (1993)"
          ],
          [
           1142,
           44,
           4.045454545454546,
           "When We Were Kings (1996)"
          ],
          [
           1143,
           15,
           4,
           "Hard Eight (1996)"
          ],
          [
           1144,
           3,
           3.6666666666666665,
           "Quiet Room, The (1996)"
          ],
          [
           1145,
           9,
           2.6666666666666665,
           "Blue Chips (1994)"
          ],
          [
           1146,
           3,
           2,
           "Calendar Girl (1993)"
          ],
          [
           1147,
           21,
           3.6666666666666665,
           "My Family (1995)"
          ],
          [
           1148,
           9,
           3.3333333333333335,
           "Tom & Viv (1994)"
          ],
          [
           1149,
           26,
           3.8461538461538463,
           "Walkabout (1971)"
          ],
          [
           1150,
           9,
           3.111111111111111,
           "Last Dance (1996)"
          ],
          [
           1151,
           7,
           2.142857142857143,
           "Original Gangstas (1996)"
          ],
          [
           1152,
           28,
           3.4285714285714284,
           "In Love and War (1996)"
          ],
          [
           1153,
           19,
           3.473684210526316,
           "Backbeat (1993)"
          ],
          [
           1154,
           12,
           3.3333333333333335,
           "Alphaville (1965)"
          ],
          [
           1155,
           3,
           3.3333333333333335,
           "Rendezvous in Paris (Rendez-vous de Paris, Les) (1995)"
          ],
          [
           1156,
           1,
           3,
           "Cyclo (1995)"
          ],
          [
           1157,
           25,
           2.88,
           "Relic, The (1997)"
          ],
          [
           1158,
           4,
           4,
           "Fille seule, La (A Single Girl) (1995)"
          ],
          [
           1159,
           11,
           3.5454545454545454,
           "Stalker (1979)"
          ],
          [
           1160,
           26,
           3.6153846153846154,
           "Love! Valour! Compassion! (1997)"
          ],
          [
           1161,
           13,
           2.923076923076923,
           "Palookaville (1996)"
          ],
          [
           1162,
           5,
           1.6,
           "Phat Beach (1996)"
          ],
          [
           1163,
           25,
           2.68,
           "Portrait of a Lady, The (1996)"
          ],
          [
           1164,
           6,
           2.1666666666666665,
           "Zeus and Roxanne (1997)"
          ],
          [
           1165,
           14,
           1.8571428571428572,
           "Big Bully (1996)"
          ],
          [
           1166,
           12,
           3.1666666666666665,
           "Love & Human Remains (1993)"
          ],
          [
           1167,
           11,
           3.5454545454545454,
           "Sum of Us, The (1994)"
          ],
          [
           1168,
           22,
           3.3181818181818183,
           "Little Buddha (1993)"
          ],
          [
           1169,
           10,
           4.1,
           "Fresh (1994)"
          ],
          [
           1170,
           27,
           3.074074074074074,
           "Spanking the Monkey (1994)"
          ],
          [
           1171,
           14,
           3.142857142857143,
           "Wild Reeds (1994)"
          ],
          [
           1172,
           15,
           3.6666666666666665,
           "Women, The (1939)"
          ],
          [
           1173,
           7,
           2.5714285714285716,
           "Bliss (1997)"
          ],
          [
           1174,
           8,
           3.25,
           "Caught (1996)"
          ],
          [
           1175,
           5,
           3.4,
           "Hugo Pool (1997)"
          ],
          [
           1176,
           22,
           3.3636363636363638,
           "Welcome To Sarajevo (1997)"
          ],
          [
           1177,
           7,
           1.8571428571428572,
           "Dunston Checks In (1996)"
          ],
          [
           1178,
           19,
           2.473684210526316,
           "Major Payne (1994)"
          ],
          [
           1179,
           9,
           2.111111111111111,
           "Man of the House (1995)"
          ],
          [
           1180,
           10,
           2.5,
           "I Love Trouble (1994)"
          ],
          [
           1181,
           10,
           2.5,
           "Low Down Dirty Shame, A (1994)"
          ],
          [
           1182,
           13,
           2.3076923076923075,
           "Cops and Robbersons (1994)"
          ],
          [
           1183,
           19,
           2.210526315789474,
           "Cowboy Way, The (1994)"
          ],
          [
           1184,
           10,
           2.5,
           "Endless Summer 2, The (1994)"
          ],
          [
           1185,
           18,
           2.2777777777777777,
           "In the Army Now (1994)"
          ],
          [
           1186,
           3,
           3.3333333333333335,
           "Inkwell, The (1994)"
          ],
          [
           1187,
           13,
           3.230769230769231,
           "Switchblade Sisters (1975)"
          ],
          [
           1188,
           44,
           2.772727272727273,
           "Young Guns II (1990)"
          ],
          [
           1189,
           3,
           5,
           "Prefontaine (1997)"
          ],
          [
           1190,
           11,
           3.3636363636363638,
           "That Old Feeling (1997)"
          ],
          [
           1191,
           3,
           4.333333333333333,
           "Letter From Death Row, A (1998)"
          ],
          [
           1192,
           13,
           3.3846153846153846,
           "Boys of St. Vincent, The (1993)"
          ],
          [
           1193,
           10,
           3.8,
           "Before the Rain (Pred dozhdot) (1994)"
          ],
          [
           1194,
           31,
           4.064516129032258,
           "Once Were Warriors (1994)"
          ],
          [
           1195,
           11,
           3.272727272727273,
           "Strawberry and Chocolate (Fresa y chocolate) (1993)"
          ],
          [
           1196,
           3,
           3,
           "Savage Nights (Nuits fauves, Les) (1992)"
          ],
          [
           1197,
           45,
           3.5555555555555554,
           "Family Thing, A (1996)"
          ],
          [
           1198,
           7,
           3.142857142857143,
           "Purple Noon (1960)"
          ],
          [
           1199,
           23,
           2.869565217391304,
           "Cemetery Man (Dellamorte Dellamore) (1994)"
          ],
          [
           1200,
           7,
           3.2857142857142856,
           "Kim (1950)"
          ],
          [
           1201,
           1,
           5,
           "Marlene Dietrich: Shadow and Light (1996) "
          ],
          [
           1202,
           8,
           3.5,
           "Maybe, Maybe Not (Bewegte Mann, Der) (1994)"
          ],
          [
           1203,
           21,
           4.0476190476190474,
           "Top Hat (1935)"
          ],
          [
           1204,
           18,
           3.611111111111111,
           "To Be or Not to Be (1942)"
          ],
          [
           1205,
           6,
           3,
           "Secret Agent, The (1996)"
          ],
          [
           1206,
           19,
           2.6842105263157894,
           "Amos & Andrew (1993)"
          ],
          [
           1207,
           17,
           2.2941176470588234,
           "Jade (1995)"
          ],
          [
           1208,
           20,
           2.85,
           "Kiss of Death (1995)"
          ],
          [
           1209,
           15,
           2.533333333333333,
           "Mixed Nuts (1994)"
          ],
          [
           1210,
           38,
           2.736842105263158,
           "Virtuosity (1995)"
          ],
          [
           1211,
           12,
           3.4166666666666665,
           "Blue Sky (1994)"
          ],
          [
           1212,
           6,
           2.8333333333333335,
           "Flesh and Bone (1993)"
          ],
          [
           1213,
           6,
           2.1666666666666665,
           "Guilty as Sin (1993)"
          ],
          [
           1214,
           9,
           2,
           "In the Realm of the Senses (Ai no corrida) (1976)"
          ],
          [
           1215,
           30,
           1.9333333333333333,
           "Barb Wire (1996)"
          ],
          [
           1216,
           6,
           3,
           "Kissed (1996)"
          ],
          [
           1217,
           39,
           2.871794871794872,
           "Assassins (1995)"
          ],
          [
           1218,
           26,
           3.4615384615384617,
           "Friday (1995)"
          ],
          [
           1219,
           20,
           2.9,
           "Goofy Movie, A (1995)"
          ],
          [
           1220,
           30,
           3.3333333333333335,
           "Higher Learning (1995)"
          ],
          [
           1221,
           39,
           3.4871794871794872,
           "When a Man Loves a Woman (1994)"
          ],
          [
           1222,
           25,
           2.68,
           "Judgment Night (1993)"
          ],
          [
           1223,
           4,
           3.5,
           "King of the Hill (1993)"
          ],
          [
           1224,
           12,
           2.6666666666666665,
           "Scout, The (1994)"
          ],
          [
           1225,
           14,
           2.642857142857143,
           "Angus (1995)"
          ],
          [
           1226,
           32,
           3.375,
           "Night Falls on Manhattan (1997)"
          ],
          [
           1227,
           8,
           2.375,
           "Awfully Big Adventure, An (1995)"
          ],
          [
           1228,
           48,
           2.4583333333333335,
           "Under Siege 2: Dark Territory (1995)"
          ],
          [
           1229,
           13,
           2.1538461538461537,
           "Poison Ivy II (1995)"
          ],
          [
           1230,
           18,
           1.8333333333333333,
           "Ready to Wear (Pret-A-Porter) (1994)"
          ],
          [
           1231,
           22,
           2.5,
           "Marked for Death (1990)"
          ],
          [
           1232,
           17,
           2.4705882352941178,
           "Madonna: Truth or Dare (1991)"
          ],
          [
           1233,
           6,
           3.5,
           "Nénette et Boni (1996)"
          ],
          [
           1234,
           8,
           2.375,
           "Chairman of the Board (1998)"
          ],
          [
           1235,
           1,
           4,
           "Big Bang Theory, The (1994)"
          ],
          [
           1236,
           1,
           3,
           "Other Voices, Other Rooms (1997)"
          ],
          [
           1237,
           6,
           3.5,
           "Twisted (1996)"
          ],
          [
           1238,
           8,
           3.125,
           "Full Speed (1996)"
          ],
          [
           1239,
           18,
           2.4444444444444446,
           "Cutthroat Island (1995)"
          ],
          [
           1240,
           26,
           3.6538461538461537,
           "Ghost in the Shell (Kokaku kidotai) (1995)"
          ],
          [
           1241,
           6,
           2.6666666666666665,
           "Van, The (1996)"
          ],
          [
           1242,
           5,
           2.6,
           "Old Lady Who Walked in the Sea, The (Vieille qui marchait dans la mer, La) (1991)"
          ],
          [
           1243,
           7,
           3.7142857142857144,
           "Night Flier (1997)"
          ],
          [
           1244,
           36,
           2.9166666666666665,
           "Metro (1997)"
          ],
          [
           1245,
           19,
           3.210526315789474,
           "Gridlock'd (1997)"
          ],
          [
           1246,
           7,
           1.5714285714285714,
           "Bushwhacked (1995)"
          ],
          [
           1247,
           6,
           1.8333333333333333,
           "Bad Girls (1994)"
          ],
          [
           1248,
           19,
           3,
           "Blink (1994)"
          ],
          [
           1249,
           12,
           2.8333333333333335,
           "For Love or Money (1993)"
          ],
          [
           1250,
           6,
           1.5,
           "Best of the Best 3: No Turning Back (1995)"
          ],
          [
           1251,
           8,
           4.125,
           "A Chef in Love (1996)"
          ],
          [
           1252,
           9,
           3,
           "Contempt (Mépris, Le) (1963)"
          ],
          [
           1253,
           7,
           2.4285714285714284,
           "Tie That Binds, The (1995)"
          ],
          [
           1254,
           11,
           1.8181818181818181,
           "Gone Fishin' (1997)"
          ],
          [
           1255,
           8,
           2.25,
           "Broken English (1996)"
          ],
          [
           1256,
           3,
           2,
           "Designated Mourner, The (1997)"
          ],
          [
           1257,
           4,
           1.75,
           "Designated Mourner, The (1997)"
          ],
          [
           1258,
           23,
           2.5217391304347827,
           "Trial and Error (1997)"
          ],
          [
           1259,
           4,
           2,
           "Pie in the Sky (1995)"
          ],
          [
           1260,
           4,
           2.75,
           "Total Eclipse (1995)"
          ],
          [
           1261,
           4,
           3.25,
           "Run of the Country, The (1995)"
          ],
          [
           1262,
           8,
           3.625,
           "Walking and Talking (1996)"
          ],
          [
           1263,
           15,
           2.933333333333333,
           "Foxfire (1996)"
          ],
          [
           1264,
           7,
           3.2857142857142856,
           "Nothing to Lose (1994)"
          ],
          [
           1265,
           19,
           3.0526315789473686,
           "Star Maps (1997)"
          ],
          [
           1266,
           12,
           3.1666666666666665,
           "Bread and Chocolate (Pane e cioccolata) (1973)"
          ],
          [
           1267,
           33,
           3,
           "Clockers (1995)"
          ],
          [
           1268,
           10,
           3.3,
           "Bitter Moon (1992)"
          ],
          [
           1269,
           10,
           3.9,
           "Love in the Afternoon (1957)"
          ],
          [
           1270,
           7,
           2.2857142857142856,
           "Life with Mikey (1993)"
          ],
          [
           1271,
           7,
           2.7142857142857144,
           "North (1994)"
          ],
          [
           1272,
           5,
           1.8,
           "Talking About Sex (1994)"
          ],
          [
           1273,
           15,
           2.7333333333333334,
           "Color of Night (1994)"
          ],
          [
           1274,
           11,
           1.7272727272727273,
           "Robocop 3 (1993)"
          ],
          [
           1275,
           4,
           2.5,
           "Killer (Bulletproof Heart) (1994)"
          ],
          [
           1276,
           8,
           2.5,
           "Sunset Park (1996)"
          ],
          [
           1277,
           19,
           3.4210526315789473,
           "Set It Off (1996)"
          ],
          [
           1278,
           16,
           3.625,
           "Selena (1997)"
          ],
          [
           1279,
           9,
           2.888888888888889,
           "Wild America (1997)"
          ],
          [
           1280,
           16,
           2.6875,
           "Gang Related (1997)"
          ],
          [
           1281,
           13,
           3.1538461538461537,
           "Manny & Lo (1996)"
          ],
          [
           1282,
           9,
           3.2222222222222223,
           "Grass Harp, The (1995)"
          ],
          [
           1283,
           19,
           2.6842105263157894,
           "Out to Sea (1997)"
          ],
          [
           1284,
           26,
           2.8461538461538463,
           "Before and After (1996)"
          ],
          [
           1285,
           15,
           3.1333333333333333,
           "Princess Caraboo (1994)"
          ],
          [
           1286,
           17,
           3.7058823529411766,
           "Shall We Dance? (1937)"
          ],
          [
           1287,
           6,
           1.3333333333333333,
           "Ed (1996)"
          ],
          [
           1288,
           7,
           3,
           "Denise Calls Up (1995)"
          ],
          [
           1289,
           7,
           2.142857142857143,
           "Jack and Sarah (1995)"
          ],
          [
           1290,
           2,
           1.5,
           "Country Life (1994)"
          ],
          [
           1291,
           15,
           2.2,
           "Celtic Pride (1996)"
          ],
          [
           1292,
           3,
           1.6666666666666667,
           "Simple Wish, A (1997)"
          ],
          [
           1293,
           3,
           5,
           "Star Kid (1997)"
          ],
          [
           1294,
           7,
           3.142857142857143,
           "Ayn Rand: A Sense of Life (1997)"
          ],
          [
           1295,
           7,
           2.5714285714285716,
           "Kicked in the Head (1997)"
          ],
          [
           1296,
           20,
           3.25,
           "Indian Summer (1996)"
          ],
          [
           1297,
           12,
           2.8333333333333335,
           "Love Affair (1994)"
          ],
          [
           1298,
           9,
           3.6666666666666665,
           "Band Wagon, The (1953)"
          ],
          [
           1299,
           8,
           3,
           "Penny Serenade (1941)"
          ],
          [
           1300,
           9,
           2.3333333333333335,
           "'Til There Was You (1997)"
          ],
          [
           1301,
           5,
           3.8,
           "Stripes (1981)"
          ],
          [
           1302,
           5,
           3.4,
           "Late Bloomers (1996)"
          ],
          [
           1303,
           18,
           2.3333333333333335,
           "Getaway, The (1994)"
          ],
          [
           1304,
           2,
           2.5,
           "New York Cop (1996)"
          ],
          [
           1305,
           7,
           2.4285714285714284,
           "National Lampoon's Senior Trip (1995)"
          ],
          [
           1306,
           2,
           3,
           "Delta of Venus (1994)"
          ],
          [
           1307,
           2,
           1.5,
           "Carmen Miranda: Bananas Is My Business (1994)"
          ],
          [
           1308,
           2,
           1,
           "Babyfever (1994)"
          ],
          [
           1309,
           1,
           1,
           "Very Natural Thing, A (1974)"
          ],
          [
           1310,
           1,
           3,
           "Walk in the Sun, A (1945)"
          ],
          [
           1311,
           16,
           2.5,
           "Waiting to Exhale (1995)"
          ],
          [
           1312,
           7,
           3,
           "Pompatus of Love, The (1996)"
          ],
          [
           1313,
           14,
           3.142857142857143,
           "Palmetto (1998)"
          ],
          [
           1314,
           11,
           2.4545454545454546,
           "Surviving the Game (1994)"
          ],
          [
           1315,
           23,
           3.130434782608696,
           "Inventing the Abbotts (1997)"
          ],
          [
           1316,
           7,
           2.7142857142857144,
           "Horse Whisperer, The (1998)"
          ],
          [
           1317,
           4,
           2,
           "Journey of August King, The (1995)"
          ],
          [
           1318,
           3,
           1.3333333333333333,
           "Catwalk (1995)"
          ],
          [
           1319,
           4,
           1.75,
           "Neon Bible, The (1995)"
          ],
          [
           1320,
           1,
           1,
           "Homage (1995)"
          ],
          [
           1321,
           2,
           2.5,
           "Open Season (1996)"
          ],
          [
           1322,
           6,
           2.3333333333333335,
           "Metisse (Café au Lait) (1993)"
          ],
          [
           1323,
           3,
           2.6666666666666665,
           "Wooden Man's Bride, The (Wu Kui) (1994)"
          ],
          [
           1324,
           5,
           2.4,
           "Loaded (1994)"
          ],
          [
           1325,
           1,
           1,
           "August (1996)"
          ],
          [
           1326,
           6,
           3.3333333333333335,
           "Boys (1996)"
          ],
          [
           1327,
           3,
           2.3333333333333335,
           "Captives (1994)"
          ],
          [
           1328,
           6,
           3.1666666666666665,
           "Of Love and Shadows (1994)"
          ],
          [
           1329,
           1,
           1,
           "Low Life, The (1994)"
          ],
          [
           1330,
           4,
           2.5,
           "An Unforgettable Summer (1994)"
          ],
          [
           1331,
           4,
           3,
           "Last Klezmer: Leopold Kozlowski, His Life and Music, The (1995)"
          ],
          [
           1332,
           2,
           2,
           "My Life and Times With Antonin Artaud (En compagnie d'Antonin Artaud) (1993)"
          ],
          [
           1333,
           5,
           2.8,
           "Midnight Dancers (Sibak) (1994)"
          ],
          [
           1334,
           2,
           1,
           "Somebody to Love (1994)"
          ],
          [
           1335,
           11,
           2.6363636363636362,
           "American Buffalo (1996)"
          ],
          [
           1336,
           10,
           1.8,
           "Kazaam (1996)"
          ],
          [
           1337,
           9,
           2.3333333333333335,
           "Larger Than Life (1996)"
          ],
          [
           1338,
           4,
           2.25,
           "Two Deaths (1995)"
          ],
          [
           1339,
           1,
           1,
           "Stefano Quantestorie (1993)"
          ],
          [
           1340,
           1,
           1,
           "Crude Oasis, The (1995)"
          ],
          [
           1341,
           1,
           1,
           "Hedd Wyn (1992)"
          ],
          [
           1342,
           2,
           2.5,
           "Convent, The (Convento, O) (1995)"
          ],
          [
           1343,
           1,
           1,
           "Lotto Land (1995)"
          ],
          [
           1344,
           5,
           3.2,
           "Story of Xinghua, The (1993)"
          ],
          [
           1345,
           2,
           2,
           "Day the Sun Turned Cold, The (Tianguo niezi) (1994)"
          ],
          [
           1346,
           5,
           2.4,
           "Dingo (1992)"
          ],
          [
           1347,
           4,
           2.75,
           "Ballad of Narayama, The (Narayama Bushiko) (1958)"
          ],
          [
           1348,
           1,
           1,
           "Every Other Weekend (1990)"
          ],
          [
           1349,
           1,
           1,
           "Mille bolle blu (1993)"
          ],
          [
           1350,
           2,
           1.5,
           "Crows and Sparrows (1949)"
          ],
          [
           1351,
           3,
           2,
           "Lover's Knot (1996)"
          ],
          [
           1352,
           1,
           1,
           "Shadow of Angels (Schatten der Engel) (1976)"
          ],
          [
           1353,
           5,
           2.6,
           "1-900 (1994)"
          ],
          [
           1354,
           2,
           1,
           "Venice/Venice (1992)"
          ],
          [
           1355,
           6,
           2.6666666666666665,
           "Infinity (1996)"
          ],
          [
           1356,
           3,
           2.6666666666666665,
           "Ed's Next Move (1996)"
          ],
          [
           1357,
           3,
           2.6666666666666665,
           "For the Moment (1994)"
          ],
          [
           1358,
           2,
           3,
           "The Deadly Cure (1996)"
          ],
          [
           1359,
           2,
           1,
           "Boys in Venice (1996)"
          ],
          [
           1360,
           2,
           1.5,
           "Sexual Life of the Belgians, The (1994)"
          ],
          [
           1361,
           3,
           2.6666666666666665,
           "Search for One-eye Jimmy, The (1996)"
          ],
          [
           1362,
           2,
           2,
           "American Strays (1996)"
          ],
          [
           1363,
           1,
           1,
           "Leopard Son, The (1996)"
          ],
          [
           1364,
           1,
           1,
           "Bird of Prey (1996)"
          ],
          [
           1365,
           2,
           1.5,
           "Johnny 100 Pesos (1993)"
          ],
          [
           1366,
           1,
           1,
           "JLG/JLG - autoportrait de décembre (1994)"
          ],
          [
           1367,
           5,
           4.2,
           "Faust (1994)"
          ],
          [
           1368,
           6,
           3.6666666666666665,
           "Mina Tannenbaum (1994)"
          ],
          [
           1369,
           4,
           2.75,
           "Forbidden Christ, The (Cristo proibito, Il) (1950)"
          ],
          [
           1370,
           3,
           2.6666666666666665,
           "I Can't Sleep (J'ai pas sommeil) (1994)"
          ],
          [
           1371,
           2,
           1.5,
           "Machine, The (1994)"
          ],
          [
           1372,
           3,
           3,
           "Stranger, The (1994)"
          ],
          [
           1373,
           1,
           1,
           "Good Morning (1971)"
          ],
          [
           1374,
           2,
           1,
           "Falling in Love Again (1980)"
          ],
          [
           1375,
           10,
           3.6,
           "Cement Garden, The (1993)"
          ],
          [
           1376,
           7,
           2.142857142857143,
           "Meet Wally Sparks (1997)"
          ],
          [
           1377,
           4,
           3.25,
           "Hotel de Love (1996)"
          ],
          [
           1378,
           5,
           2.2,
           "Rhyme & Reason (1997)"
          ],
          [
           1379,
           7,
           2.857142857142857,
           "Love and Other Catastrophes (1996)"
          ],
          [
           1380,
           6,
           2.3333333333333335,
           "Hollow Reed (1996)"
          ],
          [
           1381,
           8,
           3.25,
           "Losing Chase (1996)"
          ],
          [
           1382,
           4,
           2,
           "Bonheur, Le (1965)"
          ],
          [
           1383,
           6,
           2,
           "Second Jungle Book: Mowgli & Baloo, The (1997)"
          ],
          [
           1384,
           3,
           1.6666666666666667,
           "Squeeze (1996)"
          ],
          [
           1385,
           5,
           2.8,
           "Roseanna's Grave (For Roseanna) (1997)"
          ],
          [
           1386,
           6,
           2.6666666666666665,
           "Tetsuo II: Body Hammer (1992)"
          ],
          [
           1387,
           3,
           2,
           "Fall (1997)"
          ],
          [
           1388,
           6,
           3.3333333333333335,
           "Gabbeh (1996)"
          ],
          [
           1389,
           3,
           3,
           "Mondo (1996)"
          ],
          [
           1390,
           2,
           2,
           "Innocent Sleep, The (1995)"
          ],
          [
           1391,
           3,
           2,
           "For Ever Mozart (1996)"
          ],
          [
           1392,
           5,
           2,
           "Locusts, The (1997)"
          ],
          [
           1393,
           9,
           2.111111111111111,
           "Stag (1997)"
          ],
          [
           1394,
           7,
           2.4285714285714284,
           "Swept from the Sea (1997)"
          ],
          [
           1395,
           6,
           2.3333333333333335,
           "Hurricane Streets (1998)"
          ],
          [
           1396,
           5,
           4.2,
           "Stonewall (1995)"
          ],
          [
           1397,
           5,
           3.2,
           "Of Human Bondage (1934)"
          ],
          [
           1398,
           2,
           4.5,
           "Anna (1996)"
          ],
          [
           1399,
           7,
           2.4285714285714284,
           "Stranger in the House (1997)"
          ],
          [
           1400,
           10,
           3.1,
           "Picture Bride (1995)"
          ],
          [
           1401,
           18,
           3.2222222222222223,
           "M. Butterfly (1993)"
          ],
          [
           1402,
           4,
           2.75,
           "Ciao, Professore! (1993)"
          ],
          [
           1403,
           4,
           2.75,
           "Caro Diario (Dear Diary) (1994)"
          ],
          [
           1404,
           13,
           3.230769230769231,
           "Withnail and I (1987)"
          ],
          [
           1405,
           6,
           3.3333333333333335,
           "Boy's Life 2 (1997)"
          ],
          [
           1406,
           5,
           3.4,
           "When Night Is Falling (1995)"
          ],
          [
           1407,
           20,
           2.25,
           "Specialist, The (1994)"
          ],
          [
           1408,
           3,
           1,
           "Gordy (1995)"
          ],
          [
           1409,
           7,
           2.857142857142857,
           "Swan Princess, The (1994)"
          ],
          [
           1410,
           4,
           2.75,
           "Harlem (1993)"
          ],
          [
           1411,
           28,
           2.5714285714285716,
           "Barbarella (1968)"
          ],
          [
           1412,
           6,
           1.6666666666666667,
           "Land Before Time III: The Time of the Great Giving (1995) (V)"
          ],
          [
           1413,
           8,
           2.75,
           "Street Fighter (1994)"
          ],
          [
           1414,
           1,
           2,
           "Coldblooded (1995)"
          ],
          [
           1415,
           9,
           2.4444444444444446,
           "Next Karate Kid, The (1994)"
          ],
          [
           1416,
           5,
           2.4,
           "No Escape (1994)"
          ],
          [
           1417,
           2,
           2.5,
           "Turning, The (1992)"
          ],
          [
           1418,
           3,
           3.6666666666666665,
           "Joy Luck Club, The (1993)"
          ],
          [
           1419,
           16,
           2.125,
           "Highlander III: The Sorcerer (1994)"
          ],
          [
           1420,
           3,
           1.3333333333333333,
           "Gilligan's Island: The Movie (1998)"
          ],
          [
           1421,
           11,
           3.1818181818181817,
           "My Crazy Life (Mi vida loca) (1993)"
          ],
          [
           1422,
           4,
           2.25,
           "Suture (1993)"
          ],
          [
           1423,
           4,
           2.25,
           "Walking Dead, The (1995)"
          ],
          [
           1424,
           3,
           2.3333333333333335,
           "I Like It Like That (1994)"
          ],
          [
           1425,
           10,
           2.6,
           "I'll Do Anything (1994)"
          ],
          [
           1426,
           8,
           3.25,
           "Grace of My Heart (1996)"
          ],
          [
           1427,
           5,
           2.8,
           "Drunks (1995)"
          ],
          [
           1428,
           12,
           3.6666666666666665,
           "SubUrbia (1997)"
          ],
          [
           1429,
           4,
           2.75,
           "Sliding Doors (1998)"
          ],
          [
           1430,
           3,
           2.3333333333333335,
           "Ill Gotten Gains (1997)"
          ],
          [
           1431,
           5,
           3.4,
           "Legal Deceit (1997)"
          ],
          [
           1432,
           3,
           1,
           "Mighty, The (1998)"
          ],
          [
           1433,
           2,
           2,
           "Men of Means (1998)"
          ],
          [
           1434,
           10,
           2.5,
           "Shooting Fish (1997)"
          ],
          [
           1435,
           7,
           2.5714285714285716,
           "Steal Big, Steal Little (1995)"
          ],
          [
           1436,
           2,
           2.5,
           "Mr. Jones (1993)"
          ],
          [
           1437,
           9,
           2,
           "House Party 3 (1994)"
          ],
          [
           1438,
           5,
           2.4,
           "Panther (1995)"
          ],
          [
           1439,
           8,
           3,
           "Jason's Lyric (1994)"
          ],
          [
           1440,
           5,
           3,
           "Above the Rim (1994)"
          ],
          [
           1441,
           7,
           2.5714285714285716,
           "Moonlight and Valentino (1995)"
          ],
          [
           1442,
           5,
           2.4,
           "Scarlet Letter, The (1995)"
          ],
          [
           1443,
           4,
           3.75,
           "8 Seconds (1994)"
          ],
          [
           1444,
           19,
           2.473684210526316,
           "That Darn Cat! (1965)"
          ],
          [
           1445,
           4,
           2.75,
           "Ladybird Ladybird (1994)"
          ],
          [
           1446,
           15,
           3.1333333333333333,
           "Bye Bye, Love (1995)"
          ],
          [
           1447,
           1,
           3,
           "Century (1993)"
          ],
          [
           1448,
           3,
           3.6666666666666665,
           "My Favorite Season (1993)"
          ],
          [
           1449,
           8,
           4.625,
           "Pather Panchali (1955)"
          ],
          [
           1450,
           2,
           4,
           "Golden Earrings (1947)"
          ],
          [
           1451,
           15,
           3.8666666666666667,
           "Foreign Correspondent (1940)"
          ],
          [
           1452,
           1,
           4,
           "Lady of Burlesque (1943)"
          ],
          [
           1453,
           1,
           2,
           "Angel on My Shoulder (1946)"
          ],
          [
           1454,
           6,
           3,
           "Angel and the Badman (1947)"
          ],
          [
           1455,
           2,
           2.5,
           "Outlaw, The (1943)"
          ],
          [
           1456,
           7,
           3.7142857142857144,
           "Beat the Devil (1954)"
          ],
          [
           1457,
           1,
           3,
           "Love Is All There Is (1996)"
          ],
          [
           1458,
           1,
           4,
           "Damsel in Distress, A (1937)"
          ],
          [
           1459,
           7,
           3.5714285714285716,
           "Madame Butterfly (1995)"
          ],
          [
           1460,
           1,
           3,
           "Sleepover (1995)"
          ],
          [
           1461,
           1,
           2,
           "Here Comes Cookie (1935)"
          ],
          [
           1462,
           7,
           3.7142857142857144,
           "Thieves (Voleurs, Les) (1996)"
          ],
          [
           1463,
           3,
           3.3333333333333335,
           "Boys, Les (1997)"
          ],
          [
           1464,
           3,
           2.3333333333333335,
           "Stars Fell on Henrietta, The (1995)"
          ],
          [
           1465,
           3,
           2.3333333333333335,
           "Last Summer in the Hamptons (1995)"
          ],
          [
           1466,
           6,
           4,
           "Margaret's Museum (1995)"
          ],
          [
           1467,
           2,
           5,
           "Saint of Fort Washington, The (1993)"
          ],
          [
           1468,
           6,
           3.3333333333333335,
           "Cure, The (1995)"
          ],
          [
           1469,
           12,
           3.1666666666666665,
           "Tom and Huck (1995)"
          ],
          [
           1470,
           5,
           2.6,
           "Gumby: The Movie (1995)"
          ],
          [
           1471,
           9,
           2.4444444444444446,
           "Hideaway (1995)"
          ],
          [
           1472,
           2,
           3.5,
           "Visitors, The (Visiteurs, Les) (1993)"
          ],
          [
           1473,
           9,
           3.5555555555555554,
           "Little Princess, The (1939)"
          ],
          [
           1474,
           6,
           2.8333333333333335,
           "Nina Takes a Lover (1994)"
          ],
          [
           1475,
           8,
           2.875,
           "Bhaji on the Beach (1993)"
          ],
          [
           1476,
           1,
           2,
           "Raw Deal (1948)"
          ],
          [
           1477,
           2,
           2.5,
           "Nightwatch (1997)"
          ],
          [
           1478,
           18,
           2.7222222222222223,
           "Dead Presidents (1995)"
          ],
          [
           1479,
           8,
           2.75,
           "Reckless (1995)"
          ],
          [
           1480,
           11,
           2.272727272727273,
           "Herbie Rides Again (1974)"
          ],
          [
           1481,
           2,
           3,
           "S.F.W. (1994)"
          ],
          [
           1482,
           1,
           4,
           "Gate of Heavenly Peace, The (1995)"
          ],
          [
           1483,
           12,
           3.4166666666666665,
           "Man in the Iron Mask, The (1998)"
          ],
          [
           1484,
           3,
           2.6666666666666665,
           "Jerky Boys, The (1994)"
          ],
          [
           1485,
           4,
           3.5,
           "Colonel Chabert, Le (1994)"
          ],
          [
           1486,
           1,
           1,
           "Girl in the Cadillac (1995)"
          ],
          [
           1487,
           5,
           2,
           "Even Cowgirls Get the Blues (1993)"
          ],
          [
           1488,
           4,
           3,
           "Germinal (1993)"
          ],
          [
           1489,
           5,
           2.2,
           "Chasers (1994)"
          ],
          [
           1490,
           3,
           3,
           "Fausto (1993)"
          ],
          [
           1491,
           2,
           3,
           "Tough and Deadly (1995)"
          ],
          [
           1492,
           1,
           4,
           "Window to Paris (1994)"
          ],
          [
           1493,
           1,
           1,
           "Modern Affair, A (1995)"
          ],
          [
           1494,
           1,
           1,
           "Mostro, Il (1994)"
          ],
          [
           1495,
           5,
           3.6,
           "Flirt (1995)"
          ],
          [
           1496,
           5,
           2.8,
           "Carpool (1996)"
          ],
          [
           1497,
           2,
           3,
           "Line King: Al Hirschfeld, The (1996)"
          ],
          [
           1498,
           1,
           4,
           "Farmer & Chase (1995)"
          ],
          [
           1499,
           4,
           3.25,
           "Grosse Fatigue (1994)"
          ],
          [
           1500,
           2,
           5,
           "Santa with Muscles (1996)"
          ],
          [
           1501,
           5,
           3,
           "Prisoner of the Mountains (Kavkazsky Plennik) (1996)"
          ],
          [
           1502,
           2,
           1.5,
           "Naked in New York (1994)"
          ],
          [
           1503,
           10,
           3.1,
           "Gold Diggers: The Secret of Bear Mountain (1995)"
          ],
          [
           1504,
           3,
           3.6666666666666665,
           "Bewegte Mann, Der (1994)"
          ],
          [
           1505,
           1,
           4,
           "Killer: A Journal of Murder (1995)"
          ],
          [
           1506,
           3,
           3.6666666666666665,
           "Nelly & Monsieur Arnaud (1995)"
          ],
          [
           1507,
           1,
           3,
           "Three Lives and Only One Death (1996)"
          ],
          [
           1508,
           3,
           2.3333333333333335,
           "Babysitter, The (1995)"
          ],
          [
           1509,
           5,
           1.6,
           "Getting Even with Dad (1994)"
          ],
          [
           1510,
           1,
           3,
           "Mad Dog Time (1996)"
          ],
          [
           1511,
           5,
           3.2,
           "Children of the Revolution (1996)"
          ],
          [
           1512,
           6,
           4,
           "World of Apu, The (Apur Sansar) (1959)"
          ],
          [
           1513,
           3,
           2,
           "Sprung (1997)"
          ],
          [
           1514,
           7,
           3.142857142857143,
           "Dream With the Fishes (1997)"
          ],
          [
           1515,
           1,
           4,
           "Wings of Courage (1995)"
          ],
          [
           1516,
           3,
           4,
           "Wedding Gift, The (1994)"
          ],
          [
           1517,
           5,
           2.8,
           "Race the Sun (1996)"
          ],
          [
           1518,
           12,
           3,
           "Losing Isaiah (1995)"
          ],
          [
           1519,
           2,
           3,
           "New Jersey Drive (1995)"
          ],
          [
           1520,
           1,
           3,
           "Fear, The (1995)"
          ],
          [
           1521,
           4,
           3,
           "Mr. Wonderful (1993)"
          ],
          [
           1522,
           7,
           2.4285714285714284,
           "Trial by Jury (1994)"
          ],
          [
           1523,
           2,
           3,
           "Good Man in Africa, A (1994)"
          ],
          [
           1524,
           8,
           4.25,
           "Kaspar Hauser (1993)"
          ],
          [
           1525,
           1,
           4,
           "Object of My Affection, The (1998)"
          ],
          [
           1526,
           1,
           4,
           "Witness (1985)"
          ],
          [
           1527,
           7,
           2.4285714285714284,
           "Senseless (1998)"
          ],
          [
           1528,
           3,
           2.3333333333333335,
           "Nowhere (1997)"
          ],
          [
           1529,
           5,
           2.8,
           "Underground (1995)"
          ],
          [
           1530,
           5,
           2,
           "Jefferson in Paris (1995)"
          ],
          [
           1531,
           7,
           3.2857142857142856,
           "Far From Home: The Adventures of Yellow Dog (1995)"
          ],
          [
           1532,
           2,
           2,
           "Foreign Student (1994)"
          ],
          [
           1533,
           1,
           4,
           "I Don't Want to Talk About It (De eso no se habla) (1993)"
          ],
          [
           1534,
           6,
           2.1666666666666665,
           "Twin Town (1997)"
          ],
          [
           1535,
           4,
           3,
           "Enfer, L' (1994)"
          ],
          [
           1536,
           1,
           5,
           "Aiqing wansui (1994)"
          ],
          [
           1537,
           4,
           4,
           "Cosi (1996)"
          ],
          [
           1538,
           3,
           3,
           "All Over Me (1997)"
          ],
          [
           1539,
           4,
           1.75,
           "Being Human (1993)"
          ],
          [
           1540,
           10,
           2.8,
           "Amazing Panda Adventure, The (1995)"
          ],
          [
           1541,
           2,
           3.5,
           "Beans of Egypt, Maine, The (1994)"
          ],
          [
           1542,
           2,
           3,
           "Scarlet Letter, The (1926)"
          ],
          [
           1543,
           1,
           3,
           "Johns (1996)"
          ],
          [
           1544,
           3,
           2.6666666666666665,
           "It Takes Two (1995)"
          ],
          [
           1545,
           4,
           2.5,
           "Frankie Starlight (1995)"
          ],
          [
           1546,
           1,
           1,
           "Shadows (Cienie) (1988)"
          ],
          [
           1547,
           2,
           3,
           "Show, The (1995)"
          ],
          [
           1548,
           1,
           1,
           "The Courtyard (1995)"
          ],
          [
           1549,
           2,
           1.5,
           "Dream Man (1995)"
          ],
          [
           1550,
           2,
           3,
           "Destiny Turns on the Radio (1995)"
          ],
          [
           1551,
           2,
           2,
           "Glass Shield, The (1994)"
          ],
          [
           1552,
           3,
           2,
           "Hunted, The (1995)"
          ],
          [
           1553,
           4,
           2.75,
           "Underneath, The (1995)"
          ],
          [
           1554,
           2,
           3,
           "Safe Passage (1994)"
          ],
          [
           1555,
           5,
           2.6,
           "Secret Adventures of Tom Thumb, The (1993)"
          ],
          [
           1556,
           2,
           2,
           "Condition Red (1995)"
          ],
          [
           1557,
           1,
           1,
           "Yankee Zulu (1994)"
          ],
          [
           1558,
           7,
           3.5714285714285716,
           "Aparajito (1956)"
          ],
          [
           1559,
           1,
           1,
           "Hostile Intentions (1994)"
          ],
          [
           1560,
           4,
           2.75,
           "Clean Slate (Coup de Torchon) (1981)"
          ],
          [
           1561,
           1,
           1,
           "Tigrero: A Film That Was Never Made (1994)"
          ],
          [
           1562,
           1,
           1,
           "Eye of Vichy, The (Oeil de Vichy, L') (1993)"
          ],
          [
           1563,
           1,
           1,
           "Promise, The (Versprechen, Das) (1994)"
          ],
          [
           1564,
           1,
           1,
           "To Cross the Rubicon (1991)"
          ],
          [
           1565,
           1,
           1,
           "Daens (1992)"
          ],
          [
           1566,
           1,
           1,
           "Man from Down Under, The (1943)"
          ],
          [
           1567,
           1,
           1,
           "Careful (1992)"
          ],
          [
           1568,
           1,
           1,
           "Vermont Is For Lovers (1992)"
          ],
          [
           1569,
           1,
           1,
           "Vie est belle, La (Life is Rosey) (1987)"
          ],
          [
           1570,
           1,
           1,
           "Quartier Mozart (1992)"
          ],
          [
           1571,
           1,
           1,
           "Touki Bouki (Journey of the Hyena) (1973)"
          ],
          [
           1572,
           1,
           1,
           "Wend Kuuni (God's Gift) (1982)"
          ],
          [
           1573,
           2,
           2.5,
           "Spirits of the Dead (Tre passi nel delirio) (1968)"
          ],
          [
           1574,
           1,
           1,
           "Pharaoh's Army (1995)"
          ],
          [
           1575,
           1,
           1,
           "I, Worst of All (Yo, la peor de todas) (1990)"
          ],
          [
           1576,
           1,
           1,
           "Hungarian Fairy Tale, A (1987)"
          ],
          [
           1577,
           1,
           1,
           "Death in the Garden (Mort en ce jardin, La) (1956)"
          ],
          [
           1578,
           2,
           2,
           "Collectionneuse, La (1967)"
          ],
          [
           1579,
           1,
           1,
           "Baton Rouge (1988)"
          ],
          [
           1580,
           1,
           1,
           "Liebelei (1933)"
          ],
          [
           1581,
           1,
           1,
           "Woman in Question, The (1950)"
          ],
          [
           1582,
           1,
           1,
           "T-Men (1947)"
          ],
          [
           1583,
           1,
           1,
           "Invitation, The (Zaproszenie) (1986)"
          ],
          [
           1584,
           1,
           1,
           "Symphonie pastorale, La (1946)"
          ],
          [
           1585,
           2,
           2.5,
           "American Dream (1990)"
          ],
          [
           1586,
           1,
           1,
           "Lashou shentan (1992)"
          ],
          [
           1587,
           1,
           1,
           "Terror in a Texas Town (1958)"
          ],
          [
           1588,
           2,
           2,
           "Salut cousin! (1996)"
          ],
          [
           1589,
           4,
           3,
           "Schizopolis (1996)"
          ],
          [
           1590,
           2,
           2,
           "To Have, or Not (1995)"
          ],
          [
           1591,
           6,
           3.1666666666666665,
           "Duoluo tianshi (1995)"
          ],
          [
           1592,
           5,
           3.6,
           "Magic Hour, The (1998)"
          ],
          [
           1593,
           1,
           4,
           "Death in Brunswick (1991)"
          ],
          [
           1594,
           2,
           4.5,
           "Everest (1998)"
          ],
          [
           1595,
           1,
           2,
           "Shopping (1994)"
          ],
          [
           1596,
           1,
           2,
           "Nemesis 2: Nebula (1995)"
          ],
          [
           1597,
           5,
           3,
           "Romper Stomper (1992)"
          ],
          [
           1598,
           6,
           2.5,
           "City of Industry (1997)"
          ],
          [
           1599,
           1,
           5,
           "Someone Else's America (1995)"
          ],
          [
           1600,
           4,
           3.75,
           "Guantanamera (1994)"
          ],
          [
           1601,
           1,
           1,
           "Office Killer (1997)"
          ],
          [
           1602,
           3,
           3.3333333333333335,
           "Price Above Rubies, A (1998)"
          ],
          [
           1603,
           1,
           3,
           "Angela (1995)"
          ],
          [
           1604,
           1,
           4,
           "He Walked by Night (1948)"
          ],
          [
           1605,
           4,
           3,
           "Love Serenade (1996)"
          ],
          [
           1606,
           1,
           2,
           "Deceiver (1997)"
          ],
          [
           1607,
           3,
           3.3333333333333335,
           "Hurricane Streets (1998)"
          ],
          [
           1608,
           4,
           2.25,
           "Buddy (1997)"
          ],
          [
           1609,
           3,
           1.6666666666666667,
           "B*A*P*S (1997)"
          ],
          [
           1610,
           3,
           2,
           "Truth or Consequences, N.M. (1997)"
          ],
          [
           1611,
           2,
           3,
           "Intimate Relations (1996)"
          ],
          [
           1612,
           4,
           3.75,
           "Leading Man, The (1996)"
          ],
          [
           1613,
           1,
           4,
           "Tokyo Fist (1995)"
          ],
          [
           1614,
           1,
           3,
           "Reluctant Debutante, The (1958)"
          ],
          [
           1615,
           10,
           3,
           "Warriors of Virtue (1997)"
          ],
          [
           1616,
           1,
           4,
           "Desert Winds (1995)"
          ],
          [
           1617,
           2,
           3,
           "Hugo Pool (1997)"
          ],
          [
           1618,
           1,
           1,
           "King of New York (1990)"
          ],
          [
           1619,
           1,
           3,
           "All Things Fair (1996)"
          ],
          [
           1620,
           9,
           3.2222222222222223,
           "Sixth Man, The (1997)"
          ],
          [
           1621,
           1,
           1,
           "Butterfly Kiss (1995)"
          ],
          [
           1622,
           3,
           2.3333333333333335,
           "Paris, France (1993)"
          ],
          [
           1623,
           3,
           4,
           "Cérémonie, La (1995)"
          ],
          [
           1624,
           1,
           2,
           "Hush (1998)"
          ],
          [
           1625,
           1,
           4,
           "Nightwatch (1997)"
          ],
          [
           1626,
           1,
           1,
           "Nobody Loves Me (Keiner liebt mich) (1994)"
          ],
          [
           1627,
           1,
           3,
           "Wife, The (1995)"
          ],
          [
           1628,
           4,
           3.75,
           "Lamerica (1994)"
          ],
          [
           1629,
           2,
           4,
           "Nico Icon (1995)"
          ],
          [
           1630,
           1,
           3,
           "Silence of the Palace, The (Saimt el Qusur) (1994)"
          ],
          [
           1631,
           2,
           3.5,
           "Slingshot, The (1993)"
          ],
          [
           1632,
           1,
           3,
           "Land and Freedom (Tierra y libertad) (1995)"
          ],
          [
           1633,
           1,
           3,
           "Á köldum klaka (Cold Fever) (1994)"
          ],
          [
           1634,
           1,
           2,
           "Etz Hadomim Tafus (Under the Domin Tree) (1994)"
          ],
          [
           1635,
           1,
           3,
           "Two Friends (1986) "
          ],
          [
           1636,
           1,
           4,
           "Brothers in Trouble (1995)"
          ],
          [
           1637,
           1,
           3,
           "Girls Town (1996)"
          ],
          [
           1638,
           1,
           3,
           "Normal Life (1996)"
          ],
          [
           1639,
           3,
           4.333333333333333,
           "Bitter Sugar (Azucar Amargo) (1996)"
          ],
          [
           1640,
           1,
           3,
           "Eighth Day, The (1996)"
          ],
          [
           1641,
           1,
           3,
           "Dadetown (1995)"
          ],
          [
           1642,
           2,
           4.5,
           "Some Mother's Son (1996)"
          ],
          [
           1643,
           4,
           3.75,
           "Angel Baby (1995)"
          ],
          [
           1644,
           2,
           1.5,
           "Sudden Manhattan (1996)"
          ],
          [
           1645,
           1,
           4,
           "Butcher Boy, The (1998)"
          ],
          [
           1646,
           2,
           3.5,
           "Men With Guns (1997)"
          ],
          [
           1647,
           1,
           3,
           "Hana-bi (1997)"
          ],
          [
           1648,
           1,
           2,
           "Niagara, Niagara (1997)"
          ],
          [
           1649,
           1,
           3,
           "Big One, The (1997)"
          ],
          [
           1650,
           1,
           4,
           "Butcher Boy, The (1998)"
          ],
          [
           1651,
           1,
           4,
           "Spanish Prisoner, The (1997)"
          ],
          [
           1652,
           3,
           1.6666666666666667,
           "Temptress Moon (Feng Yue) (1996)"
          ],
          [
           1653,
           1,
           5,
           "Entertaining Angels: The Dorothy Day Story (1996)"
          ],
          [
           1654,
           1,
           1,
           "Chairman of the Board (1998)"
          ],
          [
           1655,
           1,
           2,
           "Favor, The (1994)"
          ],
          [
           1656,
           2,
           3.5,
           "Little City (1998)"
          ],
          [
           1657,
           1,
           3,
           "Target (1995)"
          ],
          [
           1658,
           3,
           3,
           "Substance of Fire, The (1996)"
          ],
          [
           1659,
           1,
           1,
           "Getting Away With Murder (1996)"
          ],
          [
           1660,
           1,
           2,
           "Small Faces (1995)"
          ],
          [
           1661,
           1,
           1,
           "New Age, The (1994)"
          ],
          [
           1662,
           2,
           2.5,
           "Rough Magic (1995)"
          ],
          [
           1663,
           1,
           2,
           "Nothing Personal (1995)"
          ],
          [
           1664,
           4,
           3.25,
           "8 Heads in a Duffel Bag (1997)"
          ],
          [
           1665,
           1,
           2,
           "Brother's Kiss, A (1997)"
          ],
          [
           1666,
           1,
           2,
           "Ripe (1996)"
          ],
          [
           1667,
           1,
           3,
           "Next Step, The (1995)"
          ],
          [
           1668,
           1,
           3,
           "Wedding Bell Blues (1996)"
          ],
          [
           1669,
           1,
           2,
           "MURDER and murder (1996)"
          ],
          [
           1670,
           1,
           3,
           "Tainted (1998)"
          ],
          [
           1671,
           1,
           1,
           "Further Gesture, A (1996)"
          ],
          [
           1672,
           2,
           2,
           "Kika (1993)"
          ],
          [
           1673,
           1,
           3,
           "Mirage (1995)"
          ],
          [
           1674,
           1,
           4,
           "Mamma Roma (1962)"
          ],
          [
           1675,
           1,
           3,
           "Sunchaser, The (1996)"
          ],
          [
           1676,
           1,
           2,
           "War at Home, The (1996)"
          ],
          [
           1677,
           1,
           3,
           "Sweet Nothing (1995)"
          ],
          [
           1678,
           1,
           1,
           "Mat' i syn (1997)"
          ],
          [
           1679,
           1,
           3,
           "B. Monkey (1998)"
          ],
          [
           1680,
           1,
           2,
           "Sliding Doors (1998)"
          ],
          [
           1681,
           1,
           3,
           "You So Crazy (1994)"
          ],
          [
           1682,
           1,
           3,
           "Scream of Stone (Schrei aus Stein) (1991)"
          ]
         ],
         "hovertemplate": "bayesian_avg=%{y}<br>movie_id=%{customdata[0]}<br>count=%{customdata[1]}<br>mean=%{customdata[2]}<br>movie_title=%{customdata[3]}<extra></extra>",
         "legendgroup": "",
         "marker": {
          "color": "#636efa"
         },
         "name": "",
         "offsetgroup": "",
         "orientation": "v",
         "points": "all",
         "scalegroup": "True",
         "showlegend": false,
         "type": "violin",
         "x0": " ",
         "xaxis": "x",
         "y": [
          3.55,
          2.53,
          2.25,
          3,
          2.38,
          1.82,
          3.44,
          3.37,
          3.42,
          2.72,
          3.28,
          3.78,
          2.84,
          3.25,
          3.32,
          1.9,
          2.31,
          1.3,
          2.61,
          2.35,
          2.05,
          3.63,
          3.37,
          2.84,
          3.04,
          2.37,
          2.06,
          3.42,
          2.11,
          2.16,
          2.91,
          2.63,
          2.54,
          1.23,
          1.23,
          1.25,
          1.19,
          2.36,
          2.37,
          1.95,
          1.83,
          3.02,
          1.84,
          2.36,
          2.77,
          1.83,
          2.81,
          3.07,
          2.36,
          4.05,
          2.44,
          2.7,
          2.35,
          2.44,
          2.95,
          3.67,
          2.24,
          2.99,
          2.8,
          2.59,
          2.45,
          2.48,
          2.24,
          3.86,
          2.69,
          2.88,
          2.32,
          2.69,
          3.42,
          3.16,
          3.2,
          2.52,
          2.7,
          1.26,
          1.2,
          2.17,
          2.65,
          1.55,
          3.59,
          1.97,
          2.68,
          3.23,
          3.3,
          1.5,
          2.03,
          3.12,
          3.05,
          3,
          3.59,
          2.28,
          2.84,
          2.68,
          2.8,
          2.47,
          3.22,
          3.51,
          3.28,
          3.86,
          3.03,
          3.83,
          2.27,
          2.04,
          1.22,
          1.08,
          1.89,
          2.05,
          2.07,
          2.11,
          2.68,
          1.55,
          3.05,
          1.4,
          1.45,
          2.85,
          1.59,
          2.93,
          3.33,
          2.85,
          1.27,
          1.68,
          3.15,
          1.88,
          2.49,
          3.33,
          3.07,
          2.76,
          3.88,
          2.35,
          2.95,
          1.39,
          2.7,
          3.49,
          3.14,
          3.54,
          3.42,
          3.01,
          3.17,
          1.42,
          1.84,
          2.15,
          2.39,
          2.04,
          3.19,
          3.32,
          1.78,
          1.26,
          2.88,
          2.52,
          1.6,
          3.07,
          3.23,
          2.55,
          3.26,
          3.06,
          2.33,
          3.15,
          2.85,
          1.84,
          2.42,
          2.35,
          2.96,
          2.66,
          2.57,
          2.87,
          2.64,
          2.57,
          2.06,
          3.59,
          3.32,
          3.15,
          2.53,
          3.76,
          3.69,
          3.86,
          3.2,
          3.45,
          3.01,
          3.28,
          3.3,
          3.41,
          3.7,
          3.35,
          3.53,
          2.62,
          3.49,
          3.3,
          3.49,
          3,
          2.66,
          3.14,
          3.61,
          3.08,
          3.13,
          3.46,
          3.46,
          3.37,
          3.5,
          3.07,
          3.35,
          3.2,
          2.53,
          3.29,
          3.17,
          3.43,
          3.1,
          2.12,
          2.51,
          3.28,
          3.23,
          3.49,
          3.27,
          2.51,
          3.08,
          2.56,
          3.12,
          3.42,
          2.46,
          2.84,
          2.43,
          2.27,
          2.54,
          3.29,
          3.24,
          2.18,
          2.25,
          2.75,
          2.68,
          3.27,
          2.58,
          2.9,
          2.2,
          2.41,
          2.56,
          3.3,
          2.46,
          2.16,
          3.35,
          3.34,
          2.81,
          2.31,
          2.76,
          3,
          2.01,
          2,
          2.7,
          3,
          1.11,
          2.96,
          2.56,
          2.91,
          2.45,
          2.43,
          1.86,
          1.77,
          2.77,
          1.58,
          3.3,
          3.52,
          2.25,
          2.09,
          1.68,
          2.45,
          1.32,
          2.12,
          3.28,
          1.67,
          1.37,
          3.27,
          3.47,
          2.82,
          2.75,
          3.52,
          3.04,
          2.92,
          3.47,
          3.26,
          2.37,
          2.15,
          1.77,
          2.31,
          2.54,
          3.15,
          3.05,
          2.66,
          3.4,
          3.37,
          2.49,
          3.18,
          2.62,
          2.33,
          2.63,
          2.77,
          3.01,
          2.93,
          2.38,
          1.26,
          2.38,
          3.13,
          2.09,
          3.32,
          2.84,
          3.64,
          2.88,
          2.83,
          2.59,
          2.84,
          2.92,
          1.69,
          1.63,
          2.86,
          2.52,
          2.26,
          3.78,
          1.05,
          3.27,
          3.11,
          2.86,
          3.9,
          2.69,
          1.81,
          2.59,
          2.65,
          2.56,
          2.46,
          2.07,
          2.77,
          2.79,
          3.03,
          2.03,
          1.86,
          2.68,
          2.75,
          3.11,
          2.25,
          1.5,
          1.71,
          1.5,
          2.02,
          2.02,
          2.98,
          1.37,
          1.92,
          2.43,
          2.3,
          2.28,
          2.81,
          2.77,
          1.75,
          1.69,
          1.91,
          1.47,
          1.38,
          1.31,
          2.39,
          1.82,
          2.5,
          3.7,
          2.16,
          1.62,
          1.36,
          1.4,
          1.62,
          1.79,
          1.67,
          2.02,
          2.06,
          2.84,
          1.34,
          1.81,
          1.75,
          2.17,
          1.95,
          1.78,
          1.24,
          1.3,
          1.56,
          1.25,
          2.73,
          1.86,
          2.56,
          2.62,
          2.71,
          1.4,
          1.98,
          3,
          2.1,
          2.27,
          1.48,
          1.8,
          1.36,
          1.9,
          2.38,
          2.85,
          1.43,
          1.8,
          1.89,
          1.31,
          1.36,
          2.4,
          1.44,
          2.03,
          2.84,
          2.89,
          2.7,
          2.98,
          1.68,
          1.66,
          3.3,
          2.18,
          2.57,
          2.42,
          1.87,
          1.81,
          2.32,
          1.58,
          2.31,
          2.18,
          2.78,
          3.06,
          2.56,
          2.68,
          1.6,
          3.37,
          1.12,
          2.63,
          1.68,
          3.6,
          2.91,
          2.84,
          2.85,
          2.84,
          3.08,
          3.01,
          2.53,
          3.32,
          2.6,
          1.05,
          1.06,
          1.05,
          1.16,
          1.77,
          1.06,
          3.07,
          1.78,
          1.71,
          1.23,
          2.7,
          2.43,
          2.37,
          1.74,
          2.75,
          1.9,
          1.24,
          1.44,
          2.61,
          1.61,
          1.27,
          2.3,
          1.83,
          1.68,
          2.48,
          3.02,
          2.58,
          1.85,
          2.53,
          2.24,
          2.28,
          2.22,
          2.5,
          2.74,
          3.07,
          2.53,
          2.46,
          3.5,
          3.34,
          2.49,
          2.38,
          3,
          3.45,
          3.48,
          2.54,
          3.05,
          3.79,
          3.26,
          2.93,
          2.47,
          2.68,
          2.7,
          2.48,
          2.41,
          2.5,
          2.45,
          2.61,
          2.48,
          2.35,
          3.49,
          2.54,
          3.3,
          2.53,
          2.03,
          2.7,
          2.35,
          2.08,
          2.91,
          2.62,
          2.74,
          2.77,
          3.04,
          2.93,
          2.99,
          3.42,
          2.49,
          2.85,
          3.2,
          3.48,
          2.55,
          2.7,
          2.61,
          2.8,
          3.12,
          2.91,
          2.06,
          3.21,
          2.35,
          2.69,
          2.93,
          3.33,
          3.12,
          2.84,
          2.76,
          3.02,
          1.66,
          1.58,
          1.46,
          2.06,
          1.38,
          1.92,
          2.3,
          1.66,
          1.66,
          1.88,
          1.73,
          1.72,
          2.2,
          1.18,
          2.66,
          1.99,
          1.24,
          2.58,
          2.65,
          1.44,
          1.83,
          2.2,
          2.16,
          1.19,
          1.29,
          1.51,
          2.47,
          2.54,
          1.5,
          2.06,
          2.02,
          1.5,
          1.36,
          1.49,
          2.94,
          1.7,
          3.11,
          1.93,
          1.99,
          1.52,
          1.61,
          1.73,
          1.28,
          1.69,
          2.25,
          1.53,
          2.33,
          1.43,
          1.86,
          2.13,
          2.93,
          1.8,
          2.47,
          1.62,
          1.64,
          1.53,
          3.17,
          2.3,
          1.27,
          2.96,
          1.35,
          1.41,
          1.16,
          2.11,
          2.64,
          2.68,
          1.13,
          1.05,
          1.12,
          1.79,
          2.26,
          3.65,
          2.76,
          1.84,
          2.63,
          2.59,
          2.02,
          2.32,
          2.12,
          2.28,
          2.1,
          1.98,
          2.3,
          2.55,
          2.28,
          1.69,
          1.65,
          2.15,
          1.91,
          1.34,
          1.97,
          1.79,
          1.65,
          2.37,
          1.19,
          2.26,
          2.87,
          2.34,
          1.82,
          2.77,
          2.46,
          2.67,
          1.83,
          1.52,
          2.38,
          1.82,
          2.21,
          2.12,
          2.2,
          2.18,
          2.51,
          1.17,
          2.06,
          1.91,
          2.15,
          2.7,
          2.63,
          2.12,
          2.42,
          3.3,
          2.76,
          2.09,
          3.25,
          3.29,
          2.31,
          3.26,
          2.4,
          3.05,
          3.01,
          2.87,
          2.43,
          2.94,
          2.14,
          2.17,
          1.16,
          1.24,
          1.15,
          1.15,
          1.79,
          2.17,
          1.92,
          2.51,
          1.88,
          2.24,
          2.34,
          1.08,
          2.43,
          2.33,
          1.6,
          1.49,
          2.31,
          1.66,
          3.08,
          2.72,
          2.25,
          1.66,
          1.39,
          2.3,
          2.79,
          1.57,
          2.94,
          2.62,
          2.33,
          1.39,
          2.24,
          2.01,
          1.33,
          2.71,
          1.36,
          1.48,
          1.98,
          1.66,
          1.62,
          3.1,
          1.2,
          2.61,
          2.58,
          2.95,
          2.49,
          1.1,
          1.99,
          2.45,
          1.44,
          2.37,
          2.09,
          2.08,
          1.61,
          1.5,
          2.22,
          2.19,
          1.98,
          1.81,
          2.42,
          1.41,
          1.31,
          2.29,
          1.9,
          2.45,
          1.76,
          1.88,
          3,
          1.48,
          1.51,
          3.01,
          2.69,
          2.01,
          1.66,
          2.72,
          2.3,
          2.24,
          3.17,
          1.41,
          2.51,
          1.65,
          2.79,
          2.57,
          2.8,
          2.03,
          2.95,
          2.84,
          1.95,
          1.82,
          2.19,
          2.45,
          2.31,
          1.16,
          1.22,
          1.23,
          1.75,
          1.9,
          2.59,
          2.72,
          1.61,
          1.67,
          1.32,
          1.23,
          2,
          1.63,
          2.19,
          1.7,
          1.96,
          1.47,
          1.71,
          1.57,
          1.34,
          1.06,
          2.45,
          1.56,
          2.1,
          2.39,
          1.27,
          1.7,
          1.05,
          1.88,
          1.36,
          1.44,
          1.08,
          2.17,
          2.03,
          1.26,
          2.63,
          1.4,
          2.19,
          1.41,
          1.82,
          1.75,
          1.21,
          1.22,
          1.61,
          1.43,
          1.71,
          1.25,
          1.27,
          1.86,
          2.15,
          1.28,
          1.66,
          1.83,
          1.84,
          1.72,
          1.53,
          2.43,
          1.12,
          2.48,
          1.41,
          1.13,
          1.56,
          1.71,
          2.1,
          1.59,
          1.17,
          2.11,
          1.82,
          2.21,
          1.93,
          1.89,
          1.35,
          1.63,
          1.05,
          1.9,
          1.46,
          2.02,
          1.39,
          1.62,
          1.88,
          1.9,
          1.16,
          1.14,
          1.81,
          1.81,
          1.71,
          1.71,
          2.01,
          2.86,
          1.91,
          2.34,
          1.38,
          1.84,
          1.24,
          1.22,
          1.05,
          1.59,
          1.54,
          2.46,
          2.1,
          1.08,
          1.05,
          1.38,
          1.31,
          1.11,
          1.3,
          1.88,
          2.3,
          1.68,
          2.56,
          1.32,
          1.26,
          1.61,
          1.28,
          1.8,
          1.9,
          2.15,
          1.93,
          1.85,
          1.78,
          1.75,
          1.57,
          2.6,
          2.11,
          1.86,
          1.87,
          1.44,
          1.29,
          1.26,
          2.01,
          2.38,
          1.54,
          1.47,
          1.43,
          1.2,
          1.85,
          1.31,
          1.26,
          2.44,
          2.21,
          1.07,
          2.12,
          1.37,
          2.14,
          1.2,
          2.2,
          1.53,
          1.66,
          1.73,
          1.61,
          1.08,
          1.42,
          1.54,
          1.11,
          1.14,
          1.31,
          1.1,
          1.31,
          1.57,
          1.54,
          1.3,
          1.28,
          2.74,
          1.14,
          2.33,
          2.06,
          2.58,
          2.43,
          1.88,
          2.09,
          1.25,
          2.36,
          1.71,
          2,
          1.59,
          1.81,
          1.41,
          2.05,
          1.29,
          2.06,
          1.95,
          1.59,
          2.33,
          1.5,
          1.93,
          2.1,
          2.03,
          1.87,
          2.21,
          2.11,
          1.54,
          1.55,
          2.3,
          1.67,
          1.75,
          1.97,
          1.66,
          1.44,
          2.12,
          2.17,
          1.08,
          1.57,
          2.3,
          1.7,
          1.99,
          1.63,
          2.37,
          1.35,
          1.73,
          2.01,
          1.41,
          1.67,
          2.58,
          1.31,
          2.01,
          1.73,
          1.21,
          1.74,
          1.95,
          1.18,
          1.79,
          1.51,
          1.85,
          1.63,
          1.13,
          1.49,
          1.32,
          1.82,
          1.54,
          1.47,
          1.14,
          1.8,
          1.68,
          1.78,
          1.4,
          1.17,
          2.35,
          1.18,
          1.77,
          1.33,
          1.28,
          1.37,
          1.3,
          1.33,
          1.26,
          1.15,
          1.19,
          1.32,
          1.76,
          1.55,
          2.41,
          1.94,
          2.26,
          1.99,
          2.38,
          2.61,
          1.53,
          2.3,
          1.35,
          2.73,
          2.05,
          1.8,
          2.05,
          2.1,
          2.13,
          1.89,
          1.58,
          1.57,
          1.85,
          1.14,
          1.13,
          2.47,
          1.23,
          1.35,
          1.18,
          1.44,
          1.66,
          1.51,
          2.18,
          1.54,
          1.32,
          1.45,
          2.83,
          1.51,
          2.15,
          1.72,
          1.28,
          1.93,
          1.7,
          1.98,
          2.29,
          2.13,
          1.49,
          2.14,
          1.95,
          1.42,
          1.74,
          1.4,
          1.36,
          1.36,
          1.39,
          1.5,
          1.69,
          1.84,
          1.67,
          1.5,
          2.12,
          1.25,
          2.2,
          1.46,
          2.07,
          1.41,
          1.54,
          1.89,
          1.44,
          1.2,
          2.51,
          2.13,
          1.3,
          1.25,
          1.3,
          1.52,
          1.57,
          1.15,
          1.25,
          1.24,
          1.18,
          1.78,
          1.36,
          1.63,
          1.15,
          1.26,
          1.47,
          1.57,
          1.75,
          1.29,
          1.62,
          1.28,
          1.57,
          1.13,
          1.62,
          2.14,
          1.48,
          1.24,
          2.56,
          1.2,
          1.71,
          1.17,
          1.47,
          1.17,
          1.52,
          1.16,
          1.81,
          1.79,
          1.3,
          1.4,
          1.65,
          1.38,
          1.83,
          1.51,
          1.55,
          2.02,
          2.35,
          1.48,
          1.76,
          1.12,
          1.18,
          1.52,
          1.25,
          1.85,
          1.34,
          1.35,
          1.86,
          1.1,
          1.58,
          1.6,
          1.69,
          1.93,
          1.89,
          1.85,
          2.01,
          1.23,
          1.61,
          1.33,
          1.35,
          2.33,
          1.65,
          1.18,
          1.26,
          1.1,
          1.73,
          1.35,
          1.9,
          1.32,
          1.17,
          1.81,
          1.64,
          1.43,
          1.16,
          1.08,
          1.59,
          1.24,
          1.44,
          1.83,
          1.39,
          1.09,
          1.53,
          1.15,
          1.21,
          1.41,
          1.44,
          1.66,
          1.49,
          1.68,
          1.45,
          1.58,
          1.21,
          1.31,
          1.23,
          1.68,
          1.14,
          1.4,
          1.19,
          1.26,
          1.26,
          1.28,
          1.33,
          1.26,
          1.34,
          1.16,
          1.44,
          1.78,
          1.24,
          1.41,
          1.21,
          1.47,
          1.45,
          2.08,
          1.4,
          1.15,
          2.13,
          1.27,
          1.56,
          1.29,
          1.12,
          1.34,
          1.83,
          1.65,
          1.23,
          1.45,
          1.33,
          1.5,
          1.35,
          1.71,
          1.45,
          1.22,
          1.15,
          1.18,
          1.35,
          1.23,
          1.77,
          1.78,
          1.52,
          1.82,
          2.02,
          1.53,
          1.21,
          1.32,
          1.36,
          1.86,
          1.21,
          1.68,
          1.25,
          1.23,
          1.44,
          1.37,
          1.28,
          1.21,
          1.1,
          1.08,
          1.28,
          1.3,
          1.38,
          1.84,
          1.2,
          1.17,
          1.33,
          1.76,
          1.57,
          1.11,
          1.12,
          1.52,
          1.35,
          1.09,
          1.42,
          1.31,
          1.2,
          1.17,
          1.19,
          1.1,
          1.1,
          1.46,
          1.11,
          1.16,
          1.19,
          1.36,
          1.43,
          1.29,
          1.54,
          1.41,
          1.75,
          1.38,
          1.46,
          1.18,
          1.23,
          1.11,
          1.39,
          1.16,
          1.14,
          1.22,
          1.63,
          1.6,
          1.29,
          1.4,
          1.43,
          1.34,
          1.45,
          1.6,
          1.47,
          1.64,
          1.08,
          1.26,
          1.17,
          1.07,
          1.28,
          1.08,
          1.24,
          1.27,
          1.21,
          1.61,
          1.35,
          1.4,
          1.28,
          1.22,
          1.26,
          1.23,
          1.35,
          1.1,
          1.2,
          1.12,
          1.07,
          1.05,
          1.05,
          1.08,
          1.36,
          1.26,
          1.45,
          1.27,
          1.63,
          1.23,
          1.11,
          1.07,
          1.1,
          1.05,
          1.1,
          1.17,
          1.13,
          1.16,
          1.05,
          1.26,
          1.11,
          1.25,
          1.05,
          1.14,
          1.17,
          1.08,
          1.19,
          1.05,
          1.3,
          1.16,
          1.22,
          1.13,
          1.05,
          1.05,
          1.05,
          1.1,
          1.05,
          1.22,
          1.08,
          1.16,
          1.16,
          1.05,
          1.05,
          1.07,
          1.1,
          1.05,
          1.17,
          1.05,
          1.2,
          1.13,
          1.13,
          1.12,
          1.05,
          1.07,
          1.13,
          1.08,
          1.05,
          1.05,
          1.07,
          1.05,
          1.3,
          1.29,
          1.16,
          1.13,
          1.07,
          1.15,
          1.05,
          1.05,
          1.42,
          1.17,
          1.19,
          1.14,
          1.24,
          1.17,
          1.31,
          1.11,
          1.14,
          1.08,
          1.19,
          1.2,
          1.1,
          1.26,
          1.15,
          1.08,
          1.1,
          1.13,
          1.19,
          1.2,
          1.17,
          1.3,
          1.22,
          1.16,
          1.2,
          1.35,
          1.56,
          1.16,
          1.16,
          1.44,
          1.26,
          1.23,
          1.35,
          1.05,
          1.24,
          1.16,
          1.54,
          1.11,
          1.25,
          1.07,
          1.23,
          1.16,
          1.1,
          1.18,
          1.28,
          1.07,
          1.38,
          1.13,
          1.13,
          1.11,
          1.27,
          1.31,
          1.19,
          1.49,
          1.16,
          1.11,
          1.23,
          1.05,
          1.08,
          1.26,
          1.21,
          1.1,
          1.18,
          1.16,
          1.28,
          1.2,
          1.21,
          1.16,
          1.22,
          1.4,
          1.16,
          1.47,
          1.08,
          1.18,
          1.48,
          1.15,
          1.62,
          1.1,
          1.07,
          1.23,
          1.1,
          1.33,
          1.08,
          1.1,
          1.32,
          1.08,
          1.07,
          1.33,
          1.16,
          1.11,
          1.11,
          1.32,
          1.18,
          1.26,
          1.41,
          1.17,
          1.23,
          1.13,
          1.38,
          1.22,
          1.27,
          1.07,
          1.1,
          1.44,
          1.25,
          1.24,
          1.12,
          1.1,
          1.45,
          1.13,
          1.21,
          1.05,
          1.13,
          1.17,
          1.14,
          1.15,
          1.12,
          1.1,
          1.05,
          1.05,
          1.25,
          1.19,
          1.12,
          1.1,
          1.19,
          1.18,
          1.2,
          1.07,
          1.35,
          1.18,
          1.1,
          1.18,
          1.08,
          1.11,
          1.09,
          1.08,
          1.22,
          1.32,
          1.1,
          1.27,
          1.1,
          1.19,
          1.19,
          1.38,
          1.12,
          1.08,
          1.17,
          1.2,
          1.12,
          1.43,
          1.1,
          1.1,
          1.2,
          1.11,
          1.19,
          1.13,
          1.29,
          1.08,
          1.1,
          1.15,
          1.17,
          1.12,
          1.24,
          1.15,
          1.1,
          1.3,
          1.13,
          1.12,
          1.08,
          1.13,
          1.14,
          1.05,
          1.12,
          1.05,
          1.07,
          1.12,
          1.08,
          1.1,
          1.16,
          1.12,
          1.17,
          1.08,
          1.05,
          1.32,
          1.05,
          1.16,
          1.05,
          1.05,
          1.05,
          1.05,
          1.05,
          1.05,
          1.05,
          1.05,
          1.05,
          1.05,
          1.05,
          1.05,
          1.1,
          1.05,
          1.05,
          1.05,
          1.05,
          1.08,
          1.05,
          1.05,
          1.05,
          1.05,
          1.05,
          1.05,
          1.1,
          1.05,
          1.05,
          1.08,
          1.17,
          1.08,
          1.25,
          1.25,
          1.1,
          1.16,
          1.07,
          1.07,
          1.2,
          1.18,
          1.12,
          1.22,
          1.05,
          1.16,
          1.08,
          1.1,
          1.17,
          1.07,
          1.16,
          1.13,
          1.08,
          1.1,
          1.12,
          1.22,
          1.1,
          1.08,
          1.33,
          1.1,
          1.12,
          1.05,
          1.08,
          1.34,
          1.05,
          1.11,
          1.19,
          1.07,
          1.1,
          1.05,
          1.08,
          1.22,
          1.15,
          1.08,
          1.13,
          1.08,
          1.08,
          1.07,
          1.08,
          1.1,
          1.08,
          1.08,
          1.21,
          1.08,
          1.08,
          1.16,
          1.22,
          1.07,
          1.1,
          1.13,
          1.08,
          1.07,
          1.08,
          1.1,
          1.1,
          1.08,
          1.12,
          1.05,
          1.07,
          1.13,
          1.08,
          1.15,
          1.05,
          1.07,
          1.05,
          1.1,
          1.07,
          1.19,
          1.07,
          1.07,
          1.08,
          1.08,
          1.07,
          1.08,
          1.05,
          1.08,
          1.08,
          1.1,
          1.08,
          1.07,
          1.08,
          1.05,
          1.08,
          1.07,
          1.08,
          1.08
         ],
         "y0": " ",
         "yaxis": "y"
        }
       ],
       "layout": {
        "legend": {
         "tracegroupgap": 0
        },
        "margin": {
         "t": 60
        },
        "template": {
         "data": {
          "bar": [
           {
            "error_x": {
             "color": "#2a3f5f"
            },
            "error_y": {
             "color": "#2a3f5f"
            },
            "marker": {
             "line": {
              "color": "#E5ECF6",
              "width": 0.5
             },
             "pattern": {
              "fillmode": "overlay",
              "size": 10,
              "solidity": 0.2
             }
            },
            "type": "bar"
           }
          ],
          "barpolar": [
           {
            "marker": {
             "line": {
              "color": "#E5ECF6",
              "width": 0.5
             },
             "pattern": {
              "fillmode": "overlay",
              "size": 10,
              "solidity": 0.2
             }
            },
            "type": "barpolar"
           }
          ],
          "carpet": [
           {
            "aaxis": {
             "endlinecolor": "#2a3f5f",
             "gridcolor": "white",
             "linecolor": "white",
             "minorgridcolor": "white",
             "startlinecolor": "#2a3f5f"
            },
            "baxis": {
             "endlinecolor": "#2a3f5f",
             "gridcolor": "white",
             "linecolor": "white",
             "minorgridcolor": "white",
             "startlinecolor": "#2a3f5f"
            },
            "type": "carpet"
           }
          ],
          "choropleth": [
           {
            "colorbar": {
             "outlinewidth": 0,
             "ticks": ""
            },
            "type": "choropleth"
           }
          ],
          "contour": [
           {
            "colorbar": {
             "outlinewidth": 0,
             "ticks": ""
            },
            "colorscale": [
             [
              0,
              "#0d0887"
             ],
             [
              0.1111111111111111,
              "#46039f"
             ],
             [
              0.2222222222222222,
              "#7201a8"
             ],
             [
              0.3333333333333333,
              "#9c179e"
             ],
             [
              0.4444444444444444,
              "#bd3786"
             ],
             [
              0.5555555555555556,
              "#d8576b"
             ],
             [
              0.6666666666666666,
              "#ed7953"
             ],
             [
              0.7777777777777778,
              "#fb9f3a"
             ],
             [
              0.8888888888888888,
              "#fdca26"
             ],
             [
              1,
              "#f0f921"
             ]
            ],
            "type": "contour"
           }
          ],
          "contourcarpet": [
           {
            "colorbar": {
             "outlinewidth": 0,
             "ticks": ""
            },
            "type": "contourcarpet"
           }
          ],
          "heatmap": [
           {
            "colorbar": {
             "outlinewidth": 0,
             "ticks": ""
            },
            "colorscale": [
             [
              0,
              "#0d0887"
             ],
             [
              0.1111111111111111,
              "#46039f"
             ],
             [
              0.2222222222222222,
              "#7201a8"
             ],
             [
              0.3333333333333333,
              "#9c179e"
             ],
             [
              0.4444444444444444,
              "#bd3786"
             ],
             [
              0.5555555555555556,
              "#d8576b"
             ],
             [
              0.6666666666666666,
              "#ed7953"
             ],
             [
              0.7777777777777778,
              "#fb9f3a"
             ],
             [
              0.8888888888888888,
              "#fdca26"
             ],
             [
              1,
              "#f0f921"
             ]
            ],
            "type": "heatmap"
           }
          ],
          "heatmapgl": [
           {
            "colorbar": {
             "outlinewidth": 0,
             "ticks": ""
            },
            "colorscale": [
             [
              0,
              "#0d0887"
             ],
             [
              0.1111111111111111,
              "#46039f"
             ],
             [
              0.2222222222222222,
              "#7201a8"
             ],
             [
              0.3333333333333333,
              "#9c179e"
             ],
             [
              0.4444444444444444,
              "#bd3786"
             ],
             [
              0.5555555555555556,
              "#d8576b"
             ],
             [
              0.6666666666666666,
              "#ed7953"
             ],
             [
              0.7777777777777778,
              "#fb9f3a"
             ],
             [
              0.8888888888888888,
              "#fdca26"
             ],
             [
              1,
              "#f0f921"
             ]
            ],
            "type": "heatmapgl"
           }
          ],
          "histogram": [
           {
            "marker": {
             "pattern": {
              "fillmode": "overlay",
              "size": 10,
              "solidity": 0.2
             }
            },
            "type": "histogram"
           }
          ],
          "histogram2d": [
           {
            "colorbar": {
             "outlinewidth": 0,
             "ticks": ""
            },
            "colorscale": [
             [
              0,
              "#0d0887"
             ],
             [
              0.1111111111111111,
              "#46039f"
             ],
             [
              0.2222222222222222,
              "#7201a8"
             ],
             [
              0.3333333333333333,
              "#9c179e"
             ],
             [
              0.4444444444444444,
              "#bd3786"
             ],
             [
              0.5555555555555556,
              "#d8576b"
             ],
             [
              0.6666666666666666,
              "#ed7953"
             ],
             [
              0.7777777777777778,
              "#fb9f3a"
             ],
             [
              0.8888888888888888,
              "#fdca26"
             ],
             [
              1,
              "#f0f921"
             ]
            ],
            "type": "histogram2d"
           }
          ],
          "histogram2dcontour": [
           {
            "colorbar": {
             "outlinewidth": 0,
             "ticks": ""
            },
            "colorscale": [
             [
              0,
              "#0d0887"
             ],
             [
              0.1111111111111111,
              "#46039f"
             ],
             [
              0.2222222222222222,
              "#7201a8"
             ],
             [
              0.3333333333333333,
              "#9c179e"
             ],
             [
              0.4444444444444444,
              "#bd3786"
             ],
             [
              0.5555555555555556,
              "#d8576b"
             ],
             [
              0.6666666666666666,
              "#ed7953"
             ],
             [
              0.7777777777777778,
              "#fb9f3a"
             ],
             [
              0.8888888888888888,
              "#fdca26"
             ],
             [
              1,
              "#f0f921"
             ]
            ],
            "type": "histogram2dcontour"
           }
          ],
          "mesh3d": [
           {
            "colorbar": {
             "outlinewidth": 0,
             "ticks": ""
            },
            "type": "mesh3d"
           }
          ],
          "parcoords": [
           {
            "line": {
             "colorbar": {
              "outlinewidth": 0,
              "ticks": ""
             }
            },
            "type": "parcoords"
           }
          ],
          "pie": [
           {
            "automargin": true,
            "type": "pie"
           }
          ],
          "scatter": [
           {
            "fillpattern": {
             "fillmode": "overlay",
             "size": 10,
             "solidity": 0.2
            },
            "type": "scatter"
           }
          ],
          "scatter3d": [
           {
            "line": {
             "colorbar": {
              "outlinewidth": 0,
              "ticks": ""
             }
            },
            "marker": {
             "colorbar": {
              "outlinewidth": 0,
              "ticks": ""
             }
            },
            "type": "scatter3d"
           }
          ],
          "scattercarpet": [
           {
            "marker": {
             "colorbar": {
              "outlinewidth": 0,
              "ticks": ""
             }
            },
            "type": "scattercarpet"
           }
          ],
          "scattergeo": [
           {
            "marker": {
             "colorbar": {
              "outlinewidth": 0,
              "ticks": ""
             }
            },
            "type": "scattergeo"
           }
          ],
          "scattergl": [
           {
            "marker": {
             "colorbar": {
              "outlinewidth": 0,
              "ticks": ""
             }
            },
            "type": "scattergl"
           }
          ],
          "scattermapbox": [
           {
            "marker": {
             "colorbar": {
              "outlinewidth": 0,
              "ticks": ""
             }
            },
            "type": "scattermapbox"
           }
          ],
          "scatterpolar": [
           {
            "marker": {
             "colorbar": {
              "outlinewidth": 0,
              "ticks": ""
             }
            },
            "type": "scatterpolar"
           }
          ],
          "scatterpolargl": [
           {
            "marker": {
             "colorbar": {
              "outlinewidth": 0,
              "ticks": ""
             }
            },
            "type": "scatterpolargl"
           }
          ],
          "scatterternary": [
           {
            "marker": {
             "colorbar": {
              "outlinewidth": 0,
              "ticks": ""
             }
            },
            "type": "scatterternary"
           }
          ],
          "surface": [
           {
            "colorbar": {
             "outlinewidth": 0,
             "ticks": ""
            },
            "colorscale": [
             [
              0,
              "#0d0887"
             ],
             [
              0.1111111111111111,
              "#46039f"
             ],
             [
              0.2222222222222222,
              "#7201a8"
             ],
             [
              0.3333333333333333,
              "#9c179e"
             ],
             [
              0.4444444444444444,
              "#bd3786"
             ],
             [
              0.5555555555555556,
              "#d8576b"
             ],
             [
              0.6666666666666666,
              "#ed7953"
             ],
             [
              0.7777777777777778,
              "#fb9f3a"
             ],
             [
              0.8888888888888888,
              "#fdca26"
             ],
             [
              1,
              "#f0f921"
             ]
            ],
            "type": "surface"
           }
          ],
          "table": [
           {
            "cells": {
             "fill": {
              "color": "#EBF0F8"
             },
             "line": {
              "color": "white"
             }
            },
            "header": {
             "fill": {
              "color": "#C8D4E3"
             },
             "line": {
              "color": "white"
             }
            },
            "type": "table"
           }
          ]
         },
         "layout": {
          "annotationdefaults": {
           "arrowcolor": "#2a3f5f",
           "arrowhead": 0,
           "arrowwidth": 1
          },
          "autotypenumbers": "strict",
          "coloraxis": {
           "colorbar": {
            "outlinewidth": 0,
            "ticks": ""
           }
          },
          "colorscale": {
           "diverging": [
            [
             0,
             "#8e0152"
            ],
            [
             0.1,
             "#c51b7d"
            ],
            [
             0.2,
             "#de77ae"
            ],
            [
             0.3,
             "#f1b6da"
            ],
            [
             0.4,
             "#fde0ef"
            ],
            [
             0.5,
             "#f7f7f7"
            ],
            [
             0.6,
             "#e6f5d0"
            ],
            [
             0.7,
             "#b8e186"
            ],
            [
             0.8,
             "#7fbc41"
            ],
            [
             0.9,
             "#4d9221"
            ],
            [
             1,
             "#276419"
            ]
           ],
           "sequential": [
            [
             0,
             "#0d0887"
            ],
            [
             0.1111111111111111,
             "#46039f"
            ],
            [
             0.2222222222222222,
             "#7201a8"
            ],
            [
             0.3333333333333333,
             "#9c179e"
            ],
            [
             0.4444444444444444,
             "#bd3786"
            ],
            [
             0.5555555555555556,
             "#d8576b"
            ],
            [
             0.6666666666666666,
             "#ed7953"
            ],
            [
             0.7777777777777778,
             "#fb9f3a"
            ],
            [
             0.8888888888888888,
             "#fdca26"
            ],
            [
             1,
             "#f0f921"
            ]
           ],
           "sequentialminus": [
            [
             0,
             "#0d0887"
            ],
            [
             0.1111111111111111,
             "#46039f"
            ],
            [
             0.2222222222222222,
             "#7201a8"
            ],
            [
             0.3333333333333333,
             "#9c179e"
            ],
            [
             0.4444444444444444,
             "#bd3786"
            ],
            [
             0.5555555555555556,
             "#d8576b"
            ],
            [
             0.6666666666666666,
             "#ed7953"
            ],
            [
             0.7777777777777778,
             "#fb9f3a"
            ],
            [
             0.8888888888888888,
             "#fdca26"
            ],
            [
             1,
             "#f0f921"
            ]
           ]
          },
          "colorway": [
           "#636efa",
           "#EF553B",
           "#00cc96",
           "#ab63fa",
           "#FFA15A",
           "#19d3f3",
           "#FF6692",
           "#B6E880",
           "#FF97FF",
           "#FECB52"
          ],
          "font": {
           "color": "#2a3f5f"
          },
          "geo": {
           "bgcolor": "white",
           "lakecolor": "white",
           "landcolor": "#E5ECF6",
           "showlakes": true,
           "showland": true,
           "subunitcolor": "white"
          },
          "hoverlabel": {
           "align": "left"
          },
          "hovermode": "closest",
          "mapbox": {
           "style": "light"
          },
          "paper_bgcolor": "white",
          "plot_bgcolor": "#E5ECF6",
          "polar": {
           "angularaxis": {
            "gridcolor": "white",
            "linecolor": "white",
            "ticks": ""
           },
           "bgcolor": "#E5ECF6",
           "radialaxis": {
            "gridcolor": "white",
            "linecolor": "white",
            "ticks": ""
           }
          },
          "scene": {
           "xaxis": {
            "backgroundcolor": "#E5ECF6",
            "gridcolor": "white",
            "gridwidth": 2,
            "linecolor": "white",
            "showbackground": true,
            "ticks": "",
            "zerolinecolor": "white"
           },
           "yaxis": {
            "backgroundcolor": "#E5ECF6",
            "gridcolor": "white",
            "gridwidth": 2,
            "linecolor": "white",
            "showbackground": true,
            "ticks": "",
            "zerolinecolor": "white"
           },
           "zaxis": {
            "backgroundcolor": "#E5ECF6",
            "gridcolor": "white",
            "gridwidth": 2,
            "linecolor": "white",
            "showbackground": true,
            "ticks": "",
            "zerolinecolor": "white"
           }
          },
          "shapedefaults": {
           "line": {
            "color": "#2a3f5f"
           }
          },
          "ternary": {
           "aaxis": {
            "gridcolor": "white",
            "linecolor": "white",
            "ticks": ""
           },
           "baxis": {
            "gridcolor": "white",
            "linecolor": "white",
            "ticks": ""
           },
           "bgcolor": "#E5ECF6",
           "caxis": {
            "gridcolor": "white",
            "linecolor": "white",
            "ticks": ""
           }
          },
          "title": {
           "x": 0.05
          },
          "xaxis": {
           "automargin": true,
           "gridcolor": "white",
           "linecolor": "white",
           "ticks": "",
           "title": {
            "standoff": 15
           },
           "zerolinecolor": "white",
           "zerolinewidth": 2
          },
          "yaxis": {
           "automargin": true,
           "gridcolor": "white",
           "linecolor": "white",
           "ticks": "",
           "title": {
            "standoff": 15
           },
           "zerolinecolor": "white",
           "zerolinewidth": 2
          }
         }
        },
        "violinmode": "group",
        "xaxis": {
         "anchor": "y",
         "domain": [
          0,
          1
         ]
        },
        "yaxis": {
         "anchor": "x",
         "domain": [
          0,
          1
         ],
         "title": {
          "text": "bayesian_avg"
         }
        }
       }
      },
      "text/html": [
       "<div>                            <div id=\"ece812d8-6f94-425d-9268-d5c38c9f44b9\" class=\"plotly-graph-div\" style=\"height:525px; width:100%;\"></div>            <script type=\"text/javascript\">                require([\"plotly\"], function(Plotly) {                    window.PLOTLYENV=window.PLOTLYENV || {};                                    if (document.getElementById(\"ece812d8-6f94-425d-9268-d5c38c9f44b9\")) {                    Plotly.newPlot(                        \"ece812d8-6f94-425d-9268-d5c38c9f44b9\",                        [{\"alignmentgroup\":\"True\",\"box\":{\"visible\":true},\"customdata\":[[1,452,3.8783185840707963,\"Toy Story (1995)\"],[2,131,3.2061068702290076,\"GoldenEye (1995)\"],[3,90,3.033333333333333,\"Four Rooms (1995)\"],[4,209,3.550239234449761,\"Get Shorty (1995)\"],[5,86,3.302325581395349,\"Copycat (1995)\"],[6,26,3.576923076923077,\"Shanghai Triad (Yao a yao yao dao waipo qiao) (1995)\"],[7,392,3.798469387755102,\"Twelve Monkeys (1995)\"],[8,219,3.9954337899543377,\"Babe (1995)\"],[9,299,3.8963210702341136,\"Dead Man Walking (1995)\"],[10,89,3.831460674157303,\"Richard III (1995)\"],[11,236,3.847457627118644,\"Seven (Se7en) (1995)\"],[12,267,4.385767790262173,\"Usual Suspects, The (1995)\"],[13,184,3.4184782608695654,\"Mighty Aphrodite (1995)\"],[14,183,3.9672131147540983,\"Postino, Il (1994)\"],[15,293,3.7781569965870307,\"Mr. Holland's Opus (1995)\"],[16,39,3.2051282051282053,\"French Twist (Gazon maudit) (1995)\"],[17,92,3.119565217391304,\"From Dusk Till Dawn (1996)\"],[18,10,2.8,\"White Balloon, The (1995)\"],[19,69,3.9565217391304346,\"Antonia's Line (1995)\"],[20,72,3.4166666666666665,\"Angels and Insects (1995)\"],[21,84,2.761904761904762,\"Muppet Treasure Island (1996)\"],[22,297,4.151515151515151,\"Braveheart (1995)\"],[23,182,4.1208791208791204,\"Taxi Driver (1976)\"],[24,174,3.4482758620689653,\"Rumble in the Bronx (1995)\"],[25,293,3.4436860068259385,\"Birdcage, The (1996)\"],[26,73,3.452054794520548,\"Brothers McMullen, The (1995)\"],[27,57,3.1052631578947367,\"Bad Boys (1995)\"],[28,276,3.931159420289855,\"Apollo 13 (1995)\"],[29,114,2.6666666666666665,\"Batman Forever (1995)\"],[30,37,3.945945945945946,\"Belle de jour (1967)\"],[31,154,3.6298701298701297,\"Crimson Tide (1995)\"],[32,81,3.7901234567901234,\"Crumb (1994)\"],[33,97,3.4536082474226806,\"Desperado (1995)\"],[34,7,2.7142857142857144,\"Doom Generation, The (1995)\"],[35,11,2.1818181818181817,\"Free Willy 2: The Adventure Home (1995)\"],[36,13,2.1538461538461537,\"Mad Love (1995)\"],[37,8,2.25,\"Nadja (1994)\"],[38,120,3.0083333333333333,\"Net, The (1995)\"],[39,87,3.264367816091954,\"Strange Days (1995)\"],[40,57,2.8947368421052633,\"To Wong Foo, Thanks for Everything! Julie Newmar (1995)\"],[41,37,3.081081081081081,\"Billy Madison (1995)\"],[42,148,3.804054054054054,\"Clerks (1994)\"],[43,40,3.0,\"Disclosure (1994)\"],[44,79,3.3417721518987342,\"Dolores Claiborne (1994)\"],[45,80,4.05,\"Eat Drink Man Woman (1994)\"],[46,27,3.5555555555555554,\"Exotica (1994)\"],[47,133,3.601503759398496,\"Ed Wood (1994)\"],[48,117,4.094017094017094,\"Hoop Dreams (1994)\"],[49,81,3.3209876543209877,\"I.Q. (1994)\"],[50,583,4.3584905660377355,\"Star Wars (1977)\"],[51,81,3.45679012345679,\"Legends of the Fall (1994)\"],[52,91,3.769230769230769,\"Madness of King George, The (1994)\"],[53,128,2.953125,\"Natural Born Killers (1994)\"],[54,104,3.2403846153846154,\"Outbreak (1995)\"],[55,149,3.704697986577181,\"Professional, The (1994)\"],[56,394,4.060913705583756,\"Pulp Fiction (1994)\"],[57,40,4.0,\"Priest (1994)\"],[58,175,3.645714285714286,\"Quiz Show (1994)\"],[59,83,4.0602409638554215,\"Three Colors: Red (1994)\"],[60,64,4.015625,\"Three Colors: Blue (1993)\"],[61,59,3.864406779661017,\"Three Colors: White (1994)\"],[62,127,3.141732283464567,\"Stargate (1994)\"],[63,82,3.097560975609756,\"Santa Clause, The (1994)\"],[64,283,4.445229681978798,\"Shawshank Redemption, The (1994)\"],[65,115,3.5391304347826087,\"What's Eating Gilbert Grape (1993)\"],[66,162,3.549382716049383,\"While You Were Sleeping (1995)\"],[67,103,3.0485436893203883,\"Ace Ventura: Pet Detective (1994)\"],[68,134,3.417910447761194,\"Crow, The (1994)\"],[69,321,3.853582554517134,\"Forrest Gump (1994)\"],[70,251,3.6613545816733066,\"Four Weddings and a Funeral (1994)\"],[71,220,3.7818181818181817,\"Lion King, The (1994)\"],[72,129,3.193798449612403,\"Mask, The (1994)\"],[73,128,3.46875,\"Maverick (1994)\"],[74,7,3.0,\"Faster Pussycat! Kill! Kill! (1965)\"],[75,5,3.0,\"Brother Minister: The Assassination of Malcolm X (1994)\"],[76,54,3.4074074074074074,\"Carlito's Way (1993)\"],[77,151,3.2781456953642385,\"Firm, The (1993)\"],[78,33,2.4545454545454546,\"Free Willy (1993)\"],[79,336,4.044642857142857,\"Fugitive, The (1993)\"],[80,68,2.764705882352941,\"Hot Shots! Part Deux (1993)\"],[81,110,3.5545454545454547,\"Hudsucker Proxy, The (1994)\"],[82,261,3.7203065134099615,\"Jurassic Park (1993)\"],[83,176,4.0625,\"Much Ado About Nothing (1993)\"],[84,18,3.0,\"Robert A. Heinlein's The Puppet Masters (1994)\"],[85,58,3.0344827586206895,\"Ref, The (1994)\"],[86,150,3.94,\"Remains of the Day, The (1993)\"],[87,138,3.9057971014492754,\"Searching for Bobby Fischer (1993)\"],[88,213,3.539906103286385,\"Sleepless in Seattle (1993)\"],[89,275,4.138181818181818,\"Blade Runner (1982)\"],[90,95,3.0526315789473686,\"So I Married an Axe Murderer (1993)\"],[91,143,3.5874125874125875,\"Nightmare Before Christmas, The (1993)\"],[92,104,3.6153846153846154,\"True Romance (1993)\"],[93,112,3.7232142857142856,\"Welcome to the Dollhouse (1995)\"],[94,137,3.0875912408759123,\"Home Alone (1990)\"],[95,219,3.8127853881278537,\"Aladdin (1992)\"],[96,295,4.0067796610169495,\"Terminator 2: Judgment Day (1991)\"],[97,256,3.79296875,\"Dances with Wolves (1990)\"],[98,390,4.28974358974359,\"Silence of the Lambs, The (1991)\"],[99,172,3.7093023255813953,\"Snow White and the Seven Dwarfs (1937)\"],[100,508,4.155511811023622,\"Fargo (1996)\"],[101,73,3.26027397260274,\"Heavy Metal (1981)\"],[102,54,3.1296296296296298,\"Aristocats, The (1970)\"],[103,15,1.8666666666666667,\"All Dogs Go to Heaven 2 (1996)\"],[104,5,1.4,\"Theodore Rex (1995)\"],[105,74,2.5675675675675675,\"Sgt. Bilko (1996)\"],[106,71,2.887323943661972,\"Diabolique (1996)\"],[107,42,3.5,\"Moll Flanders (1996)\"],[108,65,3.076923076923077,\"Kids in the Hall: Brain Candy (1996)\"],[109,130,3.4307692307692306,\"Mystery Science Theater 3000: The Movie (1996)\"],[110,31,2.5161290322580645,\"Operation Dumbo Drop (1995)\"],[111,272,3.485294117647059,\"Truth About Cats & Dogs, The (1996)\"],[112,20,2.45,\"Flipper (1996)\"],[113,9,4.111111111111111,\"Horseman on the Roof, The (Hussard sur le toit, Le) (1995)\"],[114,67,4.447761194029851,\"Wallace & Gromit: The Best of Aardman Animation (1996)\"],[115,15,3.7333333333333334,\"Haunted World of Edward D. Wood Jr., The (1995)\"],[116,125,3.824,\"Cold Comfort Farm (1995)\"],[117,378,3.693121693121693,\"Rock, The (1996)\"],[118,293,3.2150170648464163,\"Twister (1996)\"],[119,4,4.5,\"Maya Lin: A Strong Clear Vision (1994)\"],[120,67,2.2388059701492535,\"Striptease (1996)\"],[121,429,3.438228438228438,\"Independence Day (ID4) (1996)\"],[122,106,2.339622641509434,\"Cable Guy, The (1996)\"],[123,115,3.234782608695652,\"Frighteners, The (1996)\"],[124,187,4.053475935828877,\"Lone Star (1996)\"],[125,244,3.557377049180328,\"Phenomenon (1996)\"],[126,97,3.804123711340206,\"Spitfire Grill, The (1996)\"],[127,413,4.283292978208232,\"Godfather, The (1972)\"],[128,65,3.5384615384615383,\"Supercop (1992)\"],[129,129,3.8217054263565893,\"Bound (1996)\"],[130,23,2.260869565217391,\"Kansas City (1996)\"],[131,95,3.7263157894736842,\"Breakfast at Tiffany's (1961)\"],[132,246,4.0772357723577235,\"Wizard of Oz, The (1939)\"],[133,171,3.871345029239766,\"Gone with the Wind (1939)\"],[134,198,4.292929292929293,\"Citizen Kane (1941)\"],[135,259,3.969111969111969,\"2001: A Space Odyssey (1968)\"],[136,105,4.123809523809523,\"Mr. Smith Goes to Washington (1939)\"],[137,171,3.9005847953216373,\"Big Night (1996)\"],[138,19,2.5789473684210527,\"D3: The Mighty Ducks (1996)\"],[139,50,2.78,\"Love Bug, The (1969)\"],[140,61,3.2131147540983607,\"Homeward Bound: The Incredible Journey (1993)\"],[141,72,3.5,\"20,000 Leagues Under the Sea (1954)\"],[142,57,3.0701754385964914,\"Bedknobs and Broomsticks (1971)\"],[143,222,3.765765765765766,\"Sound of Music, The (1965)\"],[144,243,3.8724279835390947,\"Die Hard (1988)\"],[145,65,2.4461538461538463,\"Lawnmower Man, The (1992)\"],[146,10,2.5,\"Unhook the Stars (1996)\"],[147,185,3.4702702702702704,\"Long Kiss Goodnight, The (1996)\"],[148,128,3.203125,\"Ghost and the Darkness, The (1996)\"],[149,23,3.0,\"Jude (1996)\"],[150,157,3.828025477707006,\"Swingers (1996)\"],[151,326,3.6319018404907975,\"Willy Wonka and the Chocolate Factory (1971)\"],[152,82,3.6341463414634148,\"Sleeper (1973)\"],[153,247,3.785425101214575,\"Fish Called Wanda, A (1988)\"],[154,174,3.7471264367816093,\"Monty Python's Life of Brian (1979)\"],[155,98,3.1020408163265305,\"Dirty Dancing (1987)\"],[156,148,3.9864864864864864,\"Reservoir Dogs (1992)\"],[157,127,3.6929133858267718,\"Platoon (1986)\"],[158,60,2.6166666666666667,\"Weekend at Bernie's (1989)\"],[159,101,3.227722772277228,\"Basic Instinct (1992)\"],[160,69,3.463768115942029,\"Glengarry Glen Ross (1992)\"],[161,220,3.481818181818182,\"Top Gun (1986)\"],[162,106,3.556603773584906,\"On Golden Pond (1981)\"],[163,92,3.5543478260869565,\"Return of the Pink Panther, The (1974)\"],[164,151,3.589403973509934,\"Abyss, The (1989)\"],[165,64,4.109375,\"Jean de Florette (1986)\"],[166,58,4.120689655172414,\"Manon of the Spring (Manon des sources) (1986)\"],[167,67,2.955223880597015,\"Private Benjamin (1980)\"],[168,316,4.0664556962025316,\"Monty Python and the Holy Grail (1974)\"],[169,118,4.466101694915254,\"Wrong Trousers, The (1993)\"],[170,121,4.1735537190082646,\"Cinema Paradiso (1988)\"],[171,65,3.876923076923077,\"Delicatessen (1991)\"],[172,367,4.204359673024523,\"Empire Strikes Back, The (1980)\"],[173,324,4.172839506172839,\"Princess Bride, The (1987)\"],[174,420,4.252380952380952,\"Raiders of the Lost Ark (1981)\"],[175,208,3.8173076923076925,\"Brazil (1985)\"],[176,284,3.9471830985915495,\"Aliens (1986)\"],[177,137,3.8613138686131387,\"Good, The Bad and The Ugly, The (1966)\"],[178,125,4.344,\"12 Angry Men (1957)\"],[179,221,3.909502262443439,\"Clockwork Orange, A (1971)\"],[180,221,4.04524886877828,\"Apocalypse Now (1979)\"],[181,507,4.007889546351085,\"Return of the Jedi (1983)\"],[182,226,3.9513274336283186,\"GoodFellas (1990)\"],[183,291,4.034364261168385,\"Alien (1979)\"],[184,116,3.4310344827586206,\"Army of Darkness (1993)\"],[185,239,4.100418410041841,\"Psycho (1960)\"],[186,251,3.8366533864541834,\"Blues Brothers, The (1980)\"],[187,209,4.186602870813397,\"Godfather: Part II, The (1974)\"],[188,170,3.6823529411764704,\"Full Metal Jacket (1987)\"],[189,66,4.106060606060606,\"Grand Day Out, A (1992)\"],[190,124,4.137096774193548,\"Henry V (1989)\"],[191,276,4.163043478260869,\"Amadeus (1984)\"],[192,116,4.120689655172414,\"Raging Bull (1980)\"],[193,157,3.917197452229299,\"Right Stuff, The (1983)\"],[194,241,4.058091286307054,\"Sting, The (1973)\"],[195,301,3.9335548172757475,\"Terminator, The (1984)\"],[196,251,3.9163346613545817,\"Dead Poets Society (1989)\"],[197,239,4.104602510460251,\"Graduate, The (1967)\"],[198,127,4.0078740157480315,\"Nikita (La Femme Nikita) (1990)\"],[199,165,4.175757575757576,\"Bridge on the River Kwai, The (1957)\"],[200,206,3.825242718446602,\"Shining, The (1980)\"],[201,89,3.5168539325842696,\"Evil Dead II (1987)\"],[202,280,3.7642857142857142,\"Groundhog Day (1993)\"],[203,182,3.868131868131868,\"Unforgiven (1992)\"],[204,350,3.834285714285714,\"Back to the Future (1985)\"],[205,136,3.9926470588235294,\"Patton (1970)\"],[206,50,3.38,\"Akira (1988)\"],[207,66,3.8181818181818183,\"Cyrano de Bergerac (1990)\"],[208,200,3.945,\"Young Frankenstein (1974)\"],[209,191,3.905759162303665,\"This Is Spinal Tap (1984)\"],[210,331,3.930513595166163,\"Indiana Jones and the Last Crusade (1989)\"],[211,206,3.912621359223301,\"M*A*S*H (1970)\"],[212,92,3.4565217391304346,\"Unbearable Lightness of Being, The (1988)\"],[213,134,3.985074626865672,\"Room with a View, A (1986)\"],[214,114,3.3508771929824563,\"Pink Floyd - The Wall (1982)\"],[215,212,3.69811320754717,\"Field of Dreams (1989)\"],[216,290,3.910344827586207,\"When Harry Met Sally... (1989)\"],[217,120,3.158333333333333,\"Bram Stoker's Dracula (1992)\"],[218,171,3.456140350877193,\"Cape Fear (1991)\"],[219,111,3.171171171171171,\"Nightmare on Elm Street, A (1984)\"],[220,66,3.3636363636363638,\"Mirror Has Two Faces, The (1996)\"],[221,74,3.72972972972973,\"Breaking the Waves (1996)\"],[222,365,3.66027397260274,\"Star Trek: First Contact (1996)\"],[223,136,4.198529411764706,\"Sling Blade (1996)\"],[224,44,3.7045454545454546,\"Ridicule (1996)\"],[225,109,2.908256880733945,\"101 Dalmatians (1996)\"],[226,166,3.355421686746988,\"Die Hard 2 (1990)\"],[227,161,3.279503105590062,\"Star Trek VI: The Undiscovered Country (1991)\"],[228,244,3.8155737704918034,\"Star Trek: The Wrath of Khan (1982)\"],[229,171,3.111111111111111,\"Star Trek III: The Search for Spock (1984)\"],[230,199,3.4472361809045227,\"Star Trek IV: The Voyage Home (1986)\"],[231,142,2.683098591549296,\"Batman Returns (1992)\"],[232,101,3.207920792079208,\"Young Guns (1988)\"],[233,124,3.2903225806451615,\"Under Siege (1992)\"],[234,280,3.775,\"Jaws (1975)\"],[235,217,2.847926267281106,\"Mars Attacks! (1996)\"],[236,45,3.6222222222222222,\"Citizen Ruth (1996)\"],[237,384,3.7109375,\"Jerry Maguire (1996)\"],[238,256,3.875,\"Raising Arizona (1987)\"],[239,150,3.513333333333333,\"Sneakers (1992)\"],[240,156,2.7884615384615383,\"Beavis and Butt-head Do America (1996)\"],[241,128,3.546875,\"Last of the Mohicans, The (1992)\"],[242,117,3.9914529914529915,\"Kolya (1996)\"],[243,132,2.4393939393939394,\"Jungle2Jungle (1997)\"],[244,48,3.1666666666666665,\"Smilla's Sense of Snow (1997)\"],[245,240,3.1083333333333334,\"Devil's Own, The (1997)\"],[246,124,3.935483870967742,\"Chasing Amy (1997)\"],[247,5,1.8,\"Turbo: A Power Rangers Movie (1997)\"],[248,160,3.675,\"Grosse Pointe Blank (1997)\"],[249,130,3.246153846153846,\"Austin Powers: International Man of Mystery (1997)\"],[250,197,3.4771573604060912,\"Fifth Element, The (1997)\"],[251,46,4.260869565217392,\"Shall We Dance? (1996)\"],[252,158,2.9430379746835444,\"Lost World: Jurassic Park, The (1997)\"],[253,26,3.6923076923076925,\"Pillow Book, The (1995)\"],[254,62,2.4516129032258065,\"Batman & Robin (1997)\"],[255,172,3.36046511627907,\"My Best Friend's Wedding (1997)\"],[256,16,3.5625,\"When the Cats Away (Chacun cherche son chat) (1996)\"],[257,303,3.745874587458746,\"Men in Black (1997)\"],[258,509,3.8035363457760316,\"Contact (1997)\"],[259,162,2.685185185185185,\"George of the Jungle (1997)\"],[260,127,2.574803149606299,\"Event Horizon (1997)\"],[261,43,2.558139534883721,\"Air Bud (1997)\"],[262,66,3.712121212121212,\"In the Company of Men (1997)\"],[263,19,2.1578947368421053,\"Steel (1997)\"],[264,101,2.742574257425743,\"Mimic (1997)\"],[265,227,3.8634361233480177,\"Hunt for Red October, The (1990)\"],[266,35,2.7142857142857144,\"Kull the Conqueror (1997)\"],[267,9,3.4444444444444446,\"unknown\"],[268,255,3.792156862745098,\"Chasing Amy (1997)\"],[269,315,3.926984126984127,\"Full Monty, The (1997)\"],[270,136,3.5955882352941178,\"Gattaca (1997)\"],[271,211,3.2322274881516586,\"Starship Troopers (1997)\"],[272,198,4.262626262626263,\"Good Will Hunting (1997)\"],[273,223,3.569506726457399,\"Heat (1995)\"],[274,190,3.5,\"Sabrina (1995)\"],[275,268,4.0111940298507465,\"Sense and Sensibility (1995)\"],[276,298,3.697986577181208,\"Leaving Las Vegas (1995)\"],[277,71,3.464788732394366,\"Restoration (1995)\"],[278,60,3.2333333333333334,\"Bed of Roses (1996)\"],[279,28,3.2857142857142856,\"Once Upon a Time... When We Were Colored (1995)\"],[280,85,3.1882352941176473,\"Up Close and Personal (1996)\"],[281,146,3.143835616438356,\"River Wild, The (1994)\"],[282,232,3.685344827586207,\"Time to Kill, A (1996)\"],[283,177,3.7175141242937855,\"Emma (1996)\"],[284,193,3.160621761658031,\"Tin Cup (1996)\"],[285,162,4.265432098765432,\"Secrets & Lies (1996)\"],[286,481,3.656964656964657,\"English Patient, The (1996)\"],[287,78,3.58974358974359,\"Marvin's Room (1996)\"],[288,478,3.4414225941422596,\"Scream (1996)\"],[289,259,2.9806949806949805,\"Evita (1996)\"],[290,96,3.1145833333333335,\"Fierce Creatures (1997)\"],[291,127,3.37007874015748,\"Absolute Power (1997)\"],[292,114,3.6666666666666665,\"Rosewood (1997)\"],[293,147,3.802721088435374,\"Donnie Brasco (1997)\"],[294,485,3.156701030927835,\"Liar Liar (1997)\"],[295,77,3.4025974025974026,\"Breakdown (1997)\"],[296,6,3.3333333333333335,\"Promesse, La (1996)\"],[297,50,3.96,\"Ulee's Gold (1997)\"],[298,194,3.768041237113402,\"Face\\u002fOff (1997)\"],[299,73,2.9315068493150687,\"Hoodlum (1997)\"],[300,431,3.6310904872389793,\"Air Force One (1997)\"],[301,230,3.3043478260869565,\"In & Out (1997)\"],[302,297,4.161616161616162,\"L.A. Confidential (1997)\"],[303,134,3.6865671641791047,\"Ulee's Gold (1997)\"],[304,149,3.5369127516778525,\"Fly Away Home (1996)\"],[305,87,3.6436781609195403,\"Ice Storm, The (1997)\"],[306,96,3.9479166666666665,\"Mrs. Brown (Her Majesty, Mrs. Brown) (1997)\"],[307,188,3.515957446808511,\"Devil's Advocate, The (1997)\"],[308,30,2.966666666666667,\"FairyTale: A True Story (1997)\"],[309,28,2.857142857142857,\"Deceiver (1997)\"],[310,145,3.6,\"Rainmaker, The (1997)\"],[311,75,3.68,\"Wings of the Dove, The (1997)\"],[312,80,3.1625,\"Midnight in the Garden of Good and Evil (1997)\"],[313,350,4.2457142857142856,\"Titanic (1997)\"],[314,5,1.0,\"3 Ninjas: High Noon At Mega Mountain (1998)\"],[315,160,4.1,\"Apt Pupil (1998)\"],[316,112,4.196428571428571,\"As Good As It Gets (1997)\"],[317,102,3.911764705882353,\"In the Name of the Father (1993)\"],[318,298,4.466442953020135,\"Schindler's List (1993)\"],[319,168,3.2738095238095237,\"Everyone Says I Love You (1996)\"],[320,20,4.05,\"Paradise Lost: The Child Murders at Robin Hood Hills (1996)\"],[321,169,3.1301775147928996,\"Mother (1996)\"],[322,218,3.0871559633027523,\"Murder at 1600 (1997)\"],[323,240,2.933333333333333,\"Dante's Peak (1997)\"],[324,125,3.136,\"Lost Highway (1997)\"],[325,128,2.546875,\"Crash (1996)\"],[326,175,3.36,\"G.I. Jane (1997)\"],[327,175,3.3771428571428572,\"Cop Land (1997)\"],[328,295,3.4237288135593222,\"Conspiracy Theory (1997)\"],[329,45,3.3333333333333335,\"Desperate Measures (1998)\"],[330,41,3.024390243902439,\"187 (1997)\"],[331,113,3.5398230088495577,\"Edge, The (1997)\"],[332,143,3.4615384615384617,\"Kiss the Girls (1997)\"],[333,251,3.593625498007968,\"Game, The (1997)\"],[334,64,3.359375,\"U Turn (1997)\"],[335,21,2.761904761904762,\"How to Be a Player (1997)\"],[336,43,2.627906976744186,\"Playing God (1997)\"],[337,18,3.0,\"House of Yes, The (1997)\"],[338,91,2.659340659340659,\"Bean (1997)\"],[339,47,3.25531914893617,\"Mad City (1997)\"],[340,189,3.5873015873015874,\"Boogie Nights (1997)\"],[341,11,3.090909090909091,\"Critical Care (1997)\"],[342,52,2.923076923076923,\"Man Who Knew Too Little, The (1997)\"],[343,124,3.096774193548387,\"Alien: Resurrection (1997)\"],[344,55,3.6545454545454548,\"Apostle, The (1997)\"],[345,65,3.4,\"Deconstructing Harry (1997)\"],[346,126,3.642857142857143,\"Jackie Brown (1997)\"],[347,137,3.510948905109489,\"Wag the Dog (1997)\"],[348,27,3.2962962962962963,\"Desperate Measures (1998)\"],[349,31,2.903225806451613,\"Hard Rain (1998)\"],[350,41,3.1463414634146343,\"Fallen (1998)\"],[351,20,2.7,\"Prophecy II, The (1998)\"],[352,26,2.1153846153846154,\"Spice World (1997)\"],[353,14,2.4285714285714284,\"Deep Rising (1998)\"],[354,72,3.486111111111111,\"Wedding Singer, The (1998)\"],[355,41,2.926829268292683,\"Sphere (1998)\"],[356,97,3.381443298969072,\"Client, The (1994)\"],[357,264,4.291666666666667,\"One Flew Over the Cuckoo's Nest (1975)\"],[358,143,2.6153846153846154,\"Spawn (1997)\"],[359,18,3.5,\"Assignment, The (1997)\"],[360,10,3.2,\"Wonderland (1997)\"],[361,10,3.5,\"Incognito (1997)\"],[362,28,2.8214285714285716,\"Blues Brothers 2000 (1998)\"],[363,47,2.723404255319149,\"Sudden Death (1995)\"],[364,37,2.675675675675676,\"Ace Ventura: When Nature Calls (1995)\"],[365,48,3.2083333333333335,\"Powder (1995)\"],[366,47,3.3404255319148937,\"Dangerous Minds (1995)\"],[367,170,3.458823529411765,\"Clueless (1995)\"],[368,31,1.903225806451613,\"Bio-Dome (1996)\"],[369,55,2.6363636363636362,\"Black Sheep (1996)\"],[370,39,2.8205128205128207,\"Mary Reilly (1996)\"],[371,67,3.1641791044776117,\"Bridges of Madison County, The (1995)\"],[372,34,3.5294117647058822,\"Jeffrey (1995)\"],[373,39,2.8974358974358974,\"Judge Dredd (1995)\"],[374,11,2.272727272727273,\"Mighty Morphin Power Rangers: The Movie (1995)\"],[375,23,1.9565217391304348,\"Showgirls (1995)\"],[376,24,2.8333333333333335,\"Houseguest (1994)\"],[377,13,2.1538461538461537,\"Heavyweights (1994)\"],[378,101,3.722772277227723,\"Miracle on 34th Street (1994)\"],[379,43,2.9767441860465116,\"Tales From the Crypt Presents: Demon Knight (1995)\"],[380,116,3.336206896551724,\"Star Trek: Generations (1994)\"],[381,100,3.55,\"Muriel's Wedding (1994)\"],[382,111,3.5945945945945947,\"Adventures of Priscilla, Queen of the Desert, The (1994)\"],[383,31,2.064516129032258,\"Flintstones, The (1994)\"],[384,69,2.782608695652174,\"Naked Gun 33 1\\u002f3: The Final Insult (1994)\"],[385,208,3.5625,\"True Lies (1994)\"],[386,87,2.8160919540229883,\"Addams Family Values (1993)\"],[387,65,3.3846153846153846,\"Age of Innocence, The (1993)\"],[388,28,2.392857142857143,\"Beverly Hills Cop III (1994)\"],[389,27,3.4444444444444446,\"Black Beauty (1994)\"],[390,10,3.2,\"Fear of a Black Hat (1993)\"],[391,59,2.7457627118644066,\"Last Action Hero (1993)\"],[392,68,3.5441176470588234,\"Man Without a Face, The (1993)\"],[393,192,3.4114583333333335,\"Mrs. Doubtfire (1993)\"],[394,12,3.3333333333333335,\"Radioland Murders (1994)\"],[395,56,2.5892857142857144,\"Robin Hood: Men in Tights (1993)\"],[396,54,2.814814814814815,\"Serial Mom (1994)\"],[397,12,2.5833333333333335,\"Striking Distance (1993)\"],[398,26,2.076923076923077,\"Super Mario Bros. (1993)\"],[399,89,3.303370786516854,\"Three Musketeers, The (1993)\"],[400,18,2.7222222222222223,\"Little Rascals, The (1994)\"],[401,76,2.8026315789473686,\"Brady Bunch Movie, The (1995)\"],[402,170,3.4647058823529413,\"Ghost (1990)\"],[403,201,3.427860696517413,\"Batman (1989)\"],[404,101,3.6732673267326734,\"Pinocchio (1940)\"],[405,344,3.313953488372093,\"Mission: Impossible (1996)\"],[406,49,2.4489795918367347,\"Thinner (1996)\"],[407,43,2.511627906976744,\"Spy Hard (1996)\"],[408,112,4.491071428571429,\"Close Shave, A (1995)\"],[409,70,3.142857142857143,\"Jack (1996)\"],[410,162,3.1296296296296298,\"Kingpin (1996)\"],[411,163,2.914110429447853,\"Nutty Professor, The (1996)\"],[412,93,2.3978494623655915,\"Very Brady Sequel, A (1996)\"],[413,55,2.6363636363636362,\"Tales from the Crypt Presents: Bordello of Blood (1996)\"],[414,62,3.532258064516129,\"My Favorite Year (1982)\"],[415,25,2.84,\"Apple Dumpling Gang, The (1975)\"],[416,64,3.484375,\"Old Yeller (1957)\"],[417,73,3.095890410958904,\"Parent Trap, The (1961)\"],[418,129,3.5813953488372094,\"Cinderella (1950)\"],[419,178,3.7247191011235956,\"Mary Poppins (1964)\"],[420,81,3.6666666666666665,\"Alice in Wonderland (1951)\"],[421,106,3.5943396226415096,\"William Shakespeare's Romeo and Juliet (1996)\"],[422,26,2.8461538461538463,\"Aladdin and the King of Thieves (1996)\"],[423,300,3.8333333333333335,\"E.T. the Extra-Terrestrial (1982)\"],[424,19,1.3157894736842106,\"Children of the Corn: The Gathering (1996)\"],[425,85,3.7411764705882353,\"Bob Roberts (1992)\"],[426,32,2.84375,\"Transformers: The Movie, The (1986)\"],[427,219,4.292237442922374,\"To Kill a Mockingbird (1962)\"],[428,121,3.8181818181818183,\"Harold and Maude (1971)\"],[429,97,3.9381443298969074,\"Day the Earth Stood Still, The (1951)\"],[430,93,4.0,\"Duck Soup (1933)\"],[431,153,3.5359477124183005,\"Highlander (1986)\"],[432,174,3.7701149425287355,\"Fantasia (1940)\"],[433,171,3.690058479532164,\"Heathers (1989)\"],[434,67,3.8358208955223883,\"Forbidden Planet (1956)\"],[435,216,3.949074074074074,\"Butch Cassidy and the Sundance Kid (1969)\"],[436,99,3.5353535353535355,\"American Werewolf in London, An (1981)\"],[437,5,1.0,\"Amityville 1992: It's About Time (1992)\"],[438,6,1.1666666666666667,\"Amityville 3-D (1983)\"],[439,5,1.0,\"Amityville: A New Generation (1993)\"],[440,14,1.6428571428571428,\"Amityville II: The Possession (1982)\"],[441,53,2.5660377358490565,\"Amityville Horror, The (1979)\"],[442,4,1.25,\"Amityville Curse, The (1990)\"],[443,162,3.808641975308642,\"Birds, The (1963)\"],[444,46,2.717391304347826,\"Blob, The (1958)\"],[445,22,3.5,\"Body Snatcher, The (1945)\"],[446,9,2.4444444444444446,\"Burnt Offerings (1976)\"],[447,121,3.5041322314049586,\"Carrie (1976)\"],[448,85,3.388235294117647,\"Omen, The (1976)\"],[449,117,3.034188034188034,\"Star Trek: The Motion Picture (1979)\"],[450,63,2.3968253968253967,\"Star Trek V: The Final Frontier (1989)\"],[451,170,3.347058823529412,\"Grease (1978)\"],[452,66,2.6666666666666665,\"Jaws 2 (1978)\"],[453,16,1.9375,\"Jaws 3-D (1983)\"],[454,16,2.875,\"Bastard Out of Carolina (1996)\"],[455,145,3.2551724137931033,\"Jackie Chan's First Strike (1996)\"],[456,48,2.3125,\"Beverly Hills Ninja (1997)\"],[457,27,1.7407407407407407,\"Free Willy 3: The Rescue (1997)\"],[458,90,3.1222222222222222,\"Nixon (1995)\"],[459,24,3.75,\"Cry, the Beloved Country (1995)\"],[460,28,3.0,\"Crossing Guard, The (1995)\"],[461,74,3.6216216216216215,\"Smoke (1995)\"],[462,148,3.804054054054054,\"Like Water For Chocolate (Como agua para chocolate) (1992)\"],[463,71,3.859154929577465,\"Secret of Roan Inish, The (1994)\"],[464,27,3.5925925925925926,\"Vanya on 42nd Street (1994)\"],[465,85,3.5647058823529414,\"Jungle Book, The (1994)\"],[466,52,3.5961538461538463,\"Red Rock West (1992)\"],[467,48,3.7916666666666665,\"Bronx Tale, A (1993)\"],[468,64,3.3125,\"Rudy (1993)\"],[469,67,3.7761194029850746,\"Short Cuts (1993)\"],[470,108,3.6666666666666665,\"Tombstone (1993)\"],[471,221,3.6108597285067874,\"Courage Under Fire (1996)\"],[472,158,3.0822784810126582,\"Dragonheart (1996)\"],[473,126,3.126984126984127,\"James and the Giant Peach (1996)\"],[474,194,4.252577319587629,\"Dr. Strangelove or: How I Learned to Stop Worrying and Love the Bomb (1963)\"],[475,250,3.884,\"Trainspotting (1996)\"],[476,160,3.01875,\"First Wives Club, The (1996)\"],[477,95,3.210526315789474,\"Matilda (1996)\"],[478,104,4.115384615384615,\"Philadelphia Story, The (1940)\"],[479,179,4.251396648044692,\"Vertigo (1958)\"],[480,179,4.284916201117318,\"North by Northwest (1959)\"],[481,63,3.9365079365079363,\"Apartment, The (1960)\"],[482,128,3.984375,\"Some Like It Hot (1959)\"],[483,243,4.45679012345679,\"Casablanca (1942)\"],[484,138,4.2101449275362315,\"Maltese Falcon, The (1941)\"],[485,125,3.816,\"My Fair Lady (1964)\"],[486,64,3.796875,\"Sabrina (1954)\"],[487,68,4.102941176470588,\"Roman Holiday (1953)\"],[488,65,4.2,\"Sunset Blvd. (1950)\"],[489,52,4.115384615384615,\"Notorious (1946)\"],[490,50,4.02,\"To Catch a Thief (1955)\"],[491,67,3.791044776119403,\"Adventures of Robin Hood, The (1938)\"],[492,59,3.864406779661017,\"East of Eden (1955)\"],[493,60,4.15,\"Thin Man, The (1934)\"],[494,56,4.0,\"His Girl Friday (1940)\"],[495,59,3.6610169491525424,\"Around the World in 80 Days (1956)\"],[496,231,4.121212121212121,\"It's a Wonderful Life (1946)\"],[497,68,3.838235294117647,\"Bringing Up Baby (1938)\"],[498,152,4.184210526315789,\"African Queen, The (1951)\"],[499,62,3.9516129032258065,\"Cat on a Hot Tin Roof (1958)\"],[500,31,3.903225806451613,\"Fly Away Home (1996)\"],[501,123,3.4959349593495936,\"Dumbo (1941)\"],[502,57,3.7017543859649122,\"Bananas (1971)\"],[503,39,3.641025641025641,\"Candidate, The (1972)\"],[504,122,3.819672131147541,\"Bonnie and Clyde (1967)\"],[505,68,4.0,\"Dial M for Murder (1954)\"],[506,90,3.8555555555555556,\"Rebel Without a Cause (1955)\"],[507,98,3.816326530612245,\"Streetcar Named Desire, A (1951)\"],[508,215,3.5953488372093023,\"People vs. Larry Flynt, The (1996)\"],[509,121,3.8512396694214877,\"My Left Foot (1989)\"],[510,121,3.9421487603305785,\"Magnificent Seven, The (1954)\"],[511,173,4.23121387283237,\"Lawrence of Arabia (1962)\"],[512,57,4.0,\"Wings of Desire (1987)\"],[513,72,4.333333333333333,\"Third Man, The (1949)\"],[514,180,3.911111111111111,\"Annie Hall (1977)\"],[515,201,4.203980099502488,\"Boot, Das (1981)\"],[516,63,3.9682539682539684,\"Local Hero (1983)\"],[517,91,3.769230769230769,\"Manhattan (1979)\"],[518,89,3.651685393258427,\"Miller's Crossing (1990)\"],[519,80,4.1,\"Treasure of the Sierra Madre, The (1948)\"],[520,124,4.104838709677419,\"Great Escape, The (1963)\"],[521,120,3.8333333333333335,\"Deer Hunter, The (1978)\"],[522,35,3.7714285714285714,\"Down by Law (1986)\"],[523,164,3.9939024390243905,\"Cool Hand Luke (1967)\"],[524,46,4.021739130434782,\"Great Dictator, The (1940)\"],[525,73,4.027397260273973,\"Big Sleep, The (1946)\"],[526,124,3.8306451612903225,\"Ben-Hur (1959)\"],[527,195,4.02051282051282,\"Gandhi (1982)\"],[528,121,4.132231404958677,\"Killing Fields, The (1984)\"],[529,93,3.978494623655914,\"My Life as a Dog (Mitt liv som hund) (1985)\"],[530,80,4.025,\"Man Who Would Be King, The (1975)\"],[531,129,3.9224806201550386,\"Shine (1996)\"],[532,22,3.3181818181818183,\"Kama Sutra: A Tale of Love (1996)\"],[533,15,3.6666666666666665,\"Daytrippers, The (1996)\"],[534,13,3.3076923076923075,\"Traveller (1997)\"],[535,54,3.1666666666666665,\"Addicted to Love (1997)\"],[536,10,3.3,\"Ponette (1996)\"],[537,30,3.6333333333333333,\"My Own Private Idaho (1991)\"],[538,66,3.4242424242424243,\"Anastasia (1997)\"],[539,44,2.477272727272727,\"Mouse Hunt (1997)\"],[540,43,2.511627906976744,\"Money Train (1995)\"],[541,49,2.877551020408163,\"Mortal Kombat (1995)\"],[542,51,2.5294117647058822,\"Pocahontas (1995)\"],[543,21,3.619047619047619,\"Mis\\u00e9rables, Les (1995)\"],[544,71,3.1549295774647885,\"Things to Do in Denver when You're Dead (1995)\"],[545,12,1.8333333333333333,\"Vampire in Brooklyn (1995)\"],[546,254,3.031496062992126,\"Broken Arrow (1996)\"],[547,41,3.341463414634146,\"Young Poisoner's Handbook, The (1995)\"],[548,12,2.1666666666666665,\"NeverEnding Story III, The (1994)\"],[549,92,3.5652173913043477,\"Rob Roy (1995)\"],[550,151,3.2847682119205297,\"Die Hard: With a Vengeance (1995)\"],[551,24,2.4166666666666665,\"Lord of Illusions (1995)\"],[552,45,2.8666666666666667,\"Species (1995)\"],[553,63,3.2857142857142856,\"Walk in the Clouds, A (1995)\"],[554,102,2.803921568627451,\"Waterworld (1995)\"],[555,10,2.0,\"White Man's Burden (1995)\"],[556,12,2.5,\"Wild Bill (1995)\"],[557,17,3.1176470588235294,\"Farinelli: il castrato (1994)\"],[558,70,3.6714285714285713,\"Heavenly Creatures (1994)\"],[559,137,3.1824817518248176,\"Interview with the Vampire (1994)\"],[560,22,2.727272727272727,\"Kid in King Arthur's Court, A (1995)\"],[561,59,3.0677966101694913,\"Mary Shelley's Frankenstein (1994)\"],[562,48,3.2083333333333335,\"Quick and the Dead, The (1995)\"],[563,29,2.413793103448276,\"Stephen King's The Langoliers (1995)\"],[564,27,2.037037037037037,\"Tales from the Hood (1995)\"],[565,22,2.6818181818181817,\"Village of the Damned (1995)\"],[566,179,3.569832402234637,\"Clear and Present Danger (1994)\"],[567,35,2.8,\"Wes Craven's New Nightmare (1994)\"],[568,230,3.6478260869565218,\"Speed (1994)\"],[569,67,2.701492537313433,\"Wolf (1994)\"],[570,50,3.1,\"Wyatt Earp (1994)\"],[571,28,2.5,\"Another Stakeout (1993)\"],[572,29,2.7586206896551726,\"Blown Away (1994)\"],[573,33,2.9393939393939394,\"Body Snatchers (1993)\"],[574,15,2.2,\"Boxing Helena (1993)\"],[575,44,2.5454545454545454,\"City Slickers II: The Legend of Curly's Gold (1994)\"],[576,93,3.021505376344086,\"Cliffhanger (1993)\"],[577,41,2.2195121951219514,\"Coneheads (1993)\"],[578,92,3.152173913043478,\"Demolition Man (1993)\"],[579,19,2.6315789473684212,\"Fatal Instinct (1993)\"],[580,32,3.375,\"Englishman Who Went Up a Hill, But Came Down a Mountain, The (1995)\"],[581,59,3.2203389830508473,\"Kalifornia (1993)\"],[582,168,3.6011904761904763,\"Piano, The (1993)\"],[583,37,3.0,\"Romeo Is Bleeding (1993)\"],[584,79,3.5443037974683542,\"Secret Garden, The (1993)\"],[585,39,2.4871794871794872,\"Son in Law (1993)\"],[586,34,2.676470588235294,\"Terminal Velocity (1994)\"],[587,14,3.5714285714285716,\"Hour of the Pig, The (1993)\"],[588,202,3.792079207920792,\"Beauty and the Beast (1991)\"],[589,43,4.023255813953488,\"Wild Bunch, The (1969)\"],[590,18,2.0,\"Hellraiser: Bloodline (1996)\"],[591,178,3.601123595505618,\"Primal Fear (1996)\"],[592,9,3.3333333333333335,\"True Crime (1995)\"],[593,12,3.1666666666666665,\"Stalingrad (1993)\"],[594,5,2.4,\"Heavy (1995)\"],[595,64,3.09375,\"Fan, The (1996)\"],[596,127,3.377952755905512,\"Hunchback of Notre Dame, The (1996)\"],[597,206,3.150485436893204,\"Eraser (1996)\"],[598,4,2.25,\"Big Squeeze, The (1996)\"],[599,1,1.0,\"Police Story 4: Project S (Chao ji ji hua) (1993)\"],[600,2,3.0,\"Daniel Defoe's Robinson Crusoe (1996)\"],[601,20,4.0,\"For Whom the Bell Tolls (1943)\"],[602,50,3.7,\"American in Paris, An (1951)\"],[603,209,4.3875598086124405,\"Rear Window (1954)\"],[604,81,4.012345679012346,\"It Happened One Night (1934)\"],[605,31,3.3548387096774195,\"Meet Me in St. Louis (1944)\"],[606,66,4.045454545454546,\"All About Eve (1950)\"],[607,66,3.9696969696969697,\"Rebecca (1940)\"],[608,30,3.933333333333333,\"Spellbound (1945)\"],[609,60,3.5833333333333335,\"Father of the Bride (1950)\"],[610,41,3.658536585365854,\"Gigi (1958)\"],[611,40,4.1,\"Laura (1944)\"],[612,34,3.9411764705882355,\"Lost Horizon (1937)\"],[613,27,4.037037037037037,\"My Man Godfrey (1936)\"],[614,51,3.7450980392156863,\"Giant (1956)\"],[615,59,4.0508474576271185,\"39 Steps, The (1935)\"],[616,64,3.421875,\"Night of the Living Dead (1968)\"],[617,18,3.7777777777777777,\"Blue Angel, The (Blaue Engel, Der) (1930)\"],[618,18,3.611111111111111,\"Picnic (1955)\"],[619,64,3.171875,\"Extreme Measures (1996)\"],[620,43,3.0930232558139537,\"Chamber, The (1996)\"],[621,11,2.909090909090909,\"Davy Crockett, King of the Wild Frontier (1955)\"],[622,39,3.358974358974359,\"Swiss Family Robinson (1960)\"],[623,39,2.923076923076923,\"Angels in the Outfield (1994)\"],[624,22,3.272727272727273,\"Three Caballeros, The (1945)\"],[625,82,3.3292682926829267,\"Sword in the Stone, The (1963)\"],[626,4,3.25,\"So Dear to My Heart (1949)\"],[627,75,3.2266666666666666,\"Robin Hood: Prince of Thieves (1991)\"],[628,169,3.514792899408284,\"Sleepers (1996)\"],[629,77,3.3376623376623376,\"Victor\\u002fVictoria (1982)\"],[630,31,3.2903225806451615,\"Great Race, The (1965)\"],[631,119,3.6218487394957983,\"Crying Game, The (1992)\"],[632,58,3.896551724137931,\"Sophie's Choice (1982)\"],[633,69,4.057971014492754,\"Christmas Carol, A (1938)\"],[634,24,3.75,\"Microcosmos: Le peuple de l'herbe (1996)\"],[635,23,2.739130434782609,\"Fog, The (1980)\"],[636,91,3.241758241758242,\"Escape from New York (1981)\"],[637,38,3.026315789473684,\"Howling, The (1981)\"],[638,44,3.772727272727273,\"Return of Martin Guerre, The (Retour de Martin Guerre, Le) (1982)\"],[639,40,3.7,\"Tin Drum, The (Blechtrommel, Die) (1979)\"],[640,82,3.024390243902439,\"Cook the Thief His Wife & Her Lover, The (1989)\"],[641,33,4.212121212121212,\"Paths of Glory (1957)\"],[642,89,3.4831460674157304,\"Grifters, The (1990)\"],[643,4,3.0,\"The Innocent (1994)\"],[644,35,3.7714285714285714,\"Thin Blue Line, The (1988)\"],[645,27,3.814814814814815,\"Paris Is Burning (1990)\"],[646,38,3.8684210526315788,\"Once Upon a Time in the West (1969)\"],[647,70,4.1,\"Ran (1985)\"],[648,67,4.029850746268656,\"Quiet Man, The (1952)\"],[649,50,3.4,\"Once Upon a Time in America (1984)\"],[650,72,3.5416666666666665,\"Seventh Seal, The (Sjunde inseglet, Det) (1957)\"],[651,171,4.076023391812866,\"Glory (1989)\"],[652,90,3.888888888888889,\"Rosencrantz and Guildenstern Are Dead (1990)\"],[653,34,3.911764705882353,\"Touch of Evil (1958)\"],[654,147,4.136054421768708,\"Chinatown (1974)\"],[655,227,3.881057268722467,\"Stand by Me (1986)\"],[656,44,4.0,\"M (1931)\"],[657,131,4.259541984732825,\"Manchurian Candidate, The (1962)\"],[658,79,3.4177215189873418,\"Pump Up the Volume (1990)\"],[659,115,4.078260869565217,\"Arsenic and Old Lace (1944)\"],[660,153,3.764705882352941,\"Fried Green Tomatoes (1991)\"],[661,88,4.1022727272727275,\"High Noon (1952)\"],[662,82,3.426829268292683,\"Somewhere in Time (1980)\"],[663,116,3.9051724137931036,\"Being There (1979)\"],[664,46,3.5434782608695654,\"Paris, Texas (1984)\"],[665,100,2.83,\"Alien 3 (1992)\"],[666,5,2.4,\"Blood For Dracula (Andy Warhol's Dracula) (1974)\"],[667,12,2.1666666666666665,\"Audrey Rose (1977)\"],[668,6,2.1666666666666665,\"Blood Beach (1981)\"],[669,13,1.6153846153846154,\"Body Parts (1991)\"],[670,36,3.0,\"Body Snatchers (1993)\"],[671,46,3.608695652173913,\"Bride of Frankenstein (1935)\"],[672,65,2.723076923076923,\"Candyman (1992)\"],[673,86,3.5232558139534884,\"Cape Fear (1962)\"],[674,48,2.8958333333333335,\"Cat People (1982)\"],[675,54,3.5555555555555554,\"Nosferatu (Nosferatu, eine Symphonie des Grauens) (1922)\"],[676,77,3.3376623376623376,\"Crucible, The (1996)\"],[677,1,3.0,\"Fire on the Mountain (1996)\"],[678,219,2.808219178082192,\"Volcano (1997)\"],[679,107,3.046728971962617,\"Conan the Barbarian (1981)\"],[680,34,2.5588235294117645,\"Kull the Conqueror (1997)\"],[681,27,2.4444444444444446,\"Wishmaster (1997)\"],[682,100,3.06,\"I Know What You Did Last Summer (1997)\"],[683,49,2.4081632653061225,\"Rocket Man (1997)\"],[684,169,3.7928994082840237,\"In the Line of Fire (1993)\"],[685,157,3.356687898089172,\"Executive Decision (1996)\"],[686,50,3.68,\"Perfect World, A (1993)\"],[687,69,2.1884057971014492,\"McHale's Navy (1997)\"],[688,44,1.8409090909090908,\"Leave It to Beaver (1997)\"],[689,87,3.1494252873563218,\"Jackal, The (1997)\"],[690,155,3.458064516129032,\"Seven Years in Tibet (1997)\"],[691,16,3.5,\"Dark City (1998)\"],[692,164,3.6280487804878048,\"American President, The (1995)\"],[693,91,3.6483516483516483,\"Casino (1995)\"],[694,44,4.045454545454546,\"Persuasion (1995)\"],[695,13,2.923076923076923,\"Kicking and Screaming (1995)\"],[696,79,3.1392405063291138,\"City Hall (1996)\"],[697,40,3.425,\"Basketball Diaries, The (1995)\"],[698,10,3.0,\"Browning Version, The (1994)\"],[699,102,3.676470588235294,\"Little Women (1994)\"],[700,15,2.6,\"Miami Rhapsody (1995)\"],[701,10,4.0,\"Wonderful, Horrible Life of Leni Riefenstahl, The (1993)\"],[702,53,3.018867924528302,\"Barcelona (1994)\"],[703,19,3.5789473684210527,\"Widows' Peak (1994)\"],[704,24,3.0416666666666665,\"House of the Spirits, The (1993)\"],[705,137,3.9927007299270074,\"Singin' in the Rain (1952)\"],[706,6,2.6666666666666665,\"Bad Moon (1996)\"],[707,70,3.9285714285714284,\"Enchanted April (1991)\"],[708,101,3.4752475247524752,\"Sex, Lies, and Videotape (1989)\"],[709,104,4.028846153846154,\"Strictly Ballroom (1992)\"],[710,79,3.569620253164557,\"Better Off Dead... (1985)\"],[711,1,4.0,\"Substance of Fire, The (1996)\"],[712,51,3.0784313725490198,\"Tin Men (1987)\"],[713,72,3.611111111111111,\"Othello (1995)\"],[714,13,3.230769230769231,\"Carrington (1995)\"],[715,87,3.2758620689655173,\"To Die For (1995)\"],[716,58,3.1551724137931036,\"Home for the Holidays (1995)\"],[717,82,2.817073170731707,\"Juror, The (1996)\"],[718,16,3.6875,\"In the Bleak Midwinter (1995)\"],[719,29,2.413793103448276,\"Canadian Bacon (1994)\"],[720,86,3.0232558139534884,\"First Knight (1995)\"],[721,54,3.4444444444444446,\"Mallrats (1995)\"],[722,58,2.9310344827586206,\"Nine Months (1995)\"],[723,34,3.1470588235294117,\"Boys on the Side (1995)\"],[724,76,3.486842105263158,\"Circle of Friends (1995)\"],[725,16,2.75,\"Exit to Eden (1994)\"],[726,14,2.4285714285714284,\"Fluke (1995)\"],[727,63,3.4603174603174605,\"Immortal Beloved (1994)\"],[728,45,3.022222222222222,\"Junior (1994)\"],[729,81,3.4814814814814814,\"Nell (1994)\"],[730,24,3.5,\"Queen Margot (Reine Margot, La) (1994)\"],[731,39,3.1538461538461537,\"Corrina, Corrina (1994)\"],[732,180,3.65,\"Dave (1993)\"],[733,15,3.2,\"Go Fish (1994)\"],[734,27,2.5185185185185186,\"Made in America (1993)\"],[735,137,3.854014598540146,\"Philadelphia (1993)\"],[736,78,3.9358974358974357,\"Shadowlands (1993)\"],[737,59,2.983050847457627,\"Sirens (1994)\"],[738,31,2.838709677419355,\"Threesome (1994)\"],[739,164,3.323170731707317,\"Pretty Woman (1990)\"],[740,63,3.4761904761904763,\"Jane Eyre (1996)\"],[741,58,3.4482758620689653,\"Last Supper, The (1995)\"],[742,267,3.644194756554307,\"Ransom (1996)\"],[743,39,1.9487179487179487,\"Crow: City of Angels, The (1996)\"],[744,92,3.4565217391304346,\"Michael Collins (1996)\"],[745,16,3.875,\"Ruling Class, The (1972)\"],[746,119,3.6638655462184873,\"Real Genius (1985)\"],[747,102,3.4607843137254903,\"Benny & Joon (1993)\"],[748,316,3.1234177215189876,\"Saint, The (1997)\"],[749,51,3.176470588235294,\"MatchMaker, The (1997)\"],[750,124,3.8548387096774195,\"Amistad (1997)\"],[751,180,3.4277777777777776,\"Tomorrow Never Dies (1997)\"],[752,39,3.3076923076923075,\"Replacement Killers, The (1998)\"],[753,24,3.7083333333333335,\"Burnt By the Sun (1994)\"],[754,57,3.3859649122807016,\"Red Corner (1997)\"],[755,96,3.3125,\"Jumanji (1995)\"],[756,128,2.8984375,\"Father of the Bride Part II (1995)\"],[757,4,2.75,\"Across the Sea of Time (1995)\"],[758,21,1.7142857142857142,\"Lawnmower Man 2: Beyond Cyberspace (1996)\"],[759,11,2.1818181818181817,\"Fair Game (1995)\"],[760,46,2.652173913043478,\"Screamers (1995)\"],[761,44,3.0454545454545454,\"Nick of Time (1995)\"],[762,115,3.391304347826087,\"Beautiful Girls (1996)\"],[763,149,3.389261744966443,\"Happy Gilmore (1996)\"],[764,29,2.7586206896551726,\"If Lucy Fell (1996)\"],[765,32,2.8125,\"Boomerang (1992)\"],[766,9,3.111111111111111,\"Man of the Year (1995)\"],[767,11,2.1818181818181817,\"Addiction, The (1995)\"],[768,52,3.076923076923077,\"Casper (1995)\"],[769,42,2.4523809523809526,\"Congo (1995)\"],[770,57,3.3859649122807016,\"Devil in a Blue Dress (1995)\"],[771,41,2.6341463414634148,\"Johnny Mnemonic (1995)\"],[772,49,3.061224489795918,\"Kids (1995)\"],[773,17,2.9411764705882355,\"Mute Witness (1994)\"],[774,32,2.9375,\"Prophecy, The (1995)\"],[775,26,2.769230769230769,\"Something to Talk About (1995)\"],[776,9,3.2222222222222223,\"Three Wishes (1995)\"],[777,4,1.25,\"Castle Freak (1995)\"],[778,76,3.5526315789473686,\"Don Juan DeMarco (1995)\"],[779,31,2.5483870967741935,\"Drop Zone (1994)\"],[780,69,3.0,\"Dumb & Dumber (1994)\"],[781,84,3.3333333333333335,\"French Kiss (1995)\"],[782,10,2.6,\"Little Odessa (1994)\"],[783,37,2.72972972972973,\"Milk Money (1994)\"],[784,2,1.0,\"Beyond Bedlam (1993)\"],[785,39,3.1538461538461537,\"Only You (1994)\"],[786,14,2.642857142857143,\"Perez Family, The (1995)\"],[787,13,3.230769230769231,\"Roommates (1995)\"],[788,3,1.6666666666666667,\"Relative Fear (1994)\"],[789,47,3.574468085106383,\"Swimming with Sharks (1995)\"],[790,66,2.909090909090909,\"Tommy Boy (1995)\"],[791,10,2.5,\"Baby-Sitters Club, The (1995)\"],[792,86,3.7209302325581395,\"Bullets Over Broadway (1994)\"],[793,10,3.5,\"Crooklyn (1994)\"],[794,46,3.652173913043478,\"It Could Happen to You (1994)\"],[795,21,2.4285714285714284,\"Richie Rich (1994)\"],[796,36,3.0833333333333335,\"Speechless (1994)\"],[797,31,3.096774193548387,\"Timecop (1994)\"],[798,9,2.2222222222222223,\"Bad Company (1995)\"],[799,5,3.2,\"Boys Life (1995)\"],[800,26,2.8846153846153846,\"In the Mouth of Madness (1995)\"],[801,16,2.8125,\"Air Up There, The (1994)\"],[802,40,2.7,\"Hard Target (1993)\"],[803,9,2.5555555555555554,\"Heaven & Earth (1993)\"],[804,8,2.875,\"Jimmy Hollywood (1994)\"],[805,27,3.6296296296296298,\"Manhattan Murder Mystery (1993)\"],[806,50,3.46,\"Menace II Society (1993)\"],[807,9,2.7777777777777777,\"Poetic Justice (1993)\"],[808,31,2.838709677419355,\"Program, The (1993)\"],[809,43,2.9069767441860463,\"Rising Sun (1993)\"],[810,45,2.888888888888889,\"Shadow, The (1994)\"],[811,18,3.9444444444444446,\"Thirty-Two Short Films About Glenn Gould (1993)\"],[812,18,3.111111111111111,\"Andre (1994)\"],[813,56,3.892857142857143,\"Celluloid Closet, The (1995)\"],[814,1,5.0,\"Great Day in Harlem, A (1994)\"],[815,112,3.232142857142857,\"One Fine Day (1996)\"],[816,21,2.4285714285714284,\"Candyman: Farewell to the Flesh (1995)\"],[817,3,2.6666666666666665,\"Frisk (1995)\"],[818,25,2.76,\"Girl 6 (1996)\"],[819,40,2.7,\"Eddie (1996)\"],[820,93,2.774193548387097,\"Space Jam (1996)\"],[821,22,3.0454545454545454,\"Mrs. Winterbourne (1996)\"],[822,4,3.0,\"Faces (1968)\"],[823,82,2.8780487804878048,\"Mulholland Falls (1996)\"],[824,49,2.7551020408163267,\"Great White Hype, The (1996)\"],[825,83,3.036144578313253,\"Arrival, The (1996)\"],[826,80,2.575,\"Phantom, The (1996)\"],[827,57,2.7719298245614037,\"Daylight (1996)\"],[828,13,2.6923076923076925,\"Alaska (1996)\"],[829,34,2.6470588235294117,\"Fled (1996)\"],[830,1,1.0,\"Power 98 (1995)\"],[831,91,2.4615384615384617,\"Escape from L.A. (1996)\"],[832,22,2.5454545454545454,\"Bogus (1996)\"],[833,49,3.204081632653061,\"Bulletproof (1996)\"],[834,25,2.2,\"Halloween: The Curse of Michael Myers (1995)\"],[835,15,3.8666666666666667,\"Gay Divorcee, The (1934)\"],[836,26,3.769230769230769,\"Ninotchka (1939)\"],[837,25,3.92,\"Meet John Doe (1941)\"],[838,4,2.75,\"In the Line of Duty 2 (1987)\"],[839,4,2.5,\"Loch Ness (1995)\"],[840,53,2.660377358490566,\"Last Man Standing (1996)\"],[841,48,2.75,\"Glimmer Man, The (1996)\"],[842,27,3.1481481481481484,\"Pollyanna (1960)\"],[843,30,3.0,\"Shaggy Dog, The (1959)\"],[844,42,3.357142857142857,\"Freeway (1996)\"],[845,176,3.465909090909091,\"That Thing You Do! (1996)\"],[846,44,3.0681818181818183,\"To Gillian on Her 37th Birthday (1996)\"],[847,55,3.727272727272727,\"Looking for Richard (1996)\"],[848,9,3.5555555555555554,\"Murder, My Sweet (1944)\"],[849,53,2.7169811320754715,\"Days of Thunder (1990)\"],[850,4,4.0,\"Perfect Candidate, A (1996)\"],[851,4,3.75,\"Two or Three Things I Know About Her (1966)\"],[852,1,1.0,\"Bloody Child, The (1996)\"],[853,14,3.857142857142857,\"Braindead (1992)\"],[854,16,3.375,\"Bad Taste (1987)\"],[855,66,3.727272727272727,\"Diva (1981)\"],[856,36,3.8333333333333335,\"Night on Earth (1991)\"],[857,1,3.0,\"Paris Was a Woman (1995)\"],[858,3,1.0,\"Amityville: Dollhouse (1996)\"],[859,15,2.6666666666666665,\"April Fool's Day (1986)\"],[860,16,2.25,\"Believers, The (1987)\"],[861,3,2.3333333333333335,\"Nosferatu a Venezia (1986)\"],[862,18,2.111111111111111,\"Jingle All the Way (1996)\"],[863,24,3.9166666666666665,\"Garden of Finzi-Contini, The (Giardino dei Finzi-Contini, Il) (1970)\"],[864,86,3.1627906976744184,\"My Fellow Americans (1996)\"],[865,21,3.4761904761904763,\"Ice Storm, The (1997)\"],[866,119,3.319327731092437,\"Michael (1996)\"],[867,6,4.0,\"Whole Wide World, The (1996)\"],[868,5,3.8,\"Hearts and Minds (1996)\"],[869,24,3.0,\"Fools Rush In (1997)\"],[870,9,2.7777777777777777,\"Touch (1997)\"],[871,75,2.4,\"Vegas Vacation (1997)\"],[872,42,3.0952380952380953,\"Love Jones (1997)\"],[873,81,2.962962962962963,\"Picture Perfect (1997)\"],[874,39,3.2564102564102564,\"Career Girls (1997)\"],[875,53,2.7358490566037736,\"She's So Lovely (1997)\"],[876,47,2.702127659574468,\"Money Talks (1997)\"],[877,52,2.5384615384615383,\"Excess Baggage (1997)\"],[878,33,2.515151515151515,\"That Darn Cat! (1997)\"],[879,136,3.2720588235294117,\"Peacemaker, The (1997)\"],[880,59,3.169491525423729,\"Soul Food (1997)\"],[881,45,2.933333333333333,\"Money Talks (1997)\"],[882,34,3.2941176470588234,\"Washington Square (1997)\"],[883,13,3.230769230769231,\"Telling Lies in America (1997)\"],[884,7,3.2857142857142856,\"Year of the Horse (1997)\"],[885,13,2.230769230769231,\"Phantoms (1998)\"],[886,53,3.0754716981132075,\"Life Less Ordinary, A (1997)\"],[887,64,3.609375,\"Eve's Bayou (1997)\"],[888,15,3.466666666666667,\"One Night Stand (1997)\"],[889,13,3.3846153846153846,\"Tango Lesson, The (1997)\"],[890,43,1.9534883720930232,\"Mortal Kombat: Annihilation (1997)\"],[891,6,2.6666666666666665,\"Bent (1997)\"],[892,53,2.7547169811320753,\"Flubber (1997)\"],[893,14,2.4285714285714284,\"For Richer or Poorer (1997)\"],[894,19,1.894736842105263,\"Home Alone 3 (1997)\"],[895,106,3.2169811320754715,\"Scream 2 (1997)\"],[896,44,3.772727272727273,\"Sweet Hereafter, The (1997)\"],[897,2,1.5,\"Time Tracers (1995)\"],[898,58,3.2241379310344827,\"Postman, The (1997)\"],[899,9,3.4444444444444446,\"Winter Guest, The (1997)\"],[900,42,3.6904761904761907,\"Kundun (1997)\"],[901,12,1.9166666666666667,\"Mr. Magoo (1997)\"],[902,42,3.8333333333333335,\"Big Lebowski, The (1998)\"],[903,18,3.111111111111111,\"Afterglow (1997)\"],[904,20,3.45,\"Ma vie en rose (My Life in Pink) (1997)\"],[905,27,3.2222222222222223,\"Great Expectations (1998)\"],[906,21,3.1904761904761907,\"Oscar & Lucinda (1997)\"],[907,2,2.0,\"Vermin (1998)\"],[908,20,2.5,\"Half Baked (1998)\"],[909,13,3.769230769230769,\"Dangerous Beauty (1998)\"],[910,4,2.0,\"Nil By Mouth (1997)\"],[911,4,2.5,\"Twilight (1998)\"],[912,9,3.0,\"U.S. Marshalls (1998)\"],[913,2,2.5,\"Love and Death on Long Island (1997)\"],[914,11,2.727272727272727,\"Wild Things (1998)\"],[915,13,3.923076923076923,\"Primary Colors (1998)\"],[916,18,3.1666666666666665,\"Lost in Space (1998)\"],[917,7,3.4285714285714284,\"Mercury Rising (1998)\"],[918,8,3.0,\"City of Angels (1998)\"],[919,96,3.7916666666666665,\"City of Lost Children, The (1995)\"],[920,5,2.2,\"Two Bits (1995)\"],[921,46,3.9782608695652173,\"Farewell My Concubine (1993)\"],[922,34,3.823529411764706,\"Dead Man (1995)\"],[923,58,4.155172413793103,\"Raise the Red Lantern (1991)\"],[924,85,3.4,\"White Squall (1996)\"],[925,34,3.323529411764706,\"Unforgettable (1996)\"],[926,101,2.702970297029703,\"Down Periscope (1996)\"],[927,6,3.1666666666666665,\"Flower of My Secret, The (Flor de mi secreto, La) (1995)\"],[928,104,3.1153846153846154,\"Craft, The (1996)\"],[929,40,2.7,\"Harriet the Spy (1996)\"],[930,80,2.7,\"Chain Reaction (1996)\"],[931,57,2.1578947368421053,\"Island of Dr. Moreau, The (1996)\"],[932,40,2.925,\"First Kid (1996)\"],[933,21,2.4285714285714284,\"Funeral, The (1996)\"],[934,68,2.926470588235294,\"Preacher's Wife, The (1996)\"],[935,7,3.2857142857142856,\"Paradise Road (1997)\"],[936,32,3.9375,\"Brassed Off (1996)\"],[937,37,3.4054054054054053,\"Thousand Acres, A (1997)\"],[938,25,2.88,\"Smile Like Yours, A (1997)\"],[939,60,3.6,\"Murder in the First (1995)\"],[940,32,2.34375,\"Airheads (1994)\"],[941,46,3.0652173913043477,\"With Honors (1994)\"],[942,45,3.488888888888889,\"What's Love Got to Do with It (1993)\"],[943,40,3.475,\"Killing Zoe (1994)\"],[944,43,3.0,\"Renaissance Man (1994)\"],[945,40,3.925,\"Charade (1963)\"],[946,61,3.1475409836065573,\"Fox and the Hound, The (1981)\"],[947,17,3.235294117647059,\"Big Blue, The (Grand bleu, Le) (1988)\"],[948,48,2.1666666666666665,\"Booty Call (1997)\"],[949,71,3.3380281690140845,\"How to Make an American Quilt (1995)\"],[950,30,2.9,\"Georgia (1995)\"],[951,39,2.8205128205128207,\"Indian in the Cupboard, The (1995)\"],[952,45,3.1777777777777776,\"Blue in the Face (1995)\"],[953,22,3.3181818181818183,\"Unstrung Heroes (1995)\"],[954,11,3.5454545454545454,\"Unzipped (1995)\"],[955,49,3.4081632653061225,\"Before Sunrise (1995)\"],[956,46,3.608695652173913,\"Nobody's Fool (1994)\"],[957,2,2.0,\"Pushing Hands (1992)\"],[958,14,3.7857142857142856,\"To Live (Huozhe) (1994)\"],[959,64,3.46875,\"Dazed and Confused (1993)\"],[960,25,3.24,\"Naked (1993)\"],[961,34,3.6176470588235294,\"Orlando (1993)\"],[962,23,3.130434782608696,\"Ruby in Paradise (1993)\"],[963,41,4.2926829268292686,\"Some Folks Call It a Sling Blade (1993)\"],[964,9,3.3333333333333335,\"Month by the Lake, A (1995)\"],[965,21,3.6666666666666665,\"Funny Face (1957)\"],[966,26,4.1923076923076925,\"Affair to Remember, An (1957)\"],[967,12,3.1666666666666665,\"Little Lord Fauntleroy (1936)\"],[968,18,3.7222222222222223,\"Inspector General, The (1949)\"],[969,75,3.8,\"Winnie the Pooh and the Blustery Day (1968)\"],[970,8,3.25,\"Hear My Song (1991)\"],[971,34,3.676470588235294,\"Mediterraneo (1991)\"],[972,28,3.1785714285714284,\"Passion Fish (1992)\"],[973,4,3.5,\"Grateful Dead (1995)\"],[974,32,3.03125,\"Eye for an Eye (1996)\"],[975,44,3.159090909090909,\"Fear (1996)\"],[976,12,1.8333333333333333,\"Solo (1996)\"],[977,49,2.693877551020408,\"Substitute, The (1996)\"],[978,27,2.5185185185185186,\"Heaven's Prisoners (1996)\"],[979,35,3.2,\"Trigger Effect, The (1996)\"],[980,22,3.1818181818181817,\"Mother Night (1996)\"],[981,8,1.75,\"Dangerous Ground (1997)\"],[982,20,2.8,\"Maximum Risk (1996)\"],[983,15,2.4,\"Rich Man's Wife, The (1996)\"],[984,44,2.8636363636363638,\"Shadow Conspiracy (1997)\"],[985,22,2.8636363636363638,\"Blood & Wine (1997)\"],[986,23,2.5652173913043477,\"Turbulence (1997)\"],[987,4,2.5,\"Underworld (1997)\"],[988,86,2.313953488372093,\"Beautician and the Beast, The (1997)\"],[989,32,2.84375,\"Cats Don't Dance (1997)\"],[990,33,3.090909090909091,\"Anna Karenina (1997)\"],[991,25,2.24,\"Keys to Tulsa (1997)\"],[992,4,3.0,\"Head Above Water (1996)\"],[993,66,3.515151515151515,\"Hercules (1997)\"],[994,7,2.2857142857142856,\"Last Time I Committed Suicide, The (1997)\"],[995,31,3.161290322580645,\"Kiss Me, Guido (1997)\"],[996,14,2.5,\"Big Green, The (1995)\"],[997,16,2.125,\"Stuart Saves His Family (1995)\"],[998,16,2.5625,\"Cabin Boy (1994)\"],[999,10,2.8,\"Clean Slate (1994)\"],[1000,10,3.0,\"Lightning Jack (1994)\"],[1001,17,2.0,\"Stupids, The (1996)\"],[1002,8,1.875,\"Pest, The (1997)\"],[1003,8,2.25,\"That Darn Cat! (1997)\"],[1004,9,3.111111111111111,\"Geronimo: An American Legend (1993)\"],[1005,22,3.6818181818181817,\"Double vie de V\\u00e9ronique, La (Double Life of Veronique, The) (1991)\"],[1006,23,2.8260869565217392,\"Until the End of the World (Bis ans Ende der Welt) (1991)\"],[1007,47,4.127659574468085,\"Waiting for Guffman (1996)\"],[1008,37,3.3783783783783785,\"I Shot Andy Warhol (1996)\"],[1009,64,3.375,\"Stealing Beauty (1996)\"],[1010,44,3.25,\"Basquiat (1996)\"],[1011,93,3.225806451612903,\"2 Days in the Valley (1996)\"],[1012,100,3.53,\"Private Parts (1997)\"],[1013,38,2.289473684210526,\"Anaconda (1997)\"],[1014,98,3.061224489795918,\"Romy and Michele's High School Reunion (1997)\"],[1015,12,2.8333333333333335,\"Shiloh (1997)\"],[1016,137,3.45985401459854,\"Con Air (1997)\"],[1017,50,3.24,\"Trees Lounge (1996)\"],[1018,32,3.1875,\"Tie Me Up! Tie Me Down! (1990)\"],[1019,31,3.967741935483871,\"Die xue shuang xiong (Killer, The) (1989)\"],[1020,35,3.8857142857142857,\"Gaslight (1944)\"],[1021,38,3.8157894736842106,\"8 1\\u002f2 (1963)\"],[1022,32,3.4375,\"Fast, Cheap & Out of Control (1997)\"],[1023,31,2.5806451612903225,\"Fathers' Day (1997)\"],[1024,15,3.6,\"Mrs. Dalloway (1997)\"],[1025,44,2.9318181818181817,\"Fire Down Below (1997)\"],[1026,4,2.5,\"Lay of the Land, The (1997)\"],[1027,3,2.6666666666666665,\"Shooter, The (1995)\"],[1028,148,3.0405405405405403,\"Grumpier Old Men (1995)\"],[1029,14,2.0,\"Jury Duty (1995)\"],[1030,20,2.25,\"Beverly Hillbillies, The (1993)\"],[1031,7,2.2857142857142856,\"Lassie (1994)\"],[1032,16,2.875,\"Little Big League (1994)\"],[1033,32,2.78125,\"Homeward Bound II: Lost in San Francisco (1996)\"],[1034,27,2.5185185185185186,\"Quest, The (1996)\"],[1035,68,3.161764705882353,\"Cool Runnings (1993)\"],[1036,24,2.75,\"Drop Dead Fred (1991)\"],[1037,24,2.0,\"Grease 2 (1982)\"],[1038,17,2.823529411764706,\"Switchback (1997)\"],[1039,90,4.011111111111111,\"Hamlet (1996)\"],[1040,25,2.6,\"Two if by Sea (1996)\"],[1041,62,3.193548387096774,\"Forget Paris (1995)\"],[1042,28,3.142857142857143,\"Just Cause (1995)\"],[1043,8,3.0,\"Rent-a-Kid (1995)\"],[1044,40,3.225,\"Paper, The (1994)\"],[1045,25,3.24,\"Fearless (1993)\"],[1046,46,3.1739130434782608,\"Malice (1993)\"],[1047,134,2.8358208955223883,\"Multiplicity (1996)\"],[1048,73,3.0136986301369864,\"She's the One (1996)\"],[1049,25,2.52,\"House Arrest (1996)\"],[1050,43,3.6511627906976742,\"Ghost and Mrs. Muir, The (1947)\"],[1051,41,3.2439024390243905,\"Associate, The (1996)\"],[1052,25,2.28,\"Dracula: Dead and Loving It (1995)\"],[1053,24,3.4583333333333335,\"Now and Then (1995)\"],[1054,23,2.3043478260869565,\"Mr. Wrong (1996)\"],[1055,10,3.2,\"Simple Twist of Fate, A (1994)\"],[1056,10,3.2,\"Cronos (1992)\"],[1057,22,2.3181818181818183,\"Pallbearer, The (1996)\"],[1058,15,3.2666666666666666,\"War, The (1994)\"],[1059,35,2.7714285714285714,\"Don't Be a Menace to South Central While Drinking Your Juice in the Hood (1996)\"],[1060,39,3.051282051282051,\"Adventures of Pinocchio, The (1996)\"],[1061,29,2.9310344827586206,\"Evening Star, The (1996)\"],[1062,12,3.75,\"Four Days in September (1997)\"],[1063,41,3.658536585365854,\"Little Princess, A (1995)\"],[1064,4,4.25,\"Crossfire (1947)\"],[1065,53,3.490566037735849,\"Koyaanisqatsi (1983)\"],[1066,16,3.0,\"Balto (1995)\"],[1067,44,3.4545454545454546,\"Bottle Rocket (1996)\"],[1068,12,3.1666666666666665,\"Star Maker, The (Uomo delle stelle, L') (1995)\"],[1069,18,3.1666666666666665,\"Amateur (1994)\"],[1070,27,3.740740740740741,\"Living in Oblivion (1995)\"],[1071,16,2.875,\"Party Girl (1995)\"],[1072,7,2.4285714285714284,\"Pyromaniac's Love Story, A (1995)\"],[1073,66,3.8181818181818183,\"Shallow Grave (1994)\"],[1074,77,2.961038961038961,\"Reality Bites (1994)\"],[1075,7,3.4285714285714284,\"Man of No Importance, A (1994)\"],[1076,12,2.25,\"Pagemaster, The (1994)\"],[1077,8,3.125,\"Love and a .45 (1994)\"],[1078,22,2.772727272727273,\"Oliver & Company (1988)\"],[1079,45,2.2444444444444445,\"Joe's Apartment (1996)\"],[1080,2,4.0,\"Celestial Clockwork (1994)\"],[1081,8,2.75,\"Curdled (1996)\"],[1082,8,2.625,\"Female Perversions (1996)\"],[1083,6,2.5,\"Albino Alligator (1996)\"],[1084,21,3.857142857142857,\"Anne Frank Remembered (1995)\"],[1085,11,3.0,\"Carried Away (1996)\"],[1086,21,3.2857142857142856,\"It's My Party (1995)\"],[1087,10,1.7,\"Bloodsport 2 (1995)\"],[1088,13,2.230769230769231,\"Double Team (1997)\"],[1089,38,2.1315789473684212,\"Speed 2: Cruise Control (1997)\"],[1090,37,2.4054054054054053,\"Sliver (1993)\"],[1091,43,2.7209302325581395,\"Pete's Dragon (1977)\"],[1092,12,2.5,\"Dear God (1996)\"],[1093,23,3.0869565217391304,\"Live Nude Girls (1995)\"],[1094,12,2.4166666666666665,\"Thin Line Between Love and Hate, A (1996)\"],[1095,29,2.6206896551724137,\"High School High (1996)\"],[1096,3,2.6666666666666665,\"Commandments (1997)\"],[1097,18,3.5,\"Hate (Haine, La) (1995)\"],[1098,42,3.6904761904761907,\"Flirting With Disaster (1996)\"],[1099,13,3.4615384615384617,\"Red Firecracker, Green Firecracker (1994)\"],[1100,8,2.625,\"What Happened Was... (1994)\"],[1101,74,3.77027027027027,\"Six Degrees of Separation (1993)\"],[1102,7,2.4285714285714284,\"Two Much (1996)\"],[1103,19,3.789473684210526,\"Trust (1990)\"],[1104,4,3.0,\"C'est arriv\\u00e9 pr\\u00e8s de chez vous (1992)\"],[1105,18,2.8333333333333335,\"Firestorm (1998)\"],[1106,4,3.0,\"Newton Boys, The (1998)\"],[1107,18,3.0555555555555554,\"Beyond Rangoon (1995)\"],[1108,5,2.4,\"Feast of July (1995)\"],[1109,28,3.4285714285714284,\"Death and the Maiden (1994)\"],[1110,41,2.8536585365853657,\"Tank Girl (1995)\"],[1111,7,3.4285714285714284,\"Double Happiness (1994)\"],[1112,15,2.8,\"Cobb (1994)\"],[1113,22,3.272727272727273,\"Mrs. Parker and the Vicious Circle (1994)\"],[1114,10,3.3,\"Faithful (1996)\"],[1115,29,3.413793103448276,\"Twelfth Night (1996)\"],[1116,13,3.6153846153846154,\"Mark of Zorro, The (1940)\"],[1117,19,3.1052631578947367,\"Surviving Picasso (1996)\"],[1118,47,3.25531914893617,\"Up in Smoke (1978)\"],[1119,59,3.6610169491525424,\"Some Kind of Wonderful (1987)\"],[1120,17,3.0,\"I'm Not Rappaport (1996)\"],[1121,21,3.761904761904762,\"Umbrellas of Cherbourg, The (Parapluies de Cherbourg, Les) (1964)\"],[1122,1,5.0,\"They Made Me a Criminal (1939)\"],[1123,3,3.6666666666666665,\"Last Time I Saw Paris, The (1954)\"],[1124,12,3.8333333333333335,\"Farewell to Arms, A (1932)\"],[1125,4,4.25,\"Innocents, The (1961)\"],[1126,32,3.34375,\"Old Man and the Sea, The (1958)\"],[1127,11,2.909090909090909,\"Truman Show, The (1998)\"],[1128,13,2.6923076923076925,\"Heidi Fleiss: Hollywood Madam (1995) \"],[1129,28,3.5714285714285716,\"Chungking Express (1994)\"],[1130,1,4.0,\"Jupiter's Wife (1994)\"],[1131,13,4.0,\"Safe (1995)\"],[1132,32,2.625,\"Feeling Minnesota (1996)\"],[1133,30,2.966666666666667,\"Escape to Witch Mountain (1975)\"],[1134,38,3.3157894736842106,\"Get on the Bus (1996)\"],[1135,46,2.9782608695652173,\"Doors, The (1991)\"],[1136,29,3.4827586206896552,\"Ghosts of Mississippi (1996)\"],[1137,29,3.9655172413793105,\"Beautiful Thing (1996)\"],[1138,5,3.4,\"Best Men (1997)\"],[1139,33,2.606060606060606,\"Hackers (1995)\"],[1140,17,2.2941176470588234,\"Road to Wellville, The (1994)\"],[1141,9,3.3333333333333335,\"War Room, The (1993)\"],[1142,44,4.045454545454546,\"When We Were Kings (1996)\"],[1143,15,4.0,\"Hard Eight (1996)\"],[1144,3,3.6666666666666665,\"Quiet Room, The (1996)\"],[1145,9,2.6666666666666665,\"Blue Chips (1994)\"],[1146,3,2.0,\"Calendar Girl (1993)\"],[1147,21,3.6666666666666665,\"My Family (1995)\"],[1148,9,3.3333333333333335,\"Tom & Viv (1994)\"],[1149,26,3.8461538461538463,\"Walkabout (1971)\"],[1150,9,3.111111111111111,\"Last Dance (1996)\"],[1151,7,2.142857142857143,\"Original Gangstas (1996)\"],[1152,28,3.4285714285714284,\"In Love and War (1996)\"],[1153,19,3.473684210526316,\"Backbeat (1993)\"],[1154,12,3.3333333333333335,\"Alphaville (1965)\"],[1155,3,3.3333333333333335,\"Rendezvous in Paris (Rendez-vous de Paris, Les) (1995)\"],[1156,1,3.0,\"Cyclo (1995)\"],[1157,25,2.88,\"Relic, The (1997)\"],[1158,4,4.0,\"Fille seule, La (A Single Girl) (1995)\"],[1159,11,3.5454545454545454,\"Stalker (1979)\"],[1160,26,3.6153846153846154,\"Love! Valour! Compassion! (1997)\"],[1161,13,2.923076923076923,\"Palookaville (1996)\"],[1162,5,1.6,\"Phat Beach (1996)\"],[1163,25,2.68,\"Portrait of a Lady, The (1996)\"],[1164,6,2.1666666666666665,\"Zeus and Roxanne (1997)\"],[1165,14,1.8571428571428572,\"Big Bully (1996)\"],[1166,12,3.1666666666666665,\"Love & Human Remains (1993)\"],[1167,11,3.5454545454545454,\"Sum of Us, The (1994)\"],[1168,22,3.3181818181818183,\"Little Buddha (1993)\"],[1169,10,4.1,\"Fresh (1994)\"],[1170,27,3.074074074074074,\"Spanking the Monkey (1994)\"],[1171,14,3.142857142857143,\"Wild Reeds (1994)\"],[1172,15,3.6666666666666665,\"Women, The (1939)\"],[1173,7,2.5714285714285716,\"Bliss (1997)\"],[1174,8,3.25,\"Caught (1996)\"],[1175,5,3.4,\"Hugo Pool (1997)\"],[1176,22,3.3636363636363638,\"Welcome To Sarajevo (1997)\"],[1177,7,1.8571428571428572,\"Dunston Checks In (1996)\"],[1178,19,2.473684210526316,\"Major Payne (1994)\"],[1179,9,2.111111111111111,\"Man of the House (1995)\"],[1180,10,2.5,\"I Love Trouble (1994)\"],[1181,10,2.5,\"Low Down Dirty Shame, A (1994)\"],[1182,13,2.3076923076923075,\"Cops and Robbersons (1994)\"],[1183,19,2.210526315789474,\"Cowboy Way, The (1994)\"],[1184,10,2.5,\"Endless Summer 2, The (1994)\"],[1185,18,2.2777777777777777,\"In the Army Now (1994)\"],[1186,3,3.3333333333333335,\"Inkwell, The (1994)\"],[1187,13,3.230769230769231,\"Switchblade Sisters (1975)\"],[1188,44,2.772727272727273,\"Young Guns II (1990)\"],[1189,3,5.0,\"Prefontaine (1997)\"],[1190,11,3.3636363636363638,\"That Old Feeling (1997)\"],[1191,3,4.333333333333333,\"Letter From Death Row, A (1998)\"],[1192,13,3.3846153846153846,\"Boys of St. Vincent, The (1993)\"],[1193,10,3.8,\"Before the Rain (Pred dozhdot) (1994)\"],[1194,31,4.064516129032258,\"Once Were Warriors (1994)\"],[1195,11,3.272727272727273,\"Strawberry and Chocolate (Fresa y chocolate) (1993)\"],[1196,3,3.0,\"Savage Nights (Nuits fauves, Les) (1992)\"],[1197,45,3.5555555555555554,\"Family Thing, A (1996)\"],[1198,7,3.142857142857143,\"Purple Noon (1960)\"],[1199,23,2.869565217391304,\"Cemetery Man (Dellamorte Dellamore) (1994)\"],[1200,7,3.2857142857142856,\"Kim (1950)\"],[1201,1,5.0,\"Marlene Dietrich: Shadow and Light (1996) \"],[1202,8,3.5,\"Maybe, Maybe Not (Bewegte Mann, Der) (1994)\"],[1203,21,4.0476190476190474,\"Top Hat (1935)\"],[1204,18,3.611111111111111,\"To Be or Not to Be (1942)\"],[1205,6,3.0,\"Secret Agent, The (1996)\"],[1206,19,2.6842105263157894,\"Amos & Andrew (1993)\"],[1207,17,2.2941176470588234,\"Jade (1995)\"],[1208,20,2.85,\"Kiss of Death (1995)\"],[1209,15,2.533333333333333,\"Mixed Nuts (1994)\"],[1210,38,2.736842105263158,\"Virtuosity (1995)\"],[1211,12,3.4166666666666665,\"Blue Sky (1994)\"],[1212,6,2.8333333333333335,\"Flesh and Bone (1993)\"],[1213,6,2.1666666666666665,\"Guilty as Sin (1993)\"],[1214,9,2.0,\"In the Realm of the Senses (Ai no corrida) (1976)\"],[1215,30,1.9333333333333333,\"Barb Wire (1996)\"],[1216,6,3.0,\"Kissed (1996)\"],[1217,39,2.871794871794872,\"Assassins (1995)\"],[1218,26,3.4615384615384617,\"Friday (1995)\"],[1219,20,2.9,\"Goofy Movie, A (1995)\"],[1220,30,3.3333333333333335,\"Higher Learning (1995)\"],[1221,39,3.4871794871794872,\"When a Man Loves a Woman (1994)\"],[1222,25,2.68,\"Judgment Night (1993)\"],[1223,4,3.5,\"King of the Hill (1993)\"],[1224,12,2.6666666666666665,\"Scout, The (1994)\"],[1225,14,2.642857142857143,\"Angus (1995)\"],[1226,32,3.375,\"Night Falls on Manhattan (1997)\"],[1227,8,2.375,\"Awfully Big Adventure, An (1995)\"],[1228,48,2.4583333333333335,\"Under Siege 2: Dark Territory (1995)\"],[1229,13,2.1538461538461537,\"Poison Ivy II (1995)\"],[1230,18,1.8333333333333333,\"Ready to Wear (Pret-A-Porter) (1994)\"],[1231,22,2.5,\"Marked for Death (1990)\"],[1232,17,2.4705882352941178,\"Madonna: Truth or Dare (1991)\"],[1233,6,3.5,\"N\\u00e9nette et Boni (1996)\"],[1234,8,2.375,\"Chairman of the Board (1998)\"],[1235,1,4.0,\"Big Bang Theory, The (1994)\"],[1236,1,3.0,\"Other Voices, Other Rooms (1997)\"],[1237,6,3.5,\"Twisted (1996)\"],[1238,8,3.125,\"Full Speed (1996)\"],[1239,18,2.4444444444444446,\"Cutthroat Island (1995)\"],[1240,26,3.6538461538461537,\"Ghost in the Shell (Kokaku kidotai) (1995)\"],[1241,6,2.6666666666666665,\"Van, The (1996)\"],[1242,5,2.6,\"Old Lady Who Walked in the Sea, The (Vieille qui marchait dans la mer, La) (1991)\"],[1243,7,3.7142857142857144,\"Night Flier (1997)\"],[1244,36,2.9166666666666665,\"Metro (1997)\"],[1245,19,3.210526315789474,\"Gridlock'd (1997)\"],[1246,7,1.5714285714285714,\"Bushwhacked (1995)\"],[1247,6,1.8333333333333333,\"Bad Girls (1994)\"],[1248,19,3.0,\"Blink (1994)\"],[1249,12,2.8333333333333335,\"For Love or Money (1993)\"],[1250,6,1.5,\"Best of the Best 3: No Turning Back (1995)\"],[1251,8,4.125,\"A Chef in Love (1996)\"],[1252,9,3.0,\"Contempt (M\\u00e9pris, Le) (1963)\"],[1253,7,2.4285714285714284,\"Tie That Binds, The (1995)\"],[1254,11,1.8181818181818181,\"Gone Fishin' (1997)\"],[1255,8,2.25,\"Broken English (1996)\"],[1256,3,2.0,\"Designated Mourner, The (1997)\"],[1257,4,1.75,\"Designated Mourner, The (1997)\"],[1258,23,2.5217391304347827,\"Trial and Error (1997)\"],[1259,4,2.0,\"Pie in the Sky (1995)\"],[1260,4,2.75,\"Total Eclipse (1995)\"],[1261,4,3.25,\"Run of the Country, The (1995)\"],[1262,8,3.625,\"Walking and Talking (1996)\"],[1263,15,2.933333333333333,\"Foxfire (1996)\"],[1264,7,3.2857142857142856,\"Nothing to Lose (1994)\"],[1265,19,3.0526315789473686,\"Star Maps (1997)\"],[1266,12,3.1666666666666665,\"Bread and Chocolate (Pane e cioccolata) (1973)\"],[1267,33,3.0,\"Clockers (1995)\"],[1268,10,3.3,\"Bitter Moon (1992)\"],[1269,10,3.9,\"Love in the Afternoon (1957)\"],[1270,7,2.2857142857142856,\"Life with Mikey (1993)\"],[1271,7,2.7142857142857144,\"North (1994)\"],[1272,5,1.8,\"Talking About Sex (1994)\"],[1273,15,2.7333333333333334,\"Color of Night (1994)\"],[1274,11,1.7272727272727273,\"Robocop 3 (1993)\"],[1275,4,2.5,\"Killer (Bulletproof Heart) (1994)\"],[1276,8,2.5,\"Sunset Park (1996)\"],[1277,19,3.4210526315789473,\"Set It Off (1996)\"],[1278,16,3.625,\"Selena (1997)\"],[1279,9,2.888888888888889,\"Wild America (1997)\"],[1280,16,2.6875,\"Gang Related (1997)\"],[1281,13,3.1538461538461537,\"Manny & Lo (1996)\"],[1282,9,3.2222222222222223,\"Grass Harp, The (1995)\"],[1283,19,2.6842105263157894,\"Out to Sea (1997)\"],[1284,26,2.8461538461538463,\"Before and After (1996)\"],[1285,15,3.1333333333333333,\"Princess Caraboo (1994)\"],[1286,17,3.7058823529411766,\"Shall We Dance? (1937)\"],[1287,6,1.3333333333333333,\"Ed (1996)\"],[1288,7,3.0,\"Denise Calls Up (1995)\"],[1289,7,2.142857142857143,\"Jack and Sarah (1995)\"],[1290,2,1.5,\"Country Life (1994)\"],[1291,15,2.2,\"Celtic Pride (1996)\"],[1292,3,1.6666666666666667,\"Simple Wish, A (1997)\"],[1293,3,5.0,\"Star Kid (1997)\"],[1294,7,3.142857142857143,\"Ayn Rand: A Sense of Life (1997)\"],[1295,7,2.5714285714285716,\"Kicked in the Head (1997)\"],[1296,20,3.25,\"Indian Summer (1996)\"],[1297,12,2.8333333333333335,\"Love Affair (1994)\"],[1298,9,3.6666666666666665,\"Band Wagon, The (1953)\"],[1299,8,3.0,\"Penny Serenade (1941)\"],[1300,9,2.3333333333333335,\"'Til There Was You (1997)\"],[1301,5,3.8,\"Stripes (1981)\"],[1302,5,3.4,\"Late Bloomers (1996)\"],[1303,18,2.3333333333333335,\"Getaway, The (1994)\"],[1304,2,2.5,\"New York Cop (1996)\"],[1305,7,2.4285714285714284,\"National Lampoon's Senior Trip (1995)\"],[1306,2,3.0,\"Delta of Venus (1994)\"],[1307,2,1.5,\"Carmen Miranda: Bananas Is My Business (1994)\"],[1308,2,1.0,\"Babyfever (1994)\"],[1309,1,1.0,\"Very Natural Thing, A (1974)\"],[1310,1,3.0,\"Walk in the Sun, A (1945)\"],[1311,16,2.5,\"Waiting to Exhale (1995)\"],[1312,7,3.0,\"Pompatus of Love, The (1996)\"],[1313,14,3.142857142857143,\"Palmetto (1998)\"],[1314,11,2.4545454545454546,\"Surviving the Game (1994)\"],[1315,23,3.130434782608696,\"Inventing the Abbotts (1997)\"],[1316,7,2.7142857142857144,\"Horse Whisperer, The (1998)\"],[1317,4,2.0,\"Journey of August King, The (1995)\"],[1318,3,1.3333333333333333,\"Catwalk (1995)\"],[1319,4,1.75,\"Neon Bible, The (1995)\"],[1320,1,1.0,\"Homage (1995)\"],[1321,2,2.5,\"Open Season (1996)\"],[1322,6,2.3333333333333335,\"Metisse (Caf\\u00e9 au Lait) (1993)\"],[1323,3,2.6666666666666665,\"Wooden Man's Bride, The (Wu Kui) (1994)\"],[1324,5,2.4,\"Loaded (1994)\"],[1325,1,1.0,\"August (1996)\"],[1326,6,3.3333333333333335,\"Boys (1996)\"],[1327,3,2.3333333333333335,\"Captives (1994)\"],[1328,6,3.1666666666666665,\"Of Love and Shadows (1994)\"],[1329,1,1.0,\"Low Life, The (1994)\"],[1330,4,2.5,\"An Unforgettable Summer (1994)\"],[1331,4,3.0,\"Last Klezmer: Leopold Kozlowski, His Life and Music, The (1995)\"],[1332,2,2.0,\"My Life and Times With Antonin Artaud (En compagnie d'Antonin Artaud) (1993)\"],[1333,5,2.8,\"Midnight Dancers (Sibak) (1994)\"],[1334,2,1.0,\"Somebody to Love (1994)\"],[1335,11,2.6363636363636362,\"American Buffalo (1996)\"],[1336,10,1.8,\"Kazaam (1996)\"],[1337,9,2.3333333333333335,\"Larger Than Life (1996)\"],[1338,4,2.25,\"Two Deaths (1995)\"],[1339,1,1.0,\"Stefano Quantestorie (1993)\"],[1340,1,1.0,\"Crude Oasis, The (1995)\"],[1341,1,1.0,\"Hedd Wyn (1992)\"],[1342,2,2.5,\"Convent, The (Convento, O) (1995)\"],[1343,1,1.0,\"Lotto Land (1995)\"],[1344,5,3.2,\"Story of Xinghua, The (1993)\"],[1345,2,2.0,\"Day the Sun Turned Cold, The (Tianguo niezi) (1994)\"],[1346,5,2.4,\"Dingo (1992)\"],[1347,4,2.75,\"Ballad of Narayama, The (Narayama Bushiko) (1958)\"],[1348,1,1.0,\"Every Other Weekend (1990)\"],[1349,1,1.0,\"Mille bolle blu (1993)\"],[1350,2,1.5,\"Crows and Sparrows (1949)\"],[1351,3,2.0,\"Lover's Knot (1996)\"],[1352,1,1.0,\"Shadow of Angels (Schatten der Engel) (1976)\"],[1353,5,2.6,\"1-900 (1994)\"],[1354,2,1.0,\"Venice\\u002fVenice (1992)\"],[1355,6,2.6666666666666665,\"Infinity (1996)\"],[1356,3,2.6666666666666665,\"Ed's Next Move (1996)\"],[1357,3,2.6666666666666665,\"For the Moment (1994)\"],[1358,2,3.0,\"The Deadly Cure (1996)\"],[1359,2,1.0,\"Boys in Venice (1996)\"],[1360,2,1.5,\"Sexual Life of the Belgians, The (1994)\"],[1361,3,2.6666666666666665,\"Search for One-eye Jimmy, The (1996)\"],[1362,2,2.0,\"American Strays (1996)\"],[1363,1,1.0,\"Leopard Son, The (1996)\"],[1364,1,1.0,\"Bird of Prey (1996)\"],[1365,2,1.5,\"Johnny 100 Pesos (1993)\"],[1366,1,1.0,\"JLG\\u002fJLG - autoportrait de d\\u00e9cembre (1994)\"],[1367,5,4.2,\"Faust (1994)\"],[1368,6,3.6666666666666665,\"Mina Tannenbaum (1994)\"],[1369,4,2.75,\"Forbidden Christ, The (Cristo proibito, Il) (1950)\"],[1370,3,2.6666666666666665,\"I Can't Sleep (J'ai pas sommeil) (1994)\"],[1371,2,1.5,\"Machine, The (1994)\"],[1372,3,3.0,\"Stranger, The (1994)\"],[1373,1,1.0,\"Good Morning (1971)\"],[1374,2,1.0,\"Falling in Love Again (1980)\"],[1375,10,3.6,\"Cement Garden, The (1993)\"],[1376,7,2.142857142857143,\"Meet Wally Sparks (1997)\"],[1377,4,3.25,\"Hotel de Love (1996)\"],[1378,5,2.2,\"Rhyme & Reason (1997)\"],[1379,7,2.857142857142857,\"Love and Other Catastrophes (1996)\"],[1380,6,2.3333333333333335,\"Hollow Reed (1996)\"],[1381,8,3.25,\"Losing Chase (1996)\"],[1382,4,2.0,\"Bonheur, Le (1965)\"],[1383,6,2.0,\"Second Jungle Book: Mowgli & Baloo, The (1997)\"],[1384,3,1.6666666666666667,\"Squeeze (1996)\"],[1385,5,2.8,\"Roseanna's Grave (For Roseanna) (1997)\"],[1386,6,2.6666666666666665,\"Tetsuo II: Body Hammer (1992)\"],[1387,3,2.0,\"Fall (1997)\"],[1388,6,3.3333333333333335,\"Gabbeh (1996)\"],[1389,3,3.0,\"Mondo (1996)\"],[1390,2,2.0,\"Innocent Sleep, The (1995)\"],[1391,3,2.0,\"For Ever Mozart (1996)\"],[1392,5,2.0,\"Locusts, The (1997)\"],[1393,9,2.111111111111111,\"Stag (1997)\"],[1394,7,2.4285714285714284,\"Swept from the Sea (1997)\"],[1395,6,2.3333333333333335,\"Hurricane Streets (1998)\"],[1396,5,4.2,\"Stonewall (1995)\"],[1397,5,3.2,\"Of Human Bondage (1934)\"],[1398,2,4.5,\"Anna (1996)\"],[1399,7,2.4285714285714284,\"Stranger in the House (1997)\"],[1400,10,3.1,\"Picture Bride (1995)\"],[1401,18,3.2222222222222223,\"M. Butterfly (1993)\"],[1402,4,2.75,\"Ciao, Professore! (1993)\"],[1403,4,2.75,\"Caro Diario (Dear Diary) (1994)\"],[1404,13,3.230769230769231,\"Withnail and I (1987)\"],[1405,6,3.3333333333333335,\"Boy's Life 2 (1997)\"],[1406,5,3.4,\"When Night Is Falling (1995)\"],[1407,20,2.25,\"Specialist, The (1994)\"],[1408,3,1.0,\"Gordy (1995)\"],[1409,7,2.857142857142857,\"Swan Princess, The (1994)\"],[1410,4,2.75,\"Harlem (1993)\"],[1411,28,2.5714285714285716,\"Barbarella (1968)\"],[1412,6,1.6666666666666667,\"Land Before Time III: The Time of the Great Giving (1995) (V)\"],[1413,8,2.75,\"Street Fighter (1994)\"],[1414,1,2.0,\"Coldblooded (1995)\"],[1415,9,2.4444444444444446,\"Next Karate Kid, The (1994)\"],[1416,5,2.4,\"No Escape (1994)\"],[1417,2,2.5,\"Turning, The (1992)\"],[1418,3,3.6666666666666665,\"Joy Luck Club, The (1993)\"],[1419,16,2.125,\"Highlander III: The Sorcerer (1994)\"],[1420,3,1.3333333333333333,\"Gilligan's Island: The Movie (1998)\"],[1421,11,3.1818181818181817,\"My Crazy Life (Mi vida loca) (1993)\"],[1422,4,2.25,\"Suture (1993)\"],[1423,4,2.25,\"Walking Dead, The (1995)\"],[1424,3,2.3333333333333335,\"I Like It Like That (1994)\"],[1425,10,2.6,\"I'll Do Anything (1994)\"],[1426,8,3.25,\"Grace of My Heart (1996)\"],[1427,5,2.8,\"Drunks (1995)\"],[1428,12,3.6666666666666665,\"SubUrbia (1997)\"],[1429,4,2.75,\"Sliding Doors (1998)\"],[1430,3,2.3333333333333335,\"Ill Gotten Gains (1997)\"],[1431,5,3.4,\"Legal Deceit (1997)\"],[1432,3,1.0,\"Mighty, The (1998)\"],[1433,2,2.0,\"Men of Means (1998)\"],[1434,10,2.5,\"Shooting Fish (1997)\"],[1435,7,2.5714285714285716,\"Steal Big, Steal Little (1995)\"],[1436,2,2.5,\"Mr. Jones (1993)\"],[1437,9,2.0,\"House Party 3 (1994)\"],[1438,5,2.4,\"Panther (1995)\"],[1439,8,3.0,\"Jason's Lyric (1994)\"],[1440,5,3.0,\"Above the Rim (1994)\"],[1441,7,2.5714285714285716,\"Moonlight and Valentino (1995)\"],[1442,5,2.4,\"Scarlet Letter, The (1995)\"],[1443,4,3.75,\"8 Seconds (1994)\"],[1444,19,2.473684210526316,\"That Darn Cat! (1965)\"],[1445,4,2.75,\"Ladybird Ladybird (1994)\"],[1446,15,3.1333333333333333,\"Bye Bye, Love (1995)\"],[1447,1,3.0,\"Century (1993)\"],[1448,3,3.6666666666666665,\"My Favorite Season (1993)\"],[1449,8,4.625,\"Pather Panchali (1955)\"],[1450,2,4.0,\"Golden Earrings (1947)\"],[1451,15,3.8666666666666667,\"Foreign Correspondent (1940)\"],[1452,1,4.0,\"Lady of Burlesque (1943)\"],[1453,1,2.0,\"Angel on My Shoulder (1946)\"],[1454,6,3.0,\"Angel and the Badman (1947)\"],[1455,2,2.5,\"Outlaw, The (1943)\"],[1456,7,3.7142857142857144,\"Beat the Devil (1954)\"],[1457,1,3.0,\"Love Is All There Is (1996)\"],[1458,1,4.0,\"Damsel in Distress, A (1937)\"],[1459,7,3.5714285714285716,\"Madame Butterfly (1995)\"],[1460,1,3.0,\"Sleepover (1995)\"],[1461,1,2.0,\"Here Comes Cookie (1935)\"],[1462,7,3.7142857142857144,\"Thieves (Voleurs, Les) (1996)\"],[1463,3,3.3333333333333335,\"Boys, Les (1997)\"],[1464,3,2.3333333333333335,\"Stars Fell on Henrietta, The (1995)\"],[1465,3,2.3333333333333335,\"Last Summer in the Hamptons (1995)\"],[1466,6,4.0,\"Margaret's Museum (1995)\"],[1467,2,5.0,\"Saint of Fort Washington, The (1993)\"],[1468,6,3.3333333333333335,\"Cure, The (1995)\"],[1469,12,3.1666666666666665,\"Tom and Huck (1995)\"],[1470,5,2.6,\"Gumby: The Movie (1995)\"],[1471,9,2.4444444444444446,\"Hideaway (1995)\"],[1472,2,3.5,\"Visitors, The (Visiteurs, Les) (1993)\"],[1473,9,3.5555555555555554,\"Little Princess, The (1939)\"],[1474,6,2.8333333333333335,\"Nina Takes a Lover (1994)\"],[1475,8,2.875,\"Bhaji on the Beach (1993)\"],[1476,1,2.0,\"Raw Deal (1948)\"],[1477,2,2.5,\"Nightwatch (1997)\"],[1478,18,2.7222222222222223,\"Dead Presidents (1995)\"],[1479,8,2.75,\"Reckless (1995)\"],[1480,11,2.272727272727273,\"Herbie Rides Again (1974)\"],[1481,2,3.0,\"S.F.W. (1994)\"],[1482,1,4.0,\"Gate of Heavenly Peace, The (1995)\"],[1483,12,3.4166666666666665,\"Man in the Iron Mask, The (1998)\"],[1484,3,2.6666666666666665,\"Jerky Boys, The (1994)\"],[1485,4,3.5,\"Colonel Chabert, Le (1994)\"],[1486,1,1.0,\"Girl in the Cadillac (1995)\"],[1487,5,2.0,\"Even Cowgirls Get the Blues (1993)\"],[1488,4,3.0,\"Germinal (1993)\"],[1489,5,2.2,\"Chasers (1994)\"],[1490,3,3.0,\"Fausto (1993)\"],[1491,2,3.0,\"Tough and Deadly (1995)\"],[1492,1,4.0,\"Window to Paris (1994)\"],[1493,1,1.0,\"Modern Affair, A (1995)\"],[1494,1,1.0,\"Mostro, Il (1994)\"],[1495,5,3.6,\"Flirt (1995)\"],[1496,5,2.8,\"Carpool (1996)\"],[1497,2,3.0,\"Line King: Al Hirschfeld, The (1996)\"],[1498,1,4.0,\"Farmer & Chase (1995)\"],[1499,4,3.25,\"Grosse Fatigue (1994)\"],[1500,2,5.0,\"Santa with Muscles (1996)\"],[1501,5,3.0,\"Prisoner of the Mountains (Kavkazsky Plennik) (1996)\"],[1502,2,1.5,\"Naked in New York (1994)\"],[1503,10,3.1,\"Gold Diggers: The Secret of Bear Mountain (1995)\"],[1504,3,3.6666666666666665,\"Bewegte Mann, Der (1994)\"],[1505,1,4.0,\"Killer: A Journal of Murder (1995)\"],[1506,3,3.6666666666666665,\"Nelly & Monsieur Arnaud (1995)\"],[1507,1,3.0,\"Three Lives and Only One Death (1996)\"],[1508,3,2.3333333333333335,\"Babysitter, The (1995)\"],[1509,5,1.6,\"Getting Even with Dad (1994)\"],[1510,1,3.0,\"Mad Dog Time (1996)\"],[1511,5,3.2,\"Children of the Revolution (1996)\"],[1512,6,4.0,\"World of Apu, The (Apur Sansar) (1959)\"],[1513,3,2.0,\"Sprung (1997)\"],[1514,7,3.142857142857143,\"Dream With the Fishes (1997)\"],[1515,1,4.0,\"Wings of Courage (1995)\"],[1516,3,4.0,\"Wedding Gift, The (1994)\"],[1517,5,2.8,\"Race the Sun (1996)\"],[1518,12,3.0,\"Losing Isaiah (1995)\"],[1519,2,3.0,\"New Jersey Drive (1995)\"],[1520,1,3.0,\"Fear, The (1995)\"],[1521,4,3.0,\"Mr. Wonderful (1993)\"],[1522,7,2.4285714285714284,\"Trial by Jury (1994)\"],[1523,2,3.0,\"Good Man in Africa, A (1994)\"],[1524,8,4.25,\"Kaspar Hauser (1993)\"],[1525,1,4.0,\"Object of My Affection, The (1998)\"],[1526,1,4.0,\"Witness (1985)\"],[1527,7,2.4285714285714284,\"Senseless (1998)\"],[1528,3,2.3333333333333335,\"Nowhere (1997)\"],[1529,5,2.8,\"Underground (1995)\"],[1530,5,2.0,\"Jefferson in Paris (1995)\"],[1531,7,3.2857142857142856,\"Far From Home: The Adventures of Yellow Dog (1995)\"],[1532,2,2.0,\"Foreign Student (1994)\"],[1533,1,4.0,\"I Don't Want to Talk About It (De eso no se habla) (1993)\"],[1534,6,2.1666666666666665,\"Twin Town (1997)\"],[1535,4,3.0,\"Enfer, L' (1994)\"],[1536,1,5.0,\"Aiqing wansui (1994)\"],[1537,4,4.0,\"Cosi (1996)\"],[1538,3,3.0,\"All Over Me (1997)\"],[1539,4,1.75,\"Being Human (1993)\"],[1540,10,2.8,\"Amazing Panda Adventure, The (1995)\"],[1541,2,3.5,\"Beans of Egypt, Maine, The (1994)\"],[1542,2,3.0,\"Scarlet Letter, The (1926)\"],[1543,1,3.0,\"Johns (1996)\"],[1544,3,2.6666666666666665,\"It Takes Two (1995)\"],[1545,4,2.5,\"Frankie Starlight (1995)\"],[1546,1,1.0,\"Shadows (Cienie) (1988)\"],[1547,2,3.0,\"Show, The (1995)\"],[1548,1,1.0,\"The Courtyard (1995)\"],[1549,2,1.5,\"Dream Man (1995)\"],[1550,2,3.0,\"Destiny Turns on the Radio (1995)\"],[1551,2,2.0,\"Glass Shield, The (1994)\"],[1552,3,2.0,\"Hunted, The (1995)\"],[1553,4,2.75,\"Underneath, The (1995)\"],[1554,2,3.0,\"Safe Passage (1994)\"],[1555,5,2.6,\"Secret Adventures of Tom Thumb, The (1993)\"],[1556,2,2.0,\"Condition Red (1995)\"],[1557,1,1.0,\"Yankee Zulu (1994)\"],[1558,7,3.5714285714285716,\"Aparajito (1956)\"],[1559,1,1.0,\"Hostile Intentions (1994)\"],[1560,4,2.75,\"Clean Slate (Coup de Torchon) (1981)\"],[1561,1,1.0,\"Tigrero: A Film That Was Never Made (1994)\"],[1562,1,1.0,\"Eye of Vichy, The (Oeil de Vichy, L') (1993)\"],[1563,1,1.0,\"Promise, The (Versprechen, Das) (1994)\"],[1564,1,1.0,\"To Cross the Rubicon (1991)\"],[1565,1,1.0,\"Daens (1992)\"],[1566,1,1.0,\"Man from Down Under, The (1943)\"],[1567,1,1.0,\"Careful (1992)\"],[1568,1,1.0,\"Vermont Is For Lovers (1992)\"],[1569,1,1.0,\"Vie est belle, La (Life is Rosey) (1987)\"],[1570,1,1.0,\"Quartier Mozart (1992)\"],[1571,1,1.0,\"Touki Bouki (Journey of the Hyena) (1973)\"],[1572,1,1.0,\"Wend Kuuni (God's Gift) (1982)\"],[1573,2,2.5,\"Spirits of the Dead (Tre passi nel delirio) (1968)\"],[1574,1,1.0,\"Pharaoh's Army (1995)\"],[1575,1,1.0,\"I, Worst of All (Yo, la peor de todas) (1990)\"],[1576,1,1.0,\"Hungarian Fairy Tale, A (1987)\"],[1577,1,1.0,\"Death in the Garden (Mort en ce jardin, La) (1956)\"],[1578,2,2.0,\"Collectionneuse, La (1967)\"],[1579,1,1.0,\"Baton Rouge (1988)\"],[1580,1,1.0,\"Liebelei (1933)\"],[1581,1,1.0,\"Woman in Question, The (1950)\"],[1582,1,1.0,\"T-Men (1947)\"],[1583,1,1.0,\"Invitation, The (Zaproszenie) (1986)\"],[1584,1,1.0,\"Symphonie pastorale, La (1946)\"],[1585,2,2.5,\"American Dream (1990)\"],[1586,1,1.0,\"Lashou shentan (1992)\"],[1587,1,1.0,\"Terror in a Texas Town (1958)\"],[1588,2,2.0,\"Salut cousin! (1996)\"],[1589,4,3.0,\"Schizopolis (1996)\"],[1590,2,2.0,\"To Have, or Not (1995)\"],[1591,6,3.1666666666666665,\"Duoluo tianshi (1995)\"],[1592,5,3.6,\"Magic Hour, The (1998)\"],[1593,1,4.0,\"Death in Brunswick (1991)\"],[1594,2,4.5,\"Everest (1998)\"],[1595,1,2.0,\"Shopping (1994)\"],[1596,1,2.0,\"Nemesis 2: Nebula (1995)\"],[1597,5,3.0,\"Romper Stomper (1992)\"],[1598,6,2.5,\"City of Industry (1997)\"],[1599,1,5.0,\"Someone Else's America (1995)\"],[1600,4,3.75,\"Guantanamera (1994)\"],[1601,1,1.0,\"Office Killer (1997)\"],[1602,3,3.3333333333333335,\"Price Above Rubies, A (1998)\"],[1603,1,3.0,\"Angela (1995)\"],[1604,1,4.0,\"He Walked by Night (1948)\"],[1605,4,3.0,\"Love Serenade (1996)\"],[1606,1,2.0,\"Deceiver (1997)\"],[1607,3,3.3333333333333335,\"Hurricane Streets (1998)\"],[1608,4,2.25,\"Buddy (1997)\"],[1609,3,1.6666666666666667,\"B*A*P*S (1997)\"],[1610,3,2.0,\"Truth or Consequences, N.M. (1997)\"],[1611,2,3.0,\"Intimate Relations (1996)\"],[1612,4,3.75,\"Leading Man, The (1996)\"],[1613,1,4.0,\"Tokyo Fist (1995)\"],[1614,1,3.0,\"Reluctant Debutante, The (1958)\"],[1615,10,3.0,\"Warriors of Virtue (1997)\"],[1616,1,4.0,\"Desert Winds (1995)\"],[1617,2,3.0,\"Hugo Pool (1997)\"],[1618,1,1.0,\"King of New York (1990)\"],[1619,1,3.0,\"All Things Fair (1996)\"],[1620,9,3.2222222222222223,\"Sixth Man, The (1997)\"],[1621,1,1.0,\"Butterfly Kiss (1995)\"],[1622,3,2.3333333333333335,\"Paris, France (1993)\"],[1623,3,4.0,\"C\\u00e9r\\u00e9monie, La (1995)\"],[1624,1,2.0,\"Hush (1998)\"],[1625,1,4.0,\"Nightwatch (1997)\"],[1626,1,1.0,\"Nobody Loves Me (Keiner liebt mich) (1994)\"],[1627,1,3.0,\"Wife, The (1995)\"],[1628,4,3.75,\"Lamerica (1994)\"],[1629,2,4.0,\"Nico Icon (1995)\"],[1630,1,3.0,\"Silence of the Palace, The (Saimt el Qusur) (1994)\"],[1631,2,3.5,\"Slingshot, The (1993)\"],[1632,1,3.0,\"Land and Freedom (Tierra y libertad) (1995)\"],[1633,1,3.0,\"\\u00c1 k\\u00f6ldum klaka (Cold Fever) (1994)\"],[1634,1,2.0,\"Etz Hadomim Tafus (Under the Domin Tree) (1994)\"],[1635,1,3.0,\"Two Friends (1986) \"],[1636,1,4.0,\"Brothers in Trouble (1995)\"],[1637,1,3.0,\"Girls Town (1996)\"],[1638,1,3.0,\"Normal Life (1996)\"],[1639,3,4.333333333333333,\"Bitter Sugar (Azucar Amargo) (1996)\"],[1640,1,3.0,\"Eighth Day, The (1996)\"],[1641,1,3.0,\"Dadetown (1995)\"],[1642,2,4.5,\"Some Mother's Son (1996)\"],[1643,4,3.75,\"Angel Baby (1995)\"],[1644,2,1.5,\"Sudden Manhattan (1996)\"],[1645,1,4.0,\"Butcher Boy, The (1998)\"],[1646,2,3.5,\"Men With Guns (1997)\"],[1647,1,3.0,\"Hana-bi (1997)\"],[1648,1,2.0,\"Niagara, Niagara (1997)\"],[1649,1,3.0,\"Big One, The (1997)\"],[1650,1,4.0,\"Butcher Boy, The (1998)\"],[1651,1,4.0,\"Spanish Prisoner, The (1997)\"],[1652,3,1.6666666666666667,\"Temptress Moon (Feng Yue) (1996)\"],[1653,1,5.0,\"Entertaining Angels: The Dorothy Day Story (1996)\"],[1654,1,1.0,\"Chairman of the Board (1998)\"],[1655,1,2.0,\"Favor, The (1994)\"],[1656,2,3.5,\"Little City (1998)\"],[1657,1,3.0,\"Target (1995)\"],[1658,3,3.0,\"Substance of Fire, The (1996)\"],[1659,1,1.0,\"Getting Away With Murder (1996)\"],[1660,1,2.0,\"Small Faces (1995)\"],[1661,1,1.0,\"New Age, The (1994)\"],[1662,2,2.5,\"Rough Magic (1995)\"],[1663,1,2.0,\"Nothing Personal (1995)\"],[1664,4,3.25,\"8 Heads in a Duffel Bag (1997)\"],[1665,1,2.0,\"Brother's Kiss, A (1997)\"],[1666,1,2.0,\"Ripe (1996)\"],[1667,1,3.0,\"Next Step, The (1995)\"],[1668,1,3.0,\"Wedding Bell Blues (1996)\"],[1669,1,2.0,\"MURDER and murder (1996)\"],[1670,1,3.0,\"Tainted (1998)\"],[1671,1,1.0,\"Further Gesture, A (1996)\"],[1672,2,2.0,\"Kika (1993)\"],[1673,1,3.0,\"Mirage (1995)\"],[1674,1,4.0,\"Mamma Roma (1962)\"],[1675,1,3.0,\"Sunchaser, The (1996)\"],[1676,1,2.0,\"War at Home, The (1996)\"],[1677,1,3.0,\"Sweet Nothing (1995)\"],[1678,1,1.0,\"Mat' i syn (1997)\"],[1679,1,3.0,\"B. Monkey (1998)\"],[1680,1,2.0,\"Sliding Doors (1998)\"],[1681,1,3.0,\"You So Crazy (1994)\"],[1682,1,3.0,\"Scream of Stone (Schrei aus Stein) (1991)\"]],\"hovertemplate\":\"bayesian_avg=%{y}\\u003cbr\\u003emovie_id=%{customdata[0]}\\u003cbr\\u003ecount=%{customdata[1]}\\u003cbr\\u003emean=%{customdata[2]}\\u003cbr\\u003emovie_title=%{customdata[3]}\\u003cextra\\u003e\\u003c\\u002fextra\\u003e\",\"legendgroup\":\"\",\"marker\":{\"color\":\"#636efa\"},\"name\":\"\",\"offsetgroup\":\"\",\"orientation\":\"v\",\"points\":\"all\",\"scalegroup\":\"True\",\"showlegend\":false,\"x0\":\" \",\"xaxis\":\"x\",\"y\":[3.55,2.53,2.25,3.0,2.38,1.82,3.44,3.37,3.42,2.72,3.28,3.78,2.84,3.25,3.32,1.9,2.31,1.3,2.61,2.35,2.05,3.63,3.37,2.84,3.04,2.37,2.06,3.42,2.11,2.16,2.91,2.63,2.54,1.23,1.23,1.25,1.19,2.36,2.37,1.95,1.83,3.02,1.84,2.36,2.77,1.83,2.81,3.07,2.36,4.05,2.44,2.7,2.35,2.44,2.95,3.67,2.24,2.99,2.8,2.59,2.45,2.48,2.24,3.86,2.69,2.88,2.32,2.69,3.42,3.16,3.2,2.52,2.7,1.26,1.2,2.17,2.65,1.55,3.59,1.97,2.68,3.23,3.3,1.5,2.03,3.12,3.05,3.0,3.59,2.28,2.84,2.68,2.8,2.47,3.22,3.51,3.28,3.86,3.03,3.83,2.27,2.04,1.22,1.08,1.89,2.05,2.07,2.11,2.68,1.55,3.05,1.4,1.45,2.85,1.59,2.93,3.33,2.85,1.27,1.68,3.15,1.88,2.49,3.33,3.07,2.76,3.88,2.35,2.95,1.39,2.7,3.49,3.14,3.54,3.42,3.01,3.17,1.42,1.84,2.15,2.39,2.04,3.19,3.32,1.78,1.26,2.88,2.52,1.6,3.07,3.23,2.55,3.26,3.06,2.33,3.15,2.85,1.84,2.42,2.35,2.96,2.66,2.57,2.87,2.64,2.57,2.06,3.59,3.32,3.15,2.53,3.76,3.69,3.86,3.2,3.45,3.01,3.28,3.3,3.41,3.7,3.35,3.53,2.62,3.49,3.3,3.49,3.0,2.66,3.14,3.61,3.08,3.13,3.46,3.46,3.37,3.5,3.07,3.35,3.2,2.53,3.29,3.17,3.43,3.1,2.12,2.51,3.28,3.23,3.49,3.27,2.51,3.08,2.56,3.12,3.42,2.46,2.84,2.43,2.27,2.54,3.29,3.24,2.18,2.25,2.75,2.68,3.27,2.58,2.9,2.2,2.41,2.56,3.3,2.46,2.16,3.35,3.34,2.81,2.31,2.76,3.0,2.01,2.0,2.7,3.0,1.11,2.96,2.56,2.91,2.45,2.43,1.86,1.77,2.77,1.58,3.3,3.52,2.25,2.09,1.68,2.45,1.32,2.12,3.28,1.67,1.37,3.27,3.47,2.82,2.75,3.52,3.04,2.92,3.47,3.26,2.37,2.15,1.77,2.31,2.54,3.15,3.05,2.66,3.4,3.37,2.49,3.18,2.62,2.33,2.63,2.77,3.01,2.93,2.38,1.26,2.38,3.13,2.09,3.32,2.84,3.64,2.88,2.83,2.59,2.84,2.92,1.69,1.63,2.86,2.52,2.26,3.78,1.05,3.27,3.11,2.86,3.9,2.69,1.81,2.59,2.65,2.56,2.46,2.07,2.77,2.79,3.03,2.03,1.86,2.68,2.75,3.11,2.25,1.5,1.71,1.5,2.02,2.02,2.98,1.37,1.92,2.43,2.3,2.28,2.81,2.77,1.75,1.69,1.91,1.47,1.38,1.31,2.39,1.82,2.5,3.7,2.16,1.62,1.36,1.4,1.62,1.79,1.67,2.02,2.06,2.84,1.34,1.81,1.75,2.17,1.95,1.78,1.24,1.3,1.56,1.25,2.73,1.86,2.56,2.62,2.71,1.4,1.98,3.0,2.1,2.27,1.48,1.8,1.36,1.9,2.38,2.85,1.43,1.8,1.89,1.31,1.36,2.4,1.44,2.03,2.84,2.89,2.7,2.98,1.68,1.66,3.3,2.18,2.57,2.42,1.87,1.81,2.32,1.58,2.31,2.18,2.78,3.06,2.56,2.68,1.6,3.37,1.12,2.63,1.68,3.6,2.91,2.84,2.85,2.84,3.08,3.01,2.53,3.32,2.6,1.05,1.06,1.05,1.16,1.77,1.06,3.07,1.78,1.71,1.23,2.7,2.43,2.37,1.74,2.75,1.9,1.24,1.44,2.61,1.61,1.27,2.3,1.83,1.68,2.48,3.02,2.58,1.85,2.53,2.24,2.28,2.22,2.5,2.74,3.07,2.53,2.46,3.5,3.34,2.49,2.38,3.0,3.45,3.48,2.54,3.05,3.79,3.26,2.93,2.47,2.68,2.7,2.48,2.41,2.5,2.45,2.61,2.48,2.35,3.49,2.54,3.3,2.53,2.03,2.7,2.35,2.08,2.91,2.62,2.74,2.77,3.04,2.93,2.99,3.42,2.49,2.85,3.2,3.48,2.55,2.7,2.61,2.8,3.12,2.91,2.06,3.21,2.35,2.69,2.93,3.33,3.12,2.84,2.76,3.02,1.66,1.58,1.46,2.06,1.38,1.92,2.3,1.66,1.66,1.88,1.73,1.72,2.2,1.18,2.66,1.99,1.24,2.58,2.65,1.44,1.83,2.2,2.16,1.19,1.29,1.51,2.47,2.54,1.5,2.06,2.02,1.5,1.36,1.49,2.94,1.7,3.11,1.93,1.99,1.52,1.61,1.73,1.28,1.69,2.25,1.53,2.33,1.43,1.86,2.13,2.93,1.8,2.47,1.62,1.64,1.53,3.17,2.3,1.27,2.96,1.35,1.41,1.16,2.11,2.64,2.68,1.13,1.05,1.12,1.79,2.26,3.65,2.76,1.84,2.63,2.59,2.02,2.32,2.12,2.28,2.1,1.98,2.3,2.55,2.28,1.69,1.65,2.15,1.91,1.34,1.97,1.79,1.65,2.37,1.19,2.26,2.87,2.34,1.82,2.77,2.46,2.67,1.83,1.52,2.38,1.82,2.21,2.12,2.2,2.18,2.51,1.17,2.06,1.91,2.15,2.7,2.63,2.12,2.42,3.3,2.76,2.09,3.25,3.29,2.31,3.26,2.4,3.05,3.01,2.87,2.43,2.94,2.14,2.17,1.16,1.24,1.15,1.15,1.79,2.17,1.92,2.51,1.88,2.24,2.34,1.08,2.43,2.33,1.6,1.49,2.31,1.66,3.08,2.72,2.25,1.66,1.39,2.3,2.79,1.57,2.94,2.62,2.33,1.39,2.24,2.01,1.33,2.71,1.36,1.48,1.98,1.66,1.62,3.1,1.2,2.61,2.58,2.95,2.49,1.1,1.99,2.45,1.44,2.37,2.09,2.08,1.61,1.5,2.22,2.19,1.98,1.81,2.42,1.41,1.31,2.29,1.9,2.45,1.76,1.88,3.0,1.48,1.51,3.01,2.69,2.01,1.66,2.72,2.3,2.24,3.17,1.41,2.51,1.65,2.79,2.57,2.8,2.03,2.95,2.84,1.95,1.82,2.19,2.45,2.31,1.16,1.22,1.23,1.75,1.9,2.59,2.72,1.61,1.67,1.32,1.23,2.0,1.63,2.19,1.7,1.96,1.47,1.71,1.57,1.34,1.06,2.45,1.56,2.1,2.39,1.27,1.7,1.05,1.88,1.36,1.44,1.08,2.17,2.03,1.26,2.63,1.4,2.19,1.41,1.82,1.75,1.21,1.22,1.61,1.43,1.71,1.25,1.27,1.86,2.15,1.28,1.66,1.83,1.84,1.72,1.53,2.43,1.12,2.48,1.41,1.13,1.56,1.71,2.1,1.59,1.17,2.11,1.82,2.21,1.93,1.89,1.35,1.63,1.05,1.9,1.46,2.02,1.39,1.62,1.88,1.9,1.16,1.14,1.81,1.81,1.71,1.71,2.01,2.86,1.91,2.34,1.38,1.84,1.24,1.22,1.05,1.59,1.54,2.46,2.1,1.08,1.05,1.38,1.31,1.11,1.3,1.88,2.3,1.68,2.56,1.32,1.26,1.61,1.28,1.8,1.9,2.15,1.93,1.85,1.78,1.75,1.57,2.6,2.11,1.86,1.87,1.44,1.29,1.26,2.01,2.38,1.54,1.47,1.43,1.2,1.85,1.31,1.26,2.44,2.21,1.07,2.12,1.37,2.14,1.2,2.2,1.53,1.66,1.73,1.61,1.08,1.42,1.54,1.11,1.14,1.31,1.1,1.31,1.57,1.54,1.3,1.28,2.74,1.14,2.33,2.06,2.58,2.43,1.88,2.09,1.25,2.36,1.71,2.0,1.59,1.81,1.41,2.05,1.29,2.06,1.95,1.59,2.33,1.5,1.93,2.1,2.03,1.87,2.21,2.11,1.54,1.55,2.3,1.67,1.75,1.97,1.66,1.44,2.12,2.17,1.08,1.57,2.3,1.7,1.99,1.63,2.37,1.35,1.73,2.01,1.41,1.67,2.58,1.31,2.01,1.73,1.21,1.74,1.95,1.18,1.79,1.51,1.85,1.63,1.13,1.49,1.32,1.82,1.54,1.47,1.14,1.8,1.68,1.78,1.4,1.17,2.35,1.18,1.77,1.33,1.28,1.37,1.3,1.33,1.26,1.15,1.19,1.32,1.76,1.55,2.41,1.94,2.26,1.99,2.38,2.61,1.53,2.3,1.35,2.73,2.05,1.8,2.05,2.1,2.13,1.89,1.58,1.57,1.85,1.14,1.13,2.47,1.23,1.35,1.18,1.44,1.66,1.51,2.18,1.54,1.32,1.45,2.83,1.51,2.15,1.72,1.28,1.93,1.7,1.98,2.29,2.13,1.49,2.14,1.95,1.42,1.74,1.4,1.36,1.36,1.39,1.5,1.69,1.84,1.67,1.5,2.12,1.25,2.2,1.46,2.07,1.41,1.54,1.89,1.44,1.2,2.51,2.13,1.3,1.25,1.3,1.52,1.57,1.15,1.25,1.24,1.18,1.78,1.36,1.63,1.15,1.26,1.47,1.57,1.75,1.29,1.62,1.28,1.57,1.13,1.62,2.14,1.48,1.24,2.56,1.2,1.71,1.17,1.47,1.17,1.52,1.16,1.81,1.79,1.3,1.4,1.65,1.38,1.83,1.51,1.55,2.02,2.35,1.48,1.76,1.12,1.18,1.52,1.25,1.85,1.34,1.35,1.86,1.1,1.58,1.6,1.69,1.93,1.89,1.85,2.01,1.23,1.61,1.33,1.35,2.33,1.65,1.18,1.26,1.1,1.73,1.35,1.9,1.32,1.17,1.81,1.64,1.43,1.16,1.08,1.59,1.24,1.44,1.83,1.39,1.09,1.53,1.15,1.21,1.41,1.44,1.66,1.49,1.68,1.45,1.58,1.21,1.31,1.23,1.68,1.14,1.4,1.19,1.26,1.26,1.28,1.33,1.26,1.34,1.16,1.44,1.78,1.24,1.41,1.21,1.47,1.45,2.08,1.4,1.15,2.13,1.27,1.56,1.29,1.12,1.34,1.83,1.65,1.23,1.45,1.33,1.5,1.35,1.71,1.45,1.22,1.15,1.18,1.35,1.23,1.77,1.78,1.52,1.82,2.02,1.53,1.21,1.32,1.36,1.86,1.21,1.68,1.25,1.23,1.44,1.37,1.28,1.21,1.1,1.08,1.28,1.3,1.38,1.84,1.2,1.17,1.33,1.76,1.57,1.11,1.12,1.52,1.35,1.09,1.42,1.31,1.2,1.17,1.19,1.1,1.1,1.46,1.11,1.16,1.19,1.36,1.43,1.29,1.54,1.41,1.75,1.38,1.46,1.18,1.23,1.11,1.39,1.16,1.14,1.22,1.63,1.6,1.29,1.4,1.43,1.34,1.45,1.6,1.47,1.64,1.08,1.26,1.17,1.07,1.28,1.08,1.24,1.27,1.21,1.61,1.35,1.4,1.28,1.22,1.26,1.23,1.35,1.1,1.2,1.12,1.07,1.05,1.05,1.08,1.36,1.26,1.45,1.27,1.63,1.23,1.11,1.07,1.1,1.05,1.1,1.17,1.13,1.16,1.05,1.26,1.11,1.25,1.05,1.14,1.17,1.08,1.19,1.05,1.3,1.16,1.22,1.13,1.05,1.05,1.05,1.1,1.05,1.22,1.08,1.16,1.16,1.05,1.05,1.07,1.1,1.05,1.17,1.05,1.2,1.13,1.13,1.12,1.05,1.07,1.13,1.08,1.05,1.05,1.07,1.05,1.3,1.29,1.16,1.13,1.07,1.15,1.05,1.05,1.42,1.17,1.19,1.14,1.24,1.17,1.31,1.11,1.14,1.08,1.19,1.2,1.1,1.26,1.15,1.08,1.1,1.13,1.19,1.2,1.17,1.3,1.22,1.16,1.2,1.35,1.56,1.16,1.16,1.44,1.26,1.23,1.35,1.05,1.24,1.16,1.54,1.11,1.25,1.07,1.23,1.16,1.1,1.18,1.28,1.07,1.38,1.13,1.13,1.11,1.27,1.31,1.19,1.49,1.16,1.11,1.23,1.05,1.08,1.26,1.21,1.1,1.18,1.16,1.28,1.2,1.21,1.16,1.22,1.4,1.16,1.47,1.08,1.18,1.48,1.15,1.62,1.1,1.07,1.23,1.1,1.33,1.08,1.1,1.32,1.08,1.07,1.33,1.16,1.11,1.11,1.32,1.18,1.26,1.41,1.17,1.23,1.13,1.38,1.22,1.27,1.07,1.1,1.44,1.25,1.24,1.12,1.1,1.45,1.13,1.21,1.05,1.13,1.17,1.14,1.15,1.12,1.1,1.05,1.05,1.25,1.19,1.12,1.1,1.19,1.18,1.2,1.07,1.35,1.18,1.1,1.18,1.08,1.11,1.09,1.08,1.22,1.32,1.1,1.27,1.1,1.19,1.19,1.38,1.12,1.08,1.17,1.2,1.12,1.43,1.1,1.1,1.2,1.11,1.19,1.13,1.29,1.08,1.1,1.15,1.17,1.12,1.24,1.15,1.1,1.3,1.13,1.12,1.08,1.13,1.14,1.05,1.12,1.05,1.07,1.12,1.08,1.1,1.16,1.12,1.17,1.08,1.05,1.32,1.05,1.16,1.05,1.05,1.05,1.05,1.05,1.05,1.05,1.05,1.05,1.05,1.05,1.05,1.1,1.05,1.05,1.05,1.05,1.08,1.05,1.05,1.05,1.05,1.05,1.05,1.1,1.05,1.05,1.08,1.17,1.08,1.25,1.25,1.1,1.16,1.07,1.07,1.2,1.18,1.12,1.22,1.05,1.16,1.08,1.1,1.17,1.07,1.16,1.13,1.08,1.1,1.12,1.22,1.1,1.08,1.33,1.1,1.12,1.05,1.08,1.34,1.05,1.11,1.19,1.07,1.1,1.05,1.08,1.22,1.15,1.08,1.13,1.08,1.08,1.07,1.08,1.1,1.08,1.08,1.21,1.08,1.08,1.16,1.22,1.07,1.1,1.13,1.08,1.07,1.08,1.1,1.1,1.08,1.12,1.05,1.07,1.13,1.08,1.15,1.05,1.07,1.05,1.1,1.07,1.19,1.07,1.07,1.08,1.08,1.07,1.08,1.05,1.08,1.08,1.1,1.08,1.07,1.08,1.05,1.08,1.07,1.08,1.08],\"y0\":\" \",\"yaxis\":\"y\",\"type\":\"violin\"}],                        {\"template\":{\"data\":{\"histogram2dcontour\":[{\"type\":\"histogram2dcontour\",\"colorbar\":{\"outlinewidth\":0,\"ticks\":\"\"},\"colorscale\":[[0.0,\"#0d0887\"],[0.1111111111111111,\"#46039f\"],[0.2222222222222222,\"#7201a8\"],[0.3333333333333333,\"#9c179e\"],[0.4444444444444444,\"#bd3786\"],[0.5555555555555556,\"#d8576b\"],[0.6666666666666666,\"#ed7953\"],[0.7777777777777778,\"#fb9f3a\"],[0.8888888888888888,\"#fdca26\"],[1.0,\"#f0f921\"]]}],\"choropleth\":[{\"type\":\"choropleth\",\"colorbar\":{\"outlinewidth\":0,\"ticks\":\"\"}}],\"histogram2d\":[{\"type\":\"histogram2d\",\"colorbar\":{\"outlinewidth\":0,\"ticks\":\"\"},\"colorscale\":[[0.0,\"#0d0887\"],[0.1111111111111111,\"#46039f\"],[0.2222222222222222,\"#7201a8\"],[0.3333333333333333,\"#9c179e\"],[0.4444444444444444,\"#bd3786\"],[0.5555555555555556,\"#d8576b\"],[0.6666666666666666,\"#ed7953\"],[0.7777777777777778,\"#fb9f3a\"],[0.8888888888888888,\"#fdca26\"],[1.0,\"#f0f921\"]]}],\"heatmap\":[{\"type\":\"heatmap\",\"colorbar\":{\"outlinewidth\":0,\"ticks\":\"\"},\"colorscale\":[[0.0,\"#0d0887\"],[0.1111111111111111,\"#46039f\"],[0.2222222222222222,\"#7201a8\"],[0.3333333333333333,\"#9c179e\"],[0.4444444444444444,\"#bd3786\"],[0.5555555555555556,\"#d8576b\"],[0.6666666666666666,\"#ed7953\"],[0.7777777777777778,\"#fb9f3a\"],[0.8888888888888888,\"#fdca26\"],[1.0,\"#f0f921\"]]}],\"heatmapgl\":[{\"type\":\"heatmapgl\",\"colorbar\":{\"outlinewidth\":0,\"ticks\":\"\"},\"colorscale\":[[0.0,\"#0d0887\"],[0.1111111111111111,\"#46039f\"],[0.2222222222222222,\"#7201a8\"],[0.3333333333333333,\"#9c179e\"],[0.4444444444444444,\"#bd3786\"],[0.5555555555555556,\"#d8576b\"],[0.6666666666666666,\"#ed7953\"],[0.7777777777777778,\"#fb9f3a\"],[0.8888888888888888,\"#fdca26\"],[1.0,\"#f0f921\"]]}],\"contourcarpet\":[{\"type\":\"contourcarpet\",\"colorbar\":{\"outlinewidth\":0,\"ticks\":\"\"}}],\"contour\":[{\"type\":\"contour\",\"colorbar\":{\"outlinewidth\":0,\"ticks\":\"\"},\"colorscale\":[[0.0,\"#0d0887\"],[0.1111111111111111,\"#46039f\"],[0.2222222222222222,\"#7201a8\"],[0.3333333333333333,\"#9c179e\"],[0.4444444444444444,\"#bd3786\"],[0.5555555555555556,\"#d8576b\"],[0.6666666666666666,\"#ed7953\"],[0.7777777777777778,\"#fb9f3a\"],[0.8888888888888888,\"#fdca26\"],[1.0,\"#f0f921\"]]}],\"surface\":[{\"type\":\"surface\",\"colorbar\":{\"outlinewidth\":0,\"ticks\":\"\"},\"colorscale\":[[0.0,\"#0d0887\"],[0.1111111111111111,\"#46039f\"],[0.2222222222222222,\"#7201a8\"],[0.3333333333333333,\"#9c179e\"],[0.4444444444444444,\"#bd3786\"],[0.5555555555555556,\"#d8576b\"],[0.6666666666666666,\"#ed7953\"],[0.7777777777777778,\"#fb9f3a\"],[0.8888888888888888,\"#fdca26\"],[1.0,\"#f0f921\"]]}],\"mesh3d\":[{\"type\":\"mesh3d\",\"colorbar\":{\"outlinewidth\":0,\"ticks\":\"\"}}],\"scatter\":[{\"fillpattern\":{\"fillmode\":\"overlay\",\"size\":10,\"solidity\":0.2},\"type\":\"scatter\"}],\"parcoords\":[{\"type\":\"parcoords\",\"line\":{\"colorbar\":{\"outlinewidth\":0,\"ticks\":\"\"}}}],\"scatterpolargl\":[{\"type\":\"scatterpolargl\",\"marker\":{\"colorbar\":{\"outlinewidth\":0,\"ticks\":\"\"}}}],\"bar\":[{\"error_x\":{\"color\":\"#2a3f5f\"},\"error_y\":{\"color\":\"#2a3f5f\"},\"marker\":{\"line\":{\"color\":\"#E5ECF6\",\"width\":0.5},\"pattern\":{\"fillmode\":\"overlay\",\"size\":10,\"solidity\":0.2}},\"type\":\"bar\"}],\"scattergeo\":[{\"type\":\"scattergeo\",\"marker\":{\"colorbar\":{\"outlinewidth\":0,\"ticks\":\"\"}}}],\"scatterpolar\":[{\"type\":\"scatterpolar\",\"marker\":{\"colorbar\":{\"outlinewidth\":0,\"ticks\":\"\"}}}],\"histogram\":[{\"marker\":{\"pattern\":{\"fillmode\":\"overlay\",\"size\":10,\"solidity\":0.2}},\"type\":\"histogram\"}],\"scattergl\":[{\"type\":\"scattergl\",\"marker\":{\"colorbar\":{\"outlinewidth\":0,\"ticks\":\"\"}}}],\"scatter3d\":[{\"type\":\"scatter3d\",\"line\":{\"colorbar\":{\"outlinewidth\":0,\"ticks\":\"\"}},\"marker\":{\"colorbar\":{\"outlinewidth\":0,\"ticks\":\"\"}}}],\"scattermapbox\":[{\"type\":\"scattermapbox\",\"marker\":{\"colorbar\":{\"outlinewidth\":0,\"ticks\":\"\"}}}],\"scatterternary\":[{\"type\":\"scatterternary\",\"marker\":{\"colorbar\":{\"outlinewidth\":0,\"ticks\":\"\"}}}],\"scattercarpet\":[{\"type\":\"scattercarpet\",\"marker\":{\"colorbar\":{\"outlinewidth\":0,\"ticks\":\"\"}}}],\"carpet\":[{\"aaxis\":{\"endlinecolor\":\"#2a3f5f\",\"gridcolor\":\"white\",\"linecolor\":\"white\",\"minorgridcolor\":\"white\",\"startlinecolor\":\"#2a3f5f\"},\"baxis\":{\"endlinecolor\":\"#2a3f5f\",\"gridcolor\":\"white\",\"linecolor\":\"white\",\"minorgridcolor\":\"white\",\"startlinecolor\":\"#2a3f5f\"},\"type\":\"carpet\"}],\"table\":[{\"cells\":{\"fill\":{\"color\":\"#EBF0F8\"},\"line\":{\"color\":\"white\"}},\"header\":{\"fill\":{\"color\":\"#C8D4E3\"},\"line\":{\"color\":\"white\"}},\"type\":\"table\"}],\"barpolar\":[{\"marker\":{\"line\":{\"color\":\"#E5ECF6\",\"width\":0.5},\"pattern\":{\"fillmode\":\"overlay\",\"size\":10,\"solidity\":0.2}},\"type\":\"barpolar\"}],\"pie\":[{\"automargin\":true,\"type\":\"pie\"}]},\"layout\":{\"autotypenumbers\":\"strict\",\"colorway\":[\"#636efa\",\"#EF553B\",\"#00cc96\",\"#ab63fa\",\"#FFA15A\",\"#19d3f3\",\"#FF6692\",\"#B6E880\",\"#FF97FF\",\"#FECB52\"],\"font\":{\"color\":\"#2a3f5f\"},\"hovermode\":\"closest\",\"hoverlabel\":{\"align\":\"left\"},\"paper_bgcolor\":\"white\",\"plot_bgcolor\":\"#E5ECF6\",\"polar\":{\"bgcolor\":\"#E5ECF6\",\"angularaxis\":{\"gridcolor\":\"white\",\"linecolor\":\"white\",\"ticks\":\"\"},\"radialaxis\":{\"gridcolor\":\"white\",\"linecolor\":\"white\",\"ticks\":\"\"}},\"ternary\":{\"bgcolor\":\"#E5ECF6\",\"aaxis\":{\"gridcolor\":\"white\",\"linecolor\":\"white\",\"ticks\":\"\"},\"baxis\":{\"gridcolor\":\"white\",\"linecolor\":\"white\",\"ticks\":\"\"},\"caxis\":{\"gridcolor\":\"white\",\"linecolor\":\"white\",\"ticks\":\"\"}},\"coloraxis\":{\"colorbar\":{\"outlinewidth\":0,\"ticks\":\"\"}},\"colorscale\":{\"sequential\":[[0.0,\"#0d0887\"],[0.1111111111111111,\"#46039f\"],[0.2222222222222222,\"#7201a8\"],[0.3333333333333333,\"#9c179e\"],[0.4444444444444444,\"#bd3786\"],[0.5555555555555556,\"#d8576b\"],[0.6666666666666666,\"#ed7953\"],[0.7777777777777778,\"#fb9f3a\"],[0.8888888888888888,\"#fdca26\"],[1.0,\"#f0f921\"]],\"sequentialminus\":[[0.0,\"#0d0887\"],[0.1111111111111111,\"#46039f\"],[0.2222222222222222,\"#7201a8\"],[0.3333333333333333,\"#9c179e\"],[0.4444444444444444,\"#bd3786\"],[0.5555555555555556,\"#d8576b\"],[0.6666666666666666,\"#ed7953\"],[0.7777777777777778,\"#fb9f3a\"],[0.8888888888888888,\"#fdca26\"],[1.0,\"#f0f921\"]],\"diverging\":[[0,\"#8e0152\"],[0.1,\"#c51b7d\"],[0.2,\"#de77ae\"],[0.3,\"#f1b6da\"],[0.4,\"#fde0ef\"],[0.5,\"#f7f7f7\"],[0.6,\"#e6f5d0\"],[0.7,\"#b8e186\"],[0.8,\"#7fbc41\"],[0.9,\"#4d9221\"],[1,\"#276419\"]]},\"xaxis\":{\"gridcolor\":\"white\",\"linecolor\":\"white\",\"ticks\":\"\",\"title\":{\"standoff\":15},\"zerolinecolor\":\"white\",\"automargin\":true,\"zerolinewidth\":2},\"yaxis\":{\"gridcolor\":\"white\",\"linecolor\":\"white\",\"ticks\":\"\",\"title\":{\"standoff\":15},\"zerolinecolor\":\"white\",\"automargin\":true,\"zerolinewidth\":2},\"scene\":{\"xaxis\":{\"backgroundcolor\":\"#E5ECF6\",\"gridcolor\":\"white\",\"linecolor\":\"white\",\"showbackground\":true,\"ticks\":\"\",\"zerolinecolor\":\"white\",\"gridwidth\":2},\"yaxis\":{\"backgroundcolor\":\"#E5ECF6\",\"gridcolor\":\"white\",\"linecolor\":\"white\",\"showbackground\":true,\"ticks\":\"\",\"zerolinecolor\":\"white\",\"gridwidth\":2},\"zaxis\":{\"backgroundcolor\":\"#E5ECF6\",\"gridcolor\":\"white\",\"linecolor\":\"white\",\"showbackground\":true,\"ticks\":\"\",\"zerolinecolor\":\"white\",\"gridwidth\":2}},\"shapedefaults\":{\"line\":{\"color\":\"#2a3f5f\"}},\"annotationdefaults\":{\"arrowcolor\":\"#2a3f5f\",\"arrowhead\":0,\"arrowwidth\":1},\"geo\":{\"bgcolor\":\"white\",\"landcolor\":\"#E5ECF6\",\"subunitcolor\":\"white\",\"showland\":true,\"showlakes\":true,\"lakecolor\":\"white\"},\"title\":{\"x\":0.05},\"mapbox\":{\"style\":\"light\"}}},\"xaxis\":{\"anchor\":\"y\",\"domain\":[0.0,1.0]},\"yaxis\":{\"anchor\":\"x\",\"domain\":[0.0,1.0],\"title\":{\"text\":\"bayesian_avg\"}},\"legend\":{\"tracegroupgap\":0},\"margin\":{\"t\":60},\"violinmode\":\"group\"},                        {\"responsive\": true}                    ).then(function(){\n",
       "                            \n",
       "var gd = document.getElementById('ece812d8-6f94-425d-9268-d5c38c9f44b9');\n",
       "var x = new MutationObserver(function (mutations, observer) {{\n",
       "        var display = window.getComputedStyle(gd).display;\n",
       "        if (!display || display === 'none') {{\n",
       "            console.log([gd, 'removed!']);\n",
       "            Plotly.purge(gd);\n",
       "            observer.disconnect();\n",
       "        }}\n",
       "}});\n",
       "\n",
       "// Listen for the removal of the full notebook cells\n",
       "var notebookContainer = gd.closest('#notebook-container');\n",
       "if (notebookContainer) {{\n",
       "    x.observe(notebookContainer, {childList: true});\n",
       "}}\n",
       "\n",
       "// Listen for the clearing of the current output cell\n",
       "var outputEl = gd.closest('.output');\n",
       "if (outputEl) {{\n",
       "    x.observe(outputEl, {childList: true});\n",
       "}}\n",
       "\n",
       "                        })                };                });            </script>        </div>"
      ]
     },
     "metadata": {},
     "output_type": "display_data"
    }
   ],
   "source": [
    "# violin plot based on movies_stats \n",
    "fig = px.violin(movies_stats, y=\"bayesian_avg\", box=True, points=\"all\",\n",
    "          hover_data=movies_stats.columns)\n",
    "fig.show()"
   ]
  },
  {
   "cell_type": "code",
   "execution_count": 84,
   "metadata": {},
   "outputs": [
    {
     "data": {
      "application/vnd.plotly.v1+json": {
       "config": {
        "plotlyServerURL": "https://plot.ly"
       },
       "data": [
        {
         "alignmentgroup": "True",
         "box": {
          "visible": true
         },
         "customdata": [
          [
           1,
           452,
           3.55,
           "Toy Story (1995)"
          ],
          [
           2,
           131,
           2.53,
           "GoldenEye (1995)"
          ],
          [
           3,
           90,
           2.25,
           "Four Rooms (1995)"
          ],
          [
           4,
           209,
           3,
           "Get Shorty (1995)"
          ],
          [
           5,
           86,
           2.38,
           "Copycat (1995)"
          ],
          [
           6,
           26,
           1.82,
           "Shanghai Triad (Yao a yao yao dao waipo qiao) (1995)"
          ],
          [
           7,
           392,
           3.44,
           "Twelve Monkeys (1995)"
          ],
          [
           8,
           219,
           3.37,
           "Babe (1995)"
          ],
          [
           9,
           299,
           3.42,
           "Dead Man Walking (1995)"
          ],
          [
           10,
           89,
           2.72,
           "Richard III (1995)"
          ],
          [
           11,
           236,
           3.28,
           "Seven (Se7en) (1995)"
          ],
          [
           12,
           267,
           3.78,
           "Usual Suspects, The (1995)"
          ],
          [
           13,
           184,
           2.84,
           "Mighty Aphrodite (1995)"
          ],
          [
           14,
           183,
           3.25,
           "Postino, Il (1994)"
          ],
          [
           15,
           293,
           3.32,
           "Mr. Holland's Opus (1995)"
          ],
          [
           16,
           39,
           1.9,
           "French Twist (Gazon maudit) (1995)"
          ],
          [
           17,
           92,
           2.31,
           "From Dusk Till Dawn (1996)"
          ],
          [
           18,
           10,
           1.3,
           "White Balloon, The (1995)"
          ],
          [
           19,
           69,
           2.61,
           "Antonia's Line (1995)"
          ],
          [
           20,
           72,
           2.35,
           "Angels and Insects (1995)"
          ],
          [
           21,
           84,
           2.05,
           "Muppet Treasure Island (1996)"
          ],
          [
           22,
           297,
           3.63,
           "Braveheart (1995)"
          ],
          [
           23,
           182,
           3.37,
           "Taxi Driver (1976)"
          ],
          [
           24,
           174,
           2.84,
           "Rumble in the Bronx (1995)"
          ],
          [
           25,
           293,
           3.04,
           "Birdcage, The (1996)"
          ],
          [
           26,
           73,
           2.37,
           "Brothers McMullen, The (1995)"
          ],
          [
           27,
           57,
           2.06,
           "Bad Boys (1995)"
          ],
          [
           28,
           276,
           3.42,
           "Apollo 13 (1995)"
          ],
          [
           29,
           114,
           2.11,
           "Batman Forever (1995)"
          ],
          [
           30,
           37,
           2.16,
           "Belle de jour (1967)"
          ],
          [
           31,
           154,
           2.91,
           "Crimson Tide (1995)"
          ],
          [
           32,
           81,
           2.63,
           "Crumb (1994)"
          ],
          [
           33,
           97,
           2.54,
           "Desperado (1995)"
          ],
          [
           34,
           7,
           1.23,
           "Doom Generation, The (1995)"
          ],
          [
           35,
           11,
           1.23,
           "Free Willy 2: The Adventure Home (1995)"
          ],
          [
           36,
           13,
           1.25,
           "Mad Love (1995)"
          ],
          [
           37,
           8,
           1.19,
           "Nadja (1994)"
          ],
          [
           38,
           120,
           2.36,
           "Net, The (1995)"
          ],
          [
           39,
           87,
           2.37,
           "Strange Days (1995)"
          ],
          [
           40,
           57,
           1.95,
           "To Wong Foo, Thanks for Everything! Julie Newmar (1995)"
          ],
          [
           41,
           37,
           1.83,
           "Billy Madison (1995)"
          ],
          [
           42,
           148,
           3.02,
           "Clerks (1994)"
          ],
          [
           43,
           40,
           1.84,
           "Disclosure (1994)"
          ],
          [
           44,
           79,
           2.36,
           "Dolores Claiborne (1994)"
          ],
          [
           45,
           80,
           2.77,
           "Eat Drink Man Woman (1994)"
          ],
          [
           46,
           27,
           1.83,
           "Exotica (1994)"
          ],
          [
           47,
           133,
           2.81,
           "Ed Wood (1994)"
          ],
          [
           48,
           117,
           3.07,
           "Hoop Dreams (1994)"
          ],
          [
           49,
           81,
           2.36,
           "I.Q. (1994)"
          ],
          [
           50,
           583,
           4.05,
           "Star Wars (1977)"
          ],
          [
           51,
           81,
           2.44,
           "Legends of the Fall (1994)"
          ],
          [
           52,
           91,
           2.7,
           "Madness of King George, The (1994)"
          ],
          [
           53,
           128,
           2.35,
           "Natural Born Killers (1994)"
          ],
          [
           54,
           104,
           2.44,
           "Outbreak (1995)"
          ],
          [
           55,
           149,
           2.95,
           "Professional, The (1994)"
          ],
          [
           56,
           394,
           3.67,
           "Pulp Fiction (1994)"
          ],
          [
           57,
           40,
           2.24,
           "Priest (1994)"
          ],
          [
           58,
           175,
           2.99,
           "Quiz Show (1994)"
          ],
          [
           59,
           83,
           2.8,
           "Three Colors: Red (1994)"
          ],
          [
           60,
           64,
           2.59,
           "Three Colors: Blue (1993)"
          ],
          [
           61,
           59,
           2.45,
           "Three Colors: White (1994)"
          ],
          [
           62,
           127,
           2.48,
           "Stargate (1994)"
          ],
          [
           63,
           82,
           2.24,
           "Santa Clause, The (1994)"
          ],
          [
           64,
           283,
           3.86,
           "Shawshank Redemption, The (1994)"
          ],
          [
           65,
           115,
           2.69,
           "What's Eating Gilbert Grape (1993)"
          ],
          [
           66,
           162,
           2.88,
           "While You Were Sleeping (1995)"
          ],
          [
           67,
           103,
           2.32,
           "Ace Ventura: Pet Detective (1994)"
          ],
          [
           68,
           134,
           2.69,
           "Crow, The (1994)"
          ],
          [
           69,
           321,
           3.42,
           "Forrest Gump (1994)"
          ],
          [
           70,
           251,
           3.16,
           "Four Weddings and a Funeral (1994)"
          ],
          [
           71,
           220,
           3.2,
           "Lion King, The (1994)"
          ],
          [
           72,
           129,
           2.52,
           "Mask, The (1994)"
          ],
          [
           73,
           128,
           2.7,
           "Maverick (1994)"
          ],
          [
           74,
           7,
           1.26,
           "Faster Pussycat! Kill! Kill! (1965)"
          ],
          [
           75,
           5,
           1.2,
           "Brother Minister: The Assassination of Malcolm X (1994)"
          ],
          [
           76,
           54,
           2.17,
           "Carlito's Way (1993)"
          ],
          [
           77,
           151,
           2.65,
           "Firm, The (1993)"
          ],
          [
           78,
           33,
           1.55,
           "Free Willy (1993)"
          ],
          [
           79,
           336,
           3.59,
           "Fugitive, The (1993)"
          ],
          [
           80,
           68,
           1.97,
           "Hot Shots! Part Deux (1993)"
          ],
          [
           81,
           110,
           2.68,
           "Hudsucker Proxy, The (1994)"
          ],
          [
           82,
           261,
           3.23,
           "Jurassic Park (1993)"
          ],
          [
           83,
           176,
           3.3,
           "Much Ado About Nothing (1993)"
          ],
          [
           84,
           18,
           1.5,
           "Robert A. Heinlein's The Puppet Masters (1994)"
          ],
          [
           85,
           58,
           2.03,
           "Ref, The (1994)"
          ],
          [
           86,
           150,
           3.12,
           "Remains of the Day, The (1993)"
          ],
          [
           87,
           138,
           3.05,
           "Searching for Bobby Fischer (1993)"
          ],
          [
           88,
           213,
           3,
           "Sleepless in Seattle (1993)"
          ],
          [
           89,
           275,
           3.59,
           "Blade Runner (1982)"
          ],
          [
           90,
           95,
           2.28,
           "So I Married an Axe Murderer (1993)"
          ],
          [
           91,
           143,
           2.84,
           "Nightmare Before Christmas, The (1993)"
          ],
          [
           92,
           104,
           2.68,
           "True Romance (1993)"
          ],
          [
           93,
           112,
           2.8,
           "Welcome to the Dollhouse (1995)"
          ],
          [
           94,
           137,
           2.47,
           "Home Alone (1990)"
          ],
          [
           95,
           219,
           3.22,
           "Aladdin (1992)"
          ],
          [
           96,
           295,
           3.51,
           "Terminator 2: Judgment Day (1991)"
          ],
          [
           97,
           256,
           3.28,
           "Dances with Wolves (1990)"
          ],
          [
           98,
           390,
           3.86,
           "Silence of the Lambs, The (1991)"
          ],
          [
           99,
           172,
           3.03,
           "Snow White and the Seven Dwarfs (1937)"
          ],
          [
           100,
           508,
           3.83,
           "Fargo (1996)"
          ],
          [
           101,
           73,
           2.27,
           "Heavy Metal (1981)"
          ],
          [
           102,
           54,
           2.04,
           "Aristocats, The (1970)"
          ],
          [
           103,
           15,
           1.22,
           "All Dogs Go to Heaven 2 (1996)"
          ],
          [
           104,
           5,
           1.08,
           "Theodore Rex (1995)"
          ],
          [
           105,
           74,
           1.89,
           "Sgt. Bilko (1996)"
          ],
          [
           106,
           71,
           2.05,
           "Diabolique (1996)"
          ],
          [
           107,
           42,
           2.07,
           "Moll Flanders (1996)"
          ],
          [
           108,
           65,
           2.11,
           "Kids in the Hall: Brain Candy (1996)"
          ],
          [
           109,
           130,
           2.68,
           "Mystery Science Theater 3000: The Movie (1996)"
          ],
          [
           110,
           31,
           1.55,
           "Operation Dumbo Drop (1995)"
          ],
          [
           111,
           272,
           3.05,
           "Truth About Cats & Dogs, The (1996)"
          ],
          [
           112,
           20,
           1.4,
           "Flipper (1996)"
          ],
          [
           113,
           9,
           1.45,
           "Horseman on the Roof, The (Hussard sur le toit, Le) (1995)"
          ],
          [
           114,
           67,
           2.85,
           "Wallace & Gromit: The Best of Aardman Animation (1996)"
          ],
          [
           115,
           15,
           1.59,
           "Haunted World of Edward D. Wood Jr., The (1995)"
          ],
          [
           116,
           125,
           2.93,
           "Cold Comfort Farm (1995)"
          ],
          [
           117,
           378,
           3.33,
           "Rock, The (1996)"
          ],
          [
           118,
           293,
           2.85,
           "Twister (1996)"
          ],
          [
           119,
           4,
           1.27,
           "Maya Lin: A Strong Clear Vision (1994)"
          ],
          [
           120,
           67,
           1.68,
           "Striptease (1996)"
          ],
          [
           121,
           429,
           3.15,
           "Independence Day (ID4) (1996)"
          ],
          [
           122,
           106,
           1.88,
           "Cable Guy, The (1996)"
          ],
          [
           123,
           115,
           2.49,
           "Frighteners, The (1996)"
          ],
          [
           124,
           187,
           3.33,
           "Lone Star (1996)"
          ],
          [
           125,
           244,
           3.07,
           "Phenomenon (1996)"
          ],
          [
           126,
           97,
           2.76,
           "Spitfire Grill, The (1996)"
          ],
          [
           127,
           413,
           3.88,
           "Godfather, The (1972)"
          ],
          [
           128,
           65,
           2.35,
           "Supercop (1992)"
          ],
          [
           129,
           129,
           2.95,
           "Bound (1996)"
          ],
          [
           130,
           23,
           1.39,
           "Kansas City (1996)"
          ],
          [
           131,
           95,
           2.7,
           "Breakfast at Tiffany's (1961)"
          ],
          [
           132,
           246,
           3.49,
           "Wizard of Oz, The (1939)"
          ],
          [
           133,
           171,
           3.14,
           "Gone with the Wind (1939)"
          ],
          [
           134,
           198,
           3.54,
           "Citizen Kane (1941)"
          ],
          [
           135,
           259,
           3.42,
           "2001: A Space Odyssey (1968)"
          ],
          [
           136,
           105,
           3.01,
           "Mr. Smith Goes to Washington (1939)"
          ],
          [
           137,
           171,
           3.17,
           "Big Night (1996)"
          ],
          [
           138,
           19,
           1.42,
           "D3: The Mighty Ducks (1996)"
          ],
          [
           139,
           50,
           1.84,
           "Love Bug, The (1969)"
          ],
          [
           140,
           61,
           2.15,
           "Homeward Bound: The Incredible Journey (1993)"
          ],
          [
           141,
           72,
           2.39,
           "20,000 Leagues Under the Sea (1954)"
          ],
          [
           142,
           57,
           2.04,
           "Bedknobs and Broomsticks (1971)"
          ],
          [
           143,
           222,
           3.19,
           "Sound of Music, The (1965)"
          ],
          [
           144,
           243,
           3.32,
           "Die Hard (1988)"
          ],
          [
           145,
           65,
           1.78,
           "Lawnmower Man, The (1992)"
          ],
          [
           146,
           10,
           1.26,
           "Unhook the Stars (1996)"
          ],
          [
           147,
           185,
           2.88,
           "Long Kiss Goodnight, The (1996)"
          ],
          [
           148,
           128,
           2.52,
           "Ghost and the Darkness, The (1996)"
          ],
          [
           149,
           23,
           1.6,
           "Jude (1996)"
          ],
          [
           150,
           157,
           3.07,
           "Swingers (1996)"
          ],
          [
           151,
           326,
           3.23,
           "Willy Wonka and the Chocolate Factory (1971)"
          ],
          [
           152,
           82,
           2.55,
           "Sleeper (1973)"
          ],
          [
           153,
           247,
           3.26,
           "Fish Called Wanda, A (1988)"
          ],
          [
           154,
           174,
           3.06,
           "Monty Python's Life of Brian (1979)"
          ],
          [
           155,
           98,
           2.33,
           "Dirty Dancing (1987)"
          ],
          [
           156,
           148,
           3.15,
           "Reservoir Dogs (1992)"
          ],
          [
           157,
           127,
           2.85,
           "Platoon (1986)"
          ],
          [
           158,
           60,
           1.84,
           "Weekend at Bernie's (1989)"
          ],
          [
           159,
           101,
           2.42,
           "Basic Instinct (1992)"
          ],
          [
           160,
           69,
           2.35,
           "Glengarry Glen Ross (1992)"
          ],
          [
           161,
           220,
           2.96,
           "Top Gun (1986)"
          ],
          [
           162,
           106,
           2.66,
           "On Golden Pond (1981)"
          ],
          [
           163,
           92,
           2.57,
           "Return of the Pink Panther, The (1974)"
          ],
          [
           164,
           151,
           2.87,
           "Abyss, The (1989)"
          ],
          [
           165,
           64,
           2.64,
           "Jean de Florette (1986)"
          ],
          [
           166,
           58,
           2.57,
           "Manon of the Spring (Manon des sources) (1986)"
          ],
          [
           167,
           67,
           2.06,
           "Private Benjamin (1980)"
          ],
          [
           168,
           316,
           3.59,
           "Monty Python and the Holy Grail (1974)"
          ],
          [
           169,
           118,
           3.32,
           "Wrong Trousers, The (1993)"
          ],
          [
           170,
           121,
           3.15,
           "Cinema Paradiso (1988)"
          ],
          [
           171,
           65,
           2.53,
           "Delicatessen (1991)"
          ],
          [
           172,
           367,
           3.76,
           "Empire Strikes Back, The (1980)"
          ],
          [
           173,
           324,
           3.69,
           "Princess Bride, The (1987)"
          ],
          [
           174,
           420,
           3.86,
           "Raiders of the Lost Ark (1981)"
          ],
          [
           175,
           208,
           3.2,
           "Brazil (1985)"
          ],
          [
           176,
           284,
           3.45,
           "Aliens (1986)"
          ],
          [
           177,
           137,
           3.01,
           "Good, The Bad and The Ugly, The (1966)"
          ],
          [
           178,
           125,
           3.28,
           "12 Angry Men (1957)"
          ],
          [
           179,
           221,
           3.3,
           "Clockwork Orange, A (1971)"
          ],
          [
           180,
           221,
           3.41,
           "Apocalypse Now (1979)"
          ],
          [
           181,
           507,
           3.7,
           "Return of the Jedi (1983)"
          ],
          [
           182,
           226,
           3.35,
           "GoodFellas (1990)"
          ],
          [
           183,
           291,
           3.53,
           "Alien (1979)"
          ],
          [
           184,
           116,
           2.62,
           "Army of Darkness (1993)"
          ],
          [
           185,
           239,
           3.49,
           "Psycho (1960)"
          ],
          [
           186,
           251,
           3.3,
           "Blues Brothers, The (1980)"
          ],
          [
           187,
           209,
           3.49,
           "Godfather: Part II, The (1974)"
          ],
          [
           188,
           170,
           3,
           "Full Metal Jacket (1987)"
          ],
          [
           189,
           66,
           2.66,
           "Grand Day Out, A (1992)"
          ],
          [
           190,
           124,
           3.14,
           "Henry V (1989)"
          ],
          [
           191,
           276,
           3.61,
           "Amadeus (1984)"
          ],
          [
           192,
           116,
           3.08,
           "Raging Bull (1980)"
          ],
          [
           193,
           157,
           3.13,
           "Right Stuff, The (1983)"
          ],
          [
           194,
           241,
           3.46,
           "Sting, The (1973)"
          ],
          [
           195,
           301,
           3.46,
           "Terminator, The (1984)"
          ],
          [
           196,
           251,
           3.37,
           "Dead Poets Society (1989)"
          ],
          [
           197,
           239,
           3.5,
           "Graduate, The (1967)"
          ],
          [
           198,
           127,
           3.07,
           "Nikita (La Femme Nikita) (1990)"
          ],
          [
           199,
           165,
           3.35,
           "Bridge on the River Kwai, The (1957)"
          ],
          [
           200,
           206,
           3.2,
           "Shining, The (1980)"
          ],
          [
           201,
           89,
           2.53,
           "Evil Dead II (1987)"
          ],
          [
           202,
           280,
           3.29,
           "Groundhog Day (1993)"
          ],
          [
           203,
           182,
           3.17,
           "Unforgiven (1992)"
          ],
          [
           204,
           350,
           3.43,
           "Back to the Future (1985)"
          ],
          [
           205,
           136,
           3.1,
           "Patton (1970)"
          ],
          [
           206,
           50,
           2.12,
           "Akira (1988)"
          ],
          [
           207,
           66,
           2.51,
           "Cyrano de Bergerac (1990)"
          ],
          [
           208,
           200,
           3.28,
           "Young Frankenstein (1974)"
          ],
          [
           209,
           191,
           3.23,
           "This Is Spinal Tap (1984)"
          ],
          [
           210,
           331,
           3.49,
           "Indiana Jones and the Last Crusade (1989)"
          ],
          [
           211,
           206,
           3.27,
           "M*A*S*H (1970)"
          ],
          [
           212,
           92,
           2.51,
           "Unbearable Lightness of Being, The (1988)"
          ],
          [
           213,
           134,
           3.08,
           "Room with a View, A (1986)"
          ],
          [
           214,
           114,
           2.56,
           "Pink Floyd - The Wall (1982)"
          ],
          [
           215,
           212,
           3.12,
           "Field of Dreams (1989)"
          ],
          [
           216,
           290,
           3.42,
           "When Harry Met Sally... (1989)"
          ],
          [
           217,
           120,
           2.46,
           "Bram Stoker's Dracula (1992)"
          ],
          [
           218,
           171,
           2.84,
           "Cape Fear (1991)"
          ],
          [
           219,
           111,
           2.43,
           "Nightmare on Elm Street, A (1984)"
          ],
          [
           220,
           66,
           2.27,
           "Mirror Has Two Faces, The (1996)"
          ],
          [
           221,
           74,
           2.54,
           "Breaking the Waves (1996)"
          ],
          [
           222,
           365,
           3.29,
           "Star Trek: First Contact (1996)"
          ],
          [
           223,
           136,
           3.24,
           "Sling Blade (1996)"
          ],
          [
           224,
           44,
           2.18,
           "Ridicule (1996)"
          ],
          [
           225,
           109,
           2.25,
           "101 Dalmatians (1996)"
          ],
          [
           226,
           166,
           2.75,
           "Die Hard 2 (1990)"
          ],
          [
           227,
           161,
           2.68,
           "Star Trek VI: The Undiscovered Country (1991)"
          ],
          [
           228,
           244,
           3.27,
           "Star Trek: The Wrath of Khan (1982)"
          ],
          [
           229,
           171,
           2.58,
           "Star Trek III: The Search for Spock (1984)"
          ],
          [
           230,
           199,
           2.9,
           "Star Trek IV: The Voyage Home (1986)"
          ],
          [
           231,
           142,
           2.2,
           "Batman Returns (1992)"
          ],
          [
           232,
           101,
           2.41,
           "Young Guns (1988)"
          ],
          [
           233,
           124,
           2.56,
           "Under Siege (1992)"
          ],
          [
           234,
           280,
           3.3,
           "Jaws (1975)"
          ],
          [
           235,
           217,
           2.46,
           "Mars Attacks! (1996)"
          ],
          [
           236,
           45,
           2.16,
           "Citizen Ruth (1996)"
          ],
          [
           237,
           384,
           3.35,
           "Jerry Maguire (1996)"
          ],
          [
           238,
           256,
           3.34,
           "Raising Arizona (1987)"
          ],
          [
           239,
           150,
           2.81,
           "Sneakers (1992)"
          ],
          [
           240,
           156,
           2.31,
           "Beavis and Butt-head Do America (1996)"
          ],
          [
           241,
           128,
           2.76,
           "Last of the Mohicans, The (1992)"
          ],
          [
           242,
           117,
           3,
           "Kolya (1996)"
          ],
          [
           243,
           132,
           2.01,
           "Jungle2Jungle (1997)"
          ],
          [
           244,
           48,
           2,
           "Smilla's Sense of Snow (1997)"
          ],
          [
           245,
           240,
           2.7,
           "Devil's Own, The (1997)"
          ],
          [
           246,
           124,
           3,
           "Chasing Amy (1997)"
          ],
          [
           247,
           5,
           1.11,
           "Turbo: A Power Rangers Movie (1997)"
          ],
          [
           248,
           160,
           2.96,
           "Grosse Pointe Blank (1997)"
          ],
          [
           249,
           130,
           2.56,
           "Austin Powers: International Man of Mystery (1997)"
          ],
          [
           250,
           197,
           2.91,
           "Fifth Element, The (1997)"
          ],
          [
           251,
           46,
           2.45,
           "Shall We Dance? (1996)"
          ],
          [
           252,
           158,
           2.43,
           "Lost World: Jurassic Park, The (1997)"
          ],
          [
           253,
           26,
           1.86,
           "Pillow Book, The (1995)"
          ],
          [
           254,
           62,
           1.77,
           "Batman & Robin (1997)"
          ],
          [
           255,
           172,
           2.77,
           "My Best Friend's Wedding (1997)"
          ],
          [
           256,
           16,
           1.58,
           "When the Cats Away (Chacun cherche son chat) (1996)"
          ],
          [
           257,
           303,
           3.3,
           "Men in Black (1997)"
          ],
          [
           258,
           509,
           3.52,
           "Contact (1997)"
          ],
          [
           259,
           162,
           2.25,
           "George of the Jungle (1997)"
          ],
          [
           260,
           127,
           2.09,
           "Event Horizon (1997)"
          ],
          [
           261,
           43,
           1.68,
           "Air Bud (1997)"
          ],
          [
           262,
           66,
           2.45,
           "In the Company of Men (1997)"
          ],
          [
           263,
           19,
           1.32,
           "Steel (1997)"
          ],
          [
           264,
           101,
           2.12,
           "Mimic (1997)"
          ],
          [
           265,
           227,
           3.28,
           "Hunt for Red October, The (1990)"
          ],
          [
           266,
           35,
           1.67,
           "Kull the Conqueror (1997)"
          ],
          [
           267,
           9,
           1.37,
           "unknown"
          ],
          [
           268,
           255,
           3.27,
           "Chasing Amy (1997)"
          ],
          [
           269,
           315,
           3.47,
           "Full Monty, The (1997)"
          ],
          [
           270,
           136,
           2.82,
           "Gattaca (1997)"
          ],
          [
           271,
           211,
           2.75,
           "Starship Troopers (1997)"
          ],
          [
           272,
           198,
           3.52,
           "Good Will Hunting (1997)"
          ],
          [
           273,
           223,
           3.04,
           "Heat (1995)"
          ],
          [
           274,
           190,
           2.92,
           "Sabrina (1995)"
          ],
          [
           275,
           268,
           3.47,
           "Sense and Sensibility (1995)"
          ],
          [
           276,
           298,
           3.26,
           "Leaving Las Vegas (1995)"
          ],
          [
           277,
           71,
           2.37,
           "Restoration (1995)"
          ],
          [
           278,
           60,
           2.15,
           "Bed of Roses (1996)"
          ],
          [
           279,
           28,
           1.77,
           "Once Upon a Time... When We Were Colored (1995)"
          ],
          [
           280,
           85,
           2.31,
           "Up Close and Personal (1996)"
          ],
          [
           281,
           146,
           2.54,
           "River Wild, The (1994)"
          ],
          [
           282,
           232,
           3.15,
           "Time to Kill, A (1996)"
          ],
          [
           283,
           177,
           3.05,
           "Emma (1996)"
          ],
          [
           284,
           193,
           2.66,
           "Tin Cup (1996)"
          ],
          [
           285,
           162,
           3.4,
           "Secrets & Lies (1996)"
          ],
          [
           286,
           481,
           3.37,
           "English Patient, The (1996)"
          ],
          [
           287,
           78,
           2.49,
           "Marvin's Room (1996)"
          ],
          [
           288,
           478,
           3.18,
           "Scream (1996)"
          ],
          [
           289,
           259,
           2.62,
           "Evita (1996)"
          ],
          [
           290,
           96,
           2.33,
           "Fierce Creatures (1997)"
          ],
          [
           291,
           127,
           2.63,
           "Absolute Power (1997)"
          ],
          [
           292,
           114,
           2.77,
           "Rosewood (1997)"
          ],
          [
           293,
           147,
           3.01,
           "Donnie Brasco (1997)"
          ],
          [
           294,
           485,
           2.93,
           "Liar Liar (1997)"
          ],
          [
           295,
           77,
           2.38,
           "Breakdown (1997)"
          ],
          [
           296,
           6,
           1.26,
           "Promesse, La (1996)"
          ],
          [
           297,
           50,
           2.38,
           "Ulee's Gold (1997)"
          ],
          [
           298,
           194,
           3.13,
           "Face/Off (1997)"
          ],
          [
           299,
           73,
           2.09,
           "Hoodlum (1997)"
          ],
          [
           300,
           431,
           3.32,
           "Air Force One (1997)"
          ],
          [
           301,
           230,
           2.84,
           "In & Out (1997)"
          ],
          [
           302,
           297,
           3.64,
           "L.A. Confidential (1997)"
          ],
          [
           303,
           134,
           2.88,
           "Ulee's Gold (1997)"
          ],
          [
           304,
           149,
           2.83,
           "Fly Away Home (1996)"
          ],
          [
           305,
           87,
           2.59,
           "Ice Storm, The (1997)"
          ],
          [
           306,
           96,
           2.84,
           "Mrs. Brown (Her Majesty, Mrs. Brown) (1997)"
          ],
          [
           307,
           188,
           2.92,
           "Devil's Advocate, The (1997)"
          ],
          [
           308,
           30,
           1.69,
           "FairyTale: A True Story (1997)"
          ],
          [
           309,
           28,
           1.63,
           "Deceiver (1997)"
          ],
          [
           310,
           145,
           2.86,
           "Rainmaker, The (1997)"
          ],
          [
           311,
           75,
           2.52,
           "Wings of the Dove, The (1997)"
          ],
          [
           312,
           80,
           2.26,
           "Midnight in the Garden of Good and Evil (1997)"
          ],
          [
           313,
           350,
           3.78,
           "Titanic (1997)"
          ],
          [
           314,
           5,
           1.05,
           "3 Ninjas: High Noon At Mega Mountain (1998)"
          ],
          [
           315,
           160,
           3.27,
           "Apt Pupil (1998)"
          ],
          [
           316,
           112,
           3.11,
           "As Good As It Gets (1997)"
          ],
          [
           317,
           102,
           2.86,
           "In the Name of the Father (1993)"
          ],
          [
           318,
           298,
           3.9,
           "Schindler's List (1993)"
          ],
          [
           319,
           168,
           2.69,
           "Everyone Says I Love You (1996)"
          ],
          [
           320,
           20,
           1.81,
           "Paradise Lost: The Child Murders at Robin Hood Hills (1996)"
          ],
          [
           321,
           169,
           2.59,
           "Mother (1996)"
          ],
          [
           322,
           218,
           2.65,
           "Murder at 1600 (1997)"
          ],
          [
           323,
           240,
           2.56,
           "Dante's Peak (1997)"
          ],
          [
           324,
           125,
           2.46,
           "Lost Highway (1997)"
          ],
          [
           325,
           128,
           2.07,
           "Crash (1996)"
          ],
          [
           326,
           175,
           2.77,
           "G.I. Jane (1997)"
          ],
          [
           327,
           175,
           2.79,
           "Cop Land (1997)"
          ],
          [
           328,
           295,
           3.03,
           "Conspiracy Theory (1997)"
          ],
          [
           329,
           45,
           2.03,
           "Desperate Measures (1998)"
          ],
          [
           330,
           41,
           1.86,
           "187 (1997)"
          ],
          [
           331,
           113,
           2.68,
           "Edge, The (1997)"
          ],
          [
           332,
           143,
           2.75,
           "Kiss the Girls (1997)"
          ],
          [
           333,
           251,
           3.11,
           "Game, The (1997)"
          ],
          [
           334,
           64,
           2.25,
           "U Turn (1997)"
          ],
          [
           335,
           21,
           1.5,
           "How to Be a Player (1997)"
          ],
          [
           336,
           43,
           1.71,
           "Playing God (1997)"
          ],
          [
           337,
           18,
           1.5,
           "House of Yes, The (1997)"
          ],
          [
           338,
           91,
           2.02,
           "Bean (1997)"
          ],
          [
           339,
           47,
           2.02,
           "Mad City (1997)"
          ],
          [
           340,
           189,
           2.98,
           "Boogie Nights (1997)"
          ],
          [
           341,
           11,
           1.37,
           "Critical Care (1997)"
          ],
          [
           342,
           52,
           1.92,
           "Man Who Knew Too Little, The (1997)"
          ],
          [
           343,
           124,
           2.43,
           "Alien: Resurrection (1997)"
          ],
          [
           344,
           55,
           2.3,
           "Apostle, The (1997)"
          ],
          [
           345,
           65,
           2.28,
           "Deconstructing Harry (1997)"
          ],
          [
           346,
           126,
           2.81,
           "Jackie Brown (1997)"
          ],
          [
           347,
           137,
           2.77,
           "Wag the Dog (1997)"
          ],
          [
           348,
           27,
           1.75,
           "Desperate Measures (1998)"
          ],
          [
           349,
           31,
           1.69,
           "Hard Rain (1998)"
          ],
          [
           350,
           41,
           1.91,
           "Fallen (1998)"
          ],
          [
           351,
           20,
           1.47,
           "Prophecy II, The (1998)"
          ],
          [
           352,
           26,
           1.38,
           "Spice World (1997)"
          ],
          [
           353,
           14,
           1.31,
           "Deep Rising (1998)"
          ],
          [
           354,
           72,
           2.39,
           "Wedding Singer, The (1998)"
          ],
          [
           355,
           41,
           1.82,
           "Sphere (1998)"
          ],
          [
           356,
           97,
           2.5,
           "Client, The (1994)"
          ],
          [
           357,
           264,
           3.7,
           "One Flew Over the Cuckoo's Nest (1975)"
          ],
          [
           358,
           143,
           2.16,
           "Spawn (1997)"
          ],
          [
           359,
           18,
           1.62,
           "Assignment, The (1997)"
          ],
          [
           360,
           10,
           1.36,
           "Wonderland (1997)"
          ],
          [
           361,
           10,
           1.4,
           "Incognito (1997)"
          ],
          [
           362,
           28,
           1.62,
           "Blues Brothers 2000 (1998)"
          ],
          [
           363,
           47,
           1.79,
           "Sudden Death (1995)"
          ],
          [
           364,
           37,
           1.67,
           "Ace Ventura: When Nature Calls (1995)"
          ],
          [
           365,
           48,
           2.02,
           "Powder (1995)"
          ],
          [
           366,
           47,
           2.06,
           "Dangerous Minds (1995)"
          ],
          [
           367,
           170,
           2.84,
           "Clueless (1995)"
          ],
          [
           368,
           31,
           1.34,
           "Bio-Dome (1996)"
          ],
          [
           369,
           55,
           1.81,
           "Black Sheep (1996)"
          ],
          [
           370,
           39,
           1.75,
           "Mary Reilly (1996)"
          ],
          [
           371,
           67,
           2.17,
           "Bridges of Madison County, The (1995)"
          ],
          [
           372,
           34,
           1.95,
           "Jeffrey (1995)"
          ],
          [
           373,
           39,
           1.78,
           "Judge Dredd (1995)"
          ],
          [
           374,
           11,
           1.24,
           "Mighty Morphin Power Rangers: The Movie (1995)"
          ],
          [
           375,
           23,
           1.3,
           "Showgirls (1995)"
          ],
          [
           376,
           24,
           1.56,
           "Houseguest (1994)"
          ],
          [
           377,
           13,
           1.25,
           "Heavyweights (1994)"
          ],
          [
           378,
           101,
           2.73,
           "Miracle on 34th Street (1994)"
          ],
          [
           379,
           43,
           1.86,
           "Tales From the Crypt Presents: Demon Knight (1995)"
          ],
          [
           380,
           116,
           2.56,
           "Star Trek: Generations (1994)"
          ],
          [
           381,
           100,
           2.62,
           "Muriel's Wedding (1994)"
          ],
          [
           382,
           111,
           2.71,
           "Adventures of Priscilla, Queen of the Desert, The (1994)"
          ],
          [
           383,
           31,
           1.4,
           "Flintstones, The (1994)"
          ],
          [
           384,
           69,
           1.98,
           "Naked Gun 33 1/3: The Final Insult (1994)"
          ],
          [
           385,
           208,
           3,
           "True Lies (1994)"
          ],
          [
           386,
           87,
           2.1,
           "Addams Family Values (1993)"
          ],
          [
           387,
           65,
           2.27,
           "Age of Innocence, The (1993)"
          ],
          [
           388,
           28,
           1.48,
           "Beverly Hills Cop III (1994)"
          ],
          [
           389,
           27,
           1.8,
           "Black Beauty (1994)"
          ],
          [
           390,
           10,
           1.36,
           "Fear of a Black Hat (1993)"
          ],
          [
           391,
           59,
           1.9,
           "Last Action Hero (1993)"
          ],
          [
           392,
           68,
           2.38,
           "Man Without a Face, The (1993)"
          ],
          [
           393,
           192,
           2.85,
           "Mrs. Doubtfire (1993)"
          ],
          [
           394,
           12,
           1.43,
           "Radioland Murders (1994)"
          ],
          [
           395,
           56,
           1.8,
           "Robin Hood: Men in Tights (1993)"
          ],
          [
           396,
           54,
           1.89,
           "Serial Mom (1994)"
          ],
          [
           397,
           12,
           1.31,
           "Striking Distance (1993)"
          ],
          [
           398,
           26,
           1.36,
           "Super Mario Bros. (1993)"
          ],
          [
           399,
           89,
           2.4,
           "Three Musketeers, The (1993)"
          ],
          [
           400,
           18,
           1.44,
           "Little Rascals, The (1994)"
          ],
          [
           401,
           76,
           2.03,
           "Brady Bunch Movie, The (1995)"
          ],
          [
           402,
           170,
           2.84,
           "Ghost (1990)"
          ],
          [
           403,
           201,
           2.89,
           "Batman (1989)"
          ],
          [
           404,
           101,
           2.7,
           "Pinocchio (1940)"
          ],
          [
           405,
           344,
           2.98,
           "Mission: Impossible (1996)"
          ],
          [
           406,
           49,
           1.68,
           "Thinner (1996)"
          ],
          [
           407,
           43,
           1.66,
           "Spy Hard (1996)"
          ],
          [
           408,
           112,
           3.3,
           "Close Shave, A (1995)"
          ],
          [
           409,
           70,
           2.18,
           "Jack (1996)"
          ],
          [
           410,
           162,
           2.57,
           "Kingpin (1996)"
          ],
          [
           411,
           163,
           2.42,
           "Nutty Professor, The (1996)"
          ],
          [
           412,
           93,
           1.87,
           "Very Brady Sequel, A (1996)"
          ],
          [
           413,
           55,
           1.81,
           "Tales from the Crypt Presents: Bordello of Blood (1996)"
          ],
          [
           414,
           62,
           2.32,
           "My Favorite Year (1982)"
          ],
          [
           415,
           25,
           1.58,
           "Apple Dumpling Gang, The (1975)"
          ],
          [
           416,
           64,
           2.31,
           "Old Yeller (1957)"
          ],
          [
           417,
           73,
           2.18,
           "Parent Trap, The (1961)"
          ],
          [
           418,
           129,
           2.78,
           "Cinderella (1950)"
          ],
          [
           419,
           178,
           3.06,
           "Mary Poppins (1964)"
          ],
          [
           420,
           81,
           2.56,
           "Alice in Wonderland (1951)"
          ],
          [
           421,
           106,
           2.68,
           "William Shakespeare's Romeo and Juliet (1996)"
          ],
          [
           422,
           26,
           1.6,
           "Aladdin and the King of Thieves (1996)"
          ],
          [
           423,
           300,
           3.37,
           "E.T. the Extra-Terrestrial (1982)"
          ],
          [
           424,
           19,
           1.12,
           "Children of the Corn: The Gathering (1996)"
          ],
          [
           425,
           85,
           2.63,
           "Bob Roberts (1992)"
          ],
          [
           426,
           32,
           1.68,
           "Transformers: The Movie, The (1986)"
          ],
          [
           427,
           219,
           3.6,
           "To Kill a Mockingbird (1962)"
          ],
          [
           428,
           121,
           2.91,
           "Harold and Maude (1971)"
          ],
          [
           429,
           97,
           2.84,
           "Day the Earth Stood Still, The (1951)"
          ],
          [
           430,
           93,
           2.85,
           "Duck Soup (1933)"
          ],
          [
           431,
           153,
           2.84,
           "Highlander (1986)"
          ],
          [
           432,
           174,
           3.08,
           "Fantasia (1940)"
          ],
          [
           433,
           171,
           3.01,
           "Heathers (1989)"
          ],
          [
           434,
           67,
           2.53,
           "Forbidden Planet (1956)"
          ],
          [
           435,
           216,
           3.32,
           "Butch Cassidy and the Sundance Kid (1969)"
          ],
          [
           436,
           99,
           2.6,
           "American Werewolf in London, An (1981)"
          ],
          [
           437,
           5,
           1.05,
           "Amityville 1992: It's About Time (1992)"
          ],
          [
           438,
           6,
           1.06,
           "Amityville 3-D (1983)"
          ],
          [
           439,
           5,
           1.05,
           "Amityville: A New Generation (1993)"
          ],
          [
           440,
           14,
           1.16,
           "Amityville II: The Possession (1982)"
          ],
          [
           441,
           53,
           1.77,
           "Amityville Horror, The (1979)"
          ],
          [
           442,
           4,
           1.06,
           "Amityville Curse, The (1990)"
          ],
          [
           443,
           162,
           3.07,
           "Birds, The (1963)"
          ],
          [
           444,
           46,
           1.78,
           "Blob, The (1958)"
          ],
          [
           445,
           22,
           1.71,
           "Body Snatcher, The (1945)"
          ],
          [
           446,
           9,
           1.23,
           "Burnt Offerings (1976)"
          ],
          [
           447,
           121,
           2.7,
           "Carrie (1976)"
          ],
          [
           448,
           85,
           2.43,
           "Omen, The (1976)"
          ],
          [
           449,
           117,
           2.37,
           "Star Trek: The Motion Picture (1979)"
          ],
          [
           450,
           63,
           1.74,
           "Star Trek V: The Final Frontier (1989)"
          ],
          [
           451,
           170,
           2.75,
           "Grease (1978)"
          ],
          [
           452,
           66,
           1.9,
           "Jaws 2 (1978)"
          ],
          [
           453,
           16,
           1.24,
           "Jaws 3-D (1983)"
          ],
          [
           454,
           16,
           1.44,
           "Bastard Out of Carolina (1996)"
          ],
          [
           455,
           145,
           2.61,
           "Jackie Chan's First Strike (1996)"
          ],
          [
           456,
           48,
           1.61,
           "Beverly Hills Ninja (1997)"
          ],
          [
           457,
           27,
           1.27,
           "Free Willy 3: The Rescue (1997)"
          ],
          [
           458,
           90,
           2.3,
           "Nixon (1995)"
          ],
          [
           459,
           24,
           1.83,
           "Cry, the Beloved Country (1995)"
          ],
          [
           460,
           28,
           1.68,
           "Crossing Guard, The (1995)"
          ],
          [
           461,
           74,
           2.48,
           "Smoke (1995)"
          ],
          [
           462,
           148,
           3.02,
           "Like Water For Chocolate (Como agua para chocolate) (1992)"
          ],
          [
           463,
           71,
           2.58,
           "Secret of Roan Inish, The (1994)"
          ],
          [
           464,
           27,
           1.85,
           "Vanya on 42nd Street (1994)"
          ],
          [
           465,
           85,
           2.53,
           "Jungle Book, The (1994)"
          ],
          [
           466,
           52,
           2.24,
           "Red Rock West (1992)"
          ],
          [
           467,
           48,
           2.28,
           "Bronx Tale, A (1993)"
          ],
          [
           468,
           64,
           2.22,
           "Rudy (1993)"
          ],
          [
           469,
           67,
           2.5,
           "Short Cuts (1993)"
          ],
          [
           470,
           108,
           2.74,
           "Tombstone (1993)"
          ],
          [
           471,
           221,
           3.07,
           "Courage Under Fire (1996)"
          ],
          [
           472,
           158,
           2.53,
           "Dragonheart (1996)"
          ],
          [
           473,
           126,
           2.46,
           "James and the Giant Peach (1996)"
          ],
          [
           474,
           194,
           3.5,
           "Dr. Strangelove or: How I Learned to Stop Worrying and Love the Bomb (1963)"
          ],
          [
           475,
           250,
           3.34,
           "Trainspotting (1996)"
          ],
          [
           476,
           160,
           2.49,
           "First Wives Club, The (1996)"
          ],
          [
           477,
           95,
           2.38,
           "Matilda (1996)"
          ],
          [
           478,
           104,
           3,
           "Philadelphia Story, The (1940)"
          ],
          [
           479,
           179,
           3.45,
           "Vertigo (1958)"
          ],
          [
           480,
           179,
           3.48,
           "North by Northwest (1959)"
          ],
          [
           481,
           63,
           2.54,
           "Apartment, The (1960)"
          ],
          [
           482,
           128,
           3.05,
           "Some Like It Hot (1959)"
          ],
          [
           483,
           243,
           3.79,
           "Casablanca (1942)"
          ],
          [
           484,
           138,
           3.26,
           "Maltese Falcon, The (1941)"
          ],
          [
           485,
           125,
           2.93,
           "My Fair Lady (1964)"
          ],
          [
           486,
           64,
           2.47,
           "Sabrina (1954)"
          ],
          [
           487,
           68,
           2.68,
           "Roman Holiday (1953)"
          ],
          [
           488,
           65,
           2.7,
           "Sunset Blvd. (1950)"
          ],
          [
           489,
           52,
           2.48,
           "Notorious (1946)"
          ],
          [
           490,
           50,
           2.41,
           "To Catch a Thief (1955)"
          ],
          [
           491,
           67,
           2.5,
           "Adventures of Robin Hood, The (1938)"
          ],
          [
           492,
           59,
           2.45,
           "East of Eden (1955)"
          ],
          [
           493,
           60,
           2.61,
           "Thin Man, The (1934)"
          ],
          [
           494,
           56,
           2.48,
           "His Girl Friday (1940)"
          ],
          [
           495,
           59,
           2.35,
           "Around the World in 80 Days (1956)"
          ],
          [
           496,
           231,
           3.49,
           "It's a Wonderful Life (1946)"
          ],
          [
           497,
           68,
           2.54,
           "Bringing Up Baby (1938)"
          ],
          [
           498,
           152,
           3.3,
           "African Queen, The (1951)"
          ],
          [
           499,
           62,
           2.53,
           "Cat on a Hot Tin Roof (1958)"
          ],
          [
           500,
           31,
           2.03,
           "Fly Away Home (1996)"
          ],
          [
           501,
           123,
           2.7,
           "Dumbo (1941)"
          ],
          [
           502,
           57,
           2.35,
           "Bananas (1971)"
          ],
          [
           503,
           39,
           2.08,
           "Candidate, The (1972)"
          ],
          [
           504,
           122,
           2.91,
           "Bonnie and Clyde (1967)"
          ],
          [
           505,
           68,
           2.62,
           "Dial M for Murder (1954)"
          ],
          [
           506,
           90,
           2.74,
           "Rebel Without a Cause (1955)"
          ],
          [
           507,
           98,
           2.77,
           "Streetcar Named Desire, A (1951)"
          ],
          [
           508,
           215,
           3.04,
           "People vs. Larry Flynt, The (1996)"
          ],
          [
           509,
           121,
           2.93,
           "My Left Foot (1989)"
          ],
          [
           510,
           121,
           2.99,
           "Magnificent Seven, The (1954)"
          ],
          [
           511,
           173,
           3.42,
           "Lawrence of Arabia (1962)"
          ],
          [
           512,
           57,
           2.49,
           "Wings of Desire (1987)"
          ],
          [
           513,
           72,
           2.85,
           "Third Man, The (1949)"
          ],
          [
           514,
           180,
           3.2,
           "Annie Hall (1977)"
          ],
          [
           515,
           201,
           3.48,
           "Boot, Das (1981)"
          ],
          [
           516,
           63,
           2.55,
           "Local Hero (1983)"
          ],
          [
           517,
           91,
           2.7,
           "Manhattan (1979)"
          ],
          [
           518,
           89,
           2.61,
           "Miller's Crossing (1990)"
          ],
          [
           519,
           80,
           2.8,
           "Treasure of the Sierra Madre, The (1948)"
          ],
          [
           520,
           124,
           3.12,
           "Great Escape, The (1963)"
          ],
          [
           521,
           120,
           2.91,
           "Deer Hunter, The (1978)"
          ],
          [
           522,
           35,
           2.06,
           "Down by Law (1986)"
          ],
          [
           523,
           164,
           3.21,
           "Cool Hand Luke (1967)"
          ],
          [
           524,
           46,
           2.35,
           "Great Dictator, The (1940)"
          ],
          [
           525,
           73,
           2.69,
           "Big Sleep, The (1946)"
          ],
          [
           526,
           124,
           2.93,
           "Ben-Hur (1959)"
          ],
          [
           527,
           195,
           3.33,
           "Gandhi (1982)"
          ],
          [
           528,
           121,
           3.12,
           "Killing Fields, The (1984)"
          ],
          [
           529,
           93,
           2.84,
           "My Life as a Dog (Mitt liv som hund) (1985)"
          ],
          [
           530,
           80,
           2.76,
           "Man Who Would Be King, The (1975)"
          ],
          [
           531,
           129,
           3.02,
           "Shine (1996)"
          ],
          [
           532,
           22,
           1.66,
           "Kama Sutra: A Tale of Love (1996)"
          ],
          [
           533,
           15,
           1.58,
           "Daytrippers, The (1996)"
          ],
          [
           534,
           13,
           1.46,
           "Traveller (1997)"
          ],
          [
           535,
           54,
           2.06,
           "Addicted to Love (1997)"
          ],
          [
           536,
           10,
           1.38,
           "Ponette (1996)"
          ],
          [
           537,
           30,
           1.92,
           "My Own Private Idaho (1991)"
          ],
          [
           538,
           66,
           2.3,
           "Anastasia (1997)"
          ],
          [
           539,
           44,
           1.66,
           "Mouse Hunt (1997)"
          ],
          [
           540,
           43,
           1.66,
           "Money Train (1995)"
          ],
          [
           541,
           49,
           1.88,
           "Mortal Kombat (1995)"
          ],
          [
           542,
           51,
           1.73,
           "Pocahontas (1995)"
          ],
          [
           543,
           21,
           1.72,
           "Misérables, Les (1995)"
          ],
          [
           544,
           71,
           2.2,
           "Things to Do in Denver when You're Dead (1995)"
          ],
          [
           545,
           12,
           1.18,
           "Vampire in Brooklyn (1995)"
          ],
          [
           546,
           254,
           2.66,
           "Broken Arrow (1996)"
          ],
          [
           547,
           41,
           1.99,
           "Young Poisoner's Handbook, The (1995)"
          ],
          [
           548,
           12,
           1.24,
           "NeverEnding Story III, The (1994)"
          ],
          [
           549,
           92,
           2.58,
           "Rob Roy (1995)"
          ],
          [
           550,
           151,
           2.65,
           "Die Hard: With a Vengeance (1995)"
          ],
          [
           551,
           24,
           1.44,
           "Lord of Illusions (1995)"
          ],
          [
           552,
           45,
           1.83,
           "Species (1995)"
          ],
          [
           553,
           63,
           2.2,
           "Walk in the Clouds, A (1995)"
          ],
          [
           554,
           102,
           2.16,
           "Waterworld (1995)"
          ],
          [
           555,
           10,
           1.19,
           "White Man's Burden (1995)"
          ],
          [
           556,
           12,
           1.29,
           "Wild Bill (1995)"
          ],
          [
           557,
           17,
           1.51,
           "Farinelli: il castrato (1994)"
          ],
          [
           558,
           70,
           2.47,
           "Heavenly Creatures (1994)"
          ],
          [
           559,
           137,
           2.54,
           "Interview with the Vampire (1994)"
          ],
          [
           560,
           22,
           1.5,
           "Kid in King Arthur's Court, A (1995)"
          ],
          [
           561,
           59,
           2.06,
           "Mary Shelley's Frankenstein (1994)"
          ],
          [
           562,
           48,
           2.02,
           "Quick and the Dead, The (1995)"
          ],
          [
           563,
           29,
           1.5,
           "Stephen King's The Langoliers (1995)"
          ],
          [
           564,
           27,
           1.36,
           "Tales from the Hood (1995)"
          ],
          [
           565,
           22,
           1.49,
           "Village of the Damned (1995)"
          ],
          [
           566,
           179,
           2.94,
           "Clear and Present Danger (1994)"
          ],
          [
           567,
           35,
           1.7,
           "Wes Craven's New Nightmare (1994)"
          ],
          [
           568,
           230,
           3.11,
           "Speed (1994)"
          ],
          [
           569,
           67,
           1.93,
           "Wolf (1994)"
          ],
          [
           570,
           50,
           1.99,
           "Wyatt Earp (1994)"
          ],
          [
           571,
           28,
           1.52,
           "Another Stakeout (1993)"
          ],
          [
           572,
           29,
           1.61,
           "Blown Away (1994)"
          ],
          [
           573,
           33,
           1.73,
           "Body Snatchers (1993)"
          ],
          [
           574,
           15,
           1.28,
           "Boxing Helena (1993)"
          ],
          [
           575,
           44,
           1.69,
           "City Slickers II: The Legend of Curly's Gold (1994)"
          ],
          [
           576,
           93,
           2.25,
           "Cliffhanger (1993)"
          ],
          [
           577,
           41,
           1.53,
           "Coneheads (1993)"
          ],
          [
           578,
           92,
           2.33,
           "Demolition Man (1993)"
          ],
          [
           579,
           19,
           1.43,
           "Fatal Instinct (1993)"
          ],
          [
           580,
           32,
           1.86,
           "Englishman Who Went Up a Hill, But Came Down a Mountain, The (1995)"
          ],
          [
           581,
           59,
           2.13,
           "Kalifornia (1993)"
          ],
          [
           582,
           168,
           2.93,
           "Piano, The (1993)"
          ],
          [
           583,
           37,
           1.8,
           "Romeo Is Bleeding (1993)"
          ],
          [
           584,
           79,
           2.47,
           "Secret Garden, The (1993)"
          ],
          [
           585,
           39,
           1.62,
           "Son in Law (1993)"
          ],
          [
           586,
           34,
           1.64,
           "Terminal Velocity (1994)"
          ],
          [
           587,
           14,
           1.53,
           "Hour of the Pig, The (1993)"
          ],
          [
           588,
           202,
           3.17,
           "Beauty and the Beast (1991)"
          ],
          [
           589,
           43,
           2.3,
           "Wild Bunch, The (1969)"
          ],
          [
           590,
           18,
           1.27,
           "Hellraiser: Bloodline (1996)"
          ],
          [
           591,
           178,
           2.96,
           "Primal Fear (1996)"
          ],
          [
           592,
           9,
           1.35,
           "True Crime (1995)"
          ],
          [
           593,
           12,
           1.41,
           "Stalingrad (1993)"
          ],
          [
           594,
           5,
           1.16,
           "Heavy (1995)"
          ],
          [
           595,
           64,
           2.11,
           "Fan, The (1996)"
          ],
          [
           596,
           127,
           2.64,
           "Hunchback of Notre Dame, The (1996)"
          ],
          [
           597,
           206,
           2.68,
           "Eraser (1996)"
          ],
          [
           598,
           4,
           1.13,
           "Big Squeeze, The (1996)"
          ],
          [
           599,
           1,
           1.05,
           "Police Story 4: Project S (Chao ji ji hua) (1993)"
          ],
          [
           600,
           2,
           1.12,
           "Daniel Defoe's Robinson Crusoe (1996)"
          ],
          [
           601,
           20,
           1.79,
           "For Whom the Bell Tolls (1943)"
          ],
          [
           602,
           50,
           2.26,
           "American in Paris, An (1951)"
          ],
          [
           603,
           209,
           3.65,
           "Rear Window (1954)"
          ],
          [
           604,
           81,
           2.76,
           "It Happened One Night (1934)"
          ],
          [
           605,
           31,
           1.84,
           "Meet Me in St. Louis (1944)"
          ],
          [
           606,
           66,
           2.63,
           "All About Eve (1950)"
          ],
          [
           607,
           66,
           2.59,
           "Rebecca (1940)"
          ],
          [
           608,
           30,
           2.02,
           "Spellbound (1945)"
          ],
          [
           609,
           60,
           2.32,
           "Father of the Bride (1950)"
          ],
          [
           610,
           41,
           2.12,
           "Gigi (1958)"
          ],
          [
           611,
           40,
           2.28,
           "Laura (1944)"
          ],
          [
           612,
           34,
           2.1,
           "Lost Horizon (1937)"
          ],
          [
           613,
           27,
           1.98,
           "My Man Godfrey (1936)"
          ],
          [
           614,
           51,
           2.3,
           "Giant (1956)"
          ],
          [
           615,
           59,
           2.55,
           "39 Steps, The (1935)"
          ],
          [
           616,
           64,
           2.28,
           "Night of the Living Dead (1968)"
          ],
          [
           617,
           18,
           1.69,
           "Blue Angel, The (Blaue Engel, Der) (1930)"
          ],
          [
           618,
           18,
           1.65,
           "Picnic (1955)"
          ],
          [
           619,
           64,
           2.15,
           "Extreme Measures (1996)"
          ],
          [
           620,
           43,
           1.91,
           "Chamber, The (1996)"
          ],
          [
           621,
           11,
           1.34,
           "Davy Crockett, King of the Wild Frontier (1955)"
          ],
          [
           622,
           39,
           1.97,
           "Swiss Family Robinson (1960)"
          ],
          [
           623,
           39,
           1.79,
           "Angels in the Outfield (1994)"
          ],
          [
           624,
           22,
           1.65,
           "Three Caballeros, The (1945)"
          ],
          [
           625,
           82,
           2.37,
           "Sword in the Stone, The (1963)"
          ],
          [
           626,
           4,
           1.19,
           "So Dear to My Heart (1949)"
          ],
          [
           627,
           75,
           2.26,
           "Robin Hood: Prince of Thieves (1991)"
          ],
          [
           628,
           169,
           2.87,
           "Sleepers (1996)"
          ],
          [
           629,
           77,
           2.34,
           "Victor/Victoria (1982)"
          ],
          [
           630,
           31,
           1.82,
           "Great Race, The (1965)"
          ],
          [
           631,
           119,
           2.77,
           "Crying Game, The (1992)"
          ],
          [
           632,
           58,
           2.46,
           "Sophie's Choice (1982)"
          ],
          [
           633,
           69,
           2.67,
           "Christmas Carol, A (1938)"
          ],
          [
           634,
           24,
           1.83,
           "Microcosmos: Le peuple de l'herbe (1996)"
          ],
          [
           635,
           23,
           1.52,
           "Fog, The (1980)"
          ],
          [
           636,
           91,
           2.38,
           "Escape from New York (1981)"
          ],
          [
           637,
           38,
           1.82,
           "Howling, The (1981)"
          ],
          [
           638,
           44,
           2.21,
           "Return of Martin Guerre, The (Retour de Martin Guerre, Le) (1982)"
          ],
          [
           639,
           40,
           2.12,
           "Tin Drum, The (Blechtrommel, Die) (1979)"
          ],
          [
           640,
           82,
           2.2,
           "Cook the Thief His Wife & Her Lover, The (1989)"
          ],
          [
           641,
           33,
           2.18,
           "Paths of Glory (1957)"
          ],
          [
           642,
           89,
           2.51,
           "Grifters, The (1990)"
          ],
          [
           643,
           4,
           1.17,
           "The Innocent (1994)"
          ],
          [
           644,
           35,
           2.06,
           "Thin Blue Line, The (1988)"
          ],
          [
           645,
           27,
           1.91,
           "Paris Is Burning (1990)"
          ],
          [
           646,
           38,
           2.15,
           "Once Upon a Time in the West (1969)"
          ],
          [
           647,
           70,
           2.7,
           "Ran (1985)"
          ],
          [
           648,
           67,
           2.63,
           "Quiet Man, The (1952)"
          ],
          [
           649,
           50,
           2.12,
           "Once Upon a Time in America (1984)"
          ],
          [
           650,
           72,
           2.42,
           "Seventh Seal, The (Sjunde inseglet, Det) (1957)"
          ],
          [
           651,
           171,
           3.3,
           "Glory (1989)"
          ],
          [
           652,
           90,
           2.76,
           "Rosencrantz and Guildenstern Are Dead (1990)"
          ],
          [
           653,
           34,
           2.09,
           "Touch of Evil (1958)"
          ],
          [
           654,
           147,
           3.25,
           "Chinatown (1974)"
          ],
          [
           655,
           227,
           3.29,
           "Stand by Me (1986)"
          ],
          [
           656,
           44,
           2.31,
           "M (1931)"
          ],
          [
           657,
           131,
           3.26,
           "Manchurian Candidate, The (1962)"
          ],
          [
           658,
           79,
           2.4,
           "Pump Up the Volume (1990)"
          ],
          [
           659,
           115,
           3.05,
           "Arsenic and Old Lace (1944)"
          ],
          [
           660,
           153,
           3.01,
           "Fried Green Tomatoes (1991)"
          ],
          [
           661,
           88,
           2.87,
           "High Noon (1952)"
          ],
          [
           662,
           82,
           2.43,
           "Somewhere in Time (1980)"
          ],
          [
           663,
           116,
           2.94,
           "Being There (1979)"
          ],
          [
           664,
           46,
           2.14,
           "Paris, Texas (1984)"
          ],
          [
           665,
           100,
           2.17,
           "Alien 3 (1992)"
          ],
          [
           666,
           5,
           1.16,
           "Blood For Dracula (Andy Warhol's Dracula) (1974)"
          ],
          [
           667,
           12,
           1.24,
           "Audrey Rose (1977)"
          ],
          [
           668,
           6,
           1.15,
           "Blood Beach (1981)"
          ],
          [
           669,
           13,
           1.15,
           "Body Parts (1991)"
          ],
          [
           670,
           36,
           1.79,
           "Body Snatchers (1993)"
          ],
          [
           671,
           46,
           2.17,
           "Bride of Frankenstein (1935)"
          ],
          [
           672,
           65,
           1.92,
           "Candyman (1992)"
          ],
          [
           673,
           86,
           2.51,
           "Cape Fear (1962)"
          ],
          [
           674,
           48,
           1.88,
           "Cat People (1982)"
          ],
          [
           675,
           54,
           2.24,
           "Nosferatu (Nosferatu, eine Symphonie des Grauens) (1922)"
          ],
          [
           676,
           77,
           2.34,
           "Crucible, The (1996)"
          ],
          [
           677,
           1,
           1.08,
           "Fire on the Mountain (1996)"
          ],
          [
           678,
           219,
           2.43,
           "Volcano (1997)"
          ],
          [
           679,
           107,
           2.33,
           "Conan the Barbarian (1981)"
          ],
          [
           680,
           34,
           1.6,
           "Kull the Conqueror (1997)"
          ],
          [
           681,
           27,
           1.49,
           "Wishmaster (1997)"
          ],
          [
           682,
           100,
           2.31,
           "I Know What You Did Last Summer (1997)"
          ],
          [
           683,
           49,
           1.66,
           "Rocket Man (1997)"
          ],
          [
           684,
           169,
           3.08,
           "In the Line of Fire (1993)"
          ],
          [
           685,
           157,
           2.72,
           "Executive Decision (1996)"
          ],
          [
           686,
           50,
           2.25,
           "Perfect World, A (1993)"
          ],
          [
           687,
           69,
           1.66,
           "McHale's Navy (1997)"
          ],
          [
           688,
           44,
           1.39,
           "Leave It to Beaver (1997)"
          ],
          [
           689,
           87,
           2.3,
           "Jackal, The (1997)"
          ],
          [
           690,
           155,
           2.79,
           "Seven Years in Tibet (1997)"
          ],
          [
           691,
           16,
           1.57,
           "Dark City (1998)"
          ],
          [
           692,
           164,
           2.94,
           "American President, The (1995)"
          ],
          [
           693,
           91,
           2.62,
           "Casino (1995)"
          ],
          [
           694,
           44,
           2.33,
           "Persuasion (1995)"
          ],
          [
           695,
           13,
           1.39,
           "Kicking and Screaming (1995)"
          ],
          [
           696,
           79,
           2.24,
           "City Hall (1996)"
          ],
          [
           697,
           40,
           2.01,
           "Basketball Diaries, The (1995)"
          ],
          [
           698,
           10,
           1.33,
           "Browning Version, The (1994)"
          ],
          [
           699,
           102,
           2.71,
           "Little Women (1994)"
          ],
          [
           700,
           15,
           1.36,
           "Miami Rhapsody (1995)"
          ],
          [
           701,
           10,
           1.48,
           "Wonderful, Horrible Life of Leni Riefenstahl, The (1993)"
          ],
          [
           702,
           53,
           1.98,
           "Barcelona (1994)"
          ],
          [
           703,
           19,
           1.66,
           "Widows' Peak (1994)"
          ],
          [
           704,
           24,
           1.62,
           "House of the Spirits, The (1993)"
          ],
          [
           705,
           137,
           3.1,
           "Singin' in the Rain (1952)"
          ],
          [
           706,
           6,
           1.2,
           "Bad Moon (1996)"
          ],
          [
           707,
           70,
           2.61,
           "Enchanted April (1991)"
          ],
          [
           708,
           101,
           2.58,
           "Sex, Lies, and Videotape (1989)"
          ],
          [
           709,
           104,
           2.95,
           "Strictly Ballroom (1992)"
          ],
          [
           710,
           79,
           2.49,
           "Better Off Dead... (1985)"
          ],
          [
           711,
           1,
           1.1,
           "Substance of Fire, The (1996)"
          ],
          [
           712,
           51,
           1.99,
           "Tin Men (1987)"
          ],
          [
           713,
           72,
           2.45,
           "Othello (1995)"
          ],
          [
           714,
           13,
           1.44,
           "Carrington (1995)"
          ],
          [
           715,
           87,
           2.37,
           "To Die For (1995)"
          ],
          [
           716,
           58,
           2.09,
           "Home for the Holidays (1995)"
          ],
          [
           717,
           82,
           2.08,
           "Juror, The (1996)"
          ],
          [
           718,
           16,
           1.61,
           "In the Bleak Midwinter (1995)"
          ],
          [
           719,
           29,
           1.5,
           "Canadian Bacon (1994)"
          ],
          [
           720,
           86,
           2.22,
           "First Knight (1995)"
          ],
          [
           721,
           54,
           2.19,
           "Mallrats (1995)"
          ],
          [
           722,
           58,
           1.98,
           "Nine Months (1995)"
          ],
          [
           723,
           34,
           1.81,
           "Boys on the Side (1995)"
          ],
          [
           724,
           76,
           2.42,
           "Circle of Friends (1995)"
          ],
          [
           725,
           16,
           1.41,
           "Exit to Eden (1994)"
          ],
          [
           726,
           14,
           1.31,
           "Fluke (1995)"
          ],
          [
           727,
           63,
           2.29,
           "Immortal Beloved (1994)"
          ],
          [
           728,
           45,
           1.9,
           "Junior (1994)"
          ],
          [
           729,
           81,
           2.45,
           "Nell (1994)"
          ],
          [
           730,
           24,
           1.76,
           "Queen Margot (Reine Margot, La) (1994)"
          ],
          [
           731,
           39,
           1.88,
           "Corrina, Corrina (1994)"
          ],
          [
           732,
           180,
           3,
           "Dave (1993)"
          ],
          [
           733,
           15,
           1.48,
           "Go Fish (1994)"
          ],
          [
           734,
           27,
           1.51,
           "Made in America (1993)"
          ],
          [
           735,
           137,
           3.01,
           "Philadelphia (1993)"
          ],
          [
           736,
           78,
           2.69,
           "Shadowlands (1993)"
          ],
          [
           737,
           59,
           2.01,
           "Sirens (1994)"
          ],
          [
           738,
           31,
           1.66,
           "Threesome (1994)"
          ],
          [
           739,
           164,
           2.72,
           "Pretty Woman (1990)"
          ],
          [
           740,
           63,
           2.3,
           "Jane Eyre (1996)"
          ],
          [
           741,
           58,
           2.24,
           "Last Supper, The (1995)"
          ],
          [
           742,
           267,
           3.17,
           "Ransom (1996)"
          ],
          [
           743,
           39,
           1.41,
           "Crow: City of Angels, The (1996)"
          ],
          [
           744,
           92,
           2.51,
           "Michael Collins (1996)"
          ],
          [
           745,
           16,
           1.65,
           "Ruling Class, The (1972)"
          ],
          [
           746,
           119,
           2.79,
           "Real Genius (1985)"
          ],
          [
           747,
           102,
           2.57,
           "Benny & Joon (1993)"
          ],
          [
           748,
           316,
           2.8,
           "Saint, The (1997)"
          ],
          [
           749,
           51,
           2.03,
           "MatchMaker, The (1997)"
          ],
          [
           750,
           124,
           2.95,
           "Amistad (1997)"
          ],
          [
           751,
           180,
           2.84,
           "Tomorrow Never Dies (1997)"
          ],
          [
           752,
           39,
           1.95,
           "Replacement Killers, The (1998)"
          ],
          [
           753,
           24,
           1.82,
           "Burnt By the Sun (1994)"
          ],
          [
           754,
           57,
           2.19,
           "Red Corner (1997)"
          ],
          [
           755,
           96,
           2.45,
           "Jumanji (1995)"
          ],
          [
           756,
           128,
           2.31,
           "Father of the Bride Part II (1995)"
          ],
          [
           757,
           4,
           1.16,
           "Across the Sea of Time (1995)"
          ],
          [
           758,
           21,
           1.22,
           "Lawnmower Man 2: Beyond Cyberspace (1996)"
          ],
          [
           759,
           11,
           1.23,
           "Fair Game (1995)"
          ],
          [
           760,
           46,
           1.75,
           "Screamers (1995)"
          ],
          [
           761,
           44,
           1.9,
           "Nick of Time (1995)"
          ],
          [
           762,
           115,
           2.59,
           "Beautiful Girls (1996)"
          ],
          [
           763,
           149,
           2.72,
           "Happy Gilmore (1996)"
          ],
          [
           764,
           29,
           1.61,
           "If Lucy Fell (1996)"
          ],
          [
           765,
           32,
           1.67,
           "Boomerang (1992)"
          ],
          [
           766,
           9,
           1.32,
           "Man of the Year (1995)"
          ],
          [
           767,
           11,
           1.23,
           "Addiction, The (1995)"
          ],
          [
           768,
           52,
           2,
           "Casper (1995)"
          ],
          [
           769,
           42,
           1.63,
           "Congo (1995)"
          ],
          [
           770,
           57,
           2.19,
           "Devil in a Blue Dress (1995)"
          ],
          [
           771,
           41,
           1.7,
           "Johnny Mnemonic (1995)"
          ],
          [
           772,
           49,
           1.96,
           "Kids (1995)"
          ],
          [
           773,
           17,
           1.47,
           "Mute Witness (1994)"
          ],
          [
           774,
           32,
           1.71,
           "Prophecy, The (1995)"
          ],
          [
           775,
           26,
           1.57,
           "Something to Talk About (1995)"
          ],
          [
           776,
           9,
           1.34,
           "Three Wishes (1995)"
          ],
          [
           777,
           4,
           1.06,
           "Castle Freak (1995)"
          ],
          [
           778,
           76,
           2.45,
           "Don Juan DeMarco (1995)"
          ],
          [
           779,
           31,
           1.56,
           "Drop Zone (1994)"
          ],
          [
           780,
           69,
           2.1,
           "Dumb & Dumber (1994)"
          ],
          [
           781,
           84,
           2.39,
           "French Kiss (1995)"
          ],
          [
           782,
           10,
           1.27,
           "Little Odessa (1994)"
          ],
          [
           783,
           37,
           1.7,
           "Milk Money (1994)"
          ],
          [
           784,
           2,
           1.05,
           "Beyond Bedlam (1993)"
          ],
          [
           785,
           39,
           1.88,
           "Only You (1994)"
          ],
          [
           786,
           14,
           1.36,
           "Perez Family, The (1995)"
          ],
          [
           787,
           13,
           1.44,
           "Roommates (1995)"
          ],
          [
           788,
           3,
           1.08,
           "Relative Fear (1994)"
          ],
          [
           789,
           47,
           2.17,
           "Swimming with Sharks (1995)"
          ],
          [
           790,
           66,
           2.03,
           "Tommy Boy (1995)"
          ],
          [
           791,
           10,
           1.26,
           "Baby-Sitters Club, The (1995)"
          ],
          [
           792,
           86,
           2.63,
           "Bullets Over Broadway (1994)"
          ],
          [
           793,
           10,
           1.4,
           "Crooklyn (1994)"
          ],
          [
           794,
           46,
           2.19,
           "It Could Happen to You (1994)"
          ],
          [
           795,
           21,
           1.41,
           "Richie Rich (1994)"
          ],
          [
           796,
           36,
           1.82,
           "Speechless (1994)"
          ],
          [
           797,
           31,
           1.75,
           "Timecop (1994)"
          ],
          [
           798,
           9,
           1.21,
           "Bad Company (1995)"
          ],
          [
           799,
           5,
           1.22,
           "Boys Life (1995)"
          ],
          [
           800,
           26,
           1.61,
           "In the Mouth of Madness (1995)"
          ],
          [
           801,
           16,
           1.43,
           "Air Up There, The (1994)"
          ],
          [
           802,
           40,
           1.71,
           "Hard Target (1993)"
          ],
          [
           803,
           9,
           1.25,
           "Heaven & Earth (1993)"
          ],
          [
           804,
           8,
           1.27,
           "Jimmy Hollywood (1994)"
          ],
          [
           805,
           27,
           1.86,
           "Manhattan Murder Mystery (1993)"
          ],
          [
           806,
           50,
           2.15,
           "Menace II Society (1993)"
          ],
          [
           807,
           9,
           1.28,
           "Poetic Justice (1993)"
          ],
          [
           808,
           31,
           1.66,
           "Program, The (1993)"
          ],
          [
           809,
           43,
           1.83,
           "Rising Sun (1993)"
          ],
          [
           810,
           45,
           1.84,
           "Shadow, The (1994)"
          ],
          [
           811,
           18,
           1.72,
           "Thirty-Two Short Films About Glenn Gould (1993)"
          ],
          [
           812,
           18,
           1.53,
           "Andre (1994)"
          ],
          [
           813,
           56,
           2.43,
           "Celluloid Closet, The (1995)"
          ],
          [
           814,
           1,
           1.12,
           "Great Day in Harlem, A (1994)"
          ],
          [
           815,
           112,
           2.48,
           "One Fine Day (1996)"
          ],
          [
           816,
           21,
           1.41,
           "Candyman: Farewell to the Flesh (1995)"
          ],
          [
           817,
           3,
           1.13,
           "Frisk (1995)"
          ],
          [
           818,
           25,
           1.56,
           "Girl 6 (1996)"
          ],
          [
           819,
           40,
           1.71,
           "Eddie (1996)"
          ],
          [
           820,
           93,
           2.1,
           "Space Jam (1996)"
          ],
          [
           821,
           22,
           1.59,
           "Mrs. Winterbourne (1996)"
          ],
          [
           822,
           4,
           1.17,
           "Faces (1968)"
          ],
          [
           823,
           82,
           2.11,
           "Mulholland Falls (1996)"
          ],
          [
           824,
           49,
           1.82,
           "Great White Hype, The (1996)"
          ],
          [
           825,
           83,
           2.21,
           "Arrival, The (1996)"
          ],
          [
           826,
           80,
           1.93,
           "Phantom, The (1996)"
          ],
          [
           827,
           57,
           1.89,
           "Daylight (1996)"
          ],
          [
           828,
           13,
           1.35,
           "Alaska (1996)"
          ],
          [
           829,
           34,
           1.63,
           "Fled (1996)"
          ],
          [
           830,
           1,
           1.05,
           "Power 98 (1995)"
          ],
          [
           831,
           91,
           1.9,
           "Escape from L.A. (1996)"
          ],
          [
           832,
           22,
           1.46,
           "Bogus (1996)"
          ],
          [
           833,
           49,
           2.02,
           "Bulletproof (1996)"
          ],
          [
           834,
           25,
           1.39,
           "Halloween: The Curse of Michael Myers (1995)"
          ],
          [
           835,
           15,
           1.62,
           "Gay Divorcee, The (1934)"
          ],
          [
           836,
           26,
           1.88,
           "Ninotchka (1939)"
          ],
          [
           837,
           25,
           1.9,
           "Meet John Doe (1941)"
          ],
          [
           838,
           4,
           1.16,
           "In the Line of Duty 2 (1987)"
          ],
          [
           839,
           4,
           1.14,
           "Loch Ness (1995)"
          ],
          [
           840,
           53,
           1.81,
           "Last Man Standing (1996)"
          ],
          [
           841,
           48,
           1.81,
           "Glimmer Man, The (1996)"
          ],
          [
           842,
           27,
           1.71,
           "Pollyanna (1960)"
          ],
          [
           843,
           30,
           1.71,
           "Shaggy Dog, The (1959)"
          ],
          [
           844,
           42,
           2.01,
           "Freeway (1996)"
          ],
          [
           845,
           176,
           2.86,
           "That Thing You Do! (1996)"
          ],
          [
           846,
           44,
           1.91,
           "To Gillian on Her 37th Birthday (1996)"
          ],
          [
           847,
           55,
           2.34,
           "Looking for Richard (1996)"
          ],
          [
           848,
           9,
           1.38,
           "Murder, My Sweet (1944)"
          ],
          [
           849,
           53,
           1.84,
           "Days of Thunder (1990)"
          ],
          [
           850,
           4,
           1.24,
           "Perfect Candidate, A (1996)"
          ],
          [
           851,
           4,
           1.22,
           "Two or Three Things I Know About Her (1966)"
          ],
          [
           852,
           1,
           1.05,
           "Bloody Child, The (1996)"
          ],
          [
           853,
           14,
           1.59,
           "Braindead (1992)"
          ],
          [
           854,
           16,
           1.54,
           "Bad Taste (1987)"
          ],
          [
           855,
           66,
           2.46,
           "Diva (1981)"
          ],
          [
           856,
           36,
           2.1,
           "Night on Earth (1991)"
          ],
          [
           857,
           1,
           1.08,
           "Paris Was a Woman (1995)"
          ],
          [
           858,
           3,
           1.05,
           "Amityville: Dollhouse (1996)"
          ],
          [
           859,
           15,
           1.38,
           "April Fool's Day (1986)"
          ],
          [
           860,
           16,
           1.31,
           "Believers, The (1987)"
          ],
          [
           861,
           3,
           1.11,
           "Nosferatu a Venezia (1986)"
          ],
          [
           862,
           18,
           1.3,
           "Jingle All the Way (1996)"
          ],
          [
           863,
           24,
           1.88,
           "Garden of Finzi-Contini, The (Giardino dei Finzi-Contini, Il) (1970)"
          ],
          [
           864,
           86,
           2.3,
           "My Fellow Americans (1996)"
          ],
          [
           865,
           21,
           1.68,
           "Ice Storm, The (1997)"
          ],
          [
           866,
           119,
           2.56,
           "Michael (1996)"
          ],
          [
           867,
           6,
           1.32,
           "Whole Wide World, The (1996)"
          ],
          [
           868,
           5,
           1.26,
           "Hearts and Minds (1996)"
          ],
          [
           869,
           24,
           1.61,
           "Fools Rush In (1997)"
          ],
          [
           870,
           9,
           1.28,
           "Touch (1997)"
          ],
          [
           871,
           75,
           1.8,
           "Vegas Vacation (1997)"
          ],
          [
           872,
           42,
           1.9,
           "Love Jones (1997)"
          ],
          [
           873,
           81,
           2.15,
           "Picture Perfect (1997)"
          ],
          [
           874,
           39,
           1.93,
           "Career Girls (1997)"
          ],
          [
           875,
           53,
           1.85,
           "She's So Lovely (1997)"
          ],
          [
           876,
           47,
           1.78,
           "Money Talks (1997)"
          ],
          [
           877,
           52,
           1.75,
           "Excess Baggage (1997)"
          ],
          [
           878,
           33,
           1.57,
           "That Darn Cat! (1997)"
          ],
          [
           879,
           136,
           2.6,
           "Peacemaker, The (1997)"
          ],
          [
           880,
           59,
           2.11,
           "Soul Food (1997)"
          ],
          [
           881,
           45,
           1.86,
           "Money Talks (1997)"
          ],
          [
           882,
           34,
           1.87,
           "Washington Square (1997)"
          ],
          [
           883,
           13,
           1.44,
           "Telling Lies in America (1997)"
          ],
          [
           884,
           7,
           1.29,
           "Year of the Horse (1997)"
          ],
          [
           885,
           13,
           1.26,
           "Phantoms (1998)"
          ],
          [
           886,
           53,
           2.01,
           "Life Less Ordinary, A (1997)"
          ],
          [
           887,
           64,
           2.38,
           "Eve's Bayou (1997)"
          ],
          [
           888,
           15,
           1.54,
           "One Night Stand (1997)"
          ],
          [
           889,
           13,
           1.47,
           "Tango Lesson, The (1997)"
          ],
          [
           890,
           43,
           1.43,
           "Mortal Kombat: Annihilation (1997)"
          ],
          [
           891,
           6,
           1.2,
           "Bent (1997)"
          ],
          [
           892,
           53,
           1.85,
           "Flubber (1997)"
          ],
          [
           893,
           14,
           1.31,
           "For Richer or Poorer (1997)"
          ],
          [
           894,
           19,
           1.26,
           "Home Alone 3 (1997)"
          ],
          [
           895,
           106,
           2.44,
           "Scream 2 (1997)"
          ],
          [
           896,
           44,
           2.21,
           "Sweet Hereafter, The (1997)"
          ],
          [
           897,
           2,
           1.07,
           "Time Tracers (1995)"
          ],
          [
           898,
           58,
           2.12,
           "Postman, The (1997)"
          ],
          [
           899,
           9,
           1.37,
           "Winter Guest, The (1997)"
          ],
          [
           900,
           42,
           2.14,
           "Kundun (1997)"
          ],
          [
           901,
           12,
           1.2,
           "Mr. Magoo (1997)"
          ],
          [
           902,
           42,
           2.2,
           "Big Lebowski, The (1998)"
          ],
          [
           903,
           18,
           1.53,
           "Afterglow (1997)"
          ],
          [
           904,
           20,
           1.66,
           "Ma vie en rose (My Life in Pink) (1997)"
          ],
          [
           905,
           27,
           1.73,
           "Great Expectations (1998)"
          ],
          [
           906,
           21,
           1.61,
           "Oscar & Lucinda (1997)"
          ],
          [
           907,
           2,
           1.08,
           "Vermin (1998)"
          ],
          [
           908,
           20,
           1.42,
           "Half Baked (1998)"
          ],
          [
           909,
           13,
           1.54,
           "Dangerous Beauty (1998)"
          ],
          [
           910,
           4,
           1.11,
           "Nil By Mouth (1997)"
          ],
          [
           911,
           4,
           1.14,
           "Twilight (1998)"
          ],
          [
           912,
           9,
           1.31,
           "U.S. Marshalls (1998)"
          ],
          [
           913,
           2,
           1.1,
           "Love and Death on Long Island (1997)"
          ],
          [
           914,
           11,
           1.31,
           "Wild Things (1998)"
          ],
          [
           915,
           13,
           1.57,
           "Primary Colors (1998)"
          ],
          [
           916,
           18,
           1.54,
           "Lost in Space (1998)"
          ],
          [
           917,
           7,
           1.3,
           "Mercury Rising (1998)"
          ],
          [
           918,
           8,
           1.28,
           "City of Angels (1998)"
          ],
          [
           919,
           96,
           2.74,
           "City of Lost Children, The (1995)"
          ],
          [
           920,
           5,
           1.14,
           "Two Bits (1995)"
          ],
          [
           921,
           46,
           2.33,
           "Farewell My Concubine (1993)"
          ],
          [
           922,
           34,
           2.06,
           "Dead Man (1995)"
          ],
          [
           923,
           58,
           2.58,
           "Raise the Red Lantern (1991)"
          ],
          [
           924,
           85,
           2.43,
           "White Squall (1996)"
          ],
          [
           925,
           34,
           1.88,
           "Unforgettable (1996)"
          ],
          [
           926,
           101,
           2.09,
           "Down Periscope (1996)"
          ],
          [
           927,
           6,
           1.25,
           "Flower of My Secret, The (Flor de mi secreto, La) (1995)"
          ],
          [
           928,
           104,
           2.36,
           "Craft, The (1996)"
          ],
          [
           929,
           40,
           1.71,
           "Harriet the Spy (1996)"
          ],
          [
           930,
           80,
           2,
           "Chain Reaction (1996)"
          ],
          [
           931,
           57,
           1.59,
           "Island of Dr. Moreau, The (1996)"
          ],
          [
           932,
           40,
           1.81,
           "First Kid (1996)"
          ],
          [
           933,
           21,
           1.41,
           "Funeral, The (1996)"
          ],
          [
           934,
           68,
           2.05,
           "Preacher's Wife, The (1996)"
          ],
          [
           935,
           7,
           1.29,
           "Paradise Road (1997)"
          ],
          [
           936,
           32,
           2.06,
           "Brassed Off (1996)"
          ],
          [
           937,
           37,
           1.95,
           "Thousand Acres, A (1997)"
          ],
          [
           938,
           25,
           1.59,
           "Smile Like Yours, A (1997)"
          ],
          [
           939,
           60,
           2.33,
           "Murder in the First (1995)"
          ],
          [
           940,
           32,
           1.5,
           "Airheads (1994)"
          ],
          [
           941,
           46,
           1.93,
           "With Honors (1994)"
          ],
          [
           942,
           45,
           2.1,
           "What's Love Got to Do with It (1993)"
          ],
          [
           943,
           40,
           2.03,
           "Killing Zoe (1994)"
          ],
          [
           944,
           43,
           1.87,
           "Renaissance Man (1994)"
          ],
          [
           945,
           40,
           2.21,
           "Charade (1963)"
          ],
          [
           946,
           61,
           2.11,
           "Fox and the Hound, The (1981)"
          ],
          [
           947,
           17,
           1.54,
           "Big Blue, The (Grand bleu, Le) (1988)"
          ],
          [
           948,
           48,
           1.55,
           "Booty Call (1997)"
          ],
          [
           949,
           71,
           2.3,
           "How to Make an American Quilt (1995)"
          ],
          [
           950,
           30,
           1.67,
           "Georgia (1995)"
          ],
          [
           951,
           39,
           1.75,
           "Indian in the Cupboard, The (1995)"
          ],
          [
           952,
           45,
           1.97,
           "Blue in the Face (1995)"
          ],
          [
           953,
           22,
           1.66,
           "Unstrung Heroes (1995)"
          ],
          [
           954,
           11,
           1.44,
           "Unzipped (1995)"
          ],
          [
           955,
           49,
           2.12,
           "Before Sunrise (1995)"
          ],
          [
           956,
           46,
           2.17,
           "Nobody's Fool (1994)"
          ],
          [
           957,
           2,
           1.08,
           "Pushing Hands (1992)"
          ],
          [
           958,
           14,
           1.57,
           "To Live (Huozhe) (1994)"
          ],
          [
           959,
           64,
           2.3,
           "Dazed and Confused (1993)"
          ],
          [
           960,
           25,
           1.7,
           "Naked (1993)"
          ],
          [
           961,
           34,
           1.99,
           "Orlando (1993)"
          ],
          [
           962,
           23,
           1.63,
           "Ruby in Paradise (1993)"
          ],
          [
           963,
           41,
           2.37,
           "Some Folks Call It a Sling Blade (1993)"
          ],
          [
           964,
           9,
           1.35,
           "Month by the Lake, A (1995)"
          ],
          [
           965,
           21,
           1.73,
           "Funny Face (1957)"
          ],
          [
           966,
           26,
           2.01,
           "Affair to Remember, An (1957)"
          ],
          [
           967,
           12,
           1.41,
           "Little Lord Fauntleroy (1936)"
          ],
          [
           968,
           18,
           1.67,
           "Inspector General, The (1949)"
          ],
          [
           969,
           75,
           2.58,
           "Winnie the Pooh and the Blustery Day (1968)"
          ],
          [
           970,
           8,
           1.31,
           "Hear My Song (1991)"
          ],
          [
           971,
           34,
           2.01,
           "Mediterraneo (1991)"
          ],
          [
           972,
           28,
           1.73,
           "Passion Fish (1992)"
          ],
          [
           973,
           4,
           1.21,
           "Grateful Dead (1995)"
          ],
          [
           974,
           32,
           1.74,
           "Eye for an Eye (1996)"
          ],
          [
           975,
           44,
           1.95,
           "Fear (1996)"
          ],
          [
           976,
           12,
           1.18,
           "Solo (1996)"
          ],
          [
           977,
           49,
           1.79,
           "Substitute, The (1996)"
          ],
          [
           978,
           27,
           1.51,
           "Heaven's Prisoners (1996)"
          ],
          [
           979,
           35,
           1.85,
           "Trigger Effect, The (1996)"
          ],
          [
           980,
           22,
           1.63,
           "Mother Night (1996)"
          ],
          [
           981,
           8,
           1.13,
           "Dangerous Ground (1997)"
          ],
          [
           982,
           20,
           1.49,
           "Maximum Risk (1996)"
          ],
          [
           983,
           15,
           1.32,
           "Rich Man's Wife, The (1996)"
          ],
          [
           984,
           44,
           1.82,
           "Shadow Conspiracy (1997)"
          ],
          [
           985,
           22,
           1.54,
           "Blood & Wine (1997)"
          ],
          [
           986,
           23,
           1.47,
           "Turbulence (1997)"
          ],
          [
           987,
           4,
           1.14,
           "Underworld (1997)"
          ],
          [
           988,
           86,
           1.8,
           "Beautician and the Beast, The (1997)"
          ],
          [
           989,
           32,
           1.68,
           "Cats Don't Dance (1997)"
          ],
          [
           990,
           33,
           1.78,
           "Anna Karenina (1997)"
          ],
          [
           991,
           25,
           1.4,
           "Keys to Tulsa (1997)"
          ],
          [
           992,
           4,
           1.17,
           "Head Above Water (1996)"
          ],
          [
           993,
           66,
           2.35,
           "Hercules (1997)"
          ],
          [
           994,
           7,
           1.18,
           "Last Time I Committed Suicide, The (1997)"
          ],
          [
           995,
           31,
           1.77,
           "Kiss Me, Guido (1997)"
          ],
          [
           996,
           14,
           1.33,
           "Big Green, The (1995)"
          ],
          [
           997,
           16,
           1.28,
           "Stuart Saves His Family (1995)"
          ],
          [
           998,
           16,
           1.37,
           "Cabin Boy (1994)"
          ],
          [
           999,
           10,
           1.3,
           "Clean Slate (1994)"
          ],
          [
           1000,
           10,
           1.33,
           "Lightning Jack (1994)"
          ],
          [
           1001,
           17,
           1.26,
           "Stupids, The (1996)"
          ],
          [
           1002,
           8,
           1.15,
           "Pest, The (1997)"
          ],
          [
           1003,
           8,
           1.19,
           "That Darn Cat! (1997)"
          ],
          [
           1004,
           9,
           1.32,
           "Geronimo: An American Legend (1993)"
          ],
          [
           1005,
           22,
           1.76,
           "Double vie de Véronique, La (Double Life of Veronique, The) (1991)"
          ],
          [
           1006,
           23,
           1.55,
           "Until the End of the World (Bis ans Ende der Welt) (1991)"
          ],
          [
           1007,
           47,
           2.41,
           "Waiting for Guffman (1996)"
          ],
          [
           1008,
           37,
           1.94,
           "I Shot Andy Warhol (1996)"
          ],
          [
           1009,
           64,
           2.26,
           "Stealing Beauty (1996)"
          ],
          [
           1010,
           44,
           1.99,
           "Basquiat (1996)"
          ],
          [
           1011,
           93,
           2.38,
           "2 Days in the Valley (1996)"
          ],
          [
           1012,
           100,
           2.61,
           "Private Parts (1997)"
          ],
          [
           1013,
           38,
           1.53,
           "Anaconda (1997)"
          ],
          [
           1014,
           98,
           2.3,
           "Romy and Michele's High School Reunion (1997)"
          ],
          [
           1015,
           12,
           1.35,
           "Shiloh (1997)"
          ],
          [
           1016,
           137,
           2.73,
           "Con Air (1997)"
          ],
          [
           1017,
           50,
           2.05,
           "Trees Lounge (1996)"
          ],
          [
           1018,
           32,
           1.8,
           "Tie Me Up! Tie Me Down! (1990)"
          ],
          [
           1019,
           31,
           2.05,
           "Die xue shuang xiong (Killer, The) (1989)"
          ],
          [
           1020,
           35,
           2.1,
           "Gaslight (1944)"
          ],
          [
           1021,
           38,
           2.13,
           "8 1/2 (1963)"
          ],
          [
           1022,
           32,
           1.89,
           "Fast, Cheap & Out of Control (1997)"
          ],
          [
           1023,
           31,
           1.58,
           "Fathers' Day (1997)"
          ],
          [
           1024,
           15,
           1.57,
           "Mrs. Dalloway (1997)"
          ],
          [
           1025,
           44,
           1.85,
           "Fire Down Below (1997)"
          ],
          [
           1026,
           4,
           1.14,
           "Lay of the Land, The (1997)"
          ],
          [
           1027,
           3,
           1.13,
           "Shooter, The (1995)"
          ],
          [
           1028,
           148,
           2.47,
           "Grumpier Old Men (1995)"
          ],
          [
           1029,
           14,
           1.23,
           "Jury Duty (1995)"
          ],
          [
           1030,
           20,
           1.35,
           "Beverly Hillbillies, The (1993)"
          ],
          [
           1031,
           7,
           1.18,
           "Lassie (1994)"
          ],
          [
           1032,
           16,
           1.44,
           "Little Big League (1994)"
          ],
          [
           1033,
           32,
           1.66,
           "Homeward Bound II: Lost in San Francisco (1996)"
          ],
          [
           1034,
           27,
           1.51,
           "Quest, The (1996)"
          ],
          [
           1035,
           68,
           2.18,
           "Cool Runnings (1993)"
          ],
          [
           1036,
           24,
           1.54,
           "Drop Dead Fred (1991)"
          ],
          [
           1037,
           24,
           1.32,
           "Grease 2 (1982)"
          ],
          [
           1038,
           17,
           1.45,
           "Switchback (1997)"
          ],
          [
           1039,
           90,
           2.83,
           "Hamlet (1996)"
          ],
          [
           1040,
           25,
           1.51,
           "Two if by Sea (1996)"
          ],
          [
           1041,
           62,
           2.15,
           "Forget Paris (1995)"
          ],
          [
           1042,
           28,
           1.72,
           "Just Cause (1995)"
          ],
          [
           1043,
           8,
           1.28,
           "Rent-a-Kid (1995)"
          ],
          [
           1044,
           40,
           1.93,
           "Paper, The (1994)"
          ],
          [
           1045,
           25,
           1.7,
           "Fearless (1993)"
          ],
          [
           1046,
           46,
           1.98,
           "Malice (1993)"
          ],
          [
           1047,
           134,
           2.29,
           "Multiplicity (1996)"
          ],
          [
           1048,
           73,
           2.13,
           "She's the One (1996)"
          ],
          [
           1049,
           25,
           1.49,
           "House Arrest (1996)"
          ],
          [
           1050,
           43,
           2.14,
           "Ghost and Mrs. Muir, The (1947)"
          ],
          [
           1051,
           41,
           1.95,
           "Associate, The (1996)"
          ],
          [
           1052,
           25,
           1.42,
           "Dracula: Dead and Loving It (1995)"
          ],
          [
           1053,
           24,
           1.74,
           "Now and Then (1995)"
          ],
          [
           1054,
           23,
           1.4,
           "Mr. Wrong (1996)"
          ],
          [
           1055,
           10,
           1.36,
           "Simple Twist of Fate, A (1994)"
          ],
          [
           1056,
           10,
           1.36,
           "Cronos (1992)"
          ],
          [
           1057,
           22,
           1.39,
           "Pallbearer, The (1996)"
          ],
          [
           1058,
           15,
           1.5,
           "War, The (1994)"
          ],
          [
           1059,
           35,
           1.69,
           "Don't Be a Menace to South Central While Drinking Your Juice in the Hood (1996)"
          ],
          [
           1060,
           39,
           1.84,
           "Adventures of Pinocchio, The (1996)"
          ],
          [
           1061,
           29,
           1.67,
           "Evening Star, The (1996)"
          ],
          [
           1062,
           12,
           1.5,
           "Four Days in September (1997)"
          ],
          [
           1063,
           41,
           2.12,
           "Little Princess, A (1995)"
          ],
          [
           1064,
           4,
           1.25,
           "Crossfire (1947)"
          ],
          [
           1065,
           53,
           2.2,
           "Koyaanisqatsi (1983)"
          ],
          [
           1066,
           16,
           1.46,
           "Balto (1995)"
          ],
          [
           1067,
           44,
           2.07,
           "Bottle Rocket (1996)"
          ],
          [
           1068,
           12,
           1.41,
           "Star Maker, The (Uomo delle stelle, L') (1995)"
          ],
          [
           1069,
           18,
           1.54,
           "Amateur (1994)"
          ],
          [
           1070,
           27,
           1.89,
           "Living in Oblivion (1995)"
          ],
          [
           1071,
           16,
           1.44,
           "Party Girl (1995)"
          ],
          [
           1072,
           7,
           1.2,
           "Pyromaniac's Love Story, A (1995)"
          ],
          [
           1073,
           66,
           2.51,
           "Shallow Grave (1994)"
          ],
          [
           1074,
           77,
           2.13,
           "Reality Bites (1994)"
          ],
          [
           1075,
           7,
           1.3,
           "Man of No Importance, A (1994)"
          ],
          [
           1076,
           12,
           1.25,
           "Pagemaster, The (1994)"
          ],
          [
           1077,
           8,
           1.3,
           "Love and a .45 (1994)"
          ],
          [
           1078,
           22,
           1.52,
           "Oliver & Company (1988)"
          ],
          [
           1079,
           45,
           1.57,
           "Joe's Apartment (1996)"
          ],
          [
           1080,
           2,
           1.15,
           "Celestial Clockwork (1994)"
          ],
          [
           1081,
           8,
           1.25,
           "Curdled (1996)"
          ],
          [
           1082,
           8,
           1.24,
           "Female Perversions (1996)"
          ],
          [
           1083,
           6,
           1.18,
           "Albino Alligator (1996)"
          ],
          [
           1084,
           21,
           1.78,
           "Anne Frank Remembered (1995)"
          ],
          [
           1085,
           11,
           1.36,
           "Carried Away (1996)"
          ],
          [
           1086,
           21,
           1.63,
           "It's My Party (1995)"
          ],
          [
           1087,
           10,
           1.15,
           "Bloodsport 2 (1995)"
          ],
          [
           1088,
           13,
           1.26,
           "Double Team (1997)"
          ],
          [
           1089,
           38,
           1.47,
           "Speed 2: Cruise Control (1997)"
          ],
          [
           1090,
           37,
           1.57,
           "Sliver (1993)"
          ],
          [
           1091,
           43,
           1.75,
           "Pete's Dragon (1977)"
          ],
          [
           1092,
           12,
           1.29,
           "Dear God (1996)"
          ],
          [
           1093,
           23,
           1.62,
           "Live Nude Girls (1995)"
          ],
          [
           1094,
           12,
           1.28,
           "Thin Line Between Love and Hate, A (1996)"
          ],
          [
           1095,
           29,
           1.57,
           "High School High (1996)"
          ],
          [
           1096,
           3,
           1.13,
           "Commandments (1997)"
          ],
          [
           1097,
           18,
           1.62,
           "Hate (Haine, La) (1995)"
          ],
          [
           1098,
           42,
           2.14,
           "Flirting With Disaster (1996)"
          ],
          [
           1099,
           13,
           1.48,
           "Red Firecracker, Green Firecracker (1994)"
          ],
          [
           1100,
           8,
           1.24,
           "What Happened Was... (1994)"
          ],
          [
           1101,
           74,
           2.56,
           "Six Degrees of Separation (1993)"
          ],
          [
           1102,
           7,
           1.2,
           "Two Much (1996)"
          ],
          [
           1103,
           19,
           1.71,
           "Trust (1990)"
          ],
          [
           1104,
           4,
           1.17,
           "C'est arrivé près de chez vous (1992)"
          ],
          [
           1105,
           18,
           1.47,
           "Firestorm (1998)"
          ],
          [
           1106,
           4,
           1.17,
           "Newton Boys, The (1998)"
          ],
          [
           1107,
           18,
           1.52,
           "Beyond Rangoon (1995)"
          ],
          [
           1108,
           5,
           1.16,
           "Feast of July (1995)"
          ],
          [
           1109,
           28,
           1.81,
           "Death and the Maiden (1994)"
          ],
          [
           1110,
           41,
           1.79,
           "Tank Girl (1995)"
          ],
          [
           1111,
           7,
           1.3,
           "Double Happiness (1994)"
          ],
          [
           1112,
           15,
           1.4,
           "Cobb (1994)"
          ],
          [
           1113,
           22,
           1.65,
           "Mrs. Parker and the Vicious Circle (1994)"
          ],
          [
           1114,
           10,
           1.38,
           "Faithful (1996)"
          ],
          [
           1115,
           29,
           1.83,
           "Twelfth Night (1996)"
          ],
          [
           1116,
           13,
           1.51,
           "Mark of Zorro, The (1940)"
          ],
          [
           1117,
           19,
           1.55,
           "Surviving Picasso (1996)"
          ],
          [
           1118,
           47,
           2.02,
           "Up in Smoke (1978)"
          ],
          [
           1119,
           59,
           2.35,
           "Some Kind of Wonderful (1987)"
          ],
          [
           1120,
           17,
           1.48,
           "I'm Not Rappaport (1996)"
          ],
          [
           1121,
           21,
           1.76,
           "Umbrellas of Cherbourg, The (Parapluies de Cherbourg, Les) (1964)"
          ],
          [
           1122,
           1,
           1.12,
           "They Made Me a Criminal (1939)"
          ],
          [
           1123,
           3,
           1.18,
           "Last Time I Saw Paris, The (1954)"
          ],
          [
           1124,
           12,
           1.52,
           "Farewell to Arms, A (1932)"
          ],
          [
           1125,
           4,
           1.25,
           "Innocents, The (1961)"
          ],
          [
           1126,
           32,
           1.85,
           "Old Man and the Sea, The (1958)"
          ],
          [
           1127,
           11,
           1.34,
           "Truman Show, The (1998)"
          ],
          [
           1128,
           13,
           1.35,
           "Heidi Fleiss: Hollywood Madam (1995) "
          ],
          [
           1129,
           28,
           1.86,
           "Chungking Express (1994)"
          ],
          [
           1130,
           1,
           1.1,
           "Jupiter's Wife (1994)"
          ],
          [
           1131,
           13,
           1.58,
           "Safe (1995)"
          ],
          [
           1132,
           32,
           1.6,
           "Feeling Minnesota (1996)"
          ],
          [
           1133,
           30,
           1.69,
           "Escape to Witch Mountain (1975)"
          ],
          [
           1134,
           38,
           1.93,
           "Get on the Bus (1996)"
          ],
          [
           1135,
           46,
           1.89,
           "Doors, The (1991)"
          ],
          [
           1136,
           29,
           1.85,
           "Ghosts of Mississippi (1996)"
          ],
          [
           1137,
           29,
           2.01,
           "Beautiful Thing (1996)"
          ],
          [
           1138,
           5,
           1.23,
           "Best Men (1997)"
          ],
          [
           1139,
           33,
           1.61,
           "Hackers (1995)"
          ],
          [
           1140,
           17,
           1.33,
           "Road to Wellville, The (1994)"
          ],
          [
           1141,
           9,
           1.35,
           "War Room, The (1993)"
          ],
          [
           1142,
           44,
           2.33,
           "When We Were Kings (1996)"
          ],
          [
           1143,
           15,
           1.65,
           "Hard Eight (1996)"
          ],
          [
           1144,
           3,
           1.18,
           "Quiet Room, The (1996)"
          ],
          [
           1145,
           9,
           1.26,
           "Blue Chips (1994)"
          ],
          [
           1146,
           3,
           1.1,
           "Calendar Girl (1993)"
          ],
          [
           1147,
           21,
           1.73,
           "My Family (1995)"
          ],
          [
           1148,
           9,
           1.35,
           "Tom & Viv (1994)"
          ],
          [
           1149,
           26,
           1.9,
           "Walkabout (1971)"
          ],
          [
           1150,
           9,
           1.32,
           "Last Dance (1996)"
          ],
          [
           1151,
           7,
           1.17,
           "Original Gangstas (1996)"
          ],
          [
           1152,
           28,
           1.81,
           "In Love and War (1996)"
          ],
          [
           1153,
           19,
           1.64,
           "Backbeat (1993)"
          ],
          [
           1154,
           12,
           1.43,
           "Alphaville (1965)"
          ],
          [
           1155,
           3,
           1.16,
           "Rendezvous in Paris (Rendez-vous de Paris, Les) (1995)"
          ],
          [
           1156,
           1,
           1.08,
           "Cyclo (1995)"
          ],
          [
           1157,
           25,
           1.59,
           "Relic, The (1997)"
          ],
          [
           1158,
           4,
           1.24,
           "Fille seule, La (A Single Girl) (1995)"
          ],
          [
           1159,
           11,
           1.44,
           "Stalker (1979)"
          ],
          [
           1160,
           26,
           1.83,
           "Love! Valour! Compassion! (1997)"
          ],
          [
           1161,
           13,
           1.39,
           "Palookaville (1996)"
          ],
          [
           1162,
           5,
           1.09,
           "Phat Beach (1996)"
          ],
          [
           1163,
           25,
           1.53,
           "Portrait of a Lady, The (1996)"
          ],
          [
           1164,
           6,
           1.15,
           "Zeus and Roxanne (1997)"
          ],
          [
           1165,
           14,
           1.21,
           "Big Bully (1996)"
          ],
          [
           1166,
           12,
           1.41,
           "Love & Human Remains (1993)"
          ],
          [
           1167,
           11,
           1.44,
           "Sum of Us, The (1994)"
          ],
          [
           1168,
           22,
           1.66,
           "Little Buddha (1993)"
          ],
          [
           1169,
           10,
           1.49,
           "Fresh (1994)"
          ],
          [
           1170,
           27,
           1.68,
           "Spanking the Monkey (1994)"
          ],
          [
           1171,
           14,
           1.45,
           "Wild Reeds (1994)"
          ],
          [
           1172,
           15,
           1.58,
           "Women, The (1939)"
          ],
          [
           1173,
           7,
           1.21,
           "Bliss (1997)"
          ],
          [
           1174,
           8,
           1.31,
           "Caught (1996)"
          ],
          [
           1175,
           5,
           1.23,
           "Hugo Pool (1997)"
          ],
          [
           1176,
           22,
           1.68,
           "Welcome To Sarajevo (1997)"
          ],
          [
           1177,
           7,
           1.14,
           "Dunston Checks In (1996)"
          ],
          [
           1178,
           19,
           1.4,
           "Major Payne (1994)"
          ],
          [
           1179,
           9,
           1.19,
           "Man of the House (1995)"
          ],
          [
           1180,
           10,
           1.26,
           "I Love Trouble (1994)"
          ],
          [
           1181,
           10,
           1.26,
           "Low Down Dirty Shame, A (1994)"
          ],
          [
           1182,
           13,
           1.28,
           "Cops and Robbersons (1994)"
          ],
          [
           1183,
           19,
           1.33,
           "Cowboy Way, The (1994)"
          ],
          [
           1184,
           10,
           1.26,
           "Endless Summer 2, The (1994)"
          ],
          [
           1185,
           18,
           1.34,
           "In the Army Now (1994)"
          ],
          [
           1186,
           3,
           1.16,
           "Inkwell, The (1994)"
          ],
          [
           1187,
           13,
           1.44,
           "Switchblade Sisters (1975)"
          ],
          [
           1188,
           44,
           1.78,
           "Young Guns II (1990)"
          ],
          [
           1189,
           3,
           1.24,
           "Prefontaine (1997)"
          ],
          [
           1190,
           11,
           1.41,
           "That Old Feeling (1997)"
          ],
          [
           1191,
           3,
           1.21,
           "Letter From Death Row, A (1998)"
          ],
          [
           1192,
           13,
           1.47,
           "Boys of St. Vincent, The (1993)"
          ],
          [
           1193,
           10,
           1.45,
           "Before the Rain (Pred dozhdot) (1994)"
          ],
          [
           1194,
           31,
           2.08,
           "Once Were Warriors (1994)"
          ],
          [
           1195,
           11,
           1.4,
           "Strawberry and Chocolate (Fresa y chocolate) (1993)"
          ],
          [
           1196,
           3,
           1.15,
           "Savage Nights (Nuits fauves, Les) (1992)"
          ],
          [
           1197,
           45,
           2.13,
           "Family Thing, A (1996)"
          ],
          [
           1198,
           7,
           1.27,
           "Purple Noon (1960)"
          ],
          [
           1199,
           23,
           1.56,
           "Cemetery Man (Dellamorte Dellamore) (1994)"
          ],
          [
           1200,
           7,
           1.29,
           "Kim (1950)"
          ],
          [
           1201,
           1,
           1.12,
           "Marlene Dietrich: Shadow and Light (1996) "
          ],
          [
           1202,
           8,
           1.34,
           "Maybe, Maybe Not (Bewegte Mann, Der) (1994)"
          ],
          [
           1203,
           21,
           1.83,
           "Top Hat (1935)"
          ],
          [
           1204,
           18,
           1.65,
           "To Be or Not to Be (1942)"
          ],
          [
           1205,
           6,
           1.23,
           "Secret Agent, The (1996)"
          ],
          [
           1206,
           19,
           1.45,
           "Amos & Andrew (1993)"
          ],
          [
           1207,
           17,
           1.33,
           "Jade (1995)"
          ],
          [
           1208,
           20,
           1.5,
           "Kiss of Death (1995)"
          ],
          [
           1209,
           15,
           1.35,
           "Mixed Nuts (1994)"
          ],
          [
           1210,
           38,
           1.71,
           "Virtuosity (1995)"
          ],
          [
           1211,
           12,
           1.45,
           "Blue Sky (1994)"
          ],
          [
           1212,
           6,
           1.22,
           "Flesh and Bone (1993)"
          ],
          [
           1213,
           6,
           1.15,
           "Guilty as Sin (1993)"
          ],
          [
           1214,
           9,
           1.18,
           "In the Realm of the Senses (Ai no corrida) (1976)"
          ],
          [
           1215,
           30,
           1.35,
           "Barb Wire (1996)"
          ],
          [
           1216,
           6,
           1.23,
           "Kissed (1996)"
          ],
          [
           1217,
           39,
           1.77,
           "Assassins (1995)"
          ],
          [
           1218,
           26,
           1.78,
           "Friday (1995)"
          ],
          [
           1219,
           20,
           1.52,
           "Goofy Movie, A (1995)"
          ],
          [
           1220,
           30,
           1.82,
           "Higher Learning (1995)"
          ],
          [
           1221,
           39,
           2.02,
           "When a Man Loves a Woman (1994)"
          ],
          [
           1222,
           25,
           1.53,
           "Judgment Night (1993)"
          ],
          [
           1223,
           4,
           1.21,
           "King of the Hill (1993)"
          ],
          [
           1224,
           12,
           1.32,
           "Scout, The (1994)"
          ],
          [
           1225,
           14,
           1.36,
           "Angus (1995)"
          ],
          [
           1226,
           32,
           1.86,
           "Night Falls on Manhattan (1997)"
          ],
          [
           1227,
           8,
           1.21,
           "Awfully Big Adventure, An (1995)"
          ],
          [
           1228,
           48,
           1.68,
           "Under Siege 2: Dark Territory (1995)"
          ],
          [
           1229,
           13,
           1.25,
           "Poison Ivy II (1995)"
          ],
          [
           1230,
           18,
           1.23,
           "Ready to Wear (Pret-A-Porter) (1994)"
          ],
          [
           1231,
           22,
           1.44,
           "Marked for Death (1990)"
          ],
          [
           1232,
           17,
           1.37,
           "Madonna: Truth or Dare (1991)"
          ],
          [
           1233,
           6,
           1.28,
           "Nénette et Boni (1996)"
          ],
          [
           1234,
           8,
           1.21,
           "Chairman of the Board (1998)"
          ],
          [
           1235,
           1,
           1.1,
           "Big Bang Theory, The (1994)"
          ],
          [
           1236,
           1,
           1.08,
           "Other Voices, Other Rooms (1997)"
          ],
          [
           1237,
           6,
           1.28,
           "Twisted (1996)"
          ],
          [
           1238,
           8,
           1.3,
           "Full Speed (1996)"
          ],
          [
           1239,
           18,
           1.38,
           "Cutthroat Island (1995)"
          ],
          [
           1240,
           26,
           1.84,
           "Ghost in the Shell (Kokaku kidotai) (1995)"
          ],
          [
           1241,
           6,
           1.2,
           "Van, The (1996)"
          ],
          [
           1242,
           5,
           1.17,
           "Old Lady Who Walked in the Sea, The (Vieille qui marchait dans la mer, La) (1991)"
          ],
          [
           1243,
           7,
           1.33,
           "Night Flier (1997)"
          ],
          [
           1244,
           36,
           1.76,
           "Metro (1997)"
          ],
          [
           1245,
           19,
           1.57,
           "Gridlock'd (1997)"
          ],
          [
           1246,
           7,
           1.11,
           "Bushwhacked (1995)"
          ],
          [
           1247,
           6,
           1.12,
           "Bad Girls (1994)"
          ],
          [
           1248,
           19,
           1.52,
           "Blink (1994)"
          ],
          [
           1249,
           12,
           1.35,
           "For Love or Money (1993)"
          ],
          [
           1250,
           6,
           1.09,
           "Best of the Best 3: No Turning Back (1995)"
          ],
          [
           1251,
           8,
           1.42,
           "A Chef in Love (1996)"
          ],
          [
           1252,
           9,
           1.31,
           "Contempt (Mépris, Le) (1963)"
          ],
          [
           1253,
           7,
           1.2,
           "Tie That Binds, The (1995)"
          ],
          [
           1254,
           11,
           1.17,
           "Gone Fishin' (1997)"
          ],
          [
           1255,
           8,
           1.19,
           "Broken English (1996)"
          ],
          [
           1256,
           3,
           1.1,
           "Designated Mourner, The (1997)"
          ],
          [
           1257,
           4,
           1.1,
           "Designated Mourner, The (1997)"
          ],
          [
           1258,
           23,
           1.46,
           "Trial and Error (1997)"
          ],
          [
           1259,
           4,
           1.11,
           "Pie in the Sky (1995)"
          ],
          [
           1260,
           4,
           1.16,
           "Total Eclipse (1995)"
          ],
          [
           1261,
           4,
           1.19,
           "Run of the Country, The (1995)"
          ],
          [
           1262,
           8,
           1.36,
           "Walking and Talking (1996)"
          ],
          [
           1263,
           15,
           1.43,
           "Foxfire (1996)"
          ],
          [
           1264,
           7,
           1.29,
           "Nothing to Lose (1994)"
          ],
          [
           1265,
           19,
           1.54,
           "Star Maps (1997)"
          ],
          [
           1266,
           12,
           1.41,
           "Bread and Chocolate (Pane e cioccolata) (1973)"
          ],
          [
           1267,
           33,
           1.75,
           "Clockers (1995)"
          ],
          [
           1268,
           10,
           1.38,
           "Bitter Moon (1992)"
          ],
          [
           1269,
           10,
           1.46,
           "Love in the Afternoon (1957)"
          ],
          [
           1270,
           7,
           1.18,
           "Life with Mikey (1993)"
          ],
          [
           1271,
           7,
           1.23,
           "North (1994)"
          ],
          [
           1272,
           5,
           1.11,
           "Talking About Sex (1994)"
          ],
          [
           1273,
           15,
           1.39,
           "Color of Night (1994)"
          ],
          [
           1274,
           11,
           1.16,
           "Robocop 3 (1993)"
          ],
          [
           1275,
           4,
           1.14,
           "Killer (Bulletproof Heart) (1994)"
          ],
          [
           1276,
           8,
           1.22,
           "Sunset Park (1996)"
          ],
          [
           1277,
           19,
           1.63,
           "Set It Off (1996)"
          ],
          [
           1278,
           16,
           1.6,
           "Selena (1997)"
          ],
          [
           1279,
           9,
           1.29,
           "Wild America (1997)"
          ],
          [
           1280,
           16,
           1.4,
           "Gang Related (1997)"
          ],
          [
           1281,
           13,
           1.43,
           "Manny & Lo (1996)"
          ],
          [
           1282,
           9,
           1.34,
           "Grass Harp, The (1995)"
          ],
          [
           1283,
           19,
           1.45,
           "Out to Sea (1997)"
          ],
          [
           1284,
           26,
           1.6,
           "Before and After (1996)"
          ],
          [
           1285,
           15,
           1.47,
           "Princess Caraboo (1994)"
          ],
          [
           1286,
           17,
           1.64,
           "Shall We Dance? (1937)"
          ],
          [
           1287,
           6,
           1.08,
           "Ed (1996)"
          ],
          [
           1288,
           7,
           1.26,
           "Denise Calls Up (1995)"
          ],
          [
           1289,
           7,
           1.17,
           "Jack and Sarah (1995)"
          ],
          [
           1290,
           2,
           1.07,
           "Country Life (1994)"
          ],
          [
           1291,
           15,
           1.28,
           "Celtic Pride (1996)"
          ],
          [
           1292,
           3,
           1.08,
           "Simple Wish, A (1997)"
          ],
          [
           1293,
           3,
           1.24,
           "Star Kid (1997)"
          ],
          [
           1294,
           7,
           1.27,
           "Ayn Rand: A Sense of Life (1997)"
          ],
          [
           1295,
           7,
           1.21,
           "Kicked in the Head (1997)"
          ],
          [
           1296,
           20,
           1.61,
           "Indian Summer (1996)"
          ],
          [
           1297,
           12,
           1.35,
           "Love Affair (1994)"
          ],
          [
           1298,
           9,
           1.4,
           "Band Wagon, The (1953)"
          ],
          [
           1299,
           8,
           1.28,
           "Penny Serenade (1941)"
          ],
          [
           1300,
           9,
           1.22,
           "'Til There Was You (1997)"
          ],
          [
           1301,
           5,
           1.26,
           "Stripes (1981)"
          ],
          [
           1302,
           5,
           1.23,
           "Late Bloomers (1996)"
          ],
          [
           1303,
           18,
           1.35,
           "Getaway, The (1994)"
          ],
          [
           1304,
           2,
           1.1,
           "New York Cop (1996)"
          ],
          [
           1305,
           7,
           1.2,
           "National Lampoon's Senior Trip (1995)"
          ],
          [
           1306,
           2,
           1.12,
           "Delta of Venus (1994)"
          ],
          [
           1307,
           2,
           1.07,
           "Carmen Miranda: Bananas Is My Business (1994)"
          ],
          [
           1308,
           2,
           1.05,
           "Babyfever (1994)"
          ],
          [
           1309,
           1,
           1.05,
           "Very Natural Thing, A (1974)"
          ],
          [
           1310,
           1,
           1.08,
           "Walk in the Sun, A (1945)"
          ],
          [
           1311,
           16,
           1.36,
           "Waiting to Exhale (1995)"
          ],
          [
           1312,
           7,
           1.26,
           "Pompatus of Love, The (1996)"
          ],
          [
           1313,
           14,
           1.45,
           "Palmetto (1998)"
          ],
          [
           1314,
           11,
           1.27,
           "Surviving the Game (1994)"
          ],
          [
           1315,
           23,
           1.63,
           "Inventing the Abbotts (1997)"
          ],
          [
           1316,
           7,
           1.23,
           "Horse Whisperer, The (1998)"
          ],
          [
           1317,
           4,
           1.11,
           "Journey of August King, The (1995)"
          ],
          [
           1318,
           3,
           1.07,
           "Catwalk (1995)"
          ],
          [
           1319,
           4,
           1.1,
           "Neon Bible, The (1995)"
          ],
          [
           1320,
           1,
           1.05,
           "Homage (1995)"
          ],
          [
           1321,
           2,
           1.1,
           "Open Season (1996)"
          ],
          [
           1322,
           6,
           1.17,
           "Metisse (Café au Lait) (1993)"
          ],
          [
           1323,
           3,
           1.13,
           "Wooden Man's Bride, The (Wu Kui) (1994)"
          ],
          [
           1324,
           5,
           1.16,
           "Loaded (1994)"
          ],
          [
           1325,
           1,
           1.05,
           "August (1996)"
          ],
          [
           1326,
           6,
           1.26,
           "Boys (1996)"
          ],
          [
           1327,
           3,
           1.11,
           "Captives (1994)"
          ],
          [
           1328,
           6,
           1.25,
           "Of Love and Shadows (1994)"
          ],
          [
           1329,
           1,
           1.05,
           "Low Life, The (1994)"
          ],
          [
           1330,
           4,
           1.14,
           "An Unforgettable Summer (1994)"
          ],
          [
           1331,
           4,
           1.17,
           "Last Klezmer: Leopold Kozlowski, His Life and Music, The (1995)"
          ],
          [
           1332,
           2,
           1.08,
           "My Life and Times With Antonin Artaud (En compagnie d'Antonin Artaud) (1993)"
          ],
          [
           1333,
           5,
           1.19,
           "Midnight Dancers (Sibak) (1994)"
          ],
          [
           1334,
           2,
           1.05,
           "Somebody to Love (1994)"
          ],
          [
           1335,
           11,
           1.3,
           "American Buffalo (1996)"
          ],
          [
           1336,
           10,
           1.16,
           "Kazaam (1996)"
          ],
          [
           1337,
           9,
           1.22,
           "Larger Than Life (1996)"
          ],
          [
           1338,
           4,
           1.13,
           "Two Deaths (1995)"
          ],
          [
           1339,
           1,
           1.05,
           "Stefano Quantestorie (1993)"
          ],
          [
           1340,
           1,
           1.05,
           "Crude Oasis, The (1995)"
          ],
          [
           1341,
           1,
           1.05,
           "Hedd Wyn (1992)"
          ],
          [
           1342,
           2,
           1.1,
           "Convent, The (Convento, O) (1995)"
          ],
          [
           1343,
           1,
           1.05,
           "Lotto Land (1995)"
          ],
          [
           1344,
           5,
           1.22,
           "Story of Xinghua, The (1993)"
          ],
          [
           1345,
           2,
           1.08,
           "Day the Sun Turned Cold, The (Tianguo niezi) (1994)"
          ],
          [
           1346,
           5,
           1.16,
           "Dingo (1992)"
          ],
          [
           1347,
           4,
           1.16,
           "Ballad of Narayama, The (Narayama Bushiko) (1958)"
          ],
          [
           1348,
           1,
           1.05,
           "Every Other Weekend (1990)"
          ],
          [
           1349,
           1,
           1.05,
           "Mille bolle blu (1993)"
          ],
          [
           1350,
           2,
           1.07,
           "Crows and Sparrows (1949)"
          ],
          [
           1351,
           3,
           1.1,
           "Lover's Knot (1996)"
          ],
          [
           1352,
           1,
           1.05,
           "Shadow of Angels (Schatten der Engel) (1976)"
          ],
          [
           1353,
           5,
           1.17,
           "1-900 (1994)"
          ],
          [
           1354,
           2,
           1.05,
           "Venice/Venice (1992)"
          ],
          [
           1355,
           6,
           1.2,
           "Infinity (1996)"
          ],
          [
           1356,
           3,
           1.13,
           "Ed's Next Move (1996)"
          ],
          [
           1357,
           3,
           1.13,
           "For the Moment (1994)"
          ],
          [
           1358,
           2,
           1.12,
           "The Deadly Cure (1996)"
          ],
          [
           1359,
           2,
           1.05,
           "Boys in Venice (1996)"
          ],
          [
           1360,
           2,
           1.07,
           "Sexual Life of the Belgians, The (1994)"
          ],
          [
           1361,
           3,
           1.13,
           "Search for One-eye Jimmy, The (1996)"
          ],
          [
           1362,
           2,
           1.08,
           "American Strays (1996)"
          ],
          [
           1363,
           1,
           1.05,
           "Leopard Son, The (1996)"
          ],
          [
           1364,
           1,
           1.05,
           "Bird of Prey (1996)"
          ],
          [
           1365,
           2,
           1.07,
           "Johnny 100 Pesos (1993)"
          ],
          [
           1366,
           1,
           1.05,
           "JLG/JLG - autoportrait de décembre (1994)"
          ],
          [
           1367,
           5,
           1.3,
           "Faust (1994)"
          ],
          [
           1368,
           6,
           1.29,
           "Mina Tannenbaum (1994)"
          ],
          [
           1369,
           4,
           1.16,
           "Forbidden Christ, The (Cristo proibito, Il) (1950)"
          ],
          [
           1370,
           3,
           1.13,
           "I Can't Sleep (J'ai pas sommeil) (1994)"
          ],
          [
           1371,
           2,
           1.07,
           "Machine, The (1994)"
          ],
          [
           1372,
           3,
           1.15,
           "Stranger, The (1994)"
          ],
          [
           1373,
           1,
           1.05,
           "Good Morning (1971)"
          ],
          [
           1374,
           2,
           1.05,
           "Falling in Love Again (1980)"
          ],
          [
           1375,
           10,
           1.42,
           "Cement Garden, The (1993)"
          ],
          [
           1376,
           7,
           1.17,
           "Meet Wally Sparks (1997)"
          ],
          [
           1377,
           4,
           1.19,
           "Hotel de Love (1996)"
          ],
          [
           1378,
           5,
           1.14,
           "Rhyme & Reason (1997)"
          ],
          [
           1379,
           7,
           1.24,
           "Love and Other Catastrophes (1996)"
          ],
          [
           1380,
           6,
           1.17,
           "Hollow Reed (1996)"
          ],
          [
           1381,
           8,
           1.31,
           "Losing Chase (1996)"
          ],
          [
           1382,
           4,
           1.11,
           "Bonheur, Le (1965)"
          ],
          [
           1383,
           6,
           1.14,
           "Second Jungle Book: Mowgli & Baloo, The (1997)"
          ],
          [
           1384,
           3,
           1.08,
           "Squeeze (1996)"
          ],
          [
           1385,
           5,
           1.19,
           "Roseanna's Grave (For Roseanna) (1997)"
          ],
          [
           1386,
           6,
           1.2,
           "Tetsuo II: Body Hammer (1992)"
          ],
          [
           1387,
           3,
           1.1,
           "Fall (1997)"
          ],
          [
           1388,
           6,
           1.26,
           "Gabbeh (1996)"
          ],
          [
           1389,
           3,
           1.15,
           "Mondo (1996)"
          ],
          [
           1390,
           2,
           1.08,
           "Innocent Sleep, The (1995)"
          ],
          [
           1391,
           3,
           1.1,
           "For Ever Mozart (1996)"
          ],
          [
           1392,
           5,
           1.13,
           "Locusts, The (1997)"
          ],
          [
           1393,
           9,
           1.19,
           "Stag (1997)"
          ],
          [
           1394,
           7,
           1.2,
           "Swept from the Sea (1997)"
          ],
          [
           1395,
           6,
           1.17,
           "Hurricane Streets (1998)"
          ],
          [
           1396,
           5,
           1.3,
           "Stonewall (1995)"
          ],
          [
           1397,
           5,
           1.22,
           "Of Human Bondage (1934)"
          ],
          [
           1398,
           2,
           1.16,
           "Anna (1996)"
          ],
          [
           1399,
           7,
           1.2,
           "Stranger in the House (1997)"
          ],
          [
           1400,
           10,
           1.35,
           "Picture Bride (1995)"
          ],
          [
           1401,
           18,
           1.56,
           "M. Butterfly (1993)"
          ],
          [
           1402,
           4,
           1.16,
           "Ciao, Professore! (1993)"
          ],
          [
           1403,
           4,
           1.16,
           "Caro Diario (Dear Diary) (1994)"
          ],
          [
           1404,
           13,
           1.44,
           "Withnail and I (1987)"
          ],
          [
           1405,
           6,
           1.26,
           "Boy's Life 2 (1997)"
          ],
          [
           1406,
           5,
           1.23,
           "When Night Is Falling (1995)"
          ],
          [
           1407,
           20,
           1.35,
           "Specialist, The (1994)"
          ],
          [
           1408,
           3,
           1.05,
           "Gordy (1995)"
          ],
          [
           1409,
           7,
           1.24,
           "Swan Princess, The (1994)"
          ],
          [
           1410,
           4,
           1.16,
           "Harlem (1993)"
          ],
          [
           1411,
           28,
           1.54,
           "Barbarella (1968)"
          ],
          [
           1412,
           6,
           1.11,
           "Land Before Time III: The Time of the Great Giving (1995) (V)"
          ],
          [
           1413,
           8,
           1.25,
           "Street Fighter (1994)"
          ],
          [
           1414,
           1,
           1.07,
           "Coldblooded (1995)"
          ],
          [
           1415,
           9,
           1.23,
           "Next Karate Kid, The (1994)"
          ],
          [
           1416,
           5,
           1.16,
           "No Escape (1994)"
          ],
          [
           1417,
           2,
           1.1,
           "Turning, The (1992)"
          ],
          [
           1418,
           3,
           1.18,
           "Joy Luck Club, The (1993)"
          ],
          [
           1419,
           16,
           1.28,
           "Highlander III: The Sorcerer (1994)"
          ],
          [
           1420,
           3,
           1.07,
           "Gilligan's Island: The Movie (1998)"
          ],
          [
           1421,
           11,
           1.38,
           "My Crazy Life (Mi vida loca) (1993)"
          ],
          [
           1422,
           4,
           1.13,
           "Suture (1993)"
          ],
          [
           1423,
           4,
           1.13,
           "Walking Dead, The (1995)"
          ],
          [
           1424,
           3,
           1.11,
           "I Like It Like That (1994)"
          ],
          [
           1425,
           10,
           1.27,
           "I'll Do Anything (1994)"
          ],
          [
           1426,
           8,
           1.31,
           "Grace of My Heart (1996)"
          ],
          [
           1427,
           5,
           1.19,
           "Drunks (1995)"
          ],
          [
           1428,
           12,
           1.49,
           "SubUrbia (1997)"
          ],
          [
           1429,
           4,
           1.16,
           "Sliding Doors (1998)"
          ],
          [
           1430,
           3,
           1.11,
           "Ill Gotten Gains (1997)"
          ],
          [
           1431,
           5,
           1.23,
           "Legal Deceit (1997)"
          ],
          [
           1432,
           3,
           1.05,
           "Mighty, The (1998)"
          ],
          [
           1433,
           2,
           1.08,
           "Men of Means (1998)"
          ],
          [
           1434,
           10,
           1.26,
           "Shooting Fish (1997)"
          ],
          [
           1435,
           7,
           1.21,
           "Steal Big, Steal Little (1995)"
          ],
          [
           1436,
           2,
           1.1,
           "Mr. Jones (1993)"
          ],
          [
           1437,
           9,
           1.18,
           "House Party 3 (1994)"
          ],
          [
           1438,
           5,
           1.16,
           "Panther (1995)"
          ],
          [
           1439,
           8,
           1.28,
           "Jason's Lyric (1994)"
          ],
          [
           1440,
           5,
           1.2,
           "Above the Rim (1994)"
          ],
          [
           1441,
           7,
           1.21,
           "Moonlight and Valentino (1995)"
          ],
          [
           1442,
           5,
           1.16,
           "Scarlet Letter, The (1995)"
          ],
          [
           1443,
           4,
           1.22,
           "8 Seconds (1994)"
          ],
          [
           1444,
           19,
           1.4,
           "That Darn Cat! (1965)"
          ],
          [
           1445,
           4,
           1.16,
           "Ladybird Ladybird (1994)"
          ],
          [
           1446,
           15,
           1.47,
           "Bye Bye, Love (1995)"
          ],
          [
           1447,
           1,
           1.08,
           "Century (1993)"
          ],
          [
           1448,
           3,
           1.18,
           "My Favorite Season (1993)"
          ],
          [
           1449,
           8,
           1.48,
           "Pather Panchali (1955)"
          ],
          [
           1450,
           2,
           1.15,
           "Golden Earrings (1947)"
          ],
          [
           1451,
           15,
           1.62,
           "Foreign Correspondent (1940)"
          ],
          [
           1452,
           1,
           1.1,
           "Lady of Burlesque (1943)"
          ],
          [
           1453,
           1,
           1.07,
           "Angel on My Shoulder (1946)"
          ],
          [
           1454,
           6,
           1.23,
           "Angel and the Badman (1947)"
          ],
          [
           1455,
           2,
           1.1,
           "Outlaw, The (1943)"
          ],
          [
           1456,
           7,
           1.33,
           "Beat the Devil (1954)"
          ],
          [
           1457,
           1,
           1.08,
           "Love Is All There Is (1996)"
          ],
          [
           1458,
           1,
           1.1,
           "Damsel in Distress, A (1937)"
          ],
          [
           1459,
           7,
           1.32,
           "Madame Butterfly (1995)"
          ],
          [
           1460,
           1,
           1.08,
           "Sleepover (1995)"
          ],
          [
           1461,
           1,
           1.07,
           "Here Comes Cookie (1935)"
          ],
          [
           1462,
           7,
           1.33,
           "Thieves (Voleurs, Les) (1996)"
          ],
          [
           1463,
           3,
           1.16,
           "Boys, Les (1997)"
          ],
          [
           1464,
           3,
           1.11,
           "Stars Fell on Henrietta, The (1995)"
          ],
          [
           1465,
           3,
           1.11,
           "Last Summer in the Hamptons (1995)"
          ],
          [
           1466,
           6,
           1.32,
           "Margaret's Museum (1995)"
          ],
          [
           1467,
           2,
           1.18,
           "Saint of Fort Washington, The (1993)"
          ],
          [
           1468,
           6,
           1.26,
           "Cure, The (1995)"
          ],
          [
           1469,
           12,
           1.41,
           "Tom and Huck (1995)"
          ],
          [
           1470,
           5,
           1.17,
           "Gumby: The Movie (1995)"
          ],
          [
           1471,
           9,
           1.23,
           "Hideaway (1995)"
          ],
          [
           1472,
           2,
           1.13,
           "Visitors, The (Visiteurs, Les) (1993)"
          ],
          [
           1473,
           9,
           1.38,
           "Little Princess, The (1939)"
          ],
          [
           1474,
           6,
           1.22,
           "Nina Takes a Lover (1994)"
          ],
          [
           1475,
           8,
           1.27,
           "Bhaji on the Beach (1993)"
          ],
          [
           1476,
           1,
           1.07,
           "Raw Deal (1948)"
          ],
          [
           1477,
           2,
           1.1,
           "Nightwatch (1997)"
          ],
          [
           1478,
           18,
           1.44,
           "Dead Presidents (1995)"
          ],
          [
           1479,
           8,
           1.25,
           "Reckless (1995)"
          ],
          [
           1480,
           11,
           1.24,
           "Herbie Rides Again (1974)"
          ],
          [
           1481,
           2,
           1.12,
           "S.F.W. (1994)"
          ],
          [
           1482,
           1,
           1.1,
           "Gate of Heavenly Peace, The (1995)"
          ],
          [
           1483,
           12,
           1.45,
           "Man in the Iron Mask, The (1998)"
          ],
          [
           1484,
           3,
           1.13,
           "Jerky Boys, The (1994)"
          ],
          [
           1485,
           4,
           1.21,
           "Colonel Chabert, Le (1994)"
          ],
          [
           1486,
           1,
           1.05,
           "Girl in the Cadillac (1995)"
          ],
          [
           1487,
           5,
           1.13,
           "Even Cowgirls Get the Blues (1993)"
          ],
          [
           1488,
           4,
           1.17,
           "Germinal (1993)"
          ],
          [
           1489,
           5,
           1.14,
           "Chasers (1994)"
          ],
          [
           1490,
           3,
           1.15,
           "Fausto (1993)"
          ],
          [
           1491,
           2,
           1.12,
           "Tough and Deadly (1995)"
          ],
          [
           1492,
           1,
           1.1,
           "Window to Paris (1994)"
          ],
          [
           1493,
           1,
           1.05,
           "Modern Affair, A (1995)"
          ],
          [
           1494,
           1,
           1.05,
           "Mostro, Il (1994)"
          ],
          [
           1495,
           5,
           1.25,
           "Flirt (1995)"
          ],
          [
           1496,
           5,
           1.19,
           "Carpool (1996)"
          ],
          [
           1497,
           2,
           1.12,
           "Line King: Al Hirschfeld, The (1996)"
          ],
          [
           1498,
           1,
           1.1,
           "Farmer & Chase (1995)"
          ],
          [
           1499,
           4,
           1.19,
           "Grosse Fatigue (1994)"
          ],
          [
           1500,
           2,
           1.18,
           "Santa with Muscles (1996)"
          ],
          [
           1501,
           5,
           1.2,
           "Prisoner of the Mountains (Kavkazsky Plennik) (1996)"
          ],
          [
           1502,
           2,
           1.07,
           "Naked in New York (1994)"
          ],
          [
           1503,
           10,
           1.35,
           "Gold Diggers: The Secret of Bear Mountain (1995)"
          ],
          [
           1504,
           3,
           1.18,
           "Bewegte Mann, Der (1994)"
          ],
          [
           1505,
           1,
           1.1,
           "Killer: A Journal of Murder (1995)"
          ],
          [
           1506,
           3,
           1.18,
           "Nelly & Monsieur Arnaud (1995)"
          ],
          [
           1507,
           1,
           1.08,
           "Three Lives and Only One Death (1996)"
          ],
          [
           1508,
           3,
           1.11,
           "Babysitter, The (1995)"
          ],
          [
           1509,
           5,
           1.09,
           "Getting Even with Dad (1994)"
          ],
          [
           1510,
           1,
           1.08,
           "Mad Dog Time (1996)"
          ],
          [
           1511,
           5,
           1.22,
           "Children of the Revolution (1996)"
          ],
          [
           1512,
           6,
           1.32,
           "World of Apu, The (Apur Sansar) (1959)"
          ],
          [
           1513,
           3,
           1.1,
           "Sprung (1997)"
          ],
          [
           1514,
           7,
           1.27,
           "Dream With the Fishes (1997)"
          ],
          [
           1515,
           1,
           1.1,
           "Wings of Courage (1995)"
          ],
          [
           1516,
           3,
           1.19,
           "Wedding Gift, The (1994)"
          ],
          [
           1517,
           5,
           1.19,
           "Race the Sun (1996)"
          ],
          [
           1518,
           12,
           1.38,
           "Losing Isaiah (1995)"
          ],
          [
           1519,
           2,
           1.12,
           "New Jersey Drive (1995)"
          ],
          [
           1520,
           1,
           1.08,
           "Fear, The (1995)"
          ],
          [
           1521,
           4,
           1.17,
           "Mr. Wonderful (1993)"
          ],
          [
           1522,
           7,
           1.2,
           "Trial by Jury (1994)"
          ],
          [
           1523,
           2,
           1.12,
           "Good Man in Africa, A (1994)"
          ],
          [
           1524,
           8,
           1.43,
           "Kaspar Hauser (1993)"
          ],
          [
           1525,
           1,
           1.1,
           "Object of My Affection, The (1998)"
          ],
          [
           1526,
           1,
           1.1,
           "Witness (1985)"
          ],
          [
           1527,
           7,
           1.2,
           "Senseless (1998)"
          ],
          [
           1528,
           3,
           1.11,
           "Nowhere (1997)"
          ],
          [
           1529,
           5,
           1.19,
           "Underground (1995)"
          ],
          [
           1530,
           5,
           1.13,
           "Jefferson in Paris (1995)"
          ],
          [
           1531,
           7,
           1.29,
           "Far From Home: The Adventures of Yellow Dog (1995)"
          ],
          [
           1532,
           2,
           1.08,
           "Foreign Student (1994)"
          ],
          [
           1533,
           1,
           1.1,
           "I Don't Want to Talk About It (De eso no se habla) (1993)"
          ],
          [
           1534,
           6,
           1.15,
           "Twin Town (1997)"
          ],
          [
           1535,
           4,
           1.17,
           "Enfer, L' (1994)"
          ],
          [
           1536,
           1,
           1.12,
           "Aiqing wansui (1994)"
          ],
          [
           1537,
           4,
           1.24,
           "Cosi (1996)"
          ],
          [
           1538,
           3,
           1.15,
           "All Over Me (1997)"
          ],
          [
           1539,
           4,
           1.1,
           "Being Human (1993)"
          ],
          [
           1540,
           10,
           1.3,
           "Amazing Panda Adventure, The (1995)"
          ],
          [
           1541,
           2,
           1.13,
           "Beans of Egypt, Maine, The (1994)"
          ],
          [
           1542,
           2,
           1.12,
           "Scarlet Letter, The (1926)"
          ],
          [
           1543,
           1,
           1.08,
           "Johns (1996)"
          ],
          [
           1544,
           3,
           1.13,
           "It Takes Two (1995)"
          ],
          [
           1545,
           4,
           1.14,
           "Frankie Starlight (1995)"
          ],
          [
           1546,
           1,
           1.05,
           "Shadows (Cienie) (1988)"
          ],
          [
           1547,
           2,
           1.12,
           "Show, The (1995)"
          ],
          [
           1548,
           1,
           1.05,
           "The Courtyard (1995)"
          ],
          [
           1549,
           2,
           1.07,
           "Dream Man (1995)"
          ],
          [
           1550,
           2,
           1.12,
           "Destiny Turns on the Radio (1995)"
          ],
          [
           1551,
           2,
           1.08,
           "Glass Shield, The (1994)"
          ],
          [
           1552,
           3,
           1.1,
           "Hunted, The (1995)"
          ],
          [
           1553,
           4,
           1.16,
           "Underneath, The (1995)"
          ],
          [
           1554,
           2,
           1.12,
           "Safe Passage (1994)"
          ],
          [
           1555,
           5,
           1.17,
           "Secret Adventures of Tom Thumb, The (1993)"
          ],
          [
           1556,
           2,
           1.08,
           "Condition Red (1995)"
          ],
          [
           1557,
           1,
           1.05,
           "Yankee Zulu (1994)"
          ],
          [
           1558,
           7,
           1.32,
           "Aparajito (1956)"
          ],
          [
           1559,
           1,
           1.05,
           "Hostile Intentions (1994)"
          ],
          [
           1560,
           4,
           1.16,
           "Clean Slate (Coup de Torchon) (1981)"
          ],
          [
           1561,
           1,
           1.05,
           "Tigrero: A Film That Was Never Made (1994)"
          ],
          [
           1562,
           1,
           1.05,
           "Eye of Vichy, The (Oeil de Vichy, L') (1993)"
          ],
          [
           1563,
           1,
           1.05,
           "Promise, The (Versprechen, Das) (1994)"
          ],
          [
           1564,
           1,
           1.05,
           "To Cross the Rubicon (1991)"
          ],
          [
           1565,
           1,
           1.05,
           "Daens (1992)"
          ],
          [
           1566,
           1,
           1.05,
           "Man from Down Under, The (1943)"
          ],
          [
           1567,
           1,
           1.05,
           "Careful (1992)"
          ],
          [
           1568,
           1,
           1.05,
           "Vermont Is For Lovers (1992)"
          ],
          [
           1569,
           1,
           1.05,
           "Vie est belle, La (Life is Rosey) (1987)"
          ],
          [
           1570,
           1,
           1.05,
           "Quartier Mozart (1992)"
          ],
          [
           1571,
           1,
           1.05,
           "Touki Bouki (Journey of the Hyena) (1973)"
          ],
          [
           1572,
           1,
           1.05,
           "Wend Kuuni (God's Gift) (1982)"
          ],
          [
           1573,
           2,
           1.1,
           "Spirits of the Dead (Tre passi nel delirio) (1968)"
          ],
          [
           1574,
           1,
           1.05,
           "Pharaoh's Army (1995)"
          ],
          [
           1575,
           1,
           1.05,
           "I, Worst of All (Yo, la peor de todas) (1990)"
          ],
          [
           1576,
           1,
           1.05,
           "Hungarian Fairy Tale, A (1987)"
          ],
          [
           1577,
           1,
           1.05,
           "Death in the Garden (Mort en ce jardin, La) (1956)"
          ],
          [
           1578,
           2,
           1.08,
           "Collectionneuse, La (1967)"
          ],
          [
           1579,
           1,
           1.05,
           "Baton Rouge (1988)"
          ],
          [
           1580,
           1,
           1.05,
           "Liebelei (1933)"
          ],
          [
           1581,
           1,
           1.05,
           "Woman in Question, The (1950)"
          ],
          [
           1582,
           1,
           1.05,
           "T-Men (1947)"
          ],
          [
           1583,
           1,
           1.05,
           "Invitation, The (Zaproszenie) (1986)"
          ],
          [
           1584,
           1,
           1.05,
           "Symphonie pastorale, La (1946)"
          ],
          [
           1585,
           2,
           1.1,
           "American Dream (1990)"
          ],
          [
           1586,
           1,
           1.05,
           "Lashou shentan (1992)"
          ],
          [
           1587,
           1,
           1.05,
           "Terror in a Texas Town (1958)"
          ],
          [
           1588,
           2,
           1.08,
           "Salut cousin! (1996)"
          ],
          [
           1589,
           4,
           1.17,
           "Schizopolis (1996)"
          ],
          [
           1590,
           2,
           1.08,
           "To Have, or Not (1995)"
          ],
          [
           1591,
           6,
           1.25,
           "Duoluo tianshi (1995)"
          ],
          [
           1592,
           5,
           1.25,
           "Magic Hour, The (1998)"
          ],
          [
           1593,
           1,
           1.1,
           "Death in Brunswick (1991)"
          ],
          [
           1594,
           2,
           1.16,
           "Everest (1998)"
          ],
          [
           1595,
           1,
           1.07,
           "Shopping (1994)"
          ],
          [
           1596,
           1,
           1.07,
           "Nemesis 2: Nebula (1995)"
          ],
          [
           1597,
           5,
           1.2,
           "Romper Stomper (1992)"
          ],
          [
           1598,
           6,
           1.18,
           "City of Industry (1997)"
          ],
          [
           1599,
           1,
           1.12,
           "Someone Else's America (1995)"
          ],
          [
           1600,
           4,
           1.22,
           "Guantanamera (1994)"
          ],
          [
           1601,
           1,
           1.05,
           "Office Killer (1997)"
          ],
          [
           1602,
           3,
           1.16,
           "Price Above Rubies, A (1998)"
          ],
          [
           1603,
           1,
           1.08,
           "Angela (1995)"
          ],
          [
           1604,
           1,
           1.1,
           "He Walked by Night (1948)"
          ],
          [
           1605,
           4,
           1.17,
           "Love Serenade (1996)"
          ],
          [
           1606,
           1,
           1.07,
           "Deceiver (1997)"
          ],
          [
           1607,
           3,
           1.16,
           "Hurricane Streets (1998)"
          ],
          [
           1608,
           4,
           1.13,
           "Buddy (1997)"
          ],
          [
           1609,
           3,
           1.08,
           "B*A*P*S (1997)"
          ],
          [
           1610,
           3,
           1.1,
           "Truth or Consequences, N.M. (1997)"
          ],
          [
           1611,
           2,
           1.12,
           "Intimate Relations (1996)"
          ],
          [
           1612,
           4,
           1.22,
           "Leading Man, The (1996)"
          ],
          [
           1613,
           1,
           1.1,
           "Tokyo Fist (1995)"
          ],
          [
           1614,
           1,
           1.08,
           "Reluctant Debutante, The (1958)"
          ],
          [
           1615,
           10,
           1.33,
           "Warriors of Virtue (1997)"
          ],
          [
           1616,
           1,
           1.1,
           "Desert Winds (1995)"
          ],
          [
           1617,
           2,
           1.12,
           "Hugo Pool (1997)"
          ],
          [
           1618,
           1,
           1.05,
           "King of New York (1990)"
          ],
          [
           1619,
           1,
           1.08,
           "All Things Fair (1996)"
          ],
          [
           1620,
           9,
           1.34,
           "Sixth Man, The (1997)"
          ],
          [
           1621,
           1,
           1.05,
           "Butterfly Kiss (1995)"
          ],
          [
           1622,
           3,
           1.11,
           "Paris, France (1993)"
          ],
          [
           1623,
           3,
           1.19,
           "Cérémonie, La (1995)"
          ],
          [
           1624,
           1,
           1.07,
           "Hush (1998)"
          ],
          [
           1625,
           1,
           1.1,
           "Nightwatch (1997)"
          ],
          [
           1626,
           1,
           1.05,
           "Nobody Loves Me (Keiner liebt mich) (1994)"
          ],
          [
           1627,
           1,
           1.08,
           "Wife, The (1995)"
          ],
          [
           1628,
           4,
           1.22,
           "Lamerica (1994)"
          ],
          [
           1629,
           2,
           1.15,
           "Nico Icon (1995)"
          ],
          [
           1630,
           1,
           1.08,
           "Silence of the Palace, The (Saimt el Qusur) (1994)"
          ],
          [
           1631,
           2,
           1.13,
           "Slingshot, The (1993)"
          ],
          [
           1632,
           1,
           1.08,
           "Land and Freedom (Tierra y libertad) (1995)"
          ],
          [
           1633,
           1,
           1.08,
           "Á köldum klaka (Cold Fever) (1994)"
          ],
          [
           1634,
           1,
           1.07,
           "Etz Hadomim Tafus (Under the Domin Tree) (1994)"
          ],
          [
           1635,
           1,
           1.08,
           "Two Friends (1986) "
          ],
          [
           1636,
           1,
           1.1,
           "Brothers in Trouble (1995)"
          ],
          [
           1637,
           1,
           1.08,
           "Girls Town (1996)"
          ],
          [
           1638,
           1,
           1.08,
           "Normal Life (1996)"
          ],
          [
           1639,
           3,
           1.21,
           "Bitter Sugar (Azucar Amargo) (1996)"
          ],
          [
           1640,
           1,
           1.08,
           "Eighth Day, The (1996)"
          ],
          [
           1641,
           1,
           1.08,
           "Dadetown (1995)"
          ],
          [
           1642,
           2,
           1.16,
           "Some Mother's Son (1996)"
          ],
          [
           1643,
           4,
           1.22,
           "Angel Baby (1995)"
          ],
          [
           1644,
           2,
           1.07,
           "Sudden Manhattan (1996)"
          ],
          [
           1645,
           1,
           1.1,
           "Butcher Boy, The (1998)"
          ],
          [
           1646,
           2,
           1.13,
           "Men With Guns (1997)"
          ],
          [
           1647,
           1,
           1.08,
           "Hana-bi (1997)"
          ],
          [
           1648,
           1,
           1.07,
           "Niagara, Niagara (1997)"
          ],
          [
           1649,
           1,
           1.08,
           "Big One, The (1997)"
          ],
          [
           1650,
           1,
           1.1,
           "Butcher Boy, The (1998)"
          ],
          [
           1651,
           1,
           1.1,
           "Spanish Prisoner, The (1997)"
          ],
          [
           1652,
           3,
           1.08,
           "Temptress Moon (Feng Yue) (1996)"
          ],
          [
           1653,
           1,
           1.12,
           "Entertaining Angels: The Dorothy Day Story (1996)"
          ],
          [
           1654,
           1,
           1.05,
           "Chairman of the Board (1998)"
          ],
          [
           1655,
           1,
           1.07,
           "Favor, The (1994)"
          ],
          [
           1656,
           2,
           1.13,
           "Little City (1998)"
          ],
          [
           1657,
           1,
           1.08,
           "Target (1995)"
          ],
          [
           1658,
           3,
           1.15,
           "Substance of Fire, The (1996)"
          ],
          [
           1659,
           1,
           1.05,
           "Getting Away With Murder (1996)"
          ],
          [
           1660,
           1,
           1.07,
           "Small Faces (1995)"
          ],
          [
           1661,
           1,
           1.05,
           "New Age, The (1994)"
          ],
          [
           1662,
           2,
           1.1,
           "Rough Magic (1995)"
          ],
          [
           1663,
           1,
           1.07,
           "Nothing Personal (1995)"
          ],
          [
           1664,
           4,
           1.19,
           "8 Heads in a Duffel Bag (1997)"
          ],
          [
           1665,
           1,
           1.07,
           "Brother's Kiss, A (1997)"
          ],
          [
           1666,
           1,
           1.07,
           "Ripe (1996)"
          ],
          [
           1667,
           1,
           1.08,
           "Next Step, The (1995)"
          ],
          [
           1668,
           1,
           1.08,
           "Wedding Bell Blues (1996)"
          ],
          [
           1669,
           1,
           1.07,
           "MURDER and murder (1996)"
          ],
          [
           1670,
           1,
           1.08,
           "Tainted (1998)"
          ],
          [
           1671,
           1,
           1.05,
           "Further Gesture, A (1996)"
          ],
          [
           1672,
           2,
           1.08,
           "Kika (1993)"
          ],
          [
           1673,
           1,
           1.08,
           "Mirage (1995)"
          ],
          [
           1674,
           1,
           1.1,
           "Mamma Roma (1962)"
          ],
          [
           1675,
           1,
           1.08,
           "Sunchaser, The (1996)"
          ],
          [
           1676,
           1,
           1.07,
           "War at Home, The (1996)"
          ],
          [
           1677,
           1,
           1.08,
           "Sweet Nothing (1995)"
          ],
          [
           1678,
           1,
           1.05,
           "Mat' i syn (1997)"
          ],
          [
           1679,
           1,
           1.08,
           "B. Monkey (1998)"
          ],
          [
           1680,
           1,
           1.07,
           "Sliding Doors (1998)"
          ],
          [
           1681,
           1,
           1.08,
           "You So Crazy (1994)"
          ],
          [
           1682,
           1,
           1.08,
           "Scream of Stone (Schrei aus Stein) (1991)"
          ]
         ],
         "hovertemplate": "mean=%{y}<br>movie_id=%{customdata[0]}<br>count=%{customdata[1]}<br>bayesian_avg=%{customdata[2]}<br>movie_title=%{customdata[3]}<extra></extra>",
         "legendgroup": "",
         "marker": {
          "color": "#636efa"
         },
         "name": "",
         "offsetgroup": "",
         "orientation": "v",
         "points": "all",
         "scalegroup": "True",
         "showlegend": false,
         "type": "violin",
         "x0": " ",
         "xaxis": "x",
         "y": [
          3.8783185840707963,
          3.2061068702290076,
          3.033333333333333,
          3.550239234449761,
          3.302325581395349,
          3.576923076923077,
          3.798469387755102,
          3.9954337899543377,
          3.8963210702341136,
          3.831460674157303,
          3.847457627118644,
          4.385767790262173,
          3.4184782608695654,
          3.9672131147540983,
          3.7781569965870307,
          3.2051282051282053,
          3.119565217391304,
          2.8,
          3.9565217391304346,
          3.4166666666666665,
          2.761904761904762,
          4.151515151515151,
          4.1208791208791204,
          3.4482758620689653,
          3.4436860068259385,
          3.452054794520548,
          3.1052631578947367,
          3.931159420289855,
          2.6666666666666665,
          3.945945945945946,
          3.6298701298701297,
          3.7901234567901234,
          3.4536082474226806,
          2.7142857142857144,
          2.1818181818181817,
          2.1538461538461537,
          2.25,
          3.0083333333333333,
          3.264367816091954,
          2.8947368421052633,
          3.081081081081081,
          3.804054054054054,
          3,
          3.3417721518987342,
          4.05,
          3.5555555555555554,
          3.601503759398496,
          4.094017094017094,
          3.3209876543209877,
          4.3584905660377355,
          3.45679012345679,
          3.769230769230769,
          2.953125,
          3.2403846153846154,
          3.704697986577181,
          4.060913705583756,
          4,
          3.645714285714286,
          4.0602409638554215,
          4.015625,
          3.864406779661017,
          3.141732283464567,
          3.097560975609756,
          4.445229681978798,
          3.5391304347826087,
          3.549382716049383,
          3.0485436893203883,
          3.417910447761194,
          3.853582554517134,
          3.6613545816733066,
          3.7818181818181817,
          3.193798449612403,
          3.46875,
          3,
          3,
          3.4074074074074074,
          3.2781456953642385,
          2.4545454545454546,
          4.044642857142857,
          2.764705882352941,
          3.5545454545454547,
          3.7203065134099615,
          4.0625,
          3,
          3.0344827586206895,
          3.94,
          3.9057971014492754,
          3.539906103286385,
          4.138181818181818,
          3.0526315789473686,
          3.5874125874125875,
          3.6153846153846154,
          3.7232142857142856,
          3.0875912408759123,
          3.8127853881278537,
          4.0067796610169495,
          3.79296875,
          4.28974358974359,
          3.7093023255813953,
          4.155511811023622,
          3.26027397260274,
          3.1296296296296298,
          1.8666666666666667,
          1.4,
          2.5675675675675675,
          2.887323943661972,
          3.5,
          3.076923076923077,
          3.4307692307692306,
          2.5161290322580645,
          3.485294117647059,
          2.45,
          4.111111111111111,
          4.447761194029851,
          3.7333333333333334,
          3.824,
          3.693121693121693,
          3.2150170648464163,
          4.5,
          2.2388059701492535,
          3.438228438228438,
          2.339622641509434,
          3.234782608695652,
          4.053475935828877,
          3.557377049180328,
          3.804123711340206,
          4.283292978208232,
          3.5384615384615383,
          3.8217054263565893,
          2.260869565217391,
          3.7263157894736842,
          4.0772357723577235,
          3.871345029239766,
          4.292929292929293,
          3.969111969111969,
          4.123809523809523,
          3.9005847953216373,
          2.5789473684210527,
          2.78,
          3.2131147540983607,
          3.5,
          3.0701754385964914,
          3.765765765765766,
          3.8724279835390947,
          2.4461538461538463,
          2.5,
          3.4702702702702704,
          3.203125,
          3,
          3.828025477707006,
          3.6319018404907975,
          3.6341463414634148,
          3.785425101214575,
          3.7471264367816093,
          3.1020408163265305,
          3.9864864864864864,
          3.6929133858267718,
          2.6166666666666667,
          3.227722772277228,
          3.463768115942029,
          3.481818181818182,
          3.556603773584906,
          3.5543478260869565,
          3.589403973509934,
          4.109375,
          4.120689655172414,
          2.955223880597015,
          4.0664556962025316,
          4.466101694915254,
          4.1735537190082646,
          3.876923076923077,
          4.204359673024523,
          4.172839506172839,
          4.252380952380952,
          3.8173076923076925,
          3.9471830985915495,
          3.8613138686131387,
          4.344,
          3.909502262443439,
          4.04524886877828,
          4.007889546351085,
          3.9513274336283186,
          4.034364261168385,
          3.4310344827586206,
          4.100418410041841,
          3.8366533864541834,
          4.186602870813397,
          3.6823529411764704,
          4.106060606060606,
          4.137096774193548,
          4.163043478260869,
          4.120689655172414,
          3.917197452229299,
          4.058091286307054,
          3.9335548172757475,
          3.9163346613545817,
          4.104602510460251,
          4.0078740157480315,
          4.175757575757576,
          3.825242718446602,
          3.5168539325842696,
          3.7642857142857142,
          3.868131868131868,
          3.834285714285714,
          3.9926470588235294,
          3.38,
          3.8181818181818183,
          3.945,
          3.905759162303665,
          3.930513595166163,
          3.912621359223301,
          3.4565217391304346,
          3.985074626865672,
          3.3508771929824563,
          3.69811320754717,
          3.910344827586207,
          3.158333333333333,
          3.456140350877193,
          3.171171171171171,
          3.3636363636363638,
          3.72972972972973,
          3.66027397260274,
          4.198529411764706,
          3.7045454545454546,
          2.908256880733945,
          3.355421686746988,
          3.279503105590062,
          3.8155737704918034,
          3.111111111111111,
          3.4472361809045227,
          2.683098591549296,
          3.207920792079208,
          3.2903225806451615,
          3.775,
          2.847926267281106,
          3.6222222222222222,
          3.7109375,
          3.875,
          3.513333333333333,
          2.7884615384615383,
          3.546875,
          3.9914529914529915,
          2.4393939393939394,
          3.1666666666666665,
          3.1083333333333334,
          3.935483870967742,
          1.8,
          3.675,
          3.246153846153846,
          3.4771573604060912,
          4.260869565217392,
          2.9430379746835444,
          3.6923076923076925,
          2.4516129032258065,
          3.36046511627907,
          3.5625,
          3.745874587458746,
          3.8035363457760316,
          2.685185185185185,
          2.574803149606299,
          2.558139534883721,
          3.712121212121212,
          2.1578947368421053,
          2.742574257425743,
          3.8634361233480177,
          2.7142857142857144,
          3.4444444444444446,
          3.792156862745098,
          3.926984126984127,
          3.5955882352941178,
          3.2322274881516586,
          4.262626262626263,
          3.569506726457399,
          3.5,
          4.0111940298507465,
          3.697986577181208,
          3.464788732394366,
          3.2333333333333334,
          3.2857142857142856,
          3.1882352941176473,
          3.143835616438356,
          3.685344827586207,
          3.7175141242937855,
          3.160621761658031,
          4.265432098765432,
          3.656964656964657,
          3.58974358974359,
          3.4414225941422596,
          2.9806949806949805,
          3.1145833333333335,
          3.37007874015748,
          3.6666666666666665,
          3.802721088435374,
          3.156701030927835,
          3.4025974025974026,
          3.3333333333333335,
          3.96,
          3.768041237113402,
          2.9315068493150687,
          3.6310904872389793,
          3.3043478260869565,
          4.161616161616162,
          3.6865671641791047,
          3.5369127516778525,
          3.6436781609195403,
          3.9479166666666665,
          3.515957446808511,
          2.966666666666667,
          2.857142857142857,
          3.6,
          3.68,
          3.1625,
          4.2457142857142856,
          1,
          4.1,
          4.196428571428571,
          3.911764705882353,
          4.466442953020135,
          3.2738095238095237,
          4.05,
          3.1301775147928996,
          3.0871559633027523,
          2.933333333333333,
          3.136,
          2.546875,
          3.36,
          3.3771428571428572,
          3.4237288135593222,
          3.3333333333333335,
          3.024390243902439,
          3.5398230088495577,
          3.4615384615384617,
          3.593625498007968,
          3.359375,
          2.761904761904762,
          2.627906976744186,
          3,
          2.659340659340659,
          3.25531914893617,
          3.5873015873015874,
          3.090909090909091,
          2.923076923076923,
          3.096774193548387,
          3.6545454545454548,
          3.4,
          3.642857142857143,
          3.510948905109489,
          3.2962962962962963,
          2.903225806451613,
          3.1463414634146343,
          2.7,
          2.1153846153846154,
          2.4285714285714284,
          3.486111111111111,
          2.926829268292683,
          3.381443298969072,
          4.291666666666667,
          2.6153846153846154,
          3.5,
          3.2,
          3.5,
          2.8214285714285716,
          2.723404255319149,
          2.675675675675676,
          3.2083333333333335,
          3.3404255319148937,
          3.458823529411765,
          1.903225806451613,
          2.6363636363636362,
          2.8205128205128207,
          3.1641791044776117,
          3.5294117647058822,
          2.8974358974358974,
          2.272727272727273,
          1.9565217391304348,
          2.8333333333333335,
          2.1538461538461537,
          3.722772277227723,
          2.9767441860465116,
          3.336206896551724,
          3.55,
          3.5945945945945947,
          2.064516129032258,
          2.782608695652174,
          3.5625,
          2.8160919540229883,
          3.3846153846153846,
          2.392857142857143,
          3.4444444444444446,
          3.2,
          2.7457627118644066,
          3.5441176470588234,
          3.4114583333333335,
          3.3333333333333335,
          2.5892857142857144,
          2.814814814814815,
          2.5833333333333335,
          2.076923076923077,
          3.303370786516854,
          2.7222222222222223,
          2.8026315789473686,
          3.4647058823529413,
          3.427860696517413,
          3.6732673267326734,
          3.313953488372093,
          2.4489795918367347,
          2.511627906976744,
          4.491071428571429,
          3.142857142857143,
          3.1296296296296298,
          2.914110429447853,
          2.3978494623655915,
          2.6363636363636362,
          3.532258064516129,
          2.84,
          3.484375,
          3.095890410958904,
          3.5813953488372094,
          3.7247191011235956,
          3.6666666666666665,
          3.5943396226415096,
          2.8461538461538463,
          3.8333333333333335,
          1.3157894736842106,
          3.7411764705882353,
          2.84375,
          4.292237442922374,
          3.8181818181818183,
          3.9381443298969074,
          4,
          3.5359477124183005,
          3.7701149425287355,
          3.690058479532164,
          3.8358208955223883,
          3.949074074074074,
          3.5353535353535355,
          1,
          1.1666666666666667,
          1,
          1.6428571428571428,
          2.5660377358490565,
          1.25,
          3.808641975308642,
          2.717391304347826,
          3.5,
          2.4444444444444446,
          3.5041322314049586,
          3.388235294117647,
          3.034188034188034,
          2.3968253968253967,
          3.347058823529412,
          2.6666666666666665,
          1.9375,
          2.875,
          3.2551724137931033,
          2.3125,
          1.7407407407407407,
          3.1222222222222222,
          3.75,
          3,
          3.6216216216216215,
          3.804054054054054,
          3.859154929577465,
          3.5925925925925926,
          3.5647058823529414,
          3.5961538461538463,
          3.7916666666666665,
          3.3125,
          3.7761194029850746,
          3.6666666666666665,
          3.6108597285067874,
          3.0822784810126582,
          3.126984126984127,
          4.252577319587629,
          3.884,
          3.01875,
          3.210526315789474,
          4.115384615384615,
          4.251396648044692,
          4.284916201117318,
          3.9365079365079363,
          3.984375,
          4.45679012345679,
          4.2101449275362315,
          3.816,
          3.796875,
          4.102941176470588,
          4.2,
          4.115384615384615,
          4.02,
          3.791044776119403,
          3.864406779661017,
          4.15,
          4,
          3.6610169491525424,
          4.121212121212121,
          3.838235294117647,
          4.184210526315789,
          3.9516129032258065,
          3.903225806451613,
          3.4959349593495936,
          3.7017543859649122,
          3.641025641025641,
          3.819672131147541,
          4,
          3.8555555555555556,
          3.816326530612245,
          3.5953488372093023,
          3.8512396694214877,
          3.9421487603305785,
          4.23121387283237,
          4,
          4.333333333333333,
          3.911111111111111,
          4.203980099502488,
          3.9682539682539684,
          3.769230769230769,
          3.651685393258427,
          4.1,
          4.104838709677419,
          3.8333333333333335,
          3.7714285714285714,
          3.9939024390243905,
          4.021739130434782,
          4.027397260273973,
          3.8306451612903225,
          4.02051282051282,
          4.132231404958677,
          3.978494623655914,
          4.025,
          3.9224806201550386,
          3.3181818181818183,
          3.6666666666666665,
          3.3076923076923075,
          3.1666666666666665,
          3.3,
          3.6333333333333333,
          3.4242424242424243,
          2.477272727272727,
          2.511627906976744,
          2.877551020408163,
          2.5294117647058822,
          3.619047619047619,
          3.1549295774647885,
          1.8333333333333333,
          3.031496062992126,
          3.341463414634146,
          2.1666666666666665,
          3.5652173913043477,
          3.2847682119205297,
          2.4166666666666665,
          2.8666666666666667,
          3.2857142857142856,
          2.803921568627451,
          2,
          2.5,
          3.1176470588235294,
          3.6714285714285713,
          3.1824817518248176,
          2.727272727272727,
          3.0677966101694913,
          3.2083333333333335,
          2.413793103448276,
          2.037037037037037,
          2.6818181818181817,
          3.569832402234637,
          2.8,
          3.6478260869565218,
          2.701492537313433,
          3.1,
          2.5,
          2.7586206896551726,
          2.9393939393939394,
          2.2,
          2.5454545454545454,
          3.021505376344086,
          2.2195121951219514,
          3.152173913043478,
          2.6315789473684212,
          3.375,
          3.2203389830508473,
          3.6011904761904763,
          3,
          3.5443037974683542,
          2.4871794871794872,
          2.676470588235294,
          3.5714285714285716,
          3.792079207920792,
          4.023255813953488,
          2,
          3.601123595505618,
          3.3333333333333335,
          3.1666666666666665,
          2.4,
          3.09375,
          3.377952755905512,
          3.150485436893204,
          2.25,
          1,
          3,
          4,
          3.7,
          4.3875598086124405,
          4.012345679012346,
          3.3548387096774195,
          4.045454545454546,
          3.9696969696969697,
          3.933333333333333,
          3.5833333333333335,
          3.658536585365854,
          4.1,
          3.9411764705882355,
          4.037037037037037,
          3.7450980392156863,
          4.0508474576271185,
          3.421875,
          3.7777777777777777,
          3.611111111111111,
          3.171875,
          3.0930232558139537,
          2.909090909090909,
          3.358974358974359,
          2.923076923076923,
          3.272727272727273,
          3.3292682926829267,
          3.25,
          3.2266666666666666,
          3.514792899408284,
          3.3376623376623376,
          3.2903225806451615,
          3.6218487394957983,
          3.896551724137931,
          4.057971014492754,
          3.75,
          2.739130434782609,
          3.241758241758242,
          3.026315789473684,
          3.772727272727273,
          3.7,
          3.024390243902439,
          4.212121212121212,
          3.4831460674157304,
          3,
          3.7714285714285714,
          3.814814814814815,
          3.8684210526315788,
          4.1,
          4.029850746268656,
          3.4,
          3.5416666666666665,
          4.076023391812866,
          3.888888888888889,
          3.911764705882353,
          4.136054421768708,
          3.881057268722467,
          4,
          4.259541984732825,
          3.4177215189873418,
          4.078260869565217,
          3.764705882352941,
          4.1022727272727275,
          3.426829268292683,
          3.9051724137931036,
          3.5434782608695654,
          2.83,
          2.4,
          2.1666666666666665,
          2.1666666666666665,
          1.6153846153846154,
          3,
          3.608695652173913,
          2.723076923076923,
          3.5232558139534884,
          2.8958333333333335,
          3.5555555555555554,
          3.3376623376623376,
          3,
          2.808219178082192,
          3.046728971962617,
          2.5588235294117645,
          2.4444444444444446,
          3.06,
          2.4081632653061225,
          3.7928994082840237,
          3.356687898089172,
          3.68,
          2.1884057971014492,
          1.8409090909090908,
          3.1494252873563218,
          3.458064516129032,
          3.5,
          3.6280487804878048,
          3.6483516483516483,
          4.045454545454546,
          2.923076923076923,
          3.1392405063291138,
          3.425,
          3,
          3.676470588235294,
          2.6,
          4,
          3.018867924528302,
          3.5789473684210527,
          3.0416666666666665,
          3.9927007299270074,
          2.6666666666666665,
          3.9285714285714284,
          3.4752475247524752,
          4.028846153846154,
          3.569620253164557,
          4,
          3.0784313725490198,
          3.611111111111111,
          3.230769230769231,
          3.2758620689655173,
          3.1551724137931036,
          2.817073170731707,
          3.6875,
          2.413793103448276,
          3.0232558139534884,
          3.4444444444444446,
          2.9310344827586206,
          3.1470588235294117,
          3.486842105263158,
          2.75,
          2.4285714285714284,
          3.4603174603174605,
          3.022222222222222,
          3.4814814814814814,
          3.5,
          3.1538461538461537,
          3.65,
          3.2,
          2.5185185185185186,
          3.854014598540146,
          3.9358974358974357,
          2.983050847457627,
          2.838709677419355,
          3.323170731707317,
          3.4761904761904763,
          3.4482758620689653,
          3.644194756554307,
          1.9487179487179487,
          3.4565217391304346,
          3.875,
          3.6638655462184873,
          3.4607843137254903,
          3.1234177215189876,
          3.176470588235294,
          3.8548387096774195,
          3.4277777777777776,
          3.3076923076923075,
          3.7083333333333335,
          3.3859649122807016,
          3.3125,
          2.8984375,
          2.75,
          1.7142857142857142,
          2.1818181818181817,
          2.652173913043478,
          3.0454545454545454,
          3.391304347826087,
          3.389261744966443,
          2.7586206896551726,
          2.8125,
          3.111111111111111,
          2.1818181818181817,
          3.076923076923077,
          2.4523809523809526,
          3.3859649122807016,
          2.6341463414634148,
          3.061224489795918,
          2.9411764705882355,
          2.9375,
          2.769230769230769,
          3.2222222222222223,
          1.25,
          3.5526315789473686,
          2.5483870967741935,
          3,
          3.3333333333333335,
          2.6,
          2.72972972972973,
          1,
          3.1538461538461537,
          2.642857142857143,
          3.230769230769231,
          1.6666666666666667,
          3.574468085106383,
          2.909090909090909,
          2.5,
          3.7209302325581395,
          3.5,
          3.652173913043478,
          2.4285714285714284,
          3.0833333333333335,
          3.096774193548387,
          2.2222222222222223,
          3.2,
          2.8846153846153846,
          2.8125,
          2.7,
          2.5555555555555554,
          2.875,
          3.6296296296296298,
          3.46,
          2.7777777777777777,
          2.838709677419355,
          2.9069767441860463,
          2.888888888888889,
          3.9444444444444446,
          3.111111111111111,
          3.892857142857143,
          5,
          3.232142857142857,
          2.4285714285714284,
          2.6666666666666665,
          2.76,
          2.7,
          2.774193548387097,
          3.0454545454545454,
          3,
          2.8780487804878048,
          2.7551020408163267,
          3.036144578313253,
          2.575,
          2.7719298245614037,
          2.6923076923076925,
          2.6470588235294117,
          1,
          2.4615384615384617,
          2.5454545454545454,
          3.204081632653061,
          2.2,
          3.8666666666666667,
          3.769230769230769,
          3.92,
          2.75,
          2.5,
          2.660377358490566,
          2.75,
          3.1481481481481484,
          3,
          3.357142857142857,
          3.465909090909091,
          3.0681818181818183,
          3.727272727272727,
          3.5555555555555554,
          2.7169811320754715,
          4,
          3.75,
          1,
          3.857142857142857,
          3.375,
          3.727272727272727,
          3.8333333333333335,
          3,
          1,
          2.6666666666666665,
          2.25,
          2.3333333333333335,
          2.111111111111111,
          3.9166666666666665,
          3.1627906976744184,
          3.4761904761904763,
          3.319327731092437,
          4,
          3.8,
          3,
          2.7777777777777777,
          2.4,
          3.0952380952380953,
          2.962962962962963,
          3.2564102564102564,
          2.7358490566037736,
          2.702127659574468,
          2.5384615384615383,
          2.515151515151515,
          3.2720588235294117,
          3.169491525423729,
          2.933333333333333,
          3.2941176470588234,
          3.230769230769231,
          3.2857142857142856,
          2.230769230769231,
          3.0754716981132075,
          3.609375,
          3.466666666666667,
          3.3846153846153846,
          1.9534883720930232,
          2.6666666666666665,
          2.7547169811320753,
          2.4285714285714284,
          1.894736842105263,
          3.2169811320754715,
          3.772727272727273,
          1.5,
          3.2241379310344827,
          3.4444444444444446,
          3.6904761904761907,
          1.9166666666666667,
          3.8333333333333335,
          3.111111111111111,
          3.45,
          3.2222222222222223,
          3.1904761904761907,
          2,
          2.5,
          3.769230769230769,
          2,
          2.5,
          3,
          2.5,
          2.727272727272727,
          3.923076923076923,
          3.1666666666666665,
          3.4285714285714284,
          3,
          3.7916666666666665,
          2.2,
          3.9782608695652173,
          3.823529411764706,
          4.155172413793103,
          3.4,
          3.323529411764706,
          2.702970297029703,
          3.1666666666666665,
          3.1153846153846154,
          2.7,
          2.7,
          2.1578947368421053,
          2.925,
          2.4285714285714284,
          2.926470588235294,
          3.2857142857142856,
          3.9375,
          3.4054054054054053,
          2.88,
          3.6,
          2.34375,
          3.0652173913043477,
          3.488888888888889,
          3.475,
          3,
          3.925,
          3.1475409836065573,
          3.235294117647059,
          2.1666666666666665,
          3.3380281690140845,
          2.9,
          2.8205128205128207,
          3.1777777777777776,
          3.3181818181818183,
          3.5454545454545454,
          3.4081632653061225,
          3.608695652173913,
          2,
          3.7857142857142856,
          3.46875,
          3.24,
          3.6176470588235294,
          3.130434782608696,
          4.2926829268292686,
          3.3333333333333335,
          3.6666666666666665,
          4.1923076923076925,
          3.1666666666666665,
          3.7222222222222223,
          3.8,
          3.25,
          3.676470588235294,
          3.1785714285714284,
          3.5,
          3.03125,
          3.159090909090909,
          1.8333333333333333,
          2.693877551020408,
          2.5185185185185186,
          3.2,
          3.1818181818181817,
          1.75,
          2.8,
          2.4,
          2.8636363636363638,
          2.8636363636363638,
          2.5652173913043477,
          2.5,
          2.313953488372093,
          2.84375,
          3.090909090909091,
          2.24,
          3,
          3.515151515151515,
          2.2857142857142856,
          3.161290322580645,
          2.5,
          2.125,
          2.5625,
          2.8,
          3,
          2,
          1.875,
          2.25,
          3.111111111111111,
          3.6818181818181817,
          2.8260869565217392,
          4.127659574468085,
          3.3783783783783785,
          3.375,
          3.25,
          3.225806451612903,
          3.53,
          2.289473684210526,
          3.061224489795918,
          2.8333333333333335,
          3.45985401459854,
          3.24,
          3.1875,
          3.967741935483871,
          3.8857142857142857,
          3.8157894736842106,
          3.4375,
          2.5806451612903225,
          3.6,
          2.9318181818181817,
          2.5,
          2.6666666666666665,
          3.0405405405405403,
          2,
          2.25,
          2.2857142857142856,
          2.875,
          2.78125,
          2.5185185185185186,
          3.161764705882353,
          2.75,
          2,
          2.823529411764706,
          4.011111111111111,
          2.6,
          3.193548387096774,
          3.142857142857143,
          3,
          3.225,
          3.24,
          3.1739130434782608,
          2.8358208955223883,
          3.0136986301369864,
          2.52,
          3.6511627906976742,
          3.2439024390243905,
          2.28,
          3.4583333333333335,
          2.3043478260869565,
          3.2,
          3.2,
          2.3181818181818183,
          3.2666666666666666,
          2.7714285714285714,
          3.051282051282051,
          2.9310344827586206,
          3.75,
          3.658536585365854,
          4.25,
          3.490566037735849,
          3,
          3.4545454545454546,
          3.1666666666666665,
          3.1666666666666665,
          3.740740740740741,
          2.875,
          2.4285714285714284,
          3.8181818181818183,
          2.961038961038961,
          3.4285714285714284,
          2.25,
          3.125,
          2.772727272727273,
          2.2444444444444445,
          4,
          2.75,
          2.625,
          2.5,
          3.857142857142857,
          3,
          3.2857142857142856,
          1.7,
          2.230769230769231,
          2.1315789473684212,
          2.4054054054054053,
          2.7209302325581395,
          2.5,
          3.0869565217391304,
          2.4166666666666665,
          2.6206896551724137,
          2.6666666666666665,
          3.5,
          3.6904761904761907,
          3.4615384615384617,
          2.625,
          3.77027027027027,
          2.4285714285714284,
          3.789473684210526,
          3,
          2.8333333333333335,
          3,
          3.0555555555555554,
          2.4,
          3.4285714285714284,
          2.8536585365853657,
          3.4285714285714284,
          2.8,
          3.272727272727273,
          3.3,
          3.413793103448276,
          3.6153846153846154,
          3.1052631578947367,
          3.25531914893617,
          3.6610169491525424,
          3,
          3.761904761904762,
          5,
          3.6666666666666665,
          3.8333333333333335,
          4.25,
          3.34375,
          2.909090909090909,
          2.6923076923076925,
          3.5714285714285716,
          4,
          4,
          2.625,
          2.966666666666667,
          3.3157894736842106,
          2.9782608695652173,
          3.4827586206896552,
          3.9655172413793105,
          3.4,
          2.606060606060606,
          2.2941176470588234,
          3.3333333333333335,
          4.045454545454546,
          4,
          3.6666666666666665,
          2.6666666666666665,
          2,
          3.6666666666666665,
          3.3333333333333335,
          3.8461538461538463,
          3.111111111111111,
          2.142857142857143,
          3.4285714285714284,
          3.473684210526316,
          3.3333333333333335,
          3.3333333333333335,
          3,
          2.88,
          4,
          3.5454545454545454,
          3.6153846153846154,
          2.923076923076923,
          1.6,
          2.68,
          2.1666666666666665,
          1.8571428571428572,
          3.1666666666666665,
          3.5454545454545454,
          3.3181818181818183,
          4.1,
          3.074074074074074,
          3.142857142857143,
          3.6666666666666665,
          2.5714285714285716,
          3.25,
          3.4,
          3.3636363636363638,
          1.8571428571428572,
          2.473684210526316,
          2.111111111111111,
          2.5,
          2.5,
          2.3076923076923075,
          2.210526315789474,
          2.5,
          2.2777777777777777,
          3.3333333333333335,
          3.230769230769231,
          2.772727272727273,
          5,
          3.3636363636363638,
          4.333333333333333,
          3.3846153846153846,
          3.8,
          4.064516129032258,
          3.272727272727273,
          3,
          3.5555555555555554,
          3.142857142857143,
          2.869565217391304,
          3.2857142857142856,
          5,
          3.5,
          4.0476190476190474,
          3.611111111111111,
          3,
          2.6842105263157894,
          2.2941176470588234,
          2.85,
          2.533333333333333,
          2.736842105263158,
          3.4166666666666665,
          2.8333333333333335,
          2.1666666666666665,
          2,
          1.9333333333333333,
          3,
          2.871794871794872,
          3.4615384615384617,
          2.9,
          3.3333333333333335,
          3.4871794871794872,
          2.68,
          3.5,
          2.6666666666666665,
          2.642857142857143,
          3.375,
          2.375,
          2.4583333333333335,
          2.1538461538461537,
          1.8333333333333333,
          2.5,
          2.4705882352941178,
          3.5,
          2.375,
          4,
          3,
          3.5,
          3.125,
          2.4444444444444446,
          3.6538461538461537,
          2.6666666666666665,
          2.6,
          3.7142857142857144,
          2.9166666666666665,
          3.210526315789474,
          1.5714285714285714,
          1.8333333333333333,
          3,
          2.8333333333333335,
          1.5,
          4.125,
          3,
          2.4285714285714284,
          1.8181818181818181,
          2.25,
          2,
          1.75,
          2.5217391304347827,
          2,
          2.75,
          3.25,
          3.625,
          2.933333333333333,
          3.2857142857142856,
          3.0526315789473686,
          3.1666666666666665,
          3,
          3.3,
          3.9,
          2.2857142857142856,
          2.7142857142857144,
          1.8,
          2.7333333333333334,
          1.7272727272727273,
          2.5,
          2.5,
          3.4210526315789473,
          3.625,
          2.888888888888889,
          2.6875,
          3.1538461538461537,
          3.2222222222222223,
          2.6842105263157894,
          2.8461538461538463,
          3.1333333333333333,
          3.7058823529411766,
          1.3333333333333333,
          3,
          2.142857142857143,
          1.5,
          2.2,
          1.6666666666666667,
          5,
          3.142857142857143,
          2.5714285714285716,
          3.25,
          2.8333333333333335,
          3.6666666666666665,
          3,
          2.3333333333333335,
          3.8,
          3.4,
          2.3333333333333335,
          2.5,
          2.4285714285714284,
          3,
          1.5,
          1,
          1,
          3,
          2.5,
          3,
          3.142857142857143,
          2.4545454545454546,
          3.130434782608696,
          2.7142857142857144,
          2,
          1.3333333333333333,
          1.75,
          1,
          2.5,
          2.3333333333333335,
          2.6666666666666665,
          2.4,
          1,
          3.3333333333333335,
          2.3333333333333335,
          3.1666666666666665,
          1,
          2.5,
          3,
          2,
          2.8,
          1,
          2.6363636363636362,
          1.8,
          2.3333333333333335,
          2.25,
          1,
          1,
          1,
          2.5,
          1,
          3.2,
          2,
          2.4,
          2.75,
          1,
          1,
          1.5,
          2,
          1,
          2.6,
          1,
          2.6666666666666665,
          2.6666666666666665,
          2.6666666666666665,
          3,
          1,
          1.5,
          2.6666666666666665,
          2,
          1,
          1,
          1.5,
          1,
          4.2,
          3.6666666666666665,
          2.75,
          2.6666666666666665,
          1.5,
          3,
          1,
          1,
          3.6,
          2.142857142857143,
          3.25,
          2.2,
          2.857142857142857,
          2.3333333333333335,
          3.25,
          2,
          2,
          1.6666666666666667,
          2.8,
          2.6666666666666665,
          2,
          3.3333333333333335,
          3,
          2,
          2,
          2,
          2.111111111111111,
          2.4285714285714284,
          2.3333333333333335,
          4.2,
          3.2,
          4.5,
          2.4285714285714284,
          3.1,
          3.2222222222222223,
          2.75,
          2.75,
          3.230769230769231,
          3.3333333333333335,
          3.4,
          2.25,
          1,
          2.857142857142857,
          2.75,
          2.5714285714285716,
          1.6666666666666667,
          2.75,
          2,
          2.4444444444444446,
          2.4,
          2.5,
          3.6666666666666665,
          2.125,
          1.3333333333333333,
          3.1818181818181817,
          2.25,
          2.25,
          2.3333333333333335,
          2.6,
          3.25,
          2.8,
          3.6666666666666665,
          2.75,
          2.3333333333333335,
          3.4,
          1,
          2,
          2.5,
          2.5714285714285716,
          2.5,
          2,
          2.4,
          3,
          3,
          2.5714285714285716,
          2.4,
          3.75,
          2.473684210526316,
          2.75,
          3.1333333333333333,
          3,
          3.6666666666666665,
          4.625,
          4,
          3.8666666666666667,
          4,
          2,
          3,
          2.5,
          3.7142857142857144,
          3,
          4,
          3.5714285714285716,
          3,
          2,
          3.7142857142857144,
          3.3333333333333335,
          2.3333333333333335,
          2.3333333333333335,
          4,
          5,
          3.3333333333333335,
          3.1666666666666665,
          2.6,
          2.4444444444444446,
          3.5,
          3.5555555555555554,
          2.8333333333333335,
          2.875,
          2,
          2.5,
          2.7222222222222223,
          2.75,
          2.272727272727273,
          3,
          4,
          3.4166666666666665,
          2.6666666666666665,
          3.5,
          1,
          2,
          3,
          2.2,
          3,
          3,
          4,
          1,
          1,
          3.6,
          2.8,
          3,
          4,
          3.25,
          5,
          3,
          1.5,
          3.1,
          3.6666666666666665,
          4,
          3.6666666666666665,
          3,
          2.3333333333333335,
          1.6,
          3,
          3.2,
          4,
          2,
          3.142857142857143,
          4,
          4,
          2.8,
          3,
          3,
          3,
          3,
          2.4285714285714284,
          3,
          4.25,
          4,
          4,
          2.4285714285714284,
          2.3333333333333335,
          2.8,
          2,
          3.2857142857142856,
          2,
          4,
          2.1666666666666665,
          3,
          5,
          4,
          3,
          1.75,
          2.8,
          3.5,
          3,
          3,
          2.6666666666666665,
          2.5,
          1,
          3,
          1,
          1.5,
          3,
          2,
          2,
          2.75,
          3,
          2.6,
          2,
          1,
          3.5714285714285716,
          1,
          2.75,
          1,
          1,
          1,
          1,
          1,
          1,
          1,
          1,
          1,
          1,
          1,
          1,
          2.5,
          1,
          1,
          1,
          1,
          2,
          1,
          1,
          1,
          1,
          1,
          1,
          2.5,
          1,
          1,
          2,
          3,
          2,
          3.1666666666666665,
          3.6,
          4,
          4.5,
          2,
          2,
          3,
          2.5,
          5,
          3.75,
          1,
          3.3333333333333335,
          3,
          4,
          3,
          2,
          3.3333333333333335,
          2.25,
          1.6666666666666667,
          2,
          3,
          3.75,
          4,
          3,
          3,
          4,
          3,
          1,
          3,
          3.2222222222222223,
          1,
          2.3333333333333335,
          4,
          2,
          4,
          1,
          3,
          3.75,
          4,
          3,
          3.5,
          3,
          3,
          2,
          3,
          4,
          3,
          3,
          4.333333333333333,
          3,
          3,
          4.5,
          3.75,
          1.5,
          4,
          3.5,
          3,
          2,
          3,
          4,
          4,
          1.6666666666666667,
          5,
          1,
          2,
          3.5,
          3,
          3,
          1,
          2,
          1,
          2.5,
          2,
          3.25,
          2,
          2,
          3,
          3,
          2,
          3,
          1,
          2,
          3,
          4,
          3,
          2,
          3,
          1,
          3,
          2,
          3,
          3
         ],
         "y0": " ",
         "yaxis": "y"
        }
       ],
       "layout": {
        "legend": {
         "tracegroupgap": 0
        },
        "margin": {
         "t": 60
        },
        "template": {
         "data": {
          "bar": [
           {
            "error_x": {
             "color": "#2a3f5f"
            },
            "error_y": {
             "color": "#2a3f5f"
            },
            "marker": {
             "line": {
              "color": "#E5ECF6",
              "width": 0.5
             },
             "pattern": {
              "fillmode": "overlay",
              "size": 10,
              "solidity": 0.2
             }
            },
            "type": "bar"
           }
          ],
          "barpolar": [
           {
            "marker": {
             "line": {
              "color": "#E5ECF6",
              "width": 0.5
             },
             "pattern": {
              "fillmode": "overlay",
              "size": 10,
              "solidity": 0.2
             }
            },
            "type": "barpolar"
           }
          ],
          "carpet": [
           {
            "aaxis": {
             "endlinecolor": "#2a3f5f",
             "gridcolor": "white",
             "linecolor": "white",
             "minorgridcolor": "white",
             "startlinecolor": "#2a3f5f"
            },
            "baxis": {
             "endlinecolor": "#2a3f5f",
             "gridcolor": "white",
             "linecolor": "white",
             "minorgridcolor": "white",
             "startlinecolor": "#2a3f5f"
            },
            "type": "carpet"
           }
          ],
          "choropleth": [
           {
            "colorbar": {
             "outlinewidth": 0,
             "ticks": ""
            },
            "type": "choropleth"
           }
          ],
          "contour": [
           {
            "colorbar": {
             "outlinewidth": 0,
             "ticks": ""
            },
            "colorscale": [
             [
              0,
              "#0d0887"
             ],
             [
              0.1111111111111111,
              "#46039f"
             ],
             [
              0.2222222222222222,
              "#7201a8"
             ],
             [
              0.3333333333333333,
              "#9c179e"
             ],
             [
              0.4444444444444444,
              "#bd3786"
             ],
             [
              0.5555555555555556,
              "#d8576b"
             ],
             [
              0.6666666666666666,
              "#ed7953"
             ],
             [
              0.7777777777777778,
              "#fb9f3a"
             ],
             [
              0.8888888888888888,
              "#fdca26"
             ],
             [
              1,
              "#f0f921"
             ]
            ],
            "type": "contour"
           }
          ],
          "contourcarpet": [
           {
            "colorbar": {
             "outlinewidth": 0,
             "ticks": ""
            },
            "type": "contourcarpet"
           }
          ],
          "heatmap": [
           {
            "colorbar": {
             "outlinewidth": 0,
             "ticks": ""
            },
            "colorscale": [
             [
              0,
              "#0d0887"
             ],
             [
              0.1111111111111111,
              "#46039f"
             ],
             [
              0.2222222222222222,
              "#7201a8"
             ],
             [
              0.3333333333333333,
              "#9c179e"
             ],
             [
              0.4444444444444444,
              "#bd3786"
             ],
             [
              0.5555555555555556,
              "#d8576b"
             ],
             [
              0.6666666666666666,
              "#ed7953"
             ],
             [
              0.7777777777777778,
              "#fb9f3a"
             ],
             [
              0.8888888888888888,
              "#fdca26"
             ],
             [
              1,
              "#f0f921"
             ]
            ],
            "type": "heatmap"
           }
          ],
          "heatmapgl": [
           {
            "colorbar": {
             "outlinewidth": 0,
             "ticks": ""
            },
            "colorscale": [
             [
              0,
              "#0d0887"
             ],
             [
              0.1111111111111111,
              "#46039f"
             ],
             [
              0.2222222222222222,
              "#7201a8"
             ],
             [
              0.3333333333333333,
              "#9c179e"
             ],
             [
              0.4444444444444444,
              "#bd3786"
             ],
             [
              0.5555555555555556,
              "#d8576b"
             ],
             [
              0.6666666666666666,
              "#ed7953"
             ],
             [
              0.7777777777777778,
              "#fb9f3a"
             ],
             [
              0.8888888888888888,
              "#fdca26"
             ],
             [
              1,
              "#f0f921"
             ]
            ],
            "type": "heatmapgl"
           }
          ],
          "histogram": [
           {
            "marker": {
             "pattern": {
              "fillmode": "overlay",
              "size": 10,
              "solidity": 0.2
             }
            },
            "type": "histogram"
           }
          ],
          "histogram2d": [
           {
            "colorbar": {
             "outlinewidth": 0,
             "ticks": ""
            },
            "colorscale": [
             [
              0,
              "#0d0887"
             ],
             [
              0.1111111111111111,
              "#46039f"
             ],
             [
              0.2222222222222222,
              "#7201a8"
             ],
             [
              0.3333333333333333,
              "#9c179e"
             ],
             [
              0.4444444444444444,
              "#bd3786"
             ],
             [
              0.5555555555555556,
              "#d8576b"
             ],
             [
              0.6666666666666666,
              "#ed7953"
             ],
             [
              0.7777777777777778,
              "#fb9f3a"
             ],
             [
              0.8888888888888888,
              "#fdca26"
             ],
             [
              1,
              "#f0f921"
             ]
            ],
            "type": "histogram2d"
           }
          ],
          "histogram2dcontour": [
           {
            "colorbar": {
             "outlinewidth": 0,
             "ticks": ""
            },
            "colorscale": [
             [
              0,
              "#0d0887"
             ],
             [
              0.1111111111111111,
              "#46039f"
             ],
             [
              0.2222222222222222,
              "#7201a8"
             ],
             [
              0.3333333333333333,
              "#9c179e"
             ],
             [
              0.4444444444444444,
              "#bd3786"
             ],
             [
              0.5555555555555556,
              "#d8576b"
             ],
             [
              0.6666666666666666,
              "#ed7953"
             ],
             [
              0.7777777777777778,
              "#fb9f3a"
             ],
             [
              0.8888888888888888,
              "#fdca26"
             ],
             [
              1,
              "#f0f921"
             ]
            ],
            "type": "histogram2dcontour"
           }
          ],
          "mesh3d": [
           {
            "colorbar": {
             "outlinewidth": 0,
             "ticks": ""
            },
            "type": "mesh3d"
           }
          ],
          "parcoords": [
           {
            "line": {
             "colorbar": {
              "outlinewidth": 0,
              "ticks": ""
             }
            },
            "type": "parcoords"
           }
          ],
          "pie": [
           {
            "automargin": true,
            "type": "pie"
           }
          ],
          "scatter": [
           {
            "fillpattern": {
             "fillmode": "overlay",
             "size": 10,
             "solidity": 0.2
            },
            "type": "scatter"
           }
          ],
          "scatter3d": [
           {
            "line": {
             "colorbar": {
              "outlinewidth": 0,
              "ticks": ""
             }
            },
            "marker": {
             "colorbar": {
              "outlinewidth": 0,
              "ticks": ""
             }
            },
            "type": "scatter3d"
           }
          ],
          "scattercarpet": [
           {
            "marker": {
             "colorbar": {
              "outlinewidth": 0,
              "ticks": ""
             }
            },
            "type": "scattercarpet"
           }
          ],
          "scattergeo": [
           {
            "marker": {
             "colorbar": {
              "outlinewidth": 0,
              "ticks": ""
             }
            },
            "type": "scattergeo"
           }
          ],
          "scattergl": [
           {
            "marker": {
             "colorbar": {
              "outlinewidth": 0,
              "ticks": ""
             }
            },
            "type": "scattergl"
           }
          ],
          "scattermapbox": [
           {
            "marker": {
             "colorbar": {
              "outlinewidth": 0,
              "ticks": ""
             }
            },
            "type": "scattermapbox"
           }
          ],
          "scatterpolar": [
           {
            "marker": {
             "colorbar": {
              "outlinewidth": 0,
              "ticks": ""
             }
            },
            "type": "scatterpolar"
           }
          ],
          "scatterpolargl": [
           {
            "marker": {
             "colorbar": {
              "outlinewidth": 0,
              "ticks": ""
             }
            },
            "type": "scatterpolargl"
           }
          ],
          "scatterternary": [
           {
            "marker": {
             "colorbar": {
              "outlinewidth": 0,
              "ticks": ""
             }
            },
            "type": "scatterternary"
           }
          ],
          "surface": [
           {
            "colorbar": {
             "outlinewidth": 0,
             "ticks": ""
            },
            "colorscale": [
             [
              0,
              "#0d0887"
             ],
             [
              0.1111111111111111,
              "#46039f"
             ],
             [
              0.2222222222222222,
              "#7201a8"
             ],
             [
              0.3333333333333333,
              "#9c179e"
             ],
             [
              0.4444444444444444,
              "#bd3786"
             ],
             [
              0.5555555555555556,
              "#d8576b"
             ],
             [
              0.6666666666666666,
              "#ed7953"
             ],
             [
              0.7777777777777778,
              "#fb9f3a"
             ],
             [
              0.8888888888888888,
              "#fdca26"
             ],
             [
              1,
              "#f0f921"
             ]
            ],
            "type": "surface"
           }
          ],
          "table": [
           {
            "cells": {
             "fill": {
              "color": "#EBF0F8"
             },
             "line": {
              "color": "white"
             }
            },
            "header": {
             "fill": {
              "color": "#C8D4E3"
             },
             "line": {
              "color": "white"
             }
            },
            "type": "table"
           }
          ]
         },
         "layout": {
          "annotationdefaults": {
           "arrowcolor": "#2a3f5f",
           "arrowhead": 0,
           "arrowwidth": 1
          },
          "autotypenumbers": "strict",
          "coloraxis": {
           "colorbar": {
            "outlinewidth": 0,
            "ticks": ""
           }
          },
          "colorscale": {
           "diverging": [
            [
             0,
             "#8e0152"
            ],
            [
             0.1,
             "#c51b7d"
            ],
            [
             0.2,
             "#de77ae"
            ],
            [
             0.3,
             "#f1b6da"
            ],
            [
             0.4,
             "#fde0ef"
            ],
            [
             0.5,
             "#f7f7f7"
            ],
            [
             0.6,
             "#e6f5d0"
            ],
            [
             0.7,
             "#b8e186"
            ],
            [
             0.8,
             "#7fbc41"
            ],
            [
             0.9,
             "#4d9221"
            ],
            [
             1,
             "#276419"
            ]
           ],
           "sequential": [
            [
             0,
             "#0d0887"
            ],
            [
             0.1111111111111111,
             "#46039f"
            ],
            [
             0.2222222222222222,
             "#7201a8"
            ],
            [
             0.3333333333333333,
             "#9c179e"
            ],
            [
             0.4444444444444444,
             "#bd3786"
            ],
            [
             0.5555555555555556,
             "#d8576b"
            ],
            [
             0.6666666666666666,
             "#ed7953"
            ],
            [
             0.7777777777777778,
             "#fb9f3a"
            ],
            [
             0.8888888888888888,
             "#fdca26"
            ],
            [
             1,
             "#f0f921"
            ]
           ],
           "sequentialminus": [
            [
             0,
             "#0d0887"
            ],
            [
             0.1111111111111111,
             "#46039f"
            ],
            [
             0.2222222222222222,
             "#7201a8"
            ],
            [
             0.3333333333333333,
             "#9c179e"
            ],
            [
             0.4444444444444444,
             "#bd3786"
            ],
            [
             0.5555555555555556,
             "#d8576b"
            ],
            [
             0.6666666666666666,
             "#ed7953"
            ],
            [
             0.7777777777777778,
             "#fb9f3a"
            ],
            [
             0.8888888888888888,
             "#fdca26"
            ],
            [
             1,
             "#f0f921"
            ]
           ]
          },
          "colorway": [
           "#636efa",
           "#EF553B",
           "#00cc96",
           "#ab63fa",
           "#FFA15A",
           "#19d3f3",
           "#FF6692",
           "#B6E880",
           "#FF97FF",
           "#FECB52"
          ],
          "font": {
           "color": "#2a3f5f"
          },
          "geo": {
           "bgcolor": "white",
           "lakecolor": "white",
           "landcolor": "#E5ECF6",
           "showlakes": true,
           "showland": true,
           "subunitcolor": "white"
          },
          "hoverlabel": {
           "align": "left"
          },
          "hovermode": "closest",
          "mapbox": {
           "style": "light"
          },
          "paper_bgcolor": "white",
          "plot_bgcolor": "#E5ECF6",
          "polar": {
           "angularaxis": {
            "gridcolor": "white",
            "linecolor": "white",
            "ticks": ""
           },
           "bgcolor": "#E5ECF6",
           "radialaxis": {
            "gridcolor": "white",
            "linecolor": "white",
            "ticks": ""
           }
          },
          "scene": {
           "xaxis": {
            "backgroundcolor": "#E5ECF6",
            "gridcolor": "white",
            "gridwidth": 2,
            "linecolor": "white",
            "showbackground": true,
            "ticks": "",
            "zerolinecolor": "white"
           },
           "yaxis": {
            "backgroundcolor": "#E5ECF6",
            "gridcolor": "white",
            "gridwidth": 2,
            "linecolor": "white",
            "showbackground": true,
            "ticks": "",
            "zerolinecolor": "white"
           },
           "zaxis": {
            "backgroundcolor": "#E5ECF6",
            "gridcolor": "white",
            "gridwidth": 2,
            "linecolor": "white",
            "showbackground": true,
            "ticks": "",
            "zerolinecolor": "white"
           }
          },
          "shapedefaults": {
           "line": {
            "color": "#2a3f5f"
           }
          },
          "ternary": {
           "aaxis": {
            "gridcolor": "white",
            "linecolor": "white",
            "ticks": ""
           },
           "baxis": {
            "gridcolor": "white",
            "linecolor": "white",
            "ticks": ""
           },
           "bgcolor": "#E5ECF6",
           "caxis": {
            "gridcolor": "white",
            "linecolor": "white",
            "ticks": ""
           }
          },
          "title": {
           "x": 0.05
          },
          "xaxis": {
           "automargin": true,
           "gridcolor": "white",
           "linecolor": "white",
           "ticks": "",
           "title": {
            "standoff": 15
           },
           "zerolinecolor": "white",
           "zerolinewidth": 2
          },
          "yaxis": {
           "automargin": true,
           "gridcolor": "white",
           "linecolor": "white",
           "ticks": "",
           "title": {
            "standoff": 15
           },
           "zerolinecolor": "white",
           "zerolinewidth": 2
          }
         }
        },
        "violinmode": "group",
        "xaxis": {
         "anchor": "y",
         "domain": [
          0,
          1
         ]
        },
        "yaxis": {
         "anchor": "x",
         "domain": [
          0,
          1
         ],
         "title": {
          "text": "mean"
         }
        }
       }
      },
      "text/html": [
       "<div>                            <div id=\"e68d34c0-fd2d-40c6-8674-3bae2d373e79\" class=\"plotly-graph-div\" style=\"height:525px; width:100%;\"></div>            <script type=\"text/javascript\">                require([\"plotly\"], function(Plotly) {                    window.PLOTLYENV=window.PLOTLYENV || {};                                    if (document.getElementById(\"e68d34c0-fd2d-40c6-8674-3bae2d373e79\")) {                    Plotly.newPlot(                        \"e68d34c0-fd2d-40c6-8674-3bae2d373e79\",                        [{\"alignmentgroup\":\"True\",\"box\":{\"visible\":true},\"customdata\":[[1,452,3.55,\"Toy Story (1995)\"],[2,131,2.53,\"GoldenEye (1995)\"],[3,90,2.25,\"Four Rooms (1995)\"],[4,209,3.0,\"Get Shorty (1995)\"],[5,86,2.38,\"Copycat (1995)\"],[6,26,1.82,\"Shanghai Triad (Yao a yao yao dao waipo qiao) (1995)\"],[7,392,3.44,\"Twelve Monkeys (1995)\"],[8,219,3.37,\"Babe (1995)\"],[9,299,3.42,\"Dead Man Walking (1995)\"],[10,89,2.72,\"Richard III (1995)\"],[11,236,3.28,\"Seven (Se7en) (1995)\"],[12,267,3.78,\"Usual Suspects, The (1995)\"],[13,184,2.84,\"Mighty Aphrodite (1995)\"],[14,183,3.25,\"Postino, Il (1994)\"],[15,293,3.32,\"Mr. Holland's Opus (1995)\"],[16,39,1.9,\"French Twist (Gazon maudit) (1995)\"],[17,92,2.31,\"From Dusk Till Dawn (1996)\"],[18,10,1.3,\"White Balloon, The (1995)\"],[19,69,2.61,\"Antonia's Line (1995)\"],[20,72,2.35,\"Angels and Insects (1995)\"],[21,84,2.05,\"Muppet Treasure Island (1996)\"],[22,297,3.63,\"Braveheart (1995)\"],[23,182,3.37,\"Taxi Driver (1976)\"],[24,174,2.84,\"Rumble in the Bronx (1995)\"],[25,293,3.04,\"Birdcage, The (1996)\"],[26,73,2.37,\"Brothers McMullen, The (1995)\"],[27,57,2.06,\"Bad Boys (1995)\"],[28,276,3.42,\"Apollo 13 (1995)\"],[29,114,2.11,\"Batman Forever (1995)\"],[30,37,2.16,\"Belle de jour (1967)\"],[31,154,2.91,\"Crimson Tide (1995)\"],[32,81,2.63,\"Crumb (1994)\"],[33,97,2.54,\"Desperado (1995)\"],[34,7,1.23,\"Doom Generation, The (1995)\"],[35,11,1.23,\"Free Willy 2: The Adventure Home (1995)\"],[36,13,1.25,\"Mad Love (1995)\"],[37,8,1.19,\"Nadja (1994)\"],[38,120,2.36,\"Net, The (1995)\"],[39,87,2.37,\"Strange Days (1995)\"],[40,57,1.95,\"To Wong Foo, Thanks for Everything! Julie Newmar (1995)\"],[41,37,1.83,\"Billy Madison (1995)\"],[42,148,3.02,\"Clerks (1994)\"],[43,40,1.84,\"Disclosure (1994)\"],[44,79,2.36,\"Dolores Claiborne (1994)\"],[45,80,2.77,\"Eat Drink Man Woman (1994)\"],[46,27,1.83,\"Exotica (1994)\"],[47,133,2.81,\"Ed Wood (1994)\"],[48,117,3.07,\"Hoop Dreams (1994)\"],[49,81,2.36,\"I.Q. (1994)\"],[50,583,4.05,\"Star Wars (1977)\"],[51,81,2.44,\"Legends of the Fall (1994)\"],[52,91,2.7,\"Madness of King George, The (1994)\"],[53,128,2.35,\"Natural Born Killers (1994)\"],[54,104,2.44,\"Outbreak (1995)\"],[55,149,2.95,\"Professional, The (1994)\"],[56,394,3.67,\"Pulp Fiction (1994)\"],[57,40,2.24,\"Priest (1994)\"],[58,175,2.99,\"Quiz Show (1994)\"],[59,83,2.8,\"Three Colors: Red (1994)\"],[60,64,2.59,\"Three Colors: Blue (1993)\"],[61,59,2.45,\"Three Colors: White (1994)\"],[62,127,2.48,\"Stargate (1994)\"],[63,82,2.24,\"Santa Clause, The (1994)\"],[64,283,3.86,\"Shawshank Redemption, The (1994)\"],[65,115,2.69,\"What's Eating Gilbert Grape (1993)\"],[66,162,2.88,\"While You Were Sleeping (1995)\"],[67,103,2.32,\"Ace Ventura: Pet Detective (1994)\"],[68,134,2.69,\"Crow, The (1994)\"],[69,321,3.42,\"Forrest Gump (1994)\"],[70,251,3.16,\"Four Weddings and a Funeral (1994)\"],[71,220,3.2,\"Lion King, The (1994)\"],[72,129,2.52,\"Mask, The (1994)\"],[73,128,2.7,\"Maverick (1994)\"],[74,7,1.26,\"Faster Pussycat! Kill! Kill! (1965)\"],[75,5,1.2,\"Brother Minister: The Assassination of Malcolm X (1994)\"],[76,54,2.17,\"Carlito's Way (1993)\"],[77,151,2.65,\"Firm, The (1993)\"],[78,33,1.55,\"Free Willy (1993)\"],[79,336,3.59,\"Fugitive, The (1993)\"],[80,68,1.97,\"Hot Shots! Part Deux (1993)\"],[81,110,2.68,\"Hudsucker Proxy, The (1994)\"],[82,261,3.23,\"Jurassic Park (1993)\"],[83,176,3.3,\"Much Ado About Nothing (1993)\"],[84,18,1.5,\"Robert A. Heinlein's The Puppet Masters (1994)\"],[85,58,2.03,\"Ref, The (1994)\"],[86,150,3.12,\"Remains of the Day, The (1993)\"],[87,138,3.05,\"Searching for Bobby Fischer (1993)\"],[88,213,3.0,\"Sleepless in Seattle (1993)\"],[89,275,3.59,\"Blade Runner (1982)\"],[90,95,2.28,\"So I Married an Axe Murderer (1993)\"],[91,143,2.84,\"Nightmare Before Christmas, The (1993)\"],[92,104,2.68,\"True Romance (1993)\"],[93,112,2.8,\"Welcome to the Dollhouse (1995)\"],[94,137,2.47,\"Home Alone (1990)\"],[95,219,3.22,\"Aladdin (1992)\"],[96,295,3.51,\"Terminator 2: Judgment Day (1991)\"],[97,256,3.28,\"Dances with Wolves (1990)\"],[98,390,3.86,\"Silence of the Lambs, The (1991)\"],[99,172,3.03,\"Snow White and the Seven Dwarfs (1937)\"],[100,508,3.83,\"Fargo (1996)\"],[101,73,2.27,\"Heavy Metal (1981)\"],[102,54,2.04,\"Aristocats, The (1970)\"],[103,15,1.22,\"All Dogs Go to Heaven 2 (1996)\"],[104,5,1.08,\"Theodore Rex (1995)\"],[105,74,1.89,\"Sgt. Bilko (1996)\"],[106,71,2.05,\"Diabolique (1996)\"],[107,42,2.07,\"Moll Flanders (1996)\"],[108,65,2.11,\"Kids in the Hall: Brain Candy (1996)\"],[109,130,2.68,\"Mystery Science Theater 3000: The Movie (1996)\"],[110,31,1.55,\"Operation Dumbo Drop (1995)\"],[111,272,3.05,\"Truth About Cats & Dogs, The (1996)\"],[112,20,1.4,\"Flipper (1996)\"],[113,9,1.45,\"Horseman on the Roof, The (Hussard sur le toit, Le) (1995)\"],[114,67,2.85,\"Wallace & Gromit: The Best of Aardman Animation (1996)\"],[115,15,1.59,\"Haunted World of Edward D. Wood Jr., The (1995)\"],[116,125,2.93,\"Cold Comfort Farm (1995)\"],[117,378,3.33,\"Rock, The (1996)\"],[118,293,2.85,\"Twister (1996)\"],[119,4,1.27,\"Maya Lin: A Strong Clear Vision (1994)\"],[120,67,1.68,\"Striptease (1996)\"],[121,429,3.15,\"Independence Day (ID4) (1996)\"],[122,106,1.88,\"Cable Guy, The (1996)\"],[123,115,2.49,\"Frighteners, The (1996)\"],[124,187,3.33,\"Lone Star (1996)\"],[125,244,3.07,\"Phenomenon (1996)\"],[126,97,2.76,\"Spitfire Grill, The (1996)\"],[127,413,3.88,\"Godfather, The (1972)\"],[128,65,2.35,\"Supercop (1992)\"],[129,129,2.95,\"Bound (1996)\"],[130,23,1.39,\"Kansas City (1996)\"],[131,95,2.7,\"Breakfast at Tiffany's (1961)\"],[132,246,3.49,\"Wizard of Oz, The (1939)\"],[133,171,3.14,\"Gone with the Wind (1939)\"],[134,198,3.54,\"Citizen Kane (1941)\"],[135,259,3.42,\"2001: A Space Odyssey (1968)\"],[136,105,3.01,\"Mr. Smith Goes to Washington (1939)\"],[137,171,3.17,\"Big Night (1996)\"],[138,19,1.42,\"D3: The Mighty Ducks (1996)\"],[139,50,1.84,\"Love Bug, The (1969)\"],[140,61,2.15,\"Homeward Bound: The Incredible Journey (1993)\"],[141,72,2.39,\"20,000 Leagues Under the Sea (1954)\"],[142,57,2.04,\"Bedknobs and Broomsticks (1971)\"],[143,222,3.19,\"Sound of Music, The (1965)\"],[144,243,3.32,\"Die Hard (1988)\"],[145,65,1.78,\"Lawnmower Man, The (1992)\"],[146,10,1.26,\"Unhook the Stars (1996)\"],[147,185,2.88,\"Long Kiss Goodnight, The (1996)\"],[148,128,2.52,\"Ghost and the Darkness, The (1996)\"],[149,23,1.6,\"Jude (1996)\"],[150,157,3.07,\"Swingers (1996)\"],[151,326,3.23,\"Willy Wonka and the Chocolate Factory (1971)\"],[152,82,2.55,\"Sleeper (1973)\"],[153,247,3.26,\"Fish Called Wanda, A (1988)\"],[154,174,3.06,\"Monty Python's Life of Brian (1979)\"],[155,98,2.33,\"Dirty Dancing (1987)\"],[156,148,3.15,\"Reservoir Dogs (1992)\"],[157,127,2.85,\"Platoon (1986)\"],[158,60,1.84,\"Weekend at Bernie's (1989)\"],[159,101,2.42,\"Basic Instinct (1992)\"],[160,69,2.35,\"Glengarry Glen Ross (1992)\"],[161,220,2.96,\"Top Gun (1986)\"],[162,106,2.66,\"On Golden Pond (1981)\"],[163,92,2.57,\"Return of the Pink Panther, The (1974)\"],[164,151,2.87,\"Abyss, The (1989)\"],[165,64,2.64,\"Jean de Florette (1986)\"],[166,58,2.57,\"Manon of the Spring (Manon des sources) (1986)\"],[167,67,2.06,\"Private Benjamin (1980)\"],[168,316,3.59,\"Monty Python and the Holy Grail (1974)\"],[169,118,3.32,\"Wrong Trousers, The (1993)\"],[170,121,3.15,\"Cinema Paradiso (1988)\"],[171,65,2.53,\"Delicatessen (1991)\"],[172,367,3.76,\"Empire Strikes Back, The (1980)\"],[173,324,3.69,\"Princess Bride, The (1987)\"],[174,420,3.86,\"Raiders of the Lost Ark (1981)\"],[175,208,3.2,\"Brazil (1985)\"],[176,284,3.45,\"Aliens (1986)\"],[177,137,3.01,\"Good, The Bad and The Ugly, The (1966)\"],[178,125,3.28,\"12 Angry Men (1957)\"],[179,221,3.3,\"Clockwork Orange, A (1971)\"],[180,221,3.41,\"Apocalypse Now (1979)\"],[181,507,3.7,\"Return of the Jedi (1983)\"],[182,226,3.35,\"GoodFellas (1990)\"],[183,291,3.53,\"Alien (1979)\"],[184,116,2.62,\"Army of Darkness (1993)\"],[185,239,3.49,\"Psycho (1960)\"],[186,251,3.3,\"Blues Brothers, The (1980)\"],[187,209,3.49,\"Godfather: Part II, The (1974)\"],[188,170,3.0,\"Full Metal Jacket (1987)\"],[189,66,2.66,\"Grand Day Out, A (1992)\"],[190,124,3.14,\"Henry V (1989)\"],[191,276,3.61,\"Amadeus (1984)\"],[192,116,3.08,\"Raging Bull (1980)\"],[193,157,3.13,\"Right Stuff, The (1983)\"],[194,241,3.46,\"Sting, The (1973)\"],[195,301,3.46,\"Terminator, The (1984)\"],[196,251,3.37,\"Dead Poets Society (1989)\"],[197,239,3.5,\"Graduate, The (1967)\"],[198,127,3.07,\"Nikita (La Femme Nikita) (1990)\"],[199,165,3.35,\"Bridge on the River Kwai, The (1957)\"],[200,206,3.2,\"Shining, The (1980)\"],[201,89,2.53,\"Evil Dead II (1987)\"],[202,280,3.29,\"Groundhog Day (1993)\"],[203,182,3.17,\"Unforgiven (1992)\"],[204,350,3.43,\"Back to the Future (1985)\"],[205,136,3.1,\"Patton (1970)\"],[206,50,2.12,\"Akira (1988)\"],[207,66,2.51,\"Cyrano de Bergerac (1990)\"],[208,200,3.28,\"Young Frankenstein (1974)\"],[209,191,3.23,\"This Is Spinal Tap (1984)\"],[210,331,3.49,\"Indiana Jones and the Last Crusade (1989)\"],[211,206,3.27,\"M*A*S*H (1970)\"],[212,92,2.51,\"Unbearable Lightness of Being, The (1988)\"],[213,134,3.08,\"Room with a View, A (1986)\"],[214,114,2.56,\"Pink Floyd - The Wall (1982)\"],[215,212,3.12,\"Field of Dreams (1989)\"],[216,290,3.42,\"When Harry Met Sally... (1989)\"],[217,120,2.46,\"Bram Stoker's Dracula (1992)\"],[218,171,2.84,\"Cape Fear (1991)\"],[219,111,2.43,\"Nightmare on Elm Street, A (1984)\"],[220,66,2.27,\"Mirror Has Two Faces, The (1996)\"],[221,74,2.54,\"Breaking the Waves (1996)\"],[222,365,3.29,\"Star Trek: First Contact (1996)\"],[223,136,3.24,\"Sling Blade (1996)\"],[224,44,2.18,\"Ridicule (1996)\"],[225,109,2.25,\"101 Dalmatians (1996)\"],[226,166,2.75,\"Die Hard 2 (1990)\"],[227,161,2.68,\"Star Trek VI: The Undiscovered Country (1991)\"],[228,244,3.27,\"Star Trek: The Wrath of Khan (1982)\"],[229,171,2.58,\"Star Trek III: The Search for Spock (1984)\"],[230,199,2.9,\"Star Trek IV: The Voyage Home (1986)\"],[231,142,2.2,\"Batman Returns (1992)\"],[232,101,2.41,\"Young Guns (1988)\"],[233,124,2.56,\"Under Siege (1992)\"],[234,280,3.3,\"Jaws (1975)\"],[235,217,2.46,\"Mars Attacks! (1996)\"],[236,45,2.16,\"Citizen Ruth (1996)\"],[237,384,3.35,\"Jerry Maguire (1996)\"],[238,256,3.34,\"Raising Arizona (1987)\"],[239,150,2.81,\"Sneakers (1992)\"],[240,156,2.31,\"Beavis and Butt-head Do America (1996)\"],[241,128,2.76,\"Last of the Mohicans, The (1992)\"],[242,117,3.0,\"Kolya (1996)\"],[243,132,2.01,\"Jungle2Jungle (1997)\"],[244,48,2.0,\"Smilla's Sense of Snow (1997)\"],[245,240,2.7,\"Devil's Own, The (1997)\"],[246,124,3.0,\"Chasing Amy (1997)\"],[247,5,1.11,\"Turbo: A Power Rangers Movie (1997)\"],[248,160,2.96,\"Grosse Pointe Blank (1997)\"],[249,130,2.56,\"Austin Powers: International Man of Mystery (1997)\"],[250,197,2.91,\"Fifth Element, The (1997)\"],[251,46,2.45,\"Shall We Dance? (1996)\"],[252,158,2.43,\"Lost World: Jurassic Park, The (1997)\"],[253,26,1.86,\"Pillow Book, The (1995)\"],[254,62,1.77,\"Batman & Robin (1997)\"],[255,172,2.77,\"My Best Friend's Wedding (1997)\"],[256,16,1.58,\"When the Cats Away (Chacun cherche son chat) (1996)\"],[257,303,3.3,\"Men in Black (1997)\"],[258,509,3.52,\"Contact (1997)\"],[259,162,2.25,\"George of the Jungle (1997)\"],[260,127,2.09,\"Event Horizon (1997)\"],[261,43,1.68,\"Air Bud (1997)\"],[262,66,2.45,\"In the Company of Men (1997)\"],[263,19,1.32,\"Steel (1997)\"],[264,101,2.12,\"Mimic (1997)\"],[265,227,3.28,\"Hunt for Red October, The (1990)\"],[266,35,1.67,\"Kull the Conqueror (1997)\"],[267,9,1.37,\"unknown\"],[268,255,3.27,\"Chasing Amy (1997)\"],[269,315,3.47,\"Full Monty, The (1997)\"],[270,136,2.82,\"Gattaca (1997)\"],[271,211,2.75,\"Starship Troopers (1997)\"],[272,198,3.52,\"Good Will Hunting (1997)\"],[273,223,3.04,\"Heat (1995)\"],[274,190,2.92,\"Sabrina (1995)\"],[275,268,3.47,\"Sense and Sensibility (1995)\"],[276,298,3.26,\"Leaving Las Vegas (1995)\"],[277,71,2.37,\"Restoration (1995)\"],[278,60,2.15,\"Bed of Roses (1996)\"],[279,28,1.77,\"Once Upon a Time... When We Were Colored (1995)\"],[280,85,2.31,\"Up Close and Personal (1996)\"],[281,146,2.54,\"River Wild, The (1994)\"],[282,232,3.15,\"Time to Kill, A (1996)\"],[283,177,3.05,\"Emma (1996)\"],[284,193,2.66,\"Tin Cup (1996)\"],[285,162,3.4,\"Secrets & Lies (1996)\"],[286,481,3.37,\"English Patient, The (1996)\"],[287,78,2.49,\"Marvin's Room (1996)\"],[288,478,3.18,\"Scream (1996)\"],[289,259,2.62,\"Evita (1996)\"],[290,96,2.33,\"Fierce Creatures (1997)\"],[291,127,2.63,\"Absolute Power (1997)\"],[292,114,2.77,\"Rosewood (1997)\"],[293,147,3.01,\"Donnie Brasco (1997)\"],[294,485,2.93,\"Liar Liar (1997)\"],[295,77,2.38,\"Breakdown (1997)\"],[296,6,1.26,\"Promesse, La (1996)\"],[297,50,2.38,\"Ulee's Gold (1997)\"],[298,194,3.13,\"Face\\u002fOff (1997)\"],[299,73,2.09,\"Hoodlum (1997)\"],[300,431,3.32,\"Air Force One (1997)\"],[301,230,2.84,\"In & Out (1997)\"],[302,297,3.64,\"L.A. Confidential (1997)\"],[303,134,2.88,\"Ulee's Gold (1997)\"],[304,149,2.83,\"Fly Away Home (1996)\"],[305,87,2.59,\"Ice Storm, The (1997)\"],[306,96,2.84,\"Mrs. Brown (Her Majesty, Mrs. Brown) (1997)\"],[307,188,2.92,\"Devil's Advocate, The (1997)\"],[308,30,1.69,\"FairyTale: A True Story (1997)\"],[309,28,1.63,\"Deceiver (1997)\"],[310,145,2.86,\"Rainmaker, The (1997)\"],[311,75,2.52,\"Wings of the Dove, The (1997)\"],[312,80,2.26,\"Midnight in the Garden of Good and Evil (1997)\"],[313,350,3.78,\"Titanic (1997)\"],[314,5,1.05,\"3 Ninjas: High Noon At Mega Mountain (1998)\"],[315,160,3.27,\"Apt Pupil (1998)\"],[316,112,3.11,\"As Good As It Gets (1997)\"],[317,102,2.86,\"In the Name of the Father (1993)\"],[318,298,3.9,\"Schindler's List (1993)\"],[319,168,2.69,\"Everyone Says I Love You (1996)\"],[320,20,1.81,\"Paradise Lost: The Child Murders at Robin Hood Hills (1996)\"],[321,169,2.59,\"Mother (1996)\"],[322,218,2.65,\"Murder at 1600 (1997)\"],[323,240,2.56,\"Dante's Peak (1997)\"],[324,125,2.46,\"Lost Highway (1997)\"],[325,128,2.07,\"Crash (1996)\"],[326,175,2.77,\"G.I. Jane (1997)\"],[327,175,2.79,\"Cop Land (1997)\"],[328,295,3.03,\"Conspiracy Theory (1997)\"],[329,45,2.03,\"Desperate Measures (1998)\"],[330,41,1.86,\"187 (1997)\"],[331,113,2.68,\"Edge, The (1997)\"],[332,143,2.75,\"Kiss the Girls (1997)\"],[333,251,3.11,\"Game, The (1997)\"],[334,64,2.25,\"U Turn (1997)\"],[335,21,1.5,\"How to Be a Player (1997)\"],[336,43,1.71,\"Playing God (1997)\"],[337,18,1.5,\"House of Yes, The (1997)\"],[338,91,2.02,\"Bean (1997)\"],[339,47,2.02,\"Mad City (1997)\"],[340,189,2.98,\"Boogie Nights (1997)\"],[341,11,1.37,\"Critical Care (1997)\"],[342,52,1.92,\"Man Who Knew Too Little, The (1997)\"],[343,124,2.43,\"Alien: Resurrection (1997)\"],[344,55,2.3,\"Apostle, The (1997)\"],[345,65,2.28,\"Deconstructing Harry (1997)\"],[346,126,2.81,\"Jackie Brown (1997)\"],[347,137,2.77,\"Wag the Dog (1997)\"],[348,27,1.75,\"Desperate Measures (1998)\"],[349,31,1.69,\"Hard Rain (1998)\"],[350,41,1.91,\"Fallen (1998)\"],[351,20,1.47,\"Prophecy II, The (1998)\"],[352,26,1.38,\"Spice World (1997)\"],[353,14,1.31,\"Deep Rising (1998)\"],[354,72,2.39,\"Wedding Singer, The (1998)\"],[355,41,1.82,\"Sphere (1998)\"],[356,97,2.5,\"Client, The (1994)\"],[357,264,3.7,\"One Flew Over the Cuckoo's Nest (1975)\"],[358,143,2.16,\"Spawn (1997)\"],[359,18,1.62,\"Assignment, The (1997)\"],[360,10,1.36,\"Wonderland (1997)\"],[361,10,1.4,\"Incognito (1997)\"],[362,28,1.62,\"Blues Brothers 2000 (1998)\"],[363,47,1.79,\"Sudden Death (1995)\"],[364,37,1.67,\"Ace Ventura: When Nature Calls (1995)\"],[365,48,2.02,\"Powder (1995)\"],[366,47,2.06,\"Dangerous Minds (1995)\"],[367,170,2.84,\"Clueless (1995)\"],[368,31,1.34,\"Bio-Dome (1996)\"],[369,55,1.81,\"Black Sheep (1996)\"],[370,39,1.75,\"Mary Reilly (1996)\"],[371,67,2.17,\"Bridges of Madison County, The (1995)\"],[372,34,1.95,\"Jeffrey (1995)\"],[373,39,1.78,\"Judge Dredd (1995)\"],[374,11,1.24,\"Mighty Morphin Power Rangers: The Movie (1995)\"],[375,23,1.3,\"Showgirls (1995)\"],[376,24,1.56,\"Houseguest (1994)\"],[377,13,1.25,\"Heavyweights (1994)\"],[378,101,2.73,\"Miracle on 34th Street (1994)\"],[379,43,1.86,\"Tales From the Crypt Presents: Demon Knight (1995)\"],[380,116,2.56,\"Star Trek: Generations (1994)\"],[381,100,2.62,\"Muriel's Wedding (1994)\"],[382,111,2.71,\"Adventures of Priscilla, Queen of the Desert, The (1994)\"],[383,31,1.4,\"Flintstones, The (1994)\"],[384,69,1.98,\"Naked Gun 33 1\\u002f3: The Final Insult (1994)\"],[385,208,3.0,\"True Lies (1994)\"],[386,87,2.1,\"Addams Family Values (1993)\"],[387,65,2.27,\"Age of Innocence, The (1993)\"],[388,28,1.48,\"Beverly Hills Cop III (1994)\"],[389,27,1.8,\"Black Beauty (1994)\"],[390,10,1.36,\"Fear of a Black Hat (1993)\"],[391,59,1.9,\"Last Action Hero (1993)\"],[392,68,2.38,\"Man Without a Face, The (1993)\"],[393,192,2.85,\"Mrs. Doubtfire (1993)\"],[394,12,1.43,\"Radioland Murders (1994)\"],[395,56,1.8,\"Robin Hood: Men in Tights (1993)\"],[396,54,1.89,\"Serial Mom (1994)\"],[397,12,1.31,\"Striking Distance (1993)\"],[398,26,1.36,\"Super Mario Bros. (1993)\"],[399,89,2.4,\"Three Musketeers, The (1993)\"],[400,18,1.44,\"Little Rascals, The (1994)\"],[401,76,2.03,\"Brady Bunch Movie, The (1995)\"],[402,170,2.84,\"Ghost (1990)\"],[403,201,2.89,\"Batman (1989)\"],[404,101,2.7,\"Pinocchio (1940)\"],[405,344,2.98,\"Mission: Impossible (1996)\"],[406,49,1.68,\"Thinner (1996)\"],[407,43,1.66,\"Spy Hard (1996)\"],[408,112,3.3,\"Close Shave, A (1995)\"],[409,70,2.18,\"Jack (1996)\"],[410,162,2.57,\"Kingpin (1996)\"],[411,163,2.42,\"Nutty Professor, The (1996)\"],[412,93,1.87,\"Very Brady Sequel, A (1996)\"],[413,55,1.81,\"Tales from the Crypt Presents: Bordello of Blood (1996)\"],[414,62,2.32,\"My Favorite Year (1982)\"],[415,25,1.58,\"Apple Dumpling Gang, The (1975)\"],[416,64,2.31,\"Old Yeller (1957)\"],[417,73,2.18,\"Parent Trap, The (1961)\"],[418,129,2.78,\"Cinderella (1950)\"],[419,178,3.06,\"Mary Poppins (1964)\"],[420,81,2.56,\"Alice in Wonderland (1951)\"],[421,106,2.68,\"William Shakespeare's Romeo and Juliet (1996)\"],[422,26,1.6,\"Aladdin and the King of Thieves (1996)\"],[423,300,3.37,\"E.T. the Extra-Terrestrial (1982)\"],[424,19,1.12,\"Children of the Corn: The Gathering (1996)\"],[425,85,2.63,\"Bob Roberts (1992)\"],[426,32,1.68,\"Transformers: The Movie, The (1986)\"],[427,219,3.6,\"To Kill a Mockingbird (1962)\"],[428,121,2.91,\"Harold and Maude (1971)\"],[429,97,2.84,\"Day the Earth Stood Still, The (1951)\"],[430,93,2.85,\"Duck Soup (1933)\"],[431,153,2.84,\"Highlander (1986)\"],[432,174,3.08,\"Fantasia (1940)\"],[433,171,3.01,\"Heathers (1989)\"],[434,67,2.53,\"Forbidden Planet (1956)\"],[435,216,3.32,\"Butch Cassidy and the Sundance Kid (1969)\"],[436,99,2.6,\"American Werewolf in London, An (1981)\"],[437,5,1.05,\"Amityville 1992: It's About Time (1992)\"],[438,6,1.06,\"Amityville 3-D (1983)\"],[439,5,1.05,\"Amityville: A New Generation (1993)\"],[440,14,1.16,\"Amityville II: The Possession (1982)\"],[441,53,1.77,\"Amityville Horror, The (1979)\"],[442,4,1.06,\"Amityville Curse, The (1990)\"],[443,162,3.07,\"Birds, The (1963)\"],[444,46,1.78,\"Blob, The (1958)\"],[445,22,1.71,\"Body Snatcher, The (1945)\"],[446,9,1.23,\"Burnt Offerings (1976)\"],[447,121,2.7,\"Carrie (1976)\"],[448,85,2.43,\"Omen, The (1976)\"],[449,117,2.37,\"Star Trek: The Motion Picture (1979)\"],[450,63,1.74,\"Star Trek V: The Final Frontier (1989)\"],[451,170,2.75,\"Grease (1978)\"],[452,66,1.9,\"Jaws 2 (1978)\"],[453,16,1.24,\"Jaws 3-D (1983)\"],[454,16,1.44,\"Bastard Out of Carolina (1996)\"],[455,145,2.61,\"Jackie Chan's First Strike (1996)\"],[456,48,1.61,\"Beverly Hills Ninja (1997)\"],[457,27,1.27,\"Free Willy 3: The Rescue (1997)\"],[458,90,2.3,\"Nixon (1995)\"],[459,24,1.83,\"Cry, the Beloved Country (1995)\"],[460,28,1.68,\"Crossing Guard, The (1995)\"],[461,74,2.48,\"Smoke (1995)\"],[462,148,3.02,\"Like Water For Chocolate (Como agua para chocolate) (1992)\"],[463,71,2.58,\"Secret of Roan Inish, The (1994)\"],[464,27,1.85,\"Vanya on 42nd Street (1994)\"],[465,85,2.53,\"Jungle Book, The (1994)\"],[466,52,2.24,\"Red Rock West (1992)\"],[467,48,2.28,\"Bronx Tale, A (1993)\"],[468,64,2.22,\"Rudy (1993)\"],[469,67,2.5,\"Short Cuts (1993)\"],[470,108,2.74,\"Tombstone (1993)\"],[471,221,3.07,\"Courage Under Fire (1996)\"],[472,158,2.53,\"Dragonheart (1996)\"],[473,126,2.46,\"James and the Giant Peach (1996)\"],[474,194,3.5,\"Dr. Strangelove or: How I Learned to Stop Worrying and Love the Bomb (1963)\"],[475,250,3.34,\"Trainspotting (1996)\"],[476,160,2.49,\"First Wives Club, The (1996)\"],[477,95,2.38,\"Matilda (1996)\"],[478,104,3.0,\"Philadelphia Story, The (1940)\"],[479,179,3.45,\"Vertigo (1958)\"],[480,179,3.48,\"North by Northwest (1959)\"],[481,63,2.54,\"Apartment, The (1960)\"],[482,128,3.05,\"Some Like It Hot (1959)\"],[483,243,3.79,\"Casablanca (1942)\"],[484,138,3.26,\"Maltese Falcon, The (1941)\"],[485,125,2.93,\"My Fair Lady (1964)\"],[486,64,2.47,\"Sabrina (1954)\"],[487,68,2.68,\"Roman Holiday (1953)\"],[488,65,2.7,\"Sunset Blvd. (1950)\"],[489,52,2.48,\"Notorious (1946)\"],[490,50,2.41,\"To Catch a Thief (1955)\"],[491,67,2.5,\"Adventures of Robin Hood, The (1938)\"],[492,59,2.45,\"East of Eden (1955)\"],[493,60,2.61,\"Thin Man, The (1934)\"],[494,56,2.48,\"His Girl Friday (1940)\"],[495,59,2.35,\"Around the World in 80 Days (1956)\"],[496,231,3.49,\"It's a Wonderful Life (1946)\"],[497,68,2.54,\"Bringing Up Baby (1938)\"],[498,152,3.3,\"African Queen, The (1951)\"],[499,62,2.53,\"Cat on a Hot Tin Roof (1958)\"],[500,31,2.03,\"Fly Away Home (1996)\"],[501,123,2.7,\"Dumbo (1941)\"],[502,57,2.35,\"Bananas (1971)\"],[503,39,2.08,\"Candidate, The (1972)\"],[504,122,2.91,\"Bonnie and Clyde (1967)\"],[505,68,2.62,\"Dial M for Murder (1954)\"],[506,90,2.74,\"Rebel Without a Cause (1955)\"],[507,98,2.77,\"Streetcar Named Desire, A (1951)\"],[508,215,3.04,\"People vs. Larry Flynt, The (1996)\"],[509,121,2.93,\"My Left Foot (1989)\"],[510,121,2.99,\"Magnificent Seven, The (1954)\"],[511,173,3.42,\"Lawrence of Arabia (1962)\"],[512,57,2.49,\"Wings of Desire (1987)\"],[513,72,2.85,\"Third Man, The (1949)\"],[514,180,3.2,\"Annie Hall (1977)\"],[515,201,3.48,\"Boot, Das (1981)\"],[516,63,2.55,\"Local Hero (1983)\"],[517,91,2.7,\"Manhattan (1979)\"],[518,89,2.61,\"Miller's Crossing (1990)\"],[519,80,2.8,\"Treasure of the Sierra Madre, The (1948)\"],[520,124,3.12,\"Great Escape, The (1963)\"],[521,120,2.91,\"Deer Hunter, The (1978)\"],[522,35,2.06,\"Down by Law (1986)\"],[523,164,3.21,\"Cool Hand Luke (1967)\"],[524,46,2.35,\"Great Dictator, The (1940)\"],[525,73,2.69,\"Big Sleep, The (1946)\"],[526,124,2.93,\"Ben-Hur (1959)\"],[527,195,3.33,\"Gandhi (1982)\"],[528,121,3.12,\"Killing Fields, The (1984)\"],[529,93,2.84,\"My Life as a Dog (Mitt liv som hund) (1985)\"],[530,80,2.76,\"Man Who Would Be King, The (1975)\"],[531,129,3.02,\"Shine (1996)\"],[532,22,1.66,\"Kama Sutra: A Tale of Love (1996)\"],[533,15,1.58,\"Daytrippers, The (1996)\"],[534,13,1.46,\"Traveller (1997)\"],[535,54,2.06,\"Addicted to Love (1997)\"],[536,10,1.38,\"Ponette (1996)\"],[537,30,1.92,\"My Own Private Idaho (1991)\"],[538,66,2.3,\"Anastasia (1997)\"],[539,44,1.66,\"Mouse Hunt (1997)\"],[540,43,1.66,\"Money Train (1995)\"],[541,49,1.88,\"Mortal Kombat (1995)\"],[542,51,1.73,\"Pocahontas (1995)\"],[543,21,1.72,\"Mis\\u00e9rables, Les (1995)\"],[544,71,2.2,\"Things to Do in Denver when You're Dead (1995)\"],[545,12,1.18,\"Vampire in Brooklyn (1995)\"],[546,254,2.66,\"Broken Arrow (1996)\"],[547,41,1.99,\"Young Poisoner's Handbook, The (1995)\"],[548,12,1.24,\"NeverEnding Story III, The (1994)\"],[549,92,2.58,\"Rob Roy (1995)\"],[550,151,2.65,\"Die Hard: With a Vengeance (1995)\"],[551,24,1.44,\"Lord of Illusions (1995)\"],[552,45,1.83,\"Species (1995)\"],[553,63,2.2,\"Walk in the Clouds, A (1995)\"],[554,102,2.16,\"Waterworld (1995)\"],[555,10,1.19,\"White Man's Burden (1995)\"],[556,12,1.29,\"Wild Bill (1995)\"],[557,17,1.51,\"Farinelli: il castrato (1994)\"],[558,70,2.47,\"Heavenly Creatures (1994)\"],[559,137,2.54,\"Interview with the Vampire (1994)\"],[560,22,1.5,\"Kid in King Arthur's Court, A (1995)\"],[561,59,2.06,\"Mary Shelley's Frankenstein (1994)\"],[562,48,2.02,\"Quick and the Dead, The (1995)\"],[563,29,1.5,\"Stephen King's The Langoliers (1995)\"],[564,27,1.36,\"Tales from the Hood (1995)\"],[565,22,1.49,\"Village of the Damned (1995)\"],[566,179,2.94,\"Clear and Present Danger (1994)\"],[567,35,1.7,\"Wes Craven's New Nightmare (1994)\"],[568,230,3.11,\"Speed (1994)\"],[569,67,1.93,\"Wolf (1994)\"],[570,50,1.99,\"Wyatt Earp (1994)\"],[571,28,1.52,\"Another Stakeout (1993)\"],[572,29,1.61,\"Blown Away (1994)\"],[573,33,1.73,\"Body Snatchers (1993)\"],[574,15,1.28,\"Boxing Helena (1993)\"],[575,44,1.69,\"City Slickers II: The Legend of Curly's Gold (1994)\"],[576,93,2.25,\"Cliffhanger (1993)\"],[577,41,1.53,\"Coneheads (1993)\"],[578,92,2.33,\"Demolition Man (1993)\"],[579,19,1.43,\"Fatal Instinct (1993)\"],[580,32,1.86,\"Englishman Who Went Up a Hill, But Came Down a Mountain, The (1995)\"],[581,59,2.13,\"Kalifornia (1993)\"],[582,168,2.93,\"Piano, The (1993)\"],[583,37,1.8,\"Romeo Is Bleeding (1993)\"],[584,79,2.47,\"Secret Garden, The (1993)\"],[585,39,1.62,\"Son in Law (1993)\"],[586,34,1.64,\"Terminal Velocity (1994)\"],[587,14,1.53,\"Hour of the Pig, The (1993)\"],[588,202,3.17,\"Beauty and the Beast (1991)\"],[589,43,2.3,\"Wild Bunch, The (1969)\"],[590,18,1.27,\"Hellraiser: Bloodline (1996)\"],[591,178,2.96,\"Primal Fear (1996)\"],[592,9,1.35,\"True Crime (1995)\"],[593,12,1.41,\"Stalingrad (1993)\"],[594,5,1.16,\"Heavy (1995)\"],[595,64,2.11,\"Fan, The (1996)\"],[596,127,2.64,\"Hunchback of Notre Dame, The (1996)\"],[597,206,2.68,\"Eraser (1996)\"],[598,4,1.13,\"Big Squeeze, The (1996)\"],[599,1,1.05,\"Police Story 4: Project S (Chao ji ji hua) (1993)\"],[600,2,1.12,\"Daniel Defoe's Robinson Crusoe (1996)\"],[601,20,1.79,\"For Whom the Bell Tolls (1943)\"],[602,50,2.26,\"American in Paris, An (1951)\"],[603,209,3.65,\"Rear Window (1954)\"],[604,81,2.76,\"It Happened One Night (1934)\"],[605,31,1.84,\"Meet Me in St. Louis (1944)\"],[606,66,2.63,\"All About Eve (1950)\"],[607,66,2.59,\"Rebecca (1940)\"],[608,30,2.02,\"Spellbound (1945)\"],[609,60,2.32,\"Father of the Bride (1950)\"],[610,41,2.12,\"Gigi (1958)\"],[611,40,2.28,\"Laura (1944)\"],[612,34,2.1,\"Lost Horizon (1937)\"],[613,27,1.98,\"My Man Godfrey (1936)\"],[614,51,2.3,\"Giant (1956)\"],[615,59,2.55,\"39 Steps, The (1935)\"],[616,64,2.28,\"Night of the Living Dead (1968)\"],[617,18,1.69,\"Blue Angel, The (Blaue Engel, Der) (1930)\"],[618,18,1.65,\"Picnic (1955)\"],[619,64,2.15,\"Extreme Measures (1996)\"],[620,43,1.91,\"Chamber, The (1996)\"],[621,11,1.34,\"Davy Crockett, King of the Wild Frontier (1955)\"],[622,39,1.97,\"Swiss Family Robinson (1960)\"],[623,39,1.79,\"Angels in the Outfield (1994)\"],[624,22,1.65,\"Three Caballeros, The (1945)\"],[625,82,2.37,\"Sword in the Stone, The (1963)\"],[626,4,1.19,\"So Dear to My Heart (1949)\"],[627,75,2.26,\"Robin Hood: Prince of Thieves (1991)\"],[628,169,2.87,\"Sleepers (1996)\"],[629,77,2.34,\"Victor\\u002fVictoria (1982)\"],[630,31,1.82,\"Great Race, The (1965)\"],[631,119,2.77,\"Crying Game, The (1992)\"],[632,58,2.46,\"Sophie's Choice (1982)\"],[633,69,2.67,\"Christmas Carol, A (1938)\"],[634,24,1.83,\"Microcosmos: Le peuple de l'herbe (1996)\"],[635,23,1.52,\"Fog, The (1980)\"],[636,91,2.38,\"Escape from New York (1981)\"],[637,38,1.82,\"Howling, The (1981)\"],[638,44,2.21,\"Return of Martin Guerre, The (Retour de Martin Guerre, Le) (1982)\"],[639,40,2.12,\"Tin Drum, The (Blechtrommel, Die) (1979)\"],[640,82,2.2,\"Cook the Thief His Wife & Her Lover, The (1989)\"],[641,33,2.18,\"Paths of Glory (1957)\"],[642,89,2.51,\"Grifters, The (1990)\"],[643,4,1.17,\"The Innocent (1994)\"],[644,35,2.06,\"Thin Blue Line, The (1988)\"],[645,27,1.91,\"Paris Is Burning (1990)\"],[646,38,2.15,\"Once Upon a Time in the West (1969)\"],[647,70,2.7,\"Ran (1985)\"],[648,67,2.63,\"Quiet Man, The (1952)\"],[649,50,2.12,\"Once Upon a Time in America (1984)\"],[650,72,2.42,\"Seventh Seal, The (Sjunde inseglet, Det) (1957)\"],[651,171,3.3,\"Glory (1989)\"],[652,90,2.76,\"Rosencrantz and Guildenstern Are Dead (1990)\"],[653,34,2.09,\"Touch of Evil (1958)\"],[654,147,3.25,\"Chinatown (1974)\"],[655,227,3.29,\"Stand by Me (1986)\"],[656,44,2.31,\"M (1931)\"],[657,131,3.26,\"Manchurian Candidate, The (1962)\"],[658,79,2.4,\"Pump Up the Volume (1990)\"],[659,115,3.05,\"Arsenic and Old Lace (1944)\"],[660,153,3.01,\"Fried Green Tomatoes (1991)\"],[661,88,2.87,\"High Noon (1952)\"],[662,82,2.43,\"Somewhere in Time (1980)\"],[663,116,2.94,\"Being There (1979)\"],[664,46,2.14,\"Paris, Texas (1984)\"],[665,100,2.17,\"Alien 3 (1992)\"],[666,5,1.16,\"Blood For Dracula (Andy Warhol's Dracula) (1974)\"],[667,12,1.24,\"Audrey Rose (1977)\"],[668,6,1.15,\"Blood Beach (1981)\"],[669,13,1.15,\"Body Parts (1991)\"],[670,36,1.79,\"Body Snatchers (1993)\"],[671,46,2.17,\"Bride of Frankenstein (1935)\"],[672,65,1.92,\"Candyman (1992)\"],[673,86,2.51,\"Cape Fear (1962)\"],[674,48,1.88,\"Cat People (1982)\"],[675,54,2.24,\"Nosferatu (Nosferatu, eine Symphonie des Grauens) (1922)\"],[676,77,2.34,\"Crucible, The (1996)\"],[677,1,1.08,\"Fire on the Mountain (1996)\"],[678,219,2.43,\"Volcano (1997)\"],[679,107,2.33,\"Conan the Barbarian (1981)\"],[680,34,1.6,\"Kull the Conqueror (1997)\"],[681,27,1.49,\"Wishmaster (1997)\"],[682,100,2.31,\"I Know What You Did Last Summer (1997)\"],[683,49,1.66,\"Rocket Man (1997)\"],[684,169,3.08,\"In the Line of Fire (1993)\"],[685,157,2.72,\"Executive Decision (1996)\"],[686,50,2.25,\"Perfect World, A (1993)\"],[687,69,1.66,\"McHale's Navy (1997)\"],[688,44,1.39,\"Leave It to Beaver (1997)\"],[689,87,2.3,\"Jackal, The (1997)\"],[690,155,2.79,\"Seven Years in Tibet (1997)\"],[691,16,1.57,\"Dark City (1998)\"],[692,164,2.94,\"American President, The (1995)\"],[693,91,2.62,\"Casino (1995)\"],[694,44,2.33,\"Persuasion (1995)\"],[695,13,1.39,\"Kicking and Screaming (1995)\"],[696,79,2.24,\"City Hall (1996)\"],[697,40,2.01,\"Basketball Diaries, The (1995)\"],[698,10,1.33,\"Browning Version, The (1994)\"],[699,102,2.71,\"Little Women (1994)\"],[700,15,1.36,\"Miami Rhapsody (1995)\"],[701,10,1.48,\"Wonderful, Horrible Life of Leni Riefenstahl, The (1993)\"],[702,53,1.98,\"Barcelona (1994)\"],[703,19,1.66,\"Widows' Peak (1994)\"],[704,24,1.62,\"House of the Spirits, The (1993)\"],[705,137,3.1,\"Singin' in the Rain (1952)\"],[706,6,1.2,\"Bad Moon (1996)\"],[707,70,2.61,\"Enchanted April (1991)\"],[708,101,2.58,\"Sex, Lies, and Videotape (1989)\"],[709,104,2.95,\"Strictly Ballroom (1992)\"],[710,79,2.49,\"Better Off Dead... (1985)\"],[711,1,1.1,\"Substance of Fire, The (1996)\"],[712,51,1.99,\"Tin Men (1987)\"],[713,72,2.45,\"Othello (1995)\"],[714,13,1.44,\"Carrington (1995)\"],[715,87,2.37,\"To Die For (1995)\"],[716,58,2.09,\"Home for the Holidays (1995)\"],[717,82,2.08,\"Juror, The (1996)\"],[718,16,1.61,\"In the Bleak Midwinter (1995)\"],[719,29,1.5,\"Canadian Bacon (1994)\"],[720,86,2.22,\"First Knight (1995)\"],[721,54,2.19,\"Mallrats (1995)\"],[722,58,1.98,\"Nine Months (1995)\"],[723,34,1.81,\"Boys on the Side (1995)\"],[724,76,2.42,\"Circle of Friends (1995)\"],[725,16,1.41,\"Exit to Eden (1994)\"],[726,14,1.31,\"Fluke (1995)\"],[727,63,2.29,\"Immortal Beloved (1994)\"],[728,45,1.9,\"Junior (1994)\"],[729,81,2.45,\"Nell (1994)\"],[730,24,1.76,\"Queen Margot (Reine Margot, La) (1994)\"],[731,39,1.88,\"Corrina, Corrina (1994)\"],[732,180,3.0,\"Dave (1993)\"],[733,15,1.48,\"Go Fish (1994)\"],[734,27,1.51,\"Made in America (1993)\"],[735,137,3.01,\"Philadelphia (1993)\"],[736,78,2.69,\"Shadowlands (1993)\"],[737,59,2.01,\"Sirens (1994)\"],[738,31,1.66,\"Threesome (1994)\"],[739,164,2.72,\"Pretty Woman (1990)\"],[740,63,2.3,\"Jane Eyre (1996)\"],[741,58,2.24,\"Last Supper, The (1995)\"],[742,267,3.17,\"Ransom (1996)\"],[743,39,1.41,\"Crow: City of Angels, The (1996)\"],[744,92,2.51,\"Michael Collins (1996)\"],[745,16,1.65,\"Ruling Class, The (1972)\"],[746,119,2.79,\"Real Genius (1985)\"],[747,102,2.57,\"Benny & Joon (1993)\"],[748,316,2.8,\"Saint, The (1997)\"],[749,51,2.03,\"MatchMaker, The (1997)\"],[750,124,2.95,\"Amistad (1997)\"],[751,180,2.84,\"Tomorrow Never Dies (1997)\"],[752,39,1.95,\"Replacement Killers, The (1998)\"],[753,24,1.82,\"Burnt By the Sun (1994)\"],[754,57,2.19,\"Red Corner (1997)\"],[755,96,2.45,\"Jumanji (1995)\"],[756,128,2.31,\"Father of the Bride Part II (1995)\"],[757,4,1.16,\"Across the Sea of Time (1995)\"],[758,21,1.22,\"Lawnmower Man 2: Beyond Cyberspace (1996)\"],[759,11,1.23,\"Fair Game (1995)\"],[760,46,1.75,\"Screamers (1995)\"],[761,44,1.9,\"Nick of Time (1995)\"],[762,115,2.59,\"Beautiful Girls (1996)\"],[763,149,2.72,\"Happy Gilmore (1996)\"],[764,29,1.61,\"If Lucy Fell (1996)\"],[765,32,1.67,\"Boomerang (1992)\"],[766,9,1.32,\"Man of the Year (1995)\"],[767,11,1.23,\"Addiction, The (1995)\"],[768,52,2.0,\"Casper (1995)\"],[769,42,1.63,\"Congo (1995)\"],[770,57,2.19,\"Devil in a Blue Dress (1995)\"],[771,41,1.7,\"Johnny Mnemonic (1995)\"],[772,49,1.96,\"Kids (1995)\"],[773,17,1.47,\"Mute Witness (1994)\"],[774,32,1.71,\"Prophecy, The (1995)\"],[775,26,1.57,\"Something to Talk About (1995)\"],[776,9,1.34,\"Three Wishes (1995)\"],[777,4,1.06,\"Castle Freak (1995)\"],[778,76,2.45,\"Don Juan DeMarco (1995)\"],[779,31,1.56,\"Drop Zone (1994)\"],[780,69,2.1,\"Dumb & Dumber (1994)\"],[781,84,2.39,\"French Kiss (1995)\"],[782,10,1.27,\"Little Odessa (1994)\"],[783,37,1.7,\"Milk Money (1994)\"],[784,2,1.05,\"Beyond Bedlam (1993)\"],[785,39,1.88,\"Only You (1994)\"],[786,14,1.36,\"Perez Family, The (1995)\"],[787,13,1.44,\"Roommates (1995)\"],[788,3,1.08,\"Relative Fear (1994)\"],[789,47,2.17,\"Swimming with Sharks (1995)\"],[790,66,2.03,\"Tommy Boy (1995)\"],[791,10,1.26,\"Baby-Sitters Club, The (1995)\"],[792,86,2.63,\"Bullets Over Broadway (1994)\"],[793,10,1.4,\"Crooklyn (1994)\"],[794,46,2.19,\"It Could Happen to You (1994)\"],[795,21,1.41,\"Richie Rich (1994)\"],[796,36,1.82,\"Speechless (1994)\"],[797,31,1.75,\"Timecop (1994)\"],[798,9,1.21,\"Bad Company (1995)\"],[799,5,1.22,\"Boys Life (1995)\"],[800,26,1.61,\"In the Mouth of Madness (1995)\"],[801,16,1.43,\"Air Up There, The (1994)\"],[802,40,1.71,\"Hard Target (1993)\"],[803,9,1.25,\"Heaven & Earth (1993)\"],[804,8,1.27,\"Jimmy Hollywood (1994)\"],[805,27,1.86,\"Manhattan Murder Mystery (1993)\"],[806,50,2.15,\"Menace II Society (1993)\"],[807,9,1.28,\"Poetic Justice (1993)\"],[808,31,1.66,\"Program, The (1993)\"],[809,43,1.83,\"Rising Sun (1993)\"],[810,45,1.84,\"Shadow, The (1994)\"],[811,18,1.72,\"Thirty-Two Short Films About Glenn Gould (1993)\"],[812,18,1.53,\"Andre (1994)\"],[813,56,2.43,\"Celluloid Closet, The (1995)\"],[814,1,1.12,\"Great Day in Harlem, A (1994)\"],[815,112,2.48,\"One Fine Day (1996)\"],[816,21,1.41,\"Candyman: Farewell to the Flesh (1995)\"],[817,3,1.13,\"Frisk (1995)\"],[818,25,1.56,\"Girl 6 (1996)\"],[819,40,1.71,\"Eddie (1996)\"],[820,93,2.1,\"Space Jam (1996)\"],[821,22,1.59,\"Mrs. Winterbourne (1996)\"],[822,4,1.17,\"Faces (1968)\"],[823,82,2.11,\"Mulholland Falls (1996)\"],[824,49,1.82,\"Great White Hype, The (1996)\"],[825,83,2.21,\"Arrival, The (1996)\"],[826,80,1.93,\"Phantom, The (1996)\"],[827,57,1.89,\"Daylight (1996)\"],[828,13,1.35,\"Alaska (1996)\"],[829,34,1.63,\"Fled (1996)\"],[830,1,1.05,\"Power 98 (1995)\"],[831,91,1.9,\"Escape from L.A. (1996)\"],[832,22,1.46,\"Bogus (1996)\"],[833,49,2.02,\"Bulletproof (1996)\"],[834,25,1.39,\"Halloween: The Curse of Michael Myers (1995)\"],[835,15,1.62,\"Gay Divorcee, The (1934)\"],[836,26,1.88,\"Ninotchka (1939)\"],[837,25,1.9,\"Meet John Doe (1941)\"],[838,4,1.16,\"In the Line of Duty 2 (1987)\"],[839,4,1.14,\"Loch Ness (1995)\"],[840,53,1.81,\"Last Man Standing (1996)\"],[841,48,1.81,\"Glimmer Man, The (1996)\"],[842,27,1.71,\"Pollyanna (1960)\"],[843,30,1.71,\"Shaggy Dog, The (1959)\"],[844,42,2.01,\"Freeway (1996)\"],[845,176,2.86,\"That Thing You Do! (1996)\"],[846,44,1.91,\"To Gillian on Her 37th Birthday (1996)\"],[847,55,2.34,\"Looking for Richard (1996)\"],[848,9,1.38,\"Murder, My Sweet (1944)\"],[849,53,1.84,\"Days of Thunder (1990)\"],[850,4,1.24,\"Perfect Candidate, A (1996)\"],[851,4,1.22,\"Two or Three Things I Know About Her (1966)\"],[852,1,1.05,\"Bloody Child, The (1996)\"],[853,14,1.59,\"Braindead (1992)\"],[854,16,1.54,\"Bad Taste (1987)\"],[855,66,2.46,\"Diva (1981)\"],[856,36,2.1,\"Night on Earth (1991)\"],[857,1,1.08,\"Paris Was a Woman (1995)\"],[858,3,1.05,\"Amityville: Dollhouse (1996)\"],[859,15,1.38,\"April Fool's Day (1986)\"],[860,16,1.31,\"Believers, The (1987)\"],[861,3,1.11,\"Nosferatu a Venezia (1986)\"],[862,18,1.3,\"Jingle All the Way (1996)\"],[863,24,1.88,\"Garden of Finzi-Contini, The (Giardino dei Finzi-Contini, Il) (1970)\"],[864,86,2.3,\"My Fellow Americans (1996)\"],[865,21,1.68,\"Ice Storm, The (1997)\"],[866,119,2.56,\"Michael (1996)\"],[867,6,1.32,\"Whole Wide World, The (1996)\"],[868,5,1.26,\"Hearts and Minds (1996)\"],[869,24,1.61,\"Fools Rush In (1997)\"],[870,9,1.28,\"Touch (1997)\"],[871,75,1.8,\"Vegas Vacation (1997)\"],[872,42,1.9,\"Love Jones (1997)\"],[873,81,2.15,\"Picture Perfect (1997)\"],[874,39,1.93,\"Career Girls (1997)\"],[875,53,1.85,\"She's So Lovely (1997)\"],[876,47,1.78,\"Money Talks (1997)\"],[877,52,1.75,\"Excess Baggage (1997)\"],[878,33,1.57,\"That Darn Cat! (1997)\"],[879,136,2.6,\"Peacemaker, The (1997)\"],[880,59,2.11,\"Soul Food (1997)\"],[881,45,1.86,\"Money Talks (1997)\"],[882,34,1.87,\"Washington Square (1997)\"],[883,13,1.44,\"Telling Lies in America (1997)\"],[884,7,1.29,\"Year of the Horse (1997)\"],[885,13,1.26,\"Phantoms (1998)\"],[886,53,2.01,\"Life Less Ordinary, A (1997)\"],[887,64,2.38,\"Eve's Bayou (1997)\"],[888,15,1.54,\"One Night Stand (1997)\"],[889,13,1.47,\"Tango Lesson, The (1997)\"],[890,43,1.43,\"Mortal Kombat: Annihilation (1997)\"],[891,6,1.2,\"Bent (1997)\"],[892,53,1.85,\"Flubber (1997)\"],[893,14,1.31,\"For Richer or Poorer (1997)\"],[894,19,1.26,\"Home Alone 3 (1997)\"],[895,106,2.44,\"Scream 2 (1997)\"],[896,44,2.21,\"Sweet Hereafter, The (1997)\"],[897,2,1.07,\"Time Tracers (1995)\"],[898,58,2.12,\"Postman, The (1997)\"],[899,9,1.37,\"Winter Guest, The (1997)\"],[900,42,2.14,\"Kundun (1997)\"],[901,12,1.2,\"Mr. Magoo (1997)\"],[902,42,2.2,\"Big Lebowski, The (1998)\"],[903,18,1.53,\"Afterglow (1997)\"],[904,20,1.66,\"Ma vie en rose (My Life in Pink) (1997)\"],[905,27,1.73,\"Great Expectations (1998)\"],[906,21,1.61,\"Oscar & Lucinda (1997)\"],[907,2,1.08,\"Vermin (1998)\"],[908,20,1.42,\"Half Baked (1998)\"],[909,13,1.54,\"Dangerous Beauty (1998)\"],[910,4,1.11,\"Nil By Mouth (1997)\"],[911,4,1.14,\"Twilight (1998)\"],[912,9,1.31,\"U.S. Marshalls (1998)\"],[913,2,1.1,\"Love and Death on Long Island (1997)\"],[914,11,1.31,\"Wild Things (1998)\"],[915,13,1.57,\"Primary Colors (1998)\"],[916,18,1.54,\"Lost in Space (1998)\"],[917,7,1.3,\"Mercury Rising (1998)\"],[918,8,1.28,\"City of Angels (1998)\"],[919,96,2.74,\"City of Lost Children, The (1995)\"],[920,5,1.14,\"Two Bits (1995)\"],[921,46,2.33,\"Farewell My Concubine (1993)\"],[922,34,2.06,\"Dead Man (1995)\"],[923,58,2.58,\"Raise the Red Lantern (1991)\"],[924,85,2.43,\"White Squall (1996)\"],[925,34,1.88,\"Unforgettable (1996)\"],[926,101,2.09,\"Down Periscope (1996)\"],[927,6,1.25,\"Flower of My Secret, The (Flor de mi secreto, La) (1995)\"],[928,104,2.36,\"Craft, The (1996)\"],[929,40,1.71,\"Harriet the Spy (1996)\"],[930,80,2.0,\"Chain Reaction (1996)\"],[931,57,1.59,\"Island of Dr. Moreau, The (1996)\"],[932,40,1.81,\"First Kid (1996)\"],[933,21,1.41,\"Funeral, The (1996)\"],[934,68,2.05,\"Preacher's Wife, The (1996)\"],[935,7,1.29,\"Paradise Road (1997)\"],[936,32,2.06,\"Brassed Off (1996)\"],[937,37,1.95,\"Thousand Acres, A (1997)\"],[938,25,1.59,\"Smile Like Yours, A (1997)\"],[939,60,2.33,\"Murder in the First (1995)\"],[940,32,1.5,\"Airheads (1994)\"],[941,46,1.93,\"With Honors (1994)\"],[942,45,2.1,\"What's Love Got to Do with It (1993)\"],[943,40,2.03,\"Killing Zoe (1994)\"],[944,43,1.87,\"Renaissance Man (1994)\"],[945,40,2.21,\"Charade (1963)\"],[946,61,2.11,\"Fox and the Hound, The (1981)\"],[947,17,1.54,\"Big Blue, The (Grand bleu, Le) (1988)\"],[948,48,1.55,\"Booty Call (1997)\"],[949,71,2.3,\"How to Make an American Quilt (1995)\"],[950,30,1.67,\"Georgia (1995)\"],[951,39,1.75,\"Indian in the Cupboard, The (1995)\"],[952,45,1.97,\"Blue in the Face (1995)\"],[953,22,1.66,\"Unstrung Heroes (1995)\"],[954,11,1.44,\"Unzipped (1995)\"],[955,49,2.12,\"Before Sunrise (1995)\"],[956,46,2.17,\"Nobody's Fool (1994)\"],[957,2,1.08,\"Pushing Hands (1992)\"],[958,14,1.57,\"To Live (Huozhe) (1994)\"],[959,64,2.3,\"Dazed and Confused (1993)\"],[960,25,1.7,\"Naked (1993)\"],[961,34,1.99,\"Orlando (1993)\"],[962,23,1.63,\"Ruby in Paradise (1993)\"],[963,41,2.37,\"Some Folks Call It a Sling Blade (1993)\"],[964,9,1.35,\"Month by the Lake, A (1995)\"],[965,21,1.73,\"Funny Face (1957)\"],[966,26,2.01,\"Affair to Remember, An (1957)\"],[967,12,1.41,\"Little Lord Fauntleroy (1936)\"],[968,18,1.67,\"Inspector General, The (1949)\"],[969,75,2.58,\"Winnie the Pooh and the Blustery Day (1968)\"],[970,8,1.31,\"Hear My Song (1991)\"],[971,34,2.01,\"Mediterraneo (1991)\"],[972,28,1.73,\"Passion Fish (1992)\"],[973,4,1.21,\"Grateful Dead (1995)\"],[974,32,1.74,\"Eye for an Eye (1996)\"],[975,44,1.95,\"Fear (1996)\"],[976,12,1.18,\"Solo (1996)\"],[977,49,1.79,\"Substitute, The (1996)\"],[978,27,1.51,\"Heaven's Prisoners (1996)\"],[979,35,1.85,\"Trigger Effect, The (1996)\"],[980,22,1.63,\"Mother Night (1996)\"],[981,8,1.13,\"Dangerous Ground (1997)\"],[982,20,1.49,\"Maximum Risk (1996)\"],[983,15,1.32,\"Rich Man's Wife, The (1996)\"],[984,44,1.82,\"Shadow Conspiracy (1997)\"],[985,22,1.54,\"Blood & Wine (1997)\"],[986,23,1.47,\"Turbulence (1997)\"],[987,4,1.14,\"Underworld (1997)\"],[988,86,1.8,\"Beautician and the Beast, The (1997)\"],[989,32,1.68,\"Cats Don't Dance (1997)\"],[990,33,1.78,\"Anna Karenina (1997)\"],[991,25,1.4,\"Keys to Tulsa (1997)\"],[992,4,1.17,\"Head Above Water (1996)\"],[993,66,2.35,\"Hercules (1997)\"],[994,7,1.18,\"Last Time I Committed Suicide, The (1997)\"],[995,31,1.77,\"Kiss Me, Guido (1997)\"],[996,14,1.33,\"Big Green, The (1995)\"],[997,16,1.28,\"Stuart Saves His Family (1995)\"],[998,16,1.37,\"Cabin Boy (1994)\"],[999,10,1.3,\"Clean Slate (1994)\"],[1000,10,1.33,\"Lightning Jack (1994)\"],[1001,17,1.26,\"Stupids, The (1996)\"],[1002,8,1.15,\"Pest, The (1997)\"],[1003,8,1.19,\"That Darn Cat! (1997)\"],[1004,9,1.32,\"Geronimo: An American Legend (1993)\"],[1005,22,1.76,\"Double vie de V\\u00e9ronique, La (Double Life of Veronique, The) (1991)\"],[1006,23,1.55,\"Until the End of the World (Bis ans Ende der Welt) (1991)\"],[1007,47,2.41,\"Waiting for Guffman (1996)\"],[1008,37,1.94,\"I Shot Andy Warhol (1996)\"],[1009,64,2.26,\"Stealing Beauty (1996)\"],[1010,44,1.99,\"Basquiat (1996)\"],[1011,93,2.38,\"2 Days in the Valley (1996)\"],[1012,100,2.61,\"Private Parts (1997)\"],[1013,38,1.53,\"Anaconda (1997)\"],[1014,98,2.3,\"Romy and Michele's High School Reunion (1997)\"],[1015,12,1.35,\"Shiloh (1997)\"],[1016,137,2.73,\"Con Air (1997)\"],[1017,50,2.05,\"Trees Lounge (1996)\"],[1018,32,1.8,\"Tie Me Up! Tie Me Down! (1990)\"],[1019,31,2.05,\"Die xue shuang xiong (Killer, The) (1989)\"],[1020,35,2.1,\"Gaslight (1944)\"],[1021,38,2.13,\"8 1\\u002f2 (1963)\"],[1022,32,1.89,\"Fast, Cheap & Out of Control (1997)\"],[1023,31,1.58,\"Fathers' Day (1997)\"],[1024,15,1.57,\"Mrs. Dalloway (1997)\"],[1025,44,1.85,\"Fire Down Below (1997)\"],[1026,4,1.14,\"Lay of the Land, The (1997)\"],[1027,3,1.13,\"Shooter, The (1995)\"],[1028,148,2.47,\"Grumpier Old Men (1995)\"],[1029,14,1.23,\"Jury Duty (1995)\"],[1030,20,1.35,\"Beverly Hillbillies, The (1993)\"],[1031,7,1.18,\"Lassie (1994)\"],[1032,16,1.44,\"Little Big League (1994)\"],[1033,32,1.66,\"Homeward Bound II: Lost in San Francisco (1996)\"],[1034,27,1.51,\"Quest, The (1996)\"],[1035,68,2.18,\"Cool Runnings (1993)\"],[1036,24,1.54,\"Drop Dead Fred (1991)\"],[1037,24,1.32,\"Grease 2 (1982)\"],[1038,17,1.45,\"Switchback (1997)\"],[1039,90,2.83,\"Hamlet (1996)\"],[1040,25,1.51,\"Two if by Sea (1996)\"],[1041,62,2.15,\"Forget Paris (1995)\"],[1042,28,1.72,\"Just Cause (1995)\"],[1043,8,1.28,\"Rent-a-Kid (1995)\"],[1044,40,1.93,\"Paper, The (1994)\"],[1045,25,1.7,\"Fearless (1993)\"],[1046,46,1.98,\"Malice (1993)\"],[1047,134,2.29,\"Multiplicity (1996)\"],[1048,73,2.13,\"She's the One (1996)\"],[1049,25,1.49,\"House Arrest (1996)\"],[1050,43,2.14,\"Ghost and Mrs. Muir, The (1947)\"],[1051,41,1.95,\"Associate, The (1996)\"],[1052,25,1.42,\"Dracula: Dead and Loving It (1995)\"],[1053,24,1.74,\"Now and Then (1995)\"],[1054,23,1.4,\"Mr. Wrong (1996)\"],[1055,10,1.36,\"Simple Twist of Fate, A (1994)\"],[1056,10,1.36,\"Cronos (1992)\"],[1057,22,1.39,\"Pallbearer, The (1996)\"],[1058,15,1.5,\"War, The (1994)\"],[1059,35,1.69,\"Don't Be a Menace to South Central While Drinking Your Juice in the Hood (1996)\"],[1060,39,1.84,\"Adventures of Pinocchio, The (1996)\"],[1061,29,1.67,\"Evening Star, The (1996)\"],[1062,12,1.5,\"Four Days in September (1997)\"],[1063,41,2.12,\"Little Princess, A (1995)\"],[1064,4,1.25,\"Crossfire (1947)\"],[1065,53,2.2,\"Koyaanisqatsi (1983)\"],[1066,16,1.46,\"Balto (1995)\"],[1067,44,2.07,\"Bottle Rocket (1996)\"],[1068,12,1.41,\"Star Maker, The (Uomo delle stelle, L') (1995)\"],[1069,18,1.54,\"Amateur (1994)\"],[1070,27,1.89,\"Living in Oblivion (1995)\"],[1071,16,1.44,\"Party Girl (1995)\"],[1072,7,1.2,\"Pyromaniac's Love Story, A (1995)\"],[1073,66,2.51,\"Shallow Grave (1994)\"],[1074,77,2.13,\"Reality Bites (1994)\"],[1075,7,1.3,\"Man of No Importance, A (1994)\"],[1076,12,1.25,\"Pagemaster, The (1994)\"],[1077,8,1.3,\"Love and a .45 (1994)\"],[1078,22,1.52,\"Oliver & Company (1988)\"],[1079,45,1.57,\"Joe's Apartment (1996)\"],[1080,2,1.15,\"Celestial Clockwork (1994)\"],[1081,8,1.25,\"Curdled (1996)\"],[1082,8,1.24,\"Female Perversions (1996)\"],[1083,6,1.18,\"Albino Alligator (1996)\"],[1084,21,1.78,\"Anne Frank Remembered (1995)\"],[1085,11,1.36,\"Carried Away (1996)\"],[1086,21,1.63,\"It's My Party (1995)\"],[1087,10,1.15,\"Bloodsport 2 (1995)\"],[1088,13,1.26,\"Double Team (1997)\"],[1089,38,1.47,\"Speed 2: Cruise Control (1997)\"],[1090,37,1.57,\"Sliver (1993)\"],[1091,43,1.75,\"Pete's Dragon (1977)\"],[1092,12,1.29,\"Dear God (1996)\"],[1093,23,1.62,\"Live Nude Girls (1995)\"],[1094,12,1.28,\"Thin Line Between Love and Hate, A (1996)\"],[1095,29,1.57,\"High School High (1996)\"],[1096,3,1.13,\"Commandments (1997)\"],[1097,18,1.62,\"Hate (Haine, La) (1995)\"],[1098,42,2.14,\"Flirting With Disaster (1996)\"],[1099,13,1.48,\"Red Firecracker, Green Firecracker (1994)\"],[1100,8,1.24,\"What Happened Was... (1994)\"],[1101,74,2.56,\"Six Degrees of Separation (1993)\"],[1102,7,1.2,\"Two Much (1996)\"],[1103,19,1.71,\"Trust (1990)\"],[1104,4,1.17,\"C'est arriv\\u00e9 pr\\u00e8s de chez vous (1992)\"],[1105,18,1.47,\"Firestorm (1998)\"],[1106,4,1.17,\"Newton Boys, The (1998)\"],[1107,18,1.52,\"Beyond Rangoon (1995)\"],[1108,5,1.16,\"Feast of July (1995)\"],[1109,28,1.81,\"Death and the Maiden (1994)\"],[1110,41,1.79,\"Tank Girl (1995)\"],[1111,7,1.3,\"Double Happiness (1994)\"],[1112,15,1.4,\"Cobb (1994)\"],[1113,22,1.65,\"Mrs. Parker and the Vicious Circle (1994)\"],[1114,10,1.38,\"Faithful (1996)\"],[1115,29,1.83,\"Twelfth Night (1996)\"],[1116,13,1.51,\"Mark of Zorro, The (1940)\"],[1117,19,1.55,\"Surviving Picasso (1996)\"],[1118,47,2.02,\"Up in Smoke (1978)\"],[1119,59,2.35,\"Some Kind of Wonderful (1987)\"],[1120,17,1.48,\"I'm Not Rappaport (1996)\"],[1121,21,1.76,\"Umbrellas of Cherbourg, The (Parapluies de Cherbourg, Les) (1964)\"],[1122,1,1.12,\"They Made Me a Criminal (1939)\"],[1123,3,1.18,\"Last Time I Saw Paris, The (1954)\"],[1124,12,1.52,\"Farewell to Arms, A (1932)\"],[1125,4,1.25,\"Innocents, The (1961)\"],[1126,32,1.85,\"Old Man and the Sea, The (1958)\"],[1127,11,1.34,\"Truman Show, The (1998)\"],[1128,13,1.35,\"Heidi Fleiss: Hollywood Madam (1995) \"],[1129,28,1.86,\"Chungking Express (1994)\"],[1130,1,1.1,\"Jupiter's Wife (1994)\"],[1131,13,1.58,\"Safe (1995)\"],[1132,32,1.6,\"Feeling Minnesota (1996)\"],[1133,30,1.69,\"Escape to Witch Mountain (1975)\"],[1134,38,1.93,\"Get on the Bus (1996)\"],[1135,46,1.89,\"Doors, The (1991)\"],[1136,29,1.85,\"Ghosts of Mississippi (1996)\"],[1137,29,2.01,\"Beautiful Thing (1996)\"],[1138,5,1.23,\"Best Men (1997)\"],[1139,33,1.61,\"Hackers (1995)\"],[1140,17,1.33,\"Road to Wellville, The (1994)\"],[1141,9,1.35,\"War Room, The (1993)\"],[1142,44,2.33,\"When We Were Kings (1996)\"],[1143,15,1.65,\"Hard Eight (1996)\"],[1144,3,1.18,\"Quiet Room, The (1996)\"],[1145,9,1.26,\"Blue Chips (1994)\"],[1146,3,1.1,\"Calendar Girl (1993)\"],[1147,21,1.73,\"My Family (1995)\"],[1148,9,1.35,\"Tom & Viv (1994)\"],[1149,26,1.9,\"Walkabout (1971)\"],[1150,9,1.32,\"Last Dance (1996)\"],[1151,7,1.17,\"Original Gangstas (1996)\"],[1152,28,1.81,\"In Love and War (1996)\"],[1153,19,1.64,\"Backbeat (1993)\"],[1154,12,1.43,\"Alphaville (1965)\"],[1155,3,1.16,\"Rendezvous in Paris (Rendez-vous de Paris, Les) (1995)\"],[1156,1,1.08,\"Cyclo (1995)\"],[1157,25,1.59,\"Relic, The (1997)\"],[1158,4,1.24,\"Fille seule, La (A Single Girl) (1995)\"],[1159,11,1.44,\"Stalker (1979)\"],[1160,26,1.83,\"Love! Valour! Compassion! (1997)\"],[1161,13,1.39,\"Palookaville (1996)\"],[1162,5,1.09,\"Phat Beach (1996)\"],[1163,25,1.53,\"Portrait of a Lady, The (1996)\"],[1164,6,1.15,\"Zeus and Roxanne (1997)\"],[1165,14,1.21,\"Big Bully (1996)\"],[1166,12,1.41,\"Love & Human Remains (1993)\"],[1167,11,1.44,\"Sum of Us, The (1994)\"],[1168,22,1.66,\"Little Buddha (1993)\"],[1169,10,1.49,\"Fresh (1994)\"],[1170,27,1.68,\"Spanking the Monkey (1994)\"],[1171,14,1.45,\"Wild Reeds (1994)\"],[1172,15,1.58,\"Women, The (1939)\"],[1173,7,1.21,\"Bliss (1997)\"],[1174,8,1.31,\"Caught (1996)\"],[1175,5,1.23,\"Hugo Pool (1997)\"],[1176,22,1.68,\"Welcome To Sarajevo (1997)\"],[1177,7,1.14,\"Dunston Checks In (1996)\"],[1178,19,1.4,\"Major Payne (1994)\"],[1179,9,1.19,\"Man of the House (1995)\"],[1180,10,1.26,\"I Love Trouble (1994)\"],[1181,10,1.26,\"Low Down Dirty Shame, A (1994)\"],[1182,13,1.28,\"Cops and Robbersons (1994)\"],[1183,19,1.33,\"Cowboy Way, The (1994)\"],[1184,10,1.26,\"Endless Summer 2, The (1994)\"],[1185,18,1.34,\"In the Army Now (1994)\"],[1186,3,1.16,\"Inkwell, The (1994)\"],[1187,13,1.44,\"Switchblade Sisters (1975)\"],[1188,44,1.78,\"Young Guns II (1990)\"],[1189,3,1.24,\"Prefontaine (1997)\"],[1190,11,1.41,\"That Old Feeling (1997)\"],[1191,3,1.21,\"Letter From Death Row, A (1998)\"],[1192,13,1.47,\"Boys of St. Vincent, The (1993)\"],[1193,10,1.45,\"Before the Rain (Pred dozhdot) (1994)\"],[1194,31,2.08,\"Once Were Warriors (1994)\"],[1195,11,1.4,\"Strawberry and Chocolate (Fresa y chocolate) (1993)\"],[1196,3,1.15,\"Savage Nights (Nuits fauves, Les) (1992)\"],[1197,45,2.13,\"Family Thing, A (1996)\"],[1198,7,1.27,\"Purple Noon (1960)\"],[1199,23,1.56,\"Cemetery Man (Dellamorte Dellamore) (1994)\"],[1200,7,1.29,\"Kim (1950)\"],[1201,1,1.12,\"Marlene Dietrich: Shadow and Light (1996) \"],[1202,8,1.34,\"Maybe, Maybe Not (Bewegte Mann, Der) (1994)\"],[1203,21,1.83,\"Top Hat (1935)\"],[1204,18,1.65,\"To Be or Not to Be (1942)\"],[1205,6,1.23,\"Secret Agent, The (1996)\"],[1206,19,1.45,\"Amos & Andrew (1993)\"],[1207,17,1.33,\"Jade (1995)\"],[1208,20,1.5,\"Kiss of Death (1995)\"],[1209,15,1.35,\"Mixed Nuts (1994)\"],[1210,38,1.71,\"Virtuosity (1995)\"],[1211,12,1.45,\"Blue Sky (1994)\"],[1212,6,1.22,\"Flesh and Bone (1993)\"],[1213,6,1.15,\"Guilty as Sin (1993)\"],[1214,9,1.18,\"In the Realm of the Senses (Ai no corrida) (1976)\"],[1215,30,1.35,\"Barb Wire (1996)\"],[1216,6,1.23,\"Kissed (1996)\"],[1217,39,1.77,\"Assassins (1995)\"],[1218,26,1.78,\"Friday (1995)\"],[1219,20,1.52,\"Goofy Movie, A (1995)\"],[1220,30,1.82,\"Higher Learning (1995)\"],[1221,39,2.02,\"When a Man Loves a Woman (1994)\"],[1222,25,1.53,\"Judgment Night (1993)\"],[1223,4,1.21,\"King of the Hill (1993)\"],[1224,12,1.32,\"Scout, The (1994)\"],[1225,14,1.36,\"Angus (1995)\"],[1226,32,1.86,\"Night Falls on Manhattan (1997)\"],[1227,8,1.21,\"Awfully Big Adventure, An (1995)\"],[1228,48,1.68,\"Under Siege 2: Dark Territory (1995)\"],[1229,13,1.25,\"Poison Ivy II (1995)\"],[1230,18,1.23,\"Ready to Wear (Pret-A-Porter) (1994)\"],[1231,22,1.44,\"Marked for Death (1990)\"],[1232,17,1.37,\"Madonna: Truth or Dare (1991)\"],[1233,6,1.28,\"N\\u00e9nette et Boni (1996)\"],[1234,8,1.21,\"Chairman of the Board (1998)\"],[1235,1,1.1,\"Big Bang Theory, The (1994)\"],[1236,1,1.08,\"Other Voices, Other Rooms (1997)\"],[1237,6,1.28,\"Twisted (1996)\"],[1238,8,1.3,\"Full Speed (1996)\"],[1239,18,1.38,\"Cutthroat Island (1995)\"],[1240,26,1.84,\"Ghost in the Shell (Kokaku kidotai) (1995)\"],[1241,6,1.2,\"Van, The (1996)\"],[1242,5,1.17,\"Old Lady Who Walked in the Sea, The (Vieille qui marchait dans la mer, La) (1991)\"],[1243,7,1.33,\"Night Flier (1997)\"],[1244,36,1.76,\"Metro (1997)\"],[1245,19,1.57,\"Gridlock'd (1997)\"],[1246,7,1.11,\"Bushwhacked (1995)\"],[1247,6,1.12,\"Bad Girls (1994)\"],[1248,19,1.52,\"Blink (1994)\"],[1249,12,1.35,\"For Love or Money (1993)\"],[1250,6,1.09,\"Best of the Best 3: No Turning Back (1995)\"],[1251,8,1.42,\"A Chef in Love (1996)\"],[1252,9,1.31,\"Contempt (M\\u00e9pris, Le) (1963)\"],[1253,7,1.2,\"Tie That Binds, The (1995)\"],[1254,11,1.17,\"Gone Fishin' (1997)\"],[1255,8,1.19,\"Broken English (1996)\"],[1256,3,1.1,\"Designated Mourner, The (1997)\"],[1257,4,1.1,\"Designated Mourner, The (1997)\"],[1258,23,1.46,\"Trial and Error (1997)\"],[1259,4,1.11,\"Pie in the Sky (1995)\"],[1260,4,1.16,\"Total Eclipse (1995)\"],[1261,4,1.19,\"Run of the Country, The (1995)\"],[1262,8,1.36,\"Walking and Talking (1996)\"],[1263,15,1.43,\"Foxfire (1996)\"],[1264,7,1.29,\"Nothing to Lose (1994)\"],[1265,19,1.54,\"Star Maps (1997)\"],[1266,12,1.41,\"Bread and Chocolate (Pane e cioccolata) (1973)\"],[1267,33,1.75,\"Clockers (1995)\"],[1268,10,1.38,\"Bitter Moon (1992)\"],[1269,10,1.46,\"Love in the Afternoon (1957)\"],[1270,7,1.18,\"Life with Mikey (1993)\"],[1271,7,1.23,\"North (1994)\"],[1272,5,1.11,\"Talking About Sex (1994)\"],[1273,15,1.39,\"Color of Night (1994)\"],[1274,11,1.16,\"Robocop 3 (1993)\"],[1275,4,1.14,\"Killer (Bulletproof Heart) (1994)\"],[1276,8,1.22,\"Sunset Park (1996)\"],[1277,19,1.63,\"Set It Off (1996)\"],[1278,16,1.6,\"Selena (1997)\"],[1279,9,1.29,\"Wild America (1997)\"],[1280,16,1.4,\"Gang Related (1997)\"],[1281,13,1.43,\"Manny & Lo (1996)\"],[1282,9,1.34,\"Grass Harp, The (1995)\"],[1283,19,1.45,\"Out to Sea (1997)\"],[1284,26,1.6,\"Before and After (1996)\"],[1285,15,1.47,\"Princess Caraboo (1994)\"],[1286,17,1.64,\"Shall We Dance? (1937)\"],[1287,6,1.08,\"Ed (1996)\"],[1288,7,1.26,\"Denise Calls Up (1995)\"],[1289,7,1.17,\"Jack and Sarah (1995)\"],[1290,2,1.07,\"Country Life (1994)\"],[1291,15,1.28,\"Celtic Pride (1996)\"],[1292,3,1.08,\"Simple Wish, A (1997)\"],[1293,3,1.24,\"Star Kid (1997)\"],[1294,7,1.27,\"Ayn Rand: A Sense of Life (1997)\"],[1295,7,1.21,\"Kicked in the Head (1997)\"],[1296,20,1.61,\"Indian Summer (1996)\"],[1297,12,1.35,\"Love Affair (1994)\"],[1298,9,1.4,\"Band Wagon, The (1953)\"],[1299,8,1.28,\"Penny Serenade (1941)\"],[1300,9,1.22,\"'Til There Was You (1997)\"],[1301,5,1.26,\"Stripes (1981)\"],[1302,5,1.23,\"Late Bloomers (1996)\"],[1303,18,1.35,\"Getaway, The (1994)\"],[1304,2,1.1,\"New York Cop (1996)\"],[1305,7,1.2,\"National Lampoon's Senior Trip (1995)\"],[1306,2,1.12,\"Delta of Venus (1994)\"],[1307,2,1.07,\"Carmen Miranda: Bananas Is My Business (1994)\"],[1308,2,1.05,\"Babyfever (1994)\"],[1309,1,1.05,\"Very Natural Thing, A (1974)\"],[1310,1,1.08,\"Walk in the Sun, A (1945)\"],[1311,16,1.36,\"Waiting to Exhale (1995)\"],[1312,7,1.26,\"Pompatus of Love, The (1996)\"],[1313,14,1.45,\"Palmetto (1998)\"],[1314,11,1.27,\"Surviving the Game (1994)\"],[1315,23,1.63,\"Inventing the Abbotts (1997)\"],[1316,7,1.23,\"Horse Whisperer, The (1998)\"],[1317,4,1.11,\"Journey of August King, The (1995)\"],[1318,3,1.07,\"Catwalk (1995)\"],[1319,4,1.1,\"Neon Bible, The (1995)\"],[1320,1,1.05,\"Homage (1995)\"],[1321,2,1.1,\"Open Season (1996)\"],[1322,6,1.17,\"Metisse (Caf\\u00e9 au Lait) (1993)\"],[1323,3,1.13,\"Wooden Man's Bride, The (Wu Kui) (1994)\"],[1324,5,1.16,\"Loaded (1994)\"],[1325,1,1.05,\"August (1996)\"],[1326,6,1.26,\"Boys (1996)\"],[1327,3,1.11,\"Captives (1994)\"],[1328,6,1.25,\"Of Love and Shadows (1994)\"],[1329,1,1.05,\"Low Life, The (1994)\"],[1330,4,1.14,\"An Unforgettable Summer (1994)\"],[1331,4,1.17,\"Last Klezmer: Leopold Kozlowski, His Life and Music, The (1995)\"],[1332,2,1.08,\"My Life and Times With Antonin Artaud (En compagnie d'Antonin Artaud) (1993)\"],[1333,5,1.19,\"Midnight Dancers (Sibak) (1994)\"],[1334,2,1.05,\"Somebody to Love (1994)\"],[1335,11,1.3,\"American Buffalo (1996)\"],[1336,10,1.16,\"Kazaam (1996)\"],[1337,9,1.22,\"Larger Than Life (1996)\"],[1338,4,1.13,\"Two Deaths (1995)\"],[1339,1,1.05,\"Stefano Quantestorie (1993)\"],[1340,1,1.05,\"Crude Oasis, The (1995)\"],[1341,1,1.05,\"Hedd Wyn (1992)\"],[1342,2,1.1,\"Convent, The (Convento, O) (1995)\"],[1343,1,1.05,\"Lotto Land (1995)\"],[1344,5,1.22,\"Story of Xinghua, The (1993)\"],[1345,2,1.08,\"Day the Sun Turned Cold, The (Tianguo niezi) (1994)\"],[1346,5,1.16,\"Dingo (1992)\"],[1347,4,1.16,\"Ballad of Narayama, The (Narayama Bushiko) (1958)\"],[1348,1,1.05,\"Every Other Weekend (1990)\"],[1349,1,1.05,\"Mille bolle blu (1993)\"],[1350,2,1.07,\"Crows and Sparrows (1949)\"],[1351,3,1.1,\"Lover's Knot (1996)\"],[1352,1,1.05,\"Shadow of Angels (Schatten der Engel) (1976)\"],[1353,5,1.17,\"1-900 (1994)\"],[1354,2,1.05,\"Venice\\u002fVenice (1992)\"],[1355,6,1.2,\"Infinity (1996)\"],[1356,3,1.13,\"Ed's Next Move (1996)\"],[1357,3,1.13,\"For the Moment (1994)\"],[1358,2,1.12,\"The Deadly Cure (1996)\"],[1359,2,1.05,\"Boys in Venice (1996)\"],[1360,2,1.07,\"Sexual Life of the Belgians, The (1994)\"],[1361,3,1.13,\"Search for One-eye Jimmy, The (1996)\"],[1362,2,1.08,\"American Strays (1996)\"],[1363,1,1.05,\"Leopard Son, The (1996)\"],[1364,1,1.05,\"Bird of Prey (1996)\"],[1365,2,1.07,\"Johnny 100 Pesos (1993)\"],[1366,1,1.05,\"JLG\\u002fJLG - autoportrait de d\\u00e9cembre (1994)\"],[1367,5,1.3,\"Faust (1994)\"],[1368,6,1.29,\"Mina Tannenbaum (1994)\"],[1369,4,1.16,\"Forbidden Christ, The (Cristo proibito, Il) (1950)\"],[1370,3,1.13,\"I Can't Sleep (J'ai pas sommeil) (1994)\"],[1371,2,1.07,\"Machine, The (1994)\"],[1372,3,1.15,\"Stranger, The (1994)\"],[1373,1,1.05,\"Good Morning (1971)\"],[1374,2,1.05,\"Falling in Love Again (1980)\"],[1375,10,1.42,\"Cement Garden, The (1993)\"],[1376,7,1.17,\"Meet Wally Sparks (1997)\"],[1377,4,1.19,\"Hotel de Love (1996)\"],[1378,5,1.14,\"Rhyme & Reason (1997)\"],[1379,7,1.24,\"Love and Other Catastrophes (1996)\"],[1380,6,1.17,\"Hollow Reed (1996)\"],[1381,8,1.31,\"Losing Chase (1996)\"],[1382,4,1.11,\"Bonheur, Le (1965)\"],[1383,6,1.14,\"Second Jungle Book: Mowgli & Baloo, The (1997)\"],[1384,3,1.08,\"Squeeze (1996)\"],[1385,5,1.19,\"Roseanna's Grave (For Roseanna) (1997)\"],[1386,6,1.2,\"Tetsuo II: Body Hammer (1992)\"],[1387,3,1.1,\"Fall (1997)\"],[1388,6,1.26,\"Gabbeh (1996)\"],[1389,3,1.15,\"Mondo (1996)\"],[1390,2,1.08,\"Innocent Sleep, The (1995)\"],[1391,3,1.1,\"For Ever Mozart (1996)\"],[1392,5,1.13,\"Locusts, The (1997)\"],[1393,9,1.19,\"Stag (1997)\"],[1394,7,1.2,\"Swept from the Sea (1997)\"],[1395,6,1.17,\"Hurricane Streets (1998)\"],[1396,5,1.3,\"Stonewall (1995)\"],[1397,5,1.22,\"Of Human Bondage (1934)\"],[1398,2,1.16,\"Anna (1996)\"],[1399,7,1.2,\"Stranger in the House (1997)\"],[1400,10,1.35,\"Picture Bride (1995)\"],[1401,18,1.56,\"M. Butterfly (1993)\"],[1402,4,1.16,\"Ciao, Professore! (1993)\"],[1403,4,1.16,\"Caro Diario (Dear Diary) (1994)\"],[1404,13,1.44,\"Withnail and I (1987)\"],[1405,6,1.26,\"Boy's Life 2 (1997)\"],[1406,5,1.23,\"When Night Is Falling (1995)\"],[1407,20,1.35,\"Specialist, The (1994)\"],[1408,3,1.05,\"Gordy (1995)\"],[1409,7,1.24,\"Swan Princess, The (1994)\"],[1410,4,1.16,\"Harlem (1993)\"],[1411,28,1.54,\"Barbarella (1968)\"],[1412,6,1.11,\"Land Before Time III: The Time of the Great Giving (1995) (V)\"],[1413,8,1.25,\"Street Fighter (1994)\"],[1414,1,1.07,\"Coldblooded (1995)\"],[1415,9,1.23,\"Next Karate Kid, The (1994)\"],[1416,5,1.16,\"No Escape (1994)\"],[1417,2,1.1,\"Turning, The (1992)\"],[1418,3,1.18,\"Joy Luck Club, The (1993)\"],[1419,16,1.28,\"Highlander III: The Sorcerer (1994)\"],[1420,3,1.07,\"Gilligan's Island: The Movie (1998)\"],[1421,11,1.38,\"My Crazy Life (Mi vida loca) (1993)\"],[1422,4,1.13,\"Suture (1993)\"],[1423,4,1.13,\"Walking Dead, The (1995)\"],[1424,3,1.11,\"I Like It Like That (1994)\"],[1425,10,1.27,\"I'll Do Anything (1994)\"],[1426,8,1.31,\"Grace of My Heart (1996)\"],[1427,5,1.19,\"Drunks (1995)\"],[1428,12,1.49,\"SubUrbia (1997)\"],[1429,4,1.16,\"Sliding Doors (1998)\"],[1430,3,1.11,\"Ill Gotten Gains (1997)\"],[1431,5,1.23,\"Legal Deceit (1997)\"],[1432,3,1.05,\"Mighty, The (1998)\"],[1433,2,1.08,\"Men of Means (1998)\"],[1434,10,1.26,\"Shooting Fish (1997)\"],[1435,7,1.21,\"Steal Big, Steal Little (1995)\"],[1436,2,1.1,\"Mr. Jones (1993)\"],[1437,9,1.18,\"House Party 3 (1994)\"],[1438,5,1.16,\"Panther (1995)\"],[1439,8,1.28,\"Jason's Lyric (1994)\"],[1440,5,1.2,\"Above the Rim (1994)\"],[1441,7,1.21,\"Moonlight and Valentino (1995)\"],[1442,5,1.16,\"Scarlet Letter, The (1995)\"],[1443,4,1.22,\"8 Seconds (1994)\"],[1444,19,1.4,\"That Darn Cat! (1965)\"],[1445,4,1.16,\"Ladybird Ladybird (1994)\"],[1446,15,1.47,\"Bye Bye, Love (1995)\"],[1447,1,1.08,\"Century (1993)\"],[1448,3,1.18,\"My Favorite Season (1993)\"],[1449,8,1.48,\"Pather Panchali (1955)\"],[1450,2,1.15,\"Golden Earrings (1947)\"],[1451,15,1.62,\"Foreign Correspondent (1940)\"],[1452,1,1.1,\"Lady of Burlesque (1943)\"],[1453,1,1.07,\"Angel on My Shoulder (1946)\"],[1454,6,1.23,\"Angel and the Badman (1947)\"],[1455,2,1.1,\"Outlaw, The (1943)\"],[1456,7,1.33,\"Beat the Devil (1954)\"],[1457,1,1.08,\"Love Is All There Is (1996)\"],[1458,1,1.1,\"Damsel in Distress, A (1937)\"],[1459,7,1.32,\"Madame Butterfly (1995)\"],[1460,1,1.08,\"Sleepover (1995)\"],[1461,1,1.07,\"Here Comes Cookie (1935)\"],[1462,7,1.33,\"Thieves (Voleurs, Les) (1996)\"],[1463,3,1.16,\"Boys, Les (1997)\"],[1464,3,1.11,\"Stars Fell on Henrietta, The (1995)\"],[1465,3,1.11,\"Last Summer in the Hamptons (1995)\"],[1466,6,1.32,\"Margaret's Museum (1995)\"],[1467,2,1.18,\"Saint of Fort Washington, The (1993)\"],[1468,6,1.26,\"Cure, The (1995)\"],[1469,12,1.41,\"Tom and Huck (1995)\"],[1470,5,1.17,\"Gumby: The Movie (1995)\"],[1471,9,1.23,\"Hideaway (1995)\"],[1472,2,1.13,\"Visitors, The (Visiteurs, Les) (1993)\"],[1473,9,1.38,\"Little Princess, The (1939)\"],[1474,6,1.22,\"Nina Takes a Lover (1994)\"],[1475,8,1.27,\"Bhaji on the Beach (1993)\"],[1476,1,1.07,\"Raw Deal (1948)\"],[1477,2,1.1,\"Nightwatch (1997)\"],[1478,18,1.44,\"Dead Presidents (1995)\"],[1479,8,1.25,\"Reckless (1995)\"],[1480,11,1.24,\"Herbie Rides Again (1974)\"],[1481,2,1.12,\"S.F.W. (1994)\"],[1482,1,1.1,\"Gate of Heavenly Peace, The (1995)\"],[1483,12,1.45,\"Man in the Iron Mask, The (1998)\"],[1484,3,1.13,\"Jerky Boys, The (1994)\"],[1485,4,1.21,\"Colonel Chabert, Le (1994)\"],[1486,1,1.05,\"Girl in the Cadillac (1995)\"],[1487,5,1.13,\"Even Cowgirls Get the Blues (1993)\"],[1488,4,1.17,\"Germinal (1993)\"],[1489,5,1.14,\"Chasers (1994)\"],[1490,3,1.15,\"Fausto (1993)\"],[1491,2,1.12,\"Tough and Deadly (1995)\"],[1492,1,1.1,\"Window to Paris (1994)\"],[1493,1,1.05,\"Modern Affair, A (1995)\"],[1494,1,1.05,\"Mostro, Il (1994)\"],[1495,5,1.25,\"Flirt (1995)\"],[1496,5,1.19,\"Carpool (1996)\"],[1497,2,1.12,\"Line King: Al Hirschfeld, The (1996)\"],[1498,1,1.1,\"Farmer & Chase (1995)\"],[1499,4,1.19,\"Grosse Fatigue (1994)\"],[1500,2,1.18,\"Santa with Muscles (1996)\"],[1501,5,1.2,\"Prisoner of the Mountains (Kavkazsky Plennik) (1996)\"],[1502,2,1.07,\"Naked in New York (1994)\"],[1503,10,1.35,\"Gold Diggers: The Secret of Bear Mountain (1995)\"],[1504,3,1.18,\"Bewegte Mann, Der (1994)\"],[1505,1,1.1,\"Killer: A Journal of Murder (1995)\"],[1506,3,1.18,\"Nelly & Monsieur Arnaud (1995)\"],[1507,1,1.08,\"Three Lives and Only One Death (1996)\"],[1508,3,1.11,\"Babysitter, The (1995)\"],[1509,5,1.09,\"Getting Even with Dad (1994)\"],[1510,1,1.08,\"Mad Dog Time (1996)\"],[1511,5,1.22,\"Children of the Revolution (1996)\"],[1512,6,1.32,\"World of Apu, The (Apur Sansar) (1959)\"],[1513,3,1.1,\"Sprung (1997)\"],[1514,7,1.27,\"Dream With the Fishes (1997)\"],[1515,1,1.1,\"Wings of Courage (1995)\"],[1516,3,1.19,\"Wedding Gift, The (1994)\"],[1517,5,1.19,\"Race the Sun (1996)\"],[1518,12,1.38,\"Losing Isaiah (1995)\"],[1519,2,1.12,\"New Jersey Drive (1995)\"],[1520,1,1.08,\"Fear, The (1995)\"],[1521,4,1.17,\"Mr. Wonderful (1993)\"],[1522,7,1.2,\"Trial by Jury (1994)\"],[1523,2,1.12,\"Good Man in Africa, A (1994)\"],[1524,8,1.43,\"Kaspar Hauser (1993)\"],[1525,1,1.1,\"Object of My Affection, The (1998)\"],[1526,1,1.1,\"Witness (1985)\"],[1527,7,1.2,\"Senseless (1998)\"],[1528,3,1.11,\"Nowhere (1997)\"],[1529,5,1.19,\"Underground (1995)\"],[1530,5,1.13,\"Jefferson in Paris (1995)\"],[1531,7,1.29,\"Far From Home: The Adventures of Yellow Dog (1995)\"],[1532,2,1.08,\"Foreign Student (1994)\"],[1533,1,1.1,\"I Don't Want to Talk About It (De eso no se habla) (1993)\"],[1534,6,1.15,\"Twin Town (1997)\"],[1535,4,1.17,\"Enfer, L' (1994)\"],[1536,1,1.12,\"Aiqing wansui (1994)\"],[1537,4,1.24,\"Cosi (1996)\"],[1538,3,1.15,\"All Over Me (1997)\"],[1539,4,1.1,\"Being Human (1993)\"],[1540,10,1.3,\"Amazing Panda Adventure, The (1995)\"],[1541,2,1.13,\"Beans of Egypt, Maine, The (1994)\"],[1542,2,1.12,\"Scarlet Letter, The (1926)\"],[1543,1,1.08,\"Johns (1996)\"],[1544,3,1.13,\"It Takes Two (1995)\"],[1545,4,1.14,\"Frankie Starlight (1995)\"],[1546,1,1.05,\"Shadows (Cienie) (1988)\"],[1547,2,1.12,\"Show, The (1995)\"],[1548,1,1.05,\"The Courtyard (1995)\"],[1549,2,1.07,\"Dream Man (1995)\"],[1550,2,1.12,\"Destiny Turns on the Radio (1995)\"],[1551,2,1.08,\"Glass Shield, The (1994)\"],[1552,3,1.1,\"Hunted, The (1995)\"],[1553,4,1.16,\"Underneath, The (1995)\"],[1554,2,1.12,\"Safe Passage (1994)\"],[1555,5,1.17,\"Secret Adventures of Tom Thumb, The (1993)\"],[1556,2,1.08,\"Condition Red (1995)\"],[1557,1,1.05,\"Yankee Zulu (1994)\"],[1558,7,1.32,\"Aparajito (1956)\"],[1559,1,1.05,\"Hostile Intentions (1994)\"],[1560,4,1.16,\"Clean Slate (Coup de Torchon) (1981)\"],[1561,1,1.05,\"Tigrero: A Film That Was Never Made (1994)\"],[1562,1,1.05,\"Eye of Vichy, The (Oeil de Vichy, L') (1993)\"],[1563,1,1.05,\"Promise, The (Versprechen, Das) (1994)\"],[1564,1,1.05,\"To Cross the Rubicon (1991)\"],[1565,1,1.05,\"Daens (1992)\"],[1566,1,1.05,\"Man from Down Under, The (1943)\"],[1567,1,1.05,\"Careful (1992)\"],[1568,1,1.05,\"Vermont Is For Lovers (1992)\"],[1569,1,1.05,\"Vie est belle, La (Life is Rosey) (1987)\"],[1570,1,1.05,\"Quartier Mozart (1992)\"],[1571,1,1.05,\"Touki Bouki (Journey of the Hyena) (1973)\"],[1572,1,1.05,\"Wend Kuuni (God's Gift) (1982)\"],[1573,2,1.1,\"Spirits of the Dead (Tre passi nel delirio) (1968)\"],[1574,1,1.05,\"Pharaoh's Army (1995)\"],[1575,1,1.05,\"I, Worst of All (Yo, la peor de todas) (1990)\"],[1576,1,1.05,\"Hungarian Fairy Tale, A (1987)\"],[1577,1,1.05,\"Death in the Garden (Mort en ce jardin, La) (1956)\"],[1578,2,1.08,\"Collectionneuse, La (1967)\"],[1579,1,1.05,\"Baton Rouge (1988)\"],[1580,1,1.05,\"Liebelei (1933)\"],[1581,1,1.05,\"Woman in Question, The (1950)\"],[1582,1,1.05,\"T-Men (1947)\"],[1583,1,1.05,\"Invitation, The (Zaproszenie) (1986)\"],[1584,1,1.05,\"Symphonie pastorale, La (1946)\"],[1585,2,1.1,\"American Dream (1990)\"],[1586,1,1.05,\"Lashou shentan (1992)\"],[1587,1,1.05,\"Terror in a Texas Town (1958)\"],[1588,2,1.08,\"Salut cousin! (1996)\"],[1589,4,1.17,\"Schizopolis (1996)\"],[1590,2,1.08,\"To Have, or Not (1995)\"],[1591,6,1.25,\"Duoluo tianshi (1995)\"],[1592,5,1.25,\"Magic Hour, The (1998)\"],[1593,1,1.1,\"Death in Brunswick (1991)\"],[1594,2,1.16,\"Everest (1998)\"],[1595,1,1.07,\"Shopping (1994)\"],[1596,1,1.07,\"Nemesis 2: Nebula (1995)\"],[1597,5,1.2,\"Romper Stomper (1992)\"],[1598,6,1.18,\"City of Industry (1997)\"],[1599,1,1.12,\"Someone Else's America (1995)\"],[1600,4,1.22,\"Guantanamera (1994)\"],[1601,1,1.05,\"Office Killer (1997)\"],[1602,3,1.16,\"Price Above Rubies, A (1998)\"],[1603,1,1.08,\"Angela (1995)\"],[1604,1,1.1,\"He Walked by Night (1948)\"],[1605,4,1.17,\"Love Serenade (1996)\"],[1606,1,1.07,\"Deceiver (1997)\"],[1607,3,1.16,\"Hurricane Streets (1998)\"],[1608,4,1.13,\"Buddy (1997)\"],[1609,3,1.08,\"B*A*P*S (1997)\"],[1610,3,1.1,\"Truth or Consequences, N.M. (1997)\"],[1611,2,1.12,\"Intimate Relations (1996)\"],[1612,4,1.22,\"Leading Man, The (1996)\"],[1613,1,1.1,\"Tokyo Fist (1995)\"],[1614,1,1.08,\"Reluctant Debutante, The (1958)\"],[1615,10,1.33,\"Warriors of Virtue (1997)\"],[1616,1,1.1,\"Desert Winds (1995)\"],[1617,2,1.12,\"Hugo Pool (1997)\"],[1618,1,1.05,\"King of New York (1990)\"],[1619,1,1.08,\"All Things Fair (1996)\"],[1620,9,1.34,\"Sixth Man, The (1997)\"],[1621,1,1.05,\"Butterfly Kiss (1995)\"],[1622,3,1.11,\"Paris, France (1993)\"],[1623,3,1.19,\"C\\u00e9r\\u00e9monie, La (1995)\"],[1624,1,1.07,\"Hush (1998)\"],[1625,1,1.1,\"Nightwatch (1997)\"],[1626,1,1.05,\"Nobody Loves Me (Keiner liebt mich) (1994)\"],[1627,1,1.08,\"Wife, The (1995)\"],[1628,4,1.22,\"Lamerica (1994)\"],[1629,2,1.15,\"Nico Icon (1995)\"],[1630,1,1.08,\"Silence of the Palace, The (Saimt el Qusur) (1994)\"],[1631,2,1.13,\"Slingshot, The (1993)\"],[1632,1,1.08,\"Land and Freedom (Tierra y libertad) (1995)\"],[1633,1,1.08,\"\\u00c1 k\\u00f6ldum klaka (Cold Fever) (1994)\"],[1634,1,1.07,\"Etz Hadomim Tafus (Under the Domin Tree) (1994)\"],[1635,1,1.08,\"Two Friends (1986) \"],[1636,1,1.1,\"Brothers in Trouble (1995)\"],[1637,1,1.08,\"Girls Town (1996)\"],[1638,1,1.08,\"Normal Life (1996)\"],[1639,3,1.21,\"Bitter Sugar (Azucar Amargo) (1996)\"],[1640,1,1.08,\"Eighth Day, The (1996)\"],[1641,1,1.08,\"Dadetown (1995)\"],[1642,2,1.16,\"Some Mother's Son (1996)\"],[1643,4,1.22,\"Angel Baby (1995)\"],[1644,2,1.07,\"Sudden Manhattan (1996)\"],[1645,1,1.1,\"Butcher Boy, The (1998)\"],[1646,2,1.13,\"Men With Guns (1997)\"],[1647,1,1.08,\"Hana-bi (1997)\"],[1648,1,1.07,\"Niagara, Niagara (1997)\"],[1649,1,1.08,\"Big One, The (1997)\"],[1650,1,1.1,\"Butcher Boy, The (1998)\"],[1651,1,1.1,\"Spanish Prisoner, The (1997)\"],[1652,3,1.08,\"Temptress Moon (Feng Yue) (1996)\"],[1653,1,1.12,\"Entertaining Angels: The Dorothy Day Story (1996)\"],[1654,1,1.05,\"Chairman of the Board (1998)\"],[1655,1,1.07,\"Favor, The (1994)\"],[1656,2,1.13,\"Little City (1998)\"],[1657,1,1.08,\"Target (1995)\"],[1658,3,1.15,\"Substance of Fire, The (1996)\"],[1659,1,1.05,\"Getting Away With Murder (1996)\"],[1660,1,1.07,\"Small Faces (1995)\"],[1661,1,1.05,\"New Age, The (1994)\"],[1662,2,1.1,\"Rough Magic (1995)\"],[1663,1,1.07,\"Nothing Personal (1995)\"],[1664,4,1.19,\"8 Heads in a Duffel Bag (1997)\"],[1665,1,1.07,\"Brother's Kiss, A (1997)\"],[1666,1,1.07,\"Ripe (1996)\"],[1667,1,1.08,\"Next Step, The (1995)\"],[1668,1,1.08,\"Wedding Bell Blues (1996)\"],[1669,1,1.07,\"MURDER and murder (1996)\"],[1670,1,1.08,\"Tainted (1998)\"],[1671,1,1.05,\"Further Gesture, A (1996)\"],[1672,2,1.08,\"Kika (1993)\"],[1673,1,1.08,\"Mirage (1995)\"],[1674,1,1.1,\"Mamma Roma (1962)\"],[1675,1,1.08,\"Sunchaser, The (1996)\"],[1676,1,1.07,\"War at Home, The (1996)\"],[1677,1,1.08,\"Sweet Nothing (1995)\"],[1678,1,1.05,\"Mat' i syn (1997)\"],[1679,1,1.08,\"B. Monkey (1998)\"],[1680,1,1.07,\"Sliding Doors (1998)\"],[1681,1,1.08,\"You So Crazy (1994)\"],[1682,1,1.08,\"Scream of Stone (Schrei aus Stein) (1991)\"]],\"hovertemplate\":\"mean=%{y}\\u003cbr\\u003emovie_id=%{customdata[0]}\\u003cbr\\u003ecount=%{customdata[1]}\\u003cbr\\u003ebayesian_avg=%{customdata[2]}\\u003cbr\\u003emovie_title=%{customdata[3]}\\u003cextra\\u003e\\u003c\\u002fextra\\u003e\",\"legendgroup\":\"\",\"marker\":{\"color\":\"#636efa\"},\"name\":\"\",\"offsetgroup\":\"\",\"orientation\":\"v\",\"points\":\"all\",\"scalegroup\":\"True\",\"showlegend\":false,\"x0\":\" \",\"xaxis\":\"x\",\"y\":[3.8783185840707963,3.2061068702290076,3.033333333333333,3.550239234449761,3.302325581395349,3.576923076923077,3.798469387755102,3.9954337899543377,3.8963210702341136,3.831460674157303,3.847457627118644,4.385767790262173,3.4184782608695654,3.9672131147540983,3.7781569965870307,3.2051282051282053,3.119565217391304,2.8,3.9565217391304346,3.4166666666666665,2.761904761904762,4.151515151515151,4.1208791208791204,3.4482758620689653,3.4436860068259385,3.452054794520548,3.1052631578947367,3.931159420289855,2.6666666666666665,3.945945945945946,3.6298701298701297,3.7901234567901234,3.4536082474226806,2.7142857142857144,2.1818181818181817,2.1538461538461537,2.25,3.0083333333333333,3.264367816091954,2.8947368421052633,3.081081081081081,3.804054054054054,3.0,3.3417721518987342,4.05,3.5555555555555554,3.601503759398496,4.094017094017094,3.3209876543209877,4.3584905660377355,3.45679012345679,3.769230769230769,2.953125,3.2403846153846154,3.704697986577181,4.060913705583756,4.0,3.645714285714286,4.0602409638554215,4.015625,3.864406779661017,3.141732283464567,3.097560975609756,4.445229681978798,3.5391304347826087,3.549382716049383,3.0485436893203883,3.417910447761194,3.853582554517134,3.6613545816733066,3.7818181818181817,3.193798449612403,3.46875,3.0,3.0,3.4074074074074074,3.2781456953642385,2.4545454545454546,4.044642857142857,2.764705882352941,3.5545454545454547,3.7203065134099615,4.0625,3.0,3.0344827586206895,3.94,3.9057971014492754,3.539906103286385,4.138181818181818,3.0526315789473686,3.5874125874125875,3.6153846153846154,3.7232142857142856,3.0875912408759123,3.8127853881278537,4.0067796610169495,3.79296875,4.28974358974359,3.7093023255813953,4.155511811023622,3.26027397260274,3.1296296296296298,1.8666666666666667,1.4,2.5675675675675675,2.887323943661972,3.5,3.076923076923077,3.4307692307692306,2.5161290322580645,3.485294117647059,2.45,4.111111111111111,4.447761194029851,3.7333333333333334,3.824,3.693121693121693,3.2150170648464163,4.5,2.2388059701492535,3.438228438228438,2.339622641509434,3.234782608695652,4.053475935828877,3.557377049180328,3.804123711340206,4.283292978208232,3.5384615384615383,3.8217054263565893,2.260869565217391,3.7263157894736842,4.0772357723577235,3.871345029239766,4.292929292929293,3.969111969111969,4.123809523809523,3.9005847953216373,2.5789473684210527,2.78,3.2131147540983607,3.5,3.0701754385964914,3.765765765765766,3.8724279835390947,2.4461538461538463,2.5,3.4702702702702704,3.203125,3.0,3.828025477707006,3.6319018404907975,3.6341463414634148,3.785425101214575,3.7471264367816093,3.1020408163265305,3.9864864864864864,3.6929133858267718,2.6166666666666667,3.227722772277228,3.463768115942029,3.481818181818182,3.556603773584906,3.5543478260869565,3.589403973509934,4.109375,4.120689655172414,2.955223880597015,4.0664556962025316,4.466101694915254,4.1735537190082646,3.876923076923077,4.204359673024523,4.172839506172839,4.252380952380952,3.8173076923076925,3.9471830985915495,3.8613138686131387,4.344,3.909502262443439,4.04524886877828,4.007889546351085,3.9513274336283186,4.034364261168385,3.4310344827586206,4.100418410041841,3.8366533864541834,4.186602870813397,3.6823529411764704,4.106060606060606,4.137096774193548,4.163043478260869,4.120689655172414,3.917197452229299,4.058091286307054,3.9335548172757475,3.9163346613545817,4.104602510460251,4.0078740157480315,4.175757575757576,3.825242718446602,3.5168539325842696,3.7642857142857142,3.868131868131868,3.834285714285714,3.9926470588235294,3.38,3.8181818181818183,3.945,3.905759162303665,3.930513595166163,3.912621359223301,3.4565217391304346,3.985074626865672,3.3508771929824563,3.69811320754717,3.910344827586207,3.158333333333333,3.456140350877193,3.171171171171171,3.3636363636363638,3.72972972972973,3.66027397260274,4.198529411764706,3.7045454545454546,2.908256880733945,3.355421686746988,3.279503105590062,3.8155737704918034,3.111111111111111,3.4472361809045227,2.683098591549296,3.207920792079208,3.2903225806451615,3.775,2.847926267281106,3.6222222222222222,3.7109375,3.875,3.513333333333333,2.7884615384615383,3.546875,3.9914529914529915,2.4393939393939394,3.1666666666666665,3.1083333333333334,3.935483870967742,1.8,3.675,3.246153846153846,3.4771573604060912,4.260869565217392,2.9430379746835444,3.6923076923076925,2.4516129032258065,3.36046511627907,3.5625,3.745874587458746,3.8035363457760316,2.685185185185185,2.574803149606299,2.558139534883721,3.712121212121212,2.1578947368421053,2.742574257425743,3.8634361233480177,2.7142857142857144,3.4444444444444446,3.792156862745098,3.926984126984127,3.5955882352941178,3.2322274881516586,4.262626262626263,3.569506726457399,3.5,4.0111940298507465,3.697986577181208,3.464788732394366,3.2333333333333334,3.2857142857142856,3.1882352941176473,3.143835616438356,3.685344827586207,3.7175141242937855,3.160621761658031,4.265432098765432,3.656964656964657,3.58974358974359,3.4414225941422596,2.9806949806949805,3.1145833333333335,3.37007874015748,3.6666666666666665,3.802721088435374,3.156701030927835,3.4025974025974026,3.3333333333333335,3.96,3.768041237113402,2.9315068493150687,3.6310904872389793,3.3043478260869565,4.161616161616162,3.6865671641791047,3.5369127516778525,3.6436781609195403,3.9479166666666665,3.515957446808511,2.966666666666667,2.857142857142857,3.6,3.68,3.1625,4.2457142857142856,1.0,4.1,4.196428571428571,3.911764705882353,4.466442953020135,3.2738095238095237,4.05,3.1301775147928996,3.0871559633027523,2.933333333333333,3.136,2.546875,3.36,3.3771428571428572,3.4237288135593222,3.3333333333333335,3.024390243902439,3.5398230088495577,3.4615384615384617,3.593625498007968,3.359375,2.761904761904762,2.627906976744186,3.0,2.659340659340659,3.25531914893617,3.5873015873015874,3.090909090909091,2.923076923076923,3.096774193548387,3.6545454545454548,3.4,3.642857142857143,3.510948905109489,3.2962962962962963,2.903225806451613,3.1463414634146343,2.7,2.1153846153846154,2.4285714285714284,3.486111111111111,2.926829268292683,3.381443298969072,4.291666666666667,2.6153846153846154,3.5,3.2,3.5,2.8214285714285716,2.723404255319149,2.675675675675676,3.2083333333333335,3.3404255319148937,3.458823529411765,1.903225806451613,2.6363636363636362,2.8205128205128207,3.1641791044776117,3.5294117647058822,2.8974358974358974,2.272727272727273,1.9565217391304348,2.8333333333333335,2.1538461538461537,3.722772277227723,2.9767441860465116,3.336206896551724,3.55,3.5945945945945947,2.064516129032258,2.782608695652174,3.5625,2.8160919540229883,3.3846153846153846,2.392857142857143,3.4444444444444446,3.2,2.7457627118644066,3.5441176470588234,3.4114583333333335,3.3333333333333335,2.5892857142857144,2.814814814814815,2.5833333333333335,2.076923076923077,3.303370786516854,2.7222222222222223,2.8026315789473686,3.4647058823529413,3.427860696517413,3.6732673267326734,3.313953488372093,2.4489795918367347,2.511627906976744,4.491071428571429,3.142857142857143,3.1296296296296298,2.914110429447853,2.3978494623655915,2.6363636363636362,3.532258064516129,2.84,3.484375,3.095890410958904,3.5813953488372094,3.7247191011235956,3.6666666666666665,3.5943396226415096,2.8461538461538463,3.8333333333333335,1.3157894736842106,3.7411764705882353,2.84375,4.292237442922374,3.8181818181818183,3.9381443298969074,4.0,3.5359477124183005,3.7701149425287355,3.690058479532164,3.8358208955223883,3.949074074074074,3.5353535353535355,1.0,1.1666666666666667,1.0,1.6428571428571428,2.5660377358490565,1.25,3.808641975308642,2.717391304347826,3.5,2.4444444444444446,3.5041322314049586,3.388235294117647,3.034188034188034,2.3968253968253967,3.347058823529412,2.6666666666666665,1.9375,2.875,3.2551724137931033,2.3125,1.7407407407407407,3.1222222222222222,3.75,3.0,3.6216216216216215,3.804054054054054,3.859154929577465,3.5925925925925926,3.5647058823529414,3.5961538461538463,3.7916666666666665,3.3125,3.7761194029850746,3.6666666666666665,3.6108597285067874,3.0822784810126582,3.126984126984127,4.252577319587629,3.884,3.01875,3.210526315789474,4.115384615384615,4.251396648044692,4.284916201117318,3.9365079365079363,3.984375,4.45679012345679,4.2101449275362315,3.816,3.796875,4.102941176470588,4.2,4.115384615384615,4.02,3.791044776119403,3.864406779661017,4.15,4.0,3.6610169491525424,4.121212121212121,3.838235294117647,4.184210526315789,3.9516129032258065,3.903225806451613,3.4959349593495936,3.7017543859649122,3.641025641025641,3.819672131147541,4.0,3.8555555555555556,3.816326530612245,3.5953488372093023,3.8512396694214877,3.9421487603305785,4.23121387283237,4.0,4.333333333333333,3.911111111111111,4.203980099502488,3.9682539682539684,3.769230769230769,3.651685393258427,4.1,4.104838709677419,3.8333333333333335,3.7714285714285714,3.9939024390243905,4.021739130434782,4.027397260273973,3.8306451612903225,4.02051282051282,4.132231404958677,3.978494623655914,4.025,3.9224806201550386,3.3181818181818183,3.6666666666666665,3.3076923076923075,3.1666666666666665,3.3,3.6333333333333333,3.4242424242424243,2.477272727272727,2.511627906976744,2.877551020408163,2.5294117647058822,3.619047619047619,3.1549295774647885,1.8333333333333333,3.031496062992126,3.341463414634146,2.1666666666666665,3.5652173913043477,3.2847682119205297,2.4166666666666665,2.8666666666666667,3.2857142857142856,2.803921568627451,2.0,2.5,3.1176470588235294,3.6714285714285713,3.1824817518248176,2.727272727272727,3.0677966101694913,3.2083333333333335,2.413793103448276,2.037037037037037,2.6818181818181817,3.569832402234637,2.8,3.6478260869565218,2.701492537313433,3.1,2.5,2.7586206896551726,2.9393939393939394,2.2,2.5454545454545454,3.021505376344086,2.2195121951219514,3.152173913043478,2.6315789473684212,3.375,3.2203389830508473,3.6011904761904763,3.0,3.5443037974683542,2.4871794871794872,2.676470588235294,3.5714285714285716,3.792079207920792,4.023255813953488,2.0,3.601123595505618,3.3333333333333335,3.1666666666666665,2.4,3.09375,3.377952755905512,3.150485436893204,2.25,1.0,3.0,4.0,3.7,4.3875598086124405,4.012345679012346,3.3548387096774195,4.045454545454546,3.9696969696969697,3.933333333333333,3.5833333333333335,3.658536585365854,4.1,3.9411764705882355,4.037037037037037,3.7450980392156863,4.0508474576271185,3.421875,3.7777777777777777,3.611111111111111,3.171875,3.0930232558139537,2.909090909090909,3.358974358974359,2.923076923076923,3.272727272727273,3.3292682926829267,3.25,3.2266666666666666,3.514792899408284,3.3376623376623376,3.2903225806451615,3.6218487394957983,3.896551724137931,4.057971014492754,3.75,2.739130434782609,3.241758241758242,3.026315789473684,3.772727272727273,3.7,3.024390243902439,4.212121212121212,3.4831460674157304,3.0,3.7714285714285714,3.814814814814815,3.8684210526315788,4.1,4.029850746268656,3.4,3.5416666666666665,4.076023391812866,3.888888888888889,3.911764705882353,4.136054421768708,3.881057268722467,4.0,4.259541984732825,3.4177215189873418,4.078260869565217,3.764705882352941,4.1022727272727275,3.426829268292683,3.9051724137931036,3.5434782608695654,2.83,2.4,2.1666666666666665,2.1666666666666665,1.6153846153846154,3.0,3.608695652173913,2.723076923076923,3.5232558139534884,2.8958333333333335,3.5555555555555554,3.3376623376623376,3.0,2.808219178082192,3.046728971962617,2.5588235294117645,2.4444444444444446,3.06,2.4081632653061225,3.7928994082840237,3.356687898089172,3.68,2.1884057971014492,1.8409090909090908,3.1494252873563218,3.458064516129032,3.5,3.6280487804878048,3.6483516483516483,4.045454545454546,2.923076923076923,3.1392405063291138,3.425,3.0,3.676470588235294,2.6,4.0,3.018867924528302,3.5789473684210527,3.0416666666666665,3.9927007299270074,2.6666666666666665,3.9285714285714284,3.4752475247524752,4.028846153846154,3.569620253164557,4.0,3.0784313725490198,3.611111111111111,3.230769230769231,3.2758620689655173,3.1551724137931036,2.817073170731707,3.6875,2.413793103448276,3.0232558139534884,3.4444444444444446,2.9310344827586206,3.1470588235294117,3.486842105263158,2.75,2.4285714285714284,3.4603174603174605,3.022222222222222,3.4814814814814814,3.5,3.1538461538461537,3.65,3.2,2.5185185185185186,3.854014598540146,3.9358974358974357,2.983050847457627,2.838709677419355,3.323170731707317,3.4761904761904763,3.4482758620689653,3.644194756554307,1.9487179487179487,3.4565217391304346,3.875,3.6638655462184873,3.4607843137254903,3.1234177215189876,3.176470588235294,3.8548387096774195,3.4277777777777776,3.3076923076923075,3.7083333333333335,3.3859649122807016,3.3125,2.8984375,2.75,1.7142857142857142,2.1818181818181817,2.652173913043478,3.0454545454545454,3.391304347826087,3.389261744966443,2.7586206896551726,2.8125,3.111111111111111,2.1818181818181817,3.076923076923077,2.4523809523809526,3.3859649122807016,2.6341463414634148,3.061224489795918,2.9411764705882355,2.9375,2.769230769230769,3.2222222222222223,1.25,3.5526315789473686,2.5483870967741935,3.0,3.3333333333333335,2.6,2.72972972972973,1.0,3.1538461538461537,2.642857142857143,3.230769230769231,1.6666666666666667,3.574468085106383,2.909090909090909,2.5,3.7209302325581395,3.5,3.652173913043478,2.4285714285714284,3.0833333333333335,3.096774193548387,2.2222222222222223,3.2,2.8846153846153846,2.8125,2.7,2.5555555555555554,2.875,3.6296296296296298,3.46,2.7777777777777777,2.838709677419355,2.9069767441860463,2.888888888888889,3.9444444444444446,3.111111111111111,3.892857142857143,5.0,3.232142857142857,2.4285714285714284,2.6666666666666665,2.76,2.7,2.774193548387097,3.0454545454545454,3.0,2.8780487804878048,2.7551020408163267,3.036144578313253,2.575,2.7719298245614037,2.6923076923076925,2.6470588235294117,1.0,2.4615384615384617,2.5454545454545454,3.204081632653061,2.2,3.8666666666666667,3.769230769230769,3.92,2.75,2.5,2.660377358490566,2.75,3.1481481481481484,3.0,3.357142857142857,3.465909090909091,3.0681818181818183,3.727272727272727,3.5555555555555554,2.7169811320754715,4.0,3.75,1.0,3.857142857142857,3.375,3.727272727272727,3.8333333333333335,3.0,1.0,2.6666666666666665,2.25,2.3333333333333335,2.111111111111111,3.9166666666666665,3.1627906976744184,3.4761904761904763,3.319327731092437,4.0,3.8,3.0,2.7777777777777777,2.4,3.0952380952380953,2.962962962962963,3.2564102564102564,2.7358490566037736,2.702127659574468,2.5384615384615383,2.515151515151515,3.2720588235294117,3.169491525423729,2.933333333333333,3.2941176470588234,3.230769230769231,3.2857142857142856,2.230769230769231,3.0754716981132075,3.609375,3.466666666666667,3.3846153846153846,1.9534883720930232,2.6666666666666665,2.7547169811320753,2.4285714285714284,1.894736842105263,3.2169811320754715,3.772727272727273,1.5,3.2241379310344827,3.4444444444444446,3.6904761904761907,1.9166666666666667,3.8333333333333335,3.111111111111111,3.45,3.2222222222222223,3.1904761904761907,2.0,2.5,3.769230769230769,2.0,2.5,3.0,2.5,2.727272727272727,3.923076923076923,3.1666666666666665,3.4285714285714284,3.0,3.7916666666666665,2.2,3.9782608695652173,3.823529411764706,4.155172413793103,3.4,3.323529411764706,2.702970297029703,3.1666666666666665,3.1153846153846154,2.7,2.7,2.1578947368421053,2.925,2.4285714285714284,2.926470588235294,3.2857142857142856,3.9375,3.4054054054054053,2.88,3.6,2.34375,3.0652173913043477,3.488888888888889,3.475,3.0,3.925,3.1475409836065573,3.235294117647059,2.1666666666666665,3.3380281690140845,2.9,2.8205128205128207,3.1777777777777776,3.3181818181818183,3.5454545454545454,3.4081632653061225,3.608695652173913,2.0,3.7857142857142856,3.46875,3.24,3.6176470588235294,3.130434782608696,4.2926829268292686,3.3333333333333335,3.6666666666666665,4.1923076923076925,3.1666666666666665,3.7222222222222223,3.8,3.25,3.676470588235294,3.1785714285714284,3.5,3.03125,3.159090909090909,1.8333333333333333,2.693877551020408,2.5185185185185186,3.2,3.1818181818181817,1.75,2.8,2.4,2.8636363636363638,2.8636363636363638,2.5652173913043477,2.5,2.313953488372093,2.84375,3.090909090909091,2.24,3.0,3.515151515151515,2.2857142857142856,3.161290322580645,2.5,2.125,2.5625,2.8,3.0,2.0,1.875,2.25,3.111111111111111,3.6818181818181817,2.8260869565217392,4.127659574468085,3.3783783783783785,3.375,3.25,3.225806451612903,3.53,2.289473684210526,3.061224489795918,2.8333333333333335,3.45985401459854,3.24,3.1875,3.967741935483871,3.8857142857142857,3.8157894736842106,3.4375,2.5806451612903225,3.6,2.9318181818181817,2.5,2.6666666666666665,3.0405405405405403,2.0,2.25,2.2857142857142856,2.875,2.78125,2.5185185185185186,3.161764705882353,2.75,2.0,2.823529411764706,4.011111111111111,2.6,3.193548387096774,3.142857142857143,3.0,3.225,3.24,3.1739130434782608,2.8358208955223883,3.0136986301369864,2.52,3.6511627906976742,3.2439024390243905,2.28,3.4583333333333335,2.3043478260869565,3.2,3.2,2.3181818181818183,3.2666666666666666,2.7714285714285714,3.051282051282051,2.9310344827586206,3.75,3.658536585365854,4.25,3.490566037735849,3.0,3.4545454545454546,3.1666666666666665,3.1666666666666665,3.740740740740741,2.875,2.4285714285714284,3.8181818181818183,2.961038961038961,3.4285714285714284,2.25,3.125,2.772727272727273,2.2444444444444445,4.0,2.75,2.625,2.5,3.857142857142857,3.0,3.2857142857142856,1.7,2.230769230769231,2.1315789473684212,2.4054054054054053,2.7209302325581395,2.5,3.0869565217391304,2.4166666666666665,2.6206896551724137,2.6666666666666665,3.5,3.6904761904761907,3.4615384615384617,2.625,3.77027027027027,2.4285714285714284,3.789473684210526,3.0,2.8333333333333335,3.0,3.0555555555555554,2.4,3.4285714285714284,2.8536585365853657,3.4285714285714284,2.8,3.272727272727273,3.3,3.413793103448276,3.6153846153846154,3.1052631578947367,3.25531914893617,3.6610169491525424,3.0,3.761904761904762,5.0,3.6666666666666665,3.8333333333333335,4.25,3.34375,2.909090909090909,2.6923076923076925,3.5714285714285716,4.0,4.0,2.625,2.966666666666667,3.3157894736842106,2.9782608695652173,3.4827586206896552,3.9655172413793105,3.4,2.606060606060606,2.2941176470588234,3.3333333333333335,4.045454545454546,4.0,3.6666666666666665,2.6666666666666665,2.0,3.6666666666666665,3.3333333333333335,3.8461538461538463,3.111111111111111,2.142857142857143,3.4285714285714284,3.473684210526316,3.3333333333333335,3.3333333333333335,3.0,2.88,4.0,3.5454545454545454,3.6153846153846154,2.923076923076923,1.6,2.68,2.1666666666666665,1.8571428571428572,3.1666666666666665,3.5454545454545454,3.3181818181818183,4.1,3.074074074074074,3.142857142857143,3.6666666666666665,2.5714285714285716,3.25,3.4,3.3636363636363638,1.8571428571428572,2.473684210526316,2.111111111111111,2.5,2.5,2.3076923076923075,2.210526315789474,2.5,2.2777777777777777,3.3333333333333335,3.230769230769231,2.772727272727273,5.0,3.3636363636363638,4.333333333333333,3.3846153846153846,3.8,4.064516129032258,3.272727272727273,3.0,3.5555555555555554,3.142857142857143,2.869565217391304,3.2857142857142856,5.0,3.5,4.0476190476190474,3.611111111111111,3.0,2.6842105263157894,2.2941176470588234,2.85,2.533333333333333,2.736842105263158,3.4166666666666665,2.8333333333333335,2.1666666666666665,2.0,1.9333333333333333,3.0,2.871794871794872,3.4615384615384617,2.9,3.3333333333333335,3.4871794871794872,2.68,3.5,2.6666666666666665,2.642857142857143,3.375,2.375,2.4583333333333335,2.1538461538461537,1.8333333333333333,2.5,2.4705882352941178,3.5,2.375,4.0,3.0,3.5,3.125,2.4444444444444446,3.6538461538461537,2.6666666666666665,2.6,3.7142857142857144,2.9166666666666665,3.210526315789474,1.5714285714285714,1.8333333333333333,3.0,2.8333333333333335,1.5,4.125,3.0,2.4285714285714284,1.8181818181818181,2.25,2.0,1.75,2.5217391304347827,2.0,2.75,3.25,3.625,2.933333333333333,3.2857142857142856,3.0526315789473686,3.1666666666666665,3.0,3.3,3.9,2.2857142857142856,2.7142857142857144,1.8,2.7333333333333334,1.7272727272727273,2.5,2.5,3.4210526315789473,3.625,2.888888888888889,2.6875,3.1538461538461537,3.2222222222222223,2.6842105263157894,2.8461538461538463,3.1333333333333333,3.7058823529411766,1.3333333333333333,3.0,2.142857142857143,1.5,2.2,1.6666666666666667,5.0,3.142857142857143,2.5714285714285716,3.25,2.8333333333333335,3.6666666666666665,3.0,2.3333333333333335,3.8,3.4,2.3333333333333335,2.5,2.4285714285714284,3.0,1.5,1.0,1.0,3.0,2.5,3.0,3.142857142857143,2.4545454545454546,3.130434782608696,2.7142857142857144,2.0,1.3333333333333333,1.75,1.0,2.5,2.3333333333333335,2.6666666666666665,2.4,1.0,3.3333333333333335,2.3333333333333335,3.1666666666666665,1.0,2.5,3.0,2.0,2.8,1.0,2.6363636363636362,1.8,2.3333333333333335,2.25,1.0,1.0,1.0,2.5,1.0,3.2,2.0,2.4,2.75,1.0,1.0,1.5,2.0,1.0,2.6,1.0,2.6666666666666665,2.6666666666666665,2.6666666666666665,3.0,1.0,1.5,2.6666666666666665,2.0,1.0,1.0,1.5,1.0,4.2,3.6666666666666665,2.75,2.6666666666666665,1.5,3.0,1.0,1.0,3.6,2.142857142857143,3.25,2.2,2.857142857142857,2.3333333333333335,3.25,2.0,2.0,1.6666666666666667,2.8,2.6666666666666665,2.0,3.3333333333333335,3.0,2.0,2.0,2.0,2.111111111111111,2.4285714285714284,2.3333333333333335,4.2,3.2,4.5,2.4285714285714284,3.1,3.2222222222222223,2.75,2.75,3.230769230769231,3.3333333333333335,3.4,2.25,1.0,2.857142857142857,2.75,2.5714285714285716,1.6666666666666667,2.75,2.0,2.4444444444444446,2.4,2.5,3.6666666666666665,2.125,1.3333333333333333,3.1818181818181817,2.25,2.25,2.3333333333333335,2.6,3.25,2.8,3.6666666666666665,2.75,2.3333333333333335,3.4,1.0,2.0,2.5,2.5714285714285716,2.5,2.0,2.4,3.0,3.0,2.5714285714285716,2.4,3.75,2.473684210526316,2.75,3.1333333333333333,3.0,3.6666666666666665,4.625,4.0,3.8666666666666667,4.0,2.0,3.0,2.5,3.7142857142857144,3.0,4.0,3.5714285714285716,3.0,2.0,3.7142857142857144,3.3333333333333335,2.3333333333333335,2.3333333333333335,4.0,5.0,3.3333333333333335,3.1666666666666665,2.6,2.4444444444444446,3.5,3.5555555555555554,2.8333333333333335,2.875,2.0,2.5,2.7222222222222223,2.75,2.272727272727273,3.0,4.0,3.4166666666666665,2.6666666666666665,3.5,1.0,2.0,3.0,2.2,3.0,3.0,4.0,1.0,1.0,3.6,2.8,3.0,4.0,3.25,5.0,3.0,1.5,3.1,3.6666666666666665,4.0,3.6666666666666665,3.0,2.3333333333333335,1.6,3.0,3.2,4.0,2.0,3.142857142857143,4.0,4.0,2.8,3.0,3.0,3.0,3.0,2.4285714285714284,3.0,4.25,4.0,4.0,2.4285714285714284,2.3333333333333335,2.8,2.0,3.2857142857142856,2.0,4.0,2.1666666666666665,3.0,5.0,4.0,3.0,1.75,2.8,3.5,3.0,3.0,2.6666666666666665,2.5,1.0,3.0,1.0,1.5,3.0,2.0,2.0,2.75,3.0,2.6,2.0,1.0,3.5714285714285716,1.0,2.75,1.0,1.0,1.0,1.0,1.0,1.0,1.0,1.0,1.0,1.0,1.0,1.0,2.5,1.0,1.0,1.0,1.0,2.0,1.0,1.0,1.0,1.0,1.0,1.0,2.5,1.0,1.0,2.0,3.0,2.0,3.1666666666666665,3.6,4.0,4.5,2.0,2.0,3.0,2.5,5.0,3.75,1.0,3.3333333333333335,3.0,4.0,3.0,2.0,3.3333333333333335,2.25,1.6666666666666667,2.0,3.0,3.75,4.0,3.0,3.0,4.0,3.0,1.0,3.0,3.2222222222222223,1.0,2.3333333333333335,4.0,2.0,4.0,1.0,3.0,3.75,4.0,3.0,3.5,3.0,3.0,2.0,3.0,4.0,3.0,3.0,4.333333333333333,3.0,3.0,4.5,3.75,1.5,4.0,3.5,3.0,2.0,3.0,4.0,4.0,1.6666666666666667,5.0,1.0,2.0,3.5,3.0,3.0,1.0,2.0,1.0,2.5,2.0,3.25,2.0,2.0,3.0,3.0,2.0,3.0,1.0,2.0,3.0,4.0,3.0,2.0,3.0,1.0,3.0,2.0,3.0,3.0],\"y0\":\" \",\"yaxis\":\"y\",\"type\":\"violin\"}],                        {\"template\":{\"data\":{\"histogram2dcontour\":[{\"type\":\"histogram2dcontour\",\"colorbar\":{\"outlinewidth\":0,\"ticks\":\"\"},\"colorscale\":[[0.0,\"#0d0887\"],[0.1111111111111111,\"#46039f\"],[0.2222222222222222,\"#7201a8\"],[0.3333333333333333,\"#9c179e\"],[0.4444444444444444,\"#bd3786\"],[0.5555555555555556,\"#d8576b\"],[0.6666666666666666,\"#ed7953\"],[0.7777777777777778,\"#fb9f3a\"],[0.8888888888888888,\"#fdca26\"],[1.0,\"#f0f921\"]]}],\"choropleth\":[{\"type\":\"choropleth\",\"colorbar\":{\"outlinewidth\":0,\"ticks\":\"\"}}],\"histogram2d\":[{\"type\":\"histogram2d\",\"colorbar\":{\"outlinewidth\":0,\"ticks\":\"\"},\"colorscale\":[[0.0,\"#0d0887\"],[0.1111111111111111,\"#46039f\"],[0.2222222222222222,\"#7201a8\"],[0.3333333333333333,\"#9c179e\"],[0.4444444444444444,\"#bd3786\"],[0.5555555555555556,\"#d8576b\"],[0.6666666666666666,\"#ed7953\"],[0.7777777777777778,\"#fb9f3a\"],[0.8888888888888888,\"#fdca26\"],[1.0,\"#f0f921\"]]}],\"heatmap\":[{\"type\":\"heatmap\",\"colorbar\":{\"outlinewidth\":0,\"ticks\":\"\"},\"colorscale\":[[0.0,\"#0d0887\"],[0.1111111111111111,\"#46039f\"],[0.2222222222222222,\"#7201a8\"],[0.3333333333333333,\"#9c179e\"],[0.4444444444444444,\"#bd3786\"],[0.5555555555555556,\"#d8576b\"],[0.6666666666666666,\"#ed7953\"],[0.7777777777777778,\"#fb9f3a\"],[0.8888888888888888,\"#fdca26\"],[1.0,\"#f0f921\"]]}],\"heatmapgl\":[{\"type\":\"heatmapgl\",\"colorbar\":{\"outlinewidth\":0,\"ticks\":\"\"},\"colorscale\":[[0.0,\"#0d0887\"],[0.1111111111111111,\"#46039f\"],[0.2222222222222222,\"#7201a8\"],[0.3333333333333333,\"#9c179e\"],[0.4444444444444444,\"#bd3786\"],[0.5555555555555556,\"#d8576b\"],[0.6666666666666666,\"#ed7953\"],[0.7777777777777778,\"#fb9f3a\"],[0.8888888888888888,\"#fdca26\"],[1.0,\"#f0f921\"]]}],\"contourcarpet\":[{\"type\":\"contourcarpet\",\"colorbar\":{\"outlinewidth\":0,\"ticks\":\"\"}}],\"contour\":[{\"type\":\"contour\",\"colorbar\":{\"outlinewidth\":0,\"ticks\":\"\"},\"colorscale\":[[0.0,\"#0d0887\"],[0.1111111111111111,\"#46039f\"],[0.2222222222222222,\"#7201a8\"],[0.3333333333333333,\"#9c179e\"],[0.4444444444444444,\"#bd3786\"],[0.5555555555555556,\"#d8576b\"],[0.6666666666666666,\"#ed7953\"],[0.7777777777777778,\"#fb9f3a\"],[0.8888888888888888,\"#fdca26\"],[1.0,\"#f0f921\"]]}],\"surface\":[{\"type\":\"surface\",\"colorbar\":{\"outlinewidth\":0,\"ticks\":\"\"},\"colorscale\":[[0.0,\"#0d0887\"],[0.1111111111111111,\"#46039f\"],[0.2222222222222222,\"#7201a8\"],[0.3333333333333333,\"#9c179e\"],[0.4444444444444444,\"#bd3786\"],[0.5555555555555556,\"#d8576b\"],[0.6666666666666666,\"#ed7953\"],[0.7777777777777778,\"#fb9f3a\"],[0.8888888888888888,\"#fdca26\"],[1.0,\"#f0f921\"]]}],\"mesh3d\":[{\"type\":\"mesh3d\",\"colorbar\":{\"outlinewidth\":0,\"ticks\":\"\"}}],\"scatter\":[{\"fillpattern\":{\"fillmode\":\"overlay\",\"size\":10,\"solidity\":0.2},\"type\":\"scatter\"}],\"parcoords\":[{\"type\":\"parcoords\",\"line\":{\"colorbar\":{\"outlinewidth\":0,\"ticks\":\"\"}}}],\"scatterpolargl\":[{\"type\":\"scatterpolargl\",\"marker\":{\"colorbar\":{\"outlinewidth\":0,\"ticks\":\"\"}}}],\"bar\":[{\"error_x\":{\"color\":\"#2a3f5f\"},\"error_y\":{\"color\":\"#2a3f5f\"},\"marker\":{\"line\":{\"color\":\"#E5ECF6\",\"width\":0.5},\"pattern\":{\"fillmode\":\"overlay\",\"size\":10,\"solidity\":0.2}},\"type\":\"bar\"}],\"scattergeo\":[{\"type\":\"scattergeo\",\"marker\":{\"colorbar\":{\"outlinewidth\":0,\"ticks\":\"\"}}}],\"scatterpolar\":[{\"type\":\"scatterpolar\",\"marker\":{\"colorbar\":{\"outlinewidth\":0,\"ticks\":\"\"}}}],\"histogram\":[{\"marker\":{\"pattern\":{\"fillmode\":\"overlay\",\"size\":10,\"solidity\":0.2}},\"type\":\"histogram\"}],\"scattergl\":[{\"type\":\"scattergl\",\"marker\":{\"colorbar\":{\"outlinewidth\":0,\"ticks\":\"\"}}}],\"scatter3d\":[{\"type\":\"scatter3d\",\"line\":{\"colorbar\":{\"outlinewidth\":0,\"ticks\":\"\"}},\"marker\":{\"colorbar\":{\"outlinewidth\":0,\"ticks\":\"\"}}}],\"scattermapbox\":[{\"type\":\"scattermapbox\",\"marker\":{\"colorbar\":{\"outlinewidth\":0,\"ticks\":\"\"}}}],\"scatterternary\":[{\"type\":\"scatterternary\",\"marker\":{\"colorbar\":{\"outlinewidth\":0,\"ticks\":\"\"}}}],\"scattercarpet\":[{\"type\":\"scattercarpet\",\"marker\":{\"colorbar\":{\"outlinewidth\":0,\"ticks\":\"\"}}}],\"carpet\":[{\"aaxis\":{\"endlinecolor\":\"#2a3f5f\",\"gridcolor\":\"white\",\"linecolor\":\"white\",\"minorgridcolor\":\"white\",\"startlinecolor\":\"#2a3f5f\"},\"baxis\":{\"endlinecolor\":\"#2a3f5f\",\"gridcolor\":\"white\",\"linecolor\":\"white\",\"minorgridcolor\":\"white\",\"startlinecolor\":\"#2a3f5f\"},\"type\":\"carpet\"}],\"table\":[{\"cells\":{\"fill\":{\"color\":\"#EBF0F8\"},\"line\":{\"color\":\"white\"}},\"header\":{\"fill\":{\"color\":\"#C8D4E3\"},\"line\":{\"color\":\"white\"}},\"type\":\"table\"}],\"barpolar\":[{\"marker\":{\"line\":{\"color\":\"#E5ECF6\",\"width\":0.5},\"pattern\":{\"fillmode\":\"overlay\",\"size\":10,\"solidity\":0.2}},\"type\":\"barpolar\"}],\"pie\":[{\"automargin\":true,\"type\":\"pie\"}]},\"layout\":{\"autotypenumbers\":\"strict\",\"colorway\":[\"#636efa\",\"#EF553B\",\"#00cc96\",\"#ab63fa\",\"#FFA15A\",\"#19d3f3\",\"#FF6692\",\"#B6E880\",\"#FF97FF\",\"#FECB52\"],\"font\":{\"color\":\"#2a3f5f\"},\"hovermode\":\"closest\",\"hoverlabel\":{\"align\":\"left\"},\"paper_bgcolor\":\"white\",\"plot_bgcolor\":\"#E5ECF6\",\"polar\":{\"bgcolor\":\"#E5ECF6\",\"angularaxis\":{\"gridcolor\":\"white\",\"linecolor\":\"white\",\"ticks\":\"\"},\"radialaxis\":{\"gridcolor\":\"white\",\"linecolor\":\"white\",\"ticks\":\"\"}},\"ternary\":{\"bgcolor\":\"#E5ECF6\",\"aaxis\":{\"gridcolor\":\"white\",\"linecolor\":\"white\",\"ticks\":\"\"},\"baxis\":{\"gridcolor\":\"white\",\"linecolor\":\"white\",\"ticks\":\"\"},\"caxis\":{\"gridcolor\":\"white\",\"linecolor\":\"white\",\"ticks\":\"\"}},\"coloraxis\":{\"colorbar\":{\"outlinewidth\":0,\"ticks\":\"\"}},\"colorscale\":{\"sequential\":[[0.0,\"#0d0887\"],[0.1111111111111111,\"#46039f\"],[0.2222222222222222,\"#7201a8\"],[0.3333333333333333,\"#9c179e\"],[0.4444444444444444,\"#bd3786\"],[0.5555555555555556,\"#d8576b\"],[0.6666666666666666,\"#ed7953\"],[0.7777777777777778,\"#fb9f3a\"],[0.8888888888888888,\"#fdca26\"],[1.0,\"#f0f921\"]],\"sequentialminus\":[[0.0,\"#0d0887\"],[0.1111111111111111,\"#46039f\"],[0.2222222222222222,\"#7201a8\"],[0.3333333333333333,\"#9c179e\"],[0.4444444444444444,\"#bd3786\"],[0.5555555555555556,\"#d8576b\"],[0.6666666666666666,\"#ed7953\"],[0.7777777777777778,\"#fb9f3a\"],[0.8888888888888888,\"#fdca26\"],[1.0,\"#f0f921\"]],\"diverging\":[[0,\"#8e0152\"],[0.1,\"#c51b7d\"],[0.2,\"#de77ae\"],[0.3,\"#f1b6da\"],[0.4,\"#fde0ef\"],[0.5,\"#f7f7f7\"],[0.6,\"#e6f5d0\"],[0.7,\"#b8e186\"],[0.8,\"#7fbc41\"],[0.9,\"#4d9221\"],[1,\"#276419\"]]},\"xaxis\":{\"gridcolor\":\"white\",\"linecolor\":\"white\",\"ticks\":\"\",\"title\":{\"standoff\":15},\"zerolinecolor\":\"white\",\"automargin\":true,\"zerolinewidth\":2},\"yaxis\":{\"gridcolor\":\"white\",\"linecolor\":\"white\",\"ticks\":\"\",\"title\":{\"standoff\":15},\"zerolinecolor\":\"white\",\"automargin\":true,\"zerolinewidth\":2},\"scene\":{\"xaxis\":{\"backgroundcolor\":\"#E5ECF6\",\"gridcolor\":\"white\",\"linecolor\":\"white\",\"showbackground\":true,\"ticks\":\"\",\"zerolinecolor\":\"white\",\"gridwidth\":2},\"yaxis\":{\"backgroundcolor\":\"#E5ECF6\",\"gridcolor\":\"white\",\"linecolor\":\"white\",\"showbackground\":true,\"ticks\":\"\",\"zerolinecolor\":\"white\",\"gridwidth\":2},\"zaxis\":{\"backgroundcolor\":\"#E5ECF6\",\"gridcolor\":\"white\",\"linecolor\":\"white\",\"showbackground\":true,\"ticks\":\"\",\"zerolinecolor\":\"white\",\"gridwidth\":2}},\"shapedefaults\":{\"line\":{\"color\":\"#2a3f5f\"}},\"annotationdefaults\":{\"arrowcolor\":\"#2a3f5f\",\"arrowhead\":0,\"arrowwidth\":1},\"geo\":{\"bgcolor\":\"white\",\"landcolor\":\"#E5ECF6\",\"subunitcolor\":\"white\",\"showland\":true,\"showlakes\":true,\"lakecolor\":\"white\"},\"title\":{\"x\":0.05},\"mapbox\":{\"style\":\"light\"}}},\"xaxis\":{\"anchor\":\"y\",\"domain\":[0.0,1.0]},\"yaxis\":{\"anchor\":\"x\",\"domain\":[0.0,1.0],\"title\":{\"text\":\"mean\"}},\"legend\":{\"tracegroupgap\":0},\"margin\":{\"t\":60},\"violinmode\":\"group\"},                        {\"responsive\": true}                    ).then(function(){\n",
       "                            \n",
       "var gd = document.getElementById('e68d34c0-fd2d-40c6-8674-3bae2d373e79');\n",
       "var x = new MutationObserver(function (mutations, observer) {{\n",
       "        var display = window.getComputedStyle(gd).display;\n",
       "        if (!display || display === 'none') {{\n",
       "            console.log([gd, 'removed!']);\n",
       "            Plotly.purge(gd);\n",
       "            observer.disconnect();\n",
       "        }}\n",
       "}});\n",
       "\n",
       "// Listen for the removal of the full notebook cells\n",
       "var notebookContainer = gd.closest('#notebook-container');\n",
       "if (notebookContainer) {{\n",
       "    x.observe(notebookContainer, {childList: true});\n",
       "}}\n",
       "\n",
       "// Listen for the clearing of the current output cell\n",
       "var outputEl = gd.closest('.output');\n",
       "if (outputEl) {{\n",
       "    x.observe(outputEl, {childList: true});\n",
       "}}\n",
       "\n",
       "                        })                };                });            </script>        </div>"
      ]
     },
     "metadata": {},
     "output_type": "display_data"
    }
   ],
   "source": [
    "# violin plot based on movie_id \n",
    "fig = px.violin(movies_stats, y=\"mean\", box=True, points=\"all\",\n",
    "          hover_data=movies_stats.columns)\n",
    "fig.show()"
   ]
  },
  {
   "cell_type": "code",
   "execution_count": 85,
   "metadata": {},
   "outputs": [
    {
     "name": "stdout",
     "output_type": "stream",
     "text": [
      "User-Movie Matrix:\n",
      "item_id  1     2     3     4     5     6     7     8     9     10    ...  \\\n",
      "user_id                                                              ...   \n",
      "1         5.0   3.0   4.0   3.0   3.0   5.0   4.0   1.0   5.0   3.0  ...   \n",
      "2         4.0   NaN   NaN   NaN   NaN   NaN   NaN   NaN   NaN   2.0  ...   \n",
      "3         NaN   NaN   NaN   NaN   NaN   NaN   NaN   NaN   NaN   NaN  ...   \n",
      "4         NaN   NaN   NaN   NaN   NaN   NaN   NaN   NaN   NaN   NaN  ...   \n",
      "5         4.0   3.0   NaN   NaN   NaN   NaN   NaN   NaN   NaN   NaN  ...   \n",
      "6         4.0   NaN   NaN   NaN   NaN   NaN   2.0   4.0   4.0   NaN  ...   \n",
      "7         NaN   NaN   NaN   5.0   NaN   NaN   5.0   5.0   5.0   4.0  ...   \n",
      "8         NaN   NaN   NaN   NaN   NaN   NaN   3.0   NaN   NaN   NaN  ...   \n",
      "9         NaN   NaN   NaN   NaN   NaN   5.0   4.0   NaN   NaN   NaN  ...   \n",
      "10        4.0   NaN   NaN   4.0   NaN   NaN   4.0   NaN   4.0   NaN  ...   \n",
      "11        NaN   NaN   NaN   NaN   NaN   NaN   NaN   4.0   5.0   NaN  ...   \n",
      "12        NaN   NaN   NaN   5.0   NaN   NaN   NaN   NaN   NaN   NaN  ...   \n",
      "13        3.0   3.0   NaN   5.0   1.0   NaN   2.0   4.0   3.0   NaN  ...   \n",
      "14        NaN   NaN   NaN   NaN   NaN   NaN   5.0   NaN   4.0   NaN  ...   \n",
      "15        1.0   NaN   NaN   NaN   NaN   NaN   1.0   NaN   4.0   NaN  ...   \n",
      "\n",
      "item_id  1673  1674  1675  1676  1677  1678  1679  1680  1681  1682  \n",
      "user_id                                                              \n",
      "1         NaN   NaN   NaN   NaN   NaN   NaN   NaN   NaN   NaN   NaN  \n",
      "2         NaN   NaN   NaN   NaN   NaN   NaN   NaN   NaN   NaN   NaN  \n",
      "3         NaN   NaN   NaN   NaN   NaN   NaN   NaN   NaN   NaN   NaN  \n",
      "4         NaN   NaN   NaN   NaN   NaN   NaN   NaN   NaN   NaN   NaN  \n",
      "5         NaN   NaN   NaN   NaN   NaN   NaN   NaN   NaN   NaN   NaN  \n",
      "6         NaN   NaN   NaN   NaN   NaN   NaN   NaN   NaN   NaN   NaN  \n",
      "7         NaN   NaN   NaN   NaN   NaN   NaN   NaN   NaN   NaN   NaN  \n",
      "8         NaN   NaN   NaN   NaN   NaN   NaN   NaN   NaN   NaN   NaN  \n",
      "9         NaN   NaN   NaN   NaN   NaN   NaN   NaN   NaN   NaN   NaN  \n",
      "10        NaN   NaN   NaN   NaN   NaN   NaN   NaN   NaN   NaN   NaN  \n",
      "11        NaN   NaN   NaN   NaN   NaN   NaN   NaN   NaN   NaN   NaN  \n",
      "12        NaN   NaN   NaN   NaN   NaN   NaN   NaN   NaN   NaN   NaN  \n",
      "13        NaN   NaN   NaN   NaN   NaN   NaN   NaN   NaN   NaN   NaN  \n",
      "14        NaN   NaN   NaN   NaN   NaN   NaN   NaN   NaN   NaN   NaN  \n",
      "15        NaN   NaN   NaN   NaN   NaN   NaN   NaN   NaN   NaN   NaN  \n",
      "\n",
      "[15 rows x 1682 columns]\n"
     ]
    }
   ],
   "source": [
    "# Convert the data to a user-item matrix format\n",
    "user_movie_ratings_matrix = ratings.pivot(index='user_id', columns='item_id', values='rating')\n",
    "\n",
    "# Display the user-item matrix\n",
    "print(\"User-Movie Matrix:\")\n",
    "print(user_movie_ratings_matrix.head(15))\n",
    "\n",
    "# Save the user-item matrix to a CSV file to investigate if it was correct\n",
    "user_movie_ratings_matrix.to_csv('user_movie_ratings_matrix.csv')\n"
   ]
  },
  {
   "cell_type": "code",
   "execution_count": 100,
   "metadata": {},
   "outputs": [],
   "source": [
    "# Matrix preparation - Optional\n",
    "#Because the similarity computation requires complete data we replace all the missing values with zeros.\n",
    "#Report - consine similarity- Να κάνουμε έρευνα για το ότι πρέπει να υπάρχει similarity στα κελιά των δεδομένων μας και επεξήγηση.\n",
    "ratings_matrix_filled = user_movie_ratings_matrix.fillna(0)"
   ]
  },
  {
   "cell_type": "code",
   "execution_count": 101,
   "metadata": {},
   "outputs": [
    {
     "data": {
      "text/plain": [
       "(943, 1682)"
      ]
     },
     "execution_count": 101,
     "metadata": {},
     "output_type": "execute_result"
    }
   ],
   "source": [
    "#Let's see the number of rows and columns in our matrix.\n",
    "ratings_matrix_filled.shape"
   ]
  },
  {
   "cell_type": "code",
   "execution_count": 111,
   "metadata": {},
   "outputs": [
    {
     "name": "stdout",
     "output_type": "stream",
     "text": [
      "Matrix sparsity: 0.06\n"
     ]
    }
   ],
   "source": [
    "#Let's evaluate our matrix. We will calculate sparsity.\n",
    "n_total = ratings_matrix_filled.shape[0] * ratings_matrix_filled.shape[1] #total number of cells\n",
    "n_ratings = np.count_nonzero(ratings_matrix_filled)\n",
    "sparsity = n_ratings/n_total\n",
    "print(\"Matrix sparsity: %s\" %(round(sparsity,2)))"
   ]
  },
  {
   "cell_type": "code",
   "execution_count": 112,
   "metadata": {},
   "outputs": [
    {
     "data": {
      "text/plain": [
       "943"
      ]
     },
     "execution_count": 112,
     "metadata": {},
     "output_type": "execute_result"
    }
   ],
   "source": [
    "n_ratings_per_user = np.count_nonzero(ratings_matrix_filled, axis=1)\n",
    "len(n_ratings_per_user)"
   ]
  },
  {
   "cell_type": "code",
   "execution_count": 115,
   "metadata": {},
   "outputs": [
    {
     "name": "stdout",
     "output_type": "stream",
     "text": [
      "Most active users rated 737 movies\n",
      "Less active users rated 20 movies\n"
     ]
    }
   ],
   "source": [
    "#Let's find the most active and the less active users.\n",
    "print(\"Most active users rated %s movies\" %(n_ratings_per_user.max()))\n",
    "print(\"Less active users rated %s movies\" %(n_ratings_per_user.min()))"
   ]
  },
  {
   "cell_type": "code",
   "execution_count": null,
   "metadata": {},
   "outputs": [],
   "source": [
    "### Q2: Basic Recommender System"
   ]
  },
  {
   "cell_type": "code",
   "execution_count": 106,
   "metadata": {},
   "outputs": [
    {
     "name": "stdout",
     "output_type": "stream",
     "text": [
      "Training set shape: (754, 1682)\n",
      "Test set shape: (189, 1682)\n"
     ]
    }
   ],
   "source": [
    "#Splitting the dataset into training set and test set using sklearn.model_selection--->train_test_split\n",
    "#https://scikit-learn.org/1.5/modules/generated/sklearn.model_selection.train_test_split.html\n",
    "split = ratings_matrix_filled.to_numpy()\n",
    "x_train, x_test = train_test_split(split, test_size=0.2)\n",
    "print(f\"Training set shape: {x_train.shape}\")\n",
    "print(f\"Test set shape: {x_test.shape}\")"
   ]
  },
  {
   "cell_type": "code",
   "execution_count": null,
   "metadata": {},
   "outputs": [],
   "source": [
    "#####sort = ratings.sort_values(by='rating', ascending=False).head(5)-->To be removed\n",
    "#Find the movies rated with a 5\n",
    "top_rated_movies = ratings[ratings['rating'] == 5]\n",
    "#Find the movies that have been rated with a 5 the most times\n",
    "count_top_rated_by_item_id = top_rated_movies.groupby('item_id')['rating'].count()\n",
    "#Top 10 movies rated with a 5 the most amount of times. This is the recommendation for each user of the test set\n",
    "sorted_top_movies = count_top_rated_by_item_id.sort_values(ascending=False).head(10)\n",
    "sorted_top_movies\n",
    "#Recommends 10 movies at random\n",
    "#https://saturncloud.io/blog/random-row-selection-in-pandas-dataframe/\n",
    "random_indices = np.random.randint(0, len(ratings), size=10)\n",
    "random_rows = ratings.iloc[random_indices]\n",
    "random_rows"
   ]
  },
  {
   "cell_type": "code",
   "execution_count": null,
   "metadata": {},
   "outputs": [],
   "source": []
  },
  {
   "cell_type": "code",
   "execution_count": null,
   "metadata": {},
   "outputs": [],
   "source": []
  },
  {
   "cell_type": "code",
   "execution_count": null,
   "metadata": {},
   "outputs": [],
   "source": [
    "### Q3: Collaborative Filtering - Recommender system"
   ]
  },
  {
   "cell_type": "code",
   "execution_count": null,
   "metadata": {},
   "outputs": [
    {
     "data": {
      "text/html": [
       "<div>\n",
       "<style scoped>\n",
       "    .dataframe tbody tr th:only-of-type {\n",
       "        vertical-align: middle;\n",
       "    }\n",
       "\n",
       "    .dataframe tbody tr th {\n",
       "        vertical-align: top;\n",
       "    }\n",
       "\n",
       "    .dataframe thead th {\n",
       "        text-align: right;\n",
       "    }\n",
       "</style>\n",
       "<table border=\"1\" class=\"dataframe\">\n",
       "  <thead>\n",
       "    <tr style=\"text-align: right;\">\n",
       "      <th>user_id</th>\n",
       "      <th>1</th>\n",
       "      <th>2</th>\n",
       "      <th>3</th>\n",
       "      <th>4</th>\n",
       "      <th>5</th>\n",
       "      <th>6</th>\n",
       "      <th>7</th>\n",
       "      <th>8</th>\n",
       "      <th>9</th>\n",
       "      <th>10</th>\n",
       "      <th>...</th>\n",
       "      <th>934</th>\n",
       "      <th>935</th>\n",
       "      <th>936</th>\n",
       "      <th>937</th>\n",
       "      <th>938</th>\n",
       "      <th>939</th>\n",
       "      <th>940</th>\n",
       "      <th>941</th>\n",
       "      <th>942</th>\n",
       "      <th>943</th>\n",
       "    </tr>\n",
       "    <tr>\n",
       "      <th>user_id</th>\n",
       "      <th></th>\n",
       "      <th></th>\n",
       "      <th></th>\n",
       "      <th></th>\n",
       "      <th></th>\n",
       "      <th></th>\n",
       "      <th></th>\n",
       "      <th></th>\n",
       "      <th></th>\n",
       "      <th></th>\n",
       "      <th></th>\n",
       "      <th></th>\n",
       "      <th></th>\n",
       "      <th></th>\n",
       "      <th></th>\n",
       "      <th></th>\n",
       "      <th></th>\n",
       "      <th></th>\n",
       "      <th></th>\n",
       "      <th></th>\n",
       "      <th></th>\n",
       "    </tr>\n",
       "  </thead>\n",
       "  <tbody>\n",
       "    <tr>\n",
       "      <th>1</th>\n",
       "      <td>1.000000</td>\n",
       "      <td>0.166931</td>\n",
       "      <td>0.047460</td>\n",
       "      <td>0.064358</td>\n",
       "      <td>0.378475</td>\n",
       "      <td>0.430239</td>\n",
       "      <td>0.440367</td>\n",
       "      <td>0.319072</td>\n",
       "      <td>0.078138</td>\n",
       "      <td>0.376544</td>\n",
       "      <td>...</td>\n",
       "      <td>0.369527</td>\n",
       "      <td>0.119482</td>\n",
       "      <td>0.274876</td>\n",
       "      <td>0.189705</td>\n",
       "      <td>0.197326</td>\n",
       "      <td>0.118095</td>\n",
       "      <td>0.314072</td>\n",
       "      <td>0.148617</td>\n",
       "      <td>0.179508</td>\n",
       "      <td>0.398175</td>\n",
       "    </tr>\n",
       "    <tr>\n",
       "      <th>2</th>\n",
       "      <td>0.166931</td>\n",
       "      <td>1.000000</td>\n",
       "      <td>0.110591</td>\n",
       "      <td>0.178121</td>\n",
       "      <td>0.072979</td>\n",
       "      <td>0.245843</td>\n",
       "      <td>0.107328</td>\n",
       "      <td>0.103344</td>\n",
       "      <td>0.161048</td>\n",
       "      <td>0.159862</td>\n",
       "      <td>...</td>\n",
       "      <td>0.156986</td>\n",
       "      <td>0.307942</td>\n",
       "      <td>0.358789</td>\n",
       "      <td>0.424046</td>\n",
       "      <td>0.319889</td>\n",
       "      <td>0.228583</td>\n",
       "      <td>0.226790</td>\n",
       "      <td>0.161485</td>\n",
       "      <td>0.172268</td>\n",
       "      <td>0.105798</td>\n",
       "    </tr>\n",
       "    <tr>\n",
       "      <th>3</th>\n",
       "      <td>0.047460</td>\n",
       "      <td>0.110591</td>\n",
       "      <td>1.000000</td>\n",
       "      <td>0.344151</td>\n",
       "      <td>0.021245</td>\n",
       "      <td>0.072415</td>\n",
       "      <td>0.066137</td>\n",
       "      <td>0.083060</td>\n",
       "      <td>0.061040</td>\n",
       "      <td>0.065151</td>\n",
       "      <td>...</td>\n",
       "      <td>0.031875</td>\n",
       "      <td>0.042753</td>\n",
       "      <td>0.163829</td>\n",
       "      <td>0.069038</td>\n",
       "      <td>0.124245</td>\n",
       "      <td>0.026271</td>\n",
       "      <td>0.161890</td>\n",
       "      <td>0.101243</td>\n",
       "      <td>0.133416</td>\n",
       "      <td>0.026556</td>\n",
       "    </tr>\n",
       "    <tr>\n",
       "      <th>4</th>\n",
       "      <td>0.064358</td>\n",
       "      <td>0.178121</td>\n",
       "      <td>0.344151</td>\n",
       "      <td>1.000000</td>\n",
       "      <td>0.031804</td>\n",
       "      <td>0.068044</td>\n",
       "      <td>0.091230</td>\n",
       "      <td>0.188060</td>\n",
       "      <td>0.101284</td>\n",
       "      <td>0.060859</td>\n",
       "      <td>...</td>\n",
       "      <td>0.052107</td>\n",
       "      <td>0.036784</td>\n",
       "      <td>0.133115</td>\n",
       "      <td>0.193471</td>\n",
       "      <td>0.146058</td>\n",
       "      <td>0.030138</td>\n",
       "      <td>0.196858</td>\n",
       "      <td>0.152041</td>\n",
       "      <td>0.170086</td>\n",
       "      <td>0.058752</td>\n",
       "    </tr>\n",
       "    <tr>\n",
       "      <th>5</th>\n",
       "      <td>0.378475</td>\n",
       "      <td>0.072979</td>\n",
       "      <td>0.021245</td>\n",
       "      <td>0.031804</td>\n",
       "      <td>1.000000</td>\n",
       "      <td>0.237286</td>\n",
       "      <td>0.373600</td>\n",
       "      <td>0.248930</td>\n",
       "      <td>0.056847</td>\n",
       "      <td>0.201427</td>\n",
       "      <td>...</td>\n",
       "      <td>0.338794</td>\n",
       "      <td>0.080580</td>\n",
       "      <td>0.094924</td>\n",
       "      <td>0.079779</td>\n",
       "      <td>0.148607</td>\n",
       "      <td>0.071459</td>\n",
       "      <td>0.239955</td>\n",
       "      <td>0.139595</td>\n",
       "      <td>0.152497</td>\n",
       "      <td>0.313941</td>\n",
       "    </tr>\n",
       "    <tr>\n",
       "      <th>...</th>\n",
       "      <td>...</td>\n",
       "      <td>...</td>\n",
       "      <td>...</td>\n",
       "      <td>...</td>\n",
       "      <td>...</td>\n",
       "      <td>...</td>\n",
       "      <td>...</td>\n",
       "      <td>...</td>\n",
       "      <td>...</td>\n",
       "      <td>...</td>\n",
       "      <td>...</td>\n",
       "      <td>...</td>\n",
       "      <td>...</td>\n",
       "      <td>...</td>\n",
       "      <td>...</td>\n",
       "      <td>...</td>\n",
       "      <td>...</td>\n",
       "      <td>...</td>\n",
       "      <td>...</td>\n",
       "      <td>...</td>\n",
       "      <td>...</td>\n",
       "    </tr>\n",
       "    <tr>\n",
       "      <th>939</th>\n",
       "      <td>0.118095</td>\n",
       "      <td>0.228583</td>\n",
       "      <td>0.026271</td>\n",
       "      <td>0.030138</td>\n",
       "      <td>0.071459</td>\n",
       "      <td>0.111852</td>\n",
       "      <td>0.107027</td>\n",
       "      <td>0.095898</td>\n",
       "      <td>0.039852</td>\n",
       "      <td>0.071460</td>\n",
       "      <td>...</td>\n",
       "      <td>0.066039</td>\n",
       "      <td>0.431154</td>\n",
       "      <td>0.258021</td>\n",
       "      <td>0.226449</td>\n",
       "      <td>0.432666</td>\n",
       "      <td>1.000000</td>\n",
       "      <td>0.087687</td>\n",
       "      <td>0.180029</td>\n",
       "      <td>0.043264</td>\n",
       "      <td>0.144250</td>\n",
       "    </tr>\n",
       "    <tr>\n",
       "      <th>940</th>\n",
       "      <td>0.314072</td>\n",
       "      <td>0.226790</td>\n",
       "      <td>0.161890</td>\n",
       "      <td>0.196858</td>\n",
       "      <td>0.239955</td>\n",
       "      <td>0.352449</td>\n",
       "      <td>0.329925</td>\n",
       "      <td>0.246883</td>\n",
       "      <td>0.120495</td>\n",
       "      <td>0.342961</td>\n",
       "      <td>...</td>\n",
       "      <td>0.327153</td>\n",
       "      <td>0.107024</td>\n",
       "      <td>0.187536</td>\n",
       "      <td>0.181317</td>\n",
       "      <td>0.175158</td>\n",
       "      <td>0.087687</td>\n",
       "      <td>1.000000</td>\n",
       "      <td>0.145152</td>\n",
       "      <td>0.261376</td>\n",
       "      <td>0.241028</td>\n",
       "    </tr>\n",
       "    <tr>\n",
       "      <th>941</th>\n",
       "      <td>0.148617</td>\n",
       "      <td>0.161485</td>\n",
       "      <td>0.101243</td>\n",
       "      <td>0.152041</td>\n",
       "      <td>0.139595</td>\n",
       "      <td>0.144446</td>\n",
       "      <td>0.059993</td>\n",
       "      <td>0.146145</td>\n",
       "      <td>0.143245</td>\n",
       "      <td>0.090305</td>\n",
       "      <td>...</td>\n",
       "      <td>0.046952</td>\n",
       "      <td>0.203301</td>\n",
       "      <td>0.288318</td>\n",
       "      <td>0.234211</td>\n",
       "      <td>0.313400</td>\n",
       "      <td>0.180029</td>\n",
       "      <td>0.145152</td>\n",
       "      <td>1.000000</td>\n",
       "      <td>0.101642</td>\n",
       "      <td>0.095120</td>\n",
       "    </tr>\n",
       "    <tr>\n",
       "      <th>942</th>\n",
       "      <td>0.179508</td>\n",
       "      <td>0.172268</td>\n",
       "      <td>0.133416</td>\n",
       "      <td>0.170086</td>\n",
       "      <td>0.152497</td>\n",
       "      <td>0.317328</td>\n",
       "      <td>0.282003</td>\n",
       "      <td>0.175322</td>\n",
       "      <td>0.092497</td>\n",
       "      <td>0.212330</td>\n",
       "      <td>...</td>\n",
       "      <td>0.226440</td>\n",
       "      <td>0.073513</td>\n",
       "      <td>0.089588</td>\n",
       "      <td>0.129554</td>\n",
       "      <td>0.099385</td>\n",
       "      <td>0.043264</td>\n",
       "      <td>0.261376</td>\n",
       "      <td>0.101642</td>\n",
       "      <td>1.000000</td>\n",
       "      <td>0.182465</td>\n",
       "    </tr>\n",
       "    <tr>\n",
       "      <th>943</th>\n",
       "      <td>0.398175</td>\n",
       "      <td>0.105798</td>\n",
       "      <td>0.026556</td>\n",
       "      <td>0.058752</td>\n",
       "      <td>0.313941</td>\n",
       "      <td>0.276042</td>\n",
       "      <td>0.394364</td>\n",
       "      <td>0.299809</td>\n",
       "      <td>0.075617</td>\n",
       "      <td>0.221860</td>\n",
       "      <td>...</td>\n",
       "      <td>0.263791</td>\n",
       "      <td>0.210763</td>\n",
       "      <td>0.143253</td>\n",
       "      <td>0.077793</td>\n",
       "      <td>0.202244</td>\n",
       "      <td>0.144250</td>\n",
       "      <td>0.241028</td>\n",
       "      <td>0.095120</td>\n",
       "      <td>0.182465</td>\n",
       "      <td>1.000000</td>\n",
       "    </tr>\n",
       "  </tbody>\n",
       "</table>\n",
       "<p>943 rows × 943 columns</p>\n",
       "</div>"
      ],
      "text/plain": [
       "user_id       1         2         3         4         5         6         7    \\\n",
       "user_id                                                                         \n",
       "1        1.000000  0.166931  0.047460  0.064358  0.378475  0.430239  0.440367   \n",
       "2        0.166931  1.000000  0.110591  0.178121  0.072979  0.245843  0.107328   \n",
       "3        0.047460  0.110591  1.000000  0.344151  0.021245  0.072415  0.066137   \n",
       "4        0.064358  0.178121  0.344151  1.000000  0.031804  0.068044  0.091230   \n",
       "5        0.378475  0.072979  0.021245  0.031804  1.000000  0.237286  0.373600   \n",
       "...           ...       ...       ...       ...       ...       ...       ...   \n",
       "939      0.118095  0.228583  0.026271  0.030138  0.071459  0.111852  0.107027   \n",
       "940      0.314072  0.226790  0.161890  0.196858  0.239955  0.352449  0.329925   \n",
       "941      0.148617  0.161485  0.101243  0.152041  0.139595  0.144446  0.059993   \n",
       "942      0.179508  0.172268  0.133416  0.170086  0.152497  0.317328  0.282003   \n",
       "943      0.398175  0.105798  0.026556  0.058752  0.313941  0.276042  0.394364   \n",
       "\n",
       "user_id       8         9         10   ...       934       935       936  \\\n",
       "user_id                                ...                                 \n",
       "1        0.319072  0.078138  0.376544  ...  0.369527  0.119482  0.274876   \n",
       "2        0.103344  0.161048  0.159862  ...  0.156986  0.307942  0.358789   \n",
       "3        0.083060  0.061040  0.065151  ...  0.031875  0.042753  0.163829   \n",
       "4        0.188060  0.101284  0.060859  ...  0.052107  0.036784  0.133115   \n",
       "5        0.248930  0.056847  0.201427  ...  0.338794  0.080580  0.094924   \n",
       "...           ...       ...       ...  ...       ...       ...       ...   \n",
       "939      0.095898  0.039852  0.071460  ...  0.066039  0.431154  0.258021   \n",
       "940      0.246883  0.120495  0.342961  ...  0.327153  0.107024  0.187536   \n",
       "941      0.146145  0.143245  0.090305  ...  0.046952  0.203301  0.288318   \n",
       "942      0.175322  0.092497  0.212330  ...  0.226440  0.073513  0.089588   \n",
       "943      0.299809  0.075617  0.221860  ...  0.263791  0.210763  0.143253   \n",
       "\n",
       "user_id       937       938       939       940       941       942       943  \n",
       "user_id                                                                        \n",
       "1        0.189705  0.197326  0.118095  0.314072  0.148617  0.179508  0.398175  \n",
       "2        0.424046  0.319889  0.228583  0.226790  0.161485  0.172268  0.105798  \n",
       "3        0.069038  0.124245  0.026271  0.161890  0.101243  0.133416  0.026556  \n",
       "4        0.193471  0.146058  0.030138  0.196858  0.152041  0.170086  0.058752  \n",
       "5        0.079779  0.148607  0.071459  0.239955  0.139595  0.152497  0.313941  \n",
       "...           ...       ...       ...       ...       ...       ...       ...  \n",
       "939      0.226449  0.432666  1.000000  0.087687  0.180029  0.043264  0.144250  \n",
       "940      0.181317  0.175158  0.087687  1.000000  0.145152  0.261376  0.241028  \n",
       "941      0.234211  0.313400  0.180029  0.145152  1.000000  0.101642  0.095120  \n",
       "942      0.129554  0.099385  0.043264  0.261376  0.101642  1.000000  0.182465  \n",
       "943      0.077793  0.202244  0.144250  0.241028  0.095120  0.182465  1.000000  \n",
       "\n",
       "[943 rows x 943 columns]"
      ]
     },
     "execution_count": 45,
     "metadata": {},
     "output_type": "execute_result"
    }
   ],
   "source": [
    "# Compute cosine similarity between users.\n",
    "similar_users = cosine_similarity(ratings_matrix_filled)\n",
    "#Turn it to dataframe.\n",
    "similar_users = pd.DataFrame(user_similarity, index=ratings_matrix_filled.index, columns = ratings_matrix_filled.index)\n",
    "similar_users"
   ]
  },
  {
   "cell_type": "code",
   "execution_count": 107,
   "metadata": {},
   "outputs": [],
   "source": [
    "# Let's find the k-most similar users for each user\n",
    "# r = ratings_matrix_filled (the ratings matrix)\n",
    "# k = similar_users (the number of most similar users)\n",
    "\n",
    "r = ratings_matrix_filled\n",
    "k= similar_users\n",
    "\n",
    "def findKSimilar (r, k):\n",
    "    \n",
    "    # similarUsers is 2-D matrix\n",
    "    similarUsers=-1*np.ones((nUsers,k))\n",
    "    similarities=cosine_similarity(r)\n",
    "\n",
    "# for each user\n",
    "    \n",
    "    # find the indexes of all  users similar to i, by increasing value of similarity\n",
    "    for i in range(0, nUsers):\n",
    "        simUsersIdxs= np.argsort(similarities[:,i])\n",
    "        \n",
    "        l=0\n",
    "        #find its most similar users    \n",
    "        for j in range(simUsersIdxs.size-2, simUsersIdxs.size-1-k-1,-1):\n",
    "            print(simUsersIdxs[-k+1:],l)\n",
    "            similarUsers[i,l]=simUsersIdxs[j]\n",
    "            l=l+1\n",
    "            \n",
    "    return similarUsers, similarities"
   ]
  },
  {
   "cell_type": "code",
   "execution_count": null,
   "metadata": {},
   "outputs": [],
   "source": [
    "# Predict for 'userId', the rating of 'itemId'. \n",
    "# A trivial implementation of a collaboarative system\n",
    "#\n",
    "#'r': is the ratings matrix\n",
    "#'userId': is the userId, and \n",
    "#'itemID': is the item id    \n",
    "#'similarUsers': contains for each user his most similar users\n",
    "#'similarities': are th pairwise cosine similarities between the users\n",
    "# returns the prediction.     \n",
    "def predict(userId, itemId, r,similarUsers,similarities):\n",
    "\n",
    "    # number of neighbours to consider\n",
    "    nCols=similarUsers.shape[1]\n",
    "    \n",
    "    sum=0.0;\n",
    "    simSum=0.0;\n",
    "    for l in range(0,nCols):    \n",
    "        neighbor=int(similarUsers[userId, l])\n",
    "        #weighted sum\n",
    "        sum= sum+ r[neighbor,itemId]*similarities[neighbor,userId]\n",
    "        simSum = simSum + similarities[neighbor,userId]\n",
    "    \n",
    "    return  sum/simSum"
   ]
  },
  {
   "cell_type": "code",
   "execution_count": null,
   "metadata": {},
   "outputs": [
    {
     "name": "stdout",
     "output_type": "stream",
     "text": [
      "[0] 0\n",
      "[0] 1\n",
      "[1] 0\n",
      "[1] 1\n",
      "[2] 0\n",
      "[2] 1\n",
      "[3] 0\n",
      "[3] 1\n",
      "[4] 0\n",
      "[4] 1\n",
      "[5] 0\n",
      "[5] 1\n",
      "[6] 0\n",
      "[6] 1\n",
      "[7] 0\n",
      "[7] 1\n",
      "[8] 0\n",
      "[8] 1\n",
      "[9] 0\n",
      "[9] 1\n",
      "[10] 0\n",
      "[10] 1\n",
      "[11] 0\n",
      "[11] 1\n",
      "[12] 0\n",
      "[12] 1\n",
      "[13] 0\n",
      "[13] 1\n",
      "[14] 0\n",
      "[14] 1\n",
      "[15] 0\n",
      "[15] 1\n",
      "[16] 0\n",
      "[16] 1\n",
      "[17] 0\n",
      "[17] 1\n",
      "[18] 0\n",
      "[18] 1\n",
      "[19] 0\n",
      "[19] 1\n",
      "[20] 0\n",
      "[20] 1\n",
      "[21] 0\n",
      "[21] 1\n",
      "[22] 0\n",
      "[22] 1\n",
      "[23] 0\n",
      "[23] 1\n",
      "[24] 0\n",
      "[24] 1\n",
      "[25] 0\n",
      "[25] 1\n",
      "[26] 0\n",
      "[26] 1\n",
      "[27] 0\n",
      "[27] 1\n",
      "[28] 0\n",
      "[28] 1\n",
      "[29] 0\n",
      "[29] 1\n",
      "[30] 0\n",
      "[30] 1\n",
      "[31] 0\n",
      "[31] 1\n",
      "[32] 0\n",
      "[32] 1\n",
      "[33] 0\n",
      "[33] 1\n",
      "[34] 0\n",
      "[34] 1\n",
      "[35] 0\n",
      "[35] 1\n",
      "[36] 0\n",
      "[36] 1\n",
      "[37] 0\n",
      "[37] 1\n",
      "[38] 0\n",
      "[38] 1\n",
      "[39] 0\n",
      "[39] 1\n",
      "[40] 0\n",
      "[40] 1\n",
      "[41] 0\n",
      "[41] 1\n",
      "[42] 0\n",
      "[42] 1\n",
      "[43] 0\n",
      "[43] 1\n",
      "[44] 0\n",
      "[44] 1\n",
      "[45] 0\n",
      "[45] 1\n",
      "[46] 0\n",
      "[46] 1\n",
      "[47] 0\n",
      "[47] 1\n",
      "[48] 0\n",
      "[48] 1\n",
      "[49] 0\n",
      "[49] 1\n",
      "[50] 0\n",
      "[50] 1\n",
      "[51] 0\n",
      "[51] 1\n",
      "[52] 0\n",
      "[52] 1\n",
      "[53] 0\n",
      "[53] 1\n",
      "[54] 0\n",
      "[54] 1\n",
      "[55] 0\n",
      "[55] 1\n",
      "[56] 0\n",
      "[56] 1\n",
      "[57] 0\n",
      "[57] 1\n",
      "[58] 0\n",
      "[58] 1\n",
      "[59] 0\n",
      "[59] 1\n",
      "[60] 0\n",
      "[60] 1\n",
      "[61] 0\n",
      "[61] 1\n",
      "[62] 0\n",
      "[62] 1\n",
      "[63] 0\n",
      "[63] 1\n",
      "[64] 0\n",
      "[64] 1\n",
      "[65] 0\n",
      "[65] 1\n",
      "[66] 0\n",
      "[66] 1\n",
      "[67] 0\n",
      "[67] 1\n",
      "[68] 0\n",
      "[68] 1\n",
      "[69] 0\n",
      "[69] 1\n",
      "[70] 0\n",
      "[70] 1\n",
      "[71] 0\n",
      "[71] 1\n",
      "[72] 0\n",
      "[72] 1\n",
      "[73] 0\n",
      "[73] 1\n",
      "[74] 0\n",
      "[74] 1\n",
      "[75] 0\n",
      "[75] 1\n",
      "[76] 0\n",
      "[76] 1\n",
      "[77] 0\n",
      "[77] 1\n",
      "[78] 0\n",
      "[78] 1\n",
      "[79] 0\n",
      "[79] 1\n",
      "[80] 0\n",
      "[80] 1\n",
      "[81] 0\n",
      "[81] 1\n",
      "[82] 0\n",
      "[82] 1\n",
      "[83] 0\n",
      "[83] 1\n",
      "[84] 0\n",
      "[84] 1\n",
      "[85] 0\n",
      "[85] 1\n",
      "[86] 0\n",
      "[86] 1\n",
      "[87] 0\n",
      "[87] 1\n",
      "[88] 0\n",
      "[88] 1\n",
      "[89] 0\n",
      "[89] 1\n",
      "[90] 0\n",
      "[90] 1\n",
      "[91] 0\n",
      "[91] 1\n",
      "[92] 0\n",
      "[92] 1\n",
      "[93] 0\n",
      "[93] 1\n",
      "[94] 0\n",
      "[94] 1\n",
      "[95] 0\n",
      "[95] 1\n",
      "[96] 0\n",
      "[96] 1\n",
      "[97] 0\n",
      "[97] 1\n",
      "[98] 0\n",
      "[98] 1\n",
      "[99] 0\n",
      "[99] 1\n",
      "[100] 0\n",
      "[100] 1\n",
      "[101] 0\n",
      "[101] 1\n",
      "[102] 0\n",
      "[102] 1\n",
      "[103] 0\n",
      "[103] 1\n",
      "[104] 0\n",
      "[104] 1\n",
      "[105] 0\n",
      "[105] 1\n",
      "[106] 0\n",
      "[106] 1\n",
      "[107] 0\n",
      "[107] 1\n",
      "[108] 0\n",
      "[108] 1\n",
      "[109] 0\n",
      "[109] 1\n",
      "[110] 0\n",
      "[110] 1\n",
      "[111] 0\n",
      "[111] 1\n",
      "[112] 0\n",
      "[112] 1\n",
      "[113] 0\n",
      "[113] 1\n",
      "[114] 0\n",
      "[114] 1\n",
      "[115] 0\n",
      "[115] 1\n",
      "[116] 0\n",
      "[116] 1\n",
      "[117] 0\n",
      "[117] 1\n",
      "[118] 0\n",
      "[118] 1\n",
      "[119] 0\n",
      "[119] 1\n",
      "[120] 0\n",
      "[120] 1\n",
      "[121] 0\n",
      "[121] 1\n",
      "[122] 0\n",
      "[122] 1\n",
      "[123] 0\n",
      "[123] 1\n",
      "[124] 0\n",
      "[124] 1\n",
      "[125] 0\n",
      "[125] 1\n",
      "[126] 0\n",
      "[126] 1\n",
      "[127] 0\n",
      "[127] 1\n",
      "[128] 0\n",
      "[128] 1\n",
      "[129] 0\n",
      "[129] 1\n",
      "[130] 0\n",
      "[130] 1\n",
      "[131] 0\n",
      "[131] 1\n",
      "[132] 0\n",
      "[132] 1\n",
      "[133] 0\n",
      "[133] 1\n",
      "[134] 0\n",
      "[134] 1\n",
      "[135] 0\n",
      "[135] 1\n",
      "[136] 0\n",
      "[136] 1\n",
      "[137] 0\n",
      "[137] 1\n",
      "[138] 0\n",
      "[138] 1\n",
      "[139] 0\n",
      "[139] 1\n",
      "[140] 0\n",
      "[140] 1\n",
      "[141] 0\n",
      "[141] 1\n",
      "[142] 0\n",
      "[142] 1\n",
      "[143] 0\n",
      "[143] 1\n",
      "[144] 0\n",
      "[144] 1\n",
      "[145] 0\n",
      "[145] 1\n",
      "[146] 0\n",
      "[146] 1\n",
      "[147] 0\n",
      "[147] 1\n",
      "[148] 0\n",
      "[148] 1\n",
      "[149] 0\n",
      "[149] 1\n",
      "[150] 0\n",
      "[150] 1\n",
      "[151] 0\n",
      "[151] 1\n",
      "[152] 0\n",
      "[152] 1\n",
      "[153] 0\n",
      "[153] 1\n",
      "[154] 0\n",
      "[154] 1\n",
      "[155] 0\n",
      "[155] 1\n",
      "[156] 0\n",
      "[156] 1\n",
      "[157] 0\n",
      "[157] 1\n",
      "[158] 0\n",
      "[158] 1\n",
      "[159] 0\n",
      "[159] 1\n",
      "[160] 0\n",
      "[160] 1\n",
      "[161] 0\n",
      "[161] 1\n",
      "[162] 0\n",
      "[162] 1\n",
      "[163] 0\n",
      "[163] 1\n",
      "[164] 0\n",
      "[164] 1\n",
      "[165] 0\n",
      "[165] 1\n",
      "[166] 0\n",
      "[166] 1\n",
      "[167] 0\n",
      "[167] 1\n",
      "[168] 0\n",
      "[168] 1\n",
      "[169] 0\n",
      "[169] 1\n",
      "[170] 0\n",
      "[170] 1\n",
      "[171] 0\n",
      "[171] 1\n",
      "[172] 0\n",
      "[172] 1\n",
      "[173] 0\n",
      "[173] 1\n",
      "[174] 0\n",
      "[174] 1\n",
      "[175] 0\n",
      "[175] 1\n",
      "[176] 0\n",
      "[176] 1\n",
      "[177] 0\n",
      "[177] 1\n",
      "[178] 0\n",
      "[178] 1\n",
      "[179] 0\n",
      "[179] 1\n",
      "[180] 0\n",
      "[180] 1\n",
      "[181] 0\n",
      "[181] 1\n",
      "[182] 0\n",
      "[182] 1\n",
      "[183] 0\n",
      "[183] 1\n",
      "[184] 0\n",
      "[184] 1\n",
      "[185] 0\n",
      "[185] 1\n",
      "[186] 0\n",
      "[186] 1\n",
      "[187] 0\n",
      "[187] 1\n",
      "[188] 0\n",
      "[188] 1\n",
      "[189] 0\n",
      "[189] 1\n",
      "[190] 0\n",
      "[190] 1\n",
      "[191] 0\n",
      "[191] 1\n",
      "[192] 0\n",
      "[192] 1\n",
      "[193] 0\n",
      "[193] 1\n",
      "[194] 0\n",
      "[194] 1\n",
      "[195] 0\n",
      "[195] 1\n",
      "[196] 0\n",
      "[196] 1\n",
      "[197] 0\n",
      "[197] 1\n",
      "[198] 0\n",
      "[198] 1\n",
      "[199] 0\n",
      "[199] 1\n",
      "[200] 0\n",
      "[200] 1\n",
      "[201] 0\n",
      "[201] 1\n",
      "[202] 0\n",
      "[202] 1\n",
      "[203] 0\n",
      "[203] 1\n",
      "[204] 0\n",
      "[204] 1\n",
      "[205] 0\n",
      "[205] 1\n",
      "[206] 0\n",
      "[206] 1\n",
      "[207] 0\n",
      "[207] 1\n",
      "[208] 0\n",
      "[208] 1\n",
      "[209] 0\n",
      "[209] 1\n",
      "[210] 0\n",
      "[210] 1\n",
      "[211] 0\n",
      "[211] 1\n",
      "[212] 0\n",
      "[212] 1\n",
      "[213] 0\n",
      "[213] 1\n",
      "[214] 0\n",
      "[214] 1\n",
      "[215] 0\n",
      "[215] 1\n",
      "[216] 0\n",
      "[216] 1\n",
      "[217] 0\n",
      "[217] 1\n",
      "[218] 0\n",
      "[218] 1\n",
      "[219] 0\n",
      "[219] 1\n",
      "[220] 0\n",
      "[220] 1\n",
      "[221] 0\n",
      "[221] 1\n",
      "[222] 0\n",
      "[222] 1\n",
      "[223] 0\n",
      "[223] 1\n",
      "[224] 0\n",
      "[224] 1\n",
      "[225] 0\n",
      "[225] 1\n",
      "[226] 0\n",
      "[226] 1\n",
      "[227] 0\n",
      "[227] 1\n",
      "[228] 0\n",
      "[228] 1\n",
      "[229] 0\n",
      "[229] 1\n",
      "[230] 0\n",
      "[230] 1\n",
      "[231] 0\n",
      "[231] 1\n",
      "[232] 0\n",
      "[232] 1\n",
      "[233] 0\n",
      "[233] 1\n",
      "[234] 0\n",
      "[234] 1\n",
      "[235] 0\n",
      "[235] 1\n",
      "[236] 0\n",
      "[236] 1\n",
      "[237] 0\n",
      "[237] 1\n",
      "[238] 0\n",
      "[238] 1\n",
      "[239] 0\n",
      "[239] 1\n",
      "[240] 0\n",
      "[240] 1\n",
      "[241] 0\n",
      "[241] 1\n",
      "[242] 0\n",
      "[242] 1\n",
      "[243] 0\n",
      "[243] 1\n",
      "[244] 0\n",
      "[244] 1\n",
      "[245] 0\n",
      "[245] 1\n",
      "[246] 0\n",
      "[246] 1\n",
      "[247] 0\n",
      "[247] 1\n",
      "[248] 0\n",
      "[248] 1\n",
      "[249] 0\n",
      "[249] 1\n",
      "[250] 0\n",
      "[250] 1\n",
      "[251] 0\n",
      "[251] 1\n",
      "[252] 0\n",
      "[252] 1\n",
      "[253] 0\n",
      "[253] 1\n",
      "[254] 0\n",
      "[254] 1\n",
      "[255] 0\n",
      "[255] 1\n",
      "[256] 0\n",
      "[256] 1\n",
      "[257] 0\n",
      "[257] 1\n",
      "[258] 0\n",
      "[258] 1\n",
      "[259] 0\n",
      "[259] 1\n",
      "[260] 0\n",
      "[260] 1\n",
      "[261] 0\n",
      "[261] 1\n",
      "[262] 0\n",
      "[262] 1\n",
      "[263] 0\n",
      "[263] 1\n",
      "[264] 0\n",
      "[264] 1\n",
      "[265] 0\n",
      "[265] 1\n",
      "[266] 0\n",
      "[266] 1\n",
      "[267] 0\n",
      "[267] 1\n",
      "[268] 0\n",
      "[268] 1\n",
      "[269] 0\n",
      "[269] 1\n",
      "[270] 0\n",
      "[270] 1\n",
      "[271] 0\n",
      "[271] 1\n",
      "[272] 0\n",
      "[272] 1\n",
      "[273] 0\n",
      "[273] 1\n",
      "[274] 0\n",
      "[274] 1\n",
      "[275] 0\n",
      "[275] 1\n",
      "[276] 0\n",
      "[276] 1\n",
      "[277] 0\n",
      "[277] 1\n",
      "[278] 0\n",
      "[278] 1\n",
      "[279] 0\n",
      "[279] 1\n",
      "[280] 0\n",
      "[280] 1\n",
      "[281] 0\n",
      "[281] 1\n",
      "[282] 0\n",
      "[282] 1\n",
      "[283] 0\n",
      "[283] 1\n",
      "[284] 0\n",
      "[284] 1\n",
      "[285] 0\n",
      "[285] 1\n",
      "[286] 0\n",
      "[286] 1\n",
      "[287] 0\n",
      "[287] 1\n",
      "[288] 0\n",
      "[288] 1\n",
      "[289] 0\n",
      "[289] 1\n",
      "[290] 0\n",
      "[290] 1\n",
      "[291] 0\n",
      "[291] 1\n",
      "[292] 0\n",
      "[292] 1\n",
      "[293] 0\n",
      "[293] 1\n",
      "[294] 0\n",
      "[294] 1\n",
      "[295] 0\n",
      "[295] 1\n",
      "[296] 0\n",
      "[296] 1\n",
      "[297] 0\n",
      "[297] 1\n",
      "[298] 0\n",
      "[298] 1\n",
      "[299] 0\n",
      "[299] 1\n",
      "[300] 0\n",
      "[300] 1\n",
      "[301] 0\n",
      "[301] 1\n",
      "[302] 0\n",
      "[302] 1\n",
      "[303] 0\n",
      "[303] 1\n",
      "[304] 0\n",
      "[304] 1\n",
      "[305] 0\n",
      "[305] 1\n",
      "[306] 0\n",
      "[306] 1\n",
      "[307] 0\n",
      "[307] 1\n",
      "[308] 0\n",
      "[308] 1\n",
      "[309] 0\n",
      "[309] 1\n",
      "[310] 0\n",
      "[310] 1\n",
      "[311] 0\n",
      "[311] 1\n",
      "[312] 0\n",
      "[312] 1\n",
      "[313] 0\n",
      "[313] 1\n",
      "[314] 0\n",
      "[314] 1\n",
      "[315] 0\n",
      "[315] 1\n",
      "[316] 0\n",
      "[316] 1\n",
      "[317] 0\n",
      "[317] 1\n",
      "[318] 0\n",
      "[318] 1\n",
      "[319] 0\n",
      "[319] 1\n",
      "[320] 0\n",
      "[320] 1\n",
      "[321] 0\n",
      "[321] 1\n",
      "[322] 0\n",
      "[322] 1\n",
      "[323] 0\n",
      "[323] 1\n",
      "[324] 0\n",
      "[324] 1\n",
      "[325] 0\n",
      "[325] 1\n",
      "[326] 0\n",
      "[326] 1\n",
      "[327] 0\n",
      "[327] 1\n",
      "[328] 0\n",
      "[328] 1\n",
      "[329] 0\n",
      "[329] 1\n",
      "[330] 0\n",
      "[330] 1\n",
      "[331] 0\n",
      "[331] 1\n",
      "[332] 0\n",
      "[332] 1\n",
      "[333] 0\n",
      "[333] 1\n",
      "[334] 0\n",
      "[334] 1\n",
      "[335] 0\n",
      "[335] 1\n",
      "[336] 0\n",
      "[336] 1\n",
      "[337] 0\n",
      "[337] 1\n",
      "[338] 0\n",
      "[338] 1\n",
      "[339] 0\n",
      "[339] 1\n",
      "[340] 0\n",
      "[340] 1\n",
      "[341] 0\n",
      "[341] 1\n",
      "[342] 0\n",
      "[342] 1\n",
      "[343] 0\n",
      "[343] 1\n",
      "[344] 0\n",
      "[344] 1\n",
      "[345] 0\n",
      "[345] 1\n",
      "[346] 0\n",
      "[346] 1\n",
      "[347] 0\n",
      "[347] 1\n",
      "[348] 0\n",
      "[348] 1\n",
      "[349] 0\n",
      "[349] 1\n",
      "[350] 0\n",
      "[350] 1\n",
      "[351] 0\n",
      "[351] 1\n",
      "[352] 0\n",
      "[352] 1\n",
      "[353] 0\n",
      "[353] 1\n",
      "[354] 0\n",
      "[354] 1\n",
      "[355] 0\n",
      "[355] 1\n",
      "[356] 0\n",
      "[356] 1\n",
      "[357] 0\n",
      "[357] 1\n",
      "[358] 0\n",
      "[358] 1\n",
      "[359] 0\n",
      "[359] 1\n",
      "[360] 0\n",
      "[360] 1\n",
      "[361] 0\n",
      "[361] 1\n",
      "[362] 0\n",
      "[362] 1\n",
      "[363] 0\n",
      "[363] 1\n",
      "[364] 0\n",
      "[364] 1\n",
      "[365] 0\n",
      "[365] 1\n",
      "[366] 0\n",
      "[366] 1\n",
      "[367] 0\n",
      "[367] 1\n",
      "[368] 0\n",
      "[368] 1\n",
      "[369] 0\n",
      "[369] 1\n",
      "[370] 0\n",
      "[370] 1\n",
      "[371] 0\n",
      "[371] 1\n",
      "[372] 0\n",
      "[372] 1\n",
      "[373] 0\n",
      "[373] 1\n",
      "[374] 0\n",
      "[374] 1\n",
      "[375] 0\n",
      "[375] 1\n",
      "[376] 0\n",
      "[376] 1\n",
      "[377] 0\n",
      "[377] 1\n",
      "[378] 0\n",
      "[378] 1\n",
      "[379] 0\n",
      "[379] 1\n",
      "[380] 0\n",
      "[380] 1\n",
      "[381] 0\n",
      "[381] 1\n",
      "[382] 0\n",
      "[382] 1\n",
      "[383] 0\n",
      "[383] 1\n",
      "[384] 0\n",
      "[384] 1\n",
      "[385] 0\n",
      "[385] 1\n",
      "[386] 0\n",
      "[386] 1\n",
      "[387] 0\n",
      "[387] 1\n",
      "[388] 0\n",
      "[388] 1\n",
      "[389] 0\n",
      "[389] 1\n",
      "[390] 0\n",
      "[390] 1\n",
      "[391] 0\n",
      "[391] 1\n",
      "[392] 0\n",
      "[392] 1\n",
      "[393] 0\n",
      "[393] 1\n",
      "[394] 0\n",
      "[394] 1\n",
      "[395] 0\n",
      "[395] 1\n",
      "[396] 0\n",
      "[396] 1\n",
      "[397] 0\n",
      "[397] 1\n",
      "[398] 0\n",
      "[398] 1\n",
      "[399] 0\n",
      "[399] 1\n",
      "[400] 0\n",
      "[400] 1\n",
      "[401] 0\n",
      "[401] 1\n",
      "[402] 0\n",
      "[402] 1\n",
      "[403] 0\n",
      "[403] 1\n",
      "[404] 0\n",
      "[404] 1\n",
      "[405] 0\n",
      "[405] 1\n",
      "[406] 0\n",
      "[406] 1\n",
      "[407] 0\n",
      "[407] 1\n",
      "[408] 0\n",
      "[408] 1\n",
      "[409] 0\n",
      "[409] 1\n",
      "[410] 0\n",
      "[410] 1\n",
      "[411] 0\n",
      "[411] 1\n",
      "[412] 0\n",
      "[412] 1\n",
      "[413] 0\n",
      "[413] 1\n",
      "[414] 0\n",
      "[414] 1\n",
      "[415] 0\n",
      "[415] 1\n",
      "[416] 0\n",
      "[416] 1\n",
      "[417] 0\n",
      "[417] 1\n",
      "[418] 0\n",
      "[418] 1\n",
      "[419] 0\n",
      "[419] 1\n",
      "[420] 0\n",
      "[420] 1\n",
      "[421] 0\n",
      "[421] 1\n",
      "[422] 0\n",
      "[422] 1\n",
      "[423] 0\n",
      "[423] 1\n",
      "[424] 0\n",
      "[424] 1\n",
      "[425] 0\n",
      "[425] 1\n",
      "[426] 0\n",
      "[426] 1\n",
      "[427] 0\n",
      "[427] 1\n",
      "[428] 0\n",
      "[428] 1\n",
      "[429] 0\n",
      "[429] 1\n",
      "[430] 0\n",
      "[430] 1\n",
      "[431] 0\n",
      "[431] 1\n",
      "[432] 0\n",
      "[432] 1\n",
      "[433] 0\n",
      "[433] 1\n",
      "[434] 0\n",
      "[434] 1\n",
      "[435] 0\n",
      "[435] 1\n",
      "[436] 0\n",
      "[436] 1\n",
      "[437] 0\n",
      "[437] 1\n",
      "[438] 0\n",
      "[438] 1\n",
      "[439] 0\n",
      "[439] 1\n",
      "[440] 0\n",
      "[440] 1\n",
      "[441] 0\n",
      "[441] 1\n",
      "[442] 0\n",
      "[442] 1\n",
      "[443] 0\n",
      "[443] 1\n",
      "[444] 0\n",
      "[444] 1\n",
      "[445] 0\n",
      "[445] 1\n",
      "[446] 0\n",
      "[446] 1\n",
      "[447] 0\n",
      "[447] 1\n",
      "[448] 0\n",
      "[448] 1\n",
      "[449] 0\n",
      "[449] 1\n",
      "[450] 0\n",
      "[450] 1\n",
      "[451] 0\n",
      "[451] 1\n",
      "[452] 0\n",
      "[452] 1\n",
      "[453] 0\n",
      "[453] 1\n",
      "[454] 0\n",
      "[454] 1\n",
      "[455] 0\n",
      "[455] 1\n",
      "[456] 0\n",
      "[456] 1\n",
      "[457] 0\n",
      "[457] 1\n",
      "[458] 0\n",
      "[458] 1\n",
      "[459] 0\n",
      "[459] 1\n",
      "[460] 0\n",
      "[460] 1\n",
      "[461] 0\n",
      "[461] 1\n",
      "[462] 0\n",
      "[462] 1\n",
      "[463] 0\n",
      "[463] 1\n",
      "[464] 0\n",
      "[464] 1\n",
      "[465] 0\n",
      "[465] 1\n",
      "[466] 0\n",
      "[466] 1\n",
      "[467] 0\n",
      "[467] 1\n",
      "[468] 0\n",
      "[468] 1\n",
      "[469] 0\n",
      "[469] 1\n",
      "[470] 0\n",
      "[470] 1\n",
      "[471] 0\n",
      "[471] 1\n",
      "[472] 0\n",
      "[472] 1\n",
      "[473] 0\n",
      "[473] 1\n",
      "[474] 0\n",
      "[474] 1\n",
      "[475] 0\n",
      "[475] 1\n",
      "[476] 0\n",
      "[476] 1\n",
      "[477] 0\n",
      "[477] 1\n",
      "[478] 0\n",
      "[478] 1\n",
      "[479] 0\n",
      "[479] 1\n",
      "[480] 0\n",
      "[480] 1\n",
      "[481] 0\n",
      "[481] 1\n",
      "[482] 0\n",
      "[482] 1\n",
      "[483] 0\n",
      "[483] 1\n",
      "[484] 0\n",
      "[484] 1\n",
      "[485] 0\n",
      "[485] 1\n",
      "[486] 0\n",
      "[486] 1\n",
      "[487] 0\n",
      "[487] 1\n",
      "[488] 0\n",
      "[488] 1\n",
      "[489] 0\n",
      "[489] 1\n",
      "[490] 0\n",
      "[490] 1\n",
      "[491] 0\n",
      "[491] 1\n",
      "[492] 0\n",
      "[492] 1\n",
      "[493] 0\n",
      "[493] 1\n",
      "[494] 0\n",
      "[494] 1\n",
      "[495] 0\n",
      "[495] 1\n",
      "[496] 0\n",
      "[496] 1\n",
      "[497] 0\n",
      "[497] 1\n",
      "[498] 0\n",
      "[498] 1\n",
      "[499] 0\n",
      "[499] 1\n",
      "[500] 0\n",
      "[500] 1\n",
      "[501] 0\n",
      "[501] 1\n",
      "[502] 0\n",
      "[502] 1\n",
      "[503] 0\n",
      "[503] 1\n",
      "[504] 0\n",
      "[504] 1\n",
      "[505] 0\n",
      "[505] 1\n",
      "[506] 0\n",
      "[506] 1\n",
      "[507] 0\n",
      "[507] 1\n",
      "[508] 0\n",
      "[508] 1\n",
      "[509] 0\n",
      "[509] 1\n",
      "[510] 0\n",
      "[510] 1\n",
      "[511] 0\n",
      "[511] 1\n",
      "[512] 0\n",
      "[512] 1\n",
      "[513] 0\n",
      "[513] 1\n",
      "[514] 0\n",
      "[514] 1\n",
      "[515] 0\n",
      "[515] 1\n",
      "[516] 0\n",
      "[516] 1\n",
      "[517] 0\n",
      "[517] 1\n",
      "[518] 0\n",
      "[518] 1\n",
      "[519] 0\n",
      "[519] 1\n",
      "[520] 0\n",
      "[520] 1\n",
      "[521] 0\n",
      "[521] 1\n",
      "[522] 0\n",
      "[522] 1\n",
      "[523] 0\n",
      "[523] 1\n",
      "[524] 0\n",
      "[524] 1\n",
      "[525] 0\n",
      "[525] 1\n",
      "[526] 0\n",
      "[526] 1\n",
      "[527] 0\n",
      "[527] 1\n",
      "[528] 0\n",
      "[528] 1\n",
      "[529] 0\n",
      "[529] 1\n",
      "[530] 0\n",
      "[530] 1\n",
      "[531] 0\n",
      "[531] 1\n",
      "[532] 0\n",
      "[532] 1\n",
      "[533] 0\n",
      "[533] 1\n",
      "[534] 0\n",
      "[534] 1\n",
      "[535] 0\n",
      "[535] 1\n",
      "[536] 0\n",
      "[536] 1\n",
      "[537] 0\n",
      "[537] 1\n",
      "[538] 0\n",
      "[538] 1\n",
      "[539] 0\n",
      "[539] 1\n",
      "[540] 0\n",
      "[540] 1\n",
      "[541] 0\n",
      "[541] 1\n",
      "[542] 0\n",
      "[542] 1\n",
      "[543] 0\n",
      "[543] 1\n",
      "[544] 0\n",
      "[544] 1\n",
      "[545] 0\n",
      "[545] 1\n",
      "[546] 0\n",
      "[546] 1\n",
      "[547] 0\n",
      "[547] 1\n",
      "[548] 0\n",
      "[548] 1\n",
      "[549] 0\n",
      "[549] 1\n",
      "[550] 0\n",
      "[550] 1\n",
      "[551] 0\n",
      "[551] 1\n",
      "[552] 0\n",
      "[552] 1\n",
      "[553] 0\n",
      "[553] 1\n",
      "[554] 0\n",
      "[554] 1\n",
      "[555] 0\n",
      "[555] 1\n",
      "[556] 0\n",
      "[556] 1\n",
      "[557] 0\n",
      "[557] 1\n",
      "[558] 0\n",
      "[558] 1\n",
      "[559] 0\n",
      "[559] 1\n",
      "[560] 0\n",
      "[560] 1\n",
      "[561] 0\n",
      "[561] 1\n",
      "[562] 0\n",
      "[562] 1\n",
      "[563] 0\n",
      "[563] 1\n",
      "[564] 0\n",
      "[564] 1\n",
      "[565] 0\n",
      "[565] 1\n",
      "[566] 0\n",
      "[566] 1\n",
      "[567] 0\n",
      "[567] 1\n",
      "[568] 0\n",
      "[568] 1\n",
      "[569] 0\n",
      "[569] 1\n",
      "[570] 0\n",
      "[570] 1\n",
      "[571] 0\n",
      "[571] 1\n",
      "[572] 0\n",
      "[572] 1\n",
      "[573] 0\n",
      "[573] 1\n",
      "[574] 0\n",
      "[574] 1\n",
      "[575] 0\n",
      "[575] 1\n",
      "[576] 0\n",
      "[576] 1\n",
      "[577] 0\n",
      "[577] 1\n",
      "[578] 0\n",
      "[578] 1\n",
      "[579] 0\n",
      "[579] 1\n",
      "[580] 0\n",
      "[580] 1\n",
      "[581] 0\n",
      "[581] 1\n",
      "[582] 0\n",
      "[582] 1\n",
      "[583] 0\n",
      "[583] 1\n",
      "[584] 0\n",
      "[584] 1\n",
      "[585] 0\n",
      "[585] 1\n",
      "[586] 0\n",
      "[586] 1\n",
      "[587] 0\n",
      "[587] 1\n",
      "[588] 0\n",
      "[588] 1\n",
      "[589] 0\n",
      "[589] 1\n",
      "[590] 0\n",
      "[590] 1\n",
      "[591] 0\n",
      "[591] 1\n",
      "[592] 0\n",
      "[592] 1\n",
      "[593] 0\n",
      "[593] 1\n",
      "[594] 0\n",
      "[594] 1\n",
      "[595] 0\n",
      "[595] 1\n",
      "[596] 0\n",
      "[596] 1\n",
      "[597] 0\n",
      "[597] 1\n",
      "[598] 0\n",
      "[598] 1\n",
      "[599] 0\n",
      "[599] 1\n",
      "[600] 0\n",
      "[600] 1\n",
      "[601] 0\n",
      "[601] 1\n",
      "[602] 0\n",
      "[602] 1\n",
      "[603] 0\n",
      "[603] 1\n",
      "[604] 0\n",
      "[604] 1\n",
      "[605] 0\n",
      "[605] 1\n",
      "[606] 0\n",
      "[606] 1\n",
      "[607] 0\n",
      "[607] 1\n",
      "[608] 0\n",
      "[608] 1\n",
      "[609] 0\n",
      "[609] 1\n",
      "[610] 0\n",
      "[610] 1\n",
      "[611] 0\n",
      "[611] 1\n",
      "[612] 0\n",
      "[612] 1\n",
      "[613] 0\n",
      "[613] 1\n",
      "[614] 0\n",
      "[614] 1\n",
      "[615] 0\n",
      "[615] 1\n",
      "[616] 0\n",
      "[616] 1\n",
      "[617] 0\n",
      "[617] 1\n",
      "[618] 0\n",
      "[618] 1\n",
      "[619] 0\n",
      "[619] 1\n",
      "[620] 0\n",
      "[620] 1\n",
      "[621] 0\n",
      "[621] 1\n",
      "[622] 0\n",
      "[622] 1\n",
      "[623] 0\n",
      "[623] 1\n",
      "[624] 0\n",
      "[624] 1\n",
      "[625] 0\n",
      "[625] 1\n",
      "[626] 0\n",
      "[626] 1\n",
      "[627] 0\n",
      "[627] 1\n",
      "[628] 0\n",
      "[628] 1\n",
      "[629] 0\n",
      "[629] 1\n",
      "[630] 0\n",
      "[630] 1\n",
      "[631] 0\n",
      "[631] 1\n",
      "[632] 0\n",
      "[632] 1\n",
      "[633] 0\n",
      "[633] 1\n",
      "[634] 0\n",
      "[634] 1\n",
      "[635] 0\n",
      "[635] 1\n",
      "[636] 0\n",
      "[636] 1\n",
      "[637] 0\n",
      "[637] 1\n",
      "[638] 0\n",
      "[638] 1\n",
      "[639] 0\n",
      "[639] 1\n",
      "[640] 0\n",
      "[640] 1\n",
      "[641] 0\n",
      "[641] 1\n",
      "[642] 0\n",
      "[642] 1\n",
      "[643] 0\n",
      "[643] 1\n",
      "[644] 0\n",
      "[644] 1\n",
      "[645] 0\n",
      "[645] 1\n",
      "[646] 0\n",
      "[646] 1\n",
      "[647] 0\n",
      "[647] 1\n",
      "[648] 0\n",
      "[648] 1\n",
      "[649] 0\n",
      "[649] 1\n",
      "[650] 0\n",
      "[650] 1\n",
      "[651] 0\n",
      "[651] 1\n",
      "[652] 0\n",
      "[652] 1\n",
      "[653] 0\n",
      "[653] 1\n",
      "[654] 0\n",
      "[654] 1\n",
      "[655] 0\n",
      "[655] 1\n",
      "[656] 0\n",
      "[656] 1\n",
      "[657] 0\n",
      "[657] 1\n",
      "[658] 0\n",
      "[658] 1\n",
      "[659] 0\n",
      "[659] 1\n",
      "[660] 0\n",
      "[660] 1\n",
      "[661] 0\n",
      "[661] 1\n",
      "[662] 0\n",
      "[662] 1\n",
      "[663] 0\n",
      "[663] 1\n",
      "[664] 0\n",
      "[664] 1\n",
      "[665] 0\n",
      "[665] 1\n",
      "[666] 0\n",
      "[666] 1\n",
      "[667] 0\n",
      "[667] 1\n",
      "[668] 0\n",
      "[668] 1\n",
      "[669] 0\n",
      "[669] 1\n",
      "[670] 0\n",
      "[670] 1\n",
      "[671] 0\n",
      "[671] 1\n",
      "[672] 0\n",
      "[672] 1\n",
      "[673] 0\n",
      "[673] 1\n",
      "[674] 0\n",
      "[674] 1\n",
      "[675] 0\n",
      "[675] 1\n",
      "[676] 0\n",
      "[676] 1\n",
      "[677] 0\n",
      "[677] 1\n",
      "[678] 0\n",
      "[678] 1\n",
      "[679] 0\n",
      "[679] 1\n",
      "[680] 0\n",
      "[680] 1\n",
      "[681] 0\n",
      "[681] 1\n",
      "[682] 0\n",
      "[682] 1\n",
      "[683] 0\n",
      "[683] 1\n",
      "[684] 0\n",
      "[684] 1\n",
      "[685] 0\n",
      "[685] 1\n",
      "[686] 0\n",
      "[686] 1\n",
      "[687] 0\n",
      "[687] 1\n",
      "[688] 0\n",
      "[688] 1\n",
      "[689] 0\n",
      "[689] 1\n",
      "[690] 0\n",
      "[690] 1\n",
      "[691] 0\n",
      "[691] 1\n",
      "[692] 0\n",
      "[692] 1\n",
      "[693] 0\n",
      "[693] 1\n",
      "[694] 0\n",
      "[694] 1\n",
      "[695] 0\n",
      "[695] 1\n",
      "[696] 0\n",
      "[696] 1\n",
      "[697] 0\n",
      "[697] 1\n",
      "[698] 0\n",
      "[698] 1\n",
      "[699] 0\n",
      "[699] 1\n",
      "[700] 0\n",
      "[700] 1\n",
      "[701] 0\n",
      "[701] 1\n",
      "[702] 0\n",
      "[702] 1\n",
      "[703] 0\n",
      "[703] 1\n",
      "[704] 0\n",
      "[704] 1\n",
      "[705] 0\n",
      "[705] 1\n",
      "[706] 0\n",
      "[706] 1\n",
      "[707] 0\n",
      "[707] 1\n",
      "[708] 0\n",
      "[708] 1\n",
      "[709] 0\n",
      "[709] 1\n",
      "[710] 0\n",
      "[710] 1\n",
      "[711] 0\n",
      "[711] 1\n",
      "[712] 0\n",
      "[712] 1\n",
      "[713] 0\n",
      "[713] 1\n",
      "[714] 0\n",
      "[714] 1\n",
      "[715] 0\n",
      "[715] 1\n",
      "[716] 0\n",
      "[716] 1\n",
      "[717] 0\n",
      "[717] 1\n",
      "[718] 0\n",
      "[718] 1\n",
      "[719] 0\n",
      "[719] 1\n",
      "[720] 0\n",
      "[720] 1\n",
      "[721] 0\n",
      "[721] 1\n",
      "[722] 0\n",
      "[722] 1\n",
      "[723] 0\n",
      "[723] 1\n",
      "[724] 0\n",
      "[724] 1\n",
      "[725] 0\n",
      "[725] 1\n",
      "[726] 0\n",
      "[726] 1\n",
      "[727] 0\n",
      "[727] 1\n",
      "[728] 0\n",
      "[728] 1\n",
      "[729] 0\n",
      "[729] 1\n",
      "[730] 0\n",
      "[730] 1\n",
      "[731] 0\n",
      "[731] 1\n",
      "[732] 0\n",
      "[732] 1\n",
      "[733] 0\n",
      "[733] 1\n",
      "[734] 0\n",
      "[734] 1\n",
      "[735] 0\n",
      "[735] 1\n",
      "[736] 0\n",
      "[736] 1\n",
      "[737] 0\n",
      "[737] 1\n",
      "[738] 0\n",
      "[738] 1\n",
      "[739] 0\n",
      "[739] 1\n",
      "[740] 0\n",
      "[740] 1\n",
      "[741] 0\n",
      "[741] 1\n",
      "[742] 0\n",
      "[742] 1\n",
      "[743] 0\n",
      "[743] 1\n",
      "[744] 0\n",
      "[744] 1\n",
      "[745] 0\n",
      "[745] 1\n",
      "[746] 0\n",
      "[746] 1\n",
      "[747] 0\n",
      "[747] 1\n",
      "[748] 0\n",
      "[748] 1\n",
      "[749] 0\n",
      "[749] 1\n",
      "[750] 0\n",
      "[750] 1\n",
      "[751] 0\n",
      "[751] 1\n",
      "[752] 0\n",
      "[752] 1\n",
      "[753] 0\n",
      "[753] 1\n",
      "[754] 0\n",
      "[754] 1\n",
      "[755] 0\n",
      "[755] 1\n",
      "[756] 0\n",
      "[756] 1\n",
      "[757] 0\n",
      "[757] 1\n",
      "[758] 0\n",
      "[758] 1\n",
      "[759] 0\n",
      "[759] 1\n",
      "[760] 0\n",
      "[760] 1\n",
      "[761] 0\n",
      "[761] 1\n",
      "[762] 0\n",
      "[762] 1\n",
      "[763] 0\n",
      "[763] 1\n",
      "[764] 0\n",
      "[764] 1\n",
      "[765] 0\n",
      "[765] 1\n",
      "[766] 0\n",
      "[766] 1\n",
      "[767] 0\n",
      "[767] 1\n",
      "[768] 0\n",
      "[768] 1\n",
      "[769] 0\n",
      "[769] 1\n",
      "[770] 0\n",
      "[770] 1\n",
      "[771] 0\n",
      "[771] 1\n",
      "[772] 0\n",
      "[772] 1\n",
      "[773] 0\n",
      "[773] 1\n",
      "[774] 0\n",
      "[774] 1\n",
      "[775] 0\n",
      "[775] 1\n",
      "[776] 0\n",
      "[776] 1\n",
      "[777] 0\n",
      "[777] 1\n",
      "[778] 0\n",
      "[778] 1\n",
      "[779] 0\n",
      "[779] 1\n",
      "[780] 0\n",
      "[780] 1\n",
      "[781] 0\n",
      "[781] 1\n",
      "[782] 0\n",
      "[782] 1\n",
      "[783] 0\n",
      "[783] 1\n",
      "[784] 0\n",
      "[784] 1\n",
      "[785] 0\n",
      "[785] 1\n",
      "[786] 0\n",
      "[786] 1\n",
      "[787] 0\n",
      "[787] 1\n",
      "[788] 0\n",
      "[788] 1\n",
      "[789] 0\n",
      "[789] 1\n",
      "[790] 0\n",
      "[790] 1\n",
      "[791] 0\n",
      "[791] 1\n",
      "[792] 0\n",
      "[792] 1\n",
      "[793] 0\n",
      "[793] 1\n",
      "[794] 0\n",
      "[794] 1\n",
      "[795] 0\n",
      "[795] 1\n",
      "[796] 0\n",
      "[796] 1\n",
      "[797] 0\n",
      "[797] 1\n",
      "[798] 0\n",
      "[798] 1\n",
      "[799] 0\n",
      "[799] 1\n",
      "[800] 0\n",
      "[800] 1\n",
      "[801] 0\n",
      "[801] 1\n",
      "[802] 0\n",
      "[802] 1\n",
      "[803] 0\n",
      "[803] 1\n",
      "[804] 0\n",
      "[804] 1\n",
      "[805] 0\n",
      "[805] 1\n",
      "[806] 0\n",
      "[806] 1\n",
      "[807] 0\n",
      "[807] 1\n",
      "[808] 0\n",
      "[808] 1\n",
      "[809] 0\n",
      "[809] 1\n",
      "[810] 0\n",
      "[810] 1\n",
      "[811] 0\n",
      "[811] 1\n",
      "[812] 0\n",
      "[812] 1\n",
      "[813] 0\n",
      "[813] 1\n",
      "[814] 0\n",
      "[814] 1\n",
      "[815] 0\n",
      "[815] 1\n",
      "[816] 0\n",
      "[816] 1\n",
      "[817] 0\n",
      "[817] 1\n",
      "[818] 0\n",
      "[818] 1\n",
      "[819] 0\n",
      "[819] 1\n",
      "[820] 0\n",
      "[820] 1\n",
      "[821] 0\n",
      "[821] 1\n",
      "[822] 0\n",
      "[822] 1\n",
      "[823] 0\n",
      "[823] 1\n",
      "[824] 0\n",
      "[824] 1\n",
      "[825] 0\n",
      "[825] 1\n",
      "[826] 0\n",
      "[826] 1\n",
      "[827] 0\n",
      "[827] 1\n",
      "[828] 0\n",
      "[828] 1\n",
      "[829] 0\n",
      "[829] 1\n",
      "[830] 0\n",
      "[830] 1\n",
      "[831] 0\n",
      "[831] 1\n",
      "[832] 0\n",
      "[832] 1\n",
      "[833] 0\n",
      "[833] 1\n",
      "[834] 0\n",
      "[834] 1\n",
      "[835] 0\n",
      "[835] 1\n",
      "[836] 0\n",
      "[836] 1\n",
      "[837] 0\n",
      "[837] 1\n",
      "[838] 0\n",
      "[838] 1\n",
      "[839] 0\n",
      "[839] 1\n",
      "[840] 0\n",
      "[840] 1\n",
      "[841] 0\n",
      "[841] 1\n",
      "[842] 0\n",
      "[842] 1\n",
      "[843] 0\n",
      "[843] 1\n",
      "[844] 0\n",
      "[844] 1\n",
      "[845] 0\n",
      "[845] 1\n",
      "[846] 0\n",
      "[846] 1\n",
      "[847] 0\n",
      "[847] 1\n",
      "[848] 0\n",
      "[848] 1\n",
      "[849] 0\n",
      "[849] 1\n",
      "[850] 0\n",
      "[850] 1\n",
      "[851] 0\n",
      "[851] 1\n",
      "[852] 0\n",
      "[852] 1\n",
      "[853] 0\n",
      "[853] 1\n",
      "[854] 0\n",
      "[854] 1\n",
      "[855] 0\n",
      "[855] 1\n",
      "[856] 0\n",
      "[856] 1\n",
      "[857] 0\n",
      "[857] 1\n",
      "[858] 0\n",
      "[858] 1\n",
      "[859] 0\n",
      "[859] 1\n",
      "[860] 0\n",
      "[860] 1\n",
      "[861] 0\n",
      "[861] 1\n",
      "[862] 0\n",
      "[862] 1\n",
      "[863] 0\n",
      "[863] 1\n",
      "[864] 0\n",
      "[864] 1\n",
      "[865] 0\n",
      "[865] 1\n",
      "[866] 0\n",
      "[866] 1\n",
      "[867] 0\n",
      "[867] 1\n",
      "[868] 0\n",
      "[868] 1\n",
      "[869] 0\n",
      "[869] 1\n",
      "[870] 0\n",
      "[870] 1\n",
      "[871] 0\n",
      "[871] 1\n",
      "[872] 0\n",
      "[872] 1\n",
      "[873] 0\n",
      "[873] 1\n",
      "[874] 0\n",
      "[874] 1\n",
      "[875] 0\n",
      "[875] 1\n",
      "[876] 0\n",
      "[876] 1\n",
      "[877] 0\n",
      "[877] 1\n",
      "[878] 0\n",
      "[878] 1\n",
      "[879] 0\n",
      "[879] 1\n",
      "[880] 0\n",
      "[880] 1\n",
      "[881] 0\n",
      "[881] 1\n",
      "[882] 0\n",
      "[882] 1\n",
      "[883] 0\n",
      "[883] 1\n",
      "[884] 0\n",
      "[884] 1\n",
      "[885] 0\n",
      "[885] 1\n",
      "[886] 0\n",
      "[886] 1\n",
      "[887] 0\n",
      "[887] 1\n",
      "[888] 0\n",
      "[888] 1\n",
      "[889] 0\n",
      "[889] 1\n",
      "[890] 0\n",
      "[890] 1\n",
      "[891] 0\n",
      "[891] 1\n",
      "[892] 0\n",
      "[892] 1\n",
      "[893] 0\n",
      "[893] 1\n",
      "[894] 0\n",
      "[894] 1\n",
      "[895] 0\n",
      "[895] 1\n",
      "[896] 0\n",
      "[896] 1\n",
      "[897] 0\n",
      "[897] 1\n",
      "[898] 0\n",
      "[898] 1\n",
      "[899] 0\n",
      "[899] 1\n",
      "[900] 0\n",
      "[900] 1\n",
      "[901] 0\n",
      "[901] 1\n",
      "[902] 0\n",
      "[902] 1\n",
      "[903] 0\n",
      "[903] 1\n",
      "[904] 0\n",
      "[904] 1\n",
      "[905] 0\n",
      "[905] 1\n",
      "[906] 0\n",
      "[906] 1\n",
      "[907] 0\n",
      "[907] 1\n",
      "[908] 0\n",
      "[908] 1\n",
      "[909] 0\n",
      "[909] 1\n",
      "[910] 0\n",
      "[910] 1\n",
      "[911] 0\n",
      "[911] 1\n",
      "[912] 0\n",
      "[912] 1\n",
      "[913] 0\n",
      "[913] 1\n",
      "[914] 0\n",
      "[914] 1\n",
      "[915] 0\n",
      "[915] 1\n",
      "[916] 0\n",
      "[916] 1\n",
      "[917] 0\n",
      "[917] 1\n",
      "[918] 0\n",
      "[918] 1\n",
      "[919] 0\n",
      "[919] 1\n",
      "[920] 0\n",
      "[920] 1\n",
      "[921] 0\n",
      "[921] 1\n",
      "[922] 0\n",
      "[922] 1\n",
      "[923] 0\n",
      "[923] 1\n",
      "[924] 0\n",
      "[924] 1\n",
      "[925] 0\n",
      "[925] 1\n",
      "[926] 0\n",
      "[926] 1\n",
      "[927] 0\n",
      "[927] 1\n",
      "[928] 0\n",
      "[928] 1\n",
      "[929] 0\n",
      "[929] 1\n",
      "[930] 0\n",
      "[930] 1\n",
      "[931] 0\n",
      "[931] 1\n",
      "[932] 0\n",
      "[932] 1\n",
      "[933] 0\n",
      "[933] 1\n",
      "[934] 0\n",
      "[934] 1\n",
      "[935] 0\n",
      "[935] 1\n",
      "[936] 0\n",
      "[936] 1\n",
      "[937] 0\n",
      "[937] 1\n",
      "[938] 0\n",
      "[938] 1\n",
      "[939] 0\n",
      "[939] 1\n",
      "[940] 0\n",
      "[940] 1\n",
      "[941] 0\n",
      "[941] 1\n",
      "[942] 0\n",
      "[942] 1\n",
      "prediction 0.5785471004552437 real 0.38231745203150647\n"
     ]
    }
   ],
   "source": [
    "nUsers=943\n",
    "nItems=1682\n",
    "r=np.random.rand(nUsers, nItems)\n",
    "#r=np.array([[3,0,3,3],[5,4,0,2],[1,2,4,2],[2,2,0,1]])\n",
    "\n",
    "nRows=r.shape[0]\n",
    "nCols=r.shape[1]\n",
    "similarUsers, similarities=findKSimilar (r,2)\n",
    "\n",
    "userId=0\n",
    "itemId=0\n",
    "prediction=predict(userId,itemId,r, similarUsers, similarities)\n",
    "print ('prediction', prediction, 'real', r[userId,itemId])"
   ]
  },
  {
   "cell_type": "code",
   "execution_count": null,
   "metadata": {},
   "outputs": [],
   "source": []
  },
  {
   "cell_type": "code",
   "execution_count": null,
   "metadata": {},
   "outputs": [],
   "source": []
  }
 ],
 "metadata": {
  "kernelspec": {
   "display_name": "Python 3",
   "language": "python",
   "name": "python3"
  },
  "language_info": {
   "codemirror_mode": {
    "name": "ipython",
    "version": 3
   },
   "file_extension": ".py",
   "mimetype": "text/x-python",
   "name": "python",
   "nbconvert_exporter": "python",
   "pygments_lexer": "ipython3",
   "version": "3.12.1"
  }
 },
 "nbformat": 4,
 "nbformat_minor": 2
}
