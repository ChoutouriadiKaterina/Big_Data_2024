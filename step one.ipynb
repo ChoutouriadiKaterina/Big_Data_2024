{
 "cells": [
  {
   "cell_type": "code",
   "execution_count": 213,
   "metadata": {},
   "outputs": [],
   "source": [
    "#import the necessary libraries\n",
    "import pandas as pd\n",
    "import numpy as np\n",
    "import matplotlib.pyplot as plt\n",
    "from scipy.stats import zscore\n",
    "import statistics\n",
    "import seaborn as sns\n",
    "import random\n",
    "import numpy.linalg as la\n",
    "from sklearn.model_selection import train_test_split\n",
    "import plotly.express as px\n",
    "import matplotlib\n",
    "import matplotlib.pyplot as plt"
   ]
  },
  {
   "cell_type": "code",
   "execution_count": 214,
   "metadata": {},
   "outputs": [],
   "source": [
    "### Q1: Understanding the data-Exploration (Exploratory data analysis)"
   ]
  },
  {
   "cell_type": "code",
   "execution_count": 215,
   "metadata": {},
   "outputs": [],
   "source": [
    "#Ensures that any random values generated using the random method will be consistent every time the script runs\n",
    "#https://docs.python.org/3/library/random.html\n",
    "random.seed(42)\n",
    "np.random.seed(42)"
   ]
  },
  {
   "cell_type": "code",
   "execution_count": 216,
   "metadata": {},
   "outputs": [],
   "source": [
    "# Step 1: Load the MovieLens 100k dataset\n",
    "# Load data and label data as dataframe in ways that the user can make sense. Each file was investigated to find the separator\n",
    "#and the labels for the columns\n",
    "ratings = pd.read_csv('/workspaces/Big_Data_2024/ml-100k/u.data', sep='\\t', names=['user_id', 'item_id', 'rating', 'timestamp'])\n",
    "users = pd.read_csv('/workspaces/Big_Data_2024/ml-100k/u.user', sep='|', names=['user_id', 'age', 'gender', 'occupation', 'zip_code'])\n",
    "movies = pd.read_csv('/workspaces/Big_Data_2024/ml-100k/u.item', sep='|', encoding='latin-1', names=['movie_id', 'movie_title', 'release_date', 'video_release_date', 'IMDb_URL'] + [f'genre_{i}' for i in range(19)])\n",
    "occupation= pd.read_csv('/workspaces/Big_Data_2024/ml-100k/u.occupation', sep='|', names=['occupation_name'])\n",
    "infos= pd.read_csv('/workspaces/Big_Data_2024/ml-100k/u.info', sep='|', names=['number', 'info'])\n",
    "genre= pd.read_csv('/workspaces/Big_Data_2024/ml-100k/u.genre', sep='|', names=['movie_type', 'type_id'])\n",
    "test = pd.read_csv('/workspaces/Big_Data_2024/ml-100k/u1.test', sep='\\t', names=['user_id', 'item_id', 'rating', 'timestamp'])\n",
    "training = pd.read_csv('/workspaces/Big_Data_2024/ml-100k/u1.base', sep='\\t', names=['user_id', 'item_id', 'rating', 'timestamp'])"
   ]
  },
  {
   "cell_type": "code",
   "execution_count": 217,
   "metadata": {},
   "outputs": [
    {
     "name": "stdout",
     "output_type": "stream",
     "text": [
      "The datatype per column for movies is:\n",
      "<class 'pandas.core.frame.DataFrame'>\n",
      "RangeIndex: 1682 entries, 0 to 1681\n",
      "Data columns (total 24 columns):\n",
      " #   Column              Non-Null Count  Dtype  \n",
      "---  ------              --------------  -----  \n",
      " 0   movie_id            1682 non-null   int64  \n",
      " 1   movie_title         1682 non-null   object \n",
      " 2   release_date        1681 non-null   object \n",
      " 3   video_release_date  0 non-null      float64\n",
      " 4   IMDb_URL            1679 non-null   object \n",
      " 5   genre_0             1682 non-null   int64  \n",
      " 6   genre_1             1682 non-null   int64  \n",
      " 7   genre_2             1682 non-null   int64  \n",
      " 8   genre_3             1682 non-null   int64  \n",
      " 9   genre_4             1682 non-null   int64  \n",
      " 10  genre_5             1682 non-null   int64  \n",
      " 11  genre_6             1682 non-null   int64  \n",
      " 12  genre_7             1682 non-null   int64  \n",
      " 13  genre_8             1682 non-null   int64  \n",
      " 14  genre_9             1682 non-null   int64  \n",
      " 15  genre_10            1682 non-null   int64  \n",
      " 16  genre_11            1682 non-null   int64  \n",
      " 17  genre_12            1682 non-null   int64  \n",
      " 18  genre_13            1682 non-null   int64  \n",
      " 19  genre_14            1682 non-null   int64  \n",
      " 20  genre_15            1682 non-null   int64  \n",
      " 21  genre_16            1682 non-null   int64  \n",
      " 22  genre_17            1682 non-null   int64  \n",
      " 23  genre_18            1682 non-null   int64  \n",
      "dtypes: float64(1), int64(20), object(3)\n",
      "memory usage: 315.5+ KB\n",
      "\n",
      "The datatype per column for users is:\n",
      "<class 'pandas.core.frame.DataFrame'>\n",
      "RangeIndex: 943 entries, 0 to 942\n",
      "Data columns (total 5 columns):\n",
      " #   Column      Non-Null Count  Dtype \n",
      "---  ------      --------------  ----- \n",
      " 0   user_id     943 non-null    int64 \n",
      " 1   age         943 non-null    int64 \n",
      " 2   gender      943 non-null    object\n",
      " 3   occupation  943 non-null    object\n",
      " 4   zip_code    943 non-null    object\n",
      "dtypes: int64(2), object(3)\n",
      "memory usage: 37.0+ KB\n",
      "\n",
      "The datatype per column for ratings is:\n",
      "<class 'pandas.core.frame.DataFrame'>\n",
      "RangeIndex: 100000 entries, 0 to 99999\n",
      "Data columns (total 4 columns):\n",
      " #   Column     Non-Null Count   Dtype\n",
      "---  ------     --------------   -----\n",
      " 0   user_id    100000 non-null  int64\n",
      " 1   item_id    100000 non-null  int64\n",
      " 2   rating     100000 non-null  int64\n",
      " 3   timestamp  100000 non-null  int64\n",
      "dtypes: int64(4)\n",
      "memory usage: 3.1 MB\n"
     ]
    }
   ],
   "source": [
    "# Check if the datatypes are correct (we wanted to check if the dataset is consistent). \n",
    "# We chose not to proceed with casting/converting columns into a different type in this step.\n",
    "print(\"The datatype per column for movies is:\") \n",
    "movies.info() # e.g. release_date is type object and not date-type\n",
    "print()\n",
    "print(\"The datatype per column for users is:\") \n",
    "users.info()\n",
    "print()\n",
    "print(\"The datatype per column for ratings is:\") \n",
    "ratings.info()"
   ]
  },
  {
   "cell_type": "code",
   "execution_count": 218,
   "metadata": {},
   "outputs": [
    {
     "name": "stdout",
     "output_type": "stream",
     "text": [
      "There are 1686 zero values in movies which it's expected since the column video_release_date has no values.\n",
      "There are 0 zero values in users.\n",
      "There are 0 zero values in ratings.\n"
     ]
    }
   ],
   "source": [
    "# Check for NaN values in the key-data of our dataset.\n",
    "print(\"There are %s zero values in movies which it's expected since the column video_release_date has no values.\" %(movies.isnull().sum().sum()))\n",
    "print(\"There are %s zero values in users.\" %(users.isnull().sum().sum()))\n",
    "print(\"There are %s zero values in ratings.\" %(ratings.isnull().sum().sum()))\n",
    "\n",
    "# We also printed nulls per column as follows (the same result as the previous query but we were intesting to print the NaN values per column).\n",
    "#movies.isnull().sum()\n",
    "#users.isnull().sum()\n",
    "#ratings.isnull().sum() "
   ]
  },
  {
   "cell_type": "code",
   "execution_count": 219,
   "metadata": {},
   "outputs": [
    {
     "name": "stdout",
     "output_type": "stream",
     "text": [
      "There are 0 zero values in ratings.\n",
      "There are 0 zero values in users.\n",
      "There are 0 zero values in movies.\n"
     ]
    }
   ],
   "source": [
    "# Check for duplicates.\n",
    "print(\"There are %s zero values in ratings.\" %(ratings.duplicated().sum()))\n",
    "print(\"There are %s zero values in users.\" % (users.duplicated().sum()))\n",
    "print(\"There are %s zero values in movies.\" % (movies.duplicated().sum()))"
   ]
  },
  {
   "cell_type": "code",
   "execution_count": 220,
   "metadata": {},
   "outputs": [
    {
     "name": "stdout",
     "output_type": "stream",
     "text": [
      "There are 1664 unique movie titles and 18 duplicated titles.\n",
      "Each movie is rated with: [1, 2, 3, 4, 5] value. There is no zero rating.\n"
     ]
    }
   ],
   "source": [
    "# Check unique values for some key-fields.\n",
    "print(\"There are %s unique movie titles and %d duplicated titles.\" %(movies['movie_title'].nunique(), movies['movie_title'].duplicated().sum()))\n",
    "print(\"Each movie is rated with: %s value. There is no zero rating.\" % sorted(map(int, ratings['rating'].unique())))"
   ]
  },
  {
   "cell_type": "code",
   "execution_count": 221,
   "metadata": {},
   "outputs": [
    {
     "name": "stdout",
     "output_type": "stream",
     "text": [
      "Number of ratigs: 100000\n",
      "Number of unique movie_id's: 1682\n",
      "Number of unique users: 943\n",
      "Average number of ratings per user: 106.04\n",
      "Average number of ratings per movie: 59.45\n"
     ]
    }
   ],
   "source": [
    "# How many ratings are in the dataset.\n",
    "n_ratings = len(ratings)\n",
    "#How many movies are in the dataset.\n",
    "n_movies = ratings['item_id'].nunique()\n",
    "#How many users are in the dataset.\n",
    "n_users = ratings['user_id'].nunique()\n",
    "\n",
    "print(\"Number of ratigs: %s\" %(n_ratings))\n",
    "print(\"Number of unique movie_id's: %s\" %(n_movies))\n",
    "print(\"Number of unique users: %s\" %(n_users))\n",
    "print(\"Average number of ratings per user: %s\" %(round(n_ratings/n_users, 2)))\n",
    "print(\"Average number of ratings per movie: %s\" %(round(n_ratings/n_movies, 2)))"
   ]
  },
  {
   "cell_type": "code",
   "execution_count": 223,
   "metadata": {},
   "outputs": [
    {
     "data": {
      "text/html": [
       "<div>\n",
       "<style scoped>\n",
       "    .dataframe tbody tr th:only-of-type {\n",
       "        vertical-align: middle;\n",
       "    }\n",
       "\n",
       "    .dataframe tbody tr th {\n",
       "        vertical-align: top;\n",
       "    }\n",
       "\n",
       "    .dataframe thead th {\n",
       "        text-align: right;\n",
       "    }\n",
       "</style>\n",
       "<table border=\"1\" class=\"dataframe\">\n",
       "  <thead>\n",
       "    <tr style=\"text-align: right;\">\n",
       "      <th></th>\n",
       "      <th>movie_id</th>\n",
       "      <th>movie_title</th>\n",
       "      <th>release_date</th>\n",
       "      <th>video_release_date</th>\n",
       "      <th>IMDb_URL</th>\n",
       "      <th>genre_0</th>\n",
       "      <th>genre_1</th>\n",
       "      <th>genre_2</th>\n",
       "      <th>genre_3</th>\n",
       "      <th>genre_4</th>\n",
       "      <th>...</th>\n",
       "      <th>genre_9</th>\n",
       "      <th>genre_10</th>\n",
       "      <th>genre_11</th>\n",
       "      <th>genre_12</th>\n",
       "      <th>genre_13</th>\n",
       "      <th>genre_14</th>\n",
       "      <th>genre_15</th>\n",
       "      <th>genre_16</th>\n",
       "      <th>genre_17</th>\n",
       "      <th>genre_18</th>\n",
       "    </tr>\n",
       "  </thead>\n",
       "  <tbody>\n",
       "    <tr>\n",
       "      <th>0</th>\n",
       "      <td>1</td>\n",
       "      <td>Toy Story (1995)</td>\n",
       "      <td>01-Jan-1995</td>\n",
       "      <td>NaN</td>\n",
       "      <td>http://us.imdb.com/M/title-exact?Toy%20Story%2...</td>\n",
       "      <td>0</td>\n",
       "      <td>0</td>\n",
       "      <td>0</td>\n",
       "      <td>1</td>\n",
       "      <td>1</td>\n",
       "      <td>...</td>\n",
       "      <td>0</td>\n",
       "      <td>0</td>\n",
       "      <td>0</td>\n",
       "      <td>0</td>\n",
       "      <td>0</td>\n",
       "      <td>0</td>\n",
       "      <td>0</td>\n",
       "      <td>0</td>\n",
       "      <td>0</td>\n",
       "      <td>0</td>\n",
       "    </tr>\n",
       "    <tr>\n",
       "      <th>1</th>\n",
       "      <td>2</td>\n",
       "      <td>GoldenEye (1995)</td>\n",
       "      <td>01-Jan-1995</td>\n",
       "      <td>NaN</td>\n",
       "      <td>http://us.imdb.com/M/title-exact?GoldenEye%20(...</td>\n",
       "      <td>0</td>\n",
       "      <td>1</td>\n",
       "      <td>1</td>\n",
       "      <td>0</td>\n",
       "      <td>0</td>\n",
       "      <td>...</td>\n",
       "      <td>0</td>\n",
       "      <td>0</td>\n",
       "      <td>0</td>\n",
       "      <td>0</td>\n",
       "      <td>0</td>\n",
       "      <td>0</td>\n",
       "      <td>0</td>\n",
       "      <td>1</td>\n",
       "      <td>0</td>\n",
       "      <td>0</td>\n",
       "    </tr>\n",
       "    <tr>\n",
       "      <th>2</th>\n",
       "      <td>3</td>\n",
       "      <td>Four Rooms (1995)</td>\n",
       "      <td>01-Jan-1995</td>\n",
       "      <td>NaN</td>\n",
       "      <td>http://us.imdb.com/M/title-exact?Four%20Rooms%...</td>\n",
       "      <td>0</td>\n",
       "      <td>0</td>\n",
       "      <td>0</td>\n",
       "      <td>0</td>\n",
       "      <td>0</td>\n",
       "      <td>...</td>\n",
       "      <td>0</td>\n",
       "      <td>0</td>\n",
       "      <td>0</td>\n",
       "      <td>0</td>\n",
       "      <td>0</td>\n",
       "      <td>0</td>\n",
       "      <td>0</td>\n",
       "      <td>1</td>\n",
       "      <td>0</td>\n",
       "      <td>0</td>\n",
       "    </tr>\n",
       "    <tr>\n",
       "      <th>3</th>\n",
       "      <td>4</td>\n",
       "      <td>Get Shorty (1995)</td>\n",
       "      <td>01-Jan-1995</td>\n",
       "      <td>NaN</td>\n",
       "      <td>http://us.imdb.com/M/title-exact?Get%20Shorty%...</td>\n",
       "      <td>0</td>\n",
       "      <td>1</td>\n",
       "      <td>0</td>\n",
       "      <td>0</td>\n",
       "      <td>0</td>\n",
       "      <td>...</td>\n",
       "      <td>0</td>\n",
       "      <td>0</td>\n",
       "      <td>0</td>\n",
       "      <td>0</td>\n",
       "      <td>0</td>\n",
       "      <td>0</td>\n",
       "      <td>0</td>\n",
       "      <td>0</td>\n",
       "      <td>0</td>\n",
       "      <td>0</td>\n",
       "    </tr>\n",
       "    <tr>\n",
       "      <th>4</th>\n",
       "      <td>5</td>\n",
       "      <td>Copycat (1995)</td>\n",
       "      <td>01-Jan-1995</td>\n",
       "      <td>NaN</td>\n",
       "      <td>http://us.imdb.com/M/title-exact?Copycat%20(1995)</td>\n",
       "      <td>0</td>\n",
       "      <td>0</td>\n",
       "      <td>0</td>\n",
       "      <td>0</td>\n",
       "      <td>0</td>\n",
       "      <td>...</td>\n",
       "      <td>0</td>\n",
       "      <td>0</td>\n",
       "      <td>0</td>\n",
       "      <td>0</td>\n",
       "      <td>0</td>\n",
       "      <td>0</td>\n",
       "      <td>0</td>\n",
       "      <td>1</td>\n",
       "      <td>0</td>\n",
       "      <td>0</td>\n",
       "    </tr>\n",
       "    <tr>\n",
       "      <th>...</th>\n",
       "      <td>...</td>\n",
       "      <td>...</td>\n",
       "      <td>...</td>\n",
       "      <td>...</td>\n",
       "      <td>...</td>\n",
       "      <td>...</td>\n",
       "      <td>...</td>\n",
       "      <td>...</td>\n",
       "      <td>...</td>\n",
       "      <td>...</td>\n",
       "      <td>...</td>\n",
       "      <td>...</td>\n",
       "      <td>...</td>\n",
       "      <td>...</td>\n",
       "      <td>...</td>\n",
       "      <td>...</td>\n",
       "      <td>...</td>\n",
       "      <td>...</td>\n",
       "      <td>...</td>\n",
       "      <td>...</td>\n",
       "      <td>...</td>\n",
       "    </tr>\n",
       "    <tr>\n",
       "      <th>1677</th>\n",
       "      <td>1678</td>\n",
       "      <td>Mat' i syn (1997)</td>\n",
       "      <td>06-Feb-1998</td>\n",
       "      <td>NaN</td>\n",
       "      <td>http://us.imdb.com/M/title-exact?Mat%27+i+syn+...</td>\n",
       "      <td>0</td>\n",
       "      <td>0</td>\n",
       "      <td>0</td>\n",
       "      <td>0</td>\n",
       "      <td>0</td>\n",
       "      <td>...</td>\n",
       "      <td>0</td>\n",
       "      <td>0</td>\n",
       "      <td>0</td>\n",
       "      <td>0</td>\n",
       "      <td>0</td>\n",
       "      <td>0</td>\n",
       "      <td>0</td>\n",
       "      <td>0</td>\n",
       "      <td>0</td>\n",
       "      <td>0</td>\n",
       "    </tr>\n",
       "    <tr>\n",
       "      <th>1678</th>\n",
       "      <td>1679</td>\n",
       "      <td>B. Monkey (1998)</td>\n",
       "      <td>06-Feb-1998</td>\n",
       "      <td>NaN</td>\n",
       "      <td>http://us.imdb.com/M/title-exact?B%2E+Monkey+(...</td>\n",
       "      <td>0</td>\n",
       "      <td>0</td>\n",
       "      <td>0</td>\n",
       "      <td>0</td>\n",
       "      <td>0</td>\n",
       "      <td>...</td>\n",
       "      <td>0</td>\n",
       "      <td>0</td>\n",
       "      <td>0</td>\n",
       "      <td>0</td>\n",
       "      <td>0</td>\n",
       "      <td>1</td>\n",
       "      <td>0</td>\n",
       "      <td>1</td>\n",
       "      <td>0</td>\n",
       "      <td>0</td>\n",
       "    </tr>\n",
       "    <tr>\n",
       "      <th>1679</th>\n",
       "      <td>1680</td>\n",
       "      <td>Sliding Doors (1998)</td>\n",
       "      <td>01-Jan-1998</td>\n",
       "      <td>NaN</td>\n",
       "      <td>http://us.imdb.com/Title?Sliding+Doors+(1998)</td>\n",
       "      <td>0</td>\n",
       "      <td>0</td>\n",
       "      <td>0</td>\n",
       "      <td>0</td>\n",
       "      <td>0</td>\n",
       "      <td>...</td>\n",
       "      <td>0</td>\n",
       "      <td>0</td>\n",
       "      <td>0</td>\n",
       "      <td>0</td>\n",
       "      <td>0</td>\n",
       "      <td>1</td>\n",
       "      <td>0</td>\n",
       "      <td>0</td>\n",
       "      <td>0</td>\n",
       "      <td>0</td>\n",
       "    </tr>\n",
       "    <tr>\n",
       "      <th>1680</th>\n",
       "      <td>1681</td>\n",
       "      <td>You So Crazy (1994)</td>\n",
       "      <td>01-Jan-1994</td>\n",
       "      <td>NaN</td>\n",
       "      <td>http://us.imdb.com/M/title-exact?You%20So%20Cr...</td>\n",
       "      <td>0</td>\n",
       "      <td>0</td>\n",
       "      <td>0</td>\n",
       "      <td>0</td>\n",
       "      <td>0</td>\n",
       "      <td>...</td>\n",
       "      <td>0</td>\n",
       "      <td>0</td>\n",
       "      <td>0</td>\n",
       "      <td>0</td>\n",
       "      <td>0</td>\n",
       "      <td>0</td>\n",
       "      <td>0</td>\n",
       "      <td>0</td>\n",
       "      <td>0</td>\n",
       "      <td>0</td>\n",
       "    </tr>\n",
       "    <tr>\n",
       "      <th>1681</th>\n",
       "      <td>1682</td>\n",
       "      <td>Scream of Stone (Schrei aus Stein) (1991)</td>\n",
       "      <td>08-Mar-1996</td>\n",
       "      <td>NaN</td>\n",
       "      <td>http://us.imdb.com/M/title-exact?Schrei%20aus%...</td>\n",
       "      <td>0</td>\n",
       "      <td>0</td>\n",
       "      <td>0</td>\n",
       "      <td>0</td>\n",
       "      <td>0</td>\n",
       "      <td>...</td>\n",
       "      <td>0</td>\n",
       "      <td>0</td>\n",
       "      <td>0</td>\n",
       "      <td>0</td>\n",
       "      <td>0</td>\n",
       "      <td>0</td>\n",
       "      <td>0</td>\n",
       "      <td>0</td>\n",
       "      <td>0</td>\n",
       "      <td>0</td>\n",
       "    </tr>\n",
       "  </tbody>\n",
       "</table>\n",
       "<p>1682 rows × 24 columns</p>\n",
       "</div>"
      ],
      "text/plain": [
       "      movie_id                                movie_title release_date  \\\n",
       "0            1                           Toy Story (1995)  01-Jan-1995   \n",
       "1            2                           GoldenEye (1995)  01-Jan-1995   \n",
       "2            3                          Four Rooms (1995)  01-Jan-1995   \n",
       "3            4                          Get Shorty (1995)  01-Jan-1995   \n",
       "4            5                             Copycat (1995)  01-Jan-1995   \n",
       "...        ...                                        ...          ...   \n",
       "1677      1678                          Mat' i syn (1997)  06-Feb-1998   \n",
       "1678      1679                           B. Monkey (1998)  06-Feb-1998   \n",
       "1679      1680                       Sliding Doors (1998)  01-Jan-1998   \n",
       "1680      1681                        You So Crazy (1994)  01-Jan-1994   \n",
       "1681      1682  Scream of Stone (Schrei aus Stein) (1991)  08-Mar-1996   \n",
       "\n",
       "      video_release_date                                           IMDb_URL  \\\n",
       "0                    NaN  http://us.imdb.com/M/title-exact?Toy%20Story%2...   \n",
       "1                    NaN  http://us.imdb.com/M/title-exact?GoldenEye%20(...   \n",
       "2                    NaN  http://us.imdb.com/M/title-exact?Four%20Rooms%...   \n",
       "3                    NaN  http://us.imdb.com/M/title-exact?Get%20Shorty%...   \n",
       "4                    NaN  http://us.imdb.com/M/title-exact?Copycat%20(1995)   \n",
       "...                  ...                                                ...   \n",
       "1677                 NaN  http://us.imdb.com/M/title-exact?Mat%27+i+syn+...   \n",
       "1678                 NaN  http://us.imdb.com/M/title-exact?B%2E+Monkey+(...   \n",
       "1679                 NaN      http://us.imdb.com/Title?Sliding+Doors+(1998)   \n",
       "1680                 NaN  http://us.imdb.com/M/title-exact?You%20So%20Cr...   \n",
       "1681                 NaN  http://us.imdb.com/M/title-exact?Schrei%20aus%...   \n",
       "\n",
       "      genre_0  genre_1  genre_2  genre_3  genre_4  ...  genre_9  genre_10  \\\n",
       "0           0        0        0        1        1  ...        0         0   \n",
       "1           0        1        1        0        0  ...        0         0   \n",
       "2           0        0        0        0        0  ...        0         0   \n",
       "3           0        1        0        0        0  ...        0         0   \n",
       "4           0        0        0        0        0  ...        0         0   \n",
       "...       ...      ...      ...      ...      ...  ...      ...       ...   \n",
       "1677        0        0        0        0        0  ...        0         0   \n",
       "1678        0        0        0        0        0  ...        0         0   \n",
       "1679        0        0        0        0        0  ...        0         0   \n",
       "1680        0        0        0        0        0  ...        0         0   \n",
       "1681        0        0        0        0        0  ...        0         0   \n",
       "\n",
       "      genre_11  genre_12  genre_13  genre_14  genre_15  genre_16  genre_17  \\\n",
       "0            0         0         0         0         0         0         0   \n",
       "1            0         0         0         0         0         1         0   \n",
       "2            0         0         0         0         0         1         0   \n",
       "3            0         0         0         0         0         0         0   \n",
       "4            0         0         0         0         0         1         0   \n",
       "...        ...       ...       ...       ...       ...       ...       ...   \n",
       "1677         0         0         0         0         0         0         0   \n",
       "1678         0         0         0         1         0         1         0   \n",
       "1679         0         0         0         1         0         0         0   \n",
       "1680         0         0         0         0         0         0         0   \n",
       "1681         0         0         0         0         0         0         0   \n",
       "\n",
       "      genre_18  \n",
       "0            0  \n",
       "1            0  \n",
       "2            0  \n",
       "3            0  \n",
       "4            0  \n",
       "...        ...  \n",
       "1677         0  \n",
       "1678         0  \n",
       "1679         0  \n",
       "1680         0  \n",
       "1681         0  \n",
       "\n",
       "[1682 rows x 24 columns]"
      ]
     },
     "execution_count": 223,
     "metadata": {},
     "output_type": "execute_result"
    }
   ],
   "source": [
    "movies"
   ]
  },
  {
   "cell_type": "code",
   "execution_count": 226,
   "metadata": {},
   "outputs": [
    {
     "data": {
      "text/plain": [
       "array(['genre_8', 'genre_5', 'genre_1', 'genre_16', 'genre_14', 'genre_2'],\n",
       "      dtype=object)"
      ]
     },
     "execution_count": 226,
     "metadata": {},
     "output_type": "execute_result"
    }
   ],
   "source": [
    "# Let's see the top 6 genres by the total number of movies\n",
    "top6_genre = (movies.iloc[:, 6:-1] # get the genre columns only\n",
    "              .sum() # sum them up\n",
    "              .sort_values(ascending=False) # sort descending\n",
    "              .head(6) # get the first 6\n",
    "              .index.values # get the genre names\n",
    "              )\n",
    "    \n",
    "top6_genre"
   ]
  },
  {
   "cell_type": "code",
   "execution_count": null,
   "metadata": {},
   "outputs": [
    {
     "data": {
      "image/png": "[encoded data removed]",
      "text/plain": [
       "<Figure size 640x480 with 1 Axes>"
      ]
     },
     "metadata": {},
     "output_type": "display_data"
    }
   ],
   "source": [
    "#Step 2\n",
    "# Basic Descriptive Statistics\n",
    "# Plot number of movies seen by each user\n",
    "user_movie_counts = ratings['user_id'].value_counts().head(25)\n",
    "# head(25) to plot the top 25, because the chart was too crowded, this shows us the top users\n",
    "plt.figure()\n",
    "user_movie_counts.plot(kind='bar')\n",
    "plt.xlabel('User ID')\n",
    "plt.ylabel('Number of Movies Rated')\n",
    "plt.title('Number of Movies Rated by Each User')\n",
    "plt.show()"
   ]
  },
  {
   "cell_type": "code",
   "execution_count": null,
   "metadata": {},
   "outputs": [
    {
     "data": {
      "image/png": "[encoded data removed]",
      "text/plain": [
       "<Figure size 640x480 with 1 Axes>"
      ]
     },
     "metadata": {},
     "output_type": "display_data"
    }
   ],
   "source": [
    "# Plot the frequency of each rating\n",
    "rating_counts = ratings['rating'].value_counts().sort_index()\n",
    "plt.figure()\n",
    "rating_counts.plot(kind='bar')\n",
    "plt.xlabel('Rating')\n",
    "plt.ylabel('Frequency')\n",
    "plt.title('Frequency of Each Rating')\n",
    "plt.show()"
   ]
  },
  {
   "cell_type": "code",
   "execution_count": null,
   "metadata": {},
   "outputs": [
    {
     "data": {
      "image/png": "[encoded data removed]",
      "text/plain": [
       "<Figure size 640x480 with 1 Axes>"
      ]
     },
     "metadata": {},
     "output_type": "display_data"
    }
   ],
   "source": [
    "#Να το κάνουμε λίγο πιο όμορφο?(Άξονας x)\n",
    "#Let's check the distribution of movie ratings.\n",
    "sns.countplot(x='rating', data=ratings)\n",
    "plt.title('Distribution of Movie Ratings', fontsize = 14)\n",
    "plt.show()"
   ]
  },
  {
   "cell_type": "code",
   "execution_count": null,
   "metadata": {},
   "outputs": [
    {
     "name": "stdout",
     "output_type": "stream",
     "text": [
      "            Statistic  Movies Rated by User\n",
      "0                Mean                 106.0\n",
      "1              Median                  65.0\n",
      "2        Top Quartile                 148.0\n",
      "3  Standard Deviation                 100.9\n",
      "4             Minimum                 737.0\n",
      "5             Maximum                  20.0\n",
      "The percentage of users that have rated less than or equal to 257 movies is: 90.67%\n"
     ]
    }
   ],
   "source": [
    "#More descriptive statistics of the data sets, to understand the spread of the data further and make an informed decision\n",
    "#on the outliers\n",
    "\n",
    "# Mean, median, and standard deviation of movies seen by each user\n",
    "#count of the number of time each unique user id appears in column \n",
    "user_movie_counts = ratings['user_id'].value_counts()\n",
    "#statistics of the user movie counts\n",
    "mean_movies_rated = user_movie_counts.mean()\n",
    "median_movies_rated = user_movie_counts.median()\n",
    "std_movies_rated = user_movie_counts.std()\n",
    "Q3_movies_rated = user_movie_counts.quantile(0.75)\n",
    "# Largest (maximum) number of movies rated by a user\n",
    "max_movies_rated = user_movie_counts.max()\n",
    "# Smallest (minimum) number of movies rated by a user\n",
    "min_movies_rated = user_movie_counts.min()\n",
    "\n",
    "# Creating a summary table to visualize the results\n",
    "summary_table = pd.DataFrame({\n",
    "    'Statistic': ['Mean', 'Median', 'Top Quartile','Standard Deviation', 'Minimum', 'Maximum'],\n",
    "    'Movies Rated by User': [mean_movies_rated, median_movies_rated, Q3_movies_rated, std_movies_rated, max_movies_rated, min_movies_rated]\n",
    "})\n",
    "\n",
    "# Display the table\n",
    "print(summary_table.round(1))\n",
    "\n",
    "from scipy.stats import percentileofscore\n",
    "#We want to see what percentage of the values are above 1.5 standard deviations of the mean which is 106 + 151.35. round to nearest whole number\n",
    "value = 257\n",
    "# Calculate the percentile of this value within the distribution of movie counts\n",
    "percentile = percentileofscore(user_movie_counts, value, kind='rank')\n",
    "\n",
    "#####change the print syntax to be simpler\n",
    "print(f\"The percentage of users that have rated less than or equal to 257 movies is: {percentile.round(2)}%\")"
   ]
  },
  {
   "cell_type": "code",
   "execution_count": null,
   "metadata": {},
   "outputs": [
    {
     "name": "stdout",
     "output_type": "stream",
     "text": [
      "Mean global rating: 3.53\n",
      "Mean rating per user: rating    3.59\n",
      "dtype: float64\n"
     ]
    }
   ],
   "source": [
    "#Να το κάνουμε λίγο πιο καθαρό?\n",
    "#Μean global rating.\n",
    "print(\"Mean global rating: %s\" %(round(ratings['rating'].mean(), 2)))\n",
    "#Mean rating per user.\n",
    "mean_rating = ratings.groupby('user_id')[['rating']].mean()\n",
    "print(\"Mean rating per user: %s\" %(round(mean_rating.mean(), 2)))"
   ]
  },
  {
   "cell_type": "code",
   "execution_count": null,
   "metadata": {},
   "outputs": [
    {
     "name": "stdout",
     "output_type": "stream",
     "text": [
      "            Statistic  Ratings Received for Each Movie\n",
      "0                Mean                             59.5\n",
      "1              Median                             27.0\n",
      "2        Top Quartile                             80.0\n",
      "3  Standard Deviation                             80.4\n",
      "4             Minimum                            583.0\n",
      "5             Maximum                              1.0\n",
      "The percentage of movies that have been rated less than or equal to 180 times is: 91.8%\n"
     ]
    }
   ],
   "source": [
    "#More descriptive statistics of the data sets, to understand the spread of the data further and make an informed decision\n",
    "#on the outliers\n",
    "\n",
    "# Mean, median, and standard deviation of ratings recieved for each movie\n",
    "#count of the number of time each movie (item) appears in column \n",
    "movie_rating_counts = ratings['item_id'].value_counts()\n",
    "#statistics of the movie ratings counts\n",
    "mean_ratings_received = movie_rating_counts.mean()\n",
    "median_ratings_received = movie_rating_counts.median()\n",
    "std_ratings_received = movie_rating_counts.std()\n",
    "Q3_ratings_received = movie_rating_counts.quantile(0.75)\n",
    "# Largest (maximum) number of ratings for a movie\n",
    "max_ratings_received = movie_rating_counts.max()\n",
    "# Smallest (minimum) number of ratings for a movie\n",
    "min_ratings_received = movie_rating_counts.min()\n",
    "\n",
    "# Creating a summary table to visualize the results\n",
    "summary_table2 = pd.DataFrame({\n",
    "    'Statistic': ['Mean', 'Median', 'Top Quartile','Standard Deviation', 'Minimum', 'Maximum'],\n",
    "    'Ratings Received for Each Movie': [mean_ratings_received, median_ratings_received, Q3_ratings_received, std_ratings_received, max_ratings_received, min_ratings_received]\n",
    "})\n",
    "\n",
    "# Display the table\n",
    "print(summary_table2.round(1))\n",
    "\n",
    "#We want to see what percentage of the values are above 1.5 standard deviations of the mean which is 59.5 + 120.6. round to nearest whole number\n",
    "value = 180\n",
    "# Calculate the percentile of this value within the distribution of movie rating counts\n",
    "percentile2 = percentileofscore(movie_rating_counts, value, kind='rank')\n",
    "\n",
    "#####change the print syntax to be simpler\n",
    "print(f\"The percentage of movies that have been rated less than or equal to 180 times is: {percentile2.round(2)}%\")\n",
    "\n",
    "# we decide to do 1.5 standard deviations for this dataset as well"
   ]
  },
  {
   "cell_type": "code",
   "execution_count": null,
   "metadata": {},
   "outputs": [
    {
     "data": {
      "text/plain": [
       "movie_title\n",
       "Star Wars (1977)                 583\n",
       "Contact (1997)                   509\n",
       "Fargo (1996)                     508\n",
       "Return of the Jedi (1983)        507\n",
       "Liar Liar (1997)                 485\n",
       "English Patient, The (1996)      481\n",
       "Scream (1996)                    478\n",
       "Toy Story (1995)                 452\n",
       "Air Force One (1997)             431\n",
       "Independence Day (ID4) (1996)    429\n",
       "Name: count, dtype: int64"
      ]
     },
     "execution_count": 190,
     "metadata": {},
     "output_type": "execute_result"
    }
   ],
   "source": [
    "#Να το κάνουμε λίγο πιο 'καθαρό'?\n",
    "#Let's find the most frequently rated movies. In order to to that we need to merge ratings with movies.\n",
    "# Let's create a common dataset. The common key between ratings and movies is the 'items_id' and ‘movie_id’ column respectively.\n",
    "# First we have to rename the column.\n",
    "ratings1 = ratings.copy()\n",
    "##\n",
    "#data.drop(['timestamp', 'video_release_date', 'IMDb_URL'], axis = 1, inplace = True)\n",
    "ratings1.rename(columns={'item_id': 'movie_id'}, inplace=True)\n",
    "# Then we combined them.\n",
    "data = pd.merge(ratings1, movies, on = 'movie_id')\n",
    "# In order to have a 'cleaner' view of our data we dropped some columns.\n",
    "data.drop(['timestamp', 'video_release_date', 'IMDb_URL'], axis = 1, inplace = True)\n",
    "\n",
    "#Most rated movies\n",
    "data['movie_title'].value_counts()[0:10]"
   ]
  },
  {
   "cell_type": "code",
   "execution_count": null,
   "metadata": {},
   "outputs": [
    {
     "data": {
      "text/html": [
       "<div>\n",
       "<style scoped>\n",
       "    .dataframe tbody tr th:only-of-type {\n",
       "        vertical-align: middle;\n",
       "    }\n",
       "\n",
       "    .dataframe tbody tr th {\n",
       "        vertical-align: top;\n",
       "    }\n",
       "\n",
       "    .dataframe thead th {\n",
       "        text-align: right;\n",
       "    }\n",
       "</style>\n",
       "<table border=\"1\" class=\"dataframe\">\n",
       "  <thead>\n",
       "    <tr style=\"text-align: right;\">\n",
       "      <th></th>\n",
       "      <th>user_id</th>\n",
       "      <th>item_id</th>\n",
       "      <th>rating</th>\n",
       "      <th>timestamp</th>\n",
       "    </tr>\n",
       "  </thead>\n",
       "  <tbody>\n",
       "    <tr>\n",
       "      <th>6519</th>\n",
       "      <td>13</td>\n",
       "      <td>814</td>\n",
       "      <td>5</td>\n",
       "      <td>886302261</td>\n",
       "    </tr>\n",
       "  </tbody>\n",
       "</table>\n",
       "</div>"
      ],
      "text/plain": [
       "      user_id  item_id  rating  timestamp\n",
       "6519       13      814       5  886302261"
      ]
     },
     "execution_count": 191,
     "metadata": {},
     "output_type": "execute_result"
    }
   ],
   "source": [
    "#Let's find the highest rated movie\n",
    "mean_rating = ratings.groupby('item_id')[['rating']].mean()\n",
    "highest_rated = mean_rating['rating'].idxmax()\n",
    "ratings[ratings['item_id'] == highest_rated]"
   ]
  },
  {
   "cell_type": "code",
   "execution_count": null,
   "metadata": {},
   "outputs": [
    {
     "data": {
      "text/html": [
       "<div>\n",
       "<style scoped>\n",
       "    .dataframe tbody tr th:only-of-type {\n",
       "        vertical-align: middle;\n",
       "    }\n",
       "\n",
       "    .dataframe tbody tr th {\n",
       "        vertical-align: top;\n",
       "    }\n",
       "\n",
       "    .dataframe thead th {\n",
       "        text-align: right;\n",
       "    }\n",
       "</style>\n",
       "<table border=\"1\" class=\"dataframe\">\n",
       "  <thead>\n",
       "    <tr style=\"text-align: right;\">\n",
       "      <th></th>\n",
       "      <th>movie_id</th>\n",
       "      <th>rating</th>\n",
       "      <th>rating_count</th>\n",
       "    </tr>\n",
       "  </thead>\n",
       "  <tbody>\n",
       "    <tr>\n",
       "      <th>813</th>\n",
       "      <td>814</td>\n",
       "      <td>5.000</td>\n",
       "      <td>1682</td>\n",
       "    </tr>\n",
       "    <tr>\n",
       "      <th>1121</th>\n",
       "      <td>1122</td>\n",
       "      <td>5.000</td>\n",
       "      <td>1682</td>\n",
       "    </tr>\n",
       "    <tr>\n",
       "      <th>1188</th>\n",
       "      <td>1189</td>\n",
       "      <td>5.000</td>\n",
       "      <td>1682</td>\n",
       "    </tr>\n",
       "    <tr>\n",
       "      <th>1200</th>\n",
       "      <td>1201</td>\n",
       "      <td>5.000</td>\n",
       "      <td>1682</td>\n",
       "    </tr>\n",
       "    <tr>\n",
       "      <th>1292</th>\n",
       "      <td>1293</td>\n",
       "      <td>5.000</td>\n",
       "      <td>1682</td>\n",
       "    </tr>\n",
       "    <tr>\n",
       "      <th>1466</th>\n",
       "      <td>1467</td>\n",
       "      <td>5.000</td>\n",
       "      <td>1682</td>\n",
       "    </tr>\n",
       "    <tr>\n",
       "      <th>1499</th>\n",
       "      <td>1500</td>\n",
       "      <td>5.000</td>\n",
       "      <td>1682</td>\n",
       "    </tr>\n",
       "    <tr>\n",
       "      <th>1598</th>\n",
       "      <td>1599</td>\n",
       "      <td>5.000</td>\n",
       "      <td>1682</td>\n",
       "    </tr>\n",
       "    <tr>\n",
       "      <th>1535</th>\n",
       "      <td>1536</td>\n",
       "      <td>5.000</td>\n",
       "      <td>1682</td>\n",
       "    </tr>\n",
       "    <tr>\n",
       "      <th>1652</th>\n",
       "      <td>1653</td>\n",
       "      <td>5.000</td>\n",
       "      <td>1682</td>\n",
       "    </tr>\n",
       "    <tr>\n",
       "      <th>1448</th>\n",
       "      <td>1449</td>\n",
       "      <td>4.625</td>\n",
       "      <td>1682</td>\n",
       "    </tr>\n",
       "  </tbody>\n",
       "</table>\n",
       "</div>"
      ],
      "text/plain": [
       "      movie_id  rating  rating_count\n",
       "813        814   5.000          1682\n",
       "1121      1122   5.000          1682\n",
       "1188      1189   5.000          1682\n",
       "1200      1201   5.000          1682\n",
       "1292      1293   5.000          1682\n",
       "1466      1467   5.000          1682\n",
       "1499      1500   5.000          1682\n",
       "1598      1599   5.000          1682\n",
       "1535      1536   5.000          1682\n",
       "1652      1653   5.000          1682\n",
       "1448      1449   4.625          1682"
      ]
     },
     "execution_count": 192,
     "metadata": {},
     "output_type": "execute_result"
    }
   ],
   "source": [
    "#Let's make a dataframe with only movies data\n",
    "movies_data = data.copy()\n",
    "#datetype=object to date-type.\n",
    "movies_data['release_date'] = pd.to_datetime(movies_data['release_date'])\n",
    "#remove genre columns\n",
    "# In order to have a 'cleaner' view of our data we dropped some columns.\n",
    "movies_data.drop(['genre_0',  'genre_1','genre_2','genre_3','genre_4','genre_5','genre_6','genre_7','genre_8','genre_9','genre_10', 'genre_11','genre_12','genre_13','genre_14','genre_15','genre_16','genre_17','genre_18', 'user_id'],\n",
    "          axis = 1, inplace = True)\n",
    "\n",
    "#Let's find mean rating per movie.\n",
    "mean_rating_per_movie = movies_data.groupby('movie_id').agg({'rating': 'mean'}).reset_index()\n",
    "mean_rating_per_movie['rating_count'] = mean_rating_per_movie['rating'].count()\n",
    "#Top ratest movies\n",
    "top_ratest_movies = mean_rating_per_movie[mean_rating_per_movie.rating > 4.5].sort_values(by='rating',ascending=False)\n",
    "top_ratest_movies"
   ]
  },
  {
   "cell_type": "code",
   "execution_count": null,
   "metadata": {},
   "outputs": [
    {
     "name": "stdout",
     "output_type": "stream",
     "text": [
      "Average number of ratings for a given movie: 59.45\n",
      "Average rating for a given movie: 3.08\n"
     ]
    }
   ],
   "source": [
    "#Statistics extras?\n",
    "# Tutorial: https://www.youtube.com/watch?v=XfAe-HLysOM&t=1685s\n",
    "movies_stats = ratings1.groupby('movie_id')['rating'].agg(['count', 'mean'])\n",
    "#Let's find Bayesian average to check the highest rated movies based on ratings and the ratings number.\n",
    "C = movies_stats['count'].mean()\n",
    "m = movies_stats['mean'].mean()\n",
    "\n",
    "print(\"Average number of ratings for a given movie: %s\" %(round(C,2)))\n",
    "print(\"Average rating for a given movie: %s\" %(round(m,2)))\n",
    "\n",
    "def bayesian_average(ratings):\n",
    "    bayesian_average = (C+m+ratings.sum())/(C+ratings.count())\n",
    "    return round(bayesian_average,2)"
   ]
  },
  {
   "cell_type": "code",
   "execution_count": null,
   "metadata": {},
   "outputs": [
    {
     "data": {
      "text/html": [
       "<div>\n",
       "<style scoped>\n",
       "    .dataframe tbody tr th:only-of-type {\n",
       "        vertical-align: middle;\n",
       "    }\n",
       "\n",
       "    .dataframe tbody tr th {\n",
       "        vertical-align: top;\n",
       "    }\n",
       "\n",
       "    .dataframe thead th {\n",
       "        text-align: right;\n",
       "    }\n",
       "</style>\n",
       "<table border=\"1\" class=\"dataframe\">\n",
       "  <thead>\n",
       "    <tr style=\"text-align: right;\">\n",
       "      <th></th>\n",
       "      <th>movie_id</th>\n",
       "      <th>count</th>\n",
       "      <th>mean</th>\n",
       "      <th>bayesian_avg</th>\n",
       "      <th>movie_title</th>\n",
       "    </tr>\n",
       "  </thead>\n",
       "  <tbody>\n",
       "    <tr>\n",
       "      <th>49</th>\n",
       "      <td>50</td>\n",
       "      <td>583</td>\n",
       "      <td>4.358491</td>\n",
       "      <td>4.05</td>\n",
       "      <td>Star Wars (1977)</td>\n",
       "    </tr>\n",
       "    <tr>\n",
       "      <th>317</th>\n",
       "      <td>318</td>\n",
       "      <td>298</td>\n",
       "      <td>4.466443</td>\n",
       "      <td>3.90</td>\n",
       "      <td>Schindler's List (1993)</td>\n",
       "    </tr>\n",
       "    <tr>\n",
       "      <th>126</th>\n",
       "      <td>127</td>\n",
       "      <td>413</td>\n",
       "      <td>4.283293</td>\n",
       "      <td>3.88</td>\n",
       "      <td>Godfather, The (1972)</td>\n",
       "    </tr>\n",
       "    <tr>\n",
       "      <th>173</th>\n",
       "      <td>174</td>\n",
       "      <td>420</td>\n",
       "      <td>4.252381</td>\n",
       "      <td>3.86</td>\n",
       "      <td>Raiders of the Lost Ark (1981)</td>\n",
       "    </tr>\n",
       "    <tr>\n",
       "      <th>97</th>\n",
       "      <td>98</td>\n",
       "      <td>390</td>\n",
       "      <td>4.289744</td>\n",
       "      <td>3.86</td>\n",
       "      <td>Silence of the Lambs, The (1991)</td>\n",
       "    </tr>\n",
       "    <tr>\n",
       "      <th>63</th>\n",
       "      <td>64</td>\n",
       "      <td>283</td>\n",
       "      <td>4.445230</td>\n",
       "      <td>3.86</td>\n",
       "      <td>Shawshank Redemption, The (1994)</td>\n",
       "    </tr>\n",
       "    <tr>\n",
       "      <th>99</th>\n",
       "      <td>100</td>\n",
       "      <td>508</td>\n",
       "      <td>4.155512</td>\n",
       "      <td>3.83</td>\n",
       "      <td>Fargo (1996)</td>\n",
       "    </tr>\n",
       "    <tr>\n",
       "      <th>482</th>\n",
       "      <td>483</td>\n",
       "      <td>243</td>\n",
       "      <td>4.456790</td>\n",
       "      <td>3.79</td>\n",
       "      <td>Casablanca (1942)</td>\n",
       "    </tr>\n",
       "    <tr>\n",
       "      <th>11</th>\n",
       "      <td>12</td>\n",
       "      <td>267</td>\n",
       "      <td>4.385768</td>\n",
       "      <td>3.78</td>\n",
       "      <td>Usual Suspects, The (1995)</td>\n",
       "    </tr>\n",
       "    <tr>\n",
       "      <th>312</th>\n",
       "      <td>313</td>\n",
       "      <td>350</td>\n",
       "      <td>4.245714</td>\n",
       "      <td>3.78</td>\n",
       "      <td>Titanic (1997)</td>\n",
       "    </tr>\n",
       "  </tbody>\n",
       "</table>\n",
       "</div>"
      ],
      "text/plain": [
       "     movie_id  count      mean  bayesian_avg                       movie_title\n",
       "49         50    583  4.358491          4.05                  Star Wars (1977)\n",
       "317       318    298  4.466443          3.90           Schindler's List (1993)\n",
       "126       127    413  4.283293          3.88             Godfather, The (1972)\n",
       "173       174    420  4.252381          3.86    Raiders of the Lost Ark (1981)\n",
       "97         98    390  4.289744          3.86  Silence of the Lambs, The (1991)\n",
       "63         64    283  4.445230          3.86  Shawshank Redemption, The (1994)\n",
       "99        100    508  4.155512          3.83                      Fargo (1996)\n",
       "482       483    243  4.456790          3.79                 Casablanca (1942)\n",
       "11         12    267  4.385768          3.78        Usual Suspects, The (1995)\n",
       "312       313    350  4.245714          3.78                    Titanic (1997)"
      ]
     },
     "execution_count": 207,
     "metadata": {},
     "output_type": "execute_result"
    }
   ],
   "source": [
    "bayesian_average_ratings = ratings1.groupby('movie_id')['rating'].agg(bayesian_average).reset_index()\n",
    "bayesian_average_ratings.columns = ['movie_id', 'bayesian_avg']\n",
    "movies_stats = movies_stats.merge(bayesian_average_ratings, on = 'movie_id')\n",
    "\n",
    "# So Based on the bayesian average the top 10 rated movies are:\n",
    "movies_stats = movies_stats.merge(movies[['movie_id','movie_title']])\n",
    "movies_stats.sort_values('bayesian_avg', ascending= False).head(10)"
   ]
  },
  {
   "cell_type": "code",
   "execution_count": null,
   "metadata": {},
   "outputs": [],
   "source": [
    "# Outlier Detection for Users and Movies with a 1.5 Standard Deviation Threshold\n",
    "# choosing 1.5 for the outlier threshold because ~91% of users are concentrated below 1.5 standard deviation of the mean.\n",
    "\n",
    "#We have user_movie_counts as data of how many movies each user has rated\n",
    "# Step 1: Calculate the number of ratings each movie has received\n",
    "movie_rating_counts = ratings['item_id'].value_counts()\n",
    "\n",
    "# Step 3: Calculate z-scores for user and movie counts to detect outliers\n",
    "user_movie_counts_zscore = zscore(user_movie_counts)\n",
    "movie_rating_counts_zscore = zscore(movie_rating_counts)\n",
    "\n",
    "# Step 4: Set a threshold of 1.5 standard deviations for detecting outliers\n",
    "outlier_user_indices = user_movie_counts[user_movie_counts_zscore > 1.5].index\n",
    "outlier_movie_indices = movie_rating_counts[movie_rating_counts_zscore > 1.5].index\n",
    "\n",
    "# Outlier users: those who have rated more than 1.5 standard deviations above the mean aka more than ~257 movies or a movie with more than ~180\n",
    "outlier_users = user_movie_counts[user_movie_counts_zscore > 1.5]\n",
    "#print(\"Outlier users based on number of ratings (Threshold = 1.5 SD):\")\n",
    "#print(outlier_users)\n",
    "\n",
    "# Outlier movies: those that have received more than 1.5 standard deviations above the mean\n",
    "outlier_movies = movie_rating_counts[movie_rating_counts_zscore > 1.5]\n",
    "#print(\"\\nOutlier movies based on number of ratings (Threshold = 1.5 SD):\")\n",
    "#print(outlier_movies)\n",
    "\n",
    "#####or Z smaller than -1.5"
   ]
  },
  {
   "cell_type": "code",
   "execution_count": null,
   "metadata": {},
   "outputs": [],
   "source": [
    "# Check numerical columns\n",
    "num_cols = movies_stats.describe(exclude='object') #check numerical columns only\n",
    "col_names = num_cols.columns # we are using these numerical columns for visualizing our boxplot"
   ]
  },
  {
   "cell_type": "code",
   "execution_count": null,
   "metadata": {},
   "outputs": [
    {
     "data": {
      "image/png": "[encoded data removed]",
      "text/plain": [
       "<Figure size 1000x700 with 4 Axes>"
      ]
     },
     "metadata": {},
     "output_type": "display_data"
    }
   ],
   "source": [
    "# Let's plot the outliers for movies_stats\n",
    "# Boxplot for the first 6 values taking into cnsideration movies_stats\n",
    "fig = plt.figure(figsize=(10,7))\n",
    "\n",
    "for i in range(4): #for 4 columns\n",
    "    fig.tight_layout()\n",
    "    \n",
    "    grid_col = \"32{}\".format(i+1)\n",
    "    \n",
    "    ax = fig.add_subplot(int(grid_col))\n",
    "    \n",
    "    sns.boxplot(data=movies_stats, x=col_names[i], ax=ax)\n",
    "    \n",
    "plt.show()"
   ]
  },
  {
   "cell_type": "code",
   "execution_count": null,
   "metadata": {},
   "outputs": [
    {
     "data": {
      "image/png": "[encoded data removed]",
      "text/plain": [
       "<Figure size 640x480 with 1 Axes>"
      ]
     },
     "metadata": {},
     "output_type": "display_data"
    }
   ],
   "source": [
    "# boxplot for movies_stats\n",
    "np.random.seed(1234)\n",
    "\n",
    "data = pd.DataFrame(np.random.randn(10, 3),\n",
    "\n",
    "                  columns=['count', 'mean', 'bayesian_avg'])\n",
    "\n",
    "boxplot = movies_stats.boxplot(column=['count', 'mean', 'bayesian_avg']) "
   ]
  },
  {
   "cell_type": "code",
   "execution_count": null,
   "metadata": {},
   "outputs": [
    {
     "data": {
      "application/vnd.plotly.v1+json": {
       "config": {
        "plotlyServerURL": "https://plot.ly"
       },
       "data": [
        {
         "alignmentgroup": "True",
         "box": {
          "visible": true
         },
         "customdata": [
          [
           452,
           3.8783185840707963
          ],
          [
           131,
           3.2061068702290076
          ],
          [
           90,
           3.033333333333333
          ],
          [
           209,
           3.550239234449761
          ],
          [
           86,
           3.302325581395349
          ],
          [
           26,
           3.576923076923077
          ],
          [
           392,
           3.798469387755102
          ],
          [
           219,
           3.9954337899543377
          ],
          [
           299,
           3.8963210702341136
          ],
          [
           89,
           3.831460674157303
          ],
          [
           236,
           3.847457627118644
          ],
          [
           267,
           4.385767790262173
          ],
          [
           184,
           3.4184782608695654
          ],
          [
           183,
           3.9672131147540983
          ],
          [
           293,
           3.7781569965870307
          ],
          [
           39,
           3.2051282051282053
          ],
          [
           92,
           3.119565217391304
          ],
          [
           10,
           2.8
          ],
          [
           69,
           3.9565217391304346
          ],
          [
           72,
           3.4166666666666665
          ],
          [
           84,
           2.761904761904762
          ],
          [
           297,
           4.151515151515151
          ],
          [
           182,
           4.1208791208791204
          ],
          [
           174,
           3.4482758620689653
          ],
          [
           293,
           3.4436860068259385
          ],
          [
           73,
           3.452054794520548
          ],
          [
           57,
           3.1052631578947367
          ],
          [
           276,
           3.931159420289855
          ],
          [
           114,
           2.6666666666666665
          ],
          [
           37,
           3.945945945945946
          ],
          [
           154,
           3.6298701298701297
          ],
          [
           81,
           3.7901234567901234
          ],
          [
           97,
           3.4536082474226806
          ],
          [
           7,
           2.7142857142857144
          ],
          [
           11,
           2.1818181818181817
          ],
          [
           13,
           2.1538461538461537
          ],
          [
           8,
           2.25
          ],
          [
           120,
           3.0083333333333333
          ],
          [
           87,
           3.264367816091954
          ],
          [
           57,
           2.8947368421052633
          ],
          [
           37,
           3.081081081081081
          ],
          [
           148,
           3.804054054054054
          ],
          [
           40,
           3
          ],
          [
           79,
           3.3417721518987342
          ],
          [
           80,
           4.05
          ],
          [
           27,
           3.5555555555555554
          ],
          [
           133,
           3.601503759398496
          ],
          [
           117,
           4.094017094017094
          ],
          [
           81,
           3.3209876543209877
          ],
          [
           583,
           4.3584905660377355
          ],
          [
           81,
           3.45679012345679
          ],
          [
           91,
           3.769230769230769
          ],
          [
           128,
           2.953125
          ],
          [
           104,
           3.2403846153846154
          ],
          [
           149,
           3.704697986577181
          ],
          [
           394,
           4.060913705583756
          ],
          [
           40,
           4
          ],
          [
           175,
           3.645714285714286
          ],
          [
           83,
           4.0602409638554215
          ],
          [
           64,
           4.015625
          ],
          [
           59,
           3.864406779661017
          ],
          [
           127,
           3.141732283464567
          ],
          [
           82,
           3.097560975609756
          ],
          [
           283,
           4.445229681978798
          ],
          [
           115,
           3.5391304347826087
          ],
          [
           162,
           3.549382716049383
          ],
          [
           103,
           3.0485436893203883
          ],
          [
           134,
           3.417910447761194
          ],
          [
           321,
           3.853582554517134
          ],
          [
           251,
           3.6613545816733066
          ],
          [
           220,
           3.7818181818181817
          ],
          [
           129,
           3.193798449612403
          ],
          [
           128,
           3.46875
          ],
          [
           7,
           3
          ],
          [
           5,
           3
          ],
          [
           54,
           3.4074074074074074
          ],
          [
           151,
           3.2781456953642385
          ],
          [
           33,
           2.4545454545454546
          ],
          [
           336,
           4.044642857142857
          ],
          [
           68,
           2.764705882352941
          ],
          [
           110,
           3.5545454545454547
          ],
          [
           261,
           3.7203065134099615
          ],
          [
           176,
           4.0625
          ],
          [
           18,
           3
          ],
          [
           58,
           3.0344827586206895
          ],
          [
           150,
           3.94
          ],
          [
           138,
           3.9057971014492754
          ],
          [
           213,
           3.539906103286385
          ],
          [
           275,
           4.138181818181818
          ],
          [
           95,
           3.0526315789473686
          ],
          [
           143,
           3.5874125874125875
          ],
          [
           104,
           3.6153846153846154
          ],
          [
           112,
           3.7232142857142856
          ],
          [
           137,
           3.0875912408759123
          ],
          [
           219,
           3.8127853881278537
          ],
          [
           295,
           4.0067796610169495
          ],
          [
           256,
           3.79296875
          ],
          [
           390,
           4.28974358974359
          ],
          [
           172,
           3.7093023255813953
          ],
          [
           508,
           4.155511811023622
          ],
          [
           73,
           3.26027397260274
          ],
          [
           54,
           3.1296296296296298
          ],
          [
           15,
           1.8666666666666667
          ],
          [
           5,
           1.4
          ],
          [
           74,
           2.5675675675675675
          ],
          [
           71,
           2.887323943661972
          ],
          [
           42,
           3.5
          ],
          [
           65,
           3.076923076923077
          ],
          [
           130,
           3.4307692307692306
          ],
          [
           31,
           2.5161290322580645
          ],
          [
           272,
           3.485294117647059
          ],
          [
           20,
           2.45
          ],
          [
           9,
           4.111111111111111
          ],
          [
           67,
           4.447761194029851
          ],
          [
           15,
           3.7333333333333334
          ],
          [
           125,
           3.824
          ],
          [
           378,
           3.693121693121693
          ],
          [
           293,
           3.2150170648464163
          ],
          [
           4,
           4.5
          ],
          [
           67,
           2.2388059701492535
          ],
          [
           429,
           3.438228438228438
          ],
          [
           106,
           2.339622641509434
          ],
          [
           115,
           3.234782608695652
          ],
          [
           187,
           4.053475935828877
          ],
          [
           244,
           3.557377049180328
          ],
          [
           97,
           3.804123711340206
          ],
          [
           413,
           4.283292978208232
          ],
          [
           65,
           3.5384615384615383
          ],
          [
           129,
           3.8217054263565893
          ],
          [
           23,
           2.260869565217391
          ],
          [
           95,
           3.7263157894736842
          ],
          [
           246,
           4.0772357723577235
          ],
          [
           171,
           3.871345029239766
          ],
          [
           198,
           4.292929292929293
          ],
          [
           259,
           3.969111969111969
          ],
          [
           105,
           4.123809523809523
          ],
          [
           171,
           3.9005847953216373
          ],
          [
           19,
           2.5789473684210527
          ],
          [
           50,
           2.78
          ],
          [
           61,
           3.2131147540983607
          ],
          [
           72,
           3.5
          ],
          [
           57,
           3.0701754385964914
          ],
          [
           222,
           3.765765765765766
          ],
          [
           243,
           3.8724279835390947
          ],
          [
           65,
           2.4461538461538463
          ],
          [
           10,
           2.5
          ],
          [
           185,
           3.4702702702702704
          ],
          [
           128,
           3.203125
          ],
          [
           23,
           3
          ],
          [
           157,
           3.828025477707006
          ],
          [
           326,
           3.6319018404907975
          ],
          [
           82,
           3.6341463414634148
          ],
          [
           247,
           3.785425101214575
          ],
          [
           174,
           3.7471264367816093
          ],
          [
           98,
           3.1020408163265305
          ],
          [
           148,
           3.9864864864864864
          ],
          [
           127,
           3.6929133858267718
          ],
          [
           60,
           2.6166666666666667
          ],
          [
           101,
           3.227722772277228
          ],
          [
           69,
           3.463768115942029
          ],
          [
           220,
           3.481818181818182
          ],
          [
           106,
           3.556603773584906
          ],
          [
           92,
           3.5543478260869565
          ],
          [
           151,
           3.589403973509934
          ],
          [
           64,
           4.109375
          ],
          [
           58,
           4.120689655172414
          ],
          [
           67,
           2.955223880597015
          ],
          [
           316,
           4.0664556962025316
          ],
          [
           118,
           4.466101694915254
          ],
          [
           121,
           4.1735537190082646
          ],
          [
           65,
           3.876923076923077
          ],
          [
           367,
           4.204359673024523
          ],
          [
           324,
           4.172839506172839
          ],
          [
           420,
           4.252380952380952
          ],
          [
           208,
           3.8173076923076925
          ],
          [
           284,
           3.9471830985915495
          ],
          [
           137,
           3.8613138686131387
          ],
          [
           125,
           4.344
          ],
          [
           221,
           3.909502262443439
          ],
          [
           221,
           4.04524886877828
          ],
          [
           507,
           4.007889546351085
          ],
          [
           226,
           3.9513274336283186
          ],
          [
           291,
           4.034364261168385
          ],
          [
           116,
           3.4310344827586206
          ],
          [
           239,
           4.100418410041841
          ],
          [
           251,
           3.8366533864541834
          ],
          [
           209,
           4.186602870813397
          ],
          [
           170,
           3.6823529411764704
          ],
          [
           66,
           4.106060606060606
          ],
          [
           124,
           4.137096774193548
          ],
          [
           276,
           4.163043478260869
          ],
          [
           116,
           4.120689655172414
          ],
          [
           157,
           3.917197452229299
          ],
          [
           241,
           4.058091286307054
          ],
          [
           301,
           3.9335548172757475
          ],
          [
           251,
           3.9163346613545817
          ],
          [
           239,
           4.104602510460251
          ],
          [
           127,
           4.0078740157480315
          ],
          [
           165,
           4.175757575757576
          ],
          [
           206,
           3.825242718446602
          ],
          [
           89,
           3.5168539325842696
          ],
          [
           280,
           3.7642857142857142
          ],
          [
           182,
           3.868131868131868
          ],
          [
           350,
           3.834285714285714
          ],
          [
           136,
           3.9926470588235294
          ],
          [
           50,
           3.38
          ],
          [
           66,
           3.8181818181818183
          ],
          [
           200,
           3.945
          ],
          [
           191,
           3.905759162303665
          ],
          [
           331,
           3.930513595166163
          ],
          [
           206,
           3.912621359223301
          ],
          [
           92,
           3.4565217391304346
          ],
          [
           134,
           3.985074626865672
          ],
          [
           114,
           3.3508771929824563
          ],
          [
           212,
           3.69811320754717
          ],
          [
           290,
           3.910344827586207
          ],
          [
           120,
           3.158333333333333
          ],
          [
           171,
           3.456140350877193
          ],
          [
           111,
           3.171171171171171
          ],
          [
           66,
           3.3636363636363638
          ],
          [
           74,
           3.72972972972973
          ],
          [
           365,
           3.66027397260274
          ],
          [
           136,
           4.198529411764706
          ],
          [
           44,
           3.7045454545454546
          ],
          [
           109,
           2.908256880733945
          ],
          [
           166,
           3.355421686746988
          ],
          [
           161,
           3.279503105590062
          ],
          [
           244,
           3.8155737704918034
          ],
          [
           171,
           3.111111111111111
          ],
          [
           199,
           3.4472361809045227
          ],
          [
           142,
           2.683098591549296
          ],
          [
           101,
           3.207920792079208
          ],
          [
           124,
           3.2903225806451615
          ],
          [
           280,
           3.775
          ],
          [
           217,
           2.847926267281106
          ],
          [
           45,
           3.6222222222222222
          ],
          [
           384,
           3.7109375
          ],
          [
           256,
           3.875
          ],
          [
           150,
           3.513333333333333
          ],
          [
           156,
           2.7884615384615383
          ],
          [
           128,
           3.546875
          ],
          [
           117,
           3.9914529914529915
          ],
          [
           132,
           2.4393939393939394
          ],
          [
           48,
           3.1666666666666665
          ],
          [
           240,
           3.1083333333333334
          ],
          [
           124,
           3.935483870967742
          ],
          [
           5,
           1.8
          ],
          [
           160,
           3.675
          ],
          [
           130,
           3.246153846153846
          ],
          [
           197,
           3.4771573604060912
          ],
          [
           46,
           4.260869565217392
          ],
          [
           158,
           2.9430379746835444
          ],
          [
           26,
           3.6923076923076925
          ],
          [
           62,
           2.4516129032258065
          ],
          [
           172,
           3.36046511627907
          ],
          [
           16,
           3.5625
          ],
          [
           303,
           3.745874587458746
          ],
          [
           509,
           3.8035363457760316
          ],
          [
           162,
           2.685185185185185
          ],
          [
           127,
           2.574803149606299
          ],
          [
           43,
           2.558139534883721
          ],
          [
           66,
           3.712121212121212
          ],
          [
           19,
           2.1578947368421053
          ],
          [
           101,
           2.742574257425743
          ],
          [
           227,
           3.8634361233480177
          ],
          [
           35,
           2.7142857142857144
          ],
          [
           9,
           3.4444444444444446
          ],
          [
           255,
           3.792156862745098
          ],
          [
           315,
           3.926984126984127
          ],
          [
           136,
           3.5955882352941178
          ],
          [
           211,
           3.2322274881516586
          ],
          [
           198,
           4.262626262626263
          ],
          [
           223,
           3.569506726457399
          ],
          [
           190,
           3.5
          ],
          [
           268,
           4.0111940298507465
          ],
          [
           298,
           3.697986577181208
          ],
          [
           71,
           3.464788732394366
          ],
          [
           60,
           3.2333333333333334
          ],
          [
           28,
           3.2857142857142856
          ],
          [
           85,
           3.1882352941176473
          ],
          [
           146,
           3.143835616438356
          ],
          [
           232,
           3.685344827586207
          ],
          [
           177,
           3.7175141242937855
          ],
          [
           193,
           3.160621761658031
          ],
          [
           162,
           4.265432098765432
          ],
          [
           481,
           3.656964656964657
          ],
          [
           78,
           3.58974358974359
          ],
          [
           478,
           3.4414225941422596
          ],
          [
           259,
           2.9806949806949805
          ],
          [
           96,
           3.1145833333333335
          ],
          [
           127,
           3.37007874015748
          ],
          [
           114,
           3.6666666666666665
          ],
          [
           147,
           3.802721088435374
          ],
          [
           485,
           3.156701030927835
          ],
          [
           77,
           3.4025974025974026
          ],
          [
           6,
           3.3333333333333335
          ],
          [
           50,
           3.96
          ],
          [
           194,
           3.768041237113402
          ],
          [
           73,
           2.9315068493150687
          ],
          [
           431,
           3.6310904872389793
          ],
          [
           230,
           3.3043478260869565
          ],
          [
           297,
           4.161616161616162
          ],
          [
           134,
           3.6865671641791047
          ],
          [
           149,
           3.5369127516778525
          ],
          [
           87,
           3.6436781609195403
          ],
          [
           96,
           3.9479166666666665
          ],
          [
           188,
           3.515957446808511
          ],
          [
           30,
           2.966666666666667
          ],
          [
           28,
           2.857142857142857
          ],
          [
           145,
           3.6
          ],
          [
           75,
           3.68
          ],
          [
           80,
           3.1625
          ],
          [
           350,
           4.2457142857142856
          ],
          [
           5,
           1
          ],
          [
           160,
           4.1
          ],
          [
           112,
           4.196428571428571
          ],
          [
           102,
           3.911764705882353
          ],
          [
           298,
           4.466442953020135
          ],
          [
           168,
           3.2738095238095237
          ],
          [
           20,
           4.05
          ],
          [
           169,
           3.1301775147928996
          ],
          [
           218,
           3.0871559633027523
          ],
          [
           240,
           2.933333333333333
          ],
          [
           125,
           3.136
          ],
          [
           128,
           2.546875
          ],
          [
           175,
           3.36
          ],
          [
           175,
           3.3771428571428572
          ],
          [
           295,
           3.4237288135593222
          ],
          [
           45,
           3.3333333333333335
          ],
          [
           41,
           3.024390243902439
          ],
          [
           113,
           3.5398230088495577
          ],
          [
           143,
           3.4615384615384617
          ],
          [
           251,
           3.593625498007968
          ],
          [
           64,
           3.359375
          ],
          [
           21,
           2.761904761904762
          ],
          [
           43,
           2.627906976744186
          ],
          [
           18,
           3
          ],
          [
           91,
           2.659340659340659
          ],
          [
           47,
           3.25531914893617
          ],
          [
           189,
           3.5873015873015874
          ],
          [
           11,
           3.090909090909091
          ],
          [
           52,
           2.923076923076923
          ],
          [
           124,
           3.096774193548387
          ],
          [
           55,
           3.6545454545454548
          ],
          [
           65,
           3.4
          ],
          [
           126,
           3.642857142857143
          ],
          [
           137,
           3.510948905109489
          ],
          [
           27,
           3.2962962962962963
          ],
          [
           31,
           2.903225806451613
          ],
          [
           41,
           3.1463414634146343
          ],
          [
           20,
           2.7
          ],
          [
           26,
           2.1153846153846154
          ],
          [
           14,
           2.4285714285714284
          ],
          [
           72,
           3.486111111111111
          ],
          [
           41,
           2.926829268292683
          ],
          [
           97,
           3.381443298969072
          ],
          [
           264,
           4.291666666666667
          ],
          [
           143,
           2.6153846153846154
          ],
          [
           18,
           3.5
          ],
          [
           10,
           3.2
          ],
          [
           10,
           3.5
          ],
          [
           28,
           2.8214285714285716
          ],
          [
           47,
           2.723404255319149
          ],
          [
           37,
           2.675675675675676
          ],
          [
           48,
           3.2083333333333335
          ],
          [
           47,
           3.3404255319148937
          ],
          [
           170,
           3.458823529411765
          ],
          [
           31,
           1.903225806451613
          ],
          [
           55,
           2.6363636363636362
          ],
          [
           39,
           2.8205128205128207
          ],
          [
           67,
           3.1641791044776117
          ],
          [
           34,
           3.5294117647058822
          ],
          [
           39,
           2.8974358974358974
          ],
          [
           11,
           2.272727272727273
          ],
          [
           23,
           1.9565217391304348
          ],
          [
           24,
           2.8333333333333335
          ],
          [
           13,
           2.1538461538461537
          ],
          [
           101,
           3.722772277227723
          ],
          [
           43,
           2.9767441860465116
          ],
          [
           116,
           3.336206896551724
          ],
          [
           100,
           3.55
          ],
          [
           111,
           3.5945945945945947
          ],
          [
           31,
           2.064516129032258
          ],
          [
           69,
           2.782608695652174
          ],
          [
           208,
           3.5625
          ],
          [
           87,
           2.8160919540229883
          ],
          [
           65,
           3.3846153846153846
          ],
          [
           28,
           2.392857142857143
          ],
          [
           27,
           3.4444444444444446
          ],
          [
           10,
           3.2
          ],
          [
           59,
           2.7457627118644066
          ],
          [
           68,
           3.5441176470588234
          ],
          [
           192,
           3.4114583333333335
          ],
          [
           12,
           3.3333333333333335
          ],
          [
           56,
           2.5892857142857144
          ],
          [
           54,
           2.814814814814815
          ],
          [
           12,
           2.5833333333333335
          ],
          [
           26,
           2.076923076923077
          ],
          [
           89,
           3.303370786516854
          ],
          [
           18,
           2.7222222222222223
          ],
          [
           76,
           2.8026315789473686
          ],
          [
           170,
           3.4647058823529413
          ],
          [
           201,
           3.427860696517413
          ],
          [
           101,
           3.6732673267326734
          ],
          [
           344,
           3.313953488372093
          ],
          [
           49,
           2.4489795918367347
          ],
          [
           43,
           2.511627906976744
          ],
          [
           112,
           4.491071428571429
          ],
          [
           70,
           3.142857142857143
          ],
          [
           162,
           3.1296296296296298
          ],
          [
           163,
           2.914110429447853
          ],
          [
           93,
           2.3978494623655915
          ],
          [
           55,
           2.6363636363636362
          ],
          [
           62,
           3.532258064516129
          ],
          [
           25,
           2.84
          ],
          [
           64,
           3.484375
          ],
          [
           73,
           3.095890410958904
          ],
          [
           129,
           3.5813953488372094
          ],
          [
           178,
           3.7247191011235956
          ],
          [
           81,
           3.6666666666666665
          ],
          [
           106,
           3.5943396226415096
          ],
          [
           26,
           2.8461538461538463
          ],
          [
           300,
           3.8333333333333335
          ],
          [
           19,
           1.3157894736842106
          ],
          [
           85,
           3.7411764705882353
          ],
          [
           32,
           2.84375
          ],
          [
           219,
           4.292237442922374
          ],
          [
           121,
           3.8181818181818183
          ],
          [
           97,
           3.9381443298969074
          ],
          [
           93,
           4
          ],
          [
           153,
           3.5359477124183005
          ],
          [
           174,
           3.7701149425287355
          ],
          [
           171,
           3.690058479532164
          ],
          [
           67,
           3.8358208955223883
          ],
          [
           216,
           3.949074074074074
          ],
          [
           99,
           3.5353535353535355
          ],
          [
           5,
           1
          ],
          [
           6,
           1.1666666666666667
          ],
          [
           5,
           1
          ],
          [
           14,
           1.6428571428571428
          ],
          [
           53,
           2.5660377358490565
          ],
          [
           4,
           1.25
          ],
          [
           162,
           3.808641975308642
          ],
          [
           46,
           2.717391304347826
          ],
          [
           22,
           3.5
          ],
          [
           9,
           2.4444444444444446
          ],
          [
           121,
           3.5041322314049586
          ],
          [
           85,
           3.388235294117647
          ],
          [
           117,
           3.034188034188034
          ],
          [
           63,
           2.3968253968253967
          ],
          [
           170,
           3.347058823529412
          ],
          [
           66,
           2.6666666666666665
          ],
          [
           16,
           1.9375
          ],
          [
           16,
           2.875
          ],
          [
           145,
           3.2551724137931033
          ],
          [
           48,
           2.3125
          ],
          [
           27,
           1.7407407407407407
          ],
          [
           90,
           3.1222222222222222
          ],
          [
           24,
           3.75
          ],
          [
           28,
           3
          ],
          [
           74,
           3.6216216216216215
          ],
          [
           148,
           3.804054054054054
          ],
          [
           71,
           3.859154929577465
          ],
          [
           27,
           3.5925925925925926
          ],
          [
           85,
           3.5647058823529414
          ],
          [
           52,
           3.5961538461538463
          ],
          [
           48,
           3.7916666666666665
          ],
          [
           64,
           3.3125
          ],
          [
           67,
           3.7761194029850746
          ],
          [
           108,
           3.6666666666666665
          ],
          [
           221,
           3.6108597285067874
          ],
          [
           158,
           3.0822784810126582
          ],
          [
           126,
           3.126984126984127
          ],
          [
           194,
           4.252577319587629
          ],
          [
           250,
           3.884
          ],
          [
           160,
           3.01875
          ],
          [
           95,
           3.210526315789474
          ],
          [
           104,
           4.115384615384615
          ],
          [
           179,
           4.251396648044692
          ],
          [
           179,
           4.284916201117318
          ],
          [
           63,
           3.9365079365079363
          ],
          [
           128,
           3.984375
          ],
          [
           243,
           4.45679012345679
          ],
          [
           138,
           4.2101449275362315
          ],
          [
           125,
           3.816
          ],
          [
           64,
           3.796875
          ],
          [
           68,
           4.102941176470588
          ],
          [
           65,
           4.2
          ],
          [
           52,
           4.115384615384615
          ],
          [
           50,
           4.02
          ],
          [
           67,
           3.791044776119403
          ],
          [
           59,
           3.864406779661017
          ],
          [
           60,
           4.15
          ],
          [
           56,
           4
          ],
          [
           59,
           3.6610169491525424
          ],
          [
           231,
           4.121212121212121
          ],
          [
           68,
           3.838235294117647
          ],
          [
           152,
           4.184210526315789
          ],
          [
           62,
           3.9516129032258065
          ],
          [
           31,
           3.903225806451613
          ],
          [
           123,
           3.4959349593495936
          ],
          [
           57,
           3.7017543859649122
          ],
          [
           39,
           3.641025641025641
          ],
          [
           122,
           3.819672131147541
          ],
          [
           68,
           4
          ],
          [
           90,
           3.8555555555555556
          ],
          [
           98,
           3.816326530612245
          ],
          [
           215,
           3.5953488372093023
          ],
          [
           121,
           3.8512396694214877
          ],
          [
           121,
           3.9421487603305785
          ],
          [
           173,
           4.23121387283237
          ],
          [
           57,
           4
          ],
          [
           72,
           4.333333333333333
          ],
          [
           180,
           3.911111111111111
          ],
          [
           201,
           4.203980099502488
          ],
          [
           63,
           3.9682539682539684
          ],
          [
           91,
           3.769230769230769
          ],
          [
           89,
           3.651685393258427
          ],
          [
           80,
           4.1
          ],
          [
           124,
           4.104838709677419
          ],
          [
           120,
           3.8333333333333335
          ],
          [
           35,
           3.7714285714285714
          ],
          [
           164,
           3.9939024390243905
          ],
          [
           46,
           4.021739130434782
          ],
          [
           73,
           4.027397260273973
          ],
          [
           124,
           3.8306451612903225
          ],
          [
           195,
           4.02051282051282
          ],
          [
           121,
           4.132231404958677
          ],
          [
           93,
           3.978494623655914
          ],
          [
           80,
           4.025
          ],
          [
           129,
           3.9224806201550386
          ],
          [
           22,
           3.3181818181818183
          ],
          [
           15,
           3.6666666666666665
          ],
          [
           13,
           3.3076923076923075
          ],
          [
           54,
           3.1666666666666665
          ],
          [
           10,
           3.3
          ],
          [
           30,
           3.6333333333333333
          ],
          [
           66,
           3.4242424242424243
          ],
          [
           44,
           2.477272727272727
          ],
          [
           43,
           2.511627906976744
          ],
          [
           49,
           2.877551020408163
          ],
          [
           51,
           2.5294117647058822
          ],
          [
           21,
           3.619047619047619
          ],
          [
           71,
           3.1549295774647885
          ],
          [
           12,
           1.8333333333333333
          ],
          [
           254,
           3.031496062992126
          ],
          [
           41,
           3.341463414634146
          ],
          [
           12,
           2.1666666666666665
          ],
          [
           92,
           3.5652173913043477
          ],
          [
           151,
           3.2847682119205297
          ],
          [
           24,
           2.4166666666666665
          ],
          [
           45,
           2.8666666666666667
          ],
          [
           63,
           3.2857142857142856
          ],
          [
           102,
           2.803921568627451
          ],
          [
           10,
           2
          ],
          [
           12,
           2.5
          ],
          [
           17,
           3.1176470588235294
          ],
          [
           70,
           3.6714285714285713
          ],
          [
           137,
           3.1824817518248176
          ],
          [
           22,
           2.727272727272727
          ],
          [
           59,
           3.0677966101694913
          ],
          [
           48,
           3.2083333333333335
          ],
          [
           29,
           2.413793103448276
          ],
          [
           27,
           2.037037037037037
          ],
          [
           22,
           2.6818181818181817
          ],
          [
           179,
           3.569832402234637
          ],
          [
           35,
           2.8
          ],
          [
           230,
           3.6478260869565218
          ],
          [
           67,
           2.701492537313433
          ],
          [
           50,
           3.1
          ],
          [
           28,
           2.5
          ],
          [
           29,
           2.7586206896551726
          ],
          [
           33,
           2.9393939393939394
          ],
          [
           15,
           2.2
          ],
          [
           44,
           2.5454545454545454
          ],
          [
           93,
           3.021505376344086
          ],
          [
           41,
           2.2195121951219514
          ],
          [
           92,
           3.152173913043478
          ],
          [
           19,
           2.6315789473684212
          ],
          [
           32,
           3.375
          ],
          [
           59,
           3.2203389830508473
          ],
          [
           168,
           3.6011904761904763
          ],
          [
           37,
           3
          ],
          [
           79,
           3.5443037974683542
          ],
          [
           39,
           2.4871794871794872
          ],
          [
           34,
           2.676470588235294
          ],
          [
           14,
           3.5714285714285716
          ],
          [
           202,
           3.792079207920792
          ],
          [
           43,
           4.023255813953488
          ],
          [
           18,
           2
          ],
          [
           178,
           3.601123595505618
          ],
          [
           9,
           3.3333333333333335
          ],
          [
           12,
           3.1666666666666665
          ],
          [
           5,
           2.4
          ],
          [
           64,
           3.09375
          ],
          [
           127,
           3.377952755905512
          ],
          [
           206,
           3.150485436893204
          ],
          [
           4,
           2.25
          ],
          [
           1,
           1
          ],
          [
           2,
           3
          ],
          [
           20,
           4
          ],
          [
           50,
           3.7
          ],
          [
           209,
           4.3875598086124405
          ],
          [
           81,
           4.012345679012346
          ],
          [
           31,
           3.3548387096774195
          ],
          [
           66,
           4.045454545454546
          ],
          [
           66,
           3.9696969696969697
          ],
          [
           30,
           3.933333333333333
          ],
          [
           60,
           3.5833333333333335
          ],
          [
           41,
           3.658536585365854
          ],
          [
           40,
           4.1
          ],
          [
           34,
           3.9411764705882355
          ],
          [
           27,
           4.037037037037037
          ],
          [
           51,
           3.7450980392156863
          ],
          [
           59,
           4.0508474576271185
          ],
          [
           64,
           3.421875
          ],
          [
           18,
           3.7777777777777777
          ],
          [
           18,
           3.611111111111111
          ],
          [
           64,
           3.171875
          ],
          [
           43,
           3.0930232558139537
          ],
          [
           11,
           2.909090909090909
          ],
          [
           39,
           3.358974358974359
          ],
          [
           39,
           2.923076923076923
          ],
          [
           22,
           3.272727272727273
          ],
          [
           82,
           3.3292682926829267
          ],
          [
           4,
           3.25
          ],
          [
           75,
           3.2266666666666666
          ],
          [
           169,
           3.514792899408284
          ],
          [
           77,
           3.3376623376623376
          ],
          [
           31,
           3.2903225806451615
          ],
          [
           119,
           3.6218487394957983
          ],
          [
           58,
           3.896551724137931
          ],
          [
           69,
           4.057971014492754
          ],
          [
           24,
           3.75
          ],
          [
           23,
           2.739130434782609
          ],
          [
           91,
           3.241758241758242
          ],
          [
           38,
           3.026315789473684
          ],
          [
           44,
           3.772727272727273
          ],
          [
           40,
           3.7
          ],
          [
           82,
           3.024390243902439
          ],
          [
           33,
           4.212121212121212
          ],
          [
           89,
           3.4831460674157304
          ],
          [
           4,
           3
          ],
          [
           35,
           3.7714285714285714
          ],
          [
           27,
           3.814814814814815
          ],
          [
           38,
           3.8684210526315788
          ],
          [
           70,
           4.1
          ],
          [
           67,
           4.029850746268656
          ],
          [
           50,
           3.4
          ],
          [
           72,
           3.5416666666666665
          ],
          [
           171,
           4.076023391812866
          ],
          [
           90,
           3.888888888888889
          ],
          [
           34,
           3.911764705882353
          ],
          [
           147,
           4.136054421768708
          ],
          [
           227,
           3.881057268722467
          ],
          [
           44,
           4
          ],
          [
           131,
           4.259541984732825
          ],
          [
           79,
           3.4177215189873418
          ],
          [
           115,
           4.078260869565217
          ],
          [
           153,
           3.764705882352941
          ],
          [
           88,
           4.1022727272727275
          ],
          [
           82,
           3.426829268292683
          ],
          [
           116,
           3.9051724137931036
          ],
          [
           46,
           3.5434782608695654
          ],
          [
           100,
           2.83
          ],
          [
           5,
           2.4
          ],
          [
           12,
           2.1666666666666665
          ],
          [
           6,
           2.1666666666666665
          ],
          [
           13,
           1.6153846153846154
          ],
          [
           36,
           3
          ],
          [
           46,
           3.608695652173913
          ],
          [
           65,
           2.723076923076923
          ],
          [
           86,
           3.5232558139534884
          ],
          [
           48,
           2.8958333333333335
          ],
          [
           54,
           3.5555555555555554
          ],
          [
           77,
           3.3376623376623376
          ],
          [
           1,
           3
          ],
          [
           219,
           2.808219178082192
          ],
          [
           107,
           3.046728971962617
          ],
          [
           34,
           2.5588235294117645
          ],
          [
           27,
           2.4444444444444446
          ],
          [
           100,
           3.06
          ],
          [
           49,
           2.4081632653061225
          ],
          [
           169,
           3.7928994082840237
          ],
          [
           157,
           3.356687898089172
          ],
          [
           50,
           3.68
          ],
          [
           69,
           2.1884057971014492
          ],
          [
           44,
           1.8409090909090908
          ],
          [
           87,
           3.1494252873563218
          ],
          [
           155,
           3.458064516129032
          ],
          [
           16,
           3.5
          ],
          [
           164,
           3.6280487804878048
          ],
          [
           91,
           3.6483516483516483
          ],
          [
           44,
           4.045454545454546
          ],
          [
           13,
           2.923076923076923
          ],
          [
           79,
           3.1392405063291138
          ],
          [
           40,
           3.425
          ],
          [
           10,
           3
          ],
          [
           102,
           3.676470588235294
          ],
          [
           15,
           2.6
          ],
          [
           10,
           4
          ],
          [
           53,
           3.018867924528302
          ],
          [
           19,
           3.5789473684210527
          ],
          [
           24,
           3.0416666666666665
          ],
          [
           137,
           3.9927007299270074
          ],
          [
           6,
           2.6666666666666665
          ],
          [
           70,
           3.9285714285714284
          ],
          [
           101,
           3.4752475247524752
          ],
          [
           104,
           4.028846153846154
          ],
          [
           79,
           3.569620253164557
          ],
          [
           1,
           4
          ],
          [
           51,
           3.0784313725490198
          ],
          [
           72,
           3.611111111111111
          ],
          [
           13,
           3.230769230769231
          ],
          [
           87,
           3.2758620689655173
          ],
          [
           58,
           3.1551724137931036
          ],
          [
           82,
           2.817073170731707
          ],
          [
           16,
           3.6875
          ],
          [
           29,
           2.413793103448276
          ],
          [
           86,
           3.0232558139534884
          ],
          [
           54,
           3.4444444444444446
          ],
          [
           58,
           2.9310344827586206
          ],
          [
           34,
           3.1470588235294117
          ],
          [
           76,
           3.486842105263158
          ],
          [
           16,
           2.75
          ],
          [
           14,
           2.4285714285714284
          ],
          [
           63,
           3.4603174603174605
          ],
          [
           45,
           3.022222222222222
          ],
          [
           81,
           3.4814814814814814
          ],
          [
           24,
           3.5
          ],
          [
           39,
           3.1538461538461537
          ],
          [
           180,
           3.65
          ],
          [
           15,
           3.2
          ],
          [
           27,
           2.5185185185185186
          ],
          [
           137,
           3.854014598540146
          ],
          [
           78,
           3.9358974358974357
          ],
          [
           59,
           2.983050847457627
          ],
          [
           31,
           2.838709677419355
          ],
          [
           164,
           3.323170731707317
          ],
          [
           63,
           3.4761904761904763
          ],
          [
           58,
           3.4482758620689653
          ],
          [
           267,
           3.644194756554307
          ],
          [
           39,
           1.9487179487179487
          ],
          [
           92,
           3.4565217391304346
          ],
          [
           16,
           3.875
          ],
          [
           119,
           3.6638655462184873
          ],
          [
           102,
           3.4607843137254903
          ],
          [
           316,
           3.1234177215189876
          ],
          [
           51,
           3.176470588235294
          ],
          [
           124,
           3.8548387096774195
          ],
          [
           180,
           3.4277777777777776
          ],
          [
           39,
           3.3076923076923075
          ],
          [
           24,
           3.7083333333333335
          ],
          [
           57,
           3.3859649122807016
          ],
          [
           96,
           3.3125
          ],
          [
           128,
           2.8984375
          ],
          [
           4,
           2.75
          ],
          [
           21,
           1.7142857142857142
          ],
          [
           11,
           2.1818181818181817
          ],
          [
           46,
           2.652173913043478
          ],
          [
           44,
           3.0454545454545454
          ],
          [
           115,
           3.391304347826087
          ],
          [
           149,
           3.389261744966443
          ],
          [
           29,
           2.7586206896551726
          ],
          [
           32,
           2.8125
          ],
          [
           9,
           3.111111111111111
          ],
          [
           11,
           2.1818181818181817
          ],
          [
           52,
           3.076923076923077
          ],
          [
           42,
           2.4523809523809526
          ],
          [
           57,
           3.3859649122807016
          ],
          [
           41,
           2.6341463414634148
          ],
          [
           49,
           3.061224489795918
          ],
          [
           17,
           2.9411764705882355
          ],
          [
           32,
           2.9375
          ],
          [
           26,
           2.769230769230769
          ],
          [
           9,
           3.2222222222222223
          ],
          [
           4,
           1.25
          ],
          [
           76,
           3.5526315789473686
          ],
          [
           31,
           2.5483870967741935
          ],
          [
           69,
           3
          ],
          [
           84,
           3.3333333333333335
          ],
          [
           10,
           2.6
          ],
          [
           37,
           2.72972972972973
          ],
          [
           2,
           1
          ],
          [
           39,
           3.1538461538461537
          ],
          [
           14,
           2.642857142857143
          ],
          [
           13,
           3.230769230769231
          ],
          [
           3,
           1.6666666666666667
          ],
          [
           47,
           3.574468085106383
          ],
          [
           66,
           2.909090909090909
          ],
          [
           10,
           2.5
          ],
          [
           86,
           3.7209302325581395
          ],
          [
           10,
           3.5
          ],
          [
           46,
           3.652173913043478
          ],
          [
           21,
           2.4285714285714284
          ],
          [
           36,
           3.0833333333333335
          ],
          [
           31,
           3.096774193548387
          ],
          [
           9,
           2.2222222222222223
          ],
          [
           5,
           3.2
          ],
          [
           26,
           2.8846153846153846
          ],
          [
           16,
           2.8125
          ],
          [
           40,
           2.7
          ],
          [
           9,
           2.5555555555555554
          ],
          [
           8,
           2.875
          ],
          [
           27,
           3.6296296296296298
          ],
          [
           50,
           3.46
          ],
          [
           9,
           2.7777777777777777
          ],
          [
           31,
           2.838709677419355
          ],
          [
           43,
           2.9069767441860463
          ],
          [
           45,
           2.888888888888889
          ],
          [
           18,
           3.9444444444444446
          ],
          [
           18,
           3.111111111111111
          ],
          [
           56,
           3.892857142857143
          ],
          [
           1,
           5
          ],
          [
           112,
           3.232142857142857
          ],
          [
           21,
           2.4285714285714284
          ],
          [
           3,
           2.6666666666666665
          ],
          [
           25,
           2.76
          ],
          [
           40,
           2.7
          ],
          [
           93,
           2.774193548387097
          ],
          [
           22,
           3.0454545454545454
          ],
          [
           4,
           3
          ],
          [
           82,
           2.8780487804878048
          ],
          [
           49,
           2.7551020408163267
          ],
          [
           83,
           3.036144578313253
          ],
          [
           80,
           2.575
          ],
          [
           57,
           2.7719298245614037
          ],
          [
           13,
           2.6923076923076925
          ],
          [
           34,
           2.6470588235294117
          ],
          [
           1,
           1
          ],
          [
           91,
           2.4615384615384617
          ],
          [
           22,
           2.5454545454545454
          ],
          [
           49,
           3.204081632653061
          ],
          [
           25,
           2.2
          ],
          [
           15,
           3.8666666666666667
          ],
          [
           26,
           3.769230769230769
          ],
          [
           25,
           3.92
          ],
          [
           4,
           2.75
          ],
          [
           4,
           2.5
          ],
          [
           53,
           2.660377358490566
          ],
          [
           48,
           2.75
          ],
          [
           27,
           3.1481481481481484
          ],
          [
           30,
           3
          ],
          [
           42,
           3.357142857142857
          ],
          [
           176,
           3.465909090909091
          ],
          [
           44,
           3.0681818181818183
          ],
          [
           55,
           3.727272727272727
          ],
          [
           9,
           3.5555555555555554
          ],
          [
           53,
           2.7169811320754715
          ],
          [
           4,
           4
          ],
          [
           4,
           3.75
          ],
          [
           1,
           1
          ],
          [
           14,
           3.857142857142857
          ],
          [
           16,
           3.375
          ],
          [
           66,
           3.727272727272727
          ],
          [
           36,
           3.8333333333333335
          ],
          [
           1,
           3
          ],
          [
           3,
           1
          ],
          [
           15,
           2.6666666666666665
          ],
          [
           16,
           2.25
          ],
          [
           3,
           2.3333333333333335
          ],
          [
           18,
           2.111111111111111
          ],
          [
           24,
           3.9166666666666665
          ],
          [
           86,
           3.1627906976744184
          ],
          [
           21,
           3.4761904761904763
          ],
          [
           119,
           3.319327731092437
          ],
          [
           6,
           4
          ],
          [
           5,
           3.8
          ],
          [
           24,
           3
          ],
          [
           9,
           2.7777777777777777
          ],
          [
           75,
           2.4
          ],
          [
           42,
           3.0952380952380953
          ],
          [
           81,
           2.962962962962963
          ],
          [
           39,
           3.2564102564102564
          ],
          [
           53,
           2.7358490566037736
          ],
          [
           47,
           2.702127659574468
          ],
          [
           52,
           2.5384615384615383
          ],
          [
           33,
           2.515151515151515
          ],
          [
           136,
           3.2720588235294117
          ],
          [
           59,
           3.169491525423729
          ],
          [
           45,
           2.933333333333333
          ],
          [
           34,
           3.2941176470588234
          ],
          [
           13,
           3.230769230769231
          ],
          [
           7,
           3.2857142857142856
          ],
          [
           13,
           2.230769230769231
          ],
          [
           53,
           3.0754716981132075
          ],
          [
           64,
           3.609375
          ],
          [
           15,
           3.466666666666667
          ],
          [
           13,
           3.3846153846153846
          ],
          [
           43,
           1.9534883720930232
          ],
          [
           6,
           2.6666666666666665
          ],
          [
           53,
           2.7547169811320753
          ],
          [
           14,
           2.4285714285714284
          ],
          [
           19,
           1.894736842105263
          ],
          [
           106,
           3.2169811320754715
          ],
          [
           44,
           3.772727272727273
          ],
          [
           2,
           1.5
          ],
          [
           58,
           3.2241379310344827
          ],
          [
           9,
           3.4444444444444446
          ],
          [
           42,
           3.6904761904761907
          ],
          [
           12,
           1.9166666666666667
          ],
          [
           42,
           3.8333333333333335
          ],
          [
           18,
           3.111111111111111
          ],
          [
           20,
           3.45
          ],
          [
           27,
           3.2222222222222223
          ],
          [
           21,
           3.1904761904761907
          ],
          [
           2,
           2
          ],
          [
           20,
           2.5
          ],
          [
           13,
           3.769230769230769
          ],
          [
           4,
           2
          ],
          [
           4,
           2.5
          ],
          [
           9,
           3
          ],
          [
           2,
           2.5
          ],
          [
           11,
           2.727272727272727
          ],
          [
           13,
           3.923076923076923
          ],
          [
           18,
           3.1666666666666665
          ],
          [
           7,
           3.4285714285714284
          ],
          [
           8,
           3
          ],
          [
           96,
           3.7916666666666665
          ],
          [
           5,
           2.2
          ],
          [
           46,
           3.9782608695652173
          ],
          [
           34,
           3.823529411764706
          ],
          [
           58,
           4.155172413793103
          ],
          [
           85,
           3.4
          ],
          [
           34,
           3.323529411764706
          ],
          [
           101,
           2.702970297029703
          ],
          [
           6,
           3.1666666666666665
          ],
          [
           104,
           3.1153846153846154
          ],
          [
           40,
           2.7
          ],
          [
           80,
           2.7
          ],
          [
           57,
           2.1578947368421053
          ],
          [
           40,
           2.925
          ],
          [
           21,
           2.4285714285714284
          ],
          [
           68,
           2.926470588235294
          ],
          [
           7,
           3.2857142857142856
          ],
          [
           32,
           3.9375
          ],
          [
           37,
           3.4054054054054053
          ],
          [
           25,
           2.88
          ],
          [
           60,
           3.6
          ],
          [
           32,
           2.34375
          ],
          [
           46,
           3.0652173913043477
          ],
          [
           45,
           3.488888888888889
          ],
          [
           40,
           3.475
          ],
          [
           43,
           3
          ],
          [
           40,
           3.925
          ],
          [
           61,
           3.1475409836065573
          ],
          [
           17,
           3.235294117647059
          ],
          [
           48,
           2.1666666666666665
          ],
          [
           71,
           3.3380281690140845
          ],
          [
           30,
           2.9
          ],
          [
           39,
           2.8205128205128207
          ],
          [
           45,
           3.1777777777777776
          ],
          [
           22,
           3.3181818181818183
          ],
          [
           11,
           3.5454545454545454
          ],
          [
           49,
           3.4081632653061225
          ],
          [
           46,
           3.608695652173913
          ],
          [
           2,
           2
          ],
          [
           14,
           3.7857142857142856
          ],
          [
           64,
           3.46875
          ],
          [
           25,
           3.24
          ],
          [
           34,
           3.6176470588235294
          ],
          [
           23,
           3.130434782608696
          ],
          [
           41,
           4.2926829268292686
          ],
          [
           9,
           3.3333333333333335
          ],
          [
           21,
           3.6666666666666665
          ],
          [
           26,
           4.1923076923076925
          ],
          [
           12,
           3.1666666666666665
          ],
          [
           18,
           3.7222222222222223
          ],
          [
           75,
           3.8
          ],
          [
           8,
           3.25
          ],
          [
           34,
           3.676470588235294
          ],
          [
           28,
           3.1785714285714284
          ],
          [
           4,
           3.5
          ],
          [
           32,
           3.03125
          ],
          [
           44,
           3.159090909090909
          ],
          [
           12,
           1.8333333333333333
          ],
          [
           49,
           2.693877551020408
          ],
          [
           27,
           2.5185185185185186
          ],
          [
           35,
           3.2
          ],
          [
           22,
           3.1818181818181817
          ],
          [
           8,
           1.75
          ],
          [
           20,
           2.8
          ],
          [
           15,
           2.4
          ],
          [
           44,
           2.8636363636363638
          ],
          [
           22,
           2.8636363636363638
          ],
          [
           23,
           2.5652173913043477
          ],
          [
           4,
           2.5
          ],
          [
           86,
           2.313953488372093
          ],
          [
           32,
           2.84375
          ],
          [
           33,
           3.090909090909091
          ],
          [
           25,
           2.24
          ],
          [
           4,
           3
          ],
          [
           66,
           3.515151515151515
          ],
          [
           7,
           2.2857142857142856
          ],
          [
           31,
           3.161290322580645
          ],
          [
           14,
           2.5
          ],
          [
           16,
           2.125
          ],
          [
           16,
           2.5625
          ],
          [
           10,
           2.8
          ],
          [
           10,
           3
          ],
          [
           17,
           2
          ],
          [
           8,
           1.875
          ],
          [
           8,
           2.25
          ],
          [
           9,
           3.111111111111111
          ],
          [
           22,
           3.6818181818181817
          ],
          [
           23,
           2.8260869565217392
          ],
          [
           47,
           4.127659574468085
          ],
          [
           37,
           3.3783783783783785
          ],
          [
           64,
           3.375
          ],
          [
           44,
           3.25
          ],
          [
           93,
           3.225806451612903
          ],
          [
           100,
           3.53
          ],
          [
           38,
           2.289473684210526
          ],
          [
           98,
           3.061224489795918
          ],
          [
           12,
           2.8333333333333335
          ],
          [
           137,
           3.45985401459854
          ],
          [
           50,
           3.24
          ],
          [
           32,
           3.1875
          ],
          [
           31,
           3.967741935483871
          ],
          [
           35,
           3.8857142857142857
          ],
          [
           38,
           3.8157894736842106
          ],
          [
           32,
           3.4375
          ],
          [
           31,
           2.5806451612903225
          ],
          [
           15,
           3.6
          ],
          [
           44,
           2.9318181818181817
          ],
          [
           4,
           2.5
          ],
          [
           3,
           2.6666666666666665
          ],
          [
           148,
           3.0405405405405403
          ],
          [
           14,
           2
          ],
          [
           20,
           2.25
          ],
          [
           7,
           2.2857142857142856
          ],
          [
           16,
           2.875
          ],
          [
           32,
           2.78125
          ],
          [
           27,
           2.5185185185185186
          ],
          [
           68,
           3.161764705882353
          ],
          [
           24,
           2.75
          ],
          [
           24,
           2
          ],
          [
           17,
           2.823529411764706
          ],
          [
           90,
           4.011111111111111
          ],
          [
           25,
           2.6
          ],
          [
           62,
           3.193548387096774
          ],
          [
           28,
           3.142857142857143
          ],
          [
           8,
           3
          ],
          [
           40,
           3.225
          ],
          [
           25,
           3.24
          ],
          [
           46,
           3.1739130434782608
          ],
          [
           134,
           2.8358208955223883
          ],
          [
           73,
           3.0136986301369864
          ],
          [
           25,
           2.52
          ],
          [
           43,
           3.6511627906976742
          ],
          [
           41,
           3.2439024390243905
          ],
          [
           25,
           2.28
          ],
          [
           24,
           3.4583333333333335
          ],
          [
           23,
           2.3043478260869565
          ],
          [
           10,
           3.2
          ],
          [
           10,
           3.2
          ],
          [
           22,
           2.3181818181818183
          ],
          [
           15,
           3.2666666666666666
          ],
          [
           35,
           2.7714285714285714
          ],
          [
           39,
           3.051282051282051
          ],
          [
           29,
           2.9310344827586206
          ],
          [
           12,
           3.75
          ],
          [
           41,
           3.658536585365854
          ],
          [
           4,
           4.25
          ],
          [
           53,
           3.490566037735849
          ],
          [
           16,
           3
          ],
          [
           44,
           3.4545454545454546
          ],
          [
           12,
           3.1666666666666665
          ],
          [
           18,
           3.1666666666666665
          ],
          [
           27,
           3.740740740740741
          ],
          [
           16,
           2.875
          ],
          [
           7,
           2.4285714285714284
          ],
          [
           66,
           3.8181818181818183
          ],
          [
           77,
           2.961038961038961
          ],
          [
           7,
           3.4285714285714284
          ],
          [
           12,
           2.25
          ],
          [
           8,
           3.125
          ],
          [
           22,
           2.772727272727273
          ],
          [
           45,
           2.2444444444444445
          ],
          [
           2,
           4
          ],
          [
           8,
           2.75
          ],
          [
           8,
           2.625
          ],
          [
           6,
           2.5
          ],
          [
           21,
           3.857142857142857
          ],
          [
           11,
           3
          ],
          [
           21,
           3.2857142857142856
          ],
          [
           10,
           1.7
          ],
          [
           13,
           2.230769230769231
          ],
          [
           38,
           2.1315789473684212
          ],
          [
           37,
           2.4054054054054053
          ],
          [
           43,
           2.7209302325581395
          ],
          [
           12,
           2.5
          ],
          [
           23,
           3.0869565217391304
          ],
          [
           12,
           2.4166666666666665
          ],
          [
           29,
           2.6206896551724137
          ],
          [
           3,
           2.6666666666666665
          ],
          [
           18,
           3.5
          ],
          [
           42,
           3.6904761904761907
          ],
          [
           13,
           3.4615384615384617
          ],
          [
           8,
           2.625
          ],
          [
           74,
           3.77027027027027
          ],
          [
           7,
           2.4285714285714284
          ],
          [
           19,
           3.789473684210526
          ],
          [
           4,
           3
          ],
          [
           18,
           2.8333333333333335
          ],
          [
           4,
           3
          ],
          [
           18,
           3.0555555555555554
          ],
          [
           5,
           2.4
          ],
          [
           28,
           3.4285714285714284
          ],
          [
           41,
           2.8536585365853657
          ],
          [
           7,
           3.4285714285714284
          ],
          [
           15,
           2.8
          ],
          [
           22,
           3.272727272727273
          ],
          [
           10,
           3.3
          ],
          [
           29,
           3.413793103448276
          ],
          [
           13,
           3.6153846153846154
          ],
          [
           19,
           3.1052631578947367
          ],
          [
           47,
           3.25531914893617
          ],
          [
           59,
           3.6610169491525424
          ],
          [
           17,
           3
          ],
          [
           21,
           3.761904761904762
          ],
          [
           1,
           5
          ],
          [
           3,
           3.6666666666666665
          ],
          [
           12,
           3.8333333333333335
          ],
          [
           4,
           4.25
          ],
          [
           32,
           3.34375
          ],
          [
           11,
           2.909090909090909
          ],
          [
           13,
           2.6923076923076925
          ],
          [
           28,
           3.5714285714285716
          ],
          [
           1,
           4
          ],
          [
           13,
           4
          ],
          [
           32,
           2.625
          ],
          [
           30,
           2.966666666666667
          ],
          [
           38,
           3.3157894736842106
          ],
          [
           46,
           2.9782608695652173
          ],
          [
           29,
           3.4827586206896552
          ],
          [
           29,
           3.9655172413793105
          ],
          [
           5,
           3.4
          ],
          [
           33,
           2.606060606060606
          ],
          [
           17,
           2.2941176470588234
          ],
          [
           9,
           3.3333333333333335
          ],
          [
           44,
           4.045454545454546
          ],
          [
           15,
           4
          ],
          [
           3,
           3.6666666666666665
          ],
          [
           9,
           2.6666666666666665
          ],
          [
           3,
           2
          ],
          [
           21,
           3.6666666666666665
          ],
          [
           9,
           3.3333333333333335
          ],
          [
           26,
           3.8461538461538463
          ],
          [
           9,
           3.111111111111111
          ],
          [
           7,
           2.142857142857143
          ],
          [
           28,
           3.4285714285714284
          ],
          [
           19,
           3.473684210526316
          ],
          [
           12,
           3.3333333333333335
          ],
          [
           3,
           3.3333333333333335
          ],
          [
           1,
           3
          ],
          [
           25,
           2.88
          ],
          [
           4,
           4
          ],
          [
           11,
           3.5454545454545454
          ],
          [
           26,
           3.6153846153846154
          ],
          [
           13,
           2.923076923076923
          ],
          [
           5,
           1.6
          ],
          [
           25,
           2.68
          ],
          [
           6,
           2.1666666666666665
          ],
          [
           14,
           1.8571428571428572
          ],
          [
           12,
           3.1666666666666665
          ],
          [
           11,
           3.5454545454545454
          ],
          [
           22,
           3.3181818181818183
          ],
          [
           10,
           4.1
          ],
          [
           27,
           3.074074074074074
          ],
          [
           14,
           3.142857142857143
          ],
          [
           15,
           3.6666666666666665
          ],
          [
           7,
           2.5714285714285716
          ],
          [
           8,
           3.25
          ],
          [
           5,
           3.4
          ],
          [
           22,
           3.3636363636363638
          ],
          [
           7,
           1.8571428571428572
          ],
          [
           19,
           2.473684210526316
          ],
          [
           9,
           2.111111111111111
          ],
          [
           10,
           2.5
          ],
          [
           10,
           2.5
          ],
          [
           13,
           2.3076923076923075
          ],
          [
           19,
           2.210526315789474
          ],
          [
           10,
           2.5
          ],
          [
           18,
           2.2777777777777777
          ],
          [
           3,
           3.3333333333333335
          ],
          [
           13,
           3.230769230769231
          ],
          [
           44,
           2.772727272727273
          ],
          [
           3,
           5
          ],
          [
           11,
           3.3636363636363638
          ],
          [
           3,
           4.333333333333333
          ],
          [
           13,
           3.3846153846153846
          ],
          [
           10,
           3.8
          ],
          [
           31,
           4.064516129032258
          ],
          [
           11,
           3.272727272727273
          ],
          [
           3,
           3
          ],
          [
           45,
           3.5555555555555554
          ],
          [
           7,
           3.142857142857143
          ],
          [
           23,
           2.869565217391304
          ],
          [
           7,
           3.2857142857142856
          ],
          [
           1,
           5
          ],
          [
           8,
           3.5
          ],
          [
           21,
           4.0476190476190474
          ],
          [
           18,
           3.611111111111111
          ],
          [
           6,
           3
          ],
          [
           19,
           2.6842105263157894
          ],
          [
           17,
           2.2941176470588234
          ],
          [
           20,
           2.85
          ],
          [
           15,
           2.533333333333333
          ],
          [
           38,
           2.736842105263158
          ],
          [
           12,
           3.4166666666666665
          ],
          [
           6,
           2.8333333333333335
          ],
          [
           6,
           2.1666666666666665
          ],
          [
           9,
           2
          ],
          [
           30,
           1.9333333333333333
          ],
          [
           6,
           3
          ],
          [
           39,
           2.871794871794872
          ],
          [
           26,
           3.4615384615384617
          ],
          [
           20,
           2.9
          ],
          [
           30,
           3.3333333333333335
          ],
          [
           39,
           3.4871794871794872
          ],
          [
           25,
           2.68
          ],
          [
           4,
           3.5
          ],
          [
           12,
           2.6666666666666665
          ],
          [
           14,
           2.642857142857143
          ],
          [
           32,
           3.375
          ],
          [
           8,
           2.375
          ],
          [
           48,
           2.4583333333333335
          ],
          [
           13,
           2.1538461538461537
          ],
          [
           18,
           1.8333333333333333
          ],
          [
           22,
           2.5
          ],
          [
           17,
           2.4705882352941178
          ],
          [
           6,
           3.5
          ],
          [
           8,
           2.375
          ],
          [
           1,
           4
          ],
          [
           1,
           3
          ],
          [
           6,
           3.5
          ],
          [
           8,
           3.125
          ],
          [
           18,
           2.4444444444444446
          ],
          [
           26,
           3.6538461538461537
          ],
          [
           6,
           2.6666666666666665
          ],
          [
           5,
           2.6
          ],
          [
           7,
           3.7142857142857144
          ],
          [
           36,
           2.9166666666666665
          ],
          [
           19,
           3.210526315789474
          ],
          [
           7,
           1.5714285714285714
          ],
          [
           6,
           1.8333333333333333
          ],
          [
           19,
           3
          ],
          [
           12,
           2.8333333333333335
          ],
          [
           6,
           1.5
          ],
          [
           8,
           4.125
          ],
          [
           9,
           3
          ],
          [
           7,
           2.4285714285714284
          ],
          [
           11,
           1.8181818181818181
          ],
          [
           8,
           2.25
          ],
          [
           3,
           2
          ],
          [
           4,
           1.75
          ],
          [
           23,
           2.5217391304347827
          ],
          [
           4,
           2
          ],
          [
           4,
           2.75
          ],
          [
           4,
           3.25
          ],
          [
           8,
           3.625
          ],
          [
           15,
           2.933333333333333
          ],
          [
           7,
           3.2857142857142856
          ],
          [
           19,
           3.0526315789473686
          ],
          [
           12,
           3.1666666666666665
          ],
          [
           33,
           3
          ],
          [
           10,
           3.3
          ],
          [
           10,
           3.9
          ],
          [
           7,
           2.2857142857142856
          ],
          [
           7,
           2.7142857142857144
          ],
          [
           5,
           1.8
          ],
          [
           15,
           2.7333333333333334
          ],
          [
           11,
           1.7272727272727273
          ],
          [
           4,
           2.5
          ],
          [
           8,
           2.5
          ],
          [
           19,
           3.4210526315789473
          ],
          [
           16,
           3.625
          ],
          [
           9,
           2.888888888888889
          ],
          [
           16,
           2.6875
          ],
          [
           13,
           3.1538461538461537
          ],
          [
           9,
           3.2222222222222223
          ],
          [
           19,
           2.6842105263157894
          ],
          [
           26,
           2.8461538461538463
          ],
          [
           15,
           3.1333333333333333
          ],
          [
           17,
           3.7058823529411766
          ],
          [
           6,
           1.3333333333333333
          ],
          [
           7,
           3
          ],
          [
           7,
           2.142857142857143
          ],
          [
           2,
           1.5
          ],
          [
           15,
           2.2
          ],
          [
           3,
           1.6666666666666667
          ],
          [
           3,
           5
          ],
          [
           7,
           3.142857142857143
          ],
          [
           7,
           2.5714285714285716
          ],
          [
           20,
           3.25
          ],
          [
           12,
           2.8333333333333335
          ],
          [
           9,
           3.6666666666666665
          ],
          [
           8,
           3
          ],
          [
           9,
           2.3333333333333335
          ],
          [
           5,
           3.8
          ],
          [
           5,
           3.4
          ],
          [
           18,
           2.3333333333333335
          ],
          [
           2,
           2.5
          ],
          [
           7,
           2.4285714285714284
          ],
          [
           2,
           3
          ],
          [
           2,
           1.5
          ],
          [
           2,
           1
          ],
          [
           1,
           1
          ],
          [
           1,
           3
          ],
          [
           16,
           2.5
          ],
          [
           7,
           3
          ],
          [
           14,
           3.142857142857143
          ],
          [
           11,
           2.4545454545454546
          ],
          [
           23,
           3.130434782608696
          ],
          [
           7,
           2.7142857142857144
          ],
          [
           4,
           2
          ],
          [
           3,
           1.3333333333333333
          ],
          [
           4,
           1.75
          ],
          [
           1,
           1
          ],
          [
           2,
           2.5
          ],
          [
           6,
           2.3333333333333335
          ],
          [
           3,
           2.6666666666666665
          ],
          [
           5,
           2.4
          ],
          [
           1,
           1
          ],
          [
           6,
           3.3333333333333335
          ],
          [
           3,
           2.3333333333333335
          ],
          [
           6,
           3.1666666666666665
          ],
          [
           1,
           1
          ],
          [
           4,
           2.5
          ],
          [
           4,
           3
          ],
          [
           2,
           2
          ],
          [
           5,
           2.8
          ],
          [
           2,
           1
          ],
          [
           11,
           2.6363636363636362
          ],
          [
           10,
           1.8
          ],
          [
           9,
           2.3333333333333335
          ],
          [
           4,
           2.25
          ],
          [
           1,
           1
          ],
          [
           1,
           1
          ],
          [
           1,
           1
          ],
          [
           2,
           2.5
          ],
          [
           1,
           1
          ],
          [
           5,
           3.2
          ],
          [
           2,
           2
          ],
          [
           5,
           2.4
          ],
          [
           4,
           2.75
          ],
          [
           1,
           1
          ],
          [
           1,
           1
          ],
          [
           2,
           1.5
          ],
          [
           3,
           2
          ],
          [
           1,
           1
          ],
          [
           5,
           2.6
          ],
          [
           2,
           1
          ],
          [
           6,
           2.6666666666666665
          ],
          [
           3,
           2.6666666666666665
          ],
          [
           3,
           2.6666666666666665
          ],
          [
           2,
           3
          ],
          [
           2,
           1
          ],
          [
           2,
           1.5
          ],
          [
           3,
           2.6666666666666665
          ],
          [
           2,
           2
          ],
          [
           1,
           1
          ],
          [
           1,
           1
          ],
          [
           2,
           1.5
          ],
          [
           1,
           1
          ],
          [
           5,
           4.2
          ],
          [
           6,
           3.6666666666666665
          ],
          [
           4,
           2.75
          ],
          [
           3,
           2.6666666666666665
          ],
          [
           2,
           1.5
          ],
          [
           3,
           3
          ],
          [
           1,
           1
          ],
          [
           2,
           1
          ],
          [
           10,
           3.6
          ],
          [
           7,
           2.142857142857143
          ],
          [
           4,
           3.25
          ],
          [
           5,
           2.2
          ],
          [
           7,
           2.857142857142857
          ],
          [
           6,
           2.3333333333333335
          ],
          [
           8,
           3.25
          ],
          [
           4,
           2
          ],
          [
           6,
           2
          ],
          [
           3,
           1.6666666666666667
          ],
          [
           5,
           2.8
          ],
          [
           6,
           2.6666666666666665
          ],
          [
           3,
           2
          ],
          [
           6,
           3.3333333333333335
          ],
          [
           3,
           3
          ],
          [
           2,
           2
          ],
          [
           3,
           2
          ],
          [
           5,
           2
          ],
          [
           9,
           2.111111111111111
          ],
          [
           7,
           2.4285714285714284
          ],
          [
           6,
           2.3333333333333335
          ],
          [
           5,
           4.2
          ],
          [
           5,
           3.2
          ],
          [
           2,
           4.5
          ],
          [
           7,
           2.4285714285714284
          ],
          [
           10,
           3.1
          ],
          [
           18,
           3.2222222222222223
          ],
          [
           4,
           2.75
          ],
          [
           4,
           2.75
          ],
          [
           13,
           3.230769230769231
          ],
          [
           6,
           3.3333333333333335
          ],
          [
           5,
           3.4
          ],
          [
           20,
           2.25
          ],
          [
           3,
           1
          ],
          [
           7,
           2.857142857142857
          ],
          [
           4,
           2.75
          ],
          [
           28,
           2.5714285714285716
          ],
          [
           6,
           1.6666666666666667
          ],
          [
           8,
           2.75
          ],
          [
           1,
           2
          ],
          [
           9,
           2.4444444444444446
          ],
          [
           5,
           2.4
          ],
          [
           2,
           2.5
          ],
          [
           3,
           3.6666666666666665
          ],
          [
           16,
           2.125
          ],
          [
           3,
           1.3333333333333333
          ],
          [
           11,
           3.1818181818181817
          ],
          [
           4,
           2.25
          ],
          [
           4,
           2.25
          ],
          [
           3,
           2.3333333333333335
          ],
          [
           10,
           2.6
          ],
          [
           8,
           3.25
          ],
          [
           5,
           2.8
          ],
          [
           12,
           3.6666666666666665
          ],
          [
           4,
           2.75
          ],
          [
           3,
           2.3333333333333335
          ],
          [
           5,
           3.4
          ],
          [
           3,
           1
          ],
          [
           2,
           2
          ],
          [
           10,
           2.5
          ],
          [
           7,
           2.5714285714285716
          ],
          [
           2,
           2.5
          ],
          [
           9,
           2
          ],
          [
           5,
           2.4
          ],
          [
           8,
           3
          ],
          [
           5,
           3
          ],
          [
           7,
           2.5714285714285716
          ],
          [
           5,
           2.4
          ],
          [
           4,
           3.75
          ],
          [
           19,
           2.473684210526316
          ],
          [
           4,
           2.75
          ],
          [
           15,
           3.1333333333333333
          ],
          [
           1,
           3
          ],
          [
           3,
           3.6666666666666665
          ],
          [
           8,
           4.625
          ],
          [
           2,
           4
          ],
          [
           15,
           3.8666666666666667
          ],
          [
           1,
           4
          ],
          [
           1,
           2
          ],
          [
           6,
           3
          ],
          [
           2,
           2.5
          ],
          [
           7,
           3.7142857142857144
          ],
          [
           1,
           3
          ],
          [
           1,
           4
          ],
          [
           7,
           3.5714285714285716
          ],
          [
           1,
           3
          ],
          [
           1,
           2
          ],
          [
           7,
           3.7142857142857144
          ],
          [
           3,
           3.3333333333333335
          ],
          [
           3,
           2.3333333333333335
          ],
          [
           3,
           2.3333333333333335
          ],
          [
           6,
           4
          ],
          [
           2,
           5
          ],
          [
           6,
           3.3333333333333335
          ],
          [
           12,
           3.1666666666666665
          ],
          [
           5,
           2.6
          ],
          [
           9,
           2.4444444444444446
          ],
          [
           2,
           3.5
          ],
          [
           9,
           3.5555555555555554
          ],
          [
           6,
           2.8333333333333335
          ],
          [
           8,
           2.875
          ],
          [
           1,
           2
          ],
          [
           2,
           2.5
          ],
          [
           18,
           2.7222222222222223
          ],
          [
           8,
           2.75
          ],
          [
           11,
           2.272727272727273
          ],
          [
           2,
           3
          ],
          [
           1,
           4
          ],
          [
           12,
           3.4166666666666665
          ],
          [
           3,
           2.6666666666666665
          ],
          [
           4,
           3.5
          ],
          [
           1,
           1
          ],
          [
           5,
           2
          ],
          [
           4,
           3
          ],
          [
           5,
           2.2
          ],
          [
           3,
           3
          ],
          [
           2,
           3
          ],
          [
           1,
           4
          ],
          [
           1,
           1
          ],
          [
           1,
           1
          ],
          [
           5,
           3.6
          ],
          [
           5,
           2.8
          ],
          [
           2,
           3
          ],
          [
           1,
           4
          ],
          [
           4,
           3.25
          ],
          [
           2,
           5
          ],
          [
           5,
           3
          ],
          [
           2,
           1.5
          ],
          [
           10,
           3.1
          ],
          [
           3,
           3.6666666666666665
          ],
          [
           1,
           4
          ],
          [
           3,
           3.6666666666666665
          ],
          [
           1,
           3
          ],
          [
           3,
           2.3333333333333335
          ],
          [
           5,
           1.6
          ],
          [
           1,
           3
          ],
          [
           5,
           3.2
          ],
          [
           6,
           4
          ],
          [
           3,
           2
          ],
          [
           7,
           3.142857142857143
          ],
          [
           1,
           4
          ],
          [
           3,
           4
          ],
          [
           5,
           2.8
          ],
          [
           12,
           3
          ],
          [
           2,
           3
          ],
          [
           1,
           3
          ],
          [
           4,
           3
          ],
          [
           7,
           2.4285714285714284
          ],
          [
           2,
           3
          ],
          [
           8,
           4.25
          ],
          [
           1,
           4
          ],
          [
           1,
           4
          ],
          [
           7,
           2.4285714285714284
          ],
          [
           3,
           2.3333333333333335
          ],
          [
           5,
           2.8
          ],
          [
           5,
           2
          ],
          [
           7,
           3.2857142857142856
          ],
          [
           2,
           2
          ],
          [
           1,
           4
          ],
          [
           6,
           2.1666666666666665
          ],
          [
           4,
           3
          ],
          [
           1,
           5
          ],
          [
           4,
           4
          ],
          [
           3,
           3
          ],
          [
           4,
           1.75
          ],
          [
           10,
           2.8
          ],
          [
           2,
           3.5
          ],
          [
           2,
           3
          ],
          [
           1,
           3
          ],
          [
           3,
           2.6666666666666665
          ],
          [
           4,
           2.5
          ],
          [
           1,
           1
          ],
          [
           2,
           3
          ],
          [
           1,
           1
          ],
          [
           2,
           1.5
          ],
          [
           2,
           3
          ],
          [
           2,
           2
          ],
          [
           3,
           2
          ],
          [
           4,
           2.75
          ],
          [
           2,
           3
          ],
          [
           5,
           2.6
          ],
          [
           2,
           2
          ],
          [
           1,
           1
          ],
          [
           7,
           3.5714285714285716
          ],
          [
           1,
           1
          ],
          [
           4,
           2.75
          ],
          [
           1,
           1
          ],
          [
           1,
           1
          ],
          [
           1,
           1
          ],
          [
           1,
           1
          ],
          [
           1,
           1
          ],
          [
           1,
           1
          ],
          [
           1,
           1
          ],
          [
           1,
           1
          ],
          [
           1,
           1
          ],
          [
           1,
           1
          ],
          [
           1,
           1
          ],
          [
           1,
           1
          ],
          [
           2,
           2.5
          ],
          [
           1,
           1
          ],
          [
           1,
           1
          ],
          [
           1,
           1
          ],
          [
           1,
           1
          ],
          [
           2,
           2
          ],
          [
           1,
           1
          ],
          [
           1,
           1
          ],
          [
           1,
           1
          ],
          [
           1,
           1
          ],
          [
           1,
           1
          ],
          [
           1,
           1
          ],
          [
           2,
           2.5
          ],
          [
           1,
           1
          ],
          [
           1,
           1
          ],
          [
           2,
           2
          ],
          [
           4,
           3
          ],
          [
           2,
           2
          ],
          [
           6,
           3.1666666666666665
          ],
          [
           5,
           3.6
          ],
          [
           1,
           4
          ],
          [
           2,
           4.5
          ],
          [
           1,
           2
          ],
          [
           1,
           2
          ],
          [
           5,
           3
          ],
          [
           6,
           2.5
          ],
          [
           1,
           5
          ],
          [
           4,
           3.75
          ],
          [
           1,
           1
          ],
          [
           3,
           3.3333333333333335
          ],
          [
           1,
           3
          ],
          [
           1,
           4
          ],
          [
           4,
           3
          ],
          [
           1,
           2
          ],
          [
           3,
           3.3333333333333335
          ],
          [
           4,
           2.25
          ],
          [
           3,
           1.6666666666666667
          ],
          [
           3,
           2
          ],
          [
           2,
           3
          ],
          [
           4,
           3.75
          ],
          [
           1,
           4
          ],
          [
           1,
           3
          ],
          [
           10,
           3
          ],
          [
           1,
           4
          ],
          [
           2,
           3
          ],
          [
           1,
           1
          ],
          [
           1,
           3
          ],
          [
           9,
           3.2222222222222223
          ],
          [
           1,
           1
          ],
          [
           3,
           2.3333333333333335
          ],
          [
           3,
           4
          ],
          [
           1,
           2
          ],
          [
           1,
           4
          ],
          [
           1,
           1
          ],
          [
           1,
           3
          ],
          [
           4,
           3.75
          ],
          [
           2,
           4
          ],
          [
           1,
           3
          ],
          [
           2,
           3.5
          ],
          [
           1,
           3
          ],
          [
           1,
           3
          ],
          [
           1,
           2
          ],
          [
           1,
           3
          ],
          [
           1,
           4
          ],
          [
           1,
           3
          ],
          [
           1,
           3
          ],
          [
           3,
           4.333333333333333
          ],
          [
           1,
           3
          ],
          [
           1,
           3
          ],
          [
           2,
           4.5
          ],
          [
           4,
           3.75
          ],
          [
           2,
           1.5
          ],
          [
           1,
           4
          ],
          [
           2,
           3.5
          ],
          [
           1,
           3
          ],
          [
           1,
           2
          ],
          [
           1,
           3
          ],
          [
           1,
           4
          ],
          [
           1,
           4
          ],
          [
           3,
           1.6666666666666667
          ],
          [
           1,
           5
          ],
          [
           1,
           1
          ],
          [
           1,
           2
          ],
          [
           2,
           3.5
          ],
          [
           1,
           3
          ],
          [
           3,
           3
          ],
          [
           1,
           1
          ],
          [
           1,
           2
          ],
          [
           1,
           1
          ],
          [
           2,
           2.5
          ],
          [
           1,
           2
          ],
          [
           4,
           3.25
          ],
          [
           1,
           2
          ],
          [
           1,
           2
          ],
          [
           1,
           3
          ],
          [
           1,
           3
          ],
          [
           1,
           2
          ],
          [
           1,
           3
          ],
          [
           1,
           1
          ],
          [
           2,
           2
          ],
          [
           1,
           3
          ],
          [
           1,
           4
          ],
          [
           1,
           3
          ],
          [
           1,
           2
          ],
          [
           1,
           3
          ],
          [
           1,
           1
          ],
          [
           1,
           3
          ],
          [
           1,
           2
          ],
          [
           1,
           3
          ],
          [
           1,
           3
          ]
         ],
         "hovertemplate": "bayesian_avg=%{y}<br>count=%{customdata[0]}<br>mean=%{customdata[1]}<extra></extra>",
         "legendgroup": "",
         "marker": {
          "color": "#636efa"
         },
         "name": "",
         "offsetgroup": "",
         "orientation": "v",
         "points": "all",
         "scalegroup": "True",
         "showlegend": false,
         "type": "violin",
         "x0": " ",
         "xaxis": "x",
         "y": [
          3.55,
          2.53,
          2.25,
          3,
          2.38,
          1.82,
          3.44,
          3.37,
          3.42,
          2.72,
          3.28,
          3.78,
          2.84,
          3.25,
          3.32,
          1.9,
          2.31,
          1.3,
          2.61,
          2.35,
          2.05,
          3.63,
          3.37,
          2.84,
          3.04,
          2.37,
          2.06,
          3.42,
          2.11,
          2.16,
          2.91,
          2.63,
          2.54,
          1.23,
          1.23,
          1.25,
          1.19,
          2.36,
          2.37,
          1.95,
          1.83,
          3.02,
          1.84,
          2.36,
          2.77,
          1.83,
          2.81,
          3.07,
          2.36,
          4.05,
          2.44,
          2.7,
          2.35,
          2.44,
          2.95,
          3.67,
          2.24,
          2.99,
          2.8,
          2.59,
          2.45,
          2.48,
          2.24,
          3.86,
          2.69,
          2.88,
          2.32,
          2.69,
          3.42,
          3.16,
          3.2,
          2.52,
          2.7,
          1.26,
          1.2,
          2.17,
          2.65,
          1.55,
          3.59,
          1.97,
          2.68,
          3.23,
          3.3,
          1.5,
          2.03,
          3.12,
          3.05,
          3,
          3.59,
          2.28,
          2.84,
          2.68,
          2.8,
          2.47,
          3.22,
          3.51,
          3.28,
          3.86,
          3.03,
          3.83,
          2.27,
          2.04,
          1.22,
          1.08,
          1.89,
          2.05,
          2.07,
          2.11,
          2.68,
          1.55,
          3.05,
          1.4,
          1.45,
          2.85,
          1.59,
          2.93,
          3.33,
          2.85,
          1.27,
          1.68,
          3.15,
          1.88,
          2.49,
          3.33,
          3.07,
          2.76,
          3.88,
          2.35,
          2.95,
          1.39,
          2.7,
          3.49,
          3.14,
          3.54,
          3.42,
          3.01,
          3.17,
          1.42,
          1.84,
          2.15,
          2.39,
          2.04,
          3.19,
          3.32,
          1.78,
          1.26,
          2.88,
          2.52,
          1.6,
          3.07,
          3.23,
          2.55,
          3.26,
          3.06,
          2.33,
          3.15,
          2.85,
          1.84,
          2.42,
          2.35,
          2.96,
          2.66,
          2.57,
          2.87,
          2.64,
          2.57,
          2.06,
          3.59,
          3.32,
          3.15,
          2.53,
          3.76,
          3.69,
          3.86,
          3.2,
          3.45,
          3.01,
          3.28,
          3.3,
          3.41,
          3.7,
          3.35,
          3.53,
          2.62,
          3.49,
          3.3,
          3.49,
          3,
          2.66,
          3.14,
          3.61,
          3.08,
          3.13,
          3.46,
          3.46,
          3.37,
          3.5,
          3.07,
          3.35,
          3.2,
          2.53,
          3.29,
          3.17,
          3.43,
          3.1,
          2.12,
          2.51,
          3.28,
          3.23,
          3.49,
          3.27,
          2.51,
          3.08,
          2.56,
          3.12,
          3.42,
          2.46,
          2.84,
          2.43,
          2.27,
          2.54,
          3.29,
          3.24,
          2.18,
          2.25,
          2.75,
          2.68,
          3.27,
          2.58,
          2.9,
          2.2,
          2.41,
          2.56,
          3.3,
          2.46,
          2.16,
          3.35,
          3.34,
          2.81,
          2.31,
          2.76,
          3,
          2.01,
          2,
          2.7,
          3,
          1.11,
          2.96,
          2.56,
          2.91,
          2.45,
          2.43,
          1.86,
          1.77,
          2.77,
          1.58,
          3.3,
          3.52,
          2.25,
          2.09,
          1.68,
          2.45,
          1.32,
          2.12,
          3.28,
          1.67,
          1.37,
          3.27,
          3.47,
          2.82,
          2.75,
          3.52,
          3.04,
          2.92,
          3.47,
          3.26,
          2.37,
          2.15,
          1.77,
          2.31,
          2.54,
          3.15,
          3.05,
          2.66,
          3.4,
          3.37,
          2.49,
          3.18,
          2.62,
          2.33,
          2.63,
          2.77,
          3.01,
          2.93,
          2.38,
          1.26,
          2.38,
          3.13,
          2.09,
          3.32,
          2.84,
          3.64,
          2.88,
          2.83,
          2.59,
          2.84,
          2.92,
          1.69,
          1.63,
          2.86,
          2.52,
          2.26,
          3.78,
          1.05,
          3.27,
          3.11,
          2.86,
          3.9,
          2.69,
          1.81,
          2.59,
          2.65,
          2.56,
          2.46,
          2.07,
          2.77,
          2.79,
          3.03,
          2.03,
          1.86,
          2.68,
          2.75,
          3.11,
          2.25,
          1.5,
          1.71,
          1.5,
          2.02,
          2.02,
          2.98,
          1.37,
          1.92,
          2.43,
          2.3,
          2.28,
          2.81,
          2.77,
          1.75,
          1.69,
          1.91,
          1.47,
          1.38,
          1.31,
          2.39,
          1.82,
          2.5,
          3.7,
          2.16,
          1.62,
          1.36,
          1.4,
          1.62,
          1.79,
          1.67,
          2.02,
          2.06,
          2.84,
          1.34,
          1.81,
          1.75,
          2.17,
          1.95,
          1.78,
          1.24,
          1.3,
          1.56,
          1.25,
          2.73,
          1.86,
          2.56,
          2.62,
          2.71,
          1.4,
          1.98,
          3,
          2.1,
          2.27,
          1.48,
          1.8,
          1.36,
          1.9,
          2.38,
          2.85,
          1.43,
          1.8,
          1.89,
          1.31,
          1.36,
          2.4,
          1.44,
          2.03,
          2.84,
          2.89,
          2.7,
          2.98,
          1.68,
          1.66,
          3.3,
          2.18,
          2.57,
          2.42,
          1.87,
          1.81,
          2.32,
          1.58,
          2.31,
          2.18,
          2.78,
          3.06,
          2.56,
          2.68,
          1.6,
          3.37,
          1.12,
          2.63,
          1.68,
          3.6,
          2.91,
          2.84,
          2.85,
          2.84,
          3.08,
          3.01,
          2.53,
          3.32,
          2.6,
          1.05,
          1.06,
          1.05,
          1.16,
          1.77,
          1.06,
          3.07,
          1.78,
          1.71,
          1.23,
          2.7,
          2.43,
          2.37,
          1.74,
          2.75,
          1.9,
          1.24,
          1.44,
          2.61,
          1.61,
          1.27,
          2.3,
          1.83,
          1.68,
          2.48,
          3.02,
          2.58,
          1.85,
          2.53,
          2.24,
          2.28,
          2.22,
          2.5,
          2.74,
          3.07,
          2.53,
          2.46,
          3.5,
          3.34,
          2.49,
          2.38,
          3,
          3.45,
          3.48,
          2.54,
          3.05,
          3.79,
          3.26,
          2.93,
          2.47,
          2.68,
          2.7,
          2.48,
          2.41,
          2.5,
          2.45,
          2.61,
          2.48,
          2.35,
          3.49,
          2.54,
          3.3,
          2.53,
          2.03,
          2.7,
          2.35,
          2.08,
          2.91,
          2.62,
          2.74,
          2.77,
          3.04,
          2.93,
          2.99,
          3.42,
          2.49,
          2.85,
          3.2,
          3.48,
          2.55,
          2.7,
          2.61,
          2.8,
          3.12,
          2.91,
          2.06,
          3.21,
          2.35,
          2.69,
          2.93,
          3.33,
          3.12,
          2.84,
          2.76,
          3.02,
          1.66,
          1.58,
          1.46,
          2.06,
          1.38,
          1.92,
          2.3,
          1.66,
          1.66,
          1.88,
          1.73,
          1.72,
          2.2,
          1.18,
          2.66,
          1.99,
          1.24,
          2.58,
          2.65,
          1.44,
          1.83,
          2.2,
          2.16,
          1.19,
          1.29,
          1.51,
          2.47,
          2.54,
          1.5,
          2.06,
          2.02,
          1.5,
          1.36,
          1.49,
          2.94,
          1.7,
          3.11,
          1.93,
          1.99,
          1.52,
          1.61,
          1.73,
          1.28,
          1.69,
          2.25,
          1.53,
          2.33,
          1.43,
          1.86,
          2.13,
          2.93,
          1.8,
          2.47,
          1.62,
          1.64,
          1.53,
          3.17,
          2.3,
          1.27,
          2.96,
          1.35,
          1.41,
          1.16,
          2.11,
          2.64,
          2.68,
          1.13,
          1.05,
          1.12,
          1.79,
          2.26,
          3.65,
          2.76,
          1.84,
          2.63,
          2.59,
          2.02,
          2.32,
          2.12,
          2.28,
          2.1,
          1.98,
          2.3,
          2.55,
          2.28,
          1.69,
          1.65,
          2.15,
          1.91,
          1.34,
          1.97,
          1.79,
          1.65,
          2.37,
          1.19,
          2.26,
          2.87,
          2.34,
          1.82,
          2.77,
          2.46,
          2.67,
          1.83,
          1.52,
          2.38,
          1.82,
          2.21,
          2.12,
          2.2,
          2.18,
          2.51,
          1.17,
          2.06,
          1.91,
          2.15,
          2.7,
          2.63,
          2.12,
          2.42,
          3.3,
          2.76,
          2.09,
          3.25,
          3.29,
          2.31,
          3.26,
          2.4,
          3.05,
          3.01,
          2.87,
          2.43,
          2.94,
          2.14,
          2.17,
          1.16,
          1.24,
          1.15,
          1.15,
          1.79,
          2.17,
          1.92,
          2.51,
          1.88,
          2.24,
          2.34,
          1.08,
          2.43,
          2.33,
          1.6,
          1.49,
          2.31,
          1.66,
          3.08,
          2.72,
          2.25,
          1.66,
          1.39,
          2.3,
          2.79,
          1.57,
          2.94,
          2.62,
          2.33,
          1.39,
          2.24,
          2.01,
          1.33,
          2.71,
          1.36,
          1.48,
          1.98,
          1.66,
          1.62,
          3.1,
          1.2,
          2.61,
          2.58,
          2.95,
          2.49,
          1.1,
          1.99,
          2.45,
          1.44,
          2.37,
          2.09,
          2.08,
          1.61,
          1.5,
          2.22,
          2.19,
          1.98,
          1.81,
          2.42,
          1.41,
          1.31,
          2.29,
          1.9,
          2.45,
          1.76,
          1.88,
          3,
          1.48,
          1.51,
          3.01,
          2.69,
          2.01,
          1.66,
          2.72,
          2.3,
          2.24,
          3.17,
          1.41,
          2.51,
          1.65,
          2.79,
          2.57,
          2.8,
          2.03,
          2.95,
          2.84,
          1.95,
          1.82,
          2.19,
          2.45,
          2.31,
          1.16,
          1.22,
          1.23,
          1.75,
          1.9,
          2.59,
          2.72,
          1.61,
          1.67,
          1.32,
          1.23,
          2,
          1.63,
          2.19,
          1.7,
          1.96,
          1.47,
          1.71,
          1.57,
          1.34,
          1.06,
          2.45,
          1.56,
          2.1,
          2.39,
          1.27,
          1.7,
          1.05,
          1.88,
          1.36,
          1.44,
          1.08,
          2.17,
          2.03,
          1.26,
          2.63,
          1.4,
          2.19,
          1.41,
          1.82,
          1.75,
          1.21,
          1.22,
          1.61,
          1.43,
          1.71,
          1.25,
          1.27,
          1.86,
          2.15,
          1.28,
          1.66,
          1.83,
          1.84,
          1.72,
          1.53,
          2.43,
          1.12,
          2.48,
          1.41,
          1.13,
          1.56,
          1.71,
          2.1,
          1.59,
          1.17,
          2.11,
          1.82,
          2.21,
          1.93,
          1.89,
          1.35,
          1.63,
          1.05,
          1.9,
          1.46,
          2.02,
          1.39,
          1.62,
          1.88,
          1.9,
          1.16,
          1.14,
          1.81,
          1.81,
          1.71,
          1.71,
          2.01,
          2.86,
          1.91,
          2.34,
          1.38,
          1.84,
          1.24,
          1.22,
          1.05,
          1.59,
          1.54,
          2.46,
          2.1,
          1.08,
          1.05,
          1.38,
          1.31,
          1.11,
          1.3,
          1.88,
          2.3,
          1.68,
          2.56,
          1.32,
          1.26,
          1.61,
          1.28,
          1.8,
          1.9,
          2.15,
          1.93,
          1.85,
          1.78,
          1.75,
          1.57,
          2.6,
          2.11,
          1.86,
          1.87,
          1.44,
          1.29,
          1.26,
          2.01,
          2.38,
          1.54,
          1.47,
          1.43,
          1.2,
          1.85,
          1.31,
          1.26,
          2.44,
          2.21,
          1.07,
          2.12,
          1.37,
          2.14,
          1.2,
          2.2,
          1.53,
          1.66,
          1.73,
          1.61,
          1.08,
          1.42,
          1.54,
          1.11,
          1.14,
          1.31,
          1.1,
          1.31,
          1.57,
          1.54,
          1.3,
          1.28,
          2.74,
          1.14,
          2.33,
          2.06,
          2.58,
          2.43,
          1.88,
          2.09,
          1.25,
          2.36,
          1.71,
          2,
          1.59,
          1.81,
          1.41,
          2.05,
          1.29,
          2.06,
          1.95,
          1.59,
          2.33,
          1.5,
          1.93,
          2.1,
          2.03,
          1.87,
          2.21,
          2.11,
          1.54,
          1.55,
          2.3,
          1.67,
          1.75,
          1.97,
          1.66,
          1.44,
          2.12,
          2.17,
          1.08,
          1.57,
          2.3,
          1.7,
          1.99,
          1.63,
          2.37,
          1.35,
          1.73,
          2.01,
          1.41,
          1.67,
          2.58,
          1.31,
          2.01,
          1.73,
          1.21,
          1.74,
          1.95,
          1.18,
          1.79,
          1.51,
          1.85,
          1.63,
          1.13,
          1.49,
          1.32,
          1.82,
          1.54,
          1.47,
          1.14,
          1.8,
          1.68,
          1.78,
          1.4,
          1.17,
          2.35,
          1.18,
          1.77,
          1.33,
          1.28,
          1.37,
          1.3,
          1.33,
          1.26,
          1.15,
          1.19,
          1.32,
          1.76,
          1.55,
          2.41,
          1.94,
          2.26,
          1.99,
          2.38,
          2.61,
          1.53,
          2.3,
          1.35,
          2.73,
          2.05,
          1.8,
          2.05,
          2.1,
          2.13,
          1.89,
          1.58,
          1.57,
          1.85,
          1.14,
          1.13,
          2.47,
          1.23,
          1.35,
          1.18,
          1.44,
          1.66,
          1.51,
          2.18,
          1.54,
          1.32,
          1.45,
          2.83,
          1.51,
          2.15,
          1.72,
          1.28,
          1.93,
          1.7,
          1.98,
          2.29,
          2.13,
          1.49,
          2.14,
          1.95,
          1.42,
          1.74,
          1.4,
          1.36,
          1.36,
          1.39,
          1.5,
          1.69,
          1.84,
          1.67,
          1.5,
          2.12,
          1.25,
          2.2,
          1.46,
          2.07,
          1.41,
          1.54,
          1.89,
          1.44,
          1.2,
          2.51,
          2.13,
          1.3,
          1.25,
          1.3,
          1.52,
          1.57,
          1.15,
          1.25,
          1.24,
          1.18,
          1.78,
          1.36,
          1.63,
          1.15,
          1.26,
          1.47,
          1.57,
          1.75,
          1.29,
          1.62,
          1.28,
          1.57,
          1.13,
          1.62,
          2.14,
          1.48,
          1.24,
          2.56,
          1.2,
          1.71,
          1.17,
          1.47,
          1.17,
          1.52,
          1.16,
          1.81,
          1.79,
          1.3,
          1.4,
          1.65,
          1.38,
          1.83,
          1.51,
          1.55,
          2.02,
          2.35,
          1.48,
          1.76,
          1.12,
          1.18,
          1.52,
          1.25,
          1.85,
          1.34,
          1.35,
          1.86,
          1.1,
          1.58,
          1.6,
          1.69,
          1.93,
          1.89,
          1.85,
          2.01,
          1.23,
          1.61,
          1.33,
          1.35,
          2.33,
          1.65,
          1.18,
          1.26,
          1.1,
          1.73,
          1.35,
          1.9,
          1.32,
          1.17,
          1.81,
          1.64,
          1.43,
          1.16,
          1.08,
          1.59,
          1.24,
          1.44,
          1.83,
          1.39,
          1.09,
          1.53,
          1.15,
          1.21,
          1.41,
          1.44,
          1.66,
          1.49,
          1.68,
          1.45,
          1.58,
          1.21,
          1.31,
          1.23,
          1.68,
          1.14,
          1.4,
          1.19,
          1.26,
          1.26,
          1.28,
          1.33,
          1.26,
          1.34,
          1.16,
          1.44,
          1.78,
          1.24,
          1.41,
          1.21,
          1.47,
          1.45,
          2.08,
          1.4,
          1.15,
          2.13,
          1.27,
          1.56,
          1.29,
          1.12,
          1.34,
          1.83,
          1.65,
          1.23,
          1.45,
          1.33,
          1.5,
          1.35,
          1.71,
          1.45,
          1.22,
          1.15,
          1.18,
          1.35,
          1.23,
          1.77,
          1.78,
          1.52,
          1.82,
          2.02,
          1.53,
          1.21,
          1.32,
          1.36,
          1.86,
          1.21,
          1.68,
          1.25,
          1.23,
          1.44,
          1.37,
          1.28,
          1.21,
          1.1,
          1.08,
          1.28,
          1.3,
          1.38,
          1.84,
          1.2,
          1.17,
          1.33,
          1.76,
          1.57,
          1.11,
          1.12,
          1.52,
          1.35,
          1.09,
          1.42,
          1.31,
          1.2,
          1.17,
          1.19,
          1.1,
          1.1,
          1.46,
          1.11,
          1.16,
          1.19,
          1.36,
          1.43,
          1.29,
          1.54,
          1.41,
          1.75,
          1.38,
          1.46,
          1.18,
          1.23,
          1.11,
          1.39,
          1.16,
          1.14,
          1.22,
          1.63,
          1.6,
          1.29,
          1.4,
          1.43,
          1.34,
          1.45,
          1.6,
          1.47,
          1.64,
          1.08,
          1.26,
          1.17,
          1.07,
          1.28,
          1.08,
          1.24,
          1.27,
          1.21,
          1.61,
          1.35,
          1.4,
          1.28,
          1.22,
          1.26,
          1.23,
          1.35,
          1.1,
          1.2,
          1.12,
          1.07,
          1.05,
          1.05,
          1.08,
          1.36,
          1.26,
          1.45,
          1.27,
          1.63,
          1.23,
          1.11,
          1.07,
          1.1,
          1.05,
          1.1,
          1.17,
          1.13,
          1.16,
          1.05,
          1.26,
          1.11,
          1.25,
          1.05,
          1.14,
          1.17,
          1.08,
          1.19,
          1.05,
          1.3,
          1.16,
          1.22,
          1.13,
          1.05,
          1.05,
          1.05,
          1.1,
          1.05,
          1.22,
          1.08,
          1.16,
          1.16,
          1.05,
          1.05,
          1.07,
          1.1,
          1.05,
          1.17,
          1.05,
          1.2,
          1.13,
          1.13,
          1.12,
          1.05,
          1.07,
          1.13,
          1.08,
          1.05,
          1.05,
          1.07,
          1.05,
          1.3,
          1.29,
          1.16,
          1.13,
          1.07,
          1.15,
          1.05,
          1.05,
          1.42,
          1.17,
          1.19,
          1.14,
          1.24,
          1.17,
          1.31,
          1.11,
          1.14,
          1.08,
          1.19,
          1.2,
          1.1,
          1.26,
          1.15,
          1.08,
          1.1,
          1.13,
          1.19,
          1.2,
          1.17,
          1.3,
          1.22,
          1.16,
          1.2,
          1.35,
          1.56,
          1.16,
          1.16,
          1.44,
          1.26,
          1.23,
          1.35,
          1.05,
          1.24,
          1.16,
          1.54,
          1.11,
          1.25,
          1.07,
          1.23,
          1.16,
          1.1,
          1.18,
          1.28,
          1.07,
          1.38,
          1.13,
          1.13,
          1.11,
          1.27,
          1.31,
          1.19,
          1.49,
          1.16,
          1.11,
          1.23,
          1.05,
          1.08,
          1.26,
          1.21,
          1.1,
          1.18,
          1.16,
          1.28,
          1.2,
          1.21,
          1.16,
          1.22,
          1.4,
          1.16,
          1.47,
          1.08,
          1.18,
          1.48,
          1.15,
          1.62,
          1.1,
          1.07,
          1.23,
          1.1,
          1.33,
          1.08,
          1.1,
          1.32,
          1.08,
          1.07,
          1.33,
          1.16,
          1.11,
          1.11,
          1.32,
          1.18,
          1.26,
          1.41,
          1.17,
          1.23,
          1.13,
          1.38,
          1.22,
          1.27,
          1.07,
          1.1,
          1.44,
          1.25,
          1.24,
          1.12,
          1.1,
          1.45,
          1.13,
          1.21,
          1.05,
          1.13,
          1.17,
          1.14,
          1.15,
          1.12,
          1.1,
          1.05,
          1.05,
          1.25,
          1.19,
          1.12,
          1.1,
          1.19,
          1.18,
          1.2,
          1.07,
          1.35,
          1.18,
          1.1,
          1.18,
          1.08,
          1.11,
          1.09,
          1.08,
          1.22,
          1.32,
          1.1,
          1.27,
          1.1,
          1.19,
          1.19,
          1.38,
          1.12,
          1.08,
          1.17,
          1.2,
          1.12,
          1.43,
          1.1,
          1.1,
          1.2,
          1.11,
          1.19,
          1.13,
          1.29,
          1.08,
          1.1,
          1.15,
          1.17,
          1.12,
          1.24,
          1.15,
          1.1,
          1.3,
          1.13,
          1.12,
          1.08,
          1.13,
          1.14,
          1.05,
          1.12,
          1.05,
          1.07,
          1.12,
          1.08,
          1.1,
          1.16,
          1.12,
          1.17,
          1.08,
          1.05,
          1.32,
          1.05,
          1.16,
          1.05,
          1.05,
          1.05,
          1.05,
          1.05,
          1.05,
          1.05,
          1.05,
          1.05,
          1.05,
          1.05,
          1.05,
          1.1,
          1.05,
          1.05,
          1.05,
          1.05,
          1.08,
          1.05,
          1.05,
          1.05,
          1.05,
          1.05,
          1.05,
          1.1,
          1.05,
          1.05,
          1.08,
          1.17,
          1.08,
          1.25,
          1.25,
          1.1,
          1.16,
          1.07,
          1.07,
          1.2,
          1.18,
          1.12,
          1.22,
          1.05,
          1.16,
          1.08,
          1.1,
          1.17,
          1.07,
          1.16,
          1.13,
          1.08,
          1.1,
          1.12,
          1.22,
          1.1,
          1.08,
          1.33,
          1.1,
          1.12,
          1.05,
          1.08,
          1.34,
          1.05,
          1.11,
          1.19,
          1.07,
          1.1,
          1.05,
          1.08,
          1.22,
          1.15,
          1.08,
          1.13,
          1.08,
          1.08,
          1.07,
          1.08,
          1.1,
          1.08,
          1.08,
          1.21,
          1.08,
          1.08,
          1.16,
          1.22,
          1.07,
          1.1,
          1.13,
          1.08,
          1.07,
          1.08,
          1.1,
          1.1,
          1.08,
          1.12,
          1.05,
          1.07,
          1.13,
          1.08,
          1.15,
          1.05,
          1.07,
          1.05,
          1.1,
          1.07,
          1.19,
          1.07,
          1.07,
          1.08,
          1.08,
          1.07,
          1.08,
          1.05,
          1.08,
          1.08,
          1.1,
          1.08,
          1.07,
          1.08,
          1.05,
          1.08,
          1.07,
          1.08,
          1.08
         ],
         "y0": " ",
         "yaxis": "y"
        }
       ],
       "layout": {
        "legend": {
         "tracegroupgap": 0
        },
        "margin": {
         "t": 60
        },
        "template": {
         "data": {
          "bar": [
           {
            "error_x": {
             "color": "#2a3f5f"
            },
            "error_y": {
             "color": "#2a3f5f"
            },
            "marker": {
             "line": {
              "color": "#E5ECF6",
              "width": 0.5
             },
             "pattern": {
              "fillmode": "overlay",
              "size": 10,
              "solidity": 0.2
             }
            },
            "type": "bar"
           }
          ],
          "barpolar": [
           {
            "marker": {
             "line": {
              "color": "#E5ECF6",
              "width": 0.5
             },
             "pattern": {
              "fillmode": "overlay",
              "size": 10,
              "solidity": 0.2
             }
            },
            "type": "barpolar"
           }
          ],
          "carpet": [
           {
            "aaxis": {
             "endlinecolor": "#2a3f5f",
             "gridcolor": "white",
             "linecolor": "white",
             "minorgridcolor": "white",
             "startlinecolor": "#2a3f5f"
            },
            "baxis": {
             "endlinecolor": "#2a3f5f",
             "gridcolor": "white",
             "linecolor": "white",
             "minorgridcolor": "white",
             "startlinecolor": "#2a3f5f"
            },
            "type": "carpet"
           }
          ],
          "choropleth": [
           {
            "colorbar": {
             "outlinewidth": 0,
             "ticks": ""
            },
            "type": "choropleth"
           }
          ],
          "contour": [
           {
            "colorbar": {
             "outlinewidth": 0,
             "ticks": ""
            },
            "colorscale": [
             [
              0,
              "#0d0887"
             ],
             [
              0.1111111111111111,
              "#46039f"
             ],
             [
              0.2222222222222222,
              "#7201a8"
             ],
             [
              0.3333333333333333,
              "#9c179e"
             ],
             [
              0.4444444444444444,
              "#bd3786"
             ],
             [
              0.5555555555555556,
              "#d8576b"
             ],
             [
              0.6666666666666666,
              "#ed7953"
             ],
             [
              0.7777777777777778,
              "#fb9f3a"
             ],
             [
              0.8888888888888888,
              "#fdca26"
             ],
             [
              1,
              "#f0f921"
             ]
            ],
            "type": "contour"
           }
          ],
          "contourcarpet": [
           {
            "colorbar": {
             "outlinewidth": 0,
             "ticks": ""
            },
            "type": "contourcarpet"
           }
          ],
          "heatmap": [
           {
            "colorbar": {
             "outlinewidth": 0,
             "ticks": ""
            },
            "colorscale": [
             [
              0,
              "#0d0887"
             ],
             [
              0.1111111111111111,
              "#46039f"
             ],
             [
              0.2222222222222222,
              "#7201a8"
             ],
             [
              0.3333333333333333,
              "#9c179e"
             ],
             [
              0.4444444444444444,
              "#bd3786"
             ],
             [
              0.5555555555555556,
              "#d8576b"
             ],
             [
              0.6666666666666666,
              "#ed7953"
             ],
             [
              0.7777777777777778,
              "#fb9f3a"
             ],
             [
              0.8888888888888888,
              "#fdca26"
             ],
             [
              1,
              "#f0f921"
             ]
            ],
            "type": "heatmap"
           }
          ],
          "heatmapgl": [
           {
            "colorbar": {
             "outlinewidth": 0,
             "ticks": ""
            },
            "colorscale": [
             [
              0,
              "#0d0887"
             ],
             [
              0.1111111111111111,
              "#46039f"
             ],
             [
              0.2222222222222222,
              "#7201a8"
             ],
             [
              0.3333333333333333,
              "#9c179e"
             ],
             [
              0.4444444444444444,
              "#bd3786"
             ],
             [
              0.5555555555555556,
              "#d8576b"
             ],
             [
              0.6666666666666666,
              "#ed7953"
             ],
             [
              0.7777777777777778,
              "#fb9f3a"
             ],
             [
              0.8888888888888888,
              "#fdca26"
             ],
             [
              1,
              "#f0f921"
             ]
            ],
            "type": "heatmapgl"
           }
          ],
          "histogram": [
           {
            "marker": {
             "pattern": {
              "fillmode": "overlay",
              "size": 10,
              "solidity": 0.2
             }
            },
            "type": "histogram"
           }
          ],
          "histogram2d": [
           {
            "colorbar": {
             "outlinewidth": 0,
             "ticks": ""
            },
            "colorscale": [
             [
              0,
              "#0d0887"
             ],
             [
              0.1111111111111111,
              "#46039f"
             ],
             [
              0.2222222222222222,
              "#7201a8"
             ],
             [
              0.3333333333333333,
              "#9c179e"
             ],
             [
              0.4444444444444444,
              "#bd3786"
             ],
             [
              0.5555555555555556,
              "#d8576b"
             ],
             [
              0.6666666666666666,
              "#ed7953"
             ],
             [
              0.7777777777777778,
              "#fb9f3a"
             ],
             [
              0.8888888888888888,
              "#fdca26"
             ],
             [
              1,
              "#f0f921"
             ]
            ],
            "type": "histogram2d"
           }
          ],
          "histogram2dcontour": [
           {
            "colorbar": {
             "outlinewidth": 0,
             "ticks": ""
            },
            "colorscale": [
             [
              0,
              "#0d0887"
             ],
             [
              0.1111111111111111,
              "#46039f"
             ],
             [
              0.2222222222222222,
              "#7201a8"
             ],
             [
              0.3333333333333333,
              "#9c179e"
             ],
             [
              0.4444444444444444,
              "#bd3786"
             ],
             [
              0.5555555555555556,
              "#d8576b"
             ],
             [
              0.6666666666666666,
              "#ed7953"
             ],
             [
              0.7777777777777778,
              "#fb9f3a"
             ],
             [
              0.8888888888888888,
              "#fdca26"
             ],
             [
              1,
              "#f0f921"
             ]
            ],
            "type": "histogram2dcontour"
           }
          ],
          "mesh3d": [
           {
            "colorbar": {
             "outlinewidth": 0,
             "ticks": ""
            },
            "type": "mesh3d"
           }
          ],
          "parcoords": [
           {
            "line": {
             "colorbar": {
              "outlinewidth": 0,
              "ticks": ""
             }
            },
            "type": "parcoords"
           }
          ],
          "pie": [
           {
            "automargin": true,
            "type": "pie"
           }
          ],
          "scatter": [
           {
            "fillpattern": {
             "fillmode": "overlay",
             "size": 10,
             "solidity": 0.2
            },
            "type": "scatter"
           }
          ],
          "scatter3d": [
           {
            "line": {
             "colorbar": {
              "outlinewidth": 0,
              "ticks": ""
             }
            },
            "marker": {
             "colorbar": {
              "outlinewidth": 0,
              "ticks": ""
             }
            },
            "type": "scatter3d"
           }
          ],
          "scattercarpet": [
           {
            "marker": {
             "colorbar": {
              "outlinewidth": 0,
              "ticks": ""
             }
            },
            "type": "scattercarpet"
           }
          ],
          "scattergeo": [
           {
            "marker": {
             "colorbar": {
              "outlinewidth": 0,
              "ticks": ""
             }
            },
            "type": "scattergeo"
           }
          ],
          "scattergl": [
           {
            "marker": {
             "colorbar": {
              "outlinewidth": 0,
              "ticks": ""
             }
            },
            "type": "scattergl"
           }
          ],
          "scattermapbox": [
           {
            "marker": {
             "colorbar": {
              "outlinewidth": 0,
              "ticks": ""
             }
            },
            "type": "scattermapbox"
           }
          ],
          "scatterpolar": [
           {
            "marker": {
             "colorbar": {
              "outlinewidth": 0,
              "ticks": ""
             }
            },
            "type": "scatterpolar"
           }
          ],
          "scatterpolargl": [
           {
            "marker": {
             "colorbar": {
              "outlinewidth": 0,
              "ticks": ""
             }
            },
            "type": "scatterpolargl"
           }
          ],
          "scatterternary": [
           {
            "marker": {
             "colorbar": {
              "outlinewidth": 0,
              "ticks": ""
             }
            },
            "type": "scatterternary"
           }
          ],
          "surface": [
           {
            "colorbar": {
             "outlinewidth": 0,
             "ticks": ""
            },
            "colorscale": [
             [
              0,
              "#0d0887"
             ],
             [
              0.1111111111111111,
              "#46039f"
             ],
             [
              0.2222222222222222,
              "#7201a8"
             ],
             [
              0.3333333333333333,
              "#9c179e"
             ],
             [
              0.4444444444444444,
              "#bd3786"
             ],
             [
              0.5555555555555556,
              "#d8576b"
             ],
             [
              0.6666666666666666,
              "#ed7953"
             ],
             [
              0.7777777777777778,
              "#fb9f3a"
             ],
             [
              0.8888888888888888,
              "#fdca26"
             ],
             [
              1,
              "#f0f921"
             ]
            ],
            "type": "surface"
           }
          ],
          "table": [
           {
            "cells": {
             "fill": {
              "color": "#EBF0F8"
             },
             "line": {
              "color": "white"
             }
            },
            "header": {
             "fill": {
              "color": "#C8D4E3"
             },
             "line": {
              "color": "white"
             }
            },
            "type": "table"
           }
          ]
         },
         "layout": {
          "annotationdefaults": {
           "arrowcolor": "#2a3f5f",
           "arrowhead": 0,
           "arrowwidth": 1
          },
          "autotypenumbers": "strict",
          "coloraxis": {
           "colorbar": {
            "outlinewidth": 0,
            "ticks": ""
           }
          },
          "colorscale": {
           "diverging": [
            [
             0,
             "#8e0152"
            ],
            [
             0.1,
             "#c51b7d"
            ],
            [
             0.2,
             "#de77ae"
            ],
            [
             0.3,
             "#f1b6da"
            ],
            [
             0.4,
             "#fde0ef"
            ],
            [
             0.5,
             "#f7f7f7"
            ],
            [
             0.6,
             "#e6f5d0"
            ],
            [
             0.7,
             "#b8e186"
            ],
            [
             0.8,
             "#7fbc41"
            ],
            [
             0.9,
             "#4d9221"
            ],
            [
             1,
             "#276419"
            ]
           ],
           "sequential": [
            [
             0,
             "#0d0887"
            ],
            [
             0.1111111111111111,
             "#46039f"
            ],
            [
             0.2222222222222222,
             "#7201a8"
            ],
            [
             0.3333333333333333,
             "#9c179e"
            ],
            [
             0.4444444444444444,
             "#bd3786"
            ],
            [
             0.5555555555555556,
             "#d8576b"
            ],
            [
             0.6666666666666666,
             "#ed7953"
            ],
            [
             0.7777777777777778,
             "#fb9f3a"
            ],
            [
             0.8888888888888888,
             "#fdca26"
            ],
            [
             1,
             "#f0f921"
            ]
           ],
           "sequentialminus": [
            [
             0,
             "#0d0887"
            ],
            [
             0.1111111111111111,
             "#46039f"
            ],
            [
             0.2222222222222222,
             "#7201a8"
            ],
            [
             0.3333333333333333,
             "#9c179e"
            ],
            [
             0.4444444444444444,
             "#bd3786"
            ],
            [
             0.5555555555555556,
             "#d8576b"
            ],
            [
             0.6666666666666666,
             "#ed7953"
            ],
            [
             0.7777777777777778,
             "#fb9f3a"
            ],
            [
             0.8888888888888888,
             "#fdca26"
            ],
            [
             1,
             "#f0f921"
            ]
           ]
          },
          "colorway": [
           "#636efa",
           "#EF553B",
           "#00cc96",
           "#ab63fa",
           "#FFA15A",
           "#19d3f3",
           "#FF6692",
           "#B6E880",
           "#FF97FF",
           "#FECB52"
          ],
          "font": {
           "color": "#2a3f5f"
          },
          "geo": {
           "bgcolor": "white",
           "lakecolor": "white",
           "landcolor": "#E5ECF6",
           "showlakes": true,
           "showland": true,
           "subunitcolor": "white"
          },
          "hoverlabel": {
           "align": "left"
          },
          "hovermode": "closest",
          "mapbox": {
           "style": "light"
          },
          "paper_bgcolor": "white",
          "plot_bgcolor": "#E5ECF6",
          "polar": {
           "angularaxis": {
            "gridcolor": "white",
            "linecolor": "white",
            "ticks": ""
           },
           "bgcolor": "#E5ECF6",
           "radialaxis": {
            "gridcolor": "white",
            "linecolor": "white",
            "ticks": ""
           }
          },
          "scene": {
           "xaxis": {
            "backgroundcolor": "#E5ECF6",
            "gridcolor": "white",
            "gridwidth": 2,
            "linecolor": "white",
            "showbackground": true,
            "ticks": "",
            "zerolinecolor": "white"
           },
           "yaxis": {
            "backgroundcolor": "#E5ECF6",
            "gridcolor": "white",
            "gridwidth": 2,
            "linecolor": "white",
            "showbackground": true,
            "ticks": "",
            "zerolinecolor": "white"
           },
           "zaxis": {
            "backgroundcolor": "#E5ECF6",
            "gridcolor": "white",
            "gridwidth": 2,
            "linecolor": "white",
            "showbackground": true,
            "ticks": "",
            "zerolinecolor": "white"
           }
          },
          "shapedefaults": {
           "line": {
            "color": "#2a3f5f"
           }
          },
          "ternary": {
           "aaxis": {
            "gridcolor": "white",
            "linecolor": "white",
            "ticks": ""
           },
           "baxis": {
            "gridcolor": "white",
            "linecolor": "white",
            "ticks": ""
           },
           "bgcolor": "#E5ECF6",
           "caxis": {
            "gridcolor": "white",
            "linecolor": "white",
            "ticks": ""
           }
          },
          "title": {
           "x": 0.05
          },
          "xaxis": {
           "automargin": true,
           "gridcolor": "white",
           "linecolor": "white",
           "ticks": "",
           "title": {
            "standoff": 15
           },
           "zerolinecolor": "white",
           "zerolinewidth": 2
          },
          "yaxis": {
           "automargin": true,
           "gridcolor": "white",
           "linecolor": "white",
           "ticks": "",
           "title": {
            "standoff": 15
           },
           "zerolinecolor": "white",
           "zerolinewidth": 2
          }
         }
        },
        "violinmode": "group",
        "xaxis": {
         "anchor": "y",
         "domain": [
          0,
          1
         ]
        },
        "yaxis": {
         "anchor": "x",
         "domain": [
          0,
          1
         ],
         "title": {
          "text": "bayesian_avg"
         }
        }
       }
      },
      "text/html": [
       "<div>                            <div id=\"6e96a7d1-f965-4d9d-9aad-e5a7963454d9\" class=\"plotly-graph-div\" style=\"height:525px; width:100%;\"></div>            <script type=\"text/javascript\">                require([\"plotly\"], function(Plotly) {                    window.PLOTLYENV=window.PLOTLYENV || {};                                    if (document.getElementById(\"6e96a7d1-f965-4d9d-9aad-e5a7963454d9\")) {                    Plotly.newPlot(                        \"6e96a7d1-f965-4d9d-9aad-e5a7963454d9\",                        [{\"alignmentgroup\":\"True\",\"box\":{\"visible\":true},\"customdata\":[[452.0,3.8783185840707963],[131.0,3.2061068702290076],[90.0,3.033333333333333],[209.0,3.550239234449761],[86.0,3.302325581395349],[26.0,3.576923076923077],[392.0,3.798469387755102],[219.0,3.9954337899543377],[299.0,3.8963210702341136],[89.0,3.831460674157303],[236.0,3.847457627118644],[267.0,4.385767790262173],[184.0,3.4184782608695654],[183.0,3.9672131147540983],[293.0,3.7781569965870307],[39.0,3.2051282051282053],[92.0,3.119565217391304],[10.0,2.8],[69.0,3.9565217391304346],[72.0,3.4166666666666665],[84.0,2.761904761904762],[297.0,4.151515151515151],[182.0,4.1208791208791204],[174.0,3.4482758620689653],[293.0,3.4436860068259385],[73.0,3.452054794520548],[57.0,3.1052631578947367],[276.0,3.931159420289855],[114.0,2.6666666666666665],[37.0,3.945945945945946],[154.0,3.6298701298701297],[81.0,3.7901234567901234],[97.0,3.4536082474226806],[7.0,2.7142857142857144],[11.0,2.1818181818181817],[13.0,2.1538461538461537],[8.0,2.25],[120.0,3.0083333333333333],[87.0,3.264367816091954],[57.0,2.8947368421052633],[37.0,3.081081081081081],[148.0,3.804054054054054],[40.0,3.0],[79.0,3.3417721518987342],[80.0,4.05],[27.0,3.5555555555555554],[133.0,3.601503759398496],[117.0,4.094017094017094],[81.0,3.3209876543209877],[583.0,4.3584905660377355],[81.0,3.45679012345679],[91.0,3.769230769230769],[128.0,2.953125],[104.0,3.2403846153846154],[149.0,3.704697986577181],[394.0,4.060913705583756],[40.0,4.0],[175.0,3.645714285714286],[83.0,4.0602409638554215],[64.0,4.015625],[59.0,3.864406779661017],[127.0,3.141732283464567],[82.0,3.097560975609756],[283.0,4.445229681978798],[115.0,3.5391304347826087],[162.0,3.549382716049383],[103.0,3.0485436893203883],[134.0,3.417910447761194],[321.0,3.853582554517134],[251.0,3.6613545816733066],[220.0,3.7818181818181817],[129.0,3.193798449612403],[128.0,3.46875],[7.0,3.0],[5.0,3.0],[54.0,3.4074074074074074],[151.0,3.2781456953642385],[33.0,2.4545454545454546],[336.0,4.044642857142857],[68.0,2.764705882352941],[110.0,3.5545454545454547],[261.0,3.7203065134099615],[176.0,4.0625],[18.0,3.0],[58.0,3.0344827586206895],[150.0,3.94],[138.0,3.9057971014492754],[213.0,3.539906103286385],[275.0,4.138181818181818],[95.0,3.0526315789473686],[143.0,3.5874125874125875],[104.0,3.6153846153846154],[112.0,3.7232142857142856],[137.0,3.0875912408759123],[219.0,3.8127853881278537],[295.0,4.0067796610169495],[256.0,3.79296875],[390.0,4.28974358974359],[172.0,3.7093023255813953],[508.0,4.155511811023622],[73.0,3.26027397260274],[54.0,3.1296296296296298],[15.0,1.8666666666666667],[5.0,1.4],[74.0,2.5675675675675675],[71.0,2.887323943661972],[42.0,3.5],[65.0,3.076923076923077],[130.0,3.4307692307692306],[31.0,2.5161290322580645],[272.0,3.485294117647059],[20.0,2.45],[9.0,4.111111111111111],[67.0,4.447761194029851],[15.0,3.7333333333333334],[125.0,3.824],[378.0,3.693121693121693],[293.0,3.2150170648464163],[4.0,4.5],[67.0,2.2388059701492535],[429.0,3.438228438228438],[106.0,2.339622641509434],[115.0,3.234782608695652],[187.0,4.053475935828877],[244.0,3.557377049180328],[97.0,3.804123711340206],[413.0,4.283292978208232],[65.0,3.5384615384615383],[129.0,3.8217054263565893],[23.0,2.260869565217391],[95.0,3.7263157894736842],[246.0,4.0772357723577235],[171.0,3.871345029239766],[198.0,4.292929292929293],[259.0,3.969111969111969],[105.0,4.123809523809523],[171.0,3.9005847953216373],[19.0,2.5789473684210527],[50.0,2.78],[61.0,3.2131147540983607],[72.0,3.5],[57.0,3.0701754385964914],[222.0,3.765765765765766],[243.0,3.8724279835390947],[65.0,2.4461538461538463],[10.0,2.5],[185.0,3.4702702702702704],[128.0,3.203125],[23.0,3.0],[157.0,3.828025477707006],[326.0,3.6319018404907975],[82.0,3.6341463414634148],[247.0,3.785425101214575],[174.0,3.7471264367816093],[98.0,3.1020408163265305],[148.0,3.9864864864864864],[127.0,3.6929133858267718],[60.0,2.6166666666666667],[101.0,3.227722772277228],[69.0,3.463768115942029],[220.0,3.481818181818182],[106.0,3.556603773584906],[92.0,3.5543478260869565],[151.0,3.589403973509934],[64.0,4.109375],[58.0,4.120689655172414],[67.0,2.955223880597015],[316.0,4.0664556962025316],[118.0,4.466101694915254],[121.0,4.1735537190082646],[65.0,3.876923076923077],[367.0,4.204359673024523],[324.0,4.172839506172839],[420.0,4.252380952380952],[208.0,3.8173076923076925],[284.0,3.9471830985915495],[137.0,3.8613138686131387],[125.0,4.344],[221.0,3.909502262443439],[221.0,4.04524886877828],[507.0,4.007889546351085],[226.0,3.9513274336283186],[291.0,4.034364261168385],[116.0,3.4310344827586206],[239.0,4.100418410041841],[251.0,3.8366533864541834],[209.0,4.186602870813397],[170.0,3.6823529411764704],[66.0,4.106060606060606],[124.0,4.137096774193548],[276.0,4.163043478260869],[116.0,4.120689655172414],[157.0,3.917197452229299],[241.0,4.058091286307054],[301.0,3.9335548172757475],[251.0,3.9163346613545817],[239.0,4.104602510460251],[127.0,4.0078740157480315],[165.0,4.175757575757576],[206.0,3.825242718446602],[89.0,3.5168539325842696],[280.0,3.7642857142857142],[182.0,3.868131868131868],[350.0,3.834285714285714],[136.0,3.9926470588235294],[50.0,3.38],[66.0,3.8181818181818183],[200.0,3.945],[191.0,3.905759162303665],[331.0,3.930513595166163],[206.0,3.912621359223301],[92.0,3.4565217391304346],[134.0,3.985074626865672],[114.0,3.3508771929824563],[212.0,3.69811320754717],[290.0,3.910344827586207],[120.0,3.158333333333333],[171.0,3.456140350877193],[111.0,3.171171171171171],[66.0,3.3636363636363638],[74.0,3.72972972972973],[365.0,3.66027397260274],[136.0,4.198529411764706],[44.0,3.7045454545454546],[109.0,2.908256880733945],[166.0,3.355421686746988],[161.0,3.279503105590062],[244.0,3.8155737704918034],[171.0,3.111111111111111],[199.0,3.4472361809045227],[142.0,2.683098591549296],[101.0,3.207920792079208],[124.0,3.2903225806451615],[280.0,3.775],[217.0,2.847926267281106],[45.0,3.6222222222222222],[384.0,3.7109375],[256.0,3.875],[150.0,3.513333333333333],[156.0,2.7884615384615383],[128.0,3.546875],[117.0,3.9914529914529915],[132.0,2.4393939393939394],[48.0,3.1666666666666665],[240.0,3.1083333333333334],[124.0,3.935483870967742],[5.0,1.8],[160.0,3.675],[130.0,3.246153846153846],[197.0,3.4771573604060912],[46.0,4.260869565217392],[158.0,2.9430379746835444],[26.0,3.6923076923076925],[62.0,2.4516129032258065],[172.0,3.36046511627907],[16.0,3.5625],[303.0,3.745874587458746],[509.0,3.8035363457760316],[162.0,2.685185185185185],[127.0,2.574803149606299],[43.0,2.558139534883721],[66.0,3.712121212121212],[19.0,2.1578947368421053],[101.0,2.742574257425743],[227.0,3.8634361233480177],[35.0,2.7142857142857144],[9.0,3.4444444444444446],[255.0,3.792156862745098],[315.0,3.926984126984127],[136.0,3.5955882352941178],[211.0,3.2322274881516586],[198.0,4.262626262626263],[223.0,3.569506726457399],[190.0,3.5],[268.0,4.0111940298507465],[298.0,3.697986577181208],[71.0,3.464788732394366],[60.0,3.2333333333333334],[28.0,3.2857142857142856],[85.0,3.1882352941176473],[146.0,3.143835616438356],[232.0,3.685344827586207],[177.0,3.7175141242937855],[193.0,3.160621761658031],[162.0,4.265432098765432],[481.0,3.656964656964657],[78.0,3.58974358974359],[478.0,3.4414225941422596],[259.0,2.9806949806949805],[96.0,3.1145833333333335],[127.0,3.37007874015748],[114.0,3.6666666666666665],[147.0,3.802721088435374],[485.0,3.156701030927835],[77.0,3.4025974025974026],[6.0,3.3333333333333335],[50.0,3.96],[194.0,3.768041237113402],[73.0,2.9315068493150687],[431.0,3.6310904872389793],[230.0,3.3043478260869565],[297.0,4.161616161616162],[134.0,3.6865671641791047],[149.0,3.5369127516778525],[87.0,3.6436781609195403],[96.0,3.9479166666666665],[188.0,3.515957446808511],[30.0,2.966666666666667],[28.0,2.857142857142857],[145.0,3.6],[75.0,3.68],[80.0,3.1625],[350.0,4.2457142857142856],[5.0,1.0],[160.0,4.1],[112.0,4.196428571428571],[102.0,3.911764705882353],[298.0,4.466442953020135],[168.0,3.2738095238095237],[20.0,4.05],[169.0,3.1301775147928996],[218.0,3.0871559633027523],[240.0,2.933333333333333],[125.0,3.136],[128.0,2.546875],[175.0,3.36],[175.0,3.3771428571428572],[295.0,3.4237288135593222],[45.0,3.3333333333333335],[41.0,3.024390243902439],[113.0,3.5398230088495577],[143.0,3.4615384615384617],[251.0,3.593625498007968],[64.0,3.359375],[21.0,2.761904761904762],[43.0,2.627906976744186],[18.0,3.0],[91.0,2.659340659340659],[47.0,3.25531914893617],[189.0,3.5873015873015874],[11.0,3.090909090909091],[52.0,2.923076923076923],[124.0,3.096774193548387],[55.0,3.6545454545454548],[65.0,3.4],[126.0,3.642857142857143],[137.0,3.510948905109489],[27.0,3.2962962962962963],[31.0,2.903225806451613],[41.0,3.1463414634146343],[20.0,2.7],[26.0,2.1153846153846154],[14.0,2.4285714285714284],[72.0,3.486111111111111],[41.0,2.926829268292683],[97.0,3.381443298969072],[264.0,4.291666666666667],[143.0,2.6153846153846154],[18.0,3.5],[10.0,3.2],[10.0,3.5],[28.0,2.8214285714285716],[47.0,2.723404255319149],[37.0,2.675675675675676],[48.0,3.2083333333333335],[47.0,3.3404255319148937],[170.0,3.458823529411765],[31.0,1.903225806451613],[55.0,2.6363636363636362],[39.0,2.8205128205128207],[67.0,3.1641791044776117],[34.0,3.5294117647058822],[39.0,2.8974358974358974],[11.0,2.272727272727273],[23.0,1.9565217391304348],[24.0,2.8333333333333335],[13.0,2.1538461538461537],[101.0,3.722772277227723],[43.0,2.9767441860465116],[116.0,3.336206896551724],[100.0,3.55],[111.0,3.5945945945945947],[31.0,2.064516129032258],[69.0,2.782608695652174],[208.0,3.5625],[87.0,2.8160919540229883],[65.0,3.3846153846153846],[28.0,2.392857142857143],[27.0,3.4444444444444446],[10.0,3.2],[59.0,2.7457627118644066],[68.0,3.5441176470588234],[192.0,3.4114583333333335],[12.0,3.3333333333333335],[56.0,2.5892857142857144],[54.0,2.814814814814815],[12.0,2.5833333333333335],[26.0,2.076923076923077],[89.0,3.303370786516854],[18.0,2.7222222222222223],[76.0,2.8026315789473686],[170.0,3.4647058823529413],[201.0,3.427860696517413],[101.0,3.6732673267326734],[344.0,3.313953488372093],[49.0,2.4489795918367347],[43.0,2.511627906976744],[112.0,4.491071428571429],[70.0,3.142857142857143],[162.0,3.1296296296296298],[163.0,2.914110429447853],[93.0,2.3978494623655915],[55.0,2.6363636363636362],[62.0,3.532258064516129],[25.0,2.84],[64.0,3.484375],[73.0,3.095890410958904],[129.0,3.5813953488372094],[178.0,3.7247191011235956],[81.0,3.6666666666666665],[106.0,3.5943396226415096],[26.0,2.8461538461538463],[300.0,3.8333333333333335],[19.0,1.3157894736842106],[85.0,3.7411764705882353],[32.0,2.84375],[219.0,4.292237442922374],[121.0,3.8181818181818183],[97.0,3.9381443298969074],[93.0,4.0],[153.0,3.5359477124183005],[174.0,3.7701149425287355],[171.0,3.690058479532164],[67.0,3.8358208955223883],[216.0,3.949074074074074],[99.0,3.5353535353535355],[5.0,1.0],[6.0,1.1666666666666667],[5.0,1.0],[14.0,1.6428571428571428],[53.0,2.5660377358490565],[4.0,1.25],[162.0,3.808641975308642],[46.0,2.717391304347826],[22.0,3.5],[9.0,2.4444444444444446],[121.0,3.5041322314049586],[85.0,3.388235294117647],[117.0,3.034188034188034],[63.0,2.3968253968253967],[170.0,3.347058823529412],[66.0,2.6666666666666665],[16.0,1.9375],[16.0,2.875],[145.0,3.2551724137931033],[48.0,2.3125],[27.0,1.7407407407407407],[90.0,3.1222222222222222],[24.0,3.75],[28.0,3.0],[74.0,3.6216216216216215],[148.0,3.804054054054054],[71.0,3.859154929577465],[27.0,3.5925925925925926],[85.0,3.5647058823529414],[52.0,3.5961538461538463],[48.0,3.7916666666666665],[64.0,3.3125],[67.0,3.7761194029850746],[108.0,3.6666666666666665],[221.0,3.6108597285067874],[158.0,3.0822784810126582],[126.0,3.126984126984127],[194.0,4.252577319587629],[250.0,3.884],[160.0,3.01875],[95.0,3.210526315789474],[104.0,4.115384615384615],[179.0,4.251396648044692],[179.0,4.284916201117318],[63.0,3.9365079365079363],[128.0,3.984375],[243.0,4.45679012345679],[138.0,4.2101449275362315],[125.0,3.816],[64.0,3.796875],[68.0,4.102941176470588],[65.0,4.2],[52.0,4.115384615384615],[50.0,4.02],[67.0,3.791044776119403],[59.0,3.864406779661017],[60.0,4.15],[56.0,4.0],[59.0,3.6610169491525424],[231.0,4.121212121212121],[68.0,3.838235294117647],[152.0,4.184210526315789],[62.0,3.9516129032258065],[31.0,3.903225806451613],[123.0,3.4959349593495936],[57.0,3.7017543859649122],[39.0,3.641025641025641],[122.0,3.819672131147541],[68.0,4.0],[90.0,3.8555555555555556],[98.0,3.816326530612245],[215.0,3.5953488372093023],[121.0,3.8512396694214877],[121.0,3.9421487603305785],[173.0,4.23121387283237],[57.0,4.0],[72.0,4.333333333333333],[180.0,3.911111111111111],[201.0,4.203980099502488],[63.0,3.9682539682539684],[91.0,3.769230769230769],[89.0,3.651685393258427],[80.0,4.1],[124.0,4.104838709677419],[120.0,3.8333333333333335],[35.0,3.7714285714285714],[164.0,3.9939024390243905],[46.0,4.021739130434782],[73.0,4.027397260273973],[124.0,3.8306451612903225],[195.0,4.02051282051282],[121.0,4.132231404958677],[93.0,3.978494623655914],[80.0,4.025],[129.0,3.9224806201550386],[22.0,3.3181818181818183],[15.0,3.6666666666666665],[13.0,3.3076923076923075],[54.0,3.1666666666666665],[10.0,3.3],[30.0,3.6333333333333333],[66.0,3.4242424242424243],[44.0,2.477272727272727],[43.0,2.511627906976744],[49.0,2.877551020408163],[51.0,2.5294117647058822],[21.0,3.619047619047619],[71.0,3.1549295774647885],[12.0,1.8333333333333333],[254.0,3.031496062992126],[41.0,3.341463414634146],[12.0,2.1666666666666665],[92.0,3.5652173913043477],[151.0,3.2847682119205297],[24.0,2.4166666666666665],[45.0,2.8666666666666667],[63.0,3.2857142857142856],[102.0,2.803921568627451],[10.0,2.0],[12.0,2.5],[17.0,3.1176470588235294],[70.0,3.6714285714285713],[137.0,3.1824817518248176],[22.0,2.727272727272727],[59.0,3.0677966101694913],[48.0,3.2083333333333335],[29.0,2.413793103448276],[27.0,2.037037037037037],[22.0,2.6818181818181817],[179.0,3.569832402234637],[35.0,2.8],[230.0,3.6478260869565218],[67.0,2.701492537313433],[50.0,3.1],[28.0,2.5],[29.0,2.7586206896551726],[33.0,2.9393939393939394],[15.0,2.2],[44.0,2.5454545454545454],[93.0,3.021505376344086],[41.0,2.2195121951219514],[92.0,3.152173913043478],[19.0,2.6315789473684212],[32.0,3.375],[59.0,3.2203389830508473],[168.0,3.6011904761904763],[37.0,3.0],[79.0,3.5443037974683542],[39.0,2.4871794871794872],[34.0,2.676470588235294],[14.0,3.5714285714285716],[202.0,3.792079207920792],[43.0,4.023255813953488],[18.0,2.0],[178.0,3.601123595505618],[9.0,3.3333333333333335],[12.0,3.1666666666666665],[5.0,2.4],[64.0,3.09375],[127.0,3.377952755905512],[206.0,3.150485436893204],[4.0,2.25],[1.0,1.0],[2.0,3.0],[20.0,4.0],[50.0,3.7],[209.0,4.3875598086124405],[81.0,4.012345679012346],[31.0,3.3548387096774195],[66.0,4.045454545454546],[66.0,3.9696969696969697],[30.0,3.933333333333333],[60.0,3.5833333333333335],[41.0,3.658536585365854],[40.0,4.1],[34.0,3.9411764705882355],[27.0,4.037037037037037],[51.0,3.7450980392156863],[59.0,4.0508474576271185],[64.0,3.421875],[18.0,3.7777777777777777],[18.0,3.611111111111111],[64.0,3.171875],[43.0,3.0930232558139537],[11.0,2.909090909090909],[39.0,3.358974358974359],[39.0,2.923076923076923],[22.0,3.272727272727273],[82.0,3.3292682926829267],[4.0,3.25],[75.0,3.2266666666666666],[169.0,3.514792899408284],[77.0,3.3376623376623376],[31.0,3.2903225806451615],[119.0,3.6218487394957983],[58.0,3.896551724137931],[69.0,4.057971014492754],[24.0,3.75],[23.0,2.739130434782609],[91.0,3.241758241758242],[38.0,3.026315789473684],[44.0,3.772727272727273],[40.0,3.7],[82.0,3.024390243902439],[33.0,4.212121212121212],[89.0,3.4831460674157304],[4.0,3.0],[35.0,3.7714285714285714],[27.0,3.814814814814815],[38.0,3.8684210526315788],[70.0,4.1],[67.0,4.029850746268656],[50.0,3.4],[72.0,3.5416666666666665],[171.0,4.076023391812866],[90.0,3.888888888888889],[34.0,3.911764705882353],[147.0,4.136054421768708],[227.0,3.881057268722467],[44.0,4.0],[131.0,4.259541984732825],[79.0,3.4177215189873418],[115.0,4.078260869565217],[153.0,3.764705882352941],[88.0,4.1022727272727275],[82.0,3.426829268292683],[116.0,3.9051724137931036],[46.0,3.5434782608695654],[100.0,2.83],[5.0,2.4],[12.0,2.1666666666666665],[6.0,2.1666666666666665],[13.0,1.6153846153846154],[36.0,3.0],[46.0,3.608695652173913],[65.0,2.723076923076923],[86.0,3.5232558139534884],[48.0,2.8958333333333335],[54.0,3.5555555555555554],[77.0,3.3376623376623376],[1.0,3.0],[219.0,2.808219178082192],[107.0,3.046728971962617],[34.0,2.5588235294117645],[27.0,2.4444444444444446],[100.0,3.06],[49.0,2.4081632653061225],[169.0,3.7928994082840237],[157.0,3.356687898089172],[50.0,3.68],[69.0,2.1884057971014492],[44.0,1.8409090909090908],[87.0,3.1494252873563218],[155.0,3.458064516129032],[16.0,3.5],[164.0,3.6280487804878048],[91.0,3.6483516483516483],[44.0,4.045454545454546],[13.0,2.923076923076923],[79.0,3.1392405063291138],[40.0,3.425],[10.0,3.0],[102.0,3.676470588235294],[15.0,2.6],[10.0,4.0],[53.0,3.018867924528302],[19.0,3.5789473684210527],[24.0,3.0416666666666665],[137.0,3.9927007299270074],[6.0,2.6666666666666665],[70.0,3.9285714285714284],[101.0,3.4752475247524752],[104.0,4.028846153846154],[79.0,3.569620253164557],[1.0,4.0],[51.0,3.0784313725490198],[72.0,3.611111111111111],[13.0,3.230769230769231],[87.0,3.2758620689655173],[58.0,3.1551724137931036],[82.0,2.817073170731707],[16.0,3.6875],[29.0,2.413793103448276],[86.0,3.0232558139534884],[54.0,3.4444444444444446],[58.0,2.9310344827586206],[34.0,3.1470588235294117],[76.0,3.486842105263158],[16.0,2.75],[14.0,2.4285714285714284],[63.0,3.4603174603174605],[45.0,3.022222222222222],[81.0,3.4814814814814814],[24.0,3.5],[39.0,3.1538461538461537],[180.0,3.65],[15.0,3.2],[27.0,2.5185185185185186],[137.0,3.854014598540146],[78.0,3.9358974358974357],[59.0,2.983050847457627],[31.0,2.838709677419355],[164.0,3.323170731707317],[63.0,3.4761904761904763],[58.0,3.4482758620689653],[267.0,3.644194756554307],[39.0,1.9487179487179487],[92.0,3.4565217391304346],[16.0,3.875],[119.0,3.6638655462184873],[102.0,3.4607843137254903],[316.0,3.1234177215189876],[51.0,3.176470588235294],[124.0,3.8548387096774195],[180.0,3.4277777777777776],[39.0,3.3076923076923075],[24.0,3.7083333333333335],[57.0,3.3859649122807016],[96.0,3.3125],[128.0,2.8984375],[4.0,2.75],[21.0,1.7142857142857142],[11.0,2.1818181818181817],[46.0,2.652173913043478],[44.0,3.0454545454545454],[115.0,3.391304347826087],[149.0,3.389261744966443],[29.0,2.7586206896551726],[32.0,2.8125],[9.0,3.111111111111111],[11.0,2.1818181818181817],[52.0,3.076923076923077],[42.0,2.4523809523809526],[57.0,3.3859649122807016],[41.0,2.6341463414634148],[49.0,3.061224489795918],[17.0,2.9411764705882355],[32.0,2.9375],[26.0,2.769230769230769],[9.0,3.2222222222222223],[4.0,1.25],[76.0,3.5526315789473686],[31.0,2.5483870967741935],[69.0,3.0],[84.0,3.3333333333333335],[10.0,2.6],[37.0,2.72972972972973],[2.0,1.0],[39.0,3.1538461538461537],[14.0,2.642857142857143],[13.0,3.230769230769231],[3.0,1.6666666666666667],[47.0,3.574468085106383],[66.0,2.909090909090909],[10.0,2.5],[86.0,3.7209302325581395],[10.0,3.5],[46.0,3.652173913043478],[21.0,2.4285714285714284],[36.0,3.0833333333333335],[31.0,3.096774193548387],[9.0,2.2222222222222223],[5.0,3.2],[26.0,2.8846153846153846],[16.0,2.8125],[40.0,2.7],[9.0,2.5555555555555554],[8.0,2.875],[27.0,3.6296296296296298],[50.0,3.46],[9.0,2.7777777777777777],[31.0,2.838709677419355],[43.0,2.9069767441860463],[45.0,2.888888888888889],[18.0,3.9444444444444446],[18.0,3.111111111111111],[56.0,3.892857142857143],[1.0,5.0],[112.0,3.232142857142857],[21.0,2.4285714285714284],[3.0,2.6666666666666665],[25.0,2.76],[40.0,2.7],[93.0,2.774193548387097],[22.0,3.0454545454545454],[4.0,3.0],[82.0,2.8780487804878048],[49.0,2.7551020408163267],[83.0,3.036144578313253],[80.0,2.575],[57.0,2.7719298245614037],[13.0,2.6923076923076925],[34.0,2.6470588235294117],[1.0,1.0],[91.0,2.4615384615384617],[22.0,2.5454545454545454],[49.0,3.204081632653061],[25.0,2.2],[15.0,3.8666666666666667],[26.0,3.769230769230769],[25.0,3.92],[4.0,2.75],[4.0,2.5],[53.0,2.660377358490566],[48.0,2.75],[27.0,3.1481481481481484],[30.0,3.0],[42.0,3.357142857142857],[176.0,3.465909090909091],[44.0,3.0681818181818183],[55.0,3.727272727272727],[9.0,3.5555555555555554],[53.0,2.7169811320754715],[4.0,4.0],[4.0,3.75],[1.0,1.0],[14.0,3.857142857142857],[16.0,3.375],[66.0,3.727272727272727],[36.0,3.8333333333333335],[1.0,3.0],[3.0,1.0],[15.0,2.6666666666666665],[16.0,2.25],[3.0,2.3333333333333335],[18.0,2.111111111111111],[24.0,3.9166666666666665],[86.0,3.1627906976744184],[21.0,3.4761904761904763],[119.0,3.319327731092437],[6.0,4.0],[5.0,3.8],[24.0,3.0],[9.0,2.7777777777777777],[75.0,2.4],[42.0,3.0952380952380953],[81.0,2.962962962962963],[39.0,3.2564102564102564],[53.0,2.7358490566037736],[47.0,2.702127659574468],[52.0,2.5384615384615383],[33.0,2.515151515151515],[136.0,3.2720588235294117],[59.0,3.169491525423729],[45.0,2.933333333333333],[34.0,3.2941176470588234],[13.0,3.230769230769231],[7.0,3.2857142857142856],[13.0,2.230769230769231],[53.0,3.0754716981132075],[64.0,3.609375],[15.0,3.466666666666667],[13.0,3.3846153846153846],[43.0,1.9534883720930232],[6.0,2.6666666666666665],[53.0,2.7547169811320753],[14.0,2.4285714285714284],[19.0,1.894736842105263],[106.0,3.2169811320754715],[44.0,3.772727272727273],[2.0,1.5],[58.0,3.2241379310344827],[9.0,3.4444444444444446],[42.0,3.6904761904761907],[12.0,1.9166666666666667],[42.0,3.8333333333333335],[18.0,3.111111111111111],[20.0,3.45],[27.0,3.2222222222222223],[21.0,3.1904761904761907],[2.0,2.0],[20.0,2.5],[13.0,3.769230769230769],[4.0,2.0],[4.0,2.5],[9.0,3.0],[2.0,2.5],[11.0,2.727272727272727],[13.0,3.923076923076923],[18.0,3.1666666666666665],[7.0,3.4285714285714284],[8.0,3.0],[96.0,3.7916666666666665],[5.0,2.2],[46.0,3.9782608695652173],[34.0,3.823529411764706],[58.0,4.155172413793103],[85.0,3.4],[34.0,3.323529411764706],[101.0,2.702970297029703],[6.0,3.1666666666666665],[104.0,3.1153846153846154],[40.0,2.7],[80.0,2.7],[57.0,2.1578947368421053],[40.0,2.925],[21.0,2.4285714285714284],[68.0,2.926470588235294],[7.0,3.2857142857142856],[32.0,3.9375],[37.0,3.4054054054054053],[25.0,2.88],[60.0,3.6],[32.0,2.34375],[46.0,3.0652173913043477],[45.0,3.488888888888889],[40.0,3.475],[43.0,3.0],[40.0,3.925],[61.0,3.1475409836065573],[17.0,3.235294117647059],[48.0,2.1666666666666665],[71.0,3.3380281690140845],[30.0,2.9],[39.0,2.8205128205128207],[45.0,3.1777777777777776],[22.0,3.3181818181818183],[11.0,3.5454545454545454],[49.0,3.4081632653061225],[46.0,3.608695652173913],[2.0,2.0],[14.0,3.7857142857142856],[64.0,3.46875],[25.0,3.24],[34.0,3.6176470588235294],[23.0,3.130434782608696],[41.0,4.2926829268292686],[9.0,3.3333333333333335],[21.0,3.6666666666666665],[26.0,4.1923076923076925],[12.0,3.1666666666666665],[18.0,3.7222222222222223],[75.0,3.8],[8.0,3.25],[34.0,3.676470588235294],[28.0,3.1785714285714284],[4.0,3.5],[32.0,3.03125],[44.0,3.159090909090909],[12.0,1.8333333333333333],[49.0,2.693877551020408],[27.0,2.5185185185185186],[35.0,3.2],[22.0,3.1818181818181817],[8.0,1.75],[20.0,2.8],[15.0,2.4],[44.0,2.8636363636363638],[22.0,2.8636363636363638],[23.0,2.5652173913043477],[4.0,2.5],[86.0,2.313953488372093],[32.0,2.84375],[33.0,3.090909090909091],[25.0,2.24],[4.0,3.0],[66.0,3.515151515151515],[7.0,2.2857142857142856],[31.0,3.161290322580645],[14.0,2.5],[16.0,2.125],[16.0,2.5625],[10.0,2.8],[10.0,3.0],[17.0,2.0],[8.0,1.875],[8.0,2.25],[9.0,3.111111111111111],[22.0,3.6818181818181817],[23.0,2.8260869565217392],[47.0,4.127659574468085],[37.0,3.3783783783783785],[64.0,3.375],[44.0,3.25],[93.0,3.225806451612903],[100.0,3.53],[38.0,2.289473684210526],[98.0,3.061224489795918],[12.0,2.8333333333333335],[137.0,3.45985401459854],[50.0,3.24],[32.0,3.1875],[31.0,3.967741935483871],[35.0,3.8857142857142857],[38.0,3.8157894736842106],[32.0,3.4375],[31.0,2.5806451612903225],[15.0,3.6],[44.0,2.9318181818181817],[4.0,2.5],[3.0,2.6666666666666665],[148.0,3.0405405405405403],[14.0,2.0],[20.0,2.25],[7.0,2.2857142857142856],[16.0,2.875],[32.0,2.78125],[27.0,2.5185185185185186],[68.0,3.161764705882353],[24.0,2.75],[24.0,2.0],[17.0,2.823529411764706],[90.0,4.011111111111111],[25.0,2.6],[62.0,3.193548387096774],[28.0,3.142857142857143],[8.0,3.0],[40.0,3.225],[25.0,3.24],[46.0,3.1739130434782608],[134.0,2.8358208955223883],[73.0,3.0136986301369864],[25.0,2.52],[43.0,3.6511627906976742],[41.0,3.2439024390243905],[25.0,2.28],[24.0,3.4583333333333335],[23.0,2.3043478260869565],[10.0,3.2],[10.0,3.2],[22.0,2.3181818181818183],[15.0,3.2666666666666666],[35.0,2.7714285714285714],[39.0,3.051282051282051],[29.0,2.9310344827586206],[12.0,3.75],[41.0,3.658536585365854],[4.0,4.25],[53.0,3.490566037735849],[16.0,3.0],[44.0,3.4545454545454546],[12.0,3.1666666666666665],[18.0,3.1666666666666665],[27.0,3.740740740740741],[16.0,2.875],[7.0,2.4285714285714284],[66.0,3.8181818181818183],[77.0,2.961038961038961],[7.0,3.4285714285714284],[12.0,2.25],[8.0,3.125],[22.0,2.772727272727273],[45.0,2.2444444444444445],[2.0,4.0],[8.0,2.75],[8.0,2.625],[6.0,2.5],[21.0,3.857142857142857],[11.0,3.0],[21.0,3.2857142857142856],[10.0,1.7],[13.0,2.230769230769231],[38.0,2.1315789473684212],[37.0,2.4054054054054053],[43.0,2.7209302325581395],[12.0,2.5],[23.0,3.0869565217391304],[12.0,2.4166666666666665],[29.0,2.6206896551724137],[3.0,2.6666666666666665],[18.0,3.5],[42.0,3.6904761904761907],[13.0,3.4615384615384617],[8.0,2.625],[74.0,3.77027027027027],[7.0,2.4285714285714284],[19.0,3.789473684210526],[4.0,3.0],[18.0,2.8333333333333335],[4.0,3.0],[18.0,3.0555555555555554],[5.0,2.4],[28.0,3.4285714285714284],[41.0,2.8536585365853657],[7.0,3.4285714285714284],[15.0,2.8],[22.0,3.272727272727273],[10.0,3.3],[29.0,3.413793103448276],[13.0,3.6153846153846154],[19.0,3.1052631578947367],[47.0,3.25531914893617],[59.0,3.6610169491525424],[17.0,3.0],[21.0,3.761904761904762],[1.0,5.0],[3.0,3.6666666666666665],[12.0,3.8333333333333335],[4.0,4.25],[32.0,3.34375],[11.0,2.909090909090909],[13.0,2.6923076923076925],[28.0,3.5714285714285716],[1.0,4.0],[13.0,4.0],[32.0,2.625],[30.0,2.966666666666667],[38.0,3.3157894736842106],[46.0,2.9782608695652173],[29.0,3.4827586206896552],[29.0,3.9655172413793105],[5.0,3.4],[33.0,2.606060606060606],[17.0,2.2941176470588234],[9.0,3.3333333333333335],[44.0,4.045454545454546],[15.0,4.0],[3.0,3.6666666666666665],[9.0,2.6666666666666665],[3.0,2.0],[21.0,3.6666666666666665],[9.0,3.3333333333333335],[26.0,3.8461538461538463],[9.0,3.111111111111111],[7.0,2.142857142857143],[28.0,3.4285714285714284],[19.0,3.473684210526316],[12.0,3.3333333333333335],[3.0,3.3333333333333335],[1.0,3.0],[25.0,2.88],[4.0,4.0],[11.0,3.5454545454545454],[26.0,3.6153846153846154],[13.0,2.923076923076923],[5.0,1.6],[25.0,2.68],[6.0,2.1666666666666665],[14.0,1.8571428571428572],[12.0,3.1666666666666665],[11.0,3.5454545454545454],[22.0,3.3181818181818183],[10.0,4.1],[27.0,3.074074074074074],[14.0,3.142857142857143],[15.0,3.6666666666666665],[7.0,2.5714285714285716],[8.0,3.25],[5.0,3.4],[22.0,3.3636363636363638],[7.0,1.8571428571428572],[19.0,2.473684210526316],[9.0,2.111111111111111],[10.0,2.5],[10.0,2.5],[13.0,2.3076923076923075],[19.0,2.210526315789474],[10.0,2.5],[18.0,2.2777777777777777],[3.0,3.3333333333333335],[13.0,3.230769230769231],[44.0,2.772727272727273],[3.0,5.0],[11.0,3.3636363636363638],[3.0,4.333333333333333],[13.0,3.3846153846153846],[10.0,3.8],[31.0,4.064516129032258],[11.0,3.272727272727273],[3.0,3.0],[45.0,3.5555555555555554],[7.0,3.142857142857143],[23.0,2.869565217391304],[7.0,3.2857142857142856],[1.0,5.0],[8.0,3.5],[21.0,4.0476190476190474],[18.0,3.611111111111111],[6.0,3.0],[19.0,2.6842105263157894],[17.0,2.2941176470588234],[20.0,2.85],[15.0,2.533333333333333],[38.0,2.736842105263158],[12.0,3.4166666666666665],[6.0,2.8333333333333335],[6.0,2.1666666666666665],[9.0,2.0],[30.0,1.9333333333333333],[6.0,3.0],[39.0,2.871794871794872],[26.0,3.4615384615384617],[20.0,2.9],[30.0,3.3333333333333335],[39.0,3.4871794871794872],[25.0,2.68],[4.0,3.5],[12.0,2.6666666666666665],[14.0,2.642857142857143],[32.0,3.375],[8.0,2.375],[48.0,2.4583333333333335],[13.0,2.1538461538461537],[18.0,1.8333333333333333],[22.0,2.5],[17.0,2.4705882352941178],[6.0,3.5],[8.0,2.375],[1.0,4.0],[1.0,3.0],[6.0,3.5],[8.0,3.125],[18.0,2.4444444444444446],[26.0,3.6538461538461537],[6.0,2.6666666666666665],[5.0,2.6],[7.0,3.7142857142857144],[36.0,2.9166666666666665],[19.0,3.210526315789474],[7.0,1.5714285714285714],[6.0,1.8333333333333333],[19.0,3.0],[12.0,2.8333333333333335],[6.0,1.5],[8.0,4.125],[9.0,3.0],[7.0,2.4285714285714284],[11.0,1.8181818181818181],[8.0,2.25],[3.0,2.0],[4.0,1.75],[23.0,2.5217391304347827],[4.0,2.0],[4.0,2.75],[4.0,3.25],[8.0,3.625],[15.0,2.933333333333333],[7.0,3.2857142857142856],[19.0,3.0526315789473686],[12.0,3.1666666666666665],[33.0,3.0],[10.0,3.3],[10.0,3.9],[7.0,2.2857142857142856],[7.0,2.7142857142857144],[5.0,1.8],[15.0,2.7333333333333334],[11.0,1.7272727272727273],[4.0,2.5],[8.0,2.5],[19.0,3.4210526315789473],[16.0,3.625],[9.0,2.888888888888889],[16.0,2.6875],[13.0,3.1538461538461537],[9.0,3.2222222222222223],[19.0,2.6842105263157894],[26.0,2.8461538461538463],[15.0,3.1333333333333333],[17.0,3.7058823529411766],[6.0,1.3333333333333333],[7.0,3.0],[7.0,2.142857142857143],[2.0,1.5],[15.0,2.2],[3.0,1.6666666666666667],[3.0,5.0],[7.0,3.142857142857143],[7.0,2.5714285714285716],[20.0,3.25],[12.0,2.8333333333333335],[9.0,3.6666666666666665],[8.0,3.0],[9.0,2.3333333333333335],[5.0,3.8],[5.0,3.4],[18.0,2.3333333333333335],[2.0,2.5],[7.0,2.4285714285714284],[2.0,3.0],[2.0,1.5],[2.0,1.0],[1.0,1.0],[1.0,3.0],[16.0,2.5],[7.0,3.0],[14.0,3.142857142857143],[11.0,2.4545454545454546],[23.0,3.130434782608696],[7.0,2.7142857142857144],[4.0,2.0],[3.0,1.3333333333333333],[4.0,1.75],[1.0,1.0],[2.0,2.5],[6.0,2.3333333333333335],[3.0,2.6666666666666665],[5.0,2.4],[1.0,1.0],[6.0,3.3333333333333335],[3.0,2.3333333333333335],[6.0,3.1666666666666665],[1.0,1.0],[4.0,2.5],[4.0,3.0],[2.0,2.0],[5.0,2.8],[2.0,1.0],[11.0,2.6363636363636362],[10.0,1.8],[9.0,2.3333333333333335],[4.0,2.25],[1.0,1.0],[1.0,1.0],[1.0,1.0],[2.0,2.5],[1.0,1.0],[5.0,3.2],[2.0,2.0],[5.0,2.4],[4.0,2.75],[1.0,1.0],[1.0,1.0],[2.0,1.5],[3.0,2.0],[1.0,1.0],[5.0,2.6],[2.0,1.0],[6.0,2.6666666666666665],[3.0,2.6666666666666665],[3.0,2.6666666666666665],[2.0,3.0],[2.0,1.0],[2.0,1.5],[3.0,2.6666666666666665],[2.0,2.0],[1.0,1.0],[1.0,1.0],[2.0,1.5],[1.0,1.0],[5.0,4.2],[6.0,3.6666666666666665],[4.0,2.75],[3.0,2.6666666666666665],[2.0,1.5],[3.0,3.0],[1.0,1.0],[2.0,1.0],[10.0,3.6],[7.0,2.142857142857143],[4.0,3.25],[5.0,2.2],[7.0,2.857142857142857],[6.0,2.3333333333333335],[8.0,3.25],[4.0,2.0],[6.0,2.0],[3.0,1.6666666666666667],[5.0,2.8],[6.0,2.6666666666666665],[3.0,2.0],[6.0,3.3333333333333335],[3.0,3.0],[2.0,2.0],[3.0,2.0],[5.0,2.0],[9.0,2.111111111111111],[7.0,2.4285714285714284],[6.0,2.3333333333333335],[5.0,4.2],[5.0,3.2],[2.0,4.5],[7.0,2.4285714285714284],[10.0,3.1],[18.0,3.2222222222222223],[4.0,2.75],[4.0,2.75],[13.0,3.230769230769231],[6.0,3.3333333333333335],[5.0,3.4],[20.0,2.25],[3.0,1.0],[7.0,2.857142857142857],[4.0,2.75],[28.0,2.5714285714285716],[6.0,1.6666666666666667],[8.0,2.75],[1.0,2.0],[9.0,2.4444444444444446],[5.0,2.4],[2.0,2.5],[3.0,3.6666666666666665],[16.0,2.125],[3.0,1.3333333333333333],[11.0,3.1818181818181817],[4.0,2.25],[4.0,2.25],[3.0,2.3333333333333335],[10.0,2.6],[8.0,3.25],[5.0,2.8],[12.0,3.6666666666666665],[4.0,2.75],[3.0,2.3333333333333335],[5.0,3.4],[3.0,1.0],[2.0,2.0],[10.0,2.5],[7.0,2.5714285714285716],[2.0,2.5],[9.0,2.0],[5.0,2.4],[8.0,3.0],[5.0,3.0],[7.0,2.5714285714285716],[5.0,2.4],[4.0,3.75],[19.0,2.473684210526316],[4.0,2.75],[15.0,3.1333333333333333],[1.0,3.0],[3.0,3.6666666666666665],[8.0,4.625],[2.0,4.0],[15.0,3.8666666666666667],[1.0,4.0],[1.0,2.0],[6.0,3.0],[2.0,2.5],[7.0,3.7142857142857144],[1.0,3.0],[1.0,4.0],[7.0,3.5714285714285716],[1.0,3.0],[1.0,2.0],[7.0,3.7142857142857144],[3.0,3.3333333333333335],[3.0,2.3333333333333335],[3.0,2.3333333333333335],[6.0,4.0],[2.0,5.0],[6.0,3.3333333333333335],[12.0,3.1666666666666665],[5.0,2.6],[9.0,2.4444444444444446],[2.0,3.5],[9.0,3.5555555555555554],[6.0,2.8333333333333335],[8.0,2.875],[1.0,2.0],[2.0,2.5],[18.0,2.7222222222222223],[8.0,2.75],[11.0,2.272727272727273],[2.0,3.0],[1.0,4.0],[12.0,3.4166666666666665],[3.0,2.6666666666666665],[4.0,3.5],[1.0,1.0],[5.0,2.0],[4.0,3.0],[5.0,2.2],[3.0,3.0],[2.0,3.0],[1.0,4.0],[1.0,1.0],[1.0,1.0],[5.0,3.6],[5.0,2.8],[2.0,3.0],[1.0,4.0],[4.0,3.25],[2.0,5.0],[5.0,3.0],[2.0,1.5],[10.0,3.1],[3.0,3.6666666666666665],[1.0,4.0],[3.0,3.6666666666666665],[1.0,3.0],[3.0,2.3333333333333335],[5.0,1.6],[1.0,3.0],[5.0,3.2],[6.0,4.0],[3.0,2.0],[7.0,3.142857142857143],[1.0,4.0],[3.0,4.0],[5.0,2.8],[12.0,3.0],[2.0,3.0],[1.0,3.0],[4.0,3.0],[7.0,2.4285714285714284],[2.0,3.0],[8.0,4.25],[1.0,4.0],[1.0,4.0],[7.0,2.4285714285714284],[3.0,2.3333333333333335],[5.0,2.8],[5.0,2.0],[7.0,3.2857142857142856],[2.0,2.0],[1.0,4.0],[6.0,2.1666666666666665],[4.0,3.0],[1.0,5.0],[4.0,4.0],[3.0,3.0],[4.0,1.75],[10.0,2.8],[2.0,3.5],[2.0,3.0],[1.0,3.0],[3.0,2.6666666666666665],[4.0,2.5],[1.0,1.0],[2.0,3.0],[1.0,1.0],[2.0,1.5],[2.0,3.0],[2.0,2.0],[3.0,2.0],[4.0,2.75],[2.0,3.0],[5.0,2.6],[2.0,2.0],[1.0,1.0],[7.0,3.5714285714285716],[1.0,1.0],[4.0,2.75],[1.0,1.0],[1.0,1.0],[1.0,1.0],[1.0,1.0],[1.0,1.0],[1.0,1.0],[1.0,1.0],[1.0,1.0],[1.0,1.0],[1.0,1.0],[1.0,1.0],[1.0,1.0],[2.0,2.5],[1.0,1.0],[1.0,1.0],[1.0,1.0],[1.0,1.0],[2.0,2.0],[1.0,1.0],[1.0,1.0],[1.0,1.0],[1.0,1.0],[1.0,1.0],[1.0,1.0],[2.0,2.5],[1.0,1.0],[1.0,1.0],[2.0,2.0],[4.0,3.0],[2.0,2.0],[6.0,3.1666666666666665],[5.0,3.6],[1.0,4.0],[2.0,4.5],[1.0,2.0],[1.0,2.0],[5.0,3.0],[6.0,2.5],[1.0,5.0],[4.0,3.75],[1.0,1.0],[3.0,3.3333333333333335],[1.0,3.0],[1.0,4.0],[4.0,3.0],[1.0,2.0],[3.0,3.3333333333333335],[4.0,2.25],[3.0,1.6666666666666667],[3.0,2.0],[2.0,3.0],[4.0,3.75],[1.0,4.0],[1.0,3.0],[10.0,3.0],[1.0,4.0],[2.0,3.0],[1.0,1.0],[1.0,3.0],[9.0,3.2222222222222223],[1.0,1.0],[3.0,2.3333333333333335],[3.0,4.0],[1.0,2.0],[1.0,4.0],[1.0,1.0],[1.0,3.0],[4.0,3.75],[2.0,4.0],[1.0,3.0],[2.0,3.5],[1.0,3.0],[1.0,3.0],[1.0,2.0],[1.0,3.0],[1.0,4.0],[1.0,3.0],[1.0,3.0],[3.0,4.333333333333333],[1.0,3.0],[1.0,3.0],[2.0,4.5],[4.0,3.75],[2.0,1.5],[1.0,4.0],[2.0,3.5],[1.0,3.0],[1.0,2.0],[1.0,3.0],[1.0,4.0],[1.0,4.0],[3.0,1.6666666666666667],[1.0,5.0],[1.0,1.0],[1.0,2.0],[2.0,3.5],[1.0,3.0],[3.0,3.0],[1.0,1.0],[1.0,2.0],[1.0,1.0],[2.0,2.5],[1.0,2.0],[4.0,3.25],[1.0,2.0],[1.0,2.0],[1.0,3.0],[1.0,3.0],[1.0,2.0],[1.0,3.0],[1.0,1.0],[2.0,2.0],[1.0,3.0],[1.0,4.0],[1.0,3.0],[1.0,2.0],[1.0,3.0],[1.0,1.0],[1.0,3.0],[1.0,2.0],[1.0,3.0],[1.0,3.0]],\"hovertemplate\":\"bayesian_avg=%{y}\\u003cbr\\u003ecount=%{customdata[0]}\\u003cbr\\u003emean=%{customdata[1]}\\u003cextra\\u003e\\u003c\\u002fextra\\u003e\",\"legendgroup\":\"\",\"marker\":{\"color\":\"#636efa\"},\"name\":\"\",\"offsetgroup\":\"\",\"orientation\":\"v\",\"points\":\"all\",\"scalegroup\":\"True\",\"showlegend\":false,\"x0\":\" \",\"xaxis\":\"x\",\"y\":[3.55,2.53,2.25,3.0,2.38,1.82,3.44,3.37,3.42,2.72,3.28,3.78,2.84,3.25,3.32,1.9,2.31,1.3,2.61,2.35,2.05,3.63,3.37,2.84,3.04,2.37,2.06,3.42,2.11,2.16,2.91,2.63,2.54,1.23,1.23,1.25,1.19,2.36,2.37,1.95,1.83,3.02,1.84,2.36,2.77,1.83,2.81,3.07,2.36,4.05,2.44,2.7,2.35,2.44,2.95,3.67,2.24,2.99,2.8,2.59,2.45,2.48,2.24,3.86,2.69,2.88,2.32,2.69,3.42,3.16,3.2,2.52,2.7,1.26,1.2,2.17,2.65,1.55,3.59,1.97,2.68,3.23,3.3,1.5,2.03,3.12,3.05,3.0,3.59,2.28,2.84,2.68,2.8,2.47,3.22,3.51,3.28,3.86,3.03,3.83,2.27,2.04,1.22,1.08,1.89,2.05,2.07,2.11,2.68,1.55,3.05,1.4,1.45,2.85,1.59,2.93,3.33,2.85,1.27,1.68,3.15,1.88,2.49,3.33,3.07,2.76,3.88,2.35,2.95,1.39,2.7,3.49,3.14,3.54,3.42,3.01,3.17,1.42,1.84,2.15,2.39,2.04,3.19,3.32,1.78,1.26,2.88,2.52,1.6,3.07,3.23,2.55,3.26,3.06,2.33,3.15,2.85,1.84,2.42,2.35,2.96,2.66,2.57,2.87,2.64,2.57,2.06,3.59,3.32,3.15,2.53,3.76,3.69,3.86,3.2,3.45,3.01,3.28,3.3,3.41,3.7,3.35,3.53,2.62,3.49,3.3,3.49,3.0,2.66,3.14,3.61,3.08,3.13,3.46,3.46,3.37,3.5,3.07,3.35,3.2,2.53,3.29,3.17,3.43,3.1,2.12,2.51,3.28,3.23,3.49,3.27,2.51,3.08,2.56,3.12,3.42,2.46,2.84,2.43,2.27,2.54,3.29,3.24,2.18,2.25,2.75,2.68,3.27,2.58,2.9,2.2,2.41,2.56,3.3,2.46,2.16,3.35,3.34,2.81,2.31,2.76,3.0,2.01,2.0,2.7,3.0,1.11,2.96,2.56,2.91,2.45,2.43,1.86,1.77,2.77,1.58,3.3,3.52,2.25,2.09,1.68,2.45,1.32,2.12,3.28,1.67,1.37,3.27,3.47,2.82,2.75,3.52,3.04,2.92,3.47,3.26,2.37,2.15,1.77,2.31,2.54,3.15,3.05,2.66,3.4,3.37,2.49,3.18,2.62,2.33,2.63,2.77,3.01,2.93,2.38,1.26,2.38,3.13,2.09,3.32,2.84,3.64,2.88,2.83,2.59,2.84,2.92,1.69,1.63,2.86,2.52,2.26,3.78,1.05,3.27,3.11,2.86,3.9,2.69,1.81,2.59,2.65,2.56,2.46,2.07,2.77,2.79,3.03,2.03,1.86,2.68,2.75,3.11,2.25,1.5,1.71,1.5,2.02,2.02,2.98,1.37,1.92,2.43,2.3,2.28,2.81,2.77,1.75,1.69,1.91,1.47,1.38,1.31,2.39,1.82,2.5,3.7,2.16,1.62,1.36,1.4,1.62,1.79,1.67,2.02,2.06,2.84,1.34,1.81,1.75,2.17,1.95,1.78,1.24,1.3,1.56,1.25,2.73,1.86,2.56,2.62,2.71,1.4,1.98,3.0,2.1,2.27,1.48,1.8,1.36,1.9,2.38,2.85,1.43,1.8,1.89,1.31,1.36,2.4,1.44,2.03,2.84,2.89,2.7,2.98,1.68,1.66,3.3,2.18,2.57,2.42,1.87,1.81,2.32,1.58,2.31,2.18,2.78,3.06,2.56,2.68,1.6,3.37,1.12,2.63,1.68,3.6,2.91,2.84,2.85,2.84,3.08,3.01,2.53,3.32,2.6,1.05,1.06,1.05,1.16,1.77,1.06,3.07,1.78,1.71,1.23,2.7,2.43,2.37,1.74,2.75,1.9,1.24,1.44,2.61,1.61,1.27,2.3,1.83,1.68,2.48,3.02,2.58,1.85,2.53,2.24,2.28,2.22,2.5,2.74,3.07,2.53,2.46,3.5,3.34,2.49,2.38,3.0,3.45,3.48,2.54,3.05,3.79,3.26,2.93,2.47,2.68,2.7,2.48,2.41,2.5,2.45,2.61,2.48,2.35,3.49,2.54,3.3,2.53,2.03,2.7,2.35,2.08,2.91,2.62,2.74,2.77,3.04,2.93,2.99,3.42,2.49,2.85,3.2,3.48,2.55,2.7,2.61,2.8,3.12,2.91,2.06,3.21,2.35,2.69,2.93,3.33,3.12,2.84,2.76,3.02,1.66,1.58,1.46,2.06,1.38,1.92,2.3,1.66,1.66,1.88,1.73,1.72,2.2,1.18,2.66,1.99,1.24,2.58,2.65,1.44,1.83,2.2,2.16,1.19,1.29,1.51,2.47,2.54,1.5,2.06,2.02,1.5,1.36,1.49,2.94,1.7,3.11,1.93,1.99,1.52,1.61,1.73,1.28,1.69,2.25,1.53,2.33,1.43,1.86,2.13,2.93,1.8,2.47,1.62,1.64,1.53,3.17,2.3,1.27,2.96,1.35,1.41,1.16,2.11,2.64,2.68,1.13,1.05,1.12,1.79,2.26,3.65,2.76,1.84,2.63,2.59,2.02,2.32,2.12,2.28,2.1,1.98,2.3,2.55,2.28,1.69,1.65,2.15,1.91,1.34,1.97,1.79,1.65,2.37,1.19,2.26,2.87,2.34,1.82,2.77,2.46,2.67,1.83,1.52,2.38,1.82,2.21,2.12,2.2,2.18,2.51,1.17,2.06,1.91,2.15,2.7,2.63,2.12,2.42,3.3,2.76,2.09,3.25,3.29,2.31,3.26,2.4,3.05,3.01,2.87,2.43,2.94,2.14,2.17,1.16,1.24,1.15,1.15,1.79,2.17,1.92,2.51,1.88,2.24,2.34,1.08,2.43,2.33,1.6,1.49,2.31,1.66,3.08,2.72,2.25,1.66,1.39,2.3,2.79,1.57,2.94,2.62,2.33,1.39,2.24,2.01,1.33,2.71,1.36,1.48,1.98,1.66,1.62,3.1,1.2,2.61,2.58,2.95,2.49,1.1,1.99,2.45,1.44,2.37,2.09,2.08,1.61,1.5,2.22,2.19,1.98,1.81,2.42,1.41,1.31,2.29,1.9,2.45,1.76,1.88,3.0,1.48,1.51,3.01,2.69,2.01,1.66,2.72,2.3,2.24,3.17,1.41,2.51,1.65,2.79,2.57,2.8,2.03,2.95,2.84,1.95,1.82,2.19,2.45,2.31,1.16,1.22,1.23,1.75,1.9,2.59,2.72,1.61,1.67,1.32,1.23,2.0,1.63,2.19,1.7,1.96,1.47,1.71,1.57,1.34,1.06,2.45,1.56,2.1,2.39,1.27,1.7,1.05,1.88,1.36,1.44,1.08,2.17,2.03,1.26,2.63,1.4,2.19,1.41,1.82,1.75,1.21,1.22,1.61,1.43,1.71,1.25,1.27,1.86,2.15,1.28,1.66,1.83,1.84,1.72,1.53,2.43,1.12,2.48,1.41,1.13,1.56,1.71,2.1,1.59,1.17,2.11,1.82,2.21,1.93,1.89,1.35,1.63,1.05,1.9,1.46,2.02,1.39,1.62,1.88,1.9,1.16,1.14,1.81,1.81,1.71,1.71,2.01,2.86,1.91,2.34,1.38,1.84,1.24,1.22,1.05,1.59,1.54,2.46,2.1,1.08,1.05,1.38,1.31,1.11,1.3,1.88,2.3,1.68,2.56,1.32,1.26,1.61,1.28,1.8,1.9,2.15,1.93,1.85,1.78,1.75,1.57,2.6,2.11,1.86,1.87,1.44,1.29,1.26,2.01,2.38,1.54,1.47,1.43,1.2,1.85,1.31,1.26,2.44,2.21,1.07,2.12,1.37,2.14,1.2,2.2,1.53,1.66,1.73,1.61,1.08,1.42,1.54,1.11,1.14,1.31,1.1,1.31,1.57,1.54,1.3,1.28,2.74,1.14,2.33,2.06,2.58,2.43,1.88,2.09,1.25,2.36,1.71,2.0,1.59,1.81,1.41,2.05,1.29,2.06,1.95,1.59,2.33,1.5,1.93,2.1,2.03,1.87,2.21,2.11,1.54,1.55,2.3,1.67,1.75,1.97,1.66,1.44,2.12,2.17,1.08,1.57,2.3,1.7,1.99,1.63,2.37,1.35,1.73,2.01,1.41,1.67,2.58,1.31,2.01,1.73,1.21,1.74,1.95,1.18,1.79,1.51,1.85,1.63,1.13,1.49,1.32,1.82,1.54,1.47,1.14,1.8,1.68,1.78,1.4,1.17,2.35,1.18,1.77,1.33,1.28,1.37,1.3,1.33,1.26,1.15,1.19,1.32,1.76,1.55,2.41,1.94,2.26,1.99,2.38,2.61,1.53,2.3,1.35,2.73,2.05,1.8,2.05,2.1,2.13,1.89,1.58,1.57,1.85,1.14,1.13,2.47,1.23,1.35,1.18,1.44,1.66,1.51,2.18,1.54,1.32,1.45,2.83,1.51,2.15,1.72,1.28,1.93,1.7,1.98,2.29,2.13,1.49,2.14,1.95,1.42,1.74,1.4,1.36,1.36,1.39,1.5,1.69,1.84,1.67,1.5,2.12,1.25,2.2,1.46,2.07,1.41,1.54,1.89,1.44,1.2,2.51,2.13,1.3,1.25,1.3,1.52,1.57,1.15,1.25,1.24,1.18,1.78,1.36,1.63,1.15,1.26,1.47,1.57,1.75,1.29,1.62,1.28,1.57,1.13,1.62,2.14,1.48,1.24,2.56,1.2,1.71,1.17,1.47,1.17,1.52,1.16,1.81,1.79,1.3,1.4,1.65,1.38,1.83,1.51,1.55,2.02,2.35,1.48,1.76,1.12,1.18,1.52,1.25,1.85,1.34,1.35,1.86,1.1,1.58,1.6,1.69,1.93,1.89,1.85,2.01,1.23,1.61,1.33,1.35,2.33,1.65,1.18,1.26,1.1,1.73,1.35,1.9,1.32,1.17,1.81,1.64,1.43,1.16,1.08,1.59,1.24,1.44,1.83,1.39,1.09,1.53,1.15,1.21,1.41,1.44,1.66,1.49,1.68,1.45,1.58,1.21,1.31,1.23,1.68,1.14,1.4,1.19,1.26,1.26,1.28,1.33,1.26,1.34,1.16,1.44,1.78,1.24,1.41,1.21,1.47,1.45,2.08,1.4,1.15,2.13,1.27,1.56,1.29,1.12,1.34,1.83,1.65,1.23,1.45,1.33,1.5,1.35,1.71,1.45,1.22,1.15,1.18,1.35,1.23,1.77,1.78,1.52,1.82,2.02,1.53,1.21,1.32,1.36,1.86,1.21,1.68,1.25,1.23,1.44,1.37,1.28,1.21,1.1,1.08,1.28,1.3,1.38,1.84,1.2,1.17,1.33,1.76,1.57,1.11,1.12,1.52,1.35,1.09,1.42,1.31,1.2,1.17,1.19,1.1,1.1,1.46,1.11,1.16,1.19,1.36,1.43,1.29,1.54,1.41,1.75,1.38,1.46,1.18,1.23,1.11,1.39,1.16,1.14,1.22,1.63,1.6,1.29,1.4,1.43,1.34,1.45,1.6,1.47,1.64,1.08,1.26,1.17,1.07,1.28,1.08,1.24,1.27,1.21,1.61,1.35,1.4,1.28,1.22,1.26,1.23,1.35,1.1,1.2,1.12,1.07,1.05,1.05,1.08,1.36,1.26,1.45,1.27,1.63,1.23,1.11,1.07,1.1,1.05,1.1,1.17,1.13,1.16,1.05,1.26,1.11,1.25,1.05,1.14,1.17,1.08,1.19,1.05,1.3,1.16,1.22,1.13,1.05,1.05,1.05,1.1,1.05,1.22,1.08,1.16,1.16,1.05,1.05,1.07,1.1,1.05,1.17,1.05,1.2,1.13,1.13,1.12,1.05,1.07,1.13,1.08,1.05,1.05,1.07,1.05,1.3,1.29,1.16,1.13,1.07,1.15,1.05,1.05,1.42,1.17,1.19,1.14,1.24,1.17,1.31,1.11,1.14,1.08,1.19,1.2,1.1,1.26,1.15,1.08,1.1,1.13,1.19,1.2,1.17,1.3,1.22,1.16,1.2,1.35,1.56,1.16,1.16,1.44,1.26,1.23,1.35,1.05,1.24,1.16,1.54,1.11,1.25,1.07,1.23,1.16,1.1,1.18,1.28,1.07,1.38,1.13,1.13,1.11,1.27,1.31,1.19,1.49,1.16,1.11,1.23,1.05,1.08,1.26,1.21,1.1,1.18,1.16,1.28,1.2,1.21,1.16,1.22,1.4,1.16,1.47,1.08,1.18,1.48,1.15,1.62,1.1,1.07,1.23,1.1,1.33,1.08,1.1,1.32,1.08,1.07,1.33,1.16,1.11,1.11,1.32,1.18,1.26,1.41,1.17,1.23,1.13,1.38,1.22,1.27,1.07,1.1,1.44,1.25,1.24,1.12,1.1,1.45,1.13,1.21,1.05,1.13,1.17,1.14,1.15,1.12,1.1,1.05,1.05,1.25,1.19,1.12,1.1,1.19,1.18,1.2,1.07,1.35,1.18,1.1,1.18,1.08,1.11,1.09,1.08,1.22,1.32,1.1,1.27,1.1,1.19,1.19,1.38,1.12,1.08,1.17,1.2,1.12,1.43,1.1,1.1,1.2,1.11,1.19,1.13,1.29,1.08,1.1,1.15,1.17,1.12,1.24,1.15,1.1,1.3,1.13,1.12,1.08,1.13,1.14,1.05,1.12,1.05,1.07,1.12,1.08,1.1,1.16,1.12,1.17,1.08,1.05,1.32,1.05,1.16,1.05,1.05,1.05,1.05,1.05,1.05,1.05,1.05,1.05,1.05,1.05,1.05,1.1,1.05,1.05,1.05,1.05,1.08,1.05,1.05,1.05,1.05,1.05,1.05,1.1,1.05,1.05,1.08,1.17,1.08,1.25,1.25,1.1,1.16,1.07,1.07,1.2,1.18,1.12,1.22,1.05,1.16,1.08,1.1,1.17,1.07,1.16,1.13,1.08,1.1,1.12,1.22,1.1,1.08,1.33,1.1,1.12,1.05,1.08,1.34,1.05,1.11,1.19,1.07,1.1,1.05,1.08,1.22,1.15,1.08,1.13,1.08,1.08,1.07,1.08,1.1,1.08,1.08,1.21,1.08,1.08,1.16,1.22,1.07,1.1,1.13,1.08,1.07,1.08,1.1,1.1,1.08,1.12,1.05,1.07,1.13,1.08,1.15,1.05,1.07,1.05,1.1,1.07,1.19,1.07,1.07,1.08,1.08,1.07,1.08,1.05,1.08,1.08,1.1,1.08,1.07,1.08,1.05,1.08,1.07,1.08,1.08],\"y0\":\" \",\"yaxis\":\"y\",\"type\":\"violin\"}],                        {\"template\":{\"data\":{\"histogram2dcontour\":[{\"type\":\"histogram2dcontour\",\"colorbar\":{\"outlinewidth\":0,\"ticks\":\"\"},\"colorscale\":[[0.0,\"#0d0887\"],[0.1111111111111111,\"#46039f\"],[0.2222222222222222,\"#7201a8\"],[0.3333333333333333,\"#9c179e\"],[0.4444444444444444,\"#bd3786\"],[0.5555555555555556,\"#d8576b\"],[0.6666666666666666,\"#ed7953\"],[0.7777777777777778,\"#fb9f3a\"],[0.8888888888888888,\"#fdca26\"],[1.0,\"#f0f921\"]]}],\"choropleth\":[{\"type\":\"choropleth\",\"colorbar\":{\"outlinewidth\":0,\"ticks\":\"\"}}],\"histogram2d\":[{\"type\":\"histogram2d\",\"colorbar\":{\"outlinewidth\":0,\"ticks\":\"\"},\"colorscale\":[[0.0,\"#0d0887\"],[0.1111111111111111,\"#46039f\"],[0.2222222222222222,\"#7201a8\"],[0.3333333333333333,\"#9c179e\"],[0.4444444444444444,\"#bd3786\"],[0.5555555555555556,\"#d8576b\"],[0.6666666666666666,\"#ed7953\"],[0.7777777777777778,\"#fb9f3a\"],[0.8888888888888888,\"#fdca26\"],[1.0,\"#f0f921\"]]}],\"heatmap\":[{\"type\":\"heatmap\",\"colorbar\":{\"outlinewidth\":0,\"ticks\":\"\"},\"colorscale\":[[0.0,\"#0d0887\"],[0.1111111111111111,\"#46039f\"],[0.2222222222222222,\"#7201a8\"],[0.3333333333333333,\"#9c179e\"],[0.4444444444444444,\"#bd3786\"],[0.5555555555555556,\"#d8576b\"],[0.6666666666666666,\"#ed7953\"],[0.7777777777777778,\"#fb9f3a\"],[0.8888888888888888,\"#fdca26\"],[1.0,\"#f0f921\"]]}],\"heatmapgl\":[{\"type\":\"heatmapgl\",\"colorbar\":{\"outlinewidth\":0,\"ticks\":\"\"},\"colorscale\":[[0.0,\"#0d0887\"],[0.1111111111111111,\"#46039f\"],[0.2222222222222222,\"#7201a8\"],[0.3333333333333333,\"#9c179e\"],[0.4444444444444444,\"#bd3786\"],[0.5555555555555556,\"#d8576b\"],[0.6666666666666666,\"#ed7953\"],[0.7777777777777778,\"#fb9f3a\"],[0.8888888888888888,\"#fdca26\"],[1.0,\"#f0f921\"]]}],\"contourcarpet\":[{\"type\":\"contourcarpet\",\"colorbar\":{\"outlinewidth\":0,\"ticks\":\"\"}}],\"contour\":[{\"type\":\"contour\",\"colorbar\":{\"outlinewidth\":0,\"ticks\":\"\"},\"colorscale\":[[0.0,\"#0d0887\"],[0.1111111111111111,\"#46039f\"],[0.2222222222222222,\"#7201a8\"],[0.3333333333333333,\"#9c179e\"],[0.4444444444444444,\"#bd3786\"],[0.5555555555555556,\"#d8576b\"],[0.6666666666666666,\"#ed7953\"],[0.7777777777777778,\"#fb9f3a\"],[0.8888888888888888,\"#fdca26\"],[1.0,\"#f0f921\"]]}],\"surface\":[{\"type\":\"surface\",\"colorbar\":{\"outlinewidth\":0,\"ticks\":\"\"},\"colorscale\":[[0.0,\"#0d0887\"],[0.1111111111111111,\"#46039f\"],[0.2222222222222222,\"#7201a8\"],[0.3333333333333333,\"#9c179e\"],[0.4444444444444444,\"#bd3786\"],[0.5555555555555556,\"#d8576b\"],[0.6666666666666666,\"#ed7953\"],[0.7777777777777778,\"#fb9f3a\"],[0.8888888888888888,\"#fdca26\"],[1.0,\"#f0f921\"]]}],\"mesh3d\":[{\"type\":\"mesh3d\",\"colorbar\":{\"outlinewidth\":0,\"ticks\":\"\"}}],\"scatter\":[{\"fillpattern\":{\"fillmode\":\"overlay\",\"size\":10,\"solidity\":0.2},\"type\":\"scatter\"}],\"parcoords\":[{\"type\":\"parcoords\",\"line\":{\"colorbar\":{\"outlinewidth\":0,\"ticks\":\"\"}}}],\"scatterpolargl\":[{\"type\":\"scatterpolargl\",\"marker\":{\"colorbar\":{\"outlinewidth\":0,\"ticks\":\"\"}}}],\"bar\":[{\"error_x\":{\"color\":\"#2a3f5f\"},\"error_y\":{\"color\":\"#2a3f5f\"},\"marker\":{\"line\":{\"color\":\"#E5ECF6\",\"width\":0.5},\"pattern\":{\"fillmode\":\"overlay\",\"size\":10,\"solidity\":0.2}},\"type\":\"bar\"}],\"scattergeo\":[{\"type\":\"scattergeo\",\"marker\":{\"colorbar\":{\"outlinewidth\":0,\"ticks\":\"\"}}}],\"scatterpolar\":[{\"type\":\"scatterpolar\",\"marker\":{\"colorbar\":{\"outlinewidth\":0,\"ticks\":\"\"}}}],\"histogram\":[{\"marker\":{\"pattern\":{\"fillmode\":\"overlay\",\"size\":10,\"solidity\":0.2}},\"type\":\"histogram\"}],\"scattergl\":[{\"type\":\"scattergl\",\"marker\":{\"colorbar\":{\"outlinewidth\":0,\"ticks\":\"\"}}}],\"scatter3d\":[{\"type\":\"scatter3d\",\"line\":{\"colorbar\":{\"outlinewidth\":0,\"ticks\":\"\"}},\"marker\":{\"colorbar\":{\"outlinewidth\":0,\"ticks\":\"\"}}}],\"scattermapbox\":[{\"type\":\"scattermapbox\",\"marker\":{\"colorbar\":{\"outlinewidth\":0,\"ticks\":\"\"}}}],\"scatterternary\":[{\"type\":\"scatterternary\",\"marker\":{\"colorbar\":{\"outlinewidth\":0,\"ticks\":\"\"}}}],\"scattercarpet\":[{\"type\":\"scattercarpet\",\"marker\":{\"colorbar\":{\"outlinewidth\":0,\"ticks\":\"\"}}}],\"carpet\":[{\"aaxis\":{\"endlinecolor\":\"#2a3f5f\",\"gridcolor\":\"white\",\"linecolor\":\"white\",\"minorgridcolor\":\"white\",\"startlinecolor\":\"#2a3f5f\"},\"baxis\":{\"endlinecolor\":\"#2a3f5f\",\"gridcolor\":\"white\",\"linecolor\":\"white\",\"minorgridcolor\":\"white\",\"startlinecolor\":\"#2a3f5f\"},\"type\":\"carpet\"}],\"table\":[{\"cells\":{\"fill\":{\"color\":\"#EBF0F8\"},\"line\":{\"color\":\"white\"}},\"header\":{\"fill\":{\"color\":\"#C8D4E3\"},\"line\":{\"color\":\"white\"}},\"type\":\"table\"}],\"barpolar\":[{\"marker\":{\"line\":{\"color\":\"#E5ECF6\",\"width\":0.5},\"pattern\":{\"fillmode\":\"overlay\",\"size\":10,\"solidity\":0.2}},\"type\":\"barpolar\"}],\"pie\":[{\"automargin\":true,\"type\":\"pie\"}]},\"layout\":{\"autotypenumbers\":\"strict\",\"colorway\":[\"#636efa\",\"#EF553B\",\"#00cc96\",\"#ab63fa\",\"#FFA15A\",\"#19d3f3\",\"#FF6692\",\"#B6E880\",\"#FF97FF\",\"#FECB52\"],\"font\":{\"color\":\"#2a3f5f\"},\"hovermode\":\"closest\",\"hoverlabel\":{\"align\":\"left\"},\"paper_bgcolor\":\"white\",\"plot_bgcolor\":\"#E5ECF6\",\"polar\":{\"bgcolor\":\"#E5ECF6\",\"angularaxis\":{\"gridcolor\":\"white\",\"linecolor\":\"white\",\"ticks\":\"\"},\"radialaxis\":{\"gridcolor\":\"white\",\"linecolor\":\"white\",\"ticks\":\"\"}},\"ternary\":{\"bgcolor\":\"#E5ECF6\",\"aaxis\":{\"gridcolor\":\"white\",\"linecolor\":\"white\",\"ticks\":\"\"},\"baxis\":{\"gridcolor\":\"white\",\"linecolor\":\"white\",\"ticks\":\"\"},\"caxis\":{\"gridcolor\":\"white\",\"linecolor\":\"white\",\"ticks\":\"\"}},\"coloraxis\":{\"colorbar\":{\"outlinewidth\":0,\"ticks\":\"\"}},\"colorscale\":{\"sequential\":[[0.0,\"#0d0887\"],[0.1111111111111111,\"#46039f\"],[0.2222222222222222,\"#7201a8\"],[0.3333333333333333,\"#9c179e\"],[0.4444444444444444,\"#bd3786\"],[0.5555555555555556,\"#d8576b\"],[0.6666666666666666,\"#ed7953\"],[0.7777777777777778,\"#fb9f3a\"],[0.8888888888888888,\"#fdca26\"],[1.0,\"#f0f921\"]],\"sequentialminus\":[[0.0,\"#0d0887\"],[0.1111111111111111,\"#46039f\"],[0.2222222222222222,\"#7201a8\"],[0.3333333333333333,\"#9c179e\"],[0.4444444444444444,\"#bd3786\"],[0.5555555555555556,\"#d8576b\"],[0.6666666666666666,\"#ed7953\"],[0.7777777777777778,\"#fb9f3a\"],[0.8888888888888888,\"#fdca26\"],[1.0,\"#f0f921\"]],\"diverging\":[[0,\"#8e0152\"],[0.1,\"#c51b7d\"],[0.2,\"#de77ae\"],[0.3,\"#f1b6da\"],[0.4,\"#fde0ef\"],[0.5,\"#f7f7f7\"],[0.6,\"#e6f5d0\"],[0.7,\"#b8e186\"],[0.8,\"#7fbc41\"],[0.9,\"#4d9221\"],[1,\"#276419\"]]},\"xaxis\":{\"gridcolor\":\"white\",\"linecolor\":\"white\",\"ticks\":\"\",\"title\":{\"standoff\":15},\"zerolinecolor\":\"white\",\"automargin\":true,\"zerolinewidth\":2},\"yaxis\":{\"gridcolor\":\"white\",\"linecolor\":\"white\",\"ticks\":\"\",\"title\":{\"standoff\":15},\"zerolinecolor\":\"white\",\"automargin\":true,\"zerolinewidth\":2},\"scene\":{\"xaxis\":{\"backgroundcolor\":\"#E5ECF6\",\"gridcolor\":\"white\",\"linecolor\":\"white\",\"showbackground\":true,\"ticks\":\"\",\"zerolinecolor\":\"white\",\"gridwidth\":2},\"yaxis\":{\"backgroundcolor\":\"#E5ECF6\",\"gridcolor\":\"white\",\"linecolor\":\"white\",\"showbackground\":true,\"ticks\":\"\",\"zerolinecolor\":\"white\",\"gridwidth\":2},\"zaxis\":{\"backgroundcolor\":\"#E5ECF6\",\"gridcolor\":\"white\",\"linecolor\":\"white\",\"showbackground\":true,\"ticks\":\"\",\"zerolinecolor\":\"white\",\"gridwidth\":2}},\"shapedefaults\":{\"line\":{\"color\":\"#2a3f5f\"}},\"annotationdefaults\":{\"arrowcolor\":\"#2a3f5f\",\"arrowhead\":0,\"arrowwidth\":1},\"geo\":{\"bgcolor\":\"white\",\"landcolor\":\"#E5ECF6\",\"subunitcolor\":\"white\",\"showland\":true,\"showlakes\":true,\"lakecolor\":\"white\"},\"title\":{\"x\":0.05},\"mapbox\":{\"style\":\"light\"}}},\"xaxis\":{\"anchor\":\"y\",\"domain\":[0.0,1.0]},\"yaxis\":{\"anchor\":\"x\",\"domain\":[0.0,1.0],\"title\":{\"text\":\"bayesian_avg\"}},\"legend\":{\"tracegroupgap\":0},\"margin\":{\"t\":60},\"violinmode\":\"group\"},                        {\"responsive\": true}                    ).then(function(){\n",
       "                            \n",
       "var gd = document.getElementById('6e96a7d1-f965-4d9d-9aad-e5a7963454d9');\n",
       "var x = new MutationObserver(function (mutations, observer) {{\n",
       "        var display = window.getComputedStyle(gd).display;\n",
       "        if (!display || display === 'none') {{\n",
       "            console.log([gd, 'removed!']);\n",
       "            Plotly.purge(gd);\n",
       "            observer.disconnect();\n",
       "        }}\n",
       "}});\n",
       "\n",
       "// Listen for the removal of the full notebook cells\n",
       "var notebookContainer = gd.closest('#notebook-container');\n",
       "if (notebookContainer) {{\n",
       "    x.observe(notebookContainer, {childList: true});\n",
       "}}\n",
       "\n",
       "// Listen for the clearing of the current output cell\n",
       "var outputEl = gd.closest('.output');\n",
       "if (outputEl) {{\n",
       "    x.observe(outputEl, {childList: true});\n",
       "}}\n",
       "\n",
       "                        })                };                });            </script>        </div>"
      ]
     },
     "metadata": {},
     "output_type": "display_data"
    }
   ],
   "source": [
    "# violin plot based on movie_id \n",
    "fig = px.violin(movies_stats, y=\"bayesian_avg\", box=True, points=\"all\",\n",
    "          hover_data=data.columns)\n",
    "fig.show()"
   ]
  },
  {
   "cell_type": "code",
   "execution_count": null,
   "metadata": {},
   "outputs": [
    {
     "data": {
      "application/vnd.plotly.v1+json": {
       "config": {
        "plotlyServerURL": "https://plot.ly"
       },
       "data": [
        {
         "alignmentgroup": "True",
         "box": {
          "visible": true
         },
         "customdata": [
          [
           452,
           3.55
          ],
          [
           131,
           2.53
          ],
          [
           90,
           2.25
          ],
          [
           209,
           3
          ],
          [
           86,
           2.38
          ],
          [
           26,
           1.82
          ],
          [
           392,
           3.44
          ],
          [
           219,
           3.37
          ],
          [
           299,
           3.42
          ],
          [
           89,
           2.72
          ],
          [
           236,
           3.28
          ],
          [
           267,
           3.78
          ],
          [
           184,
           2.84
          ],
          [
           183,
           3.25
          ],
          [
           293,
           3.32
          ],
          [
           39,
           1.9
          ],
          [
           92,
           2.31
          ],
          [
           10,
           1.3
          ],
          [
           69,
           2.61
          ],
          [
           72,
           2.35
          ],
          [
           84,
           2.05
          ],
          [
           297,
           3.63
          ],
          [
           182,
           3.37
          ],
          [
           174,
           2.84
          ],
          [
           293,
           3.04
          ],
          [
           73,
           2.37
          ],
          [
           57,
           2.06
          ],
          [
           276,
           3.42
          ],
          [
           114,
           2.11
          ],
          [
           37,
           2.16
          ],
          [
           154,
           2.91
          ],
          [
           81,
           2.63
          ],
          [
           97,
           2.54
          ],
          [
           7,
           1.23
          ],
          [
           11,
           1.23
          ],
          [
           13,
           1.25
          ],
          [
           8,
           1.19
          ],
          [
           120,
           2.36
          ],
          [
           87,
           2.37
          ],
          [
           57,
           1.95
          ],
          [
           37,
           1.83
          ],
          [
           148,
           3.02
          ],
          [
           40,
           1.84
          ],
          [
           79,
           2.36
          ],
          [
           80,
           2.77
          ],
          [
           27,
           1.83
          ],
          [
           133,
           2.81
          ],
          [
           117,
           3.07
          ],
          [
           81,
           2.36
          ],
          [
           583,
           4.05
          ],
          [
           81,
           2.44
          ],
          [
           91,
           2.7
          ],
          [
           128,
           2.35
          ],
          [
           104,
           2.44
          ],
          [
           149,
           2.95
          ],
          [
           394,
           3.67
          ],
          [
           40,
           2.24
          ],
          [
           175,
           2.99
          ],
          [
           83,
           2.8
          ],
          [
           64,
           2.59
          ],
          [
           59,
           2.45
          ],
          [
           127,
           2.48
          ],
          [
           82,
           2.24
          ],
          [
           283,
           3.86
          ],
          [
           115,
           2.69
          ],
          [
           162,
           2.88
          ],
          [
           103,
           2.32
          ],
          [
           134,
           2.69
          ],
          [
           321,
           3.42
          ],
          [
           251,
           3.16
          ],
          [
           220,
           3.2
          ],
          [
           129,
           2.52
          ],
          [
           128,
           2.7
          ],
          [
           7,
           1.26
          ],
          [
           5,
           1.2
          ],
          [
           54,
           2.17
          ],
          [
           151,
           2.65
          ],
          [
           33,
           1.55
          ],
          [
           336,
           3.59
          ],
          [
           68,
           1.97
          ],
          [
           110,
           2.68
          ],
          [
           261,
           3.23
          ],
          [
           176,
           3.3
          ],
          [
           18,
           1.5
          ],
          [
           58,
           2.03
          ],
          [
           150,
           3.12
          ],
          [
           138,
           3.05
          ],
          [
           213,
           3
          ],
          [
           275,
           3.59
          ],
          [
           95,
           2.28
          ],
          [
           143,
           2.84
          ],
          [
           104,
           2.68
          ],
          [
           112,
           2.8
          ],
          [
           137,
           2.47
          ],
          [
           219,
           3.22
          ],
          [
           295,
           3.51
          ],
          [
           256,
           3.28
          ],
          [
           390,
           3.86
          ],
          [
           172,
           3.03
          ],
          [
           508,
           3.83
          ],
          [
           73,
           2.27
          ],
          [
           54,
           2.04
          ],
          [
           15,
           1.22
          ],
          [
           5,
           1.08
          ],
          [
           74,
           1.89
          ],
          [
           71,
           2.05
          ],
          [
           42,
           2.07
          ],
          [
           65,
           2.11
          ],
          [
           130,
           2.68
          ],
          [
           31,
           1.55
          ],
          [
           272,
           3.05
          ],
          [
           20,
           1.4
          ],
          [
           9,
           1.45
          ],
          [
           67,
           2.85
          ],
          [
           15,
           1.59
          ],
          [
           125,
           2.93
          ],
          [
           378,
           3.33
          ],
          [
           293,
           2.85
          ],
          [
           4,
           1.27
          ],
          [
           67,
           1.68
          ],
          [
           429,
           3.15
          ],
          [
           106,
           1.88
          ],
          [
           115,
           2.49
          ],
          [
           187,
           3.33
          ],
          [
           244,
           3.07
          ],
          [
           97,
           2.76
          ],
          [
           413,
           3.88
          ],
          [
           65,
           2.35
          ],
          [
           129,
           2.95
          ],
          [
           23,
           1.39
          ],
          [
           95,
           2.7
          ],
          [
           246,
           3.49
          ],
          [
           171,
           3.14
          ],
          [
           198,
           3.54
          ],
          [
           259,
           3.42
          ],
          [
           105,
           3.01
          ],
          [
           171,
           3.17
          ],
          [
           19,
           1.42
          ],
          [
           50,
           1.84
          ],
          [
           61,
           2.15
          ],
          [
           72,
           2.39
          ],
          [
           57,
           2.04
          ],
          [
           222,
           3.19
          ],
          [
           243,
           3.32
          ],
          [
           65,
           1.78
          ],
          [
           10,
           1.26
          ],
          [
           185,
           2.88
          ],
          [
           128,
           2.52
          ],
          [
           23,
           1.6
          ],
          [
           157,
           3.07
          ],
          [
           326,
           3.23
          ],
          [
           82,
           2.55
          ],
          [
           247,
           3.26
          ],
          [
           174,
           3.06
          ],
          [
           98,
           2.33
          ],
          [
           148,
           3.15
          ],
          [
           127,
           2.85
          ],
          [
           60,
           1.84
          ],
          [
           101,
           2.42
          ],
          [
           69,
           2.35
          ],
          [
           220,
           2.96
          ],
          [
           106,
           2.66
          ],
          [
           92,
           2.57
          ],
          [
           151,
           2.87
          ],
          [
           64,
           2.64
          ],
          [
           58,
           2.57
          ],
          [
           67,
           2.06
          ],
          [
           316,
           3.59
          ],
          [
           118,
           3.32
          ],
          [
           121,
           3.15
          ],
          [
           65,
           2.53
          ],
          [
           367,
           3.76
          ],
          [
           324,
           3.69
          ],
          [
           420,
           3.86
          ],
          [
           208,
           3.2
          ],
          [
           284,
           3.45
          ],
          [
           137,
           3.01
          ],
          [
           125,
           3.28
          ],
          [
           221,
           3.3
          ],
          [
           221,
           3.41
          ],
          [
           507,
           3.7
          ],
          [
           226,
           3.35
          ],
          [
           291,
           3.53
          ],
          [
           116,
           2.62
          ],
          [
           239,
           3.49
          ],
          [
           251,
           3.3
          ],
          [
           209,
           3.49
          ],
          [
           170,
           3
          ],
          [
           66,
           2.66
          ],
          [
           124,
           3.14
          ],
          [
           276,
           3.61
          ],
          [
           116,
           3.08
          ],
          [
           157,
           3.13
          ],
          [
           241,
           3.46
          ],
          [
           301,
           3.46
          ],
          [
           251,
           3.37
          ],
          [
           239,
           3.5
          ],
          [
           127,
           3.07
          ],
          [
           165,
           3.35
          ],
          [
           206,
           3.2
          ],
          [
           89,
           2.53
          ],
          [
           280,
           3.29
          ],
          [
           182,
           3.17
          ],
          [
           350,
           3.43
          ],
          [
           136,
           3.1
          ],
          [
           50,
           2.12
          ],
          [
           66,
           2.51
          ],
          [
           200,
           3.28
          ],
          [
           191,
           3.23
          ],
          [
           331,
           3.49
          ],
          [
           206,
           3.27
          ],
          [
           92,
           2.51
          ],
          [
           134,
           3.08
          ],
          [
           114,
           2.56
          ],
          [
           212,
           3.12
          ],
          [
           290,
           3.42
          ],
          [
           120,
           2.46
          ],
          [
           171,
           2.84
          ],
          [
           111,
           2.43
          ],
          [
           66,
           2.27
          ],
          [
           74,
           2.54
          ],
          [
           365,
           3.29
          ],
          [
           136,
           3.24
          ],
          [
           44,
           2.18
          ],
          [
           109,
           2.25
          ],
          [
           166,
           2.75
          ],
          [
           161,
           2.68
          ],
          [
           244,
           3.27
          ],
          [
           171,
           2.58
          ],
          [
           199,
           2.9
          ],
          [
           142,
           2.2
          ],
          [
           101,
           2.41
          ],
          [
           124,
           2.56
          ],
          [
           280,
           3.3
          ],
          [
           217,
           2.46
          ],
          [
           45,
           2.16
          ],
          [
           384,
           3.35
          ],
          [
           256,
           3.34
          ],
          [
           150,
           2.81
          ],
          [
           156,
           2.31
          ],
          [
           128,
           2.76
          ],
          [
           117,
           3
          ],
          [
           132,
           2.01
          ],
          [
           48,
           2
          ],
          [
           240,
           2.7
          ],
          [
           124,
           3
          ],
          [
           5,
           1.11
          ],
          [
           160,
           2.96
          ],
          [
           130,
           2.56
          ],
          [
           197,
           2.91
          ],
          [
           46,
           2.45
          ],
          [
           158,
           2.43
          ],
          [
           26,
           1.86
          ],
          [
           62,
           1.77
          ],
          [
           172,
           2.77
          ],
          [
           16,
           1.58
          ],
          [
           303,
           3.3
          ],
          [
           509,
           3.52
          ],
          [
           162,
           2.25
          ],
          [
           127,
           2.09
          ],
          [
           43,
           1.68
          ],
          [
           66,
           2.45
          ],
          [
           19,
           1.32
          ],
          [
           101,
           2.12
          ],
          [
           227,
           3.28
          ],
          [
           35,
           1.67
          ],
          [
           9,
           1.37
          ],
          [
           255,
           3.27
          ],
          [
           315,
           3.47
          ],
          [
           136,
           2.82
          ],
          [
           211,
           2.75
          ],
          [
           198,
           3.52
          ],
          [
           223,
           3.04
          ],
          [
           190,
           2.92
          ],
          [
           268,
           3.47
          ],
          [
           298,
           3.26
          ],
          [
           71,
           2.37
          ],
          [
           60,
           2.15
          ],
          [
           28,
           1.77
          ],
          [
           85,
           2.31
          ],
          [
           146,
           2.54
          ],
          [
           232,
           3.15
          ],
          [
           177,
           3.05
          ],
          [
           193,
           2.66
          ],
          [
           162,
           3.4
          ],
          [
           481,
           3.37
          ],
          [
           78,
           2.49
          ],
          [
           478,
           3.18
          ],
          [
           259,
           2.62
          ],
          [
           96,
           2.33
          ],
          [
           127,
           2.63
          ],
          [
           114,
           2.77
          ],
          [
           147,
           3.01
          ],
          [
           485,
           2.93
          ],
          [
           77,
           2.38
          ],
          [
           6,
           1.26
          ],
          [
           50,
           2.38
          ],
          [
           194,
           3.13
          ],
          [
           73,
           2.09
          ],
          [
           431,
           3.32
          ],
          [
           230,
           2.84
          ],
          [
           297,
           3.64
          ],
          [
           134,
           2.88
          ],
          [
           149,
           2.83
          ],
          [
           87,
           2.59
          ],
          [
           96,
           2.84
          ],
          [
           188,
           2.92
          ],
          [
           30,
           1.69
          ],
          [
           28,
           1.63
          ],
          [
           145,
           2.86
          ],
          [
           75,
           2.52
          ],
          [
           80,
           2.26
          ],
          [
           350,
           3.78
          ],
          [
           5,
           1.05
          ],
          [
           160,
           3.27
          ],
          [
           112,
           3.11
          ],
          [
           102,
           2.86
          ],
          [
           298,
           3.9
          ],
          [
           168,
           2.69
          ],
          [
           20,
           1.81
          ],
          [
           169,
           2.59
          ],
          [
           218,
           2.65
          ],
          [
           240,
           2.56
          ],
          [
           125,
           2.46
          ],
          [
           128,
           2.07
          ],
          [
           175,
           2.77
          ],
          [
           175,
           2.79
          ],
          [
           295,
           3.03
          ],
          [
           45,
           2.03
          ],
          [
           41,
           1.86
          ],
          [
           113,
           2.68
          ],
          [
           143,
           2.75
          ],
          [
           251,
           3.11
          ],
          [
           64,
           2.25
          ],
          [
           21,
           1.5
          ],
          [
           43,
           1.71
          ],
          [
           18,
           1.5
          ],
          [
           91,
           2.02
          ],
          [
           47,
           2.02
          ],
          [
           189,
           2.98
          ],
          [
           11,
           1.37
          ],
          [
           52,
           1.92
          ],
          [
           124,
           2.43
          ],
          [
           55,
           2.3
          ],
          [
           65,
           2.28
          ],
          [
           126,
           2.81
          ],
          [
           137,
           2.77
          ],
          [
           27,
           1.75
          ],
          [
           31,
           1.69
          ],
          [
           41,
           1.91
          ],
          [
           20,
           1.47
          ],
          [
           26,
           1.38
          ],
          [
           14,
           1.31
          ],
          [
           72,
           2.39
          ],
          [
           41,
           1.82
          ],
          [
           97,
           2.5
          ],
          [
           264,
           3.7
          ],
          [
           143,
           2.16
          ],
          [
           18,
           1.62
          ],
          [
           10,
           1.36
          ],
          [
           10,
           1.4
          ],
          [
           28,
           1.62
          ],
          [
           47,
           1.79
          ],
          [
           37,
           1.67
          ],
          [
           48,
           2.02
          ],
          [
           47,
           2.06
          ],
          [
           170,
           2.84
          ],
          [
           31,
           1.34
          ],
          [
           55,
           1.81
          ],
          [
           39,
           1.75
          ],
          [
           67,
           2.17
          ],
          [
           34,
           1.95
          ],
          [
           39,
           1.78
          ],
          [
           11,
           1.24
          ],
          [
           23,
           1.3
          ],
          [
           24,
           1.56
          ],
          [
           13,
           1.25
          ],
          [
           101,
           2.73
          ],
          [
           43,
           1.86
          ],
          [
           116,
           2.56
          ],
          [
           100,
           2.62
          ],
          [
           111,
           2.71
          ],
          [
           31,
           1.4
          ],
          [
           69,
           1.98
          ],
          [
           208,
           3
          ],
          [
           87,
           2.1
          ],
          [
           65,
           2.27
          ],
          [
           28,
           1.48
          ],
          [
           27,
           1.8
          ],
          [
           10,
           1.36
          ],
          [
           59,
           1.9
          ],
          [
           68,
           2.38
          ],
          [
           192,
           2.85
          ],
          [
           12,
           1.43
          ],
          [
           56,
           1.8
          ],
          [
           54,
           1.89
          ],
          [
           12,
           1.31
          ],
          [
           26,
           1.36
          ],
          [
           89,
           2.4
          ],
          [
           18,
           1.44
          ],
          [
           76,
           2.03
          ],
          [
           170,
           2.84
          ],
          [
           201,
           2.89
          ],
          [
           101,
           2.7
          ],
          [
           344,
           2.98
          ],
          [
           49,
           1.68
          ],
          [
           43,
           1.66
          ],
          [
           112,
           3.3
          ],
          [
           70,
           2.18
          ],
          [
           162,
           2.57
          ],
          [
           163,
           2.42
          ],
          [
           93,
           1.87
          ],
          [
           55,
           1.81
          ],
          [
           62,
           2.32
          ],
          [
           25,
           1.58
          ],
          [
           64,
           2.31
          ],
          [
           73,
           2.18
          ],
          [
           129,
           2.78
          ],
          [
           178,
           3.06
          ],
          [
           81,
           2.56
          ],
          [
           106,
           2.68
          ],
          [
           26,
           1.6
          ],
          [
           300,
           3.37
          ],
          [
           19,
           1.12
          ],
          [
           85,
           2.63
          ],
          [
           32,
           1.68
          ],
          [
           219,
           3.6
          ],
          [
           121,
           2.91
          ],
          [
           97,
           2.84
          ],
          [
           93,
           2.85
          ],
          [
           153,
           2.84
          ],
          [
           174,
           3.08
          ],
          [
           171,
           3.01
          ],
          [
           67,
           2.53
          ],
          [
           216,
           3.32
          ],
          [
           99,
           2.6
          ],
          [
           5,
           1.05
          ],
          [
           6,
           1.06
          ],
          [
           5,
           1.05
          ],
          [
           14,
           1.16
          ],
          [
           53,
           1.77
          ],
          [
           4,
           1.06
          ],
          [
           162,
           3.07
          ],
          [
           46,
           1.78
          ],
          [
           22,
           1.71
          ],
          [
           9,
           1.23
          ],
          [
           121,
           2.7
          ],
          [
           85,
           2.43
          ],
          [
           117,
           2.37
          ],
          [
           63,
           1.74
          ],
          [
           170,
           2.75
          ],
          [
           66,
           1.9
          ],
          [
           16,
           1.24
          ],
          [
           16,
           1.44
          ],
          [
           145,
           2.61
          ],
          [
           48,
           1.61
          ],
          [
           27,
           1.27
          ],
          [
           90,
           2.3
          ],
          [
           24,
           1.83
          ],
          [
           28,
           1.68
          ],
          [
           74,
           2.48
          ],
          [
           148,
           3.02
          ],
          [
           71,
           2.58
          ],
          [
           27,
           1.85
          ],
          [
           85,
           2.53
          ],
          [
           52,
           2.24
          ],
          [
           48,
           2.28
          ],
          [
           64,
           2.22
          ],
          [
           67,
           2.5
          ],
          [
           108,
           2.74
          ],
          [
           221,
           3.07
          ],
          [
           158,
           2.53
          ],
          [
           126,
           2.46
          ],
          [
           194,
           3.5
          ],
          [
           250,
           3.34
          ],
          [
           160,
           2.49
          ],
          [
           95,
           2.38
          ],
          [
           104,
           3
          ],
          [
           179,
           3.45
          ],
          [
           179,
           3.48
          ],
          [
           63,
           2.54
          ],
          [
           128,
           3.05
          ],
          [
           243,
           3.79
          ],
          [
           138,
           3.26
          ],
          [
           125,
           2.93
          ],
          [
           64,
           2.47
          ],
          [
           68,
           2.68
          ],
          [
           65,
           2.7
          ],
          [
           52,
           2.48
          ],
          [
           50,
           2.41
          ],
          [
           67,
           2.5
          ],
          [
           59,
           2.45
          ],
          [
           60,
           2.61
          ],
          [
           56,
           2.48
          ],
          [
           59,
           2.35
          ],
          [
           231,
           3.49
          ],
          [
           68,
           2.54
          ],
          [
           152,
           3.3
          ],
          [
           62,
           2.53
          ],
          [
           31,
           2.03
          ],
          [
           123,
           2.7
          ],
          [
           57,
           2.35
          ],
          [
           39,
           2.08
          ],
          [
           122,
           2.91
          ],
          [
           68,
           2.62
          ],
          [
           90,
           2.74
          ],
          [
           98,
           2.77
          ],
          [
           215,
           3.04
          ],
          [
           121,
           2.93
          ],
          [
           121,
           2.99
          ],
          [
           173,
           3.42
          ],
          [
           57,
           2.49
          ],
          [
           72,
           2.85
          ],
          [
           180,
           3.2
          ],
          [
           201,
           3.48
          ],
          [
           63,
           2.55
          ],
          [
           91,
           2.7
          ],
          [
           89,
           2.61
          ],
          [
           80,
           2.8
          ],
          [
           124,
           3.12
          ],
          [
           120,
           2.91
          ],
          [
           35,
           2.06
          ],
          [
           164,
           3.21
          ],
          [
           46,
           2.35
          ],
          [
           73,
           2.69
          ],
          [
           124,
           2.93
          ],
          [
           195,
           3.33
          ],
          [
           121,
           3.12
          ],
          [
           93,
           2.84
          ],
          [
           80,
           2.76
          ],
          [
           129,
           3.02
          ],
          [
           22,
           1.66
          ],
          [
           15,
           1.58
          ],
          [
           13,
           1.46
          ],
          [
           54,
           2.06
          ],
          [
           10,
           1.38
          ],
          [
           30,
           1.92
          ],
          [
           66,
           2.3
          ],
          [
           44,
           1.66
          ],
          [
           43,
           1.66
          ],
          [
           49,
           1.88
          ],
          [
           51,
           1.73
          ],
          [
           21,
           1.72
          ],
          [
           71,
           2.2
          ],
          [
           12,
           1.18
          ],
          [
           254,
           2.66
          ],
          [
           41,
           1.99
          ],
          [
           12,
           1.24
          ],
          [
           92,
           2.58
          ],
          [
           151,
           2.65
          ],
          [
           24,
           1.44
          ],
          [
           45,
           1.83
          ],
          [
           63,
           2.2
          ],
          [
           102,
           2.16
          ],
          [
           10,
           1.19
          ],
          [
           12,
           1.29
          ],
          [
           17,
           1.51
          ],
          [
           70,
           2.47
          ],
          [
           137,
           2.54
          ],
          [
           22,
           1.5
          ],
          [
           59,
           2.06
          ],
          [
           48,
           2.02
          ],
          [
           29,
           1.5
          ],
          [
           27,
           1.36
          ],
          [
           22,
           1.49
          ],
          [
           179,
           2.94
          ],
          [
           35,
           1.7
          ],
          [
           230,
           3.11
          ],
          [
           67,
           1.93
          ],
          [
           50,
           1.99
          ],
          [
           28,
           1.52
          ],
          [
           29,
           1.61
          ],
          [
           33,
           1.73
          ],
          [
           15,
           1.28
          ],
          [
           44,
           1.69
          ],
          [
           93,
           2.25
          ],
          [
           41,
           1.53
          ],
          [
           92,
           2.33
          ],
          [
           19,
           1.43
          ],
          [
           32,
           1.86
          ],
          [
           59,
           2.13
          ],
          [
           168,
           2.93
          ],
          [
           37,
           1.8
          ],
          [
           79,
           2.47
          ],
          [
           39,
           1.62
          ],
          [
           34,
           1.64
          ],
          [
           14,
           1.53
          ],
          [
           202,
           3.17
          ],
          [
           43,
           2.3
          ],
          [
           18,
           1.27
          ],
          [
           178,
           2.96
          ],
          [
           9,
           1.35
          ],
          [
           12,
           1.41
          ],
          [
           5,
           1.16
          ],
          [
           64,
           2.11
          ],
          [
           127,
           2.64
          ],
          [
           206,
           2.68
          ],
          [
           4,
           1.13
          ],
          [
           1,
           1.05
          ],
          [
           2,
           1.12
          ],
          [
           20,
           1.79
          ],
          [
           50,
           2.26
          ],
          [
           209,
           3.65
          ],
          [
           81,
           2.76
          ],
          [
           31,
           1.84
          ],
          [
           66,
           2.63
          ],
          [
           66,
           2.59
          ],
          [
           30,
           2.02
          ],
          [
           60,
           2.32
          ],
          [
           41,
           2.12
          ],
          [
           40,
           2.28
          ],
          [
           34,
           2.1
          ],
          [
           27,
           1.98
          ],
          [
           51,
           2.3
          ],
          [
           59,
           2.55
          ],
          [
           64,
           2.28
          ],
          [
           18,
           1.69
          ],
          [
           18,
           1.65
          ],
          [
           64,
           2.15
          ],
          [
           43,
           1.91
          ],
          [
           11,
           1.34
          ],
          [
           39,
           1.97
          ],
          [
           39,
           1.79
          ],
          [
           22,
           1.65
          ],
          [
           82,
           2.37
          ],
          [
           4,
           1.19
          ],
          [
           75,
           2.26
          ],
          [
           169,
           2.87
          ],
          [
           77,
           2.34
          ],
          [
           31,
           1.82
          ],
          [
           119,
           2.77
          ],
          [
           58,
           2.46
          ],
          [
           69,
           2.67
          ],
          [
           24,
           1.83
          ],
          [
           23,
           1.52
          ],
          [
           91,
           2.38
          ],
          [
           38,
           1.82
          ],
          [
           44,
           2.21
          ],
          [
           40,
           2.12
          ],
          [
           82,
           2.2
          ],
          [
           33,
           2.18
          ],
          [
           89,
           2.51
          ],
          [
           4,
           1.17
          ],
          [
           35,
           2.06
          ],
          [
           27,
           1.91
          ],
          [
           38,
           2.15
          ],
          [
           70,
           2.7
          ],
          [
           67,
           2.63
          ],
          [
           50,
           2.12
          ],
          [
           72,
           2.42
          ],
          [
           171,
           3.3
          ],
          [
           90,
           2.76
          ],
          [
           34,
           2.09
          ],
          [
           147,
           3.25
          ],
          [
           227,
           3.29
          ],
          [
           44,
           2.31
          ],
          [
           131,
           3.26
          ],
          [
           79,
           2.4
          ],
          [
           115,
           3.05
          ],
          [
           153,
           3.01
          ],
          [
           88,
           2.87
          ],
          [
           82,
           2.43
          ],
          [
           116,
           2.94
          ],
          [
           46,
           2.14
          ],
          [
           100,
           2.17
          ],
          [
           5,
           1.16
          ],
          [
           12,
           1.24
          ],
          [
           6,
           1.15
          ],
          [
           13,
           1.15
          ],
          [
           36,
           1.79
          ],
          [
           46,
           2.17
          ],
          [
           65,
           1.92
          ],
          [
           86,
           2.51
          ],
          [
           48,
           1.88
          ],
          [
           54,
           2.24
          ],
          [
           77,
           2.34
          ],
          [
           1,
           1.08
          ],
          [
           219,
           2.43
          ],
          [
           107,
           2.33
          ],
          [
           34,
           1.6
          ],
          [
           27,
           1.49
          ],
          [
           100,
           2.31
          ],
          [
           49,
           1.66
          ],
          [
           169,
           3.08
          ],
          [
           157,
           2.72
          ],
          [
           50,
           2.25
          ],
          [
           69,
           1.66
          ],
          [
           44,
           1.39
          ],
          [
           87,
           2.3
          ],
          [
           155,
           2.79
          ],
          [
           16,
           1.57
          ],
          [
           164,
           2.94
          ],
          [
           91,
           2.62
          ],
          [
           44,
           2.33
          ],
          [
           13,
           1.39
          ],
          [
           79,
           2.24
          ],
          [
           40,
           2.01
          ],
          [
           10,
           1.33
          ],
          [
           102,
           2.71
          ],
          [
           15,
           1.36
          ],
          [
           10,
           1.48
          ],
          [
           53,
           1.98
          ],
          [
           19,
           1.66
          ],
          [
           24,
           1.62
          ],
          [
           137,
           3.1
          ],
          [
           6,
           1.2
          ],
          [
           70,
           2.61
          ],
          [
           101,
           2.58
          ],
          [
           104,
           2.95
          ],
          [
           79,
           2.49
          ],
          [
           1,
           1.1
          ],
          [
           51,
           1.99
          ],
          [
           72,
           2.45
          ],
          [
           13,
           1.44
          ],
          [
           87,
           2.37
          ],
          [
           58,
           2.09
          ],
          [
           82,
           2.08
          ],
          [
           16,
           1.61
          ],
          [
           29,
           1.5
          ],
          [
           86,
           2.22
          ],
          [
           54,
           2.19
          ],
          [
           58,
           1.98
          ],
          [
           34,
           1.81
          ],
          [
           76,
           2.42
          ],
          [
           16,
           1.41
          ],
          [
           14,
           1.31
          ],
          [
           63,
           2.29
          ],
          [
           45,
           1.9
          ],
          [
           81,
           2.45
          ],
          [
           24,
           1.76
          ],
          [
           39,
           1.88
          ],
          [
           180,
           3
          ],
          [
           15,
           1.48
          ],
          [
           27,
           1.51
          ],
          [
           137,
           3.01
          ],
          [
           78,
           2.69
          ],
          [
           59,
           2.01
          ],
          [
           31,
           1.66
          ],
          [
           164,
           2.72
          ],
          [
           63,
           2.3
          ],
          [
           58,
           2.24
          ],
          [
           267,
           3.17
          ],
          [
           39,
           1.41
          ],
          [
           92,
           2.51
          ],
          [
           16,
           1.65
          ],
          [
           119,
           2.79
          ],
          [
           102,
           2.57
          ],
          [
           316,
           2.8
          ],
          [
           51,
           2.03
          ],
          [
           124,
           2.95
          ],
          [
           180,
           2.84
          ],
          [
           39,
           1.95
          ],
          [
           24,
           1.82
          ],
          [
           57,
           2.19
          ],
          [
           96,
           2.45
          ],
          [
           128,
           2.31
          ],
          [
           4,
           1.16
          ],
          [
           21,
           1.22
          ],
          [
           11,
           1.23
          ],
          [
           46,
           1.75
          ],
          [
           44,
           1.9
          ],
          [
           115,
           2.59
          ],
          [
           149,
           2.72
          ],
          [
           29,
           1.61
          ],
          [
           32,
           1.67
          ],
          [
           9,
           1.32
          ],
          [
           11,
           1.23
          ],
          [
           52,
           2
          ],
          [
           42,
           1.63
          ],
          [
           57,
           2.19
          ],
          [
           41,
           1.7
          ],
          [
           49,
           1.96
          ],
          [
           17,
           1.47
          ],
          [
           32,
           1.71
          ],
          [
           26,
           1.57
          ],
          [
           9,
           1.34
          ],
          [
           4,
           1.06
          ],
          [
           76,
           2.45
          ],
          [
           31,
           1.56
          ],
          [
           69,
           2.1
          ],
          [
           84,
           2.39
          ],
          [
           10,
           1.27
          ],
          [
           37,
           1.7
          ],
          [
           2,
           1.05
          ],
          [
           39,
           1.88
          ],
          [
           14,
           1.36
          ],
          [
           13,
           1.44
          ],
          [
           3,
           1.08
          ],
          [
           47,
           2.17
          ],
          [
           66,
           2.03
          ],
          [
           10,
           1.26
          ],
          [
           86,
           2.63
          ],
          [
           10,
           1.4
          ],
          [
           46,
           2.19
          ],
          [
           21,
           1.41
          ],
          [
           36,
           1.82
          ],
          [
           31,
           1.75
          ],
          [
           9,
           1.21
          ],
          [
           5,
           1.22
          ],
          [
           26,
           1.61
          ],
          [
           16,
           1.43
          ],
          [
           40,
           1.71
          ],
          [
           9,
           1.25
          ],
          [
           8,
           1.27
          ],
          [
           27,
           1.86
          ],
          [
           50,
           2.15
          ],
          [
           9,
           1.28
          ],
          [
           31,
           1.66
          ],
          [
           43,
           1.83
          ],
          [
           45,
           1.84
          ],
          [
           18,
           1.72
          ],
          [
           18,
           1.53
          ],
          [
           56,
           2.43
          ],
          [
           1,
           1.12
          ],
          [
           112,
           2.48
          ],
          [
           21,
           1.41
          ],
          [
           3,
           1.13
          ],
          [
           25,
           1.56
          ],
          [
           40,
           1.71
          ],
          [
           93,
           2.1
          ],
          [
           22,
           1.59
          ],
          [
           4,
           1.17
          ],
          [
           82,
           2.11
          ],
          [
           49,
           1.82
          ],
          [
           83,
           2.21
          ],
          [
           80,
           1.93
          ],
          [
           57,
           1.89
          ],
          [
           13,
           1.35
          ],
          [
           34,
           1.63
          ],
          [
           1,
           1.05
          ],
          [
           91,
           1.9
          ],
          [
           22,
           1.46
          ],
          [
           49,
           2.02
          ],
          [
           25,
           1.39
          ],
          [
           15,
           1.62
          ],
          [
           26,
           1.88
          ],
          [
           25,
           1.9
          ],
          [
           4,
           1.16
          ],
          [
           4,
           1.14
          ],
          [
           53,
           1.81
          ],
          [
           48,
           1.81
          ],
          [
           27,
           1.71
          ],
          [
           30,
           1.71
          ],
          [
           42,
           2.01
          ],
          [
           176,
           2.86
          ],
          [
           44,
           1.91
          ],
          [
           55,
           2.34
          ],
          [
           9,
           1.38
          ],
          [
           53,
           1.84
          ],
          [
           4,
           1.24
          ],
          [
           4,
           1.22
          ],
          [
           1,
           1.05
          ],
          [
           14,
           1.59
          ],
          [
           16,
           1.54
          ],
          [
           66,
           2.46
          ],
          [
           36,
           2.1
          ],
          [
           1,
           1.08
          ],
          [
           3,
           1.05
          ],
          [
           15,
           1.38
          ],
          [
           16,
           1.31
          ],
          [
           3,
           1.11
          ],
          [
           18,
           1.3
          ],
          [
           24,
           1.88
          ],
          [
           86,
           2.3
          ],
          [
           21,
           1.68
          ],
          [
           119,
           2.56
          ],
          [
           6,
           1.32
          ],
          [
           5,
           1.26
          ],
          [
           24,
           1.61
          ],
          [
           9,
           1.28
          ],
          [
           75,
           1.8
          ],
          [
           42,
           1.9
          ],
          [
           81,
           2.15
          ],
          [
           39,
           1.93
          ],
          [
           53,
           1.85
          ],
          [
           47,
           1.78
          ],
          [
           52,
           1.75
          ],
          [
           33,
           1.57
          ],
          [
           136,
           2.6
          ],
          [
           59,
           2.11
          ],
          [
           45,
           1.86
          ],
          [
           34,
           1.87
          ],
          [
           13,
           1.44
          ],
          [
           7,
           1.29
          ],
          [
           13,
           1.26
          ],
          [
           53,
           2.01
          ],
          [
           64,
           2.38
          ],
          [
           15,
           1.54
          ],
          [
           13,
           1.47
          ],
          [
           43,
           1.43
          ],
          [
           6,
           1.2
          ],
          [
           53,
           1.85
          ],
          [
           14,
           1.31
          ],
          [
           19,
           1.26
          ],
          [
           106,
           2.44
          ],
          [
           44,
           2.21
          ],
          [
           2,
           1.07
          ],
          [
           58,
           2.12
          ],
          [
           9,
           1.37
          ],
          [
           42,
           2.14
          ],
          [
           12,
           1.2
          ],
          [
           42,
           2.2
          ],
          [
           18,
           1.53
          ],
          [
           20,
           1.66
          ],
          [
           27,
           1.73
          ],
          [
           21,
           1.61
          ],
          [
           2,
           1.08
          ],
          [
           20,
           1.42
          ],
          [
           13,
           1.54
          ],
          [
           4,
           1.11
          ],
          [
           4,
           1.14
          ],
          [
           9,
           1.31
          ],
          [
           2,
           1.1
          ],
          [
           11,
           1.31
          ],
          [
           13,
           1.57
          ],
          [
           18,
           1.54
          ],
          [
           7,
           1.3
          ],
          [
           8,
           1.28
          ],
          [
           96,
           2.74
          ],
          [
           5,
           1.14
          ],
          [
           46,
           2.33
          ],
          [
           34,
           2.06
          ],
          [
           58,
           2.58
          ],
          [
           85,
           2.43
          ],
          [
           34,
           1.88
          ],
          [
           101,
           2.09
          ],
          [
           6,
           1.25
          ],
          [
           104,
           2.36
          ],
          [
           40,
           1.71
          ],
          [
           80,
           2
          ],
          [
           57,
           1.59
          ],
          [
           40,
           1.81
          ],
          [
           21,
           1.41
          ],
          [
           68,
           2.05
          ],
          [
           7,
           1.29
          ],
          [
           32,
           2.06
          ],
          [
           37,
           1.95
          ],
          [
           25,
           1.59
          ],
          [
           60,
           2.33
          ],
          [
           32,
           1.5
          ],
          [
           46,
           1.93
          ],
          [
           45,
           2.1
          ],
          [
           40,
           2.03
          ],
          [
           43,
           1.87
          ],
          [
           40,
           2.21
          ],
          [
           61,
           2.11
          ],
          [
           17,
           1.54
          ],
          [
           48,
           1.55
          ],
          [
           71,
           2.3
          ],
          [
           30,
           1.67
          ],
          [
           39,
           1.75
          ],
          [
           45,
           1.97
          ],
          [
           22,
           1.66
          ],
          [
           11,
           1.44
          ],
          [
           49,
           2.12
          ],
          [
           46,
           2.17
          ],
          [
           2,
           1.08
          ],
          [
           14,
           1.57
          ],
          [
           64,
           2.3
          ],
          [
           25,
           1.7
          ],
          [
           34,
           1.99
          ],
          [
           23,
           1.63
          ],
          [
           41,
           2.37
          ],
          [
           9,
           1.35
          ],
          [
           21,
           1.73
          ],
          [
           26,
           2.01
          ],
          [
           12,
           1.41
          ],
          [
           18,
           1.67
          ],
          [
           75,
           2.58
          ],
          [
           8,
           1.31
          ],
          [
           34,
           2.01
          ],
          [
           28,
           1.73
          ],
          [
           4,
           1.21
          ],
          [
           32,
           1.74
          ],
          [
           44,
           1.95
          ],
          [
           12,
           1.18
          ],
          [
           49,
           1.79
          ],
          [
           27,
           1.51
          ],
          [
           35,
           1.85
          ],
          [
           22,
           1.63
          ],
          [
           8,
           1.13
          ],
          [
           20,
           1.49
          ],
          [
           15,
           1.32
          ],
          [
           44,
           1.82
          ],
          [
           22,
           1.54
          ],
          [
           23,
           1.47
          ],
          [
           4,
           1.14
          ],
          [
           86,
           1.8
          ],
          [
           32,
           1.68
          ],
          [
           33,
           1.78
          ],
          [
           25,
           1.4
          ],
          [
           4,
           1.17
          ],
          [
           66,
           2.35
          ],
          [
           7,
           1.18
          ],
          [
           31,
           1.77
          ],
          [
           14,
           1.33
          ],
          [
           16,
           1.28
          ],
          [
           16,
           1.37
          ],
          [
           10,
           1.3
          ],
          [
           10,
           1.33
          ],
          [
           17,
           1.26
          ],
          [
           8,
           1.15
          ],
          [
           8,
           1.19
          ],
          [
           9,
           1.32
          ],
          [
           22,
           1.76
          ],
          [
           23,
           1.55
          ],
          [
           47,
           2.41
          ],
          [
           37,
           1.94
          ],
          [
           64,
           2.26
          ],
          [
           44,
           1.99
          ],
          [
           93,
           2.38
          ],
          [
           100,
           2.61
          ],
          [
           38,
           1.53
          ],
          [
           98,
           2.3
          ],
          [
           12,
           1.35
          ],
          [
           137,
           2.73
          ],
          [
           50,
           2.05
          ],
          [
           32,
           1.8
          ],
          [
           31,
           2.05
          ],
          [
           35,
           2.1
          ],
          [
           38,
           2.13
          ],
          [
           32,
           1.89
          ],
          [
           31,
           1.58
          ],
          [
           15,
           1.57
          ],
          [
           44,
           1.85
          ],
          [
           4,
           1.14
          ],
          [
           3,
           1.13
          ],
          [
           148,
           2.47
          ],
          [
           14,
           1.23
          ],
          [
           20,
           1.35
          ],
          [
           7,
           1.18
          ],
          [
           16,
           1.44
          ],
          [
           32,
           1.66
          ],
          [
           27,
           1.51
          ],
          [
           68,
           2.18
          ],
          [
           24,
           1.54
          ],
          [
           24,
           1.32
          ],
          [
           17,
           1.45
          ],
          [
           90,
           2.83
          ],
          [
           25,
           1.51
          ],
          [
           62,
           2.15
          ],
          [
           28,
           1.72
          ],
          [
           8,
           1.28
          ],
          [
           40,
           1.93
          ],
          [
           25,
           1.7
          ],
          [
           46,
           1.98
          ],
          [
           134,
           2.29
          ],
          [
           73,
           2.13
          ],
          [
           25,
           1.49
          ],
          [
           43,
           2.14
          ],
          [
           41,
           1.95
          ],
          [
           25,
           1.42
          ],
          [
           24,
           1.74
          ],
          [
           23,
           1.4
          ],
          [
           10,
           1.36
          ],
          [
           10,
           1.36
          ],
          [
           22,
           1.39
          ],
          [
           15,
           1.5
          ],
          [
           35,
           1.69
          ],
          [
           39,
           1.84
          ],
          [
           29,
           1.67
          ],
          [
           12,
           1.5
          ],
          [
           41,
           2.12
          ],
          [
           4,
           1.25
          ],
          [
           53,
           2.2
          ],
          [
           16,
           1.46
          ],
          [
           44,
           2.07
          ],
          [
           12,
           1.41
          ],
          [
           18,
           1.54
          ],
          [
           27,
           1.89
          ],
          [
           16,
           1.44
          ],
          [
           7,
           1.2
          ],
          [
           66,
           2.51
          ],
          [
           77,
           2.13
          ],
          [
           7,
           1.3
          ],
          [
           12,
           1.25
          ],
          [
           8,
           1.3
          ],
          [
           22,
           1.52
          ],
          [
           45,
           1.57
          ],
          [
           2,
           1.15
          ],
          [
           8,
           1.25
          ],
          [
           8,
           1.24
          ],
          [
           6,
           1.18
          ],
          [
           21,
           1.78
          ],
          [
           11,
           1.36
          ],
          [
           21,
           1.63
          ],
          [
           10,
           1.15
          ],
          [
           13,
           1.26
          ],
          [
           38,
           1.47
          ],
          [
           37,
           1.57
          ],
          [
           43,
           1.75
          ],
          [
           12,
           1.29
          ],
          [
           23,
           1.62
          ],
          [
           12,
           1.28
          ],
          [
           29,
           1.57
          ],
          [
           3,
           1.13
          ],
          [
           18,
           1.62
          ],
          [
           42,
           2.14
          ],
          [
           13,
           1.48
          ],
          [
           8,
           1.24
          ],
          [
           74,
           2.56
          ],
          [
           7,
           1.2
          ],
          [
           19,
           1.71
          ],
          [
           4,
           1.17
          ],
          [
           18,
           1.47
          ],
          [
           4,
           1.17
          ],
          [
           18,
           1.52
          ],
          [
           5,
           1.16
          ],
          [
           28,
           1.81
          ],
          [
           41,
           1.79
          ],
          [
           7,
           1.3
          ],
          [
           15,
           1.4
          ],
          [
           22,
           1.65
          ],
          [
           10,
           1.38
          ],
          [
           29,
           1.83
          ],
          [
           13,
           1.51
          ],
          [
           19,
           1.55
          ],
          [
           47,
           2.02
          ],
          [
           59,
           2.35
          ],
          [
           17,
           1.48
          ],
          [
           21,
           1.76
          ],
          [
           1,
           1.12
          ],
          [
           3,
           1.18
          ],
          [
           12,
           1.52
          ],
          [
           4,
           1.25
          ],
          [
           32,
           1.85
          ],
          [
           11,
           1.34
          ],
          [
           13,
           1.35
          ],
          [
           28,
           1.86
          ],
          [
           1,
           1.1
          ],
          [
           13,
           1.58
          ],
          [
           32,
           1.6
          ],
          [
           30,
           1.69
          ],
          [
           38,
           1.93
          ],
          [
           46,
           1.89
          ],
          [
           29,
           1.85
          ],
          [
           29,
           2.01
          ],
          [
           5,
           1.23
          ],
          [
           33,
           1.61
          ],
          [
           17,
           1.33
          ],
          [
           9,
           1.35
          ],
          [
           44,
           2.33
          ],
          [
           15,
           1.65
          ],
          [
           3,
           1.18
          ],
          [
           9,
           1.26
          ],
          [
           3,
           1.1
          ],
          [
           21,
           1.73
          ],
          [
           9,
           1.35
          ],
          [
           26,
           1.9
          ],
          [
           9,
           1.32
          ],
          [
           7,
           1.17
          ],
          [
           28,
           1.81
          ],
          [
           19,
           1.64
          ],
          [
           12,
           1.43
          ],
          [
           3,
           1.16
          ],
          [
           1,
           1.08
          ],
          [
           25,
           1.59
          ],
          [
           4,
           1.24
          ],
          [
           11,
           1.44
          ],
          [
           26,
           1.83
          ],
          [
           13,
           1.39
          ],
          [
           5,
           1.09
          ],
          [
           25,
           1.53
          ],
          [
           6,
           1.15
          ],
          [
           14,
           1.21
          ],
          [
           12,
           1.41
          ],
          [
           11,
           1.44
          ],
          [
           22,
           1.66
          ],
          [
           10,
           1.49
          ],
          [
           27,
           1.68
          ],
          [
           14,
           1.45
          ],
          [
           15,
           1.58
          ],
          [
           7,
           1.21
          ],
          [
           8,
           1.31
          ],
          [
           5,
           1.23
          ],
          [
           22,
           1.68
          ],
          [
           7,
           1.14
          ],
          [
           19,
           1.4
          ],
          [
           9,
           1.19
          ],
          [
           10,
           1.26
          ],
          [
           10,
           1.26
          ],
          [
           13,
           1.28
          ],
          [
           19,
           1.33
          ],
          [
           10,
           1.26
          ],
          [
           18,
           1.34
          ],
          [
           3,
           1.16
          ],
          [
           13,
           1.44
          ],
          [
           44,
           1.78
          ],
          [
           3,
           1.24
          ],
          [
           11,
           1.41
          ],
          [
           3,
           1.21
          ],
          [
           13,
           1.47
          ],
          [
           10,
           1.45
          ],
          [
           31,
           2.08
          ],
          [
           11,
           1.4
          ],
          [
           3,
           1.15
          ],
          [
           45,
           2.13
          ],
          [
           7,
           1.27
          ],
          [
           23,
           1.56
          ],
          [
           7,
           1.29
          ],
          [
           1,
           1.12
          ],
          [
           8,
           1.34
          ],
          [
           21,
           1.83
          ],
          [
           18,
           1.65
          ],
          [
           6,
           1.23
          ],
          [
           19,
           1.45
          ],
          [
           17,
           1.33
          ],
          [
           20,
           1.5
          ],
          [
           15,
           1.35
          ],
          [
           38,
           1.71
          ],
          [
           12,
           1.45
          ],
          [
           6,
           1.22
          ],
          [
           6,
           1.15
          ],
          [
           9,
           1.18
          ],
          [
           30,
           1.35
          ],
          [
           6,
           1.23
          ],
          [
           39,
           1.77
          ],
          [
           26,
           1.78
          ],
          [
           20,
           1.52
          ],
          [
           30,
           1.82
          ],
          [
           39,
           2.02
          ],
          [
           25,
           1.53
          ],
          [
           4,
           1.21
          ],
          [
           12,
           1.32
          ],
          [
           14,
           1.36
          ],
          [
           32,
           1.86
          ],
          [
           8,
           1.21
          ],
          [
           48,
           1.68
          ],
          [
           13,
           1.25
          ],
          [
           18,
           1.23
          ],
          [
           22,
           1.44
          ],
          [
           17,
           1.37
          ],
          [
           6,
           1.28
          ],
          [
           8,
           1.21
          ],
          [
           1,
           1.1
          ],
          [
           1,
           1.08
          ],
          [
           6,
           1.28
          ],
          [
           8,
           1.3
          ],
          [
           18,
           1.38
          ],
          [
           26,
           1.84
          ],
          [
           6,
           1.2
          ],
          [
           5,
           1.17
          ],
          [
           7,
           1.33
          ],
          [
           36,
           1.76
          ],
          [
           19,
           1.57
          ],
          [
           7,
           1.11
          ],
          [
           6,
           1.12
          ],
          [
           19,
           1.52
          ],
          [
           12,
           1.35
          ],
          [
           6,
           1.09
          ],
          [
           8,
           1.42
          ],
          [
           9,
           1.31
          ],
          [
           7,
           1.2
          ],
          [
           11,
           1.17
          ],
          [
           8,
           1.19
          ],
          [
           3,
           1.1
          ],
          [
           4,
           1.1
          ],
          [
           23,
           1.46
          ],
          [
           4,
           1.11
          ],
          [
           4,
           1.16
          ],
          [
           4,
           1.19
          ],
          [
           8,
           1.36
          ],
          [
           15,
           1.43
          ],
          [
           7,
           1.29
          ],
          [
           19,
           1.54
          ],
          [
           12,
           1.41
          ],
          [
           33,
           1.75
          ],
          [
           10,
           1.38
          ],
          [
           10,
           1.46
          ],
          [
           7,
           1.18
          ],
          [
           7,
           1.23
          ],
          [
           5,
           1.11
          ],
          [
           15,
           1.39
          ],
          [
           11,
           1.16
          ],
          [
           4,
           1.14
          ],
          [
           8,
           1.22
          ],
          [
           19,
           1.63
          ],
          [
           16,
           1.6
          ],
          [
           9,
           1.29
          ],
          [
           16,
           1.4
          ],
          [
           13,
           1.43
          ],
          [
           9,
           1.34
          ],
          [
           19,
           1.45
          ],
          [
           26,
           1.6
          ],
          [
           15,
           1.47
          ],
          [
           17,
           1.64
          ],
          [
           6,
           1.08
          ],
          [
           7,
           1.26
          ],
          [
           7,
           1.17
          ],
          [
           2,
           1.07
          ],
          [
           15,
           1.28
          ],
          [
           3,
           1.08
          ],
          [
           3,
           1.24
          ],
          [
           7,
           1.27
          ],
          [
           7,
           1.21
          ],
          [
           20,
           1.61
          ],
          [
           12,
           1.35
          ],
          [
           9,
           1.4
          ],
          [
           8,
           1.28
          ],
          [
           9,
           1.22
          ],
          [
           5,
           1.26
          ],
          [
           5,
           1.23
          ],
          [
           18,
           1.35
          ],
          [
           2,
           1.1
          ],
          [
           7,
           1.2
          ],
          [
           2,
           1.12
          ],
          [
           2,
           1.07
          ],
          [
           2,
           1.05
          ],
          [
           1,
           1.05
          ],
          [
           1,
           1.08
          ],
          [
           16,
           1.36
          ],
          [
           7,
           1.26
          ],
          [
           14,
           1.45
          ],
          [
           11,
           1.27
          ],
          [
           23,
           1.63
          ],
          [
           7,
           1.23
          ],
          [
           4,
           1.11
          ],
          [
           3,
           1.07
          ],
          [
           4,
           1.1
          ],
          [
           1,
           1.05
          ],
          [
           2,
           1.1
          ],
          [
           6,
           1.17
          ],
          [
           3,
           1.13
          ],
          [
           5,
           1.16
          ],
          [
           1,
           1.05
          ],
          [
           6,
           1.26
          ],
          [
           3,
           1.11
          ],
          [
           6,
           1.25
          ],
          [
           1,
           1.05
          ],
          [
           4,
           1.14
          ],
          [
           4,
           1.17
          ],
          [
           2,
           1.08
          ],
          [
           5,
           1.19
          ],
          [
           2,
           1.05
          ],
          [
           11,
           1.3
          ],
          [
           10,
           1.16
          ],
          [
           9,
           1.22
          ],
          [
           4,
           1.13
          ],
          [
           1,
           1.05
          ],
          [
           1,
           1.05
          ],
          [
           1,
           1.05
          ],
          [
           2,
           1.1
          ],
          [
           1,
           1.05
          ],
          [
           5,
           1.22
          ],
          [
           2,
           1.08
          ],
          [
           5,
           1.16
          ],
          [
           4,
           1.16
          ],
          [
           1,
           1.05
          ],
          [
           1,
           1.05
          ],
          [
           2,
           1.07
          ],
          [
           3,
           1.1
          ],
          [
           1,
           1.05
          ],
          [
           5,
           1.17
          ],
          [
           2,
           1.05
          ],
          [
           6,
           1.2
          ],
          [
           3,
           1.13
          ],
          [
           3,
           1.13
          ],
          [
           2,
           1.12
          ],
          [
           2,
           1.05
          ],
          [
           2,
           1.07
          ],
          [
           3,
           1.13
          ],
          [
           2,
           1.08
          ],
          [
           1,
           1.05
          ],
          [
           1,
           1.05
          ],
          [
           2,
           1.07
          ],
          [
           1,
           1.05
          ],
          [
           5,
           1.3
          ],
          [
           6,
           1.29
          ],
          [
           4,
           1.16
          ],
          [
           3,
           1.13
          ],
          [
           2,
           1.07
          ],
          [
           3,
           1.15
          ],
          [
           1,
           1.05
          ],
          [
           2,
           1.05
          ],
          [
           10,
           1.42
          ],
          [
           7,
           1.17
          ],
          [
           4,
           1.19
          ],
          [
           5,
           1.14
          ],
          [
           7,
           1.24
          ],
          [
           6,
           1.17
          ],
          [
           8,
           1.31
          ],
          [
           4,
           1.11
          ],
          [
           6,
           1.14
          ],
          [
           3,
           1.08
          ],
          [
           5,
           1.19
          ],
          [
           6,
           1.2
          ],
          [
           3,
           1.1
          ],
          [
           6,
           1.26
          ],
          [
           3,
           1.15
          ],
          [
           2,
           1.08
          ],
          [
           3,
           1.1
          ],
          [
           5,
           1.13
          ],
          [
           9,
           1.19
          ],
          [
           7,
           1.2
          ],
          [
           6,
           1.17
          ],
          [
           5,
           1.3
          ],
          [
           5,
           1.22
          ],
          [
           2,
           1.16
          ],
          [
           7,
           1.2
          ],
          [
           10,
           1.35
          ],
          [
           18,
           1.56
          ],
          [
           4,
           1.16
          ],
          [
           4,
           1.16
          ],
          [
           13,
           1.44
          ],
          [
           6,
           1.26
          ],
          [
           5,
           1.23
          ],
          [
           20,
           1.35
          ],
          [
           3,
           1.05
          ],
          [
           7,
           1.24
          ],
          [
           4,
           1.16
          ],
          [
           28,
           1.54
          ],
          [
           6,
           1.11
          ],
          [
           8,
           1.25
          ],
          [
           1,
           1.07
          ],
          [
           9,
           1.23
          ],
          [
           5,
           1.16
          ],
          [
           2,
           1.1
          ],
          [
           3,
           1.18
          ],
          [
           16,
           1.28
          ],
          [
           3,
           1.07
          ],
          [
           11,
           1.38
          ],
          [
           4,
           1.13
          ],
          [
           4,
           1.13
          ],
          [
           3,
           1.11
          ],
          [
           10,
           1.27
          ],
          [
           8,
           1.31
          ],
          [
           5,
           1.19
          ],
          [
           12,
           1.49
          ],
          [
           4,
           1.16
          ],
          [
           3,
           1.11
          ],
          [
           5,
           1.23
          ],
          [
           3,
           1.05
          ],
          [
           2,
           1.08
          ],
          [
           10,
           1.26
          ],
          [
           7,
           1.21
          ],
          [
           2,
           1.1
          ],
          [
           9,
           1.18
          ],
          [
           5,
           1.16
          ],
          [
           8,
           1.28
          ],
          [
           5,
           1.2
          ],
          [
           7,
           1.21
          ],
          [
           5,
           1.16
          ],
          [
           4,
           1.22
          ],
          [
           19,
           1.4
          ],
          [
           4,
           1.16
          ],
          [
           15,
           1.47
          ],
          [
           1,
           1.08
          ],
          [
           3,
           1.18
          ],
          [
           8,
           1.48
          ],
          [
           2,
           1.15
          ],
          [
           15,
           1.62
          ],
          [
           1,
           1.1
          ],
          [
           1,
           1.07
          ],
          [
           6,
           1.23
          ],
          [
           2,
           1.1
          ],
          [
           7,
           1.33
          ],
          [
           1,
           1.08
          ],
          [
           1,
           1.1
          ],
          [
           7,
           1.32
          ],
          [
           1,
           1.08
          ],
          [
           1,
           1.07
          ],
          [
           7,
           1.33
          ],
          [
           3,
           1.16
          ],
          [
           3,
           1.11
          ],
          [
           3,
           1.11
          ],
          [
           6,
           1.32
          ],
          [
           2,
           1.18
          ],
          [
           6,
           1.26
          ],
          [
           12,
           1.41
          ],
          [
           5,
           1.17
          ],
          [
           9,
           1.23
          ],
          [
           2,
           1.13
          ],
          [
           9,
           1.38
          ],
          [
           6,
           1.22
          ],
          [
           8,
           1.27
          ],
          [
           1,
           1.07
          ],
          [
           2,
           1.1
          ],
          [
           18,
           1.44
          ],
          [
           8,
           1.25
          ],
          [
           11,
           1.24
          ],
          [
           2,
           1.12
          ],
          [
           1,
           1.1
          ],
          [
           12,
           1.45
          ],
          [
           3,
           1.13
          ],
          [
           4,
           1.21
          ],
          [
           1,
           1.05
          ],
          [
           5,
           1.13
          ],
          [
           4,
           1.17
          ],
          [
           5,
           1.14
          ],
          [
           3,
           1.15
          ],
          [
           2,
           1.12
          ],
          [
           1,
           1.1
          ],
          [
           1,
           1.05
          ],
          [
           1,
           1.05
          ],
          [
           5,
           1.25
          ],
          [
           5,
           1.19
          ],
          [
           2,
           1.12
          ],
          [
           1,
           1.1
          ],
          [
           4,
           1.19
          ],
          [
           2,
           1.18
          ],
          [
           5,
           1.2
          ],
          [
           2,
           1.07
          ],
          [
           10,
           1.35
          ],
          [
           3,
           1.18
          ],
          [
           1,
           1.1
          ],
          [
           3,
           1.18
          ],
          [
           1,
           1.08
          ],
          [
           3,
           1.11
          ],
          [
           5,
           1.09
          ],
          [
           1,
           1.08
          ],
          [
           5,
           1.22
          ],
          [
           6,
           1.32
          ],
          [
           3,
           1.1
          ],
          [
           7,
           1.27
          ],
          [
           1,
           1.1
          ],
          [
           3,
           1.19
          ],
          [
           5,
           1.19
          ],
          [
           12,
           1.38
          ],
          [
           2,
           1.12
          ],
          [
           1,
           1.08
          ],
          [
           4,
           1.17
          ],
          [
           7,
           1.2
          ],
          [
           2,
           1.12
          ],
          [
           8,
           1.43
          ],
          [
           1,
           1.1
          ],
          [
           1,
           1.1
          ],
          [
           7,
           1.2
          ],
          [
           3,
           1.11
          ],
          [
           5,
           1.19
          ],
          [
           5,
           1.13
          ],
          [
           7,
           1.29
          ],
          [
           2,
           1.08
          ],
          [
           1,
           1.1
          ],
          [
           6,
           1.15
          ],
          [
           4,
           1.17
          ],
          [
           1,
           1.12
          ],
          [
           4,
           1.24
          ],
          [
           3,
           1.15
          ],
          [
           4,
           1.1
          ],
          [
           10,
           1.3
          ],
          [
           2,
           1.13
          ],
          [
           2,
           1.12
          ],
          [
           1,
           1.08
          ],
          [
           3,
           1.13
          ],
          [
           4,
           1.14
          ],
          [
           1,
           1.05
          ],
          [
           2,
           1.12
          ],
          [
           1,
           1.05
          ],
          [
           2,
           1.07
          ],
          [
           2,
           1.12
          ],
          [
           2,
           1.08
          ],
          [
           3,
           1.1
          ],
          [
           4,
           1.16
          ],
          [
           2,
           1.12
          ],
          [
           5,
           1.17
          ],
          [
           2,
           1.08
          ],
          [
           1,
           1.05
          ],
          [
           7,
           1.32
          ],
          [
           1,
           1.05
          ],
          [
           4,
           1.16
          ],
          [
           1,
           1.05
          ],
          [
           1,
           1.05
          ],
          [
           1,
           1.05
          ],
          [
           1,
           1.05
          ],
          [
           1,
           1.05
          ],
          [
           1,
           1.05
          ],
          [
           1,
           1.05
          ],
          [
           1,
           1.05
          ],
          [
           1,
           1.05
          ],
          [
           1,
           1.05
          ],
          [
           1,
           1.05
          ],
          [
           1,
           1.05
          ],
          [
           2,
           1.1
          ],
          [
           1,
           1.05
          ],
          [
           1,
           1.05
          ],
          [
           1,
           1.05
          ],
          [
           1,
           1.05
          ],
          [
           2,
           1.08
          ],
          [
           1,
           1.05
          ],
          [
           1,
           1.05
          ],
          [
           1,
           1.05
          ],
          [
           1,
           1.05
          ],
          [
           1,
           1.05
          ],
          [
           1,
           1.05
          ],
          [
           2,
           1.1
          ],
          [
           1,
           1.05
          ],
          [
           1,
           1.05
          ],
          [
           2,
           1.08
          ],
          [
           4,
           1.17
          ],
          [
           2,
           1.08
          ],
          [
           6,
           1.25
          ],
          [
           5,
           1.25
          ],
          [
           1,
           1.1
          ],
          [
           2,
           1.16
          ],
          [
           1,
           1.07
          ],
          [
           1,
           1.07
          ],
          [
           5,
           1.2
          ],
          [
           6,
           1.18
          ],
          [
           1,
           1.12
          ],
          [
           4,
           1.22
          ],
          [
           1,
           1.05
          ],
          [
           3,
           1.16
          ],
          [
           1,
           1.08
          ],
          [
           1,
           1.1
          ],
          [
           4,
           1.17
          ],
          [
           1,
           1.07
          ],
          [
           3,
           1.16
          ],
          [
           4,
           1.13
          ],
          [
           3,
           1.08
          ],
          [
           3,
           1.1
          ],
          [
           2,
           1.12
          ],
          [
           4,
           1.22
          ],
          [
           1,
           1.1
          ],
          [
           1,
           1.08
          ],
          [
           10,
           1.33
          ],
          [
           1,
           1.1
          ],
          [
           2,
           1.12
          ],
          [
           1,
           1.05
          ],
          [
           1,
           1.08
          ],
          [
           9,
           1.34
          ],
          [
           1,
           1.05
          ],
          [
           3,
           1.11
          ],
          [
           3,
           1.19
          ],
          [
           1,
           1.07
          ],
          [
           1,
           1.1
          ],
          [
           1,
           1.05
          ],
          [
           1,
           1.08
          ],
          [
           4,
           1.22
          ],
          [
           2,
           1.15
          ],
          [
           1,
           1.08
          ],
          [
           2,
           1.13
          ],
          [
           1,
           1.08
          ],
          [
           1,
           1.08
          ],
          [
           1,
           1.07
          ],
          [
           1,
           1.08
          ],
          [
           1,
           1.1
          ],
          [
           1,
           1.08
          ],
          [
           1,
           1.08
          ],
          [
           3,
           1.21
          ],
          [
           1,
           1.08
          ],
          [
           1,
           1.08
          ],
          [
           2,
           1.16
          ],
          [
           4,
           1.22
          ],
          [
           2,
           1.07
          ],
          [
           1,
           1.1
          ],
          [
           2,
           1.13
          ],
          [
           1,
           1.08
          ],
          [
           1,
           1.07
          ],
          [
           1,
           1.08
          ],
          [
           1,
           1.1
          ],
          [
           1,
           1.1
          ],
          [
           3,
           1.08
          ],
          [
           1,
           1.12
          ],
          [
           1,
           1.05
          ],
          [
           1,
           1.07
          ],
          [
           2,
           1.13
          ],
          [
           1,
           1.08
          ],
          [
           3,
           1.15
          ],
          [
           1,
           1.05
          ],
          [
           1,
           1.07
          ],
          [
           1,
           1.05
          ],
          [
           2,
           1.1
          ],
          [
           1,
           1.07
          ],
          [
           4,
           1.19
          ],
          [
           1,
           1.07
          ],
          [
           1,
           1.07
          ],
          [
           1,
           1.08
          ],
          [
           1,
           1.08
          ],
          [
           1,
           1.07
          ],
          [
           1,
           1.08
          ],
          [
           1,
           1.05
          ],
          [
           2,
           1.08
          ],
          [
           1,
           1.08
          ],
          [
           1,
           1.1
          ],
          [
           1,
           1.08
          ],
          [
           1,
           1.07
          ],
          [
           1,
           1.08
          ],
          [
           1,
           1.05
          ],
          [
           1,
           1.08
          ],
          [
           1,
           1.07
          ],
          [
           1,
           1.08
          ],
          [
           1,
           1.08
          ]
         ],
         "hovertemplate": "mean=%{y}<br>count=%{customdata[0]}<br>bayesian_avg=%{customdata[1]}<extra></extra>",
         "legendgroup": "",
         "marker": {
          "color": "#636efa"
         },
         "name": "",
         "offsetgroup": "",
         "orientation": "v",
         "points": "all",
         "scalegroup": "True",
         "showlegend": false,
         "type": "violin",
         "x0": " ",
         "xaxis": "x",
         "y": [
          3.8783185840707963,
          3.2061068702290076,
          3.033333333333333,
          3.550239234449761,
          3.302325581395349,
          3.576923076923077,
          3.798469387755102,
          3.9954337899543377,
          3.8963210702341136,
          3.831460674157303,
          3.847457627118644,
          4.385767790262173,
          3.4184782608695654,
          3.9672131147540983,
          3.7781569965870307,
          3.2051282051282053,
          3.119565217391304,
          2.8,
          3.9565217391304346,
          3.4166666666666665,
          2.761904761904762,
          4.151515151515151,
          4.1208791208791204,
          3.4482758620689653,
          3.4436860068259385,
          3.452054794520548,
          3.1052631578947367,
          3.931159420289855,
          2.6666666666666665,
          3.945945945945946,
          3.6298701298701297,
          3.7901234567901234,
          3.4536082474226806,
          2.7142857142857144,
          2.1818181818181817,
          2.1538461538461537,
          2.25,
          3.0083333333333333,
          3.264367816091954,
          2.8947368421052633,
          3.081081081081081,
          3.804054054054054,
          3,
          3.3417721518987342,
          4.05,
          3.5555555555555554,
          3.601503759398496,
          4.094017094017094,
          3.3209876543209877,
          4.3584905660377355,
          3.45679012345679,
          3.769230769230769,
          2.953125,
          3.2403846153846154,
          3.704697986577181,
          4.060913705583756,
          4,
          3.645714285714286,
          4.0602409638554215,
          4.015625,
          3.864406779661017,
          3.141732283464567,
          3.097560975609756,
          4.445229681978798,
          3.5391304347826087,
          3.549382716049383,
          3.0485436893203883,
          3.417910447761194,
          3.853582554517134,
          3.6613545816733066,
          3.7818181818181817,
          3.193798449612403,
          3.46875,
          3,
          3,
          3.4074074074074074,
          3.2781456953642385,
          2.4545454545454546,
          4.044642857142857,
          2.764705882352941,
          3.5545454545454547,
          3.7203065134099615,
          4.0625,
          3,
          3.0344827586206895,
          3.94,
          3.9057971014492754,
          3.539906103286385,
          4.138181818181818,
          3.0526315789473686,
          3.5874125874125875,
          3.6153846153846154,
          3.7232142857142856,
          3.0875912408759123,
          3.8127853881278537,
          4.0067796610169495,
          3.79296875,
          4.28974358974359,
          3.7093023255813953,
          4.155511811023622,
          3.26027397260274,
          3.1296296296296298,
          1.8666666666666667,
          1.4,
          2.5675675675675675,
          2.887323943661972,
          3.5,
          3.076923076923077,
          3.4307692307692306,
          2.5161290322580645,
          3.485294117647059,
          2.45,
          4.111111111111111,
          4.447761194029851,
          3.7333333333333334,
          3.824,
          3.693121693121693,
          3.2150170648464163,
          4.5,
          2.2388059701492535,
          3.438228438228438,
          2.339622641509434,
          3.234782608695652,
          4.053475935828877,
          3.557377049180328,
          3.804123711340206,
          4.283292978208232,
          3.5384615384615383,
          3.8217054263565893,
          2.260869565217391,
          3.7263157894736842,
          4.0772357723577235,
          3.871345029239766,
          4.292929292929293,
          3.969111969111969,
          4.123809523809523,
          3.9005847953216373,
          2.5789473684210527,
          2.78,
          3.2131147540983607,
          3.5,
          3.0701754385964914,
          3.765765765765766,
          3.8724279835390947,
          2.4461538461538463,
          2.5,
          3.4702702702702704,
          3.203125,
          3,
          3.828025477707006,
          3.6319018404907975,
          3.6341463414634148,
          3.785425101214575,
          3.7471264367816093,
          3.1020408163265305,
          3.9864864864864864,
          3.6929133858267718,
          2.6166666666666667,
          3.227722772277228,
          3.463768115942029,
          3.481818181818182,
          3.556603773584906,
          3.5543478260869565,
          3.589403973509934,
          4.109375,
          4.120689655172414,
          2.955223880597015,
          4.0664556962025316,
          4.466101694915254,
          4.1735537190082646,
          3.876923076923077,
          4.204359673024523,
          4.172839506172839,
          4.252380952380952,
          3.8173076923076925,
          3.9471830985915495,
          3.8613138686131387,
          4.344,
          3.909502262443439,
          4.04524886877828,
          4.007889546351085,
          3.9513274336283186,
          4.034364261168385,
          3.4310344827586206,
          4.100418410041841,
          3.8366533864541834,
          4.186602870813397,
          3.6823529411764704,
          4.106060606060606,
          4.137096774193548,
          4.163043478260869,
          4.120689655172414,
          3.917197452229299,
          4.058091286307054,
          3.9335548172757475,
          3.9163346613545817,
          4.104602510460251,
          4.0078740157480315,
          4.175757575757576,
          3.825242718446602,
          3.5168539325842696,
          3.7642857142857142,
          3.868131868131868,
          3.834285714285714,
          3.9926470588235294,
          3.38,
          3.8181818181818183,
          3.945,
          3.905759162303665,
          3.930513595166163,
          3.912621359223301,
          3.4565217391304346,
          3.985074626865672,
          3.3508771929824563,
          3.69811320754717,
          3.910344827586207,
          3.158333333333333,
          3.456140350877193,
          3.171171171171171,
          3.3636363636363638,
          3.72972972972973,
          3.66027397260274,
          4.198529411764706,
          3.7045454545454546,
          2.908256880733945,
          3.355421686746988,
          3.279503105590062,
          3.8155737704918034,
          3.111111111111111,
          3.4472361809045227,
          2.683098591549296,
          3.207920792079208,
          3.2903225806451615,
          3.775,
          2.847926267281106,
          3.6222222222222222,
          3.7109375,
          3.875,
          3.513333333333333,
          2.7884615384615383,
          3.546875,
          3.9914529914529915,
          2.4393939393939394,
          3.1666666666666665,
          3.1083333333333334,
          3.935483870967742,
          1.8,
          3.675,
          3.246153846153846,
          3.4771573604060912,
          4.260869565217392,
          2.9430379746835444,
          3.6923076923076925,
          2.4516129032258065,
          3.36046511627907,
          3.5625,
          3.745874587458746,
          3.8035363457760316,
          2.685185185185185,
          2.574803149606299,
          2.558139534883721,
          3.712121212121212,
          2.1578947368421053,
          2.742574257425743,
          3.8634361233480177,
          2.7142857142857144,
          3.4444444444444446,
          3.792156862745098,
          3.926984126984127,
          3.5955882352941178,
          3.2322274881516586,
          4.262626262626263,
          3.569506726457399,
          3.5,
          4.0111940298507465,
          3.697986577181208,
          3.464788732394366,
          3.2333333333333334,
          3.2857142857142856,
          3.1882352941176473,
          3.143835616438356,
          3.685344827586207,
          3.7175141242937855,
          3.160621761658031,
          4.265432098765432,
          3.656964656964657,
          3.58974358974359,
          3.4414225941422596,
          2.9806949806949805,
          3.1145833333333335,
          3.37007874015748,
          3.6666666666666665,
          3.802721088435374,
          3.156701030927835,
          3.4025974025974026,
          3.3333333333333335,
          3.96,
          3.768041237113402,
          2.9315068493150687,
          3.6310904872389793,
          3.3043478260869565,
          4.161616161616162,
          3.6865671641791047,
          3.5369127516778525,
          3.6436781609195403,
          3.9479166666666665,
          3.515957446808511,
          2.966666666666667,
          2.857142857142857,
          3.6,
          3.68,
          3.1625,
          4.2457142857142856,
          1,
          4.1,
          4.196428571428571,
          3.911764705882353,
          4.466442953020135,
          3.2738095238095237,
          4.05,
          3.1301775147928996,
          3.0871559633027523,
          2.933333333333333,
          3.136,
          2.546875,
          3.36,
          3.3771428571428572,
          3.4237288135593222,
          3.3333333333333335,
          3.024390243902439,
          3.5398230088495577,
          3.4615384615384617,
          3.593625498007968,
          3.359375,
          2.761904761904762,
          2.627906976744186,
          3,
          2.659340659340659,
          3.25531914893617,
          3.5873015873015874,
          3.090909090909091,
          2.923076923076923,
          3.096774193548387,
          3.6545454545454548,
          3.4,
          3.642857142857143,
          3.510948905109489,
          3.2962962962962963,
          2.903225806451613,
          3.1463414634146343,
          2.7,
          2.1153846153846154,
          2.4285714285714284,
          3.486111111111111,
          2.926829268292683,
          3.381443298969072,
          4.291666666666667,
          2.6153846153846154,
          3.5,
          3.2,
          3.5,
          2.8214285714285716,
          2.723404255319149,
          2.675675675675676,
          3.2083333333333335,
          3.3404255319148937,
          3.458823529411765,
          1.903225806451613,
          2.6363636363636362,
          2.8205128205128207,
          3.1641791044776117,
          3.5294117647058822,
          2.8974358974358974,
          2.272727272727273,
          1.9565217391304348,
          2.8333333333333335,
          2.1538461538461537,
          3.722772277227723,
          2.9767441860465116,
          3.336206896551724,
          3.55,
          3.5945945945945947,
          2.064516129032258,
          2.782608695652174,
          3.5625,
          2.8160919540229883,
          3.3846153846153846,
          2.392857142857143,
          3.4444444444444446,
          3.2,
          2.7457627118644066,
          3.5441176470588234,
          3.4114583333333335,
          3.3333333333333335,
          2.5892857142857144,
          2.814814814814815,
          2.5833333333333335,
          2.076923076923077,
          3.303370786516854,
          2.7222222222222223,
          2.8026315789473686,
          3.4647058823529413,
          3.427860696517413,
          3.6732673267326734,
          3.313953488372093,
          2.4489795918367347,
          2.511627906976744,
          4.491071428571429,
          3.142857142857143,
          3.1296296296296298,
          2.914110429447853,
          2.3978494623655915,
          2.6363636363636362,
          3.532258064516129,
          2.84,
          3.484375,
          3.095890410958904,
          3.5813953488372094,
          3.7247191011235956,
          3.6666666666666665,
          3.5943396226415096,
          2.8461538461538463,
          3.8333333333333335,
          1.3157894736842106,
          3.7411764705882353,
          2.84375,
          4.292237442922374,
          3.8181818181818183,
          3.9381443298969074,
          4,
          3.5359477124183005,
          3.7701149425287355,
          3.690058479532164,
          3.8358208955223883,
          3.949074074074074,
          3.5353535353535355,
          1,
          1.1666666666666667,
          1,
          1.6428571428571428,
          2.5660377358490565,
          1.25,
          3.808641975308642,
          2.717391304347826,
          3.5,
          2.4444444444444446,
          3.5041322314049586,
          3.388235294117647,
          3.034188034188034,
          2.3968253968253967,
          3.347058823529412,
          2.6666666666666665,
          1.9375,
          2.875,
          3.2551724137931033,
          2.3125,
          1.7407407407407407,
          3.1222222222222222,
          3.75,
          3,
          3.6216216216216215,
          3.804054054054054,
          3.859154929577465,
          3.5925925925925926,
          3.5647058823529414,
          3.5961538461538463,
          3.7916666666666665,
          3.3125,
          3.7761194029850746,
          3.6666666666666665,
          3.6108597285067874,
          3.0822784810126582,
          3.126984126984127,
          4.252577319587629,
          3.884,
          3.01875,
          3.210526315789474,
          4.115384615384615,
          4.251396648044692,
          4.284916201117318,
          3.9365079365079363,
          3.984375,
          4.45679012345679,
          4.2101449275362315,
          3.816,
          3.796875,
          4.102941176470588,
          4.2,
          4.115384615384615,
          4.02,
          3.791044776119403,
          3.864406779661017,
          4.15,
          4,
          3.6610169491525424,
          4.121212121212121,
          3.838235294117647,
          4.184210526315789,
          3.9516129032258065,
          3.903225806451613,
          3.4959349593495936,
          3.7017543859649122,
          3.641025641025641,
          3.819672131147541,
          4,
          3.8555555555555556,
          3.816326530612245,
          3.5953488372093023,
          3.8512396694214877,
          3.9421487603305785,
          4.23121387283237,
          4,
          4.333333333333333,
          3.911111111111111,
          4.203980099502488,
          3.9682539682539684,
          3.769230769230769,
          3.651685393258427,
          4.1,
          4.104838709677419,
          3.8333333333333335,
          3.7714285714285714,
          3.9939024390243905,
          4.021739130434782,
          4.027397260273973,
          3.8306451612903225,
          4.02051282051282,
          4.132231404958677,
          3.978494623655914,
          4.025,
          3.9224806201550386,
          3.3181818181818183,
          3.6666666666666665,
          3.3076923076923075,
          3.1666666666666665,
          3.3,
          3.6333333333333333,
          3.4242424242424243,
          2.477272727272727,
          2.511627906976744,
          2.877551020408163,
          2.5294117647058822,
          3.619047619047619,
          3.1549295774647885,
          1.8333333333333333,
          3.031496062992126,
          3.341463414634146,
          2.1666666666666665,
          3.5652173913043477,
          3.2847682119205297,
          2.4166666666666665,
          2.8666666666666667,
          3.2857142857142856,
          2.803921568627451,
          2,
          2.5,
          3.1176470588235294,
          3.6714285714285713,
          3.1824817518248176,
          2.727272727272727,
          3.0677966101694913,
          3.2083333333333335,
          2.413793103448276,
          2.037037037037037,
          2.6818181818181817,
          3.569832402234637,
          2.8,
          3.6478260869565218,
          2.701492537313433,
          3.1,
          2.5,
          2.7586206896551726,
          2.9393939393939394,
          2.2,
          2.5454545454545454,
          3.021505376344086,
          2.2195121951219514,
          3.152173913043478,
          2.6315789473684212,
          3.375,
          3.2203389830508473,
          3.6011904761904763,
          3,
          3.5443037974683542,
          2.4871794871794872,
          2.676470588235294,
          3.5714285714285716,
          3.792079207920792,
          4.023255813953488,
          2,
          3.601123595505618,
          3.3333333333333335,
          3.1666666666666665,
          2.4,
          3.09375,
          3.377952755905512,
          3.150485436893204,
          2.25,
          1,
          3,
          4,
          3.7,
          4.3875598086124405,
          4.012345679012346,
          3.3548387096774195,
          4.045454545454546,
          3.9696969696969697,
          3.933333333333333,
          3.5833333333333335,
          3.658536585365854,
          4.1,
          3.9411764705882355,
          4.037037037037037,
          3.7450980392156863,
          4.0508474576271185,
          3.421875,
          3.7777777777777777,
          3.611111111111111,
          3.171875,
          3.0930232558139537,
          2.909090909090909,
          3.358974358974359,
          2.923076923076923,
          3.272727272727273,
          3.3292682926829267,
          3.25,
          3.2266666666666666,
          3.514792899408284,
          3.3376623376623376,
          3.2903225806451615,
          3.6218487394957983,
          3.896551724137931,
          4.057971014492754,
          3.75,
          2.739130434782609,
          3.241758241758242,
          3.026315789473684,
          3.772727272727273,
          3.7,
          3.024390243902439,
          4.212121212121212,
          3.4831460674157304,
          3,
          3.7714285714285714,
          3.814814814814815,
          3.8684210526315788,
          4.1,
          4.029850746268656,
          3.4,
          3.5416666666666665,
          4.076023391812866,
          3.888888888888889,
          3.911764705882353,
          4.136054421768708,
          3.881057268722467,
          4,
          4.259541984732825,
          3.4177215189873418,
          4.078260869565217,
          3.764705882352941,
          4.1022727272727275,
          3.426829268292683,
          3.9051724137931036,
          3.5434782608695654,
          2.83,
          2.4,
          2.1666666666666665,
          2.1666666666666665,
          1.6153846153846154,
          3,
          3.608695652173913,
          2.723076923076923,
          3.5232558139534884,
          2.8958333333333335,
          3.5555555555555554,
          3.3376623376623376,
          3,
          2.808219178082192,
          3.046728971962617,
          2.5588235294117645,
          2.4444444444444446,
          3.06,
          2.4081632653061225,
          3.7928994082840237,
          3.356687898089172,
          3.68,
          2.1884057971014492,
          1.8409090909090908,
          3.1494252873563218,
          3.458064516129032,
          3.5,
          3.6280487804878048,
          3.6483516483516483,
          4.045454545454546,
          2.923076923076923,
          3.1392405063291138,
          3.425,
          3,
          3.676470588235294,
          2.6,
          4,
          3.018867924528302,
          3.5789473684210527,
          3.0416666666666665,
          3.9927007299270074,
          2.6666666666666665,
          3.9285714285714284,
          3.4752475247524752,
          4.028846153846154,
          3.569620253164557,
          4,
          3.0784313725490198,
          3.611111111111111,
          3.230769230769231,
          3.2758620689655173,
          3.1551724137931036,
          2.817073170731707,
          3.6875,
          2.413793103448276,
          3.0232558139534884,
          3.4444444444444446,
          2.9310344827586206,
          3.1470588235294117,
          3.486842105263158,
          2.75,
          2.4285714285714284,
          3.4603174603174605,
          3.022222222222222,
          3.4814814814814814,
          3.5,
          3.1538461538461537,
          3.65,
          3.2,
          2.5185185185185186,
          3.854014598540146,
          3.9358974358974357,
          2.983050847457627,
          2.838709677419355,
          3.323170731707317,
          3.4761904761904763,
          3.4482758620689653,
          3.644194756554307,
          1.9487179487179487,
          3.4565217391304346,
          3.875,
          3.6638655462184873,
          3.4607843137254903,
          3.1234177215189876,
          3.176470588235294,
          3.8548387096774195,
          3.4277777777777776,
          3.3076923076923075,
          3.7083333333333335,
          3.3859649122807016,
          3.3125,
          2.8984375,
          2.75,
          1.7142857142857142,
          2.1818181818181817,
          2.652173913043478,
          3.0454545454545454,
          3.391304347826087,
          3.389261744966443,
          2.7586206896551726,
          2.8125,
          3.111111111111111,
          2.1818181818181817,
          3.076923076923077,
          2.4523809523809526,
          3.3859649122807016,
          2.6341463414634148,
          3.061224489795918,
          2.9411764705882355,
          2.9375,
          2.769230769230769,
          3.2222222222222223,
          1.25,
          3.5526315789473686,
          2.5483870967741935,
          3,
          3.3333333333333335,
          2.6,
          2.72972972972973,
          1,
          3.1538461538461537,
          2.642857142857143,
          3.230769230769231,
          1.6666666666666667,
          3.574468085106383,
          2.909090909090909,
          2.5,
          3.7209302325581395,
          3.5,
          3.652173913043478,
          2.4285714285714284,
          3.0833333333333335,
          3.096774193548387,
          2.2222222222222223,
          3.2,
          2.8846153846153846,
          2.8125,
          2.7,
          2.5555555555555554,
          2.875,
          3.6296296296296298,
          3.46,
          2.7777777777777777,
          2.838709677419355,
          2.9069767441860463,
          2.888888888888889,
          3.9444444444444446,
          3.111111111111111,
          3.892857142857143,
          5,
          3.232142857142857,
          2.4285714285714284,
          2.6666666666666665,
          2.76,
          2.7,
          2.774193548387097,
          3.0454545454545454,
          3,
          2.8780487804878048,
          2.7551020408163267,
          3.036144578313253,
          2.575,
          2.7719298245614037,
          2.6923076923076925,
          2.6470588235294117,
          1,
          2.4615384615384617,
          2.5454545454545454,
          3.204081632653061,
          2.2,
          3.8666666666666667,
          3.769230769230769,
          3.92,
          2.75,
          2.5,
          2.660377358490566,
          2.75,
          3.1481481481481484,
          3,
          3.357142857142857,
          3.465909090909091,
          3.0681818181818183,
          3.727272727272727,
          3.5555555555555554,
          2.7169811320754715,
          4,
          3.75,
          1,
          3.857142857142857,
          3.375,
          3.727272727272727,
          3.8333333333333335,
          3,
          1,
          2.6666666666666665,
          2.25,
          2.3333333333333335,
          2.111111111111111,
          3.9166666666666665,
          3.1627906976744184,
          3.4761904761904763,
          3.319327731092437,
          4,
          3.8,
          3,
          2.7777777777777777,
          2.4,
          3.0952380952380953,
          2.962962962962963,
          3.2564102564102564,
          2.7358490566037736,
          2.702127659574468,
          2.5384615384615383,
          2.515151515151515,
          3.2720588235294117,
          3.169491525423729,
          2.933333333333333,
          3.2941176470588234,
          3.230769230769231,
          3.2857142857142856,
          2.230769230769231,
          3.0754716981132075,
          3.609375,
          3.466666666666667,
          3.3846153846153846,
          1.9534883720930232,
          2.6666666666666665,
          2.7547169811320753,
          2.4285714285714284,
          1.894736842105263,
          3.2169811320754715,
          3.772727272727273,
          1.5,
          3.2241379310344827,
          3.4444444444444446,
          3.6904761904761907,
          1.9166666666666667,
          3.8333333333333335,
          3.111111111111111,
          3.45,
          3.2222222222222223,
          3.1904761904761907,
          2,
          2.5,
          3.769230769230769,
          2,
          2.5,
          3,
          2.5,
          2.727272727272727,
          3.923076923076923,
          3.1666666666666665,
          3.4285714285714284,
          3,
          3.7916666666666665,
          2.2,
          3.9782608695652173,
          3.823529411764706,
          4.155172413793103,
          3.4,
          3.323529411764706,
          2.702970297029703,
          3.1666666666666665,
          3.1153846153846154,
          2.7,
          2.7,
          2.1578947368421053,
          2.925,
          2.4285714285714284,
          2.926470588235294,
          3.2857142857142856,
          3.9375,
          3.4054054054054053,
          2.88,
          3.6,
          2.34375,
          3.0652173913043477,
          3.488888888888889,
          3.475,
          3,
          3.925,
          3.1475409836065573,
          3.235294117647059,
          2.1666666666666665,
          3.3380281690140845,
          2.9,
          2.8205128205128207,
          3.1777777777777776,
          3.3181818181818183,
          3.5454545454545454,
          3.4081632653061225,
          3.608695652173913,
          2,
          3.7857142857142856,
          3.46875,
          3.24,
          3.6176470588235294,
          3.130434782608696,
          4.2926829268292686,
          3.3333333333333335,
          3.6666666666666665,
          4.1923076923076925,
          3.1666666666666665,
          3.7222222222222223,
          3.8,
          3.25,
          3.676470588235294,
          3.1785714285714284,
          3.5,
          3.03125,
          3.159090909090909,
          1.8333333333333333,
          2.693877551020408,
          2.5185185185185186,
          3.2,
          3.1818181818181817,
          1.75,
          2.8,
          2.4,
          2.8636363636363638,
          2.8636363636363638,
          2.5652173913043477,
          2.5,
          2.313953488372093,
          2.84375,
          3.090909090909091,
          2.24,
          3,
          3.515151515151515,
          2.2857142857142856,
          3.161290322580645,
          2.5,
          2.125,
          2.5625,
          2.8,
          3,
          2,
          1.875,
          2.25,
          3.111111111111111,
          3.6818181818181817,
          2.8260869565217392,
          4.127659574468085,
          3.3783783783783785,
          3.375,
          3.25,
          3.225806451612903,
          3.53,
          2.289473684210526,
          3.061224489795918,
          2.8333333333333335,
          3.45985401459854,
          3.24,
          3.1875,
          3.967741935483871,
          3.8857142857142857,
          3.8157894736842106,
          3.4375,
          2.5806451612903225,
          3.6,
          2.9318181818181817,
          2.5,
          2.6666666666666665,
          3.0405405405405403,
          2,
          2.25,
          2.2857142857142856,
          2.875,
          2.78125,
          2.5185185185185186,
          3.161764705882353,
          2.75,
          2,
          2.823529411764706,
          4.011111111111111,
          2.6,
          3.193548387096774,
          3.142857142857143,
          3,
          3.225,
          3.24,
          3.1739130434782608,
          2.8358208955223883,
          3.0136986301369864,
          2.52,
          3.6511627906976742,
          3.2439024390243905,
          2.28,
          3.4583333333333335,
          2.3043478260869565,
          3.2,
          3.2,
          2.3181818181818183,
          3.2666666666666666,
          2.7714285714285714,
          3.051282051282051,
          2.9310344827586206,
          3.75,
          3.658536585365854,
          4.25,
          3.490566037735849,
          3,
          3.4545454545454546,
          3.1666666666666665,
          3.1666666666666665,
          3.740740740740741,
          2.875,
          2.4285714285714284,
          3.8181818181818183,
          2.961038961038961,
          3.4285714285714284,
          2.25,
          3.125,
          2.772727272727273,
          2.2444444444444445,
          4,
          2.75,
          2.625,
          2.5,
          3.857142857142857,
          3,
          3.2857142857142856,
          1.7,
          2.230769230769231,
          2.1315789473684212,
          2.4054054054054053,
          2.7209302325581395,
          2.5,
          3.0869565217391304,
          2.4166666666666665,
          2.6206896551724137,
          2.6666666666666665,
          3.5,
          3.6904761904761907,
          3.4615384615384617,
          2.625,
          3.77027027027027,
          2.4285714285714284,
          3.789473684210526,
          3,
          2.8333333333333335,
          3,
          3.0555555555555554,
          2.4,
          3.4285714285714284,
          2.8536585365853657,
          3.4285714285714284,
          2.8,
          3.272727272727273,
          3.3,
          3.413793103448276,
          3.6153846153846154,
          3.1052631578947367,
          3.25531914893617,
          3.6610169491525424,
          3,
          3.761904761904762,
          5,
          3.6666666666666665,
          3.8333333333333335,
          4.25,
          3.34375,
          2.909090909090909,
          2.6923076923076925,
          3.5714285714285716,
          4,
          4,
          2.625,
          2.966666666666667,
          3.3157894736842106,
          2.9782608695652173,
          3.4827586206896552,
          3.9655172413793105,
          3.4,
          2.606060606060606,
          2.2941176470588234,
          3.3333333333333335,
          4.045454545454546,
          4,
          3.6666666666666665,
          2.6666666666666665,
          2,
          3.6666666666666665,
          3.3333333333333335,
          3.8461538461538463,
          3.111111111111111,
          2.142857142857143,
          3.4285714285714284,
          3.473684210526316,
          3.3333333333333335,
          3.3333333333333335,
          3,
          2.88,
          4,
          3.5454545454545454,
          3.6153846153846154,
          2.923076923076923,
          1.6,
          2.68,
          2.1666666666666665,
          1.8571428571428572,
          3.1666666666666665,
          3.5454545454545454,
          3.3181818181818183,
          4.1,
          3.074074074074074,
          3.142857142857143,
          3.6666666666666665,
          2.5714285714285716,
          3.25,
          3.4,
          3.3636363636363638,
          1.8571428571428572,
          2.473684210526316,
          2.111111111111111,
          2.5,
          2.5,
          2.3076923076923075,
          2.210526315789474,
          2.5,
          2.2777777777777777,
          3.3333333333333335,
          3.230769230769231,
          2.772727272727273,
          5,
          3.3636363636363638,
          4.333333333333333,
          3.3846153846153846,
          3.8,
          4.064516129032258,
          3.272727272727273,
          3,
          3.5555555555555554,
          3.142857142857143,
          2.869565217391304,
          3.2857142857142856,
          5,
          3.5,
          4.0476190476190474,
          3.611111111111111,
          3,
          2.6842105263157894,
          2.2941176470588234,
          2.85,
          2.533333333333333,
          2.736842105263158,
          3.4166666666666665,
          2.8333333333333335,
          2.1666666666666665,
          2,
          1.9333333333333333,
          3,
          2.871794871794872,
          3.4615384615384617,
          2.9,
          3.3333333333333335,
          3.4871794871794872,
          2.68,
          3.5,
          2.6666666666666665,
          2.642857142857143,
          3.375,
          2.375,
          2.4583333333333335,
          2.1538461538461537,
          1.8333333333333333,
          2.5,
          2.4705882352941178,
          3.5,
          2.375,
          4,
          3,
          3.5,
          3.125,
          2.4444444444444446,
          3.6538461538461537,
          2.6666666666666665,
          2.6,
          3.7142857142857144,
          2.9166666666666665,
          3.210526315789474,
          1.5714285714285714,
          1.8333333333333333,
          3,
          2.8333333333333335,
          1.5,
          4.125,
          3,
          2.4285714285714284,
          1.8181818181818181,
          2.25,
          2,
          1.75,
          2.5217391304347827,
          2,
          2.75,
          3.25,
          3.625,
          2.933333333333333,
          3.2857142857142856,
          3.0526315789473686,
          3.1666666666666665,
          3,
          3.3,
          3.9,
          2.2857142857142856,
          2.7142857142857144,
          1.8,
          2.7333333333333334,
          1.7272727272727273,
          2.5,
          2.5,
          3.4210526315789473,
          3.625,
          2.888888888888889,
          2.6875,
          3.1538461538461537,
          3.2222222222222223,
          2.6842105263157894,
          2.8461538461538463,
          3.1333333333333333,
          3.7058823529411766,
          1.3333333333333333,
          3,
          2.142857142857143,
          1.5,
          2.2,
          1.6666666666666667,
          5,
          3.142857142857143,
          2.5714285714285716,
          3.25,
          2.8333333333333335,
          3.6666666666666665,
          3,
          2.3333333333333335,
          3.8,
          3.4,
          2.3333333333333335,
          2.5,
          2.4285714285714284,
          3,
          1.5,
          1,
          1,
          3,
          2.5,
          3,
          3.142857142857143,
          2.4545454545454546,
          3.130434782608696,
          2.7142857142857144,
          2,
          1.3333333333333333,
          1.75,
          1,
          2.5,
          2.3333333333333335,
          2.6666666666666665,
          2.4,
          1,
          3.3333333333333335,
          2.3333333333333335,
          3.1666666666666665,
          1,
          2.5,
          3,
          2,
          2.8,
          1,
          2.6363636363636362,
          1.8,
          2.3333333333333335,
          2.25,
          1,
          1,
          1,
          2.5,
          1,
          3.2,
          2,
          2.4,
          2.75,
          1,
          1,
          1.5,
          2,
          1,
          2.6,
          1,
          2.6666666666666665,
          2.6666666666666665,
          2.6666666666666665,
          3,
          1,
          1.5,
          2.6666666666666665,
          2,
          1,
          1,
          1.5,
          1,
          4.2,
          3.6666666666666665,
          2.75,
          2.6666666666666665,
          1.5,
          3,
          1,
          1,
          3.6,
          2.142857142857143,
          3.25,
          2.2,
          2.857142857142857,
          2.3333333333333335,
          3.25,
          2,
          2,
          1.6666666666666667,
          2.8,
          2.6666666666666665,
          2,
          3.3333333333333335,
          3,
          2,
          2,
          2,
          2.111111111111111,
          2.4285714285714284,
          2.3333333333333335,
          4.2,
          3.2,
          4.5,
          2.4285714285714284,
          3.1,
          3.2222222222222223,
          2.75,
          2.75,
          3.230769230769231,
          3.3333333333333335,
          3.4,
          2.25,
          1,
          2.857142857142857,
          2.75,
          2.5714285714285716,
          1.6666666666666667,
          2.75,
          2,
          2.4444444444444446,
          2.4,
          2.5,
          3.6666666666666665,
          2.125,
          1.3333333333333333,
          3.1818181818181817,
          2.25,
          2.25,
          2.3333333333333335,
          2.6,
          3.25,
          2.8,
          3.6666666666666665,
          2.75,
          2.3333333333333335,
          3.4,
          1,
          2,
          2.5,
          2.5714285714285716,
          2.5,
          2,
          2.4,
          3,
          3,
          2.5714285714285716,
          2.4,
          3.75,
          2.473684210526316,
          2.75,
          3.1333333333333333,
          3,
          3.6666666666666665,
          4.625,
          4,
          3.8666666666666667,
          4,
          2,
          3,
          2.5,
          3.7142857142857144,
          3,
          4,
          3.5714285714285716,
          3,
          2,
          3.7142857142857144,
          3.3333333333333335,
          2.3333333333333335,
          2.3333333333333335,
          4,
          5,
          3.3333333333333335,
          3.1666666666666665,
          2.6,
          2.4444444444444446,
          3.5,
          3.5555555555555554,
          2.8333333333333335,
          2.875,
          2,
          2.5,
          2.7222222222222223,
          2.75,
          2.272727272727273,
          3,
          4,
          3.4166666666666665,
          2.6666666666666665,
          3.5,
          1,
          2,
          3,
          2.2,
          3,
          3,
          4,
          1,
          1,
          3.6,
          2.8,
          3,
          4,
          3.25,
          5,
          3,
          1.5,
          3.1,
          3.6666666666666665,
          4,
          3.6666666666666665,
          3,
          2.3333333333333335,
          1.6,
          3,
          3.2,
          4,
          2,
          3.142857142857143,
          4,
          4,
          2.8,
          3,
          3,
          3,
          3,
          2.4285714285714284,
          3,
          4.25,
          4,
          4,
          2.4285714285714284,
          2.3333333333333335,
          2.8,
          2,
          3.2857142857142856,
          2,
          4,
          2.1666666666666665,
          3,
          5,
          4,
          3,
          1.75,
          2.8,
          3.5,
          3,
          3,
          2.6666666666666665,
          2.5,
          1,
          3,
          1,
          1.5,
          3,
          2,
          2,
          2.75,
          3,
          2.6,
          2,
          1,
          3.5714285714285716,
          1,
          2.75,
          1,
          1,
          1,
          1,
          1,
          1,
          1,
          1,
          1,
          1,
          1,
          1,
          2.5,
          1,
          1,
          1,
          1,
          2,
          1,
          1,
          1,
          1,
          1,
          1,
          2.5,
          1,
          1,
          2,
          3,
          2,
          3.1666666666666665,
          3.6,
          4,
          4.5,
          2,
          2,
          3,
          2.5,
          5,
          3.75,
          1,
          3.3333333333333335,
          3,
          4,
          3,
          2,
          3.3333333333333335,
          2.25,
          1.6666666666666667,
          2,
          3,
          3.75,
          4,
          3,
          3,
          4,
          3,
          1,
          3,
          3.2222222222222223,
          1,
          2.3333333333333335,
          4,
          2,
          4,
          1,
          3,
          3.75,
          4,
          3,
          3.5,
          3,
          3,
          2,
          3,
          4,
          3,
          3,
          4.333333333333333,
          3,
          3,
          4.5,
          3.75,
          1.5,
          4,
          3.5,
          3,
          2,
          3,
          4,
          4,
          1.6666666666666667,
          5,
          1,
          2,
          3.5,
          3,
          3,
          1,
          2,
          1,
          2.5,
          2,
          3.25,
          2,
          2,
          3,
          3,
          2,
          3,
          1,
          2,
          3,
          4,
          3,
          2,
          3,
          1,
          3,
          2,
          3,
          3
         ],
         "y0": " ",
         "yaxis": "y"
        }
       ],
       "layout": {
        "legend": {
         "tracegroupgap": 0
        },
        "margin": {
         "t": 60
        },
        "template": {
         "data": {
          "bar": [
           {
            "error_x": {
             "color": "#2a3f5f"
            },
            "error_y": {
             "color": "#2a3f5f"
            },
            "marker": {
             "line": {
              "color": "#E5ECF6",
              "width": 0.5
             },
             "pattern": {
              "fillmode": "overlay",
              "size": 10,
              "solidity": 0.2
             }
            },
            "type": "bar"
           }
          ],
          "barpolar": [
           {
            "marker": {
             "line": {
              "color": "#E5ECF6",
              "width": 0.5
             },
             "pattern": {
              "fillmode": "overlay",
              "size": 10,
              "solidity": 0.2
             }
            },
            "type": "barpolar"
           }
          ],
          "carpet": [
           {
            "aaxis": {
             "endlinecolor": "#2a3f5f",
             "gridcolor": "white",
             "linecolor": "white",
             "minorgridcolor": "white",
             "startlinecolor": "#2a3f5f"
            },
            "baxis": {
             "endlinecolor": "#2a3f5f",
             "gridcolor": "white",
             "linecolor": "white",
             "minorgridcolor": "white",
             "startlinecolor": "#2a3f5f"
            },
            "type": "carpet"
           }
          ],
          "choropleth": [
           {
            "colorbar": {
             "outlinewidth": 0,
             "ticks": ""
            },
            "type": "choropleth"
           }
          ],
          "contour": [
           {
            "colorbar": {
             "outlinewidth": 0,
             "ticks": ""
            },
            "colorscale": [
             [
              0,
              "#0d0887"
             ],
             [
              0.1111111111111111,
              "#46039f"
             ],
             [
              0.2222222222222222,
              "#7201a8"
             ],
             [
              0.3333333333333333,
              "#9c179e"
             ],
             [
              0.4444444444444444,
              "#bd3786"
             ],
             [
              0.5555555555555556,
              "#d8576b"
             ],
             [
              0.6666666666666666,
              "#ed7953"
             ],
             [
              0.7777777777777778,
              "#fb9f3a"
             ],
             [
              0.8888888888888888,
              "#fdca26"
             ],
             [
              1,
              "#f0f921"
             ]
            ],
            "type": "contour"
           }
          ],
          "contourcarpet": [
           {
            "colorbar": {
             "outlinewidth": 0,
             "ticks": ""
            },
            "type": "contourcarpet"
           }
          ],
          "heatmap": [
           {
            "colorbar": {
             "outlinewidth": 0,
             "ticks": ""
            },
            "colorscale": [
             [
              0,
              "#0d0887"
             ],
             [
              0.1111111111111111,
              "#46039f"
             ],
             [
              0.2222222222222222,
              "#7201a8"
             ],
             [
              0.3333333333333333,
              "#9c179e"
             ],
             [
              0.4444444444444444,
              "#bd3786"
             ],
             [
              0.5555555555555556,
              "#d8576b"
             ],
             [
              0.6666666666666666,
              "#ed7953"
             ],
             [
              0.7777777777777778,
              "#fb9f3a"
             ],
             [
              0.8888888888888888,
              "#fdca26"
             ],
             [
              1,
              "#f0f921"
             ]
            ],
            "type": "heatmap"
           }
          ],
          "heatmapgl": [
           {
            "colorbar": {
             "outlinewidth": 0,
             "ticks": ""
            },
            "colorscale": [
             [
              0,
              "#0d0887"
             ],
             [
              0.1111111111111111,
              "#46039f"
             ],
             [
              0.2222222222222222,
              "#7201a8"
             ],
             [
              0.3333333333333333,
              "#9c179e"
             ],
             [
              0.4444444444444444,
              "#bd3786"
             ],
             [
              0.5555555555555556,
              "#d8576b"
             ],
             [
              0.6666666666666666,
              "#ed7953"
             ],
             [
              0.7777777777777778,
              "#fb9f3a"
             ],
             [
              0.8888888888888888,
              "#fdca26"
             ],
             [
              1,
              "#f0f921"
             ]
            ],
            "type": "heatmapgl"
           }
          ],
          "histogram": [
           {
            "marker": {
             "pattern": {
              "fillmode": "overlay",
              "size": 10,
              "solidity": 0.2
             }
            },
            "type": "histogram"
           }
          ],
          "histogram2d": [
           {
            "colorbar": {
             "outlinewidth": 0,
             "ticks": ""
            },
            "colorscale": [
             [
              0,
              "#0d0887"
             ],
             [
              0.1111111111111111,
              "#46039f"
             ],
             [
              0.2222222222222222,
              "#7201a8"
             ],
             [
              0.3333333333333333,
              "#9c179e"
             ],
             [
              0.4444444444444444,
              "#bd3786"
             ],
             [
              0.5555555555555556,
              "#d8576b"
             ],
             [
              0.6666666666666666,
              "#ed7953"
             ],
             [
              0.7777777777777778,
              "#fb9f3a"
             ],
             [
              0.8888888888888888,
              "#fdca26"
             ],
             [
              1,
              "#f0f921"
             ]
            ],
            "type": "histogram2d"
           }
          ],
          "histogram2dcontour": [
           {
            "colorbar": {
             "outlinewidth": 0,
             "ticks": ""
            },
            "colorscale": [
             [
              0,
              "#0d0887"
             ],
             [
              0.1111111111111111,
              "#46039f"
             ],
             [
              0.2222222222222222,
              "#7201a8"
             ],
             [
              0.3333333333333333,
              "#9c179e"
             ],
             [
              0.4444444444444444,
              "#bd3786"
             ],
             [
              0.5555555555555556,
              "#d8576b"
             ],
             [
              0.6666666666666666,
              "#ed7953"
             ],
             [
              0.7777777777777778,
              "#fb9f3a"
             ],
             [
              0.8888888888888888,
              "#fdca26"
             ],
             [
              1,
              "#f0f921"
             ]
            ],
            "type": "histogram2dcontour"
           }
          ],
          "mesh3d": [
           {
            "colorbar": {
             "outlinewidth": 0,
             "ticks": ""
            },
            "type": "mesh3d"
           }
          ],
          "parcoords": [
           {
            "line": {
             "colorbar": {
              "outlinewidth": 0,
              "ticks": ""
             }
            },
            "type": "parcoords"
           }
          ],
          "pie": [
           {
            "automargin": true,
            "type": "pie"
           }
          ],
          "scatter": [
           {
            "fillpattern": {
             "fillmode": "overlay",
             "size": 10,
             "solidity": 0.2
            },
            "type": "scatter"
           }
          ],
          "scatter3d": [
           {
            "line": {
             "colorbar": {
              "outlinewidth": 0,
              "ticks": ""
             }
            },
            "marker": {
             "colorbar": {
              "outlinewidth": 0,
              "ticks": ""
             }
            },
            "type": "scatter3d"
           }
          ],
          "scattercarpet": [
           {
            "marker": {
             "colorbar": {
              "outlinewidth": 0,
              "ticks": ""
             }
            },
            "type": "scattercarpet"
           }
          ],
          "scattergeo": [
           {
            "marker": {
             "colorbar": {
              "outlinewidth": 0,
              "ticks": ""
             }
            },
            "type": "scattergeo"
           }
          ],
          "scattergl": [
           {
            "marker": {
             "colorbar": {
              "outlinewidth": 0,
              "ticks": ""
             }
            },
            "type": "scattergl"
           }
          ],
          "scattermapbox": [
           {
            "marker": {
             "colorbar": {
              "outlinewidth": 0,
              "ticks": ""
             }
            },
            "type": "scattermapbox"
           }
          ],
          "scatterpolar": [
           {
            "marker": {
             "colorbar": {
              "outlinewidth": 0,
              "ticks": ""
             }
            },
            "type": "scatterpolar"
           }
          ],
          "scatterpolargl": [
           {
            "marker": {
             "colorbar": {
              "outlinewidth": 0,
              "ticks": ""
             }
            },
            "type": "scatterpolargl"
           }
          ],
          "scatterternary": [
           {
            "marker": {
             "colorbar": {
              "outlinewidth": 0,
              "ticks": ""
             }
            },
            "type": "scatterternary"
           }
          ],
          "surface": [
           {
            "colorbar": {
             "outlinewidth": 0,
             "ticks": ""
            },
            "colorscale": [
             [
              0,
              "#0d0887"
             ],
             [
              0.1111111111111111,
              "#46039f"
             ],
             [
              0.2222222222222222,
              "#7201a8"
             ],
             [
              0.3333333333333333,
              "#9c179e"
             ],
             [
              0.4444444444444444,
              "#bd3786"
             ],
             [
              0.5555555555555556,
              "#d8576b"
             ],
             [
              0.6666666666666666,
              "#ed7953"
             ],
             [
              0.7777777777777778,
              "#fb9f3a"
             ],
             [
              0.8888888888888888,
              "#fdca26"
             ],
             [
              1,
              "#f0f921"
             ]
            ],
            "type": "surface"
           }
          ],
          "table": [
           {
            "cells": {
             "fill": {
              "color": "#EBF0F8"
             },
             "line": {
              "color": "white"
             }
            },
            "header": {
             "fill": {
              "color": "#C8D4E3"
             },
             "line": {
              "color": "white"
             }
            },
            "type": "table"
           }
          ]
         },
         "layout": {
          "annotationdefaults": {
           "arrowcolor": "#2a3f5f",
           "arrowhead": 0,
           "arrowwidth": 1
          },
          "autotypenumbers": "strict",
          "coloraxis": {
           "colorbar": {
            "outlinewidth": 0,
            "ticks": ""
           }
          },
          "colorscale": {
           "diverging": [
            [
             0,
             "#8e0152"
            ],
            [
             0.1,
             "#c51b7d"
            ],
            [
             0.2,
             "#de77ae"
            ],
            [
             0.3,
             "#f1b6da"
            ],
            [
             0.4,
             "#fde0ef"
            ],
            [
             0.5,
             "#f7f7f7"
            ],
            [
             0.6,
             "#e6f5d0"
            ],
            [
             0.7,
             "#b8e186"
            ],
            [
             0.8,
             "#7fbc41"
            ],
            [
             0.9,
             "#4d9221"
            ],
            [
             1,
             "#276419"
            ]
           ],
           "sequential": [
            [
             0,
             "#0d0887"
            ],
            [
             0.1111111111111111,
             "#46039f"
            ],
            [
             0.2222222222222222,
             "#7201a8"
            ],
            [
             0.3333333333333333,
             "#9c179e"
            ],
            [
             0.4444444444444444,
             "#bd3786"
            ],
            [
             0.5555555555555556,
             "#d8576b"
            ],
            [
             0.6666666666666666,
             "#ed7953"
            ],
            [
             0.7777777777777778,
             "#fb9f3a"
            ],
            [
             0.8888888888888888,
             "#fdca26"
            ],
            [
             1,
             "#f0f921"
            ]
           ],
           "sequentialminus": [
            [
             0,
             "#0d0887"
            ],
            [
             0.1111111111111111,
             "#46039f"
            ],
            [
             0.2222222222222222,
             "#7201a8"
            ],
            [
             0.3333333333333333,
             "#9c179e"
            ],
            [
             0.4444444444444444,
             "#bd3786"
            ],
            [
             0.5555555555555556,
             "#d8576b"
            ],
            [
             0.6666666666666666,
             "#ed7953"
            ],
            [
             0.7777777777777778,
             "#fb9f3a"
            ],
            [
             0.8888888888888888,
             "#fdca26"
            ],
            [
             1,
             "#f0f921"
            ]
           ]
          },
          "colorway": [
           "#636efa",
           "#EF553B",
           "#00cc96",
           "#ab63fa",
           "#FFA15A",
           "#19d3f3",
           "#FF6692",
           "#B6E880",
           "#FF97FF",
           "#FECB52"
          ],
          "font": {
           "color": "#2a3f5f"
          },
          "geo": {
           "bgcolor": "white",
           "lakecolor": "white",
           "landcolor": "#E5ECF6",
           "showlakes": true,
           "showland": true,
           "subunitcolor": "white"
          },
          "hoverlabel": {
           "align": "left"
          },
          "hovermode": "closest",
          "mapbox": {
           "style": "light"
          },
          "paper_bgcolor": "white",
          "plot_bgcolor": "#E5ECF6",
          "polar": {
           "angularaxis": {
            "gridcolor": "white",
            "linecolor": "white",
            "ticks": ""
           },
           "bgcolor": "#E5ECF6",
           "radialaxis": {
            "gridcolor": "white",
            "linecolor": "white",
            "ticks": ""
           }
          },
          "scene": {
           "xaxis": {
            "backgroundcolor": "#E5ECF6",
            "gridcolor": "white",
            "gridwidth": 2,
            "linecolor": "white",
            "showbackground": true,
            "ticks": "",
            "zerolinecolor": "white"
           },
           "yaxis": {
            "backgroundcolor": "#E5ECF6",
            "gridcolor": "white",
            "gridwidth": 2,
            "linecolor": "white",
            "showbackground": true,
            "ticks": "",
            "zerolinecolor": "white"
           },
           "zaxis": {
            "backgroundcolor": "#E5ECF6",
            "gridcolor": "white",
            "gridwidth": 2,
            "linecolor": "white",
            "showbackground": true,
            "ticks": "",
            "zerolinecolor": "white"
           }
          },
          "shapedefaults": {
           "line": {
            "color": "#2a3f5f"
           }
          },
          "ternary": {
           "aaxis": {
            "gridcolor": "white",
            "linecolor": "white",
            "ticks": ""
           },
           "baxis": {
            "gridcolor": "white",
            "linecolor": "white",
            "ticks": ""
           },
           "bgcolor": "#E5ECF6",
           "caxis": {
            "gridcolor": "white",
            "linecolor": "white",
            "ticks": ""
           }
          },
          "title": {
           "x": 0.05
          },
          "xaxis": {
           "automargin": true,
           "gridcolor": "white",
           "linecolor": "white",
           "ticks": "",
           "title": {
            "standoff": 15
           },
           "zerolinecolor": "white",
           "zerolinewidth": 2
          },
          "yaxis": {
           "automargin": true,
           "gridcolor": "white",
           "linecolor": "white",
           "ticks": "",
           "title": {
            "standoff": 15
           },
           "zerolinecolor": "white",
           "zerolinewidth": 2
          }
         }
        },
        "violinmode": "group",
        "xaxis": {
         "anchor": "y",
         "domain": [
          0,
          1
         ]
        },
        "yaxis": {
         "anchor": "x",
         "domain": [
          0,
          1
         ],
         "title": {
          "text": "mean"
         }
        }
       }
      },
      "text/html": [
       "<div>                            <div id=\"3d2d4bca-9b47-4b7c-a058-2f356bdbd62f\" class=\"plotly-graph-div\" style=\"height:525px; width:100%;\"></div>            <script type=\"text/javascript\">                require([\"plotly\"], function(Plotly) {                    window.PLOTLYENV=window.PLOTLYENV || {};                                    if (document.getElementById(\"3d2d4bca-9b47-4b7c-a058-2f356bdbd62f\")) {                    Plotly.newPlot(                        \"3d2d4bca-9b47-4b7c-a058-2f356bdbd62f\",                        [{\"alignmentgroup\":\"True\",\"box\":{\"visible\":true},\"customdata\":[[452.0,3.55],[131.0,2.53],[90.0,2.25],[209.0,3.0],[86.0,2.38],[26.0,1.82],[392.0,3.44],[219.0,3.37],[299.0,3.42],[89.0,2.72],[236.0,3.28],[267.0,3.78],[184.0,2.84],[183.0,3.25],[293.0,3.32],[39.0,1.9],[92.0,2.31],[10.0,1.3],[69.0,2.61],[72.0,2.35],[84.0,2.05],[297.0,3.63],[182.0,3.37],[174.0,2.84],[293.0,3.04],[73.0,2.37],[57.0,2.06],[276.0,3.42],[114.0,2.11],[37.0,2.16],[154.0,2.91],[81.0,2.63],[97.0,2.54],[7.0,1.23],[11.0,1.23],[13.0,1.25],[8.0,1.19],[120.0,2.36],[87.0,2.37],[57.0,1.95],[37.0,1.83],[148.0,3.02],[40.0,1.84],[79.0,2.36],[80.0,2.77],[27.0,1.83],[133.0,2.81],[117.0,3.07],[81.0,2.36],[583.0,4.05],[81.0,2.44],[91.0,2.7],[128.0,2.35],[104.0,2.44],[149.0,2.95],[394.0,3.67],[40.0,2.24],[175.0,2.99],[83.0,2.8],[64.0,2.59],[59.0,2.45],[127.0,2.48],[82.0,2.24],[283.0,3.86],[115.0,2.69],[162.0,2.88],[103.0,2.32],[134.0,2.69],[321.0,3.42],[251.0,3.16],[220.0,3.2],[129.0,2.52],[128.0,2.7],[7.0,1.26],[5.0,1.2],[54.0,2.17],[151.0,2.65],[33.0,1.55],[336.0,3.59],[68.0,1.97],[110.0,2.68],[261.0,3.23],[176.0,3.3],[18.0,1.5],[58.0,2.03],[150.0,3.12],[138.0,3.05],[213.0,3.0],[275.0,3.59],[95.0,2.28],[143.0,2.84],[104.0,2.68],[112.0,2.8],[137.0,2.47],[219.0,3.22],[295.0,3.51],[256.0,3.28],[390.0,3.86],[172.0,3.03],[508.0,3.83],[73.0,2.27],[54.0,2.04],[15.0,1.22],[5.0,1.08],[74.0,1.89],[71.0,2.05],[42.0,2.07],[65.0,2.11],[130.0,2.68],[31.0,1.55],[272.0,3.05],[20.0,1.4],[9.0,1.45],[67.0,2.85],[15.0,1.59],[125.0,2.93],[378.0,3.33],[293.0,2.85],[4.0,1.27],[67.0,1.68],[429.0,3.15],[106.0,1.88],[115.0,2.49],[187.0,3.33],[244.0,3.07],[97.0,2.76],[413.0,3.88],[65.0,2.35],[129.0,2.95],[23.0,1.39],[95.0,2.7],[246.0,3.49],[171.0,3.14],[198.0,3.54],[259.0,3.42],[105.0,3.01],[171.0,3.17],[19.0,1.42],[50.0,1.84],[61.0,2.15],[72.0,2.39],[57.0,2.04],[222.0,3.19],[243.0,3.32],[65.0,1.78],[10.0,1.26],[185.0,2.88],[128.0,2.52],[23.0,1.6],[157.0,3.07],[326.0,3.23],[82.0,2.55],[247.0,3.26],[174.0,3.06],[98.0,2.33],[148.0,3.15],[127.0,2.85],[60.0,1.84],[101.0,2.42],[69.0,2.35],[220.0,2.96],[106.0,2.66],[92.0,2.57],[151.0,2.87],[64.0,2.64],[58.0,2.57],[67.0,2.06],[316.0,3.59],[118.0,3.32],[121.0,3.15],[65.0,2.53],[367.0,3.76],[324.0,3.69],[420.0,3.86],[208.0,3.2],[284.0,3.45],[137.0,3.01],[125.0,3.28],[221.0,3.3],[221.0,3.41],[507.0,3.7],[226.0,3.35],[291.0,3.53],[116.0,2.62],[239.0,3.49],[251.0,3.3],[209.0,3.49],[170.0,3.0],[66.0,2.66],[124.0,3.14],[276.0,3.61],[116.0,3.08],[157.0,3.13],[241.0,3.46],[301.0,3.46],[251.0,3.37],[239.0,3.5],[127.0,3.07],[165.0,3.35],[206.0,3.2],[89.0,2.53],[280.0,3.29],[182.0,3.17],[350.0,3.43],[136.0,3.1],[50.0,2.12],[66.0,2.51],[200.0,3.28],[191.0,3.23],[331.0,3.49],[206.0,3.27],[92.0,2.51],[134.0,3.08],[114.0,2.56],[212.0,3.12],[290.0,3.42],[120.0,2.46],[171.0,2.84],[111.0,2.43],[66.0,2.27],[74.0,2.54],[365.0,3.29],[136.0,3.24],[44.0,2.18],[109.0,2.25],[166.0,2.75],[161.0,2.68],[244.0,3.27],[171.0,2.58],[199.0,2.9],[142.0,2.2],[101.0,2.41],[124.0,2.56],[280.0,3.3],[217.0,2.46],[45.0,2.16],[384.0,3.35],[256.0,3.34],[150.0,2.81],[156.0,2.31],[128.0,2.76],[117.0,3.0],[132.0,2.01],[48.0,2.0],[240.0,2.7],[124.0,3.0],[5.0,1.11],[160.0,2.96],[130.0,2.56],[197.0,2.91],[46.0,2.45],[158.0,2.43],[26.0,1.86],[62.0,1.77],[172.0,2.77],[16.0,1.58],[303.0,3.3],[509.0,3.52],[162.0,2.25],[127.0,2.09],[43.0,1.68],[66.0,2.45],[19.0,1.32],[101.0,2.12],[227.0,3.28],[35.0,1.67],[9.0,1.37],[255.0,3.27],[315.0,3.47],[136.0,2.82],[211.0,2.75],[198.0,3.52],[223.0,3.04],[190.0,2.92],[268.0,3.47],[298.0,3.26],[71.0,2.37],[60.0,2.15],[28.0,1.77],[85.0,2.31],[146.0,2.54],[232.0,3.15],[177.0,3.05],[193.0,2.66],[162.0,3.4],[481.0,3.37],[78.0,2.49],[478.0,3.18],[259.0,2.62],[96.0,2.33],[127.0,2.63],[114.0,2.77],[147.0,3.01],[485.0,2.93],[77.0,2.38],[6.0,1.26],[50.0,2.38],[194.0,3.13],[73.0,2.09],[431.0,3.32],[230.0,2.84],[297.0,3.64],[134.0,2.88],[149.0,2.83],[87.0,2.59],[96.0,2.84],[188.0,2.92],[30.0,1.69],[28.0,1.63],[145.0,2.86],[75.0,2.52],[80.0,2.26],[350.0,3.78],[5.0,1.05],[160.0,3.27],[112.0,3.11],[102.0,2.86],[298.0,3.9],[168.0,2.69],[20.0,1.81],[169.0,2.59],[218.0,2.65],[240.0,2.56],[125.0,2.46],[128.0,2.07],[175.0,2.77],[175.0,2.79],[295.0,3.03],[45.0,2.03],[41.0,1.86],[113.0,2.68],[143.0,2.75],[251.0,3.11],[64.0,2.25],[21.0,1.5],[43.0,1.71],[18.0,1.5],[91.0,2.02],[47.0,2.02],[189.0,2.98],[11.0,1.37],[52.0,1.92],[124.0,2.43],[55.0,2.3],[65.0,2.28],[126.0,2.81],[137.0,2.77],[27.0,1.75],[31.0,1.69],[41.0,1.91],[20.0,1.47],[26.0,1.38],[14.0,1.31],[72.0,2.39],[41.0,1.82],[97.0,2.5],[264.0,3.7],[143.0,2.16],[18.0,1.62],[10.0,1.36],[10.0,1.4],[28.0,1.62],[47.0,1.79],[37.0,1.67],[48.0,2.02],[47.0,2.06],[170.0,2.84],[31.0,1.34],[55.0,1.81],[39.0,1.75],[67.0,2.17],[34.0,1.95],[39.0,1.78],[11.0,1.24],[23.0,1.3],[24.0,1.56],[13.0,1.25],[101.0,2.73],[43.0,1.86],[116.0,2.56],[100.0,2.62],[111.0,2.71],[31.0,1.4],[69.0,1.98],[208.0,3.0],[87.0,2.1],[65.0,2.27],[28.0,1.48],[27.0,1.8],[10.0,1.36],[59.0,1.9],[68.0,2.38],[192.0,2.85],[12.0,1.43],[56.0,1.8],[54.0,1.89],[12.0,1.31],[26.0,1.36],[89.0,2.4],[18.0,1.44],[76.0,2.03],[170.0,2.84],[201.0,2.89],[101.0,2.7],[344.0,2.98],[49.0,1.68],[43.0,1.66],[112.0,3.3],[70.0,2.18],[162.0,2.57],[163.0,2.42],[93.0,1.87],[55.0,1.81],[62.0,2.32],[25.0,1.58],[64.0,2.31],[73.0,2.18],[129.0,2.78],[178.0,3.06],[81.0,2.56],[106.0,2.68],[26.0,1.6],[300.0,3.37],[19.0,1.12],[85.0,2.63],[32.0,1.68],[219.0,3.6],[121.0,2.91],[97.0,2.84],[93.0,2.85],[153.0,2.84],[174.0,3.08],[171.0,3.01],[67.0,2.53],[216.0,3.32],[99.0,2.6],[5.0,1.05],[6.0,1.06],[5.0,1.05],[14.0,1.16],[53.0,1.77],[4.0,1.06],[162.0,3.07],[46.0,1.78],[22.0,1.71],[9.0,1.23],[121.0,2.7],[85.0,2.43],[117.0,2.37],[63.0,1.74],[170.0,2.75],[66.0,1.9],[16.0,1.24],[16.0,1.44],[145.0,2.61],[48.0,1.61],[27.0,1.27],[90.0,2.3],[24.0,1.83],[28.0,1.68],[74.0,2.48],[148.0,3.02],[71.0,2.58],[27.0,1.85],[85.0,2.53],[52.0,2.24],[48.0,2.28],[64.0,2.22],[67.0,2.5],[108.0,2.74],[221.0,3.07],[158.0,2.53],[126.0,2.46],[194.0,3.5],[250.0,3.34],[160.0,2.49],[95.0,2.38],[104.0,3.0],[179.0,3.45],[179.0,3.48],[63.0,2.54],[128.0,3.05],[243.0,3.79],[138.0,3.26],[125.0,2.93],[64.0,2.47],[68.0,2.68],[65.0,2.7],[52.0,2.48],[50.0,2.41],[67.0,2.5],[59.0,2.45],[60.0,2.61],[56.0,2.48],[59.0,2.35],[231.0,3.49],[68.0,2.54],[152.0,3.3],[62.0,2.53],[31.0,2.03],[123.0,2.7],[57.0,2.35],[39.0,2.08],[122.0,2.91],[68.0,2.62],[90.0,2.74],[98.0,2.77],[215.0,3.04],[121.0,2.93],[121.0,2.99],[173.0,3.42],[57.0,2.49],[72.0,2.85],[180.0,3.2],[201.0,3.48],[63.0,2.55],[91.0,2.7],[89.0,2.61],[80.0,2.8],[124.0,3.12],[120.0,2.91],[35.0,2.06],[164.0,3.21],[46.0,2.35],[73.0,2.69],[124.0,2.93],[195.0,3.33],[121.0,3.12],[93.0,2.84],[80.0,2.76],[129.0,3.02],[22.0,1.66],[15.0,1.58],[13.0,1.46],[54.0,2.06],[10.0,1.38],[30.0,1.92],[66.0,2.3],[44.0,1.66],[43.0,1.66],[49.0,1.88],[51.0,1.73],[21.0,1.72],[71.0,2.2],[12.0,1.18],[254.0,2.66],[41.0,1.99],[12.0,1.24],[92.0,2.58],[151.0,2.65],[24.0,1.44],[45.0,1.83],[63.0,2.2],[102.0,2.16],[10.0,1.19],[12.0,1.29],[17.0,1.51],[70.0,2.47],[137.0,2.54],[22.0,1.5],[59.0,2.06],[48.0,2.02],[29.0,1.5],[27.0,1.36],[22.0,1.49],[179.0,2.94],[35.0,1.7],[230.0,3.11],[67.0,1.93],[50.0,1.99],[28.0,1.52],[29.0,1.61],[33.0,1.73],[15.0,1.28],[44.0,1.69],[93.0,2.25],[41.0,1.53],[92.0,2.33],[19.0,1.43],[32.0,1.86],[59.0,2.13],[168.0,2.93],[37.0,1.8],[79.0,2.47],[39.0,1.62],[34.0,1.64],[14.0,1.53],[202.0,3.17],[43.0,2.3],[18.0,1.27],[178.0,2.96],[9.0,1.35],[12.0,1.41],[5.0,1.16],[64.0,2.11],[127.0,2.64],[206.0,2.68],[4.0,1.13],[1.0,1.05],[2.0,1.12],[20.0,1.79],[50.0,2.26],[209.0,3.65],[81.0,2.76],[31.0,1.84],[66.0,2.63],[66.0,2.59],[30.0,2.02],[60.0,2.32],[41.0,2.12],[40.0,2.28],[34.0,2.1],[27.0,1.98],[51.0,2.3],[59.0,2.55],[64.0,2.28],[18.0,1.69],[18.0,1.65],[64.0,2.15],[43.0,1.91],[11.0,1.34],[39.0,1.97],[39.0,1.79],[22.0,1.65],[82.0,2.37],[4.0,1.19],[75.0,2.26],[169.0,2.87],[77.0,2.34],[31.0,1.82],[119.0,2.77],[58.0,2.46],[69.0,2.67],[24.0,1.83],[23.0,1.52],[91.0,2.38],[38.0,1.82],[44.0,2.21],[40.0,2.12],[82.0,2.2],[33.0,2.18],[89.0,2.51],[4.0,1.17],[35.0,2.06],[27.0,1.91],[38.0,2.15],[70.0,2.7],[67.0,2.63],[50.0,2.12],[72.0,2.42],[171.0,3.3],[90.0,2.76],[34.0,2.09],[147.0,3.25],[227.0,3.29],[44.0,2.31],[131.0,3.26],[79.0,2.4],[115.0,3.05],[153.0,3.01],[88.0,2.87],[82.0,2.43],[116.0,2.94],[46.0,2.14],[100.0,2.17],[5.0,1.16],[12.0,1.24],[6.0,1.15],[13.0,1.15],[36.0,1.79],[46.0,2.17],[65.0,1.92],[86.0,2.51],[48.0,1.88],[54.0,2.24],[77.0,2.34],[1.0,1.08],[219.0,2.43],[107.0,2.33],[34.0,1.6],[27.0,1.49],[100.0,2.31],[49.0,1.66],[169.0,3.08],[157.0,2.72],[50.0,2.25],[69.0,1.66],[44.0,1.39],[87.0,2.3],[155.0,2.79],[16.0,1.57],[164.0,2.94],[91.0,2.62],[44.0,2.33],[13.0,1.39],[79.0,2.24],[40.0,2.01],[10.0,1.33],[102.0,2.71],[15.0,1.36],[10.0,1.48],[53.0,1.98],[19.0,1.66],[24.0,1.62],[137.0,3.1],[6.0,1.2],[70.0,2.61],[101.0,2.58],[104.0,2.95],[79.0,2.49],[1.0,1.1],[51.0,1.99],[72.0,2.45],[13.0,1.44],[87.0,2.37],[58.0,2.09],[82.0,2.08],[16.0,1.61],[29.0,1.5],[86.0,2.22],[54.0,2.19],[58.0,1.98],[34.0,1.81],[76.0,2.42],[16.0,1.41],[14.0,1.31],[63.0,2.29],[45.0,1.9],[81.0,2.45],[24.0,1.76],[39.0,1.88],[180.0,3.0],[15.0,1.48],[27.0,1.51],[137.0,3.01],[78.0,2.69],[59.0,2.01],[31.0,1.66],[164.0,2.72],[63.0,2.3],[58.0,2.24],[267.0,3.17],[39.0,1.41],[92.0,2.51],[16.0,1.65],[119.0,2.79],[102.0,2.57],[316.0,2.8],[51.0,2.03],[124.0,2.95],[180.0,2.84],[39.0,1.95],[24.0,1.82],[57.0,2.19],[96.0,2.45],[128.0,2.31],[4.0,1.16],[21.0,1.22],[11.0,1.23],[46.0,1.75],[44.0,1.9],[115.0,2.59],[149.0,2.72],[29.0,1.61],[32.0,1.67],[9.0,1.32],[11.0,1.23],[52.0,2.0],[42.0,1.63],[57.0,2.19],[41.0,1.7],[49.0,1.96],[17.0,1.47],[32.0,1.71],[26.0,1.57],[9.0,1.34],[4.0,1.06],[76.0,2.45],[31.0,1.56],[69.0,2.1],[84.0,2.39],[10.0,1.27],[37.0,1.7],[2.0,1.05],[39.0,1.88],[14.0,1.36],[13.0,1.44],[3.0,1.08],[47.0,2.17],[66.0,2.03],[10.0,1.26],[86.0,2.63],[10.0,1.4],[46.0,2.19],[21.0,1.41],[36.0,1.82],[31.0,1.75],[9.0,1.21],[5.0,1.22],[26.0,1.61],[16.0,1.43],[40.0,1.71],[9.0,1.25],[8.0,1.27],[27.0,1.86],[50.0,2.15],[9.0,1.28],[31.0,1.66],[43.0,1.83],[45.0,1.84],[18.0,1.72],[18.0,1.53],[56.0,2.43],[1.0,1.12],[112.0,2.48],[21.0,1.41],[3.0,1.13],[25.0,1.56],[40.0,1.71],[93.0,2.1],[22.0,1.59],[4.0,1.17],[82.0,2.11],[49.0,1.82],[83.0,2.21],[80.0,1.93],[57.0,1.89],[13.0,1.35],[34.0,1.63],[1.0,1.05],[91.0,1.9],[22.0,1.46],[49.0,2.02],[25.0,1.39],[15.0,1.62],[26.0,1.88],[25.0,1.9],[4.0,1.16],[4.0,1.14],[53.0,1.81],[48.0,1.81],[27.0,1.71],[30.0,1.71],[42.0,2.01],[176.0,2.86],[44.0,1.91],[55.0,2.34],[9.0,1.38],[53.0,1.84],[4.0,1.24],[4.0,1.22],[1.0,1.05],[14.0,1.59],[16.0,1.54],[66.0,2.46],[36.0,2.1],[1.0,1.08],[3.0,1.05],[15.0,1.38],[16.0,1.31],[3.0,1.11],[18.0,1.3],[24.0,1.88],[86.0,2.3],[21.0,1.68],[119.0,2.56],[6.0,1.32],[5.0,1.26],[24.0,1.61],[9.0,1.28],[75.0,1.8],[42.0,1.9],[81.0,2.15],[39.0,1.93],[53.0,1.85],[47.0,1.78],[52.0,1.75],[33.0,1.57],[136.0,2.6],[59.0,2.11],[45.0,1.86],[34.0,1.87],[13.0,1.44],[7.0,1.29],[13.0,1.26],[53.0,2.01],[64.0,2.38],[15.0,1.54],[13.0,1.47],[43.0,1.43],[6.0,1.2],[53.0,1.85],[14.0,1.31],[19.0,1.26],[106.0,2.44],[44.0,2.21],[2.0,1.07],[58.0,2.12],[9.0,1.37],[42.0,2.14],[12.0,1.2],[42.0,2.2],[18.0,1.53],[20.0,1.66],[27.0,1.73],[21.0,1.61],[2.0,1.08],[20.0,1.42],[13.0,1.54],[4.0,1.11],[4.0,1.14],[9.0,1.31],[2.0,1.1],[11.0,1.31],[13.0,1.57],[18.0,1.54],[7.0,1.3],[8.0,1.28],[96.0,2.74],[5.0,1.14],[46.0,2.33],[34.0,2.06],[58.0,2.58],[85.0,2.43],[34.0,1.88],[101.0,2.09],[6.0,1.25],[104.0,2.36],[40.0,1.71],[80.0,2.0],[57.0,1.59],[40.0,1.81],[21.0,1.41],[68.0,2.05],[7.0,1.29],[32.0,2.06],[37.0,1.95],[25.0,1.59],[60.0,2.33],[32.0,1.5],[46.0,1.93],[45.0,2.1],[40.0,2.03],[43.0,1.87],[40.0,2.21],[61.0,2.11],[17.0,1.54],[48.0,1.55],[71.0,2.3],[30.0,1.67],[39.0,1.75],[45.0,1.97],[22.0,1.66],[11.0,1.44],[49.0,2.12],[46.0,2.17],[2.0,1.08],[14.0,1.57],[64.0,2.3],[25.0,1.7],[34.0,1.99],[23.0,1.63],[41.0,2.37],[9.0,1.35],[21.0,1.73],[26.0,2.01],[12.0,1.41],[18.0,1.67],[75.0,2.58],[8.0,1.31],[34.0,2.01],[28.0,1.73],[4.0,1.21],[32.0,1.74],[44.0,1.95],[12.0,1.18],[49.0,1.79],[27.0,1.51],[35.0,1.85],[22.0,1.63],[8.0,1.13],[20.0,1.49],[15.0,1.32],[44.0,1.82],[22.0,1.54],[23.0,1.47],[4.0,1.14],[86.0,1.8],[32.0,1.68],[33.0,1.78],[25.0,1.4],[4.0,1.17],[66.0,2.35],[7.0,1.18],[31.0,1.77],[14.0,1.33],[16.0,1.28],[16.0,1.37],[10.0,1.3],[10.0,1.33],[17.0,1.26],[8.0,1.15],[8.0,1.19],[9.0,1.32],[22.0,1.76],[23.0,1.55],[47.0,2.41],[37.0,1.94],[64.0,2.26],[44.0,1.99],[93.0,2.38],[100.0,2.61],[38.0,1.53],[98.0,2.3],[12.0,1.35],[137.0,2.73],[50.0,2.05],[32.0,1.8],[31.0,2.05],[35.0,2.1],[38.0,2.13],[32.0,1.89],[31.0,1.58],[15.0,1.57],[44.0,1.85],[4.0,1.14],[3.0,1.13],[148.0,2.47],[14.0,1.23],[20.0,1.35],[7.0,1.18],[16.0,1.44],[32.0,1.66],[27.0,1.51],[68.0,2.18],[24.0,1.54],[24.0,1.32],[17.0,1.45],[90.0,2.83],[25.0,1.51],[62.0,2.15],[28.0,1.72],[8.0,1.28],[40.0,1.93],[25.0,1.7],[46.0,1.98],[134.0,2.29],[73.0,2.13],[25.0,1.49],[43.0,2.14],[41.0,1.95],[25.0,1.42],[24.0,1.74],[23.0,1.4],[10.0,1.36],[10.0,1.36],[22.0,1.39],[15.0,1.5],[35.0,1.69],[39.0,1.84],[29.0,1.67],[12.0,1.5],[41.0,2.12],[4.0,1.25],[53.0,2.2],[16.0,1.46],[44.0,2.07],[12.0,1.41],[18.0,1.54],[27.0,1.89],[16.0,1.44],[7.0,1.2],[66.0,2.51],[77.0,2.13],[7.0,1.3],[12.0,1.25],[8.0,1.3],[22.0,1.52],[45.0,1.57],[2.0,1.15],[8.0,1.25],[8.0,1.24],[6.0,1.18],[21.0,1.78],[11.0,1.36],[21.0,1.63],[10.0,1.15],[13.0,1.26],[38.0,1.47],[37.0,1.57],[43.0,1.75],[12.0,1.29],[23.0,1.62],[12.0,1.28],[29.0,1.57],[3.0,1.13],[18.0,1.62],[42.0,2.14],[13.0,1.48],[8.0,1.24],[74.0,2.56],[7.0,1.2],[19.0,1.71],[4.0,1.17],[18.0,1.47],[4.0,1.17],[18.0,1.52],[5.0,1.16],[28.0,1.81],[41.0,1.79],[7.0,1.3],[15.0,1.4],[22.0,1.65],[10.0,1.38],[29.0,1.83],[13.0,1.51],[19.0,1.55],[47.0,2.02],[59.0,2.35],[17.0,1.48],[21.0,1.76],[1.0,1.12],[3.0,1.18],[12.0,1.52],[4.0,1.25],[32.0,1.85],[11.0,1.34],[13.0,1.35],[28.0,1.86],[1.0,1.1],[13.0,1.58],[32.0,1.6],[30.0,1.69],[38.0,1.93],[46.0,1.89],[29.0,1.85],[29.0,2.01],[5.0,1.23],[33.0,1.61],[17.0,1.33],[9.0,1.35],[44.0,2.33],[15.0,1.65],[3.0,1.18],[9.0,1.26],[3.0,1.1],[21.0,1.73],[9.0,1.35],[26.0,1.9],[9.0,1.32],[7.0,1.17],[28.0,1.81],[19.0,1.64],[12.0,1.43],[3.0,1.16],[1.0,1.08],[25.0,1.59],[4.0,1.24],[11.0,1.44],[26.0,1.83],[13.0,1.39],[5.0,1.09],[25.0,1.53],[6.0,1.15],[14.0,1.21],[12.0,1.41],[11.0,1.44],[22.0,1.66],[10.0,1.49],[27.0,1.68],[14.0,1.45],[15.0,1.58],[7.0,1.21],[8.0,1.31],[5.0,1.23],[22.0,1.68],[7.0,1.14],[19.0,1.4],[9.0,1.19],[10.0,1.26],[10.0,1.26],[13.0,1.28],[19.0,1.33],[10.0,1.26],[18.0,1.34],[3.0,1.16],[13.0,1.44],[44.0,1.78],[3.0,1.24],[11.0,1.41],[3.0,1.21],[13.0,1.47],[10.0,1.45],[31.0,2.08],[11.0,1.4],[3.0,1.15],[45.0,2.13],[7.0,1.27],[23.0,1.56],[7.0,1.29],[1.0,1.12],[8.0,1.34],[21.0,1.83],[18.0,1.65],[6.0,1.23],[19.0,1.45],[17.0,1.33],[20.0,1.5],[15.0,1.35],[38.0,1.71],[12.0,1.45],[6.0,1.22],[6.0,1.15],[9.0,1.18],[30.0,1.35],[6.0,1.23],[39.0,1.77],[26.0,1.78],[20.0,1.52],[30.0,1.82],[39.0,2.02],[25.0,1.53],[4.0,1.21],[12.0,1.32],[14.0,1.36],[32.0,1.86],[8.0,1.21],[48.0,1.68],[13.0,1.25],[18.0,1.23],[22.0,1.44],[17.0,1.37],[6.0,1.28],[8.0,1.21],[1.0,1.1],[1.0,1.08],[6.0,1.28],[8.0,1.3],[18.0,1.38],[26.0,1.84],[6.0,1.2],[5.0,1.17],[7.0,1.33],[36.0,1.76],[19.0,1.57],[7.0,1.11],[6.0,1.12],[19.0,1.52],[12.0,1.35],[6.0,1.09],[8.0,1.42],[9.0,1.31],[7.0,1.2],[11.0,1.17],[8.0,1.19],[3.0,1.1],[4.0,1.1],[23.0,1.46],[4.0,1.11],[4.0,1.16],[4.0,1.19],[8.0,1.36],[15.0,1.43],[7.0,1.29],[19.0,1.54],[12.0,1.41],[33.0,1.75],[10.0,1.38],[10.0,1.46],[7.0,1.18],[7.0,1.23],[5.0,1.11],[15.0,1.39],[11.0,1.16],[4.0,1.14],[8.0,1.22],[19.0,1.63],[16.0,1.6],[9.0,1.29],[16.0,1.4],[13.0,1.43],[9.0,1.34],[19.0,1.45],[26.0,1.6],[15.0,1.47],[17.0,1.64],[6.0,1.08],[7.0,1.26],[7.0,1.17],[2.0,1.07],[15.0,1.28],[3.0,1.08],[3.0,1.24],[7.0,1.27],[7.0,1.21],[20.0,1.61],[12.0,1.35],[9.0,1.4],[8.0,1.28],[9.0,1.22],[5.0,1.26],[5.0,1.23],[18.0,1.35],[2.0,1.1],[7.0,1.2],[2.0,1.12],[2.0,1.07],[2.0,1.05],[1.0,1.05],[1.0,1.08],[16.0,1.36],[7.0,1.26],[14.0,1.45],[11.0,1.27],[23.0,1.63],[7.0,1.23],[4.0,1.11],[3.0,1.07],[4.0,1.1],[1.0,1.05],[2.0,1.1],[6.0,1.17],[3.0,1.13],[5.0,1.16],[1.0,1.05],[6.0,1.26],[3.0,1.11],[6.0,1.25],[1.0,1.05],[4.0,1.14],[4.0,1.17],[2.0,1.08],[5.0,1.19],[2.0,1.05],[11.0,1.3],[10.0,1.16],[9.0,1.22],[4.0,1.13],[1.0,1.05],[1.0,1.05],[1.0,1.05],[2.0,1.1],[1.0,1.05],[5.0,1.22],[2.0,1.08],[5.0,1.16],[4.0,1.16],[1.0,1.05],[1.0,1.05],[2.0,1.07],[3.0,1.1],[1.0,1.05],[5.0,1.17],[2.0,1.05],[6.0,1.2],[3.0,1.13],[3.0,1.13],[2.0,1.12],[2.0,1.05],[2.0,1.07],[3.0,1.13],[2.0,1.08],[1.0,1.05],[1.0,1.05],[2.0,1.07],[1.0,1.05],[5.0,1.3],[6.0,1.29],[4.0,1.16],[3.0,1.13],[2.0,1.07],[3.0,1.15],[1.0,1.05],[2.0,1.05],[10.0,1.42],[7.0,1.17],[4.0,1.19],[5.0,1.14],[7.0,1.24],[6.0,1.17],[8.0,1.31],[4.0,1.11],[6.0,1.14],[3.0,1.08],[5.0,1.19],[6.0,1.2],[3.0,1.1],[6.0,1.26],[3.0,1.15],[2.0,1.08],[3.0,1.1],[5.0,1.13],[9.0,1.19],[7.0,1.2],[6.0,1.17],[5.0,1.3],[5.0,1.22],[2.0,1.16],[7.0,1.2],[10.0,1.35],[18.0,1.56],[4.0,1.16],[4.0,1.16],[13.0,1.44],[6.0,1.26],[5.0,1.23],[20.0,1.35],[3.0,1.05],[7.0,1.24],[4.0,1.16],[28.0,1.54],[6.0,1.11],[8.0,1.25],[1.0,1.07],[9.0,1.23],[5.0,1.16],[2.0,1.1],[3.0,1.18],[16.0,1.28],[3.0,1.07],[11.0,1.38],[4.0,1.13],[4.0,1.13],[3.0,1.11],[10.0,1.27],[8.0,1.31],[5.0,1.19],[12.0,1.49],[4.0,1.16],[3.0,1.11],[5.0,1.23],[3.0,1.05],[2.0,1.08],[10.0,1.26],[7.0,1.21],[2.0,1.1],[9.0,1.18],[5.0,1.16],[8.0,1.28],[5.0,1.2],[7.0,1.21],[5.0,1.16],[4.0,1.22],[19.0,1.4],[4.0,1.16],[15.0,1.47],[1.0,1.08],[3.0,1.18],[8.0,1.48],[2.0,1.15],[15.0,1.62],[1.0,1.1],[1.0,1.07],[6.0,1.23],[2.0,1.1],[7.0,1.33],[1.0,1.08],[1.0,1.1],[7.0,1.32],[1.0,1.08],[1.0,1.07],[7.0,1.33],[3.0,1.16],[3.0,1.11],[3.0,1.11],[6.0,1.32],[2.0,1.18],[6.0,1.26],[12.0,1.41],[5.0,1.17],[9.0,1.23],[2.0,1.13],[9.0,1.38],[6.0,1.22],[8.0,1.27],[1.0,1.07],[2.0,1.1],[18.0,1.44],[8.0,1.25],[11.0,1.24],[2.0,1.12],[1.0,1.1],[12.0,1.45],[3.0,1.13],[4.0,1.21],[1.0,1.05],[5.0,1.13],[4.0,1.17],[5.0,1.14],[3.0,1.15],[2.0,1.12],[1.0,1.1],[1.0,1.05],[1.0,1.05],[5.0,1.25],[5.0,1.19],[2.0,1.12],[1.0,1.1],[4.0,1.19],[2.0,1.18],[5.0,1.2],[2.0,1.07],[10.0,1.35],[3.0,1.18],[1.0,1.1],[3.0,1.18],[1.0,1.08],[3.0,1.11],[5.0,1.09],[1.0,1.08],[5.0,1.22],[6.0,1.32],[3.0,1.1],[7.0,1.27],[1.0,1.1],[3.0,1.19],[5.0,1.19],[12.0,1.38],[2.0,1.12],[1.0,1.08],[4.0,1.17],[7.0,1.2],[2.0,1.12],[8.0,1.43],[1.0,1.1],[1.0,1.1],[7.0,1.2],[3.0,1.11],[5.0,1.19],[5.0,1.13],[7.0,1.29],[2.0,1.08],[1.0,1.1],[6.0,1.15],[4.0,1.17],[1.0,1.12],[4.0,1.24],[3.0,1.15],[4.0,1.1],[10.0,1.3],[2.0,1.13],[2.0,1.12],[1.0,1.08],[3.0,1.13],[4.0,1.14],[1.0,1.05],[2.0,1.12],[1.0,1.05],[2.0,1.07],[2.0,1.12],[2.0,1.08],[3.0,1.1],[4.0,1.16],[2.0,1.12],[5.0,1.17],[2.0,1.08],[1.0,1.05],[7.0,1.32],[1.0,1.05],[4.0,1.16],[1.0,1.05],[1.0,1.05],[1.0,1.05],[1.0,1.05],[1.0,1.05],[1.0,1.05],[1.0,1.05],[1.0,1.05],[1.0,1.05],[1.0,1.05],[1.0,1.05],[1.0,1.05],[2.0,1.1],[1.0,1.05],[1.0,1.05],[1.0,1.05],[1.0,1.05],[2.0,1.08],[1.0,1.05],[1.0,1.05],[1.0,1.05],[1.0,1.05],[1.0,1.05],[1.0,1.05],[2.0,1.1],[1.0,1.05],[1.0,1.05],[2.0,1.08],[4.0,1.17],[2.0,1.08],[6.0,1.25],[5.0,1.25],[1.0,1.1],[2.0,1.16],[1.0,1.07],[1.0,1.07],[5.0,1.2],[6.0,1.18],[1.0,1.12],[4.0,1.22],[1.0,1.05],[3.0,1.16],[1.0,1.08],[1.0,1.1],[4.0,1.17],[1.0,1.07],[3.0,1.16],[4.0,1.13],[3.0,1.08],[3.0,1.1],[2.0,1.12],[4.0,1.22],[1.0,1.1],[1.0,1.08],[10.0,1.33],[1.0,1.1],[2.0,1.12],[1.0,1.05],[1.0,1.08],[9.0,1.34],[1.0,1.05],[3.0,1.11],[3.0,1.19],[1.0,1.07],[1.0,1.1],[1.0,1.05],[1.0,1.08],[4.0,1.22],[2.0,1.15],[1.0,1.08],[2.0,1.13],[1.0,1.08],[1.0,1.08],[1.0,1.07],[1.0,1.08],[1.0,1.1],[1.0,1.08],[1.0,1.08],[3.0,1.21],[1.0,1.08],[1.0,1.08],[2.0,1.16],[4.0,1.22],[2.0,1.07],[1.0,1.1],[2.0,1.13],[1.0,1.08],[1.0,1.07],[1.0,1.08],[1.0,1.1],[1.0,1.1],[3.0,1.08],[1.0,1.12],[1.0,1.05],[1.0,1.07],[2.0,1.13],[1.0,1.08],[3.0,1.15],[1.0,1.05],[1.0,1.07],[1.0,1.05],[2.0,1.1],[1.0,1.07],[4.0,1.19],[1.0,1.07],[1.0,1.07],[1.0,1.08],[1.0,1.08],[1.0,1.07],[1.0,1.08],[1.0,1.05],[2.0,1.08],[1.0,1.08],[1.0,1.1],[1.0,1.08],[1.0,1.07],[1.0,1.08],[1.0,1.05],[1.0,1.08],[1.0,1.07],[1.0,1.08],[1.0,1.08]],\"hovertemplate\":\"mean=%{y}\\u003cbr\\u003ecount=%{customdata[0]}\\u003cbr\\u003ebayesian_avg=%{customdata[1]}\\u003cextra\\u003e\\u003c\\u002fextra\\u003e\",\"legendgroup\":\"\",\"marker\":{\"color\":\"#636efa\"},\"name\":\"\",\"offsetgroup\":\"\",\"orientation\":\"v\",\"points\":\"all\",\"scalegroup\":\"True\",\"showlegend\":false,\"x0\":\" \",\"xaxis\":\"x\",\"y\":[3.8783185840707963,3.2061068702290076,3.033333333333333,3.550239234449761,3.302325581395349,3.576923076923077,3.798469387755102,3.9954337899543377,3.8963210702341136,3.831460674157303,3.847457627118644,4.385767790262173,3.4184782608695654,3.9672131147540983,3.7781569965870307,3.2051282051282053,3.119565217391304,2.8,3.9565217391304346,3.4166666666666665,2.761904761904762,4.151515151515151,4.1208791208791204,3.4482758620689653,3.4436860068259385,3.452054794520548,3.1052631578947367,3.931159420289855,2.6666666666666665,3.945945945945946,3.6298701298701297,3.7901234567901234,3.4536082474226806,2.7142857142857144,2.1818181818181817,2.1538461538461537,2.25,3.0083333333333333,3.264367816091954,2.8947368421052633,3.081081081081081,3.804054054054054,3.0,3.3417721518987342,4.05,3.5555555555555554,3.601503759398496,4.094017094017094,3.3209876543209877,4.3584905660377355,3.45679012345679,3.769230769230769,2.953125,3.2403846153846154,3.704697986577181,4.060913705583756,4.0,3.645714285714286,4.0602409638554215,4.015625,3.864406779661017,3.141732283464567,3.097560975609756,4.445229681978798,3.5391304347826087,3.549382716049383,3.0485436893203883,3.417910447761194,3.853582554517134,3.6613545816733066,3.7818181818181817,3.193798449612403,3.46875,3.0,3.0,3.4074074074074074,3.2781456953642385,2.4545454545454546,4.044642857142857,2.764705882352941,3.5545454545454547,3.7203065134099615,4.0625,3.0,3.0344827586206895,3.94,3.9057971014492754,3.539906103286385,4.138181818181818,3.0526315789473686,3.5874125874125875,3.6153846153846154,3.7232142857142856,3.0875912408759123,3.8127853881278537,4.0067796610169495,3.79296875,4.28974358974359,3.7093023255813953,4.155511811023622,3.26027397260274,3.1296296296296298,1.8666666666666667,1.4,2.5675675675675675,2.887323943661972,3.5,3.076923076923077,3.4307692307692306,2.5161290322580645,3.485294117647059,2.45,4.111111111111111,4.447761194029851,3.7333333333333334,3.824,3.693121693121693,3.2150170648464163,4.5,2.2388059701492535,3.438228438228438,2.339622641509434,3.234782608695652,4.053475935828877,3.557377049180328,3.804123711340206,4.283292978208232,3.5384615384615383,3.8217054263565893,2.260869565217391,3.7263157894736842,4.0772357723577235,3.871345029239766,4.292929292929293,3.969111969111969,4.123809523809523,3.9005847953216373,2.5789473684210527,2.78,3.2131147540983607,3.5,3.0701754385964914,3.765765765765766,3.8724279835390947,2.4461538461538463,2.5,3.4702702702702704,3.203125,3.0,3.828025477707006,3.6319018404907975,3.6341463414634148,3.785425101214575,3.7471264367816093,3.1020408163265305,3.9864864864864864,3.6929133858267718,2.6166666666666667,3.227722772277228,3.463768115942029,3.481818181818182,3.556603773584906,3.5543478260869565,3.589403973509934,4.109375,4.120689655172414,2.955223880597015,4.0664556962025316,4.466101694915254,4.1735537190082646,3.876923076923077,4.204359673024523,4.172839506172839,4.252380952380952,3.8173076923076925,3.9471830985915495,3.8613138686131387,4.344,3.909502262443439,4.04524886877828,4.007889546351085,3.9513274336283186,4.034364261168385,3.4310344827586206,4.100418410041841,3.8366533864541834,4.186602870813397,3.6823529411764704,4.106060606060606,4.137096774193548,4.163043478260869,4.120689655172414,3.917197452229299,4.058091286307054,3.9335548172757475,3.9163346613545817,4.104602510460251,4.0078740157480315,4.175757575757576,3.825242718446602,3.5168539325842696,3.7642857142857142,3.868131868131868,3.834285714285714,3.9926470588235294,3.38,3.8181818181818183,3.945,3.905759162303665,3.930513595166163,3.912621359223301,3.4565217391304346,3.985074626865672,3.3508771929824563,3.69811320754717,3.910344827586207,3.158333333333333,3.456140350877193,3.171171171171171,3.3636363636363638,3.72972972972973,3.66027397260274,4.198529411764706,3.7045454545454546,2.908256880733945,3.355421686746988,3.279503105590062,3.8155737704918034,3.111111111111111,3.4472361809045227,2.683098591549296,3.207920792079208,3.2903225806451615,3.775,2.847926267281106,3.6222222222222222,3.7109375,3.875,3.513333333333333,2.7884615384615383,3.546875,3.9914529914529915,2.4393939393939394,3.1666666666666665,3.1083333333333334,3.935483870967742,1.8,3.675,3.246153846153846,3.4771573604060912,4.260869565217392,2.9430379746835444,3.6923076923076925,2.4516129032258065,3.36046511627907,3.5625,3.745874587458746,3.8035363457760316,2.685185185185185,2.574803149606299,2.558139534883721,3.712121212121212,2.1578947368421053,2.742574257425743,3.8634361233480177,2.7142857142857144,3.4444444444444446,3.792156862745098,3.926984126984127,3.5955882352941178,3.2322274881516586,4.262626262626263,3.569506726457399,3.5,4.0111940298507465,3.697986577181208,3.464788732394366,3.2333333333333334,3.2857142857142856,3.1882352941176473,3.143835616438356,3.685344827586207,3.7175141242937855,3.160621761658031,4.265432098765432,3.656964656964657,3.58974358974359,3.4414225941422596,2.9806949806949805,3.1145833333333335,3.37007874015748,3.6666666666666665,3.802721088435374,3.156701030927835,3.4025974025974026,3.3333333333333335,3.96,3.768041237113402,2.9315068493150687,3.6310904872389793,3.3043478260869565,4.161616161616162,3.6865671641791047,3.5369127516778525,3.6436781609195403,3.9479166666666665,3.515957446808511,2.966666666666667,2.857142857142857,3.6,3.68,3.1625,4.2457142857142856,1.0,4.1,4.196428571428571,3.911764705882353,4.466442953020135,3.2738095238095237,4.05,3.1301775147928996,3.0871559633027523,2.933333333333333,3.136,2.546875,3.36,3.3771428571428572,3.4237288135593222,3.3333333333333335,3.024390243902439,3.5398230088495577,3.4615384615384617,3.593625498007968,3.359375,2.761904761904762,2.627906976744186,3.0,2.659340659340659,3.25531914893617,3.5873015873015874,3.090909090909091,2.923076923076923,3.096774193548387,3.6545454545454548,3.4,3.642857142857143,3.510948905109489,3.2962962962962963,2.903225806451613,3.1463414634146343,2.7,2.1153846153846154,2.4285714285714284,3.486111111111111,2.926829268292683,3.381443298969072,4.291666666666667,2.6153846153846154,3.5,3.2,3.5,2.8214285714285716,2.723404255319149,2.675675675675676,3.2083333333333335,3.3404255319148937,3.458823529411765,1.903225806451613,2.6363636363636362,2.8205128205128207,3.1641791044776117,3.5294117647058822,2.8974358974358974,2.272727272727273,1.9565217391304348,2.8333333333333335,2.1538461538461537,3.722772277227723,2.9767441860465116,3.336206896551724,3.55,3.5945945945945947,2.064516129032258,2.782608695652174,3.5625,2.8160919540229883,3.3846153846153846,2.392857142857143,3.4444444444444446,3.2,2.7457627118644066,3.5441176470588234,3.4114583333333335,3.3333333333333335,2.5892857142857144,2.814814814814815,2.5833333333333335,2.076923076923077,3.303370786516854,2.7222222222222223,2.8026315789473686,3.4647058823529413,3.427860696517413,3.6732673267326734,3.313953488372093,2.4489795918367347,2.511627906976744,4.491071428571429,3.142857142857143,3.1296296296296298,2.914110429447853,2.3978494623655915,2.6363636363636362,3.532258064516129,2.84,3.484375,3.095890410958904,3.5813953488372094,3.7247191011235956,3.6666666666666665,3.5943396226415096,2.8461538461538463,3.8333333333333335,1.3157894736842106,3.7411764705882353,2.84375,4.292237442922374,3.8181818181818183,3.9381443298969074,4.0,3.5359477124183005,3.7701149425287355,3.690058479532164,3.8358208955223883,3.949074074074074,3.5353535353535355,1.0,1.1666666666666667,1.0,1.6428571428571428,2.5660377358490565,1.25,3.808641975308642,2.717391304347826,3.5,2.4444444444444446,3.5041322314049586,3.388235294117647,3.034188034188034,2.3968253968253967,3.347058823529412,2.6666666666666665,1.9375,2.875,3.2551724137931033,2.3125,1.7407407407407407,3.1222222222222222,3.75,3.0,3.6216216216216215,3.804054054054054,3.859154929577465,3.5925925925925926,3.5647058823529414,3.5961538461538463,3.7916666666666665,3.3125,3.7761194029850746,3.6666666666666665,3.6108597285067874,3.0822784810126582,3.126984126984127,4.252577319587629,3.884,3.01875,3.210526315789474,4.115384615384615,4.251396648044692,4.284916201117318,3.9365079365079363,3.984375,4.45679012345679,4.2101449275362315,3.816,3.796875,4.102941176470588,4.2,4.115384615384615,4.02,3.791044776119403,3.864406779661017,4.15,4.0,3.6610169491525424,4.121212121212121,3.838235294117647,4.184210526315789,3.9516129032258065,3.903225806451613,3.4959349593495936,3.7017543859649122,3.641025641025641,3.819672131147541,4.0,3.8555555555555556,3.816326530612245,3.5953488372093023,3.8512396694214877,3.9421487603305785,4.23121387283237,4.0,4.333333333333333,3.911111111111111,4.203980099502488,3.9682539682539684,3.769230769230769,3.651685393258427,4.1,4.104838709677419,3.8333333333333335,3.7714285714285714,3.9939024390243905,4.021739130434782,4.027397260273973,3.8306451612903225,4.02051282051282,4.132231404958677,3.978494623655914,4.025,3.9224806201550386,3.3181818181818183,3.6666666666666665,3.3076923076923075,3.1666666666666665,3.3,3.6333333333333333,3.4242424242424243,2.477272727272727,2.511627906976744,2.877551020408163,2.5294117647058822,3.619047619047619,3.1549295774647885,1.8333333333333333,3.031496062992126,3.341463414634146,2.1666666666666665,3.5652173913043477,3.2847682119205297,2.4166666666666665,2.8666666666666667,3.2857142857142856,2.803921568627451,2.0,2.5,3.1176470588235294,3.6714285714285713,3.1824817518248176,2.727272727272727,3.0677966101694913,3.2083333333333335,2.413793103448276,2.037037037037037,2.6818181818181817,3.569832402234637,2.8,3.6478260869565218,2.701492537313433,3.1,2.5,2.7586206896551726,2.9393939393939394,2.2,2.5454545454545454,3.021505376344086,2.2195121951219514,3.152173913043478,2.6315789473684212,3.375,3.2203389830508473,3.6011904761904763,3.0,3.5443037974683542,2.4871794871794872,2.676470588235294,3.5714285714285716,3.792079207920792,4.023255813953488,2.0,3.601123595505618,3.3333333333333335,3.1666666666666665,2.4,3.09375,3.377952755905512,3.150485436893204,2.25,1.0,3.0,4.0,3.7,4.3875598086124405,4.012345679012346,3.3548387096774195,4.045454545454546,3.9696969696969697,3.933333333333333,3.5833333333333335,3.658536585365854,4.1,3.9411764705882355,4.037037037037037,3.7450980392156863,4.0508474576271185,3.421875,3.7777777777777777,3.611111111111111,3.171875,3.0930232558139537,2.909090909090909,3.358974358974359,2.923076923076923,3.272727272727273,3.3292682926829267,3.25,3.2266666666666666,3.514792899408284,3.3376623376623376,3.2903225806451615,3.6218487394957983,3.896551724137931,4.057971014492754,3.75,2.739130434782609,3.241758241758242,3.026315789473684,3.772727272727273,3.7,3.024390243902439,4.212121212121212,3.4831460674157304,3.0,3.7714285714285714,3.814814814814815,3.8684210526315788,4.1,4.029850746268656,3.4,3.5416666666666665,4.076023391812866,3.888888888888889,3.911764705882353,4.136054421768708,3.881057268722467,4.0,4.259541984732825,3.4177215189873418,4.078260869565217,3.764705882352941,4.1022727272727275,3.426829268292683,3.9051724137931036,3.5434782608695654,2.83,2.4,2.1666666666666665,2.1666666666666665,1.6153846153846154,3.0,3.608695652173913,2.723076923076923,3.5232558139534884,2.8958333333333335,3.5555555555555554,3.3376623376623376,3.0,2.808219178082192,3.046728971962617,2.5588235294117645,2.4444444444444446,3.06,2.4081632653061225,3.7928994082840237,3.356687898089172,3.68,2.1884057971014492,1.8409090909090908,3.1494252873563218,3.458064516129032,3.5,3.6280487804878048,3.6483516483516483,4.045454545454546,2.923076923076923,3.1392405063291138,3.425,3.0,3.676470588235294,2.6,4.0,3.018867924528302,3.5789473684210527,3.0416666666666665,3.9927007299270074,2.6666666666666665,3.9285714285714284,3.4752475247524752,4.028846153846154,3.569620253164557,4.0,3.0784313725490198,3.611111111111111,3.230769230769231,3.2758620689655173,3.1551724137931036,2.817073170731707,3.6875,2.413793103448276,3.0232558139534884,3.4444444444444446,2.9310344827586206,3.1470588235294117,3.486842105263158,2.75,2.4285714285714284,3.4603174603174605,3.022222222222222,3.4814814814814814,3.5,3.1538461538461537,3.65,3.2,2.5185185185185186,3.854014598540146,3.9358974358974357,2.983050847457627,2.838709677419355,3.323170731707317,3.4761904761904763,3.4482758620689653,3.644194756554307,1.9487179487179487,3.4565217391304346,3.875,3.6638655462184873,3.4607843137254903,3.1234177215189876,3.176470588235294,3.8548387096774195,3.4277777777777776,3.3076923076923075,3.7083333333333335,3.3859649122807016,3.3125,2.8984375,2.75,1.7142857142857142,2.1818181818181817,2.652173913043478,3.0454545454545454,3.391304347826087,3.389261744966443,2.7586206896551726,2.8125,3.111111111111111,2.1818181818181817,3.076923076923077,2.4523809523809526,3.3859649122807016,2.6341463414634148,3.061224489795918,2.9411764705882355,2.9375,2.769230769230769,3.2222222222222223,1.25,3.5526315789473686,2.5483870967741935,3.0,3.3333333333333335,2.6,2.72972972972973,1.0,3.1538461538461537,2.642857142857143,3.230769230769231,1.6666666666666667,3.574468085106383,2.909090909090909,2.5,3.7209302325581395,3.5,3.652173913043478,2.4285714285714284,3.0833333333333335,3.096774193548387,2.2222222222222223,3.2,2.8846153846153846,2.8125,2.7,2.5555555555555554,2.875,3.6296296296296298,3.46,2.7777777777777777,2.838709677419355,2.9069767441860463,2.888888888888889,3.9444444444444446,3.111111111111111,3.892857142857143,5.0,3.232142857142857,2.4285714285714284,2.6666666666666665,2.76,2.7,2.774193548387097,3.0454545454545454,3.0,2.8780487804878048,2.7551020408163267,3.036144578313253,2.575,2.7719298245614037,2.6923076923076925,2.6470588235294117,1.0,2.4615384615384617,2.5454545454545454,3.204081632653061,2.2,3.8666666666666667,3.769230769230769,3.92,2.75,2.5,2.660377358490566,2.75,3.1481481481481484,3.0,3.357142857142857,3.465909090909091,3.0681818181818183,3.727272727272727,3.5555555555555554,2.7169811320754715,4.0,3.75,1.0,3.857142857142857,3.375,3.727272727272727,3.8333333333333335,3.0,1.0,2.6666666666666665,2.25,2.3333333333333335,2.111111111111111,3.9166666666666665,3.1627906976744184,3.4761904761904763,3.319327731092437,4.0,3.8,3.0,2.7777777777777777,2.4,3.0952380952380953,2.962962962962963,3.2564102564102564,2.7358490566037736,2.702127659574468,2.5384615384615383,2.515151515151515,3.2720588235294117,3.169491525423729,2.933333333333333,3.2941176470588234,3.230769230769231,3.2857142857142856,2.230769230769231,3.0754716981132075,3.609375,3.466666666666667,3.3846153846153846,1.9534883720930232,2.6666666666666665,2.7547169811320753,2.4285714285714284,1.894736842105263,3.2169811320754715,3.772727272727273,1.5,3.2241379310344827,3.4444444444444446,3.6904761904761907,1.9166666666666667,3.8333333333333335,3.111111111111111,3.45,3.2222222222222223,3.1904761904761907,2.0,2.5,3.769230769230769,2.0,2.5,3.0,2.5,2.727272727272727,3.923076923076923,3.1666666666666665,3.4285714285714284,3.0,3.7916666666666665,2.2,3.9782608695652173,3.823529411764706,4.155172413793103,3.4,3.323529411764706,2.702970297029703,3.1666666666666665,3.1153846153846154,2.7,2.7,2.1578947368421053,2.925,2.4285714285714284,2.926470588235294,3.2857142857142856,3.9375,3.4054054054054053,2.88,3.6,2.34375,3.0652173913043477,3.488888888888889,3.475,3.0,3.925,3.1475409836065573,3.235294117647059,2.1666666666666665,3.3380281690140845,2.9,2.8205128205128207,3.1777777777777776,3.3181818181818183,3.5454545454545454,3.4081632653061225,3.608695652173913,2.0,3.7857142857142856,3.46875,3.24,3.6176470588235294,3.130434782608696,4.2926829268292686,3.3333333333333335,3.6666666666666665,4.1923076923076925,3.1666666666666665,3.7222222222222223,3.8,3.25,3.676470588235294,3.1785714285714284,3.5,3.03125,3.159090909090909,1.8333333333333333,2.693877551020408,2.5185185185185186,3.2,3.1818181818181817,1.75,2.8,2.4,2.8636363636363638,2.8636363636363638,2.5652173913043477,2.5,2.313953488372093,2.84375,3.090909090909091,2.24,3.0,3.515151515151515,2.2857142857142856,3.161290322580645,2.5,2.125,2.5625,2.8,3.0,2.0,1.875,2.25,3.111111111111111,3.6818181818181817,2.8260869565217392,4.127659574468085,3.3783783783783785,3.375,3.25,3.225806451612903,3.53,2.289473684210526,3.061224489795918,2.8333333333333335,3.45985401459854,3.24,3.1875,3.967741935483871,3.8857142857142857,3.8157894736842106,3.4375,2.5806451612903225,3.6,2.9318181818181817,2.5,2.6666666666666665,3.0405405405405403,2.0,2.25,2.2857142857142856,2.875,2.78125,2.5185185185185186,3.161764705882353,2.75,2.0,2.823529411764706,4.011111111111111,2.6,3.193548387096774,3.142857142857143,3.0,3.225,3.24,3.1739130434782608,2.8358208955223883,3.0136986301369864,2.52,3.6511627906976742,3.2439024390243905,2.28,3.4583333333333335,2.3043478260869565,3.2,3.2,2.3181818181818183,3.2666666666666666,2.7714285714285714,3.051282051282051,2.9310344827586206,3.75,3.658536585365854,4.25,3.490566037735849,3.0,3.4545454545454546,3.1666666666666665,3.1666666666666665,3.740740740740741,2.875,2.4285714285714284,3.8181818181818183,2.961038961038961,3.4285714285714284,2.25,3.125,2.772727272727273,2.2444444444444445,4.0,2.75,2.625,2.5,3.857142857142857,3.0,3.2857142857142856,1.7,2.230769230769231,2.1315789473684212,2.4054054054054053,2.7209302325581395,2.5,3.0869565217391304,2.4166666666666665,2.6206896551724137,2.6666666666666665,3.5,3.6904761904761907,3.4615384615384617,2.625,3.77027027027027,2.4285714285714284,3.789473684210526,3.0,2.8333333333333335,3.0,3.0555555555555554,2.4,3.4285714285714284,2.8536585365853657,3.4285714285714284,2.8,3.272727272727273,3.3,3.413793103448276,3.6153846153846154,3.1052631578947367,3.25531914893617,3.6610169491525424,3.0,3.761904761904762,5.0,3.6666666666666665,3.8333333333333335,4.25,3.34375,2.909090909090909,2.6923076923076925,3.5714285714285716,4.0,4.0,2.625,2.966666666666667,3.3157894736842106,2.9782608695652173,3.4827586206896552,3.9655172413793105,3.4,2.606060606060606,2.2941176470588234,3.3333333333333335,4.045454545454546,4.0,3.6666666666666665,2.6666666666666665,2.0,3.6666666666666665,3.3333333333333335,3.8461538461538463,3.111111111111111,2.142857142857143,3.4285714285714284,3.473684210526316,3.3333333333333335,3.3333333333333335,3.0,2.88,4.0,3.5454545454545454,3.6153846153846154,2.923076923076923,1.6,2.68,2.1666666666666665,1.8571428571428572,3.1666666666666665,3.5454545454545454,3.3181818181818183,4.1,3.074074074074074,3.142857142857143,3.6666666666666665,2.5714285714285716,3.25,3.4,3.3636363636363638,1.8571428571428572,2.473684210526316,2.111111111111111,2.5,2.5,2.3076923076923075,2.210526315789474,2.5,2.2777777777777777,3.3333333333333335,3.230769230769231,2.772727272727273,5.0,3.3636363636363638,4.333333333333333,3.3846153846153846,3.8,4.064516129032258,3.272727272727273,3.0,3.5555555555555554,3.142857142857143,2.869565217391304,3.2857142857142856,5.0,3.5,4.0476190476190474,3.611111111111111,3.0,2.6842105263157894,2.2941176470588234,2.85,2.533333333333333,2.736842105263158,3.4166666666666665,2.8333333333333335,2.1666666666666665,2.0,1.9333333333333333,3.0,2.871794871794872,3.4615384615384617,2.9,3.3333333333333335,3.4871794871794872,2.68,3.5,2.6666666666666665,2.642857142857143,3.375,2.375,2.4583333333333335,2.1538461538461537,1.8333333333333333,2.5,2.4705882352941178,3.5,2.375,4.0,3.0,3.5,3.125,2.4444444444444446,3.6538461538461537,2.6666666666666665,2.6,3.7142857142857144,2.9166666666666665,3.210526315789474,1.5714285714285714,1.8333333333333333,3.0,2.8333333333333335,1.5,4.125,3.0,2.4285714285714284,1.8181818181818181,2.25,2.0,1.75,2.5217391304347827,2.0,2.75,3.25,3.625,2.933333333333333,3.2857142857142856,3.0526315789473686,3.1666666666666665,3.0,3.3,3.9,2.2857142857142856,2.7142857142857144,1.8,2.7333333333333334,1.7272727272727273,2.5,2.5,3.4210526315789473,3.625,2.888888888888889,2.6875,3.1538461538461537,3.2222222222222223,2.6842105263157894,2.8461538461538463,3.1333333333333333,3.7058823529411766,1.3333333333333333,3.0,2.142857142857143,1.5,2.2,1.6666666666666667,5.0,3.142857142857143,2.5714285714285716,3.25,2.8333333333333335,3.6666666666666665,3.0,2.3333333333333335,3.8,3.4,2.3333333333333335,2.5,2.4285714285714284,3.0,1.5,1.0,1.0,3.0,2.5,3.0,3.142857142857143,2.4545454545454546,3.130434782608696,2.7142857142857144,2.0,1.3333333333333333,1.75,1.0,2.5,2.3333333333333335,2.6666666666666665,2.4,1.0,3.3333333333333335,2.3333333333333335,3.1666666666666665,1.0,2.5,3.0,2.0,2.8,1.0,2.6363636363636362,1.8,2.3333333333333335,2.25,1.0,1.0,1.0,2.5,1.0,3.2,2.0,2.4,2.75,1.0,1.0,1.5,2.0,1.0,2.6,1.0,2.6666666666666665,2.6666666666666665,2.6666666666666665,3.0,1.0,1.5,2.6666666666666665,2.0,1.0,1.0,1.5,1.0,4.2,3.6666666666666665,2.75,2.6666666666666665,1.5,3.0,1.0,1.0,3.6,2.142857142857143,3.25,2.2,2.857142857142857,2.3333333333333335,3.25,2.0,2.0,1.6666666666666667,2.8,2.6666666666666665,2.0,3.3333333333333335,3.0,2.0,2.0,2.0,2.111111111111111,2.4285714285714284,2.3333333333333335,4.2,3.2,4.5,2.4285714285714284,3.1,3.2222222222222223,2.75,2.75,3.230769230769231,3.3333333333333335,3.4,2.25,1.0,2.857142857142857,2.75,2.5714285714285716,1.6666666666666667,2.75,2.0,2.4444444444444446,2.4,2.5,3.6666666666666665,2.125,1.3333333333333333,3.1818181818181817,2.25,2.25,2.3333333333333335,2.6,3.25,2.8,3.6666666666666665,2.75,2.3333333333333335,3.4,1.0,2.0,2.5,2.5714285714285716,2.5,2.0,2.4,3.0,3.0,2.5714285714285716,2.4,3.75,2.473684210526316,2.75,3.1333333333333333,3.0,3.6666666666666665,4.625,4.0,3.8666666666666667,4.0,2.0,3.0,2.5,3.7142857142857144,3.0,4.0,3.5714285714285716,3.0,2.0,3.7142857142857144,3.3333333333333335,2.3333333333333335,2.3333333333333335,4.0,5.0,3.3333333333333335,3.1666666666666665,2.6,2.4444444444444446,3.5,3.5555555555555554,2.8333333333333335,2.875,2.0,2.5,2.7222222222222223,2.75,2.272727272727273,3.0,4.0,3.4166666666666665,2.6666666666666665,3.5,1.0,2.0,3.0,2.2,3.0,3.0,4.0,1.0,1.0,3.6,2.8,3.0,4.0,3.25,5.0,3.0,1.5,3.1,3.6666666666666665,4.0,3.6666666666666665,3.0,2.3333333333333335,1.6,3.0,3.2,4.0,2.0,3.142857142857143,4.0,4.0,2.8,3.0,3.0,3.0,3.0,2.4285714285714284,3.0,4.25,4.0,4.0,2.4285714285714284,2.3333333333333335,2.8,2.0,3.2857142857142856,2.0,4.0,2.1666666666666665,3.0,5.0,4.0,3.0,1.75,2.8,3.5,3.0,3.0,2.6666666666666665,2.5,1.0,3.0,1.0,1.5,3.0,2.0,2.0,2.75,3.0,2.6,2.0,1.0,3.5714285714285716,1.0,2.75,1.0,1.0,1.0,1.0,1.0,1.0,1.0,1.0,1.0,1.0,1.0,1.0,2.5,1.0,1.0,1.0,1.0,2.0,1.0,1.0,1.0,1.0,1.0,1.0,2.5,1.0,1.0,2.0,3.0,2.0,3.1666666666666665,3.6,4.0,4.5,2.0,2.0,3.0,2.5,5.0,3.75,1.0,3.3333333333333335,3.0,4.0,3.0,2.0,3.3333333333333335,2.25,1.6666666666666667,2.0,3.0,3.75,4.0,3.0,3.0,4.0,3.0,1.0,3.0,3.2222222222222223,1.0,2.3333333333333335,4.0,2.0,4.0,1.0,3.0,3.75,4.0,3.0,3.5,3.0,3.0,2.0,3.0,4.0,3.0,3.0,4.333333333333333,3.0,3.0,4.5,3.75,1.5,4.0,3.5,3.0,2.0,3.0,4.0,4.0,1.6666666666666667,5.0,1.0,2.0,3.5,3.0,3.0,1.0,2.0,1.0,2.5,2.0,3.25,2.0,2.0,3.0,3.0,2.0,3.0,1.0,2.0,3.0,4.0,3.0,2.0,3.0,1.0,3.0,2.0,3.0,3.0],\"y0\":\" \",\"yaxis\":\"y\",\"type\":\"violin\"}],                        {\"template\":{\"data\":{\"histogram2dcontour\":[{\"type\":\"histogram2dcontour\",\"colorbar\":{\"outlinewidth\":0,\"ticks\":\"\"},\"colorscale\":[[0.0,\"#0d0887\"],[0.1111111111111111,\"#46039f\"],[0.2222222222222222,\"#7201a8\"],[0.3333333333333333,\"#9c179e\"],[0.4444444444444444,\"#bd3786\"],[0.5555555555555556,\"#d8576b\"],[0.6666666666666666,\"#ed7953\"],[0.7777777777777778,\"#fb9f3a\"],[0.8888888888888888,\"#fdca26\"],[1.0,\"#f0f921\"]]}],\"choropleth\":[{\"type\":\"choropleth\",\"colorbar\":{\"outlinewidth\":0,\"ticks\":\"\"}}],\"histogram2d\":[{\"type\":\"histogram2d\",\"colorbar\":{\"outlinewidth\":0,\"ticks\":\"\"},\"colorscale\":[[0.0,\"#0d0887\"],[0.1111111111111111,\"#46039f\"],[0.2222222222222222,\"#7201a8\"],[0.3333333333333333,\"#9c179e\"],[0.4444444444444444,\"#bd3786\"],[0.5555555555555556,\"#d8576b\"],[0.6666666666666666,\"#ed7953\"],[0.7777777777777778,\"#fb9f3a\"],[0.8888888888888888,\"#fdca26\"],[1.0,\"#f0f921\"]]}],\"heatmap\":[{\"type\":\"heatmap\",\"colorbar\":{\"outlinewidth\":0,\"ticks\":\"\"},\"colorscale\":[[0.0,\"#0d0887\"],[0.1111111111111111,\"#46039f\"],[0.2222222222222222,\"#7201a8\"],[0.3333333333333333,\"#9c179e\"],[0.4444444444444444,\"#bd3786\"],[0.5555555555555556,\"#d8576b\"],[0.6666666666666666,\"#ed7953\"],[0.7777777777777778,\"#fb9f3a\"],[0.8888888888888888,\"#fdca26\"],[1.0,\"#f0f921\"]]}],\"heatmapgl\":[{\"type\":\"heatmapgl\",\"colorbar\":{\"outlinewidth\":0,\"ticks\":\"\"},\"colorscale\":[[0.0,\"#0d0887\"],[0.1111111111111111,\"#46039f\"],[0.2222222222222222,\"#7201a8\"],[0.3333333333333333,\"#9c179e\"],[0.4444444444444444,\"#bd3786\"],[0.5555555555555556,\"#d8576b\"],[0.6666666666666666,\"#ed7953\"],[0.7777777777777778,\"#fb9f3a\"],[0.8888888888888888,\"#fdca26\"],[1.0,\"#f0f921\"]]}],\"contourcarpet\":[{\"type\":\"contourcarpet\",\"colorbar\":{\"outlinewidth\":0,\"ticks\":\"\"}}],\"contour\":[{\"type\":\"contour\",\"colorbar\":{\"outlinewidth\":0,\"ticks\":\"\"},\"colorscale\":[[0.0,\"#0d0887\"],[0.1111111111111111,\"#46039f\"],[0.2222222222222222,\"#7201a8\"],[0.3333333333333333,\"#9c179e\"],[0.4444444444444444,\"#bd3786\"],[0.5555555555555556,\"#d8576b\"],[0.6666666666666666,\"#ed7953\"],[0.7777777777777778,\"#fb9f3a\"],[0.8888888888888888,\"#fdca26\"],[1.0,\"#f0f921\"]]}],\"surface\":[{\"type\":\"surface\",\"colorbar\":{\"outlinewidth\":0,\"ticks\":\"\"},\"colorscale\":[[0.0,\"#0d0887\"],[0.1111111111111111,\"#46039f\"],[0.2222222222222222,\"#7201a8\"],[0.3333333333333333,\"#9c179e\"],[0.4444444444444444,\"#bd3786\"],[0.5555555555555556,\"#d8576b\"],[0.6666666666666666,\"#ed7953\"],[0.7777777777777778,\"#fb9f3a\"],[0.8888888888888888,\"#fdca26\"],[1.0,\"#f0f921\"]]}],\"mesh3d\":[{\"type\":\"mesh3d\",\"colorbar\":{\"outlinewidth\":0,\"ticks\":\"\"}}],\"scatter\":[{\"fillpattern\":{\"fillmode\":\"overlay\",\"size\":10,\"solidity\":0.2},\"type\":\"scatter\"}],\"parcoords\":[{\"type\":\"parcoords\",\"line\":{\"colorbar\":{\"outlinewidth\":0,\"ticks\":\"\"}}}],\"scatterpolargl\":[{\"type\":\"scatterpolargl\",\"marker\":{\"colorbar\":{\"outlinewidth\":0,\"ticks\":\"\"}}}],\"bar\":[{\"error_x\":{\"color\":\"#2a3f5f\"},\"error_y\":{\"color\":\"#2a3f5f\"},\"marker\":{\"line\":{\"color\":\"#E5ECF6\",\"width\":0.5},\"pattern\":{\"fillmode\":\"overlay\",\"size\":10,\"solidity\":0.2}},\"type\":\"bar\"}],\"scattergeo\":[{\"type\":\"scattergeo\",\"marker\":{\"colorbar\":{\"outlinewidth\":0,\"ticks\":\"\"}}}],\"scatterpolar\":[{\"type\":\"scatterpolar\",\"marker\":{\"colorbar\":{\"outlinewidth\":0,\"ticks\":\"\"}}}],\"histogram\":[{\"marker\":{\"pattern\":{\"fillmode\":\"overlay\",\"size\":10,\"solidity\":0.2}},\"type\":\"histogram\"}],\"scattergl\":[{\"type\":\"scattergl\",\"marker\":{\"colorbar\":{\"outlinewidth\":0,\"ticks\":\"\"}}}],\"scatter3d\":[{\"type\":\"scatter3d\",\"line\":{\"colorbar\":{\"outlinewidth\":0,\"ticks\":\"\"}},\"marker\":{\"colorbar\":{\"outlinewidth\":0,\"ticks\":\"\"}}}],\"scattermapbox\":[{\"type\":\"scattermapbox\",\"marker\":{\"colorbar\":{\"outlinewidth\":0,\"ticks\":\"\"}}}],\"scatterternary\":[{\"type\":\"scatterternary\",\"marker\":{\"colorbar\":{\"outlinewidth\":0,\"ticks\":\"\"}}}],\"scattercarpet\":[{\"type\":\"scattercarpet\",\"marker\":{\"colorbar\":{\"outlinewidth\":0,\"ticks\":\"\"}}}],\"carpet\":[{\"aaxis\":{\"endlinecolor\":\"#2a3f5f\",\"gridcolor\":\"white\",\"linecolor\":\"white\",\"minorgridcolor\":\"white\",\"startlinecolor\":\"#2a3f5f\"},\"baxis\":{\"endlinecolor\":\"#2a3f5f\",\"gridcolor\":\"white\",\"linecolor\":\"white\",\"minorgridcolor\":\"white\",\"startlinecolor\":\"#2a3f5f\"},\"type\":\"carpet\"}],\"table\":[{\"cells\":{\"fill\":{\"color\":\"#EBF0F8\"},\"line\":{\"color\":\"white\"}},\"header\":{\"fill\":{\"color\":\"#C8D4E3\"},\"line\":{\"color\":\"white\"}},\"type\":\"table\"}],\"barpolar\":[{\"marker\":{\"line\":{\"color\":\"#E5ECF6\",\"width\":0.5},\"pattern\":{\"fillmode\":\"overlay\",\"size\":10,\"solidity\":0.2}},\"type\":\"barpolar\"}],\"pie\":[{\"automargin\":true,\"type\":\"pie\"}]},\"layout\":{\"autotypenumbers\":\"strict\",\"colorway\":[\"#636efa\",\"#EF553B\",\"#00cc96\",\"#ab63fa\",\"#FFA15A\",\"#19d3f3\",\"#FF6692\",\"#B6E880\",\"#FF97FF\",\"#FECB52\"],\"font\":{\"color\":\"#2a3f5f\"},\"hovermode\":\"closest\",\"hoverlabel\":{\"align\":\"left\"},\"paper_bgcolor\":\"white\",\"plot_bgcolor\":\"#E5ECF6\",\"polar\":{\"bgcolor\":\"#E5ECF6\",\"angularaxis\":{\"gridcolor\":\"white\",\"linecolor\":\"white\",\"ticks\":\"\"},\"radialaxis\":{\"gridcolor\":\"white\",\"linecolor\":\"white\",\"ticks\":\"\"}},\"ternary\":{\"bgcolor\":\"#E5ECF6\",\"aaxis\":{\"gridcolor\":\"white\",\"linecolor\":\"white\",\"ticks\":\"\"},\"baxis\":{\"gridcolor\":\"white\",\"linecolor\":\"white\",\"ticks\":\"\"},\"caxis\":{\"gridcolor\":\"white\",\"linecolor\":\"white\",\"ticks\":\"\"}},\"coloraxis\":{\"colorbar\":{\"outlinewidth\":0,\"ticks\":\"\"}},\"colorscale\":{\"sequential\":[[0.0,\"#0d0887\"],[0.1111111111111111,\"#46039f\"],[0.2222222222222222,\"#7201a8\"],[0.3333333333333333,\"#9c179e\"],[0.4444444444444444,\"#bd3786\"],[0.5555555555555556,\"#d8576b\"],[0.6666666666666666,\"#ed7953\"],[0.7777777777777778,\"#fb9f3a\"],[0.8888888888888888,\"#fdca26\"],[1.0,\"#f0f921\"]],\"sequentialminus\":[[0.0,\"#0d0887\"],[0.1111111111111111,\"#46039f\"],[0.2222222222222222,\"#7201a8\"],[0.3333333333333333,\"#9c179e\"],[0.4444444444444444,\"#bd3786\"],[0.5555555555555556,\"#d8576b\"],[0.6666666666666666,\"#ed7953\"],[0.7777777777777778,\"#fb9f3a\"],[0.8888888888888888,\"#fdca26\"],[1.0,\"#f0f921\"]],\"diverging\":[[0,\"#8e0152\"],[0.1,\"#c51b7d\"],[0.2,\"#de77ae\"],[0.3,\"#f1b6da\"],[0.4,\"#fde0ef\"],[0.5,\"#f7f7f7\"],[0.6,\"#e6f5d0\"],[0.7,\"#b8e186\"],[0.8,\"#7fbc41\"],[0.9,\"#4d9221\"],[1,\"#276419\"]]},\"xaxis\":{\"gridcolor\":\"white\",\"linecolor\":\"white\",\"ticks\":\"\",\"title\":{\"standoff\":15},\"zerolinecolor\":\"white\",\"automargin\":true,\"zerolinewidth\":2},\"yaxis\":{\"gridcolor\":\"white\",\"linecolor\":\"white\",\"ticks\":\"\",\"title\":{\"standoff\":15},\"zerolinecolor\":\"white\",\"automargin\":true,\"zerolinewidth\":2},\"scene\":{\"xaxis\":{\"backgroundcolor\":\"#E5ECF6\",\"gridcolor\":\"white\",\"linecolor\":\"white\",\"showbackground\":true,\"ticks\":\"\",\"zerolinecolor\":\"white\",\"gridwidth\":2},\"yaxis\":{\"backgroundcolor\":\"#E5ECF6\",\"gridcolor\":\"white\",\"linecolor\":\"white\",\"showbackground\":true,\"ticks\":\"\",\"zerolinecolor\":\"white\",\"gridwidth\":2},\"zaxis\":{\"backgroundcolor\":\"#E5ECF6\",\"gridcolor\":\"white\",\"linecolor\":\"white\",\"showbackground\":true,\"ticks\":\"\",\"zerolinecolor\":\"white\",\"gridwidth\":2}},\"shapedefaults\":{\"line\":{\"color\":\"#2a3f5f\"}},\"annotationdefaults\":{\"arrowcolor\":\"#2a3f5f\",\"arrowhead\":0,\"arrowwidth\":1},\"geo\":{\"bgcolor\":\"white\",\"landcolor\":\"#E5ECF6\",\"subunitcolor\":\"white\",\"showland\":true,\"showlakes\":true,\"lakecolor\":\"white\"},\"title\":{\"x\":0.05},\"mapbox\":{\"style\":\"light\"}}},\"xaxis\":{\"anchor\":\"y\",\"domain\":[0.0,1.0]},\"yaxis\":{\"anchor\":\"x\",\"domain\":[0.0,1.0],\"title\":{\"text\":\"mean\"}},\"legend\":{\"tracegroupgap\":0},\"margin\":{\"t\":60},\"violinmode\":\"group\"},                        {\"responsive\": true}                    ).then(function(){\n",
       "                            \n",
       "var gd = document.getElementById('3d2d4bca-9b47-4b7c-a058-2f356bdbd62f');\n",
       "var x = new MutationObserver(function (mutations, observer) {{\n",
       "        var display = window.getComputedStyle(gd).display;\n",
       "        if (!display || display === 'none') {{\n",
       "            console.log([gd, 'removed!']);\n",
       "            Plotly.purge(gd);\n",
       "            observer.disconnect();\n",
       "        }}\n",
       "}});\n",
       "\n",
       "// Listen for the removal of the full notebook cells\n",
       "var notebookContainer = gd.closest('#notebook-container');\n",
       "if (notebookContainer) {{\n",
       "    x.observe(notebookContainer, {childList: true});\n",
       "}}\n",
       "\n",
       "// Listen for the clearing of the current output cell\n",
       "var outputEl = gd.closest('.output');\n",
       "if (outputEl) {{\n",
       "    x.observe(outputEl, {childList: true});\n",
       "}}\n",
       "\n",
       "                        })                };                });            </script>        </div>"
      ]
     },
     "metadata": {},
     "output_type": "display_data"
    }
   ],
   "source": [
    "# violin plot based on movie_id \n",
    "fig = px.violin(movies_stats, y=\"mean\", box=True, points=\"all\",\n",
    "          hover_data=data.columns)\n",
    "fig.show()"
   ]
  },
  {
   "cell_type": "code",
   "execution_count": null,
   "metadata": {},
   "outputs": [
    {
     "name": "stdout",
     "output_type": "stream",
     "text": [
      "User-Movie Matrix:\n",
      "item_id  1     2     3     4     5     6     7     8     9     10    ...  \\\n",
      "user_id                                                              ...   \n",
      "1         5.0   3.0   4.0   3.0   3.0   5.0   4.0   1.0   5.0   3.0  ...   \n",
      "2         4.0   NaN   NaN   NaN   NaN   NaN   NaN   NaN   NaN   2.0  ...   \n",
      "3         NaN   NaN   NaN   NaN   NaN   NaN   NaN   NaN   NaN   NaN  ...   \n",
      "4         NaN   NaN   NaN   NaN   NaN   NaN   NaN   NaN   NaN   NaN  ...   \n",
      "5         4.0   3.0   NaN   NaN   NaN   NaN   NaN   NaN   NaN   NaN  ...   \n",
      "6         4.0   NaN   NaN   NaN   NaN   NaN   2.0   4.0   4.0   NaN  ...   \n",
      "7         NaN   NaN   NaN   5.0   NaN   NaN   5.0   5.0   5.0   4.0  ...   \n",
      "8         NaN   NaN   NaN   NaN   NaN   NaN   3.0   NaN   NaN   NaN  ...   \n",
      "9         NaN   NaN   NaN   NaN   NaN   5.0   4.0   NaN   NaN   NaN  ...   \n",
      "10        4.0   NaN   NaN   4.0   NaN   NaN   4.0   NaN   4.0   NaN  ...   \n",
      "11        NaN   NaN   NaN   NaN   NaN   NaN   NaN   4.0   5.0   NaN  ...   \n",
      "12        NaN   NaN   NaN   5.0   NaN   NaN   NaN   NaN   NaN   NaN  ...   \n",
      "13        3.0   3.0   NaN   5.0   1.0   NaN   2.0   4.0   3.0   NaN  ...   \n",
      "14        NaN   NaN   NaN   NaN   NaN   NaN   5.0   NaN   4.0   NaN  ...   \n",
      "15        1.0   NaN   NaN   NaN   NaN   NaN   1.0   NaN   4.0   NaN  ...   \n",
      "\n",
      "item_id  1673  1674  1675  1676  1677  1678  1679  1680  1681  1682  \n",
      "user_id                                                              \n",
      "1         NaN   NaN   NaN   NaN   NaN   NaN   NaN   NaN   NaN   NaN  \n",
      "2         NaN   NaN   NaN   NaN   NaN   NaN   NaN   NaN   NaN   NaN  \n",
      "3         NaN   NaN   NaN   NaN   NaN   NaN   NaN   NaN   NaN   NaN  \n",
      "4         NaN   NaN   NaN   NaN   NaN   NaN   NaN   NaN   NaN   NaN  \n",
      "5         NaN   NaN   NaN   NaN   NaN   NaN   NaN   NaN   NaN   NaN  \n",
      "6         NaN   NaN   NaN   NaN   NaN   NaN   NaN   NaN   NaN   NaN  \n",
      "7         NaN   NaN   NaN   NaN   NaN   NaN   NaN   NaN   NaN   NaN  \n",
      "8         NaN   NaN   NaN   NaN   NaN   NaN   NaN   NaN   NaN   NaN  \n",
      "9         NaN   NaN   NaN   NaN   NaN   NaN   NaN   NaN   NaN   NaN  \n",
      "10        NaN   NaN   NaN   NaN   NaN   NaN   NaN   NaN   NaN   NaN  \n",
      "11        NaN   NaN   NaN   NaN   NaN   NaN   NaN   NaN   NaN   NaN  \n",
      "12        NaN   NaN   NaN   NaN   NaN   NaN   NaN   NaN   NaN   NaN  \n",
      "13        NaN   NaN   NaN   NaN   NaN   NaN   NaN   NaN   NaN   NaN  \n",
      "14        NaN   NaN   NaN   NaN   NaN   NaN   NaN   NaN   NaN   NaN  \n",
      "15        NaN   NaN   NaN   NaN   NaN   NaN   NaN   NaN   NaN   NaN  \n",
      "\n",
      "[15 rows x 1682 columns]\n"
     ]
    }
   ],
   "source": [
    "# Convert the data to a user-item matrix format\n",
    "user_movie_ratings_matrix = ratings.pivot(index='user_id', columns='item_id', values='rating')\n",
    "\n",
    "# Display the user-item matrix\n",
    "print(\"User-Movie Matrix:\")\n",
    "print(user_movie_ratings_matrix.head(15))\n",
    "\n",
    "# Save the user-item matrix to a CSV file to investigate if it was correct\n",
    "user_movie_ratings_matrix.to_csv('user_movie_ratings_matrix.csv')\n"
   ]
  },
  {
   "cell_type": "code",
   "execution_count": null,
   "metadata": {},
   "outputs": [],
   "source": [
    "### Q2: Basic Recommender System"
   ]
  },
  {
   "cell_type": "code",
   "execution_count": null,
   "metadata": {},
   "outputs": [
    {
     "name": "stdout",
     "output_type": "stream",
     "text": [
      "Training set shape: (754, 1682)\n",
      "Test set shape: (189, 1682)\n"
     ]
    }
   ],
   "source": [
    "#Splitting the dataset into training set and test set using sklearn.model_selection--->train_test_split\n",
    "#https://scikit-learn.org/1.5/modules/generated/sklearn.model_selection.train_test_split.html\n",
    "split = user_movie_ratings_matrix.to_numpy()\n",
    "x_train, x_test = train_test_split(split, test_size=0.2)\n",
    "print(f\"Training set shape: {x_train.shape}\")\n",
    "print(f\"Test set shape: {x_test.shape}\")"
   ]
  },
  {
   "cell_type": "code",
   "execution_count": null,
   "metadata": {},
   "outputs": [
    {
     "data": {
      "text/html": [
       "<div>\n",
       "<style scoped>\n",
       "    .dataframe tbody tr th:only-of-type {\n",
       "        vertical-align: middle;\n",
       "    }\n",
       "\n",
       "    .dataframe tbody tr th {\n",
       "        vertical-align: top;\n",
       "    }\n",
       "\n",
       "    .dataframe thead th {\n",
       "        text-align: right;\n",
       "    }\n",
       "</style>\n",
       "<table border=\"1\" class=\"dataframe\">\n",
       "  <thead>\n",
       "    <tr style=\"text-align: right;\">\n",
       "      <th></th>\n",
       "      <th>user_id</th>\n",
       "      <th>item_id</th>\n",
       "      <th>rating</th>\n",
       "      <th>timestamp</th>\n",
       "    </tr>\n",
       "  </thead>\n",
       "  <tbody>\n",
       "    <tr>\n",
       "      <th>13858</th>\n",
       "      <td>189</td>\n",
       "      <td>510</td>\n",
       "      <td>5</td>\n",
       "      <td>893266326</td>\n",
       "    </tr>\n",
       "    <tr>\n",
       "      <th>30315</th>\n",
       "      <td>243</td>\n",
       "      <td>1465</td>\n",
       "      <td>3</td>\n",
       "      <td>879988215</td>\n",
       "    </tr>\n",
       "    <tr>\n",
       "      <th>69011</th>\n",
       "      <td>882</td>\n",
       "      <td>932</td>\n",
       "      <td>4</td>\n",
       "      <td>879863969</td>\n",
       "    </tr>\n",
       "    <tr>\n",
       "      <th>8845</th>\n",
       "      <td>89</td>\n",
       "      <td>949</td>\n",
       "      <td>3</td>\n",
       "      <td>879460027</td>\n",
       "    </tr>\n",
       "    <tr>\n",
       "      <th>24134</th>\n",
       "      <td>144</td>\n",
       "      <td>196</td>\n",
       "      <td>4</td>\n",
       "      <td>888105743</td>\n",
       "    </tr>\n",
       "    <tr>\n",
       "      <th>89930</th>\n",
       "      <td>880</td>\n",
       "      <td>109</td>\n",
       "      <td>4</td>\n",
       "      <td>880167114</td>\n",
       "    </tr>\n",
       "    <tr>\n",
       "      <th>89252</th>\n",
       "      <td>903</td>\n",
       "      <td>346</td>\n",
       "      <td>3</td>\n",
       "      <td>891380391</td>\n",
       "    </tr>\n",
       "    <tr>\n",
       "      <th>3229</th>\n",
       "      <td>292</td>\n",
       "      <td>653</td>\n",
       "      <td>4</td>\n",
       "      <td>881105442</td>\n",
       "    </tr>\n",
       "    <tr>\n",
       "      <th>24437</th>\n",
       "      <td>360</td>\n",
       "      <td>405</td>\n",
       "      <td>3</td>\n",
       "      <td>880354347</td>\n",
       "    </tr>\n",
       "    <tr>\n",
       "      <th>71257</th>\n",
       "      <td>776</td>\n",
       "      <td>708</td>\n",
       "      <td>5</td>\n",
       "      <td>891628599</td>\n",
       "    </tr>\n",
       "  </tbody>\n",
       "</table>\n",
       "</div>"
      ],
      "text/plain": [
       "       user_id  item_id  rating  timestamp\n",
       "13858      189      510       5  893266326\n",
       "30315      243     1465       3  879988215\n",
       "69011      882      932       4  879863969\n",
       "8845        89      949       3  879460027\n",
       "24134      144      196       4  888105743\n",
       "89930      880      109       4  880167114\n",
       "89252      903      346       3  891380391\n",
       "3229       292      653       4  881105442\n",
       "24437      360      405       3  880354347\n",
       "71257      776      708       5  891628599"
      ]
     },
     "execution_count": 204,
     "metadata": {},
     "output_type": "execute_result"
    }
   ],
   "source": [
    "#####sort = ratings.sort_values(by='rating', ascending=False).head(5)-->To be removed\n",
    "#Find the movies rated with a 5\n",
    "top_rated_movies = ratings[ratings['rating'] == 5]\n",
    "#Find the movies that have been rated with a 5 the most times\n",
    "count_top_rated_by_item_id = top_rated_movies.groupby('item_id')['rating'].count()\n",
    "#Top 10 movies rated with a 5 the most amount of times. This is the recommendation for each user of the test set\n",
    "sorted_top_movies = count_top_rated_by_item_id.sort_values(ascending=False).head(10)\n",
    "sorted_top_movies\n",
    "#Recommends 10 movies at random\n",
    "#https://saturncloud.io/blog/random-row-selection-in-pandas-dataframe/\n",
    "random_indices = np.random.randint(0, len(ratings), size=10)\n",
    "random_rows = ratings.iloc[random_indices]\n",
    "random_rows"
   ]
  },
  {
   "cell_type": "code",
   "execution_count": null,
   "metadata": {},
   "outputs": [],
   "source": []
  },
  {
   "cell_type": "code",
   "execution_count": null,
   "metadata": {},
   "outputs": [
    {
     "ename": "KeyError",
     "evalue": "'release_date'",
     "output_type": "error",
     "traceback": [
      "\u001b[0;31m---------------------------------------------------------------------------\u001b[0m",
      "\u001b[0;31mKeyError\u001b[0m                                  Traceback (most recent call last)",
      "File \u001b[0;32m~/.local/lib/python3.12/site-packages/pandas/core/indexes/base.py:3805\u001b[0m, in \u001b[0;36mIndex.get_loc\u001b[0;34m(self, key)\u001b[0m\n\u001b[1;32m   3804\u001b[0m \u001b[38;5;28;01mtry\u001b[39;00m:\n\u001b[0;32m-> 3805\u001b[0m     \u001b[38;5;28;01mreturn\u001b[39;00m \u001b[38;5;28;43mself\u001b[39;49m\u001b[38;5;241;43m.\u001b[39;49m\u001b[43m_engine\u001b[49m\u001b[38;5;241;43m.\u001b[39;49m\u001b[43mget_loc\u001b[49m\u001b[43m(\u001b[49m\u001b[43mcasted_key\u001b[49m\u001b[43m)\u001b[49m\n\u001b[1;32m   3806\u001b[0m \u001b[38;5;28;01mexcept\u001b[39;00m \u001b[38;5;167;01mKeyError\u001b[39;00m \u001b[38;5;28;01mas\u001b[39;00m err:\n",
      "File \u001b[0;32mindex.pyx:167\u001b[0m, in \u001b[0;36mpandas._libs.index.IndexEngine.get_loc\u001b[0;34m()\u001b[0m\n",
      "File \u001b[0;32mindex.pyx:196\u001b[0m, in \u001b[0;36mpandas._libs.index.IndexEngine.get_loc\u001b[0;34m()\u001b[0m\n",
      "File \u001b[0;32mpandas/_libs/hashtable_class_helper.pxi:7081\u001b[0m, in \u001b[0;36mpandas._libs.hashtable.PyObjectHashTable.get_item\u001b[0;34m()\u001b[0m\n",
      "File \u001b[0;32mpandas/_libs/hashtable_class_helper.pxi:7089\u001b[0m, in \u001b[0;36mpandas._libs.hashtable.PyObjectHashTable.get_item\u001b[0;34m()\u001b[0m\n",
      "\u001b[0;31mKeyError\u001b[0m: 'release_date'",
      "\nThe above exception was the direct cause of the following exception:\n",
      "\u001b[0;31mKeyError\u001b[0m                                  Traceback (most recent call last)",
      "Cell \u001b[0;32mIn[205], line 2\u001b[0m\n\u001b[1;32m      1\u001b[0m \u001b[38;5;66;03m# datetype=object to date-type. Keep the year\u001b[39;00m\n\u001b[0;32m----> 2\u001b[0m data[\u001b[38;5;124m'\u001b[39m\u001b[38;5;124mrelease_date\u001b[39m\u001b[38;5;124m'\u001b[39m] \u001b[38;5;241m=\u001b[39m pd\u001b[38;5;241m.\u001b[39mto_datetime(\u001b[43mdata\u001b[49m\u001b[43m[\u001b[49m\u001b[38;5;124;43m'\u001b[39;49m\u001b[38;5;124;43mrelease_date\u001b[39;49m\u001b[38;5;124;43m'\u001b[39;49m\u001b[43m]\u001b[49m)\n\u001b[1;32m      3\u001b[0m \u001b[38;5;66;03m#remove genre columns\u001b[39;00m\n\u001b[1;32m      4\u001b[0m \u001b[38;5;66;03m# In order to have a 'cleaner' view of our data we dropped some columns.\u001b[39;00m\n\u001b[1;32m      5\u001b[0m data\u001b[38;5;241m.\u001b[39mdrop([\u001b[38;5;124m'\u001b[39m\u001b[38;5;124mgenre_0\u001b[39m\u001b[38;5;124m'\u001b[39m,  \u001b[38;5;124m'\u001b[39m\u001b[38;5;124mgenre_1\u001b[39m\u001b[38;5;124m'\u001b[39m,\u001b[38;5;124m'\u001b[39m\u001b[38;5;124mgenre_2\u001b[39m\u001b[38;5;124m'\u001b[39m,\u001b[38;5;124m'\u001b[39m\u001b[38;5;124mgenre_3\u001b[39m\u001b[38;5;124m'\u001b[39m,\u001b[38;5;124m'\u001b[39m\u001b[38;5;124mgenre_4\u001b[39m\u001b[38;5;124m'\u001b[39m,\u001b[38;5;124m'\u001b[39m\u001b[38;5;124mgenre_5\u001b[39m\u001b[38;5;124m'\u001b[39m,\u001b[38;5;124m'\u001b[39m\u001b[38;5;124mgenre_6\u001b[39m\u001b[38;5;124m'\u001b[39m,\u001b[38;5;124m'\u001b[39m\u001b[38;5;124mgenre_7\u001b[39m\u001b[38;5;124m'\u001b[39m,\u001b[38;5;124m'\u001b[39m\u001b[38;5;124mgenre_8\u001b[39m\u001b[38;5;124m'\u001b[39m,\u001b[38;5;124m'\u001b[39m\u001b[38;5;124mgenre_9\u001b[39m\u001b[38;5;124m'\u001b[39m,\u001b[38;5;124m'\u001b[39m\u001b[38;5;124mgenre_10\u001b[39m\u001b[38;5;124m'\u001b[39m, \u001b[38;5;124m'\u001b[39m\u001b[38;5;124mgenre_11\u001b[39m\u001b[38;5;124m'\u001b[39m,\u001b[38;5;124m'\u001b[39m\u001b[38;5;124mgenre_12\u001b[39m\u001b[38;5;124m'\u001b[39m,\u001b[38;5;124m'\u001b[39m\u001b[38;5;124mgenre_13\u001b[39m\u001b[38;5;124m'\u001b[39m,\u001b[38;5;124m'\u001b[39m\u001b[38;5;124mgenre_14\u001b[39m\u001b[38;5;124m'\u001b[39m,\u001b[38;5;124m'\u001b[39m\u001b[38;5;124mgenre_15\u001b[39m\u001b[38;5;124m'\u001b[39m,\u001b[38;5;124m'\u001b[39m\u001b[38;5;124mgenre_16\u001b[39m\u001b[38;5;124m'\u001b[39m,\u001b[38;5;124m'\u001b[39m\u001b[38;5;124mgenre_17\u001b[39m\u001b[38;5;124m'\u001b[39m,\u001b[38;5;124m'\u001b[39m\u001b[38;5;124mgenre_18\u001b[39m\u001b[38;5;124m'\u001b[39m, \u001b[38;5;124m'\u001b[39m\u001b[38;5;124muser_id\u001b[39m\u001b[38;5;124m'\u001b[39m],\n\u001b[1;32m      6\u001b[0m           axis \u001b[38;5;241m=\u001b[39m \u001b[38;5;241m1\u001b[39m, inplace \u001b[38;5;241m=\u001b[39m \u001b[38;5;28;01mTrue\u001b[39;00m)\n",
      "File \u001b[0;32m~/.local/lib/python3.12/site-packages/pandas/core/frame.py:4102\u001b[0m, in \u001b[0;36mDataFrame.__getitem__\u001b[0;34m(self, key)\u001b[0m\n\u001b[1;32m   4100\u001b[0m \u001b[38;5;28;01mif\u001b[39;00m \u001b[38;5;28mself\u001b[39m\u001b[38;5;241m.\u001b[39mcolumns\u001b[38;5;241m.\u001b[39mnlevels \u001b[38;5;241m>\u001b[39m \u001b[38;5;241m1\u001b[39m:\n\u001b[1;32m   4101\u001b[0m     \u001b[38;5;28;01mreturn\u001b[39;00m \u001b[38;5;28mself\u001b[39m\u001b[38;5;241m.\u001b[39m_getitem_multilevel(key)\n\u001b[0;32m-> 4102\u001b[0m indexer \u001b[38;5;241m=\u001b[39m \u001b[38;5;28;43mself\u001b[39;49m\u001b[38;5;241;43m.\u001b[39;49m\u001b[43mcolumns\u001b[49m\u001b[38;5;241;43m.\u001b[39;49m\u001b[43mget_loc\u001b[49m\u001b[43m(\u001b[49m\u001b[43mkey\u001b[49m\u001b[43m)\u001b[49m\n\u001b[1;32m   4103\u001b[0m \u001b[38;5;28;01mif\u001b[39;00m is_integer(indexer):\n\u001b[1;32m   4104\u001b[0m     indexer \u001b[38;5;241m=\u001b[39m [indexer]\n",
      "File \u001b[0;32m~/.local/lib/python3.12/site-packages/pandas/core/indexes/base.py:3812\u001b[0m, in \u001b[0;36mIndex.get_loc\u001b[0;34m(self, key)\u001b[0m\n\u001b[1;32m   3807\u001b[0m     \u001b[38;5;28;01mif\u001b[39;00m \u001b[38;5;28misinstance\u001b[39m(casted_key, \u001b[38;5;28mslice\u001b[39m) \u001b[38;5;129;01mor\u001b[39;00m (\n\u001b[1;32m   3808\u001b[0m         \u001b[38;5;28misinstance\u001b[39m(casted_key, abc\u001b[38;5;241m.\u001b[39mIterable)\n\u001b[1;32m   3809\u001b[0m         \u001b[38;5;129;01mand\u001b[39;00m \u001b[38;5;28many\u001b[39m(\u001b[38;5;28misinstance\u001b[39m(x, \u001b[38;5;28mslice\u001b[39m) \u001b[38;5;28;01mfor\u001b[39;00m x \u001b[38;5;129;01min\u001b[39;00m casted_key)\n\u001b[1;32m   3810\u001b[0m     ):\n\u001b[1;32m   3811\u001b[0m         \u001b[38;5;28;01mraise\u001b[39;00m InvalidIndexError(key)\n\u001b[0;32m-> 3812\u001b[0m     \u001b[38;5;28;01mraise\u001b[39;00m \u001b[38;5;167;01mKeyError\u001b[39;00m(key) \u001b[38;5;28;01mfrom\u001b[39;00m \u001b[38;5;21;01merr\u001b[39;00m\n\u001b[1;32m   3813\u001b[0m \u001b[38;5;28;01mexcept\u001b[39;00m \u001b[38;5;167;01mTypeError\u001b[39;00m:\n\u001b[1;32m   3814\u001b[0m     \u001b[38;5;66;03m# If we have a listlike key, _check_indexing_error will raise\u001b[39;00m\n\u001b[1;32m   3815\u001b[0m     \u001b[38;5;66;03m#  InvalidIndexError. Otherwise we fall through and re-raise\u001b[39;00m\n\u001b[1;32m   3816\u001b[0m     \u001b[38;5;66;03m#  the TypeError.\u001b[39;00m\n\u001b[1;32m   3817\u001b[0m     \u001b[38;5;28mself\u001b[39m\u001b[38;5;241m.\u001b[39m_check_indexing_error(key)\n",
      "\u001b[0;31mKeyError\u001b[0m: 'release_date'"
     ]
    }
   ],
   "source": [
    "# datetype=object to date-type. Keep the year\n",
    "data['release_date'] = pd.to_datetime(data['release_date'])\n",
    "#remove genre columns\n",
    "# In order to have a 'cleaner' view of our data we dropped some columns.\n",
    "data.drop(['genre_0',  'genre_1','genre_2','genre_3','genre_4','genre_5','genre_6','genre_7','genre_8','genre_9','genre_10', 'genre_11','genre_12','genre_13','genre_14','genre_15','genre_16','genre_17','genre_18', 'user_id'],\n",
    "          axis = 1, inplace = True)"
   ]
  },
  {
   "cell_type": "code",
   "execution_count": null,
   "metadata": {},
   "outputs": [
    {
     "data": {
      "text/html": [
       "<div>\n",
       "<style scoped>\n",
       "    .dataframe tbody tr th:only-of-type {\n",
       "        vertical-align: middle;\n",
       "    }\n",
       "\n",
       "    .dataframe tbody tr th {\n",
       "        vertical-align: top;\n",
       "    }\n",
       "\n",
       "    .dataframe thead th {\n",
       "        text-align: right;\n",
       "    }\n",
       "</style>\n",
       "<table border=\"1\" class=\"dataframe\">\n",
       "  <thead>\n",
       "    <tr style=\"text-align: right;\">\n",
       "      <th></th>\n",
       "      <th>movie_id</th>\n",
       "      <th>rating</th>\n",
       "      <th>rating_count</th>\n",
       "    </tr>\n",
       "  </thead>\n",
       "  <tbody>\n",
       "    <tr>\n",
       "      <th>813</th>\n",
       "      <td>814</td>\n",
       "      <td>5.000</td>\n",
       "      <td>1682</td>\n",
       "    </tr>\n",
       "    <tr>\n",
       "      <th>1121</th>\n",
       "      <td>1122</td>\n",
       "      <td>5.000</td>\n",
       "      <td>1682</td>\n",
       "    </tr>\n",
       "    <tr>\n",
       "      <th>1188</th>\n",
       "      <td>1189</td>\n",
       "      <td>5.000</td>\n",
       "      <td>1682</td>\n",
       "    </tr>\n",
       "    <tr>\n",
       "      <th>1200</th>\n",
       "      <td>1201</td>\n",
       "      <td>5.000</td>\n",
       "      <td>1682</td>\n",
       "    </tr>\n",
       "    <tr>\n",
       "      <th>1292</th>\n",
       "      <td>1293</td>\n",
       "      <td>5.000</td>\n",
       "      <td>1682</td>\n",
       "    </tr>\n",
       "    <tr>\n",
       "      <th>1448</th>\n",
       "      <td>1449</td>\n",
       "      <td>4.625</td>\n",
       "      <td>1682</td>\n",
       "    </tr>\n",
       "    <tr>\n",
       "      <th>1466</th>\n",
       "      <td>1467</td>\n",
       "      <td>5.000</td>\n",
       "      <td>1682</td>\n",
       "    </tr>\n",
       "    <tr>\n",
       "      <th>1499</th>\n",
       "      <td>1500</td>\n",
       "      <td>5.000</td>\n",
       "      <td>1682</td>\n",
       "    </tr>\n",
       "    <tr>\n",
       "      <th>1535</th>\n",
       "      <td>1536</td>\n",
       "      <td>5.000</td>\n",
       "      <td>1682</td>\n",
       "    </tr>\n",
       "    <tr>\n",
       "      <th>1598</th>\n",
       "      <td>1599</td>\n",
       "      <td>5.000</td>\n",
       "      <td>1682</td>\n",
       "    </tr>\n",
       "    <tr>\n",
       "      <th>1652</th>\n",
       "      <td>1653</td>\n",
       "      <td>5.000</td>\n",
       "      <td>1682</td>\n",
       "    </tr>\n",
       "  </tbody>\n",
       "</table>\n",
       "</div>"
      ],
      "text/plain": [
       "      movie_id  rating  rating_count\n",
       "813        814   5.000          1682\n",
       "1121      1122   5.000          1682\n",
       "1188      1189   5.000          1682\n",
       "1200      1201   5.000          1682\n",
       "1292      1293   5.000          1682\n",
       "1448      1449   4.625          1682\n",
       "1466      1467   5.000          1682\n",
       "1499      1500   5.000          1682\n",
       "1535      1536   5.000          1682\n",
       "1598      1599   5.000          1682\n",
       "1652      1653   5.000          1682"
      ]
     },
     "execution_count": 31,
     "metadata": {},
     "output_type": "execute_result"
    }
   ],
   "source": [
    "#Let's find mean rating per movie.\n",
    "mean_rating_per_movie = data.groupby('movie_id').agg({'rating': 'mean'}).reset_index()\n",
    "mean_rating_per_movie['rating_count'] = mean_rating_per_movie['rating'].count()\n",
    "#Top ratest movies\n",
    "top_rated_movies = mean_rating_per_movie[mean_rating_per_movie.rating > 4.5]\n",
    "top_rated_movies"
   ]
  },
  {
   "cell_type": "code",
   "execution_count": null,
   "metadata": {},
   "outputs": [],
   "source": []
  },
  {
   "cell_type": "code",
   "execution_count": null,
   "metadata": {},
   "outputs": [],
   "source": []
  }
 ],
 "metadata": {
  "kernelspec": {
   "display_name": "Python 3",
   "language": "python",
   "name": "python3"
  },
  "language_info": {
   "codemirror_mode": {
    "name": "ipython",
    "version": 3
   },
   "file_extension": ".py",
   "mimetype": "text/x-python",
   "name": "python",
   "nbconvert_exporter": "python",
   "pygments_lexer": "ipython3",
   "version": "3.12.1"
  }
 },
 "nbformat": 4,
 "nbformat_minor": 2
}
